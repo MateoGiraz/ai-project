{
 "cells": [
  {
   "cell_type": "markdown",
   "metadata": {},
   "source": [
    "Esta notebook contiene bloques de código útiles para realizar Q-learning en el entorno \"Continuous Mountain Car\""
   ]
  },
  {
   "cell_type": "code",
   "execution_count": 1,
   "metadata": {},
   "outputs": [],
   "source": [
    "from tqdm import tqdm\n",
    "import numpy as np\n",
    "import wandb\n",
    "import gym\n",
    "from car_model import Car\n",
    "from mountain_car_agent import MountainCarAgent"
   ]
  },
  {
   "cell_type": "code",
   "execution_count": 2,
   "metadata": {},
   "outputs": [],
   "source": [
    "from continuous_mountain_car_env_extended import ContinuousMountainCarEnvExtended\n",
    "\n",
    "# Cambiar render_mode a rgb_array para entrenar/testear\n",
    "env = ContinuousMountainCarEnvExtended(render_mode='rgb_array')"
   ]
  },
  {
   "cell_type": "code",
   "execution_count": 3,
   "metadata": {},
   "outputs": [],
   "source": [
    "x_bins = 20  # Number of bins for position\n",
    "vel_bins = 20  # Number of bins for velocity\n",
    "action_bins = 5  # Number of discrete actions to sample from\n",
    "model = Car(env, x_bins, vel_bins, action_bins)"
   ]
  },
  {
   "cell_type": "code",
   "execution_count": 4,
   "metadata": {},
   "outputs": [],
   "source": [
    "alpha = 0.1  # Learning rate\n",
    "gamma = 0.99  # Discount factor\n",
    "agent = MountainCarAgent(model, alpha, gamma)"
   ]
  },
  {
   "cell_type": "code",
   "execution_count": 5,
   "metadata": {},
   "outputs": [
    {
     "name": "stderr",
     "output_type": "stream",
     "text": [
      "Training Progress: 100%|██████████| 1000/1000 [00:04<00:00, 239.04episode/s, Episode Reward=-463]"
     ]
    },
    {
     "name": "stdout",
     "output_type": "stream",
     "text": [
      "Average training reward over 1000 episodes: -177.768\n"
     ]
    },
    {
     "name": "stderr",
     "output_type": "stream",
     "text": [
      "\n"
     ]
    }
   ],
   "source": [
    "# Train the agent\n",
    "num_training_episodes = 1000\n",
    "epsilon = 0.2\n",
    "average_training_rewards = agent.train(num_training_episodes, epsilon)\n",
    "print(f\"Average training reward over {num_training_episodes} episodes: {average_training_rewards}\")"
   ]
  },
  {
   "cell_type": "code",
   "execution_count": 6,
   "metadata": {},
   "outputs": [
    {
     "name": "stdout",
     "output_type": "stream",
     "text": [
      "Average evaluation reward over 100 episodes: -558.95\n"
     ]
    }
   ],
   "source": [
    "# Evaluate the agent\n",
    "num_evaluation_episodes = 100\n",
    "average_evaluation_rewards = agent.test(num_evaluation_episodes)\n",
    "print(f\"Average evaluation reward over {num_evaluation_episodes} episodes: {average_evaluation_rewards}\")"
   ]
  },
  {
   "cell_type": "markdown",
   "metadata": {},
   "source": [
    "Obtener el estado a partir de la observación"
   ]
  },
  {
   "cell_type": "code",
   "execution_count": 7,
   "metadata": {},
   "outputs": [
    {
     "name": "stderr",
     "output_type": "stream",
     "text": [
      "\u001b[34m\u001b[1mwandb\u001b[0m: Using wandb-core as the SDK backend.  Please refer to https://wandb.me/wandb-core for more information.\n",
      "\u001b[34m\u001b[1mwandb\u001b[0m: Currently logged in as: \u001b[33mmateogiraz27\u001b[0m (\u001b[33mmateogiraz27-ort\u001b[0m). Use \u001b[1m`wandb login --relogin`\u001b[0m to force relogin\n"
     ]
    },
    {
     "data": {
      "text/html": [
       "Tracking run with wandb version 0.18.7"
      ],
      "text/plain": [
       "<IPython.core.display.HTML object>"
      ]
     },
     "metadata": {},
     "output_type": "display_data"
    },
    {
     "data": {
      "text/html": [
       "Run data is saved locally in <code>/Users/mateogiraz/Documents/MountainCarContinuous (1)/car-continuous/wandb/run-20241119_232449-9udtvq46</code>"
      ],
      "text/plain": [
       "<IPython.core.display.HTML object>"
      ]
     },
     "metadata": {},
     "output_type": "display_data"
    },
    {
     "data": {
      "text/html": [
       "Syncing run <strong><a href='https://wandb.ai/mateogiraz27-ort/mountain_car/runs/9udtvq46' target=\"_blank\">balmy-waterfall-3</a></strong> to <a href='https://wandb.ai/mateogiraz27-ort/mountain_car' target=\"_blank\">Weights & Biases</a> (<a href='https://wandb.me/developer-guide' target=\"_blank\">docs</a>)<br/>"
      ],
      "text/plain": [
       "<IPython.core.display.HTML object>"
      ]
     },
     "metadata": {},
     "output_type": "display_data"
    },
    {
     "data": {
      "text/html": [
       " View project at <a href='https://wandb.ai/mateogiraz27-ort/mountain_car' target=\"_blank\">https://wandb.ai/mateogiraz27-ort/mountain_car</a>"
      ],
      "text/plain": [
       "<IPython.core.display.HTML object>"
      ]
     },
     "metadata": {},
     "output_type": "display_data"
    },
    {
     "data": {
      "text/html": [
       " View run at <a href='https://wandb.ai/mateogiraz27-ort/mountain_car/runs/9udtvq46' target=\"_blank\">https://wandb.ai/mateogiraz27-ort/mountain_car/runs/9udtvq46</a>"
      ],
      "text/plain": [
       "<IPython.core.display.HTML object>"
      ]
     },
     "metadata": {},
     "output_type": "display_data"
    },
    {
     "name": "stderr",
     "output_type": "stream",
     "text": [
      "Training Progress: 100%|██████████| 100/100 [00:00<00:00, 329.30episode/s, Episode Reward=-49]\n",
      "Training Progress: 100%|██████████| 100/100 [00:00<00:00, 372.89episode/s, Episode Reward=-113]\n",
      "Training Progress: 100%|██████████| 100/100 [00:00<00:00, 252.13episode/s, Episode Reward=-48]\n",
      "Training Progress: 100%|██████████| 100/100 [00:00<00:00, 460.10episode/s, Episode Reward=-55]\n",
      "Training Progress: 100%|██████████| 100/100 [00:00<00:00, 474.28episode/s, Episode Reward=-55]\n",
      "Training Progress: 100%|██████████| 100/100 [00:00<00:00, 373.43episode/s, Episode Reward=19] \n",
      "Training Progress: 100%|██████████| 100/100 [00:00<00:00, 471.71episode/s, Episode Reward=-47]\n",
      "Training Progress: 100%|██████████| 100/100 [00:00<00:00, 498.61episode/s, Episode Reward=23] \n",
      "Training Progress: 100%|██████████| 100/100 [00:00<00:00, 457.02episode/s, Episode Reward=8]  \n",
      "Training Progress: 100%|██████████| 100/100 [00:00<00:00, 491.00episode/s, Episode Reward=27]\n"
     ]
    }
   ],
   "source": [
    "wandb.init(project=\"mountain_car\",\n",
    "           config={\n",
    "               'x_bins': x_bins,\n",
    "               'vel_bins': vel_bins,\n",
    "               'action_bins': action_bins,\n",
    "               'alpha': alpha,\n",
    "               'gamma': gamma,\n",
    "               'epsilon': epsilon,\n",
    "           })\n",
    "\n",
    "epsilon_initial = epsilon\n",
    "for t in range(10):\n",
    "    train_value = agent.train(100, epsilon_initial)\n",
    "    eval_value = agent.test(30)\n",
    "    wandb.log({'trainValue': train_value, 'evalValue': eval_value, \"t\": t})\n",
    "    epsilon_initial *= 0.9  # Decay epsilon over iterations"
   ]
  }
 ],
 "metadata": {
  "kernelspec": {
   "display_name": "ai-project-yycSt0xa-py3.12",
   "language": "python",
   "name": "python3"
  },
  "language_info": {
   "codemirror_mode": {
    "name": "ipython",
    "version": 3
   },
   "file_extension": ".py",
   "mimetype": "text/x-python",
   "name": "python",
   "nbconvert_exporter": "python",
   "pygments_lexer": "ipython3",
   "version": "3.12.7"
  },
  "orig_nbformat": 4
 },
 "nbformat": 4,
 "nbformat_minor": 2
}
