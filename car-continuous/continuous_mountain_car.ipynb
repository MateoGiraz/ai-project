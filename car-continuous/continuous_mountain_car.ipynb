{
 "cells": [
  {
   "cell_type": "markdown",
   "metadata": {},
   "source": [
    "Esta notebook contiene bloques de código útiles para realizar Q-learning en el entorno \"Continuous Mountain Car\""
   ]
  },
  {
   "cell_type": "code",
   "execution_count": 22,
   "metadata": {},
   "outputs": [],
   "source": [
    "from tqdm import tqdm\n",
    "import numpy as np\n",
    "import wandb\n",
    "import gym\n",
    "from car_model import Car\n",
    "from mountain_car_agent import MountainCarAgent"
   ]
  },
  {
   "cell_type": "code",
   "execution_count": 23,
   "metadata": {},
   "outputs": [],
   "source": [
    "from continuous_mountain_car_env_extended import ContinuousMountainCarEnvExtended\n",
    "\n",
    "# Cambiar render_mode a rgb_array para entrenar/testear\n",
    "env = ContinuousMountainCarEnvExtended(render_mode='rgb_array')"
   ]
  },
  {
   "cell_type": "code",
   "execution_count": 24,
   "metadata": {},
   "outputs": [],
   "source": [
    "x_bins = 20  # Number of bins for position\n",
    "vel_bins = 20  # Number of bins for velocity\n",
    "action_bins = 5  # Number of discrete actions to sample from\n",
    "model = Car(env, x_bins, vel_bins, action_bins)"
   ]
  },
  {
   "cell_type": "code",
   "execution_count": 25,
   "metadata": {},
   "outputs": [],
   "source": [
    "alpha = 0.1  # Learning rate\n",
    "gamma = 0.99  # Discount factor\n",
    "agent = MountainCarAgent(model, alpha, gamma)"
   ]
  },
  {
   "cell_type": "code",
   "execution_count": 26,
   "metadata": {},
   "outputs": [
    {
     "name": "stderr",
     "output_type": "stream",
     "text": [
      "Training Progress:   0%|          | 0/1000 [00:00<?, ?episode/s]"
     ]
    },
    {
     "name": "stderr",
     "output_type": "stream",
     "text": [
      "Training Progress: 100%|██████████| 1000/1000 [00:03<00:00, 250.65episode/s, Episode Reward=-45]"
     ]
    },
    {
     "name": "stdout",
     "output_type": "stream",
     "text": [
      "Average training reward over 1000 episodes: -161.604\n"
     ]
    },
    {
     "name": "stderr",
     "output_type": "stream",
     "text": [
      "\n"
     ]
    }
   ],
   "source": [
    "# Train the agent\n",
    "num_training_episodes = 1000\n",
    "epsilon = 0.2\n",
    "average_training_rewards = agent.train(num_training_episodes, epsilon)\n",
    "print(f\"Average training reward over {num_training_episodes} episodes: {average_training_rewards}\")"
   ]
  },
  {
   "cell_type": "code",
   "execution_count": 27,
   "metadata": {},
   "outputs": [
    {
     "name": "stdout",
     "output_type": "stream",
     "text": [
      "Average evaluation reward over 100 episodes: -33.56\n"
     ]
    }
   ],
   "source": [
    "# Evaluate the agent\n",
    "num_evaluation_episodes = 100\n",
    "average_evaluation_rewards = agent.test(num_evaluation_episodes)\n",
    "print(f\"Average evaluation reward over {num_evaluation_episodes} episodes: {average_evaluation_rewards}\")"
   ]
  },
  {
   "cell_type": "markdown",
   "metadata": {},
   "source": [
    "Obtener el estado a partir de la observación"
   ]
  },
  {
   "cell_type": "code",
   "execution_count": 28,
   "metadata": {},
   "outputs": [
    {
     "name": "stderr",
     "output_type": "stream",
     "text": [
      "\u001b[34m\u001b[1mwandb\u001b[0m: Using wandb-core as the SDK backend.  Please refer to https://wandb.me/wandb-core for more information.\n",
      "\u001b[34m\u001b[1mwandb\u001b[0m: Currently logged in as: \u001b[33mmateogiraz27\u001b[0m (\u001b[33mmateogiraz27-ort\u001b[0m). Use \u001b[1m`wandb login --relogin`\u001b[0m to force relogin\n"
     ]
    },
    {
     "data": {
      "text/html": [
       "Tracking run with wandb version 0.18.7"
      ],
      "text/plain": [
       "<IPython.core.display.HTML object>"
      ]
     },
     "metadata": {},
     "output_type": "display_data"
    },
    {
     "data": {
      "text/html": [
       "Run data is saved locally in <code>/Users/mateogiraz/Documents/MountainCarContinuous (1)/car-continuous/wandb/run-20241213_010839-mzk13lz1</code>"
      ],
      "text/plain": [
       "<IPython.core.display.HTML object>"
      ]
     },
     "metadata": {},
     "output_type": "display_data"
    },
    {
     "data": {
      "text/html": [
       "Syncing run <strong><a href='https://wandb.ai/mateogiraz27-ort/mountain_car/runs/mzk13lz1' target=\"_blank\">glamorous-butterfly-512</a></strong> to <a href='https://wandb.ai/mateogiraz27-ort/mountain_car' target=\"_blank\">Weights & Biases</a> (<a href='https://wandb.me/developer-guide' target=\"_blank\">docs</a>)<br/>"
      ],
      "text/plain": [
       "<IPython.core.display.HTML object>"
      ]
     },
     "metadata": {},
     "output_type": "display_data"
    },
    {
     "data": {
      "text/html": [
       " View project at <a href='https://wandb.ai/mateogiraz27-ort/mountain_car' target=\"_blank\">https://wandb.ai/mateogiraz27-ort/mountain_car</a>"
      ],
      "text/plain": [
       "<IPython.core.display.HTML object>"
      ]
     },
     "metadata": {},
     "output_type": "display_data"
    },
    {
     "data": {
      "text/html": [
       " View run at <a href='https://wandb.ai/mateogiraz27-ort/mountain_car/runs/mzk13lz1' target=\"_blank\">https://wandb.ai/mateogiraz27-ort/mountain_car/runs/mzk13lz1</a>"
      ],
      "text/plain": [
       "<IPython.core.display.HTML object>"
      ]
     },
     "metadata": {},
     "output_type": "display_data"
    },
    {
     "name": "stderr",
     "output_type": "stream",
     "text": [
      "Training Progress: 100%|██████████| 100/100 [00:00<00:00, 266.57episode/s, Episode Reward=-152]\n",
      "Training Progress: 100%|██████████| 100/100 [00:00<00:00, 230.79episode/s, Episode Reward=-52] \n",
      "Training Progress: 100%|██████████| 100/100 [00:00<00:00, 309.43episode/s, Episode Reward=-84]\n",
      "Training Progress: 100%|██████████| 100/100 [00:00<00:00, 385.02episode/s, Episode Reward=-63]\n",
      "Training Progress: 100%|██████████| 100/100 [00:00<00:00, 224.38episode/s, Episode Reward=-184]\n",
      "Training Progress: 100%|██████████| 100/100 [00:00<00:00, 332.26episode/s, Episode Reward=-46] \n",
      "Training Progress: 100%|██████████| 100/100 [00:00<00:00, 238.91episode/s, Episode Reward=-82]\n",
      "Training Progress: 100%|██████████| 100/100 [00:00<00:00, 344.05episode/s, Episode Reward=-46]\n",
      "Training Progress: 100%|██████████| 100/100 [00:00<00:00, 310.74episode/s, Episode Reward=-46]\n",
      "Training Progress: 100%|██████████| 100/100 [00:00<00:00, 307.73episode/s, Episode Reward=-40]\n"
     ]
    }
   ],
   "source": [
    "wandb.init(project=\"mountain_car\",\n",
    "           config={\n",
    "               'x_bins': x_bins,\n",
    "               'vel_bins': vel_bins,\n",
    "               'action_bins': action_bins,\n",
    "               'alpha': alpha,\n",
    "               'gamma': gamma,\n",
    "               'epsilon': epsilon,\n",
    "           })\n",
    "    \n",
    "epsilon_initial = epsilon\n",
    "for t in range(10):\n",
    "    train_value = agent.train(100, epsilon_initial)\n",
    "    eval_value = agent.test(30)\n",
    "    wandb.log({'train_value': train_value, 'eval_value': eval_value, \"t\": t})\n",
    "    epsilon_initial *= 0.9  # Decay epsilon over iterations"
   ]
  },
  {
   "cell_type": "code",
   "execution_count": 29,
   "metadata": {},
   "outputs": [
    {
     "name": "stdout",
     "output_type": "stream",
     "text": [
      "Create sweep with ID: kvt4c6r7\n",
      "Sweep URL: https://wandb.ai/mateogiraz27-ort/mountain_car/sweeps/kvt4c6r7\n"
     ]
    }
   ],
   "source": [
    "import wandb\n",
    "from car_model import Car\n",
    "from mountain_car_agent import MountainCarAgent\n",
    "from continuous_mountain_car_env_extended import ContinuousMountainCarEnvExtended\n",
    "\n",
    "def sweep():\n",
    "    wandb.init()\n",
    "    config = wandb.config\n",
    "\n",
    "    env = ContinuousMountainCarEnvExtended(render_mode='rgb_array')\n",
    "    model = Car(env, config.x_bins, config.vel_bins, config.action_bins)\n",
    "    agent = MountainCarAgent(model, config.alpha, config.gamma)\n",
    "\n",
    "    base_epsilon = config.epsilon\n",
    "\n",
    "    for t in range(12):\n",
    "        train_value = agent.train(500, base_epsilon)\n",
    "        test_value = agent.test(50)\n",
    "        wandb.log({\"train_value\": train_value, \"test_value\": test_value, \"t\" : t})\n",
    "        base_epsilon *= (10-t)/10\n",
    "\n",
    "sweep_config = {\n",
    "        'name': 'bayesian-sweep-epsilon-decay',\n",
    "        'method': 'bayes',\n",
    "        'metric': {\n",
    "            'name': 'test_value',\n",
    "            'goal': 'maximize'\n",
    "        },\n",
    "        'parameters': {\n",
    "            'alpha': {\n",
    "                'distribution': 'uniform',\n",
    "                'min': 0.5,\n",
    "                'max': 0.99\n",
    "            },\n",
    "            'epsilon': {\n",
    "                'distribution': 'uniform',\n",
    "                'min': 0.5,\n",
    "                'max': 0.99\n",
    "            },\n",
    "            'gamma': {\n",
    "                'distribution': 'uniform',\n",
    "                'min': 0.5,\n",
    "                'max': 0.99\n",
    "            },\n",
    "            'action_bins': {\n",
    "                'distribution': 'int_uniform',\n",
    "                'max': 100,\n",
    "                'min': 10\n",
    "            },\n",
    "            'vel_bins': {\n",
    "                'distribution': 'int_uniform',\n",
    "                'max': 100,\n",
    "                'min': 10\n",
    "            },\n",
    "            'x_bins': {\n",
    "                'distribution': 'int_uniform',\n",
    "                'max': 100,\n",
    "                'min': 10\n",
    "            }\n",
    "        }\n",
    "    }\n",
    "entity = \"mateogiraz27-ort\"\n",
    "project = \"mountain_car\"\n",
    "sweep_id = wandb.sweep(sweep_config, entity=entity, project=project)"
   ]
  },
  {
   "cell_type": "code",
   "execution_count": 30,
   "metadata": {},
   "outputs": [
    {
     "name": "stderr",
     "output_type": "stream",
     "text": [
      "\u001b[34m\u001b[1mwandb\u001b[0m: \u001b[33mWARNING\u001b[0m Calling wandb.login() after wandb.init() has no effect.\n",
      "\u001b[34m\u001b[1mwandb\u001b[0m: Agent Starting Run: mtuh3h6m with config:\n",
      "\u001b[34m\u001b[1mwandb\u001b[0m: \taction_bins: 10\n",
      "\u001b[34m\u001b[1mwandb\u001b[0m: \talpha: 0.5349624470038623\n",
      "\u001b[34m\u001b[1mwandb\u001b[0m: \tepsilon: 0.5111950360798202\n",
      "\u001b[34m\u001b[1mwandb\u001b[0m: \tgamma: 0.7586095428869182\n",
      "\u001b[34m\u001b[1mwandb\u001b[0m: \tvel_bins: 47\n",
      "\u001b[34m\u001b[1mwandb\u001b[0m: \tx_bins: 84\n"
     ]
    },
    {
     "name": "stdout",
     "output_type": "stream",
     "text": [
      "\u001b[1;34mwandb\u001b[0m: 🚀 View run \u001b[33mglamorous-butterfly-512\u001b[0m at: \u001b[34mhttps://wandb.ai/mateogiraz27-ort/mountain_car/runs/mzk13lz1\u001b[0m\n",
      "\u001b[1;34mwandb\u001b[0m: Find logs at: \u001b[1;35mwandb/run-20241213_010839-mzk13lz1/logs\u001b[0m\n"
     ]
    },
    {
     "data": {
      "text/html": [
       "Tracking run with wandb version 0.18.7"
      ],
      "text/plain": [
       "<IPython.core.display.HTML object>"
      ]
     },
     "metadata": {},
     "output_type": "display_data"
    },
    {
     "data": {
      "text/html": [
       "Run data is saved locally in <code>/Users/mateogiraz/Documents/MountainCarContinuous (1)/car-continuous/wandb/run-20241213_010849-mtuh3h6m</code>"
      ],
      "text/plain": [
       "<IPython.core.display.HTML object>"
      ]
     },
     "metadata": {},
     "output_type": "display_data"
    },
    {
     "data": {
      "text/html": [
       "Syncing run <strong><a href='https://wandb.ai/mateogiraz27-ort/mountain_car/runs/mtuh3h6m' target=\"_blank\">chocolate-sweep-101</a></strong> to <a href='https://wandb.ai/mateogiraz27-ort/mountain_car' target=\"_blank\">Weights & Biases</a> (<a href='https://wandb.me/developer-guide' target=\"_blank\">docs</a>)<br/>Sweep page: <a href='https://wandb.ai/mateogiraz27-ort/mountain_car/sweeps/mgvkiiaf' target=\"_blank\">https://wandb.ai/mateogiraz27-ort/mountain_car/sweeps/mgvkiiaf</a>"
      ],
      "text/plain": [
       "<IPython.core.display.HTML object>"
      ]
     },
     "metadata": {},
     "output_type": "display_data"
    },
    {
     "data": {
      "text/html": [
       " View project at <a href='https://wandb.ai/mateogiraz27-ort/mountain_car' target=\"_blank\">https://wandb.ai/mateogiraz27-ort/mountain_car</a>"
      ],
      "text/plain": [
       "<IPython.core.display.HTML object>"
      ]
     },
     "metadata": {},
     "output_type": "display_data"
    },
    {
     "data": {
      "text/html": [
       " View sweep at <a href='https://wandb.ai/mateogiraz27-ort/mountain_car/sweeps/mgvkiiaf' target=\"_blank\">https://wandb.ai/mateogiraz27-ort/mountain_car/sweeps/mgvkiiaf</a>"
      ],
      "text/plain": [
       "<IPython.core.display.HTML object>"
      ]
     },
     "metadata": {},
     "output_type": "display_data"
    },
    {
     "data": {
      "text/html": [
       " View run at <a href='https://wandb.ai/mateogiraz27-ort/mountain_car/runs/mtuh3h6m' target=\"_blank\">https://wandb.ai/mateogiraz27-ort/mountain_car/runs/mtuh3h6m</a>"
      ],
      "text/plain": [
       "<IPython.core.display.HTML object>"
      ]
     },
     "metadata": {},
     "output_type": "display_data"
    },
    {
     "name": "stderr",
     "output_type": "stream",
     "text": [
      "Training Progress: 100%|██████████| 500/500 [00:05<00:00, 89.63episode/s, Episode Reward=-757]  \n",
      "Training Progress: 100%|██████████| 500/500 [00:03<00:00, 160.53episode/s, Episode Reward=-256]\n",
      "Training Progress: 100%|██████████| 500/500 [00:02<00:00, 203.98episode/s, Episode Reward=-234]\n",
      "Training Progress: 100%|██████████| 500/500 [00:01<00:00, 252.45episode/s, Episode Reward=-148]\n",
      "Training Progress: 100%|██████████| 500/500 [00:01<00:00, 274.79episode/s, Episode Reward=-67] \n",
      "Training Progress: 100%|██████████| 500/500 [00:01<00:00, 323.89episode/s, Episode Reward=-50] \n",
      "Training Progress: 100%|██████████| 500/500 [00:01<00:00, 325.27episode/s, Episode Reward=-10] \n",
      "Training Progress: 100%|██████████| 500/500 [00:01<00:00, 311.60episode/s, Episode Reward=-7]  \n",
      "Training Progress: 100%|██████████| 500/500 [00:01<00:00, 324.06episode/s, Episode Reward=-43] \n",
      "Training Progress: 100%|██████████| 500/500 [00:01<00:00, 402.48episode/s, Episode Reward=-64] \n",
      "Training Progress: 100%|██████████| 500/500 [00:01<00:00, 337.62episode/s, Episode Reward=-54]\n",
      "Training Progress: 100%|██████████| 500/500 [00:01<00:00, 324.71episode/s, Episode Reward=-92] \n"
     ]
    },
    {
     "data": {
      "text/html": [
       "\n",
       "    <style>\n",
       "        .wandb-row {\n",
       "            display: flex;\n",
       "            flex-direction: row;\n",
       "            flex-wrap: wrap;\n",
       "            justify-content: flex-start;\n",
       "            width: 100%;\n",
       "        }\n",
       "        .wandb-col {\n",
       "            display: flex;\n",
       "            flex-direction: column;\n",
       "            flex-basis: 100%;\n",
       "            flex: 1;\n",
       "            padding: 10px;\n",
       "        }\n",
       "    </style>\n",
       "<div class=\"wandb-row\"><div class=\"wandb-col\"><h3>Run history:</h3><br/><table class=\"wandb\"><tr><td>t</td><td>▁▂▂▃▄▄▅▅▆▇▇█</td></tr><tr><td>test_value</td><td>▄▄▇▄███▁▃███</td></tr><tr><td>train_value</td><td>▁▅▆▇▇███████</td></tr></table><br/></div><div class=\"wandb-col\"><h3>Run summary:</h3><br/><table class=\"wandb\"><tr><td>t</td><td>11</td></tr><tr><td>test_value</td><td>-33.06</td></tr><tr><td>train_value</td><td>-48.896</td></tr></table><br/></div></div>"
      ],
      "text/plain": [
       "<IPython.core.display.HTML object>"
      ]
     },
     "metadata": {},
     "output_type": "display_data"
    },
    {
     "data": {
      "text/html": [
       " View run <strong style=\"color:#cdcd00\">chocolate-sweep-101</strong> at: <a href='https://wandb.ai/mateogiraz27-ort/mountain_car/runs/mtuh3h6m' target=\"_blank\">https://wandb.ai/mateogiraz27-ort/mountain_car/runs/mtuh3h6m</a><br/> View project at: <a href='https://wandb.ai/mateogiraz27-ort/mountain_car' target=\"_blank\">https://wandb.ai/mateogiraz27-ort/mountain_car</a><br/>Synced 5 W&B file(s), 0 media file(s), 0 artifact file(s) and 0 other file(s)"
      ],
      "text/plain": [
       "<IPython.core.display.HTML object>"
      ]
     },
     "metadata": {},
     "output_type": "display_data"
    },
    {
     "data": {
      "text/html": [
       "Find logs at: <code>./wandb/run-20241213_010849-mtuh3h6m/logs</code>"
      ],
      "text/plain": [
       "<IPython.core.display.HTML object>"
      ]
     },
     "metadata": {},
     "output_type": "display_data"
    },
    {
     "name": "stderr",
     "output_type": "stream",
     "text": [
      "\u001b[34m\u001b[1mwandb\u001b[0m: Agent Starting Run: fga0p2i5 with config:\n",
      "\u001b[34m\u001b[1mwandb\u001b[0m: \taction_bins: 17\n",
      "\u001b[34m\u001b[1mwandb\u001b[0m: \talpha: 0.6853138323766247\n",
      "\u001b[34m\u001b[1mwandb\u001b[0m: \tepsilon: 0.5109640314754463\n",
      "\u001b[34m\u001b[1mwandb\u001b[0m: \tgamma: 0.7399405569303439\n",
      "\u001b[34m\u001b[1mwandb\u001b[0m: \tvel_bins: 75\n",
      "\u001b[34m\u001b[1mwandb\u001b[0m: \tx_bins: 87\n"
     ]
    },
    {
     "data": {
      "text/html": [
       "Tracking run with wandb version 0.18.7"
      ],
      "text/plain": [
       "<IPython.core.display.HTML object>"
      ]
     },
     "metadata": {},
     "output_type": "display_data"
    },
    {
     "data": {
      "text/html": [
       "Run data is saved locally in <code>/Users/mateogiraz/Documents/MountainCarContinuous (1)/car-continuous/wandb/run-20241213_010922-fga0p2i5</code>"
      ],
      "text/plain": [
       "<IPython.core.display.HTML object>"
      ]
     },
     "metadata": {},
     "output_type": "display_data"
    },
    {
     "data": {
      "text/html": [
       "Syncing run <strong><a href='https://wandb.ai/mateogiraz27-ort/mountain_car/runs/fga0p2i5' target=\"_blank\">classic-sweep-102</a></strong> to <a href='https://wandb.ai/mateogiraz27-ort/mountain_car' target=\"_blank\">Weights & Biases</a> (<a href='https://wandb.me/developer-guide' target=\"_blank\">docs</a>)<br/>Sweep page: <a href='https://wandb.ai/mateogiraz27-ort/mountain_car/sweeps/mgvkiiaf' target=\"_blank\">https://wandb.ai/mateogiraz27-ort/mountain_car/sweeps/mgvkiiaf</a>"
      ],
      "text/plain": [
       "<IPython.core.display.HTML object>"
      ]
     },
     "metadata": {},
     "output_type": "display_data"
    },
    {
     "data": {
      "text/html": [
       " View project at <a href='https://wandb.ai/mateogiraz27-ort/mountain_car' target=\"_blank\">https://wandb.ai/mateogiraz27-ort/mountain_car</a>"
      ],
      "text/plain": [
       "<IPython.core.display.HTML object>"
      ]
     },
     "metadata": {},
     "output_type": "display_data"
    },
    {
     "data": {
      "text/html": [
       " View sweep at <a href='https://wandb.ai/mateogiraz27-ort/mountain_car/sweeps/mgvkiiaf' target=\"_blank\">https://wandb.ai/mateogiraz27-ort/mountain_car/sweeps/mgvkiiaf</a>"
      ],
      "text/plain": [
       "<IPython.core.display.HTML object>"
      ]
     },
     "metadata": {},
     "output_type": "display_data"
    },
    {
     "data": {
      "text/html": [
       " View run at <a href='https://wandb.ai/mateogiraz27-ort/mountain_car/runs/fga0p2i5' target=\"_blank\">https://wandb.ai/mateogiraz27-ort/mountain_car/runs/fga0p2i5</a>"
      ],
      "text/plain": [
       "<IPython.core.display.HTML object>"
      ]
     },
     "metadata": {},
     "output_type": "display_data"
    },
    {
     "name": "stderr",
     "output_type": "stream",
     "text": [
      "Training Progress: 100%|██████████| 500/500 [00:06<00:00, 80.61episode/s, Episode Reward=-1000]\n",
      "Training Progress: 100%|██████████| 500/500 [00:04<00:00, 104.52episode/s, Episode Reward=-428] \n",
      "Training Progress: 100%|██████████| 500/500 [00:03<00:00, 141.80episode/s, Episode Reward=-525] \n",
      "Training Progress: 100%|██████████| 500/500 [00:03<00:00, 161.34episode/s, Episode Reward=-289]\n",
      "Training Progress: 100%|██████████| 500/500 [00:02<00:00, 200.12episode/s, Episode Reward=-172]\n",
      "Training Progress: 100%|██████████| 500/500 [00:02<00:00, 220.01episode/s, Episode Reward=-149]\n",
      "Training Progress: 100%|██████████| 500/500 [00:02<00:00, 244.46episode/s, Episode Reward=-156]\n",
      "Training Progress: 100%|██████████| 500/500 [00:01<00:00, 256.95episode/s, Episode Reward=-103]\n",
      "Training Progress: 100%|██████████| 500/500 [00:01<00:00, 278.53episode/s, Episode Reward=-99] \n",
      "Training Progress: 100%|██████████| 500/500 [00:01<00:00, 284.96episode/s, Episode Reward=-89] \n",
      "Training Progress: 100%|██████████| 500/500 [00:01<00:00, 287.64episode/s, Episode Reward=-53] \n",
      "Training Progress: 100%|██████████| 500/500 [00:01<00:00, 279.01episode/s, Episode Reward=-92] \n"
     ]
    },
    {
     "data": {
      "text/html": [
       "\n",
       "    <style>\n",
       "        .wandb-row {\n",
       "            display: flex;\n",
       "            flex-direction: row;\n",
       "            flex-wrap: wrap;\n",
       "            justify-content: flex-start;\n",
       "            width: 100%;\n",
       "        }\n",
       "        .wandb-col {\n",
       "            display: flex;\n",
       "            flex-direction: column;\n",
       "            flex-basis: 100%;\n",
       "            flex: 1;\n",
       "            padding: 10px;\n",
       "        }\n",
       "    </style>\n",
       "<div class=\"wandb-row\"><div class=\"wandb-col\"><h3>Run history:</h3><br/><table class=\"wandb\"><tr><td>t</td><td>▁▂▂▃▄▄▅▅▆▇▇█</td></tr><tr><td>test_value</td><td>▁▇▇▇▆████▇██</td></tr><tr><td>train_value</td><td>▁▄▅▆▇▇██████</td></tr></table><br/></div><div class=\"wandb-col\"><h3>Run summary:</h3><br/><table class=\"wandb\"><tr><td>t</td><td>11</td></tr><tr><td>test_value</td><td>-84.64</td></tr><tr><td>train_value</td><td>-87.74</td></tr></table><br/></div></div>"
      ],
      "text/plain": [
       "<IPython.core.display.HTML object>"
      ]
     },
     "metadata": {},
     "output_type": "display_data"
    },
    {
     "data": {
      "text/html": [
       " View run <strong style=\"color:#cdcd00\">classic-sweep-102</strong> at: <a href='https://wandb.ai/mateogiraz27-ort/mountain_car/runs/fga0p2i5' target=\"_blank\">https://wandb.ai/mateogiraz27-ort/mountain_car/runs/fga0p2i5</a><br/> View project at: <a href='https://wandb.ai/mateogiraz27-ort/mountain_car' target=\"_blank\">https://wandb.ai/mateogiraz27-ort/mountain_car</a><br/>Synced 5 W&B file(s), 0 media file(s), 0 artifact file(s) and 0 other file(s)"
      ],
      "text/plain": [
       "<IPython.core.display.HTML object>"
      ]
     },
     "metadata": {},
     "output_type": "display_data"
    },
    {
     "data": {
      "text/html": [
       "Find logs at: <code>./wandb/run-20241213_010922-fga0p2i5/logs</code>"
      ],
      "text/plain": [
       "<IPython.core.display.HTML object>"
      ]
     },
     "metadata": {},
     "output_type": "display_data"
    },
    {
     "name": "stderr",
     "output_type": "stream",
     "text": [
      "\u001b[34m\u001b[1mwandb\u001b[0m: Agent Starting Run: gtucxebv with config:\n",
      "\u001b[34m\u001b[1mwandb\u001b[0m: \taction_bins: 13\n",
      "\u001b[34m\u001b[1mwandb\u001b[0m: \talpha: 0.5288530799749362\n",
      "\u001b[34m\u001b[1mwandb\u001b[0m: \tepsilon: 0.9754818270101902\n",
      "\u001b[34m\u001b[1mwandb\u001b[0m: \tgamma: 0.5567815836172685\n",
      "\u001b[34m\u001b[1mwandb\u001b[0m: \tvel_bins: 87\n",
      "\u001b[34m\u001b[1mwandb\u001b[0m: \tx_bins: 26\n"
     ]
    },
    {
     "data": {
      "text/html": [
       "Tracking run with wandb version 0.18.7"
      ],
      "text/plain": [
       "<IPython.core.display.HTML object>"
      ]
     },
     "metadata": {},
     "output_type": "display_data"
    },
    {
     "data": {
      "text/html": [
       "Run data is saved locally in <code>/Users/mateogiraz/Documents/MountainCarContinuous (1)/car-continuous/wandb/run-20241213_011004-gtucxebv</code>"
      ],
      "text/plain": [
       "<IPython.core.display.HTML object>"
      ]
     },
     "metadata": {},
     "output_type": "display_data"
    },
    {
     "data": {
      "text/html": [
       "Syncing run <strong><a href='https://wandb.ai/mateogiraz27-ort/mountain_car/runs/gtucxebv' target=\"_blank\">glorious-sweep-103</a></strong> to <a href='https://wandb.ai/mateogiraz27-ort/mountain_car' target=\"_blank\">Weights & Biases</a> (<a href='https://wandb.me/developer-guide' target=\"_blank\">docs</a>)<br/>Sweep page: <a href='https://wandb.ai/mateogiraz27-ort/mountain_car/sweeps/mgvkiiaf' target=\"_blank\">https://wandb.ai/mateogiraz27-ort/mountain_car/sweeps/mgvkiiaf</a>"
      ],
      "text/plain": [
       "<IPython.core.display.HTML object>"
      ]
     },
     "metadata": {},
     "output_type": "display_data"
    },
    {
     "data": {
      "text/html": [
       " View project at <a href='https://wandb.ai/mateogiraz27-ort/mountain_car' target=\"_blank\">https://wandb.ai/mateogiraz27-ort/mountain_car</a>"
      ],
      "text/plain": [
       "<IPython.core.display.HTML object>"
      ]
     },
     "metadata": {},
     "output_type": "display_data"
    },
    {
     "data": {
      "text/html": [
       " View sweep at <a href='https://wandb.ai/mateogiraz27-ort/mountain_car/sweeps/mgvkiiaf' target=\"_blank\">https://wandb.ai/mateogiraz27-ort/mountain_car/sweeps/mgvkiiaf</a>"
      ],
      "text/plain": [
       "<IPython.core.display.HTML object>"
      ]
     },
     "metadata": {},
     "output_type": "display_data"
    },
    {
     "data": {
      "text/html": [
       " View run at <a href='https://wandb.ai/mateogiraz27-ort/mountain_car/runs/gtucxebv' target=\"_blank\">https://wandb.ai/mateogiraz27-ort/mountain_car/runs/gtucxebv</a>"
      ],
      "text/plain": [
       "<IPython.core.display.HTML object>"
      ]
     },
     "metadata": {},
     "output_type": "display_data"
    },
    {
     "name": "stderr",
     "output_type": "stream",
     "text": [
      "Training Progress: 100%|██████████| 500/500 [00:06<00:00, 81.37episode/s, Episode Reward=-1000]\n",
      "Training Progress: 100%|██████████| 500/500 [00:05<00:00, 84.62episode/s, Episode Reward=-1000]\n",
      "Training Progress: 100%|██████████| 500/500 [00:06<00:00, 78.87episode/s, Episode Reward=-1000]\n",
      "Training Progress: 100%|██████████| 500/500 [00:04<00:00, 117.30episode/s, Episode Reward=-501] \n",
      "Training Progress: 100%|██████████| 500/500 [00:03<00:00, 156.76episode/s, Episode Reward=-181]\n",
      "Training Progress:  66%|██████▌   | 328/500 [00:01<00:00, 221.51episode/s, Episode Reward=-233]\u001b[34m\u001b[1mwandb\u001b[0m: Ctrl + C detected. Stopping sweep.\n",
      "Training Progress:  73%|███████▎  | 366/500 [00:01<00:00, 203.13episode/s, Episode Reward=-128]"
     ]
    },
    {
     "name": "stdout",
     "output_type": "stream",
     "text": [
      "Error in callback <bound method _WandbInit._pause_backend of <wandb.sdk.wandb_init._WandbInit object at 0x1081f8080>> (for post_run_cell), with arguments args (<ExecutionResult object at 10ffd8710, execution_count=30 error_before_exec=None error_in_exec=None info=<ExecutionInfo object at 10ffd8e30, raw_cell=\"sweep_id = \"mgvkiiaf\"\n",
      "wandb.agent(sweep_id, functi..\" store_history=True silent=False shell_futures=True cell_id=vscode-notebook-cell:/Users/mateogiraz/Documents/MountainCarContinuous%20%281%29/car-continuous/continuous_mountain_car.ipynb#X13sZmlsZQ%3D%3D> result=None>,),kwargs {}:\n"
     ]
    },
    {
     "name": "stderr",
     "output_type": "stream",
     "text": [
      "Training Progress: 100%|██████████| 500/500 [00:02<00:00, 213.21episode/s, Episode Reward=-99] \n",
      "Training Progress:   6%|▌         | 31/500 [00:00<00:02, 221.39episode/s, Episode Reward=-80] "
     ]
    },
    {
     "ename": "BrokenPipeError",
     "evalue": "[Errno 32] Broken pipe",
     "output_type": "error",
     "traceback": [
      "\u001b[0;31m---------------------------------------------------------------------------\u001b[0m",
      "\u001b[0;31mBrokenPipeError\u001b[0m                           Traceback (most recent call last)",
      "File \u001b[0;32m~/Library/Caches/pypoetry/virtualenvs/ai-project-yycSt0xa-py3.12/lib/python3.12/site-packages/wandb/sdk/wandb_init.py:445\u001b[0m, in \u001b[0;36m_WandbInit._pause_backend\u001b[0;34m(self, *args, **kwargs)\u001b[0m\n\u001b[1;32m    443\u001b[0m \u001b[38;5;28;01mif\u001b[39;00m \u001b[38;5;28mself\u001b[39m\u001b[38;5;241m.\u001b[39mbackend\u001b[38;5;241m.\u001b[39minterface \u001b[38;5;129;01mis\u001b[39;00m \u001b[38;5;129;01mnot\u001b[39;00m \u001b[38;5;28;01mNone\u001b[39;00m:\n\u001b[1;32m    444\u001b[0m     logger\u001b[38;5;241m.\u001b[39minfo(\u001b[38;5;124m\"\u001b[39m\u001b[38;5;124mpausing backend\u001b[39m\u001b[38;5;124m\"\u001b[39m)  \u001b[38;5;66;03m# type: ignore\u001b[39;00m\n\u001b[0;32m--> 445\u001b[0m     \u001b[38;5;28;43mself\u001b[39;49m\u001b[38;5;241;43m.\u001b[39;49m\u001b[43mbackend\u001b[49m\u001b[38;5;241;43m.\u001b[39;49m\u001b[43minterface\u001b[49m\u001b[38;5;241;43m.\u001b[39;49m\u001b[43mpublish_pause\u001b[49m\u001b[43m(\u001b[49m\u001b[43m)\u001b[49m\n",
      "File \u001b[0;32m~/Library/Caches/pypoetry/virtualenvs/ai-project-yycSt0xa-py3.12/lib/python3.12/site-packages/wandb/sdk/interface/interface.py:729\u001b[0m, in \u001b[0;36mInterfaceBase.publish_pause\u001b[0;34m(self)\u001b[0m\n\u001b[1;32m    727\u001b[0m \u001b[38;5;28;01mdef\u001b[39;00m \u001b[38;5;21mpublish_pause\u001b[39m(\u001b[38;5;28mself\u001b[39m) \u001b[38;5;241m-\u001b[39m\u001b[38;5;241m>\u001b[39m \u001b[38;5;28;01mNone\u001b[39;00m:\n\u001b[1;32m    728\u001b[0m     pause \u001b[38;5;241m=\u001b[39m pb\u001b[38;5;241m.\u001b[39mPauseRequest()\n\u001b[0;32m--> 729\u001b[0m     \u001b[38;5;28;43mself\u001b[39;49m\u001b[38;5;241;43m.\u001b[39;49m\u001b[43m_publish_pause\u001b[49m\u001b[43m(\u001b[49m\u001b[43mpause\u001b[49m\u001b[43m)\u001b[49m\n",
      "File \u001b[0;32m~/Library/Caches/pypoetry/virtualenvs/ai-project-yycSt0xa-py3.12/lib/python3.12/site-packages/wandb/sdk/interface/interface_shared.py:359\u001b[0m, in \u001b[0;36mInterfaceShared._publish_pause\u001b[0;34m(self, pause)\u001b[0m\n\u001b[1;32m    357\u001b[0m \u001b[38;5;28;01mdef\u001b[39;00m \u001b[38;5;21m_publish_pause\u001b[39m(\u001b[38;5;28mself\u001b[39m, pause: pb\u001b[38;5;241m.\u001b[39mPauseRequest) \u001b[38;5;241m-\u001b[39m\u001b[38;5;241m>\u001b[39m \u001b[38;5;28;01mNone\u001b[39;00m:\n\u001b[1;32m    358\u001b[0m     rec \u001b[38;5;241m=\u001b[39m \u001b[38;5;28mself\u001b[39m\u001b[38;5;241m.\u001b[39m_make_request(pause\u001b[38;5;241m=\u001b[39mpause)\n\u001b[0;32m--> 359\u001b[0m     \u001b[38;5;28;43mself\u001b[39;49m\u001b[38;5;241;43m.\u001b[39;49m\u001b[43m_publish\u001b[49m\u001b[43m(\u001b[49m\u001b[43mrec\u001b[49m\u001b[43m)\u001b[49m\n",
      "File \u001b[0;32m~/Library/Caches/pypoetry/virtualenvs/ai-project-yycSt0xa-py3.12/lib/python3.12/site-packages/wandb/sdk/interface/interface_sock.py:51\u001b[0m, in \u001b[0;36mInterfaceSock._publish\u001b[0;34m(self, record, local)\u001b[0m\n\u001b[1;32m     49\u001b[0m \u001b[38;5;28;01mdef\u001b[39;00m \u001b[38;5;21m_publish\u001b[39m(\u001b[38;5;28mself\u001b[39m, record: \u001b[38;5;124m\"\u001b[39m\u001b[38;5;124mpb.Record\u001b[39m\u001b[38;5;124m\"\u001b[39m, local: Optional[\u001b[38;5;28mbool\u001b[39m] \u001b[38;5;241m=\u001b[39m \u001b[38;5;28;01mNone\u001b[39;00m) \u001b[38;5;241m-\u001b[39m\u001b[38;5;241m>\u001b[39m \u001b[38;5;28;01mNone\u001b[39;00m:\n\u001b[1;32m     50\u001b[0m     \u001b[38;5;28mself\u001b[39m\u001b[38;5;241m.\u001b[39m_assign(record)\n\u001b[0;32m---> 51\u001b[0m     \u001b[38;5;28;43mself\u001b[39;49m\u001b[38;5;241;43m.\u001b[39;49m\u001b[43m_sock_client\u001b[49m\u001b[38;5;241;43m.\u001b[39;49m\u001b[43msend_record_publish\u001b[49m\u001b[43m(\u001b[49m\u001b[43mrecord\u001b[49m\u001b[43m)\u001b[49m\n",
      "File \u001b[0;32m~/Library/Caches/pypoetry/virtualenvs/ai-project-yycSt0xa-py3.12/lib/python3.12/site-packages/wandb/sdk/lib/sock_client.py:222\u001b[0m, in \u001b[0;36mSockClient.send_record_publish\u001b[0;34m(self, record)\u001b[0m\n\u001b[1;32m    220\u001b[0m server_req \u001b[38;5;241m=\u001b[39m spb\u001b[38;5;241m.\u001b[39mServerRequest()\n\u001b[1;32m    221\u001b[0m server_req\u001b[38;5;241m.\u001b[39mrecord_publish\u001b[38;5;241m.\u001b[39mCopyFrom(record)\n\u001b[0;32m--> 222\u001b[0m \u001b[38;5;28;43mself\u001b[39;49m\u001b[38;5;241;43m.\u001b[39;49m\u001b[43msend_server_request\u001b[49m\u001b[43m(\u001b[49m\u001b[43mserver_req\u001b[49m\u001b[43m)\u001b[49m\n",
      "File \u001b[0;32m~/Library/Caches/pypoetry/virtualenvs/ai-project-yycSt0xa-py3.12/lib/python3.12/site-packages/wandb/sdk/lib/sock_client.py:154\u001b[0m, in \u001b[0;36mSockClient.send_server_request\u001b[0;34m(self, msg)\u001b[0m\n\u001b[1;32m    153\u001b[0m \u001b[38;5;28;01mdef\u001b[39;00m \u001b[38;5;21msend_server_request\u001b[39m(\u001b[38;5;28mself\u001b[39m, msg: Any) \u001b[38;5;241m-\u001b[39m\u001b[38;5;241m>\u001b[39m \u001b[38;5;28;01mNone\u001b[39;00m:\n\u001b[0;32m--> 154\u001b[0m     \u001b[38;5;28;43mself\u001b[39;49m\u001b[38;5;241;43m.\u001b[39;49m\u001b[43m_send_message\u001b[49m\u001b[43m(\u001b[49m\u001b[43mmsg\u001b[49m\u001b[43m)\u001b[49m\n",
      "File \u001b[0;32m~/Library/Caches/pypoetry/virtualenvs/ai-project-yycSt0xa-py3.12/lib/python3.12/site-packages/wandb/sdk/lib/sock_client.py:151\u001b[0m, in \u001b[0;36mSockClient._send_message\u001b[0;34m(self, msg)\u001b[0m\n\u001b[1;32m    149\u001b[0m header \u001b[38;5;241m=\u001b[39m struct\u001b[38;5;241m.\u001b[39mpack(\u001b[38;5;124m\"\u001b[39m\u001b[38;5;124m<BI\u001b[39m\u001b[38;5;124m\"\u001b[39m, \u001b[38;5;28mord\u001b[39m(\u001b[38;5;124m\"\u001b[39m\u001b[38;5;124mW\u001b[39m\u001b[38;5;124m\"\u001b[39m), raw_size)\n\u001b[1;32m    150\u001b[0m \u001b[38;5;28;01mwith\u001b[39;00m \u001b[38;5;28mself\u001b[39m\u001b[38;5;241m.\u001b[39m_lock:\n\u001b[0;32m--> 151\u001b[0m     \u001b[38;5;28;43mself\u001b[39;49m\u001b[38;5;241;43m.\u001b[39;49m\u001b[43m_sendall_with_error_handle\u001b[49m\u001b[43m(\u001b[49m\u001b[43mheader\u001b[49m\u001b[43m \u001b[49m\u001b[38;5;241;43m+\u001b[39;49m\u001b[43m \u001b[49m\u001b[43mdata\u001b[49m\u001b[43m)\u001b[49m\n",
      "File \u001b[0;32m~/Library/Caches/pypoetry/virtualenvs/ai-project-yycSt0xa-py3.12/lib/python3.12/site-packages/wandb/sdk/lib/sock_client.py:130\u001b[0m, in \u001b[0;36mSockClient._sendall_with_error_handle\u001b[0;34m(self, data)\u001b[0m\n\u001b[1;32m    128\u001b[0m start_time \u001b[38;5;241m=\u001b[39m time\u001b[38;5;241m.\u001b[39mmonotonic()\n\u001b[1;32m    129\u001b[0m \u001b[38;5;28;01mtry\u001b[39;00m:\n\u001b[0;32m--> 130\u001b[0m     sent \u001b[38;5;241m=\u001b[39m \u001b[38;5;28;43mself\u001b[39;49m\u001b[38;5;241;43m.\u001b[39;49m\u001b[43m_sock\u001b[49m\u001b[38;5;241;43m.\u001b[39;49m\u001b[43msend\u001b[49m\u001b[43m(\u001b[49m\u001b[43mdata\u001b[49m\u001b[43m)\u001b[49m\n\u001b[1;32m    131\u001b[0m     \u001b[38;5;66;03m# sent equal to 0 indicates a closed socket\u001b[39;00m\n\u001b[1;32m    132\u001b[0m     \u001b[38;5;28;01mif\u001b[39;00m sent \u001b[38;5;241m==\u001b[39m \u001b[38;5;241m0\u001b[39m:\n",
      "\u001b[0;31mBrokenPipeError\u001b[0m: [Errno 32] Broken pipe"
     ]
    }
   ],
   "source": [
    "sweep_id = \"mgvkiiaf\"\n",
    "wandb.agent(sweep_id, function=sweep, count=100, entity=entity, project=project)"
   ]
  },
  {
   "cell_type": "code",
   "execution_count": null,
   "metadata": {},
   "outputs": [],
   "source": [
    "import wandb\n",
    "from car_model import Car\n",
    "from mountain_car_agent import MountainCarAgent\n",
    "from continuous_mountain_car_env_extended import ContinuousMountainCarEnvExtended\n",
    "\n",
    "def sweep_v2():\n",
    "    wandb.init()\n",
    "    config = wandb.config\n",
    "\n",
    "    env = ContinuousMountainCarEnvExtended(render_mode='rgb_array')\n",
    "    model = Car(env, config.x_bins, config.vel_bins, config.action_bins)\n",
    "    agent = MountainCarAgent(model, config.alpha, config.gamma)\n",
    "\n",
    "    base_epsilon = config.epsilon\n",
    "\n",
    "    for t in range(20):\n",
    "        train_value = agent.train(500, base_epsilon)\n",
    "        test_value = agent.test(50)\n",
    "        wandb.log({\"train_value\": train_value, \"test_value\": test_value, \"t\" : t})\n",
    "        base_epsilon *= (10-t)/10\n",
    "\n",
    "sweep_config = {\n",
    "    'name': 'bayesian-sweep-epsilon-decay-v2',\n",
    "    'method': 'bayes',\n",
    "    'metric': {\n",
    "        'name': 'test_value',\n",
    "        'goal': 'maximize'\n",
    "    },\n",
    "    'parameters': {\n",
    "        'alpha': {\n",
    "            'distribution': 'uniform',\n",
    "            'min': 0.508,\n",
    "            'max': 0.99\n",
    "        },\n",
    "        'epsilon': {\n",
    "            'distribution': 'uniform',\n",
    "            'min': 0.503,\n",
    "            'max': 0.989\n",
    "        },\n",
    "        'gamma': {\n",
    "            'distribution': 'uniform',\n",
    "            'min': 0.729,\n",
    "            'max': 0.974\n",
    "        },\n",
    "        'action_bins': {\n",
    "            'distribution': 'int_uniform',\n",
    "            'min': 10,\n",
    "            'max': 100\n",
    "        },\n",
    "        'vel_bins': {\n",
    "            'distribution': 'int_uniform',\n",
    "            'min': 10,\n",
    "            'max': 25\n",
    "        },\n",
    "        'x_bins': {\n",
    "            'distribution': 'int_uniform',\n",
    "            'min': 10,\n",
    "            'max': 24\n",
    "        }\n",
    "    }\n",
    "}\n",
    "entity = \"mateogiraz27-ort\"\n",
    "project = \"mountain_car\"\n",
    "sweep_id = wandb.sweep(sweep_config, entity=entity, project=project)"
   ]
  },
  {
   "cell_type": "code",
   "execution_count": 6,
   "metadata": {},
   "outputs": [
    {
     "name": "stderr",
     "output_type": "stream",
     "text": [
      "\u001b[34m\u001b[1mwandb\u001b[0m: Agent Starting Run: ohf1cb0f with config:\n",
      "\u001b[34m\u001b[1mwandb\u001b[0m: \taction_bins: 20\n",
      "\u001b[34m\u001b[1mwandb\u001b[0m: \talpha: 0.6718927213010032\n",
      "\u001b[34m\u001b[1mwandb\u001b[0m: \tepsilon: 0.830565126667738\n",
      "\u001b[34m\u001b[1mwandb\u001b[0m: \tgamma: 0.8871260539991896\n",
      "\u001b[34m\u001b[1mwandb\u001b[0m: \tvel_bins: 12\n",
      "\u001b[34m\u001b[1mwandb\u001b[0m: \tx_bins: 14\n"
     ]
    },
    {
     "data": {
      "text/html": [
       "Tracking run with wandb version 0.18.7"
      ],
      "text/plain": [
       "<IPython.core.display.HTML object>"
      ]
     },
     "metadata": {},
     "output_type": "display_data"
    },
    {
     "data": {
      "text/html": [
       "Run data is saved locally in <code>/Users/mateogiraz/Documents/MountainCarContinuous (1)/car-continuous/wandb/run-20241209_080731-ohf1cb0f</code>"
      ],
      "text/plain": [
       "<IPython.core.display.HTML object>"
      ]
     },
     "metadata": {},
     "output_type": "display_data"
    },
    {
     "data": {
      "text/html": [
       "Syncing run <strong><a href='https://wandb.ai/mateogiraz27-ort/mountain_car/runs/ohf1cb0f' target=\"_blank\">sunny-sweep-3</a></strong> to <a href='https://wandb.ai/mateogiraz27-ort/mountain_car' target=\"_blank\">Weights & Biases</a> (<a href='https://wandb.me/developer-guide' target=\"_blank\">docs</a>)<br/>Sweep page: <a href='https://wandb.ai/mateogiraz27-ort/mountain_car/sweeps/haew8c8r' target=\"_blank\">https://wandb.ai/mateogiraz27-ort/mountain_car/sweeps/haew8c8r</a>"
      ],
      "text/plain": [
       "<IPython.core.display.HTML object>"
      ]
     },
     "metadata": {},
     "output_type": "display_data"
    },
    {
     "data": {
      "text/html": [
       " View project at <a href='https://wandb.ai/mateogiraz27-ort/mountain_car' target=\"_blank\">https://wandb.ai/mateogiraz27-ort/mountain_car</a>"
      ],
      "text/plain": [
       "<IPython.core.display.HTML object>"
      ]
     },
     "metadata": {},
     "output_type": "display_data"
    },
    {
     "data": {
      "text/html": [
       " View sweep at <a href='https://wandb.ai/mateogiraz27-ort/mountain_car/sweeps/haew8c8r' target=\"_blank\">https://wandb.ai/mateogiraz27-ort/mountain_car/sweeps/haew8c8r</a>"
      ],
      "text/plain": [
       "<IPython.core.display.HTML object>"
      ]
     },
     "metadata": {},
     "output_type": "display_data"
    },
    {
     "data": {
      "text/html": [
       " View run at <a href='https://wandb.ai/mateogiraz27-ort/mountain_car/runs/ohf1cb0f' target=\"_blank\">https://wandb.ai/mateogiraz27-ort/mountain_car/runs/ohf1cb0f</a>"
      ],
      "text/plain": [
       "<IPython.core.display.HTML object>"
      ]
     },
     "metadata": {},
     "output_type": "display_data"
    },
    {
     "name": "stderr",
     "output_type": "stream",
     "text": [
      "Training Progress: 100%|██████████| 500/500 [00:05<00:00, 84.60episode/s, Episode Reward=-1000]\n",
      "Training Progress: 100%|██████████| 500/500 [00:06<00:00, 76.44episode/s, Episode Reward=-1000]\n",
      "Training Progress: 100%|██████████| 500/500 [00:06<00:00, 78.84episode/s, Episode Reward=-1000]\n",
      "Training Progress: 100%|██████████| 500/500 [00:05<00:00, 84.54episode/s, Episode Reward=-1000]\n",
      "Training Progress: 100%|██████████| 500/500 [00:06<00:00, 80.64episode/s, Episode Reward=-1000]\n",
      "Training Progress: 100%|██████████| 500/500 [00:05<00:00, 87.43episode/s, Episode Reward=-1000] \n",
      "Training Progress: 100%|██████████| 500/500 [00:04<00:00, 104.92episode/s, Episode Reward=-656] \n",
      "Training Progress: 100%|██████████| 500/500 [00:04<00:00, 124.53episode/s, Episode Reward=-273] \n",
      "Training Progress: 100%|██████████| 500/500 [00:04<00:00, 122.63episode/s, Episode Reward=-49]  \n",
      "Training Progress: 100%|██████████| 500/500 [00:03<00:00, 161.87episode/s, Episode Reward=-45]  \n",
      "Training Progress: 100%|██████████| 500/500 [00:01<00:00, 252.06episode/s, Episode Reward=-116]\n",
      "Training Progress: 100%|██████████| 500/500 [00:01<00:00, 303.73episode/s, Episode Reward=-37] \n"
     ]
    },
    {
     "data": {
      "text/html": [
       "\n",
       "    <style>\n",
       "        .wandb-row {\n",
       "            display: flex;\n",
       "            flex-direction: row;\n",
       "            flex-wrap: wrap;\n",
       "            justify-content: flex-start;\n",
       "            width: 100%;\n",
       "        }\n",
       "        .wandb-col {\n",
       "            display: flex;\n",
       "            flex-direction: column;\n",
       "            flex-basis: 100%;\n",
       "            flex: 1;\n",
       "            padding: 10px;\n",
       "        }\n",
       "    </style>\n",
       "<div class=\"wandb-row\"><div class=\"wandb-col\"><h3>Run history:</h3><br/><table class=\"wandb\"><tr><td>t</td><td>▁▂▂▃▄▄▅▅▆▇▇█</td></tr><tr><td>test_value</td><td>▂▁▁▁▁▆▆▁▁███</td></tr><tr><td>train_value</td><td>▁▁▁▁▁▂▄▅▆▇██</td></tr></table><br/></div><div class=\"wandb-col\"><h3>Run summary:</h3><br/><table class=\"wandb\"><tr><td>t</td><td>11</td></tr><tr><td>test_value</td><td>-29.8</td></tr><tr><td>train_value</td><td>-27.066</td></tr></table><br/></div></div>"
      ],
      "text/plain": [
       "<IPython.core.display.HTML object>"
      ]
     },
     "metadata": {},
     "output_type": "display_data"
    },
    {
     "data": {
      "text/html": [
       " View run <strong style=\"color:#cdcd00\">sunny-sweep-3</strong> at: <a href='https://wandb.ai/mateogiraz27-ort/mountain_car/runs/ohf1cb0f' target=\"_blank\">https://wandb.ai/mateogiraz27-ort/mountain_car/runs/ohf1cb0f</a><br/> View project at: <a href='https://wandb.ai/mateogiraz27-ort/mountain_car' target=\"_blank\">https://wandb.ai/mateogiraz27-ort/mountain_car</a><br/>Synced 5 W&B file(s), 0 media file(s), 0 artifact file(s) and 0 other file(s)"
      ],
      "text/plain": [
       "<IPython.core.display.HTML object>"
      ]
     },
     "metadata": {},
     "output_type": "display_data"
    },
    {
     "data": {
      "text/html": [
       "Find logs at: <code>./wandb/run-20241209_080731-ohf1cb0f/logs</code>"
      ],
      "text/plain": [
       "<IPython.core.display.HTML object>"
      ]
     },
     "metadata": {},
     "output_type": "display_data"
    },
    {
     "name": "stderr",
     "output_type": "stream",
     "text": [
      "\u001b[34m\u001b[1mwandb\u001b[0m: Sweep Agent: Waiting for job.\n",
      "\u001b[34m\u001b[1mwandb\u001b[0m: Job received.\n",
      "\u001b[34m\u001b[1mwandb\u001b[0m: Agent Starting Run: 6zd5n5cx with config:\n",
      "\u001b[34m\u001b[1mwandb\u001b[0m: \taction_bins: 26\n",
      "\u001b[34m\u001b[1mwandb\u001b[0m: \talpha: 0.5199549354506932\n",
      "\u001b[34m\u001b[1mwandb\u001b[0m: \tepsilon: 0.9273838229092624\n",
      "\u001b[34m\u001b[1mwandb\u001b[0m: \tgamma: 0.8667085989818117\n",
      "\u001b[34m\u001b[1mwandb\u001b[0m: \tvel_bins: 18\n",
      "\u001b[34m\u001b[1mwandb\u001b[0m: \tx_bins: 14\n"
     ]
    },
    {
     "data": {
      "text/html": [
       "Tracking run with wandb version 0.18.7"
      ],
      "text/plain": [
       "<IPython.core.display.HTML object>"
      ]
     },
     "metadata": {},
     "output_type": "display_data"
    },
    {
     "data": {
      "text/html": [
       "Run data is saved locally in <code>/Users/mateogiraz/Documents/MountainCarContinuous (1)/car-continuous/wandb/run-20241209_080844-6zd5n5cx</code>"
      ],
      "text/plain": [
       "<IPython.core.display.HTML object>"
      ]
     },
     "metadata": {},
     "output_type": "display_data"
    },
    {
     "data": {
      "text/html": [
       "Syncing run <strong><a href='https://wandb.ai/mateogiraz27-ort/mountain_car/runs/6zd5n5cx' target=\"_blank\">gallant-sweep-4</a></strong> to <a href='https://wandb.ai/mateogiraz27-ort/mountain_car' target=\"_blank\">Weights & Biases</a> (<a href='https://wandb.me/developer-guide' target=\"_blank\">docs</a>)<br/>Sweep page: <a href='https://wandb.ai/mateogiraz27-ort/mountain_car/sweeps/haew8c8r' target=\"_blank\">https://wandb.ai/mateogiraz27-ort/mountain_car/sweeps/haew8c8r</a>"
      ],
      "text/plain": [
       "<IPython.core.display.HTML object>"
      ]
     },
     "metadata": {},
     "output_type": "display_data"
    },
    {
     "data": {
      "text/html": [
       " View project at <a href='https://wandb.ai/mateogiraz27-ort/mountain_car' target=\"_blank\">https://wandb.ai/mateogiraz27-ort/mountain_car</a>"
      ],
      "text/plain": [
       "<IPython.core.display.HTML object>"
      ]
     },
     "metadata": {},
     "output_type": "display_data"
    },
    {
     "data": {
      "text/html": [
       " View sweep at <a href='https://wandb.ai/mateogiraz27-ort/mountain_car/sweeps/haew8c8r' target=\"_blank\">https://wandb.ai/mateogiraz27-ort/mountain_car/sweeps/haew8c8r</a>"
      ],
      "text/plain": [
       "<IPython.core.display.HTML object>"
      ]
     },
     "metadata": {},
     "output_type": "display_data"
    },
    {
     "data": {
      "text/html": [
       " View run at <a href='https://wandb.ai/mateogiraz27-ort/mountain_car/runs/6zd5n5cx' target=\"_blank\">https://wandb.ai/mateogiraz27-ort/mountain_car/runs/6zd5n5cx</a>"
      ],
      "text/plain": [
       "<IPython.core.display.HTML object>"
      ]
     },
     "metadata": {},
     "output_type": "display_data"
    },
    {
     "name": "stderr",
     "output_type": "stream",
     "text": [
      "Training Progress: 100%|██████████| 500/500 [00:05<00:00, 89.57episode/s, Episode Reward=-1000]\n",
      "Training Progress: 100%|██████████| 500/500 [00:05<00:00, 88.77episode/s, Episode Reward=-1000]\n",
      "Training Progress: 100%|██████████| 500/500 [00:05<00:00, 88.99episode/s, Episode Reward=-1000]\n",
      "Training Progress: 100%|██████████| 500/500 [00:05<00:00, 86.73episode/s, Episode Reward=-1000]\n",
      "Training Progress: 100%|██████████| 500/500 [00:05<00:00, 88.47episode/s, Episode Reward=-726] \n",
      "Training Progress: 100%|██████████| 500/500 [00:04<00:00, 105.49episode/s, Episode Reward=-1000]\n",
      "Training Progress: 100%|██████████| 500/500 [00:03<00:00, 136.16episode/s, Episode Reward=-253] \n",
      "Training Progress: 100%|██████████| 500/500 [00:02<00:00, 215.16episode/s, Episode Reward=-86]  \n",
      "Training Progress: 100%|██████████| 500/500 [00:01<00:00, 262.38episode/s, Episode Reward=-66]  \n",
      "Training Progress: 100%|██████████| 500/500 [00:01<00:00, 321.54episode/s, Episode Reward=-50] \n",
      "Training Progress: 100%|██████████| 500/500 [00:01<00:00, 362.39episode/s, Episode Reward=-87] \n",
      "Training Progress: 100%|██████████| 500/500 [00:01<00:00, 315.33episode/s, Episode Reward=3]   \n"
     ]
    },
    {
     "data": {
      "text/html": [
       "\n",
       "    <style>\n",
       "        .wandb-row {\n",
       "            display: flex;\n",
       "            flex-direction: row;\n",
       "            flex-wrap: wrap;\n",
       "            justify-content: flex-start;\n",
       "            width: 100%;\n",
       "        }\n",
       "        .wandb-col {\n",
       "            display: flex;\n",
       "            flex-direction: column;\n",
       "            flex-basis: 100%;\n",
       "            flex: 1;\n",
       "            padding: 10px;\n",
       "        }\n",
       "    </style>\n",
       "<div class=\"wandb-row\"><div class=\"wandb-col\"><h3>Run history:</h3><br/><table class=\"wandb\"><tr><td>t</td><td>▁▂▂▃▄▄▅▅▆▇▇█</td></tr><tr><td>test_value</td><td>▁▁▁▁▁▁▂▁▇███</td></tr><tr><td>train_value</td><td>▁▁▁▁▂▃▅▇▇███</td></tr></table><br/></div><div class=\"wandb-col\"><h3>Run summary:</h3><br/><table class=\"wandb\"><tr><td>t</td><td>11</td></tr><tr><td>test_value</td><td>-5.32</td></tr><tr><td>train_value</td><td>-89.592</td></tr></table><br/></div></div>"
      ],
      "text/plain": [
       "<IPython.core.display.HTML object>"
      ]
     },
     "metadata": {},
     "output_type": "display_data"
    },
    {
     "data": {
      "text/html": [
       " View run <strong style=\"color:#cdcd00\">gallant-sweep-4</strong> at: <a href='https://wandb.ai/mateogiraz27-ort/mountain_car/runs/6zd5n5cx' target=\"_blank\">https://wandb.ai/mateogiraz27-ort/mountain_car/runs/6zd5n5cx</a><br/> View project at: <a href='https://wandb.ai/mateogiraz27-ort/mountain_car' target=\"_blank\">https://wandb.ai/mateogiraz27-ort/mountain_car</a><br/>Synced 5 W&B file(s), 0 media file(s), 0 artifact file(s) and 0 other file(s)"
      ],
      "text/plain": [
       "<IPython.core.display.HTML object>"
      ]
     },
     "metadata": {},
     "output_type": "display_data"
    },
    {
     "data": {
      "text/html": [
       "Find logs at: <code>./wandb/run-20241209_080844-6zd5n5cx/logs</code>"
      ],
      "text/plain": [
       "<IPython.core.display.HTML object>"
      ]
     },
     "metadata": {},
     "output_type": "display_data"
    },
    {
     "name": "stderr",
     "output_type": "stream",
     "text": [
      "\u001b[34m\u001b[1mwandb\u001b[0m: Agent Starting Run: sgqzcmpw with config:\n",
      "\u001b[34m\u001b[1mwandb\u001b[0m: \taction_bins: 52\n",
      "\u001b[34m\u001b[1mwandb\u001b[0m: \talpha: 0.7828419662676925\n",
      "\u001b[34m\u001b[1mwandb\u001b[0m: \tepsilon: 0.5486364810025504\n",
      "\u001b[34m\u001b[1mwandb\u001b[0m: \tgamma: 0.9432563783004267\n",
      "\u001b[34m\u001b[1mwandb\u001b[0m: \tvel_bins: 19\n",
      "\u001b[34m\u001b[1mwandb\u001b[0m: \tx_bins: 18\n"
     ]
    },
    {
     "data": {
      "text/html": [
       "Tracking run with wandb version 0.18.7"
      ],
      "text/plain": [
       "<IPython.core.display.HTML object>"
      ]
     },
     "metadata": {},
     "output_type": "display_data"
    },
    {
     "data": {
      "text/html": [
       "Run data is saved locally in <code>/Users/mateogiraz/Documents/MountainCarContinuous (1)/car-continuous/wandb/run-20241209_080936-sgqzcmpw</code>"
      ],
      "text/plain": [
       "<IPython.core.display.HTML object>"
      ]
     },
     "metadata": {},
     "output_type": "display_data"
    },
    {
     "data": {
      "text/html": [
       "Syncing run <strong><a href='https://wandb.ai/mateogiraz27-ort/mountain_car/runs/sgqzcmpw' target=\"_blank\">blooming-sweep-5</a></strong> to <a href='https://wandb.ai/mateogiraz27-ort/mountain_car' target=\"_blank\">Weights & Biases</a> (<a href='https://wandb.me/developer-guide' target=\"_blank\">docs</a>)<br/>Sweep page: <a href='https://wandb.ai/mateogiraz27-ort/mountain_car/sweeps/haew8c8r' target=\"_blank\">https://wandb.ai/mateogiraz27-ort/mountain_car/sweeps/haew8c8r</a>"
      ],
      "text/plain": [
       "<IPython.core.display.HTML object>"
      ]
     },
     "metadata": {},
     "output_type": "display_data"
    },
    {
     "data": {
      "text/html": [
       " View project at <a href='https://wandb.ai/mateogiraz27-ort/mountain_car' target=\"_blank\">https://wandb.ai/mateogiraz27-ort/mountain_car</a>"
      ],
      "text/plain": [
       "<IPython.core.display.HTML object>"
      ]
     },
     "metadata": {},
     "output_type": "display_data"
    },
    {
     "data": {
      "text/html": [
       " View sweep at <a href='https://wandb.ai/mateogiraz27-ort/mountain_car/sweeps/haew8c8r' target=\"_blank\">https://wandb.ai/mateogiraz27-ort/mountain_car/sweeps/haew8c8r</a>"
      ],
      "text/plain": [
       "<IPython.core.display.HTML object>"
      ]
     },
     "metadata": {},
     "output_type": "display_data"
    },
    {
     "data": {
      "text/html": [
       " View run at <a href='https://wandb.ai/mateogiraz27-ort/mountain_car/runs/sgqzcmpw' target=\"_blank\">https://wandb.ai/mateogiraz27-ort/mountain_car/runs/sgqzcmpw</a>"
      ],
      "text/plain": [
       "<IPython.core.display.HTML object>"
      ]
     },
     "metadata": {},
     "output_type": "display_data"
    },
    {
     "name": "stderr",
     "output_type": "stream",
     "text": [
      "Training Progress: 100%|██████████| 500/500 [00:07<00:00, 68.71episode/s, Episode Reward=-1000]\n",
      "Training Progress: 100%|██████████| 500/500 [00:07<00:00, 64.66episode/s, Episode Reward=-1000]\n",
      "Training Progress: 100%|██████████| 500/500 [00:06<00:00, 78.06episode/s, Episode Reward=-1000]\n",
      "Training Progress: 100%|██████████| 500/500 [00:06<00:00, 72.08episode/s, Episode Reward=-1000]\n",
      "Training Progress: 100%|██████████| 500/500 [00:06<00:00, 77.89episode/s, Episode Reward=-1000]\n",
      "Training Progress: 100%|██████████| 500/500 [00:05<00:00, 90.11episode/s, Episode Reward=-462]  \n",
      "Training Progress: 100%|██████████| 500/500 [00:03<00:00, 128.59episode/s, Episode Reward=-164] \n",
      "Training Progress: 100%|██████████| 500/500 [00:02<00:00, 167.59episode/s, Episode Reward=-174] \n",
      "Training Progress: 100%|██████████| 500/500 [00:02<00:00, 227.89episode/s, Episode Reward=-75]  \n",
      "Training Progress: 100%|██████████| 500/500 [00:01<00:00, 305.17episode/s, Episode Reward=-70]  \n",
      "Training Progress: 100%|██████████| 500/500 [00:01<00:00, 388.70episode/s, Episode Reward=17]  \n",
      "Training Progress: 100%|██████████| 500/500 [00:01<00:00, 386.91episode/s, Episode Reward=-75]\n"
     ]
    },
    {
     "data": {
      "text/html": [
       "\n",
       "    <style>\n",
       "        .wandb-row {\n",
       "            display: flex;\n",
       "            flex-direction: row;\n",
       "            flex-wrap: wrap;\n",
       "            justify-content: flex-start;\n",
       "            width: 100%;\n",
       "        }\n",
       "        .wandb-col {\n",
       "            display: flex;\n",
       "            flex-direction: column;\n",
       "            flex-basis: 100%;\n",
       "            flex: 1;\n",
       "            padding: 10px;\n",
       "        }\n",
       "    </style>\n",
       "<div class=\"wandb-row\"><div class=\"wandb-col\"><h3>Run history:</h3><br/><table class=\"wandb\"><tr><td>t</td><td>▁▂▂▃▄▄▅▅▆▇▇█</td></tr><tr><td>test_value</td><td>▂▁▁▁▁▇▁▁▇███</td></tr><tr><td>train_value</td><td>▁▁▁▁▁▃▅▆▇███</td></tr></table><br/></div><div class=\"wandb-col\"><h3>Run summary:</h3><br/><table class=\"wandb\"><tr><td>t</td><td>11</td></tr><tr><td>test_value</td><td>-14</td></tr><tr><td>train_value</td><td>-11.198</td></tr></table><br/></div></div>"
      ],
      "text/plain": [
       "<IPython.core.display.HTML object>"
      ]
     },
     "metadata": {},
     "output_type": "display_data"
    },
    {
     "data": {
      "text/html": [
       " View run <strong style=\"color:#cdcd00\">blooming-sweep-5</strong> at: <a href='https://wandb.ai/mateogiraz27-ort/mountain_car/runs/sgqzcmpw' target=\"_blank\">https://wandb.ai/mateogiraz27-ort/mountain_car/runs/sgqzcmpw</a><br/> View project at: <a href='https://wandb.ai/mateogiraz27-ort/mountain_car' target=\"_blank\">https://wandb.ai/mateogiraz27-ort/mountain_car</a><br/>Synced 5 W&B file(s), 0 media file(s), 0 artifact file(s) and 0 other file(s)"
      ],
      "text/plain": [
       "<IPython.core.display.HTML object>"
      ]
     },
     "metadata": {},
     "output_type": "display_data"
    },
    {
     "data": {
      "text/html": [
       "Find logs at: <code>./wandb/run-20241209_080936-sgqzcmpw/logs</code>"
      ],
      "text/plain": [
       "<IPython.core.display.HTML object>"
      ]
     },
     "metadata": {},
     "output_type": "display_data"
    },
    {
     "name": "stderr",
     "output_type": "stream",
     "text": [
      "\u001b[34m\u001b[1mwandb\u001b[0m: Agent Starting Run: dvxuzxnm with config:\n",
      "\u001b[34m\u001b[1mwandb\u001b[0m: \taction_bins: 60\n",
      "\u001b[34m\u001b[1mwandb\u001b[0m: \talpha: 0.7911898107470617\n",
      "\u001b[34m\u001b[1mwandb\u001b[0m: \tepsilon: 0.9564179604629998\n",
      "\u001b[34m\u001b[1mwandb\u001b[0m: \tgamma: 0.8979606865250944\n",
      "\u001b[34m\u001b[1mwandb\u001b[0m: \tvel_bins: 20\n",
      "\u001b[34m\u001b[1mwandb\u001b[0m: \tx_bins: 23\n"
     ]
    },
    {
     "data": {
      "text/html": [
       "Tracking run with wandb version 0.18.7"
      ],
      "text/plain": [
       "<IPython.core.display.HTML object>"
      ]
     },
     "metadata": {},
     "output_type": "display_data"
    },
    {
     "data": {
      "text/html": [
       "Run data is saved locally in <code>/Users/mateogiraz/Documents/MountainCarContinuous (1)/car-continuous/wandb/run-20241209_081039-dvxuzxnm</code>"
      ],
      "text/plain": [
       "<IPython.core.display.HTML object>"
      ]
     },
     "metadata": {},
     "output_type": "display_data"
    },
    {
     "data": {
      "text/html": [
       "Syncing run <strong><a href='https://wandb.ai/mateogiraz27-ort/mountain_car/runs/dvxuzxnm' target=\"_blank\">astral-sweep-6</a></strong> to <a href='https://wandb.ai/mateogiraz27-ort/mountain_car' target=\"_blank\">Weights & Biases</a> (<a href='https://wandb.me/developer-guide' target=\"_blank\">docs</a>)<br/>Sweep page: <a href='https://wandb.ai/mateogiraz27-ort/mountain_car/sweeps/haew8c8r' target=\"_blank\">https://wandb.ai/mateogiraz27-ort/mountain_car/sweeps/haew8c8r</a>"
      ],
      "text/plain": [
       "<IPython.core.display.HTML object>"
      ]
     },
     "metadata": {},
     "output_type": "display_data"
    },
    {
     "data": {
      "text/html": [
       " View project at <a href='https://wandb.ai/mateogiraz27-ort/mountain_car' target=\"_blank\">https://wandb.ai/mateogiraz27-ort/mountain_car</a>"
      ],
      "text/plain": [
       "<IPython.core.display.HTML object>"
      ]
     },
     "metadata": {},
     "output_type": "display_data"
    },
    {
     "data": {
      "text/html": [
       " View sweep at <a href='https://wandb.ai/mateogiraz27-ort/mountain_car/sweeps/haew8c8r' target=\"_blank\">https://wandb.ai/mateogiraz27-ort/mountain_car/sweeps/haew8c8r</a>"
      ],
      "text/plain": [
       "<IPython.core.display.HTML object>"
      ]
     },
     "metadata": {},
     "output_type": "display_data"
    },
    {
     "data": {
      "text/html": [
       " View run at <a href='https://wandb.ai/mateogiraz27-ort/mountain_car/runs/dvxuzxnm' target=\"_blank\">https://wandb.ai/mateogiraz27-ort/mountain_car/runs/dvxuzxnm</a>"
      ],
      "text/plain": [
       "<IPython.core.display.HTML object>"
      ]
     },
     "metadata": {},
     "output_type": "display_data"
    },
    {
     "name": "stderr",
     "output_type": "stream",
     "text": [
      "Training Progress: 100%|██████████| 500/500 [00:05<00:00, 85.96episode/s, Episode Reward=-1000]\n",
      "Training Progress: 100%|██████████| 500/500 [00:05<00:00, 86.66episode/s, Episode Reward=-1000]\n",
      "Training Progress: 100%|██████████| 500/500 [00:05<00:00, 88.82episode/s, Episode Reward=-1000]\n",
      "Training Progress: 100%|██████████| 500/500 [00:06<00:00, 81.32episode/s, Episode Reward=-1000]\n",
      "Training Progress: 100%|██████████| 500/500 [00:06<00:00, 78.34episode/s, Episode Reward=-1000]\n",
      "Training Progress: 100%|██████████| 500/500 [00:06<00:00, 82.64episode/s, Episode Reward=-348] \n",
      "Training Progress: 100%|██████████| 500/500 [00:04<00:00, 105.11episode/s, Episode Reward=-659] \n",
      "Training Progress: 100%|██████████| 500/500 [00:03<00:00, 158.90episode/s, Episode Reward=-477] \n",
      "Training Progress: 100%|██████████| 500/500 [00:02<00:00, 228.45episode/s, Episode Reward=-149] \n",
      "Training Progress: 100%|██████████| 500/500 [00:02<00:00, 217.32episode/s, Episode Reward=-161] \n",
      "Training Progress: 100%|██████████| 500/500 [00:01<00:00, 269.55episode/s, Episode Reward=-76] \n",
      "Training Progress: 100%|██████████| 500/500 [00:01<00:00, 300.37episode/s, Episode Reward=9]   \n"
     ]
    },
    {
     "data": {
      "text/html": [
       "\n",
       "    <style>\n",
       "        .wandb-row {\n",
       "            display: flex;\n",
       "            flex-direction: row;\n",
       "            flex-wrap: wrap;\n",
       "            justify-content: flex-start;\n",
       "            width: 100%;\n",
       "        }\n",
       "        .wandb-col {\n",
       "            display: flex;\n",
       "            flex-direction: column;\n",
       "            flex-basis: 100%;\n",
       "            flex: 1;\n",
       "            padding: 10px;\n",
       "        }\n",
       "    </style>\n",
       "<div class=\"wandb-row\"><div class=\"wandb-col\"><h3>Run history:</h3><br/><table class=\"wandb\"><tr><td>t</td><td>▁▂▂▃▄▄▅▅▆▇▇█</td></tr><tr><td>test_value</td><td>▁▁▁▁▁▆▃▆▇█▇█</td></tr><tr><td>train_value</td><td>▁▁▁▁▁▂▃▆▇▇██</td></tr></table><br/></div><div class=\"wandb-col\"><h3>Run summary:</h3><br/><table class=\"wandb\"><tr><td>t</td><td>11</td></tr><tr><td>test_value</td><td>5.22</td></tr><tr><td>train_value</td><td>-91.486</td></tr></table><br/></div></div>"
      ],
      "text/plain": [
       "<IPython.core.display.HTML object>"
      ]
     },
     "metadata": {},
     "output_type": "display_data"
    },
    {
     "data": {
      "text/html": [
       " View run <strong style=\"color:#cdcd00\">astral-sweep-6</strong> at: <a href='https://wandb.ai/mateogiraz27-ort/mountain_car/runs/dvxuzxnm' target=\"_blank\">https://wandb.ai/mateogiraz27-ort/mountain_car/runs/dvxuzxnm</a><br/> View project at: <a href='https://wandb.ai/mateogiraz27-ort/mountain_car' target=\"_blank\">https://wandb.ai/mateogiraz27-ort/mountain_car</a><br/>Synced 5 W&B file(s), 0 media file(s), 0 artifact file(s) and 0 other file(s)"
      ],
      "text/plain": [
       "<IPython.core.display.HTML object>"
      ]
     },
     "metadata": {},
     "output_type": "display_data"
    },
    {
     "data": {
      "text/html": [
       "Find logs at: <code>./wandb/run-20241209_081039-dvxuzxnm/logs</code>"
      ],
      "text/plain": [
       "<IPython.core.display.HTML object>"
      ]
     },
     "metadata": {},
     "output_type": "display_data"
    },
    {
     "name": "stderr",
     "output_type": "stream",
     "text": [
      "\u001b[34m\u001b[1mwandb\u001b[0m: Agent Starting Run: wz5hony2 with config:\n",
      "\u001b[34m\u001b[1mwandb\u001b[0m: \taction_bins: 24\n",
      "\u001b[34m\u001b[1mwandb\u001b[0m: \talpha: 0.6289323207980988\n",
      "\u001b[34m\u001b[1mwandb\u001b[0m: \tepsilon: 0.899880060606207\n",
      "\u001b[34m\u001b[1mwandb\u001b[0m: \tgamma: 0.9216564254309386\n",
      "\u001b[34m\u001b[1mwandb\u001b[0m: \tvel_bins: 21\n",
      "\u001b[34m\u001b[1mwandb\u001b[0m: \tx_bins: 21\n"
     ]
    },
    {
     "data": {
      "text/html": [
       "Tracking run with wandb version 0.18.7"
      ],
      "text/plain": [
       "<IPython.core.display.HTML object>"
      ]
     },
     "metadata": {},
     "output_type": "display_data"
    },
    {
     "data": {
      "text/html": [
       "Run data is saved locally in <code>/Users/mateogiraz/Documents/MountainCarContinuous (1)/car-continuous/wandb/run-20241209_081142-wz5hony2</code>"
      ],
      "text/plain": [
       "<IPython.core.display.HTML object>"
      ]
     },
     "metadata": {},
     "output_type": "display_data"
    },
    {
     "data": {
      "text/html": [
       "Syncing run <strong><a href='https://wandb.ai/mateogiraz27-ort/mountain_car/runs/wz5hony2' target=\"_blank\">chocolate-sweep-7</a></strong> to <a href='https://wandb.ai/mateogiraz27-ort/mountain_car' target=\"_blank\">Weights & Biases</a> (<a href='https://wandb.me/developer-guide' target=\"_blank\">docs</a>)<br/>Sweep page: <a href='https://wandb.ai/mateogiraz27-ort/mountain_car/sweeps/haew8c8r' target=\"_blank\">https://wandb.ai/mateogiraz27-ort/mountain_car/sweeps/haew8c8r</a>"
      ],
      "text/plain": [
       "<IPython.core.display.HTML object>"
      ]
     },
     "metadata": {},
     "output_type": "display_data"
    },
    {
     "data": {
      "text/html": [
       " View project at <a href='https://wandb.ai/mateogiraz27-ort/mountain_car' target=\"_blank\">https://wandb.ai/mateogiraz27-ort/mountain_car</a>"
      ],
      "text/plain": [
       "<IPython.core.display.HTML object>"
      ]
     },
     "metadata": {},
     "output_type": "display_data"
    },
    {
     "data": {
      "text/html": [
       " View sweep at <a href='https://wandb.ai/mateogiraz27-ort/mountain_car/sweeps/haew8c8r' target=\"_blank\">https://wandb.ai/mateogiraz27-ort/mountain_car/sweeps/haew8c8r</a>"
      ],
      "text/plain": [
       "<IPython.core.display.HTML object>"
      ]
     },
     "metadata": {},
     "output_type": "display_data"
    },
    {
     "data": {
      "text/html": [
       " View run at <a href='https://wandb.ai/mateogiraz27-ort/mountain_car/runs/wz5hony2' target=\"_blank\">https://wandb.ai/mateogiraz27-ort/mountain_car/runs/wz5hony2</a>"
      ],
      "text/plain": [
       "<IPython.core.display.HTML object>"
      ]
     },
     "metadata": {},
     "output_type": "display_data"
    },
    {
     "name": "stderr",
     "output_type": "stream",
     "text": [
      "Training Progress: 100%|██████████| 500/500 [00:05<00:00, 83.70episode/s, Episode Reward=-1000]\n",
      "Training Progress: 100%|██████████| 500/500 [00:06<00:00, 77.26episode/s, Episode Reward=-1000]\n",
      "Training Progress: 100%|██████████| 500/500 [00:05<00:00, 83.43episode/s, Episode Reward=-1000] \n",
      "Training Progress: 100%|██████████| 500/500 [00:06<00:00, 76.36episode/s, Episode Reward=-1000]\n",
      "Training Progress: 100%|██████████| 500/500 [00:05<00:00, 83.93episode/s, Episode Reward=-1000]\n",
      "Training Progress: 100%|██████████| 500/500 [00:06<00:00, 79.66episode/s, Episode Reward=-1000]\n",
      "Training Progress: 100%|██████████| 500/500 [00:05<00:00, 84.92episode/s, Episode Reward=-1000] \n",
      "Training Progress: 100%|██████████| 500/500 [00:02<00:00, 173.03episode/s, Episode Reward=-560] \n",
      "Training Progress: 100%|██████████| 500/500 [00:01<00:00, 304.74episode/s, Episode Reward=-214]\n",
      "Training Progress: 100%|██████████| 500/500 [00:01<00:00, 322.18episode/s, Episode Reward=-66] \n",
      "Training Progress: 100%|██████████| 500/500 [00:01<00:00, 413.85episode/s, Episode Reward=18]  \n",
      "Training Progress: 100%|██████████| 500/500 [00:00<00:00, 501.62episode/s, Episode Reward=-5] \n"
     ]
    },
    {
     "data": {
      "text/html": [
       "\n",
       "    <style>\n",
       "        .wandb-row {\n",
       "            display: flex;\n",
       "            flex-direction: row;\n",
       "            flex-wrap: wrap;\n",
       "            justify-content: flex-start;\n",
       "            width: 100%;\n",
       "        }\n",
       "        .wandb-col {\n",
       "            display: flex;\n",
       "            flex-direction: column;\n",
       "            flex-basis: 100%;\n",
       "            flex: 1;\n",
       "            padding: 10px;\n",
       "        }\n",
       "    </style>\n",
       "<div class=\"wandb-row\"><div class=\"wandb-col\"><h3>Run history:</h3><br/><table class=\"wandb\"><tr><td>t</td><td>▁▂▂▃▄▄▅▅▆▇▇█</td></tr><tr><td>test_value</td><td>▁▁▁▁▁▁▁▆▁▇██</td></tr><tr><td>train_value</td><td>▁▁▁▁▁▂▅▆▇▇██</td></tr></table><br/></div><div class=\"wandb-col\"><h3>Run summary:</h3><br/><table class=\"wandb\"><tr><td>t</td><td>11</td></tr><tr><td>test_value</td><td>9.04</td></tr><tr><td>train_value</td><td>5.914</td></tr></table><br/></div></div>"
      ],
      "text/plain": [
       "<IPython.core.display.HTML object>"
      ]
     },
     "metadata": {},
     "output_type": "display_data"
    },
    {
     "data": {
      "text/html": [
       " View run <strong style=\"color:#cdcd00\">chocolate-sweep-7</strong> at: <a href='https://wandb.ai/mateogiraz27-ort/mountain_car/runs/wz5hony2' target=\"_blank\">https://wandb.ai/mateogiraz27-ort/mountain_car/runs/wz5hony2</a><br/> View project at: <a href='https://wandb.ai/mateogiraz27-ort/mountain_car' target=\"_blank\">https://wandb.ai/mateogiraz27-ort/mountain_car</a><br/>Synced 5 W&B file(s), 0 media file(s), 0 artifact file(s) and 0 other file(s)"
      ],
      "text/plain": [
       "<IPython.core.display.HTML object>"
      ]
     },
     "metadata": {},
     "output_type": "display_data"
    },
    {
     "data": {
      "text/html": [
       "Find logs at: <code>./wandb/run-20241209_081142-wz5hony2/logs</code>"
      ],
      "text/plain": [
       "<IPython.core.display.HTML object>"
      ]
     },
     "metadata": {},
     "output_type": "display_data"
    },
    {
     "name": "stderr",
     "output_type": "stream",
     "text": [
      "\u001b[34m\u001b[1mwandb\u001b[0m: Agent Starting Run: ubkhvkl3 with config:\n",
      "\u001b[34m\u001b[1mwandb\u001b[0m: \taction_bins: 16\n",
      "\u001b[34m\u001b[1mwandb\u001b[0m: \talpha: 0.6309399333069997\n",
      "\u001b[34m\u001b[1mwandb\u001b[0m: \tepsilon: 0.9227180355654708\n",
      "\u001b[34m\u001b[1mwandb\u001b[0m: \tgamma: 0.9327721802686408\n",
      "\u001b[34m\u001b[1mwandb\u001b[0m: \tvel_bins: 22\n",
      "\u001b[34m\u001b[1mwandb\u001b[0m: \tx_bins: 24\n"
     ]
    },
    {
     "data": {
      "text/html": [
       "Tracking run with wandb version 0.18.7"
      ],
      "text/plain": [
       "<IPython.core.display.HTML object>"
      ]
     },
     "metadata": {},
     "output_type": "display_data"
    },
    {
     "data": {
      "text/html": [
       "Run data is saved locally in <code>/Users/mateogiraz/Documents/MountainCarContinuous (1)/car-continuous/wandb/run-20241209_081244-ubkhvkl3</code>"
      ],
      "text/plain": [
       "<IPython.core.display.HTML object>"
      ]
     },
     "metadata": {},
     "output_type": "display_data"
    },
    {
     "data": {
      "text/html": [
       "Syncing run <strong><a href='https://wandb.ai/mateogiraz27-ort/mountain_car/runs/ubkhvkl3' target=\"_blank\">leafy-sweep-8</a></strong> to <a href='https://wandb.ai/mateogiraz27-ort/mountain_car' target=\"_blank\">Weights & Biases</a> (<a href='https://wandb.me/developer-guide' target=\"_blank\">docs</a>)<br/>Sweep page: <a href='https://wandb.ai/mateogiraz27-ort/mountain_car/sweeps/haew8c8r' target=\"_blank\">https://wandb.ai/mateogiraz27-ort/mountain_car/sweeps/haew8c8r</a>"
      ],
      "text/plain": [
       "<IPython.core.display.HTML object>"
      ]
     },
     "metadata": {},
     "output_type": "display_data"
    },
    {
     "data": {
      "text/html": [
       " View project at <a href='https://wandb.ai/mateogiraz27-ort/mountain_car' target=\"_blank\">https://wandb.ai/mateogiraz27-ort/mountain_car</a>"
      ],
      "text/plain": [
       "<IPython.core.display.HTML object>"
      ]
     },
     "metadata": {},
     "output_type": "display_data"
    },
    {
     "data": {
      "text/html": [
       " View sweep at <a href='https://wandb.ai/mateogiraz27-ort/mountain_car/sweeps/haew8c8r' target=\"_blank\">https://wandb.ai/mateogiraz27-ort/mountain_car/sweeps/haew8c8r</a>"
      ],
      "text/plain": [
       "<IPython.core.display.HTML object>"
      ]
     },
     "metadata": {},
     "output_type": "display_data"
    },
    {
     "data": {
      "text/html": [
       " View run at <a href='https://wandb.ai/mateogiraz27-ort/mountain_car/runs/ubkhvkl3' target=\"_blank\">https://wandb.ai/mateogiraz27-ort/mountain_car/runs/ubkhvkl3</a>"
      ],
      "text/plain": [
       "<IPython.core.display.HTML object>"
      ]
     },
     "metadata": {},
     "output_type": "display_data"
    },
    {
     "name": "stderr",
     "output_type": "stream",
     "text": [
      "Training Progress: 100%|██████████| 500/500 [00:05<00:00, 87.72episode/s, Episode Reward=-1000]\n",
      "Training Progress: 100%|██████████| 500/500 [00:06<00:00, 80.66episode/s, Episode Reward=-1000]\n",
      "Training Progress: 100%|██████████| 500/500 [00:05<00:00, 86.17episode/s, Episode Reward=-1000]\n",
      "Training Progress: 100%|██████████| 500/500 [00:05<00:00, 83.67episode/s, Episode Reward=-1000]\n",
      "Training Progress: 100%|██████████| 500/500 [00:05<00:00, 85.91episode/s, Episode Reward=-1000]\n",
      "Training Progress: 100%|██████████| 500/500 [00:05<00:00, 85.58episode/s, Episode Reward=-1000]\n",
      "Training Progress: 100%|██████████| 500/500 [00:03<00:00, 137.69episode/s, Episode Reward=-160] \n",
      "Training Progress: 100%|██████████| 500/500 [00:02<00:00, 209.73episode/s, Episode Reward=-130] \n",
      "Training Progress: 100%|██████████| 500/500 [00:02<00:00, 221.55episode/s, Episode Reward=-223] \n",
      "Training Progress: 100%|██████████| 500/500 [00:02<00:00, 167.60episode/s, Episode Reward=-278]\n",
      "Training Progress: 100%|██████████| 500/500 [00:02<00:00, 243.56episode/s, Episode Reward=-8]  \n",
      "Training Progress: 100%|██████████| 500/500 [00:01<00:00, 265.28episode/s, Episode Reward=-3]  \n"
     ]
    },
    {
     "data": {
      "text/html": [
       "\n",
       "    <style>\n",
       "        .wandb-row {\n",
       "            display: flex;\n",
       "            flex-direction: row;\n",
       "            flex-wrap: wrap;\n",
       "            justify-content: flex-start;\n",
       "            width: 100%;\n",
       "        }\n",
       "        .wandb-col {\n",
       "            display: flex;\n",
       "            flex-direction: column;\n",
       "            flex-basis: 100%;\n",
       "            flex: 1;\n",
       "            padding: 10px;\n",
       "        }\n",
       "    </style>\n",
       "<div class=\"wandb-row\"><div class=\"wandb-col\"><h3>Run history:</h3><br/><table class=\"wandb\"><tr><td>t</td><td>▁▂▂▃▄▄▅▅▆▇▇█</td></tr><tr><td>test_value</td><td>▁▁▁▁▁▁▇▇▅▇██</td></tr><tr><td>train_value</td><td>▁▁▁▁▁▂▅▇▇███</td></tr></table><br/></div><div class=\"wandb-col\"><h3>Run summary:</h3><br/><table class=\"wandb\"><tr><td>t</td><td>11</td></tr><tr><td>test_value</td><td>-28.08</td></tr><tr><td>train_value</td><td>-9.772</td></tr></table><br/></div></div>"
      ],
      "text/plain": [
       "<IPython.core.display.HTML object>"
      ]
     },
     "metadata": {},
     "output_type": "display_data"
    },
    {
     "data": {
      "text/html": [
       " View run <strong style=\"color:#cdcd00\">leafy-sweep-8</strong> at: <a href='https://wandb.ai/mateogiraz27-ort/mountain_car/runs/ubkhvkl3' target=\"_blank\">https://wandb.ai/mateogiraz27-ort/mountain_car/runs/ubkhvkl3</a><br/> View project at: <a href='https://wandb.ai/mateogiraz27-ort/mountain_car' target=\"_blank\">https://wandb.ai/mateogiraz27-ort/mountain_car</a><br/>Synced 5 W&B file(s), 0 media file(s), 0 artifact file(s) and 0 other file(s)"
      ],
      "text/plain": [
       "<IPython.core.display.HTML object>"
      ]
     },
     "metadata": {},
     "output_type": "display_data"
    },
    {
     "data": {
      "text/html": [
       "Find logs at: <code>./wandb/run-20241209_081244-ubkhvkl3/logs</code>"
      ],
      "text/plain": [
       "<IPython.core.display.HTML object>"
      ]
     },
     "metadata": {},
     "output_type": "display_data"
    },
    {
     "name": "stderr",
     "output_type": "stream",
     "text": [
      "\u001b[34m\u001b[1mwandb\u001b[0m: Agent Starting Run: 96gj5h68 with config:\n",
      "\u001b[34m\u001b[1mwandb\u001b[0m: \taction_bins: 27\n",
      "\u001b[34m\u001b[1mwandb\u001b[0m: \talpha: 0.709195235908292\n",
      "\u001b[34m\u001b[1mwandb\u001b[0m: \tepsilon: 0.6145769002543273\n",
      "\u001b[34m\u001b[1mwandb\u001b[0m: \tgamma: 0.7891815067094485\n",
      "\u001b[34m\u001b[1mwandb\u001b[0m: \tvel_bins: 12\n",
      "\u001b[34m\u001b[1mwandb\u001b[0m: \tx_bins: 14\n"
     ]
    },
    {
     "data": {
      "text/html": [
       "Tracking run with wandb version 0.18.7"
      ],
      "text/plain": [
       "<IPython.core.display.HTML object>"
      ]
     },
     "metadata": {},
     "output_type": "display_data"
    },
    {
     "data": {
      "text/html": [
       "Run data is saved locally in <code>/Users/mateogiraz/Documents/MountainCarContinuous (1)/car-continuous/wandb/run-20241209_081342-96gj5h68</code>"
      ],
      "text/plain": [
       "<IPython.core.display.HTML object>"
      ]
     },
     "metadata": {},
     "output_type": "display_data"
    },
    {
     "data": {
      "text/html": [
       "Syncing run <strong><a href='https://wandb.ai/mateogiraz27-ort/mountain_car/runs/96gj5h68' target=\"_blank\">lyric-sweep-9</a></strong> to <a href='https://wandb.ai/mateogiraz27-ort/mountain_car' target=\"_blank\">Weights & Biases</a> (<a href='https://wandb.me/developer-guide' target=\"_blank\">docs</a>)<br/>Sweep page: <a href='https://wandb.ai/mateogiraz27-ort/mountain_car/sweeps/haew8c8r' target=\"_blank\">https://wandb.ai/mateogiraz27-ort/mountain_car/sweeps/haew8c8r</a>"
      ],
      "text/plain": [
       "<IPython.core.display.HTML object>"
      ]
     },
     "metadata": {},
     "output_type": "display_data"
    },
    {
     "data": {
      "text/html": [
       " View project at <a href='https://wandb.ai/mateogiraz27-ort/mountain_car' target=\"_blank\">https://wandb.ai/mateogiraz27-ort/mountain_car</a>"
      ],
      "text/plain": [
       "<IPython.core.display.HTML object>"
      ]
     },
     "metadata": {},
     "output_type": "display_data"
    },
    {
     "data": {
      "text/html": [
       " View sweep at <a href='https://wandb.ai/mateogiraz27-ort/mountain_car/sweeps/haew8c8r' target=\"_blank\">https://wandb.ai/mateogiraz27-ort/mountain_car/sweeps/haew8c8r</a>"
      ],
      "text/plain": [
       "<IPython.core.display.HTML object>"
      ]
     },
     "metadata": {},
     "output_type": "display_data"
    },
    {
     "data": {
      "text/html": [
       " View run at <a href='https://wandb.ai/mateogiraz27-ort/mountain_car/runs/96gj5h68' target=\"_blank\">https://wandb.ai/mateogiraz27-ort/mountain_car/runs/96gj5h68</a>"
      ],
      "text/plain": [
       "<IPython.core.display.HTML object>"
      ]
     },
     "metadata": {},
     "output_type": "display_data"
    },
    {
     "name": "stderr",
     "output_type": "stream",
     "text": [
      "Training Progress:  94%|█████████▍| 472/500 [00:06<00:00, 82.49episode/s, Episode Reward=-1000]\u001b[34m\u001b[1mwandb\u001b[0m: Ctrl + C detected. Stopping sweep.\n",
      "Training Progress:  95%|█████████▍| 473/500 [00:06<00:00, 82.49episode/s, Episode Reward=-1000]"
     ]
    },
    {
     "name": "stderr",
     "output_type": "stream",
     "text": [
      "Training Progress: 100%|██████████| 500/500 [00:06<00:00, 76.39episode/s, Episode Reward=-1000]\n",
      "Training Progress:  24%|██▎       | 118/500 [00:02<00:06, 56.59episode/s, Episode Reward=-1000]Exception in thread Exception in threading.excepthook:\n",
      "Exception ignored in thread started by: <bound method Thread._bootstrap of <Thread(Thread-631 (_run_job), stopped 6272348160)>>\n",
      "Traceback (most recent call last):\n",
      "  File \"/opt/anaconda3/lib/python3.12/threading.py\", line 1032, in _bootstrap\n",
      "    self._bootstrap_inner()\n",
      "  File \"/opt/anaconda3/lib/python3.12/threading.py\", line 1077, in _bootstrap_inner\n",
      "    self._invoke_excepthook(self)\n",
      "  File \"/opt/anaconda3/lib/python3.12/threading.py\", line 1391, in invoke_excepthook\n",
      "    local_print(\"Exception in threading.excepthook:\",\n",
      "  File \"/Users/mateogiraz/Library/Caches/pypoetry/virtualenvs/ai-project-yycSt0xa-py3.12/lib/python3.12/site-packages/ipykernel/iostream.py\", line 604, in flush\n",
      "    self.pub_thread.schedule(self._flush)\n",
      "  File \"/Users/mateogiraz/Library/Caches/pypoetry/virtualenvs/ai-project-yycSt0xa-py3.12/lib/python3.12/site-packages/ipykernel/iostream.py\", line 267, in schedule\n",
      "    self._event_pipe.send(b\"\")\n",
      "  File \"/Users/mateogiraz/Library/Caches/pypoetry/virtualenvs/ai-project-yycSt0xa-py3.12/lib/python3.12/site-packages/zmq/sugar/socket.py\", line 701, in send\n",
      "    return super().send(data, flags=flags, copy=copy, track=track)\n",
      "           ^^^^^^^^^^^^^^^^^^^^^^^^^^^^^^^^^^^^^^^^^^^^^^^^^^^^^^^\n",
      "  File \"_zmq.py\", line 1092, in zmq.backend.cython._zmq.Socket.send\n",
      "  File \"_zmq.py\", line 1134, in zmq.backend.cython._zmq.Socket.send\n",
      "  File \"_zmq.py\", line 1209, in zmq.backend.cython._zmq._check_closed\n",
      "zmq.error.ZMQError: Socket operation on non-socket\n",
      "Exception ignored in sys.unraisablehook: <built-in function unraisablehook>\n",
      "Traceback (most recent call last):\n",
      "  File \"/Users/mateogiraz/Library/Caches/pypoetry/virtualenvs/ai-project-yycSt0xa-py3.12/lib/python3.12/site-packages/ipykernel/iostream.py\", line 604, in flush\n",
      "    self.pub_thread.schedule(self._flush)\n",
      "  File \"/Users/mateogiraz/Library/Caches/pypoetry/virtualenvs/ai-project-yycSt0xa-py3.12/lib/python3.12/site-packages/ipykernel/iostream.py\", line 267, in schedule\n",
      "    self._event_pipe.send(b\"\")\n",
      "  File \"/Users/mateogiraz/Library/Caches/pypoetry/virtualenvs/ai-project-yycSt0xa-py3.12/lib/python3.12/site-packages/zmq/sugar/socket.py\", line 701, in send\n",
      "    return super().send(data, flags=flags, copy=copy, track=track)\n",
      "           ^^^^^^^^^^^^^^^^^^^^^^^^^^^^^^^^^^^^^^^^^^^^^^^^^^^^^^^\n",
      "  File \"_zmq.py\", line 1092, in zmq.backend.cython._zmq.Socket.send\n",
      "  File \"_zmq.py\", line 1134, in zmq.backend.cython._zmq.Socket.send\n",
      "  File \"_zmq.py\", line 1209, in zmq.backend.cython._zmq._check_closed\n",
      "zmq.error.ZMQError: Socket operation on non-socket\n"
     ]
    }
   ],
   "source": [
    "sweep_id = \"l6wrf4n4\"\n",
    "wandb.agent(sweep_id, function=sweep_v2, count=100, entity=entity, project=project)"
   ]
  },
  {
   "cell_type": "code",
   "execution_count": 21,
   "metadata": {},
   "outputs": [
    {
     "name": "stderr",
     "output_type": "stream",
     "text": [
      "Training Progress: 100%|██████████| 500/500 [00:06<00:00, 76.44episode/s, Episode Reward=-1000]\n"
     ]
    },
    {
     "name": "stdout",
     "output_type": "stream",
     "text": [
      "Train value: -999.748, Test value: -1000.0, Epsilon: 0.75616\n"
     ]
    },
    {
     "name": "stderr",
     "output_type": "stream",
     "text": [
      "Training Progress: 100%|██████████| 500/500 [00:06<00:00, 78.21episode/s, Episode Reward=-1000]\n"
     ]
    },
    {
     "name": "stdout",
     "output_type": "stream",
     "text": [
      "Train value: -1000.0, Test value: -1000.0, Epsilon: 0.680544\n"
     ]
    },
    {
     "name": "stderr",
     "output_type": "stream",
     "text": [
      "Training Progress: 100%|██████████| 500/500 [00:06<00:00, 79.50episode/s, Episode Reward=-1000]\n"
     ]
    },
    {
     "name": "stdout",
     "output_type": "stream",
     "text": [
      "Train value: -998.956, Test value: -1000.0, Epsilon: 0.5444352\n"
     ]
    },
    {
     "name": "stderr",
     "output_type": "stream",
     "text": [
      "Training Progress: 100%|██████████| 500/500 [00:06<00:00, 80.58episode/s, Episode Reward=-1000]\n"
     ]
    },
    {
     "name": "stdout",
     "output_type": "stream",
     "text": [
      "Train value: -998.43, Test value: -1000.0, Epsilon: 0.38110464\n"
     ]
    },
    {
     "name": "stderr",
     "output_type": "stream",
     "text": [
      "Training Progress: 100%|██████████| 500/500 [00:06<00:00, 78.69episode/s, Episode Reward=-1000]\n"
     ]
    },
    {
     "name": "stdout",
     "output_type": "stream",
     "text": [
      "Train value: -986.656, Test value: -1000.0, Epsilon: 0.22866278399999998\n"
     ]
    },
    {
     "name": "stderr",
     "output_type": "stream",
     "text": [
      "Training Progress: 100%|██████████| 500/500 [00:05<00:00, 85.90episode/s, Episode Reward=-1000]\n"
     ]
    },
    {
     "name": "stdout",
     "output_type": "stream",
     "text": [
      "Train value: -945.766, Test value: -1000.0, Epsilon: 0.11433139199999999\n"
     ]
    },
    {
     "name": "stderr",
     "output_type": "stream",
     "text": [
      "Training Progress: 100%|██████████| 500/500 [00:05<00:00, 90.31episode/s, Episode Reward=-524]  \n"
     ]
    },
    {
     "name": "stdout",
     "output_type": "stream",
     "text": [
      "Train value: -814.97, Test value: -1000.0, Epsilon: 0.0457325568\n"
     ]
    },
    {
     "name": "stderr",
     "output_type": "stream",
     "text": [
      "Training Progress: 100%|██████████| 500/500 [00:04<00:00, 112.32episode/s, Episode Reward=-1000]\n"
     ]
    },
    {
     "name": "stdout",
     "output_type": "stream",
     "text": [
      "Train value: -512.564, Test value: -100.98, Epsilon: 0.013719767039999999\n"
     ]
    },
    {
     "name": "stderr",
     "output_type": "stream",
     "text": [
      "Training Progress: 100%|██████████| 500/500 [00:03<00:00, 160.87episode/s, Episode Reward=-316] \n"
     ]
    },
    {
     "name": "stdout",
     "output_type": "stream",
     "text": [
      "Train value: -362.738, Test value: -13.42, Epsilon: 0.002743953408\n"
     ]
    },
    {
     "name": "stderr",
     "output_type": "stream",
     "text": [
      "Training Progress: 100%|██████████| 500/500 [00:02<00:00, 248.43episode/s, Episode Reward=-442] \n"
     ]
    },
    {
     "name": "stdout",
     "output_type": "stream",
     "text": [
      "Train value: -177.526, Test value: -176.8, Epsilon: 0.0002743953408\n"
     ]
    },
    {
     "name": "stderr",
     "output_type": "stream",
     "text": [
      "Training Progress: 100%|██████████| 500/500 [00:01<00:00, 364.14episode/s, Episode Reward=-7]  \n"
     ]
    },
    {
     "name": "stdout",
     "output_type": "stream",
     "text": [
      "Train value: -51.12, Test value: -3.64, Epsilon: 0.0\n"
     ]
    },
    {
     "name": "stderr",
     "output_type": "stream",
     "text": [
      "Training Progress: 100%|██████████| 500/500 [00:01<00:00, 365.54episode/s, Episode Reward=-5] \n"
     ]
    },
    {
     "name": "stdout",
     "output_type": "stream",
     "text": [
      "Train value: -3.296, Test value: -4.46, Epsilon: -0.0\n"
     ]
    },
    {
     "name": "stderr",
     "output_type": "stream",
     "text": [
      "Training Progress: 100%|██████████| 500/500 [00:01<00:00, 443.29episode/s, Episode Reward=0]  \n"
     ]
    },
    {
     "name": "stdout",
     "output_type": "stream",
     "text": [
      "Train value: -3.54, Test value: -3.22, Epsilon: 0.0\n"
     ]
    },
    {
     "name": "stderr",
     "output_type": "stream",
     "text": [
      "Training Progress: 100%|██████████| 500/500 [00:01<00:00, 456.52episode/s, Episode Reward=-7] \n"
     ]
    },
    {
     "name": "stdout",
     "output_type": "stream",
     "text": [
      "Train value: -3.29, Test value: -2.64, Epsilon: -0.0\n"
     ]
    },
    {
     "name": "stderr",
     "output_type": "stream",
     "text": [
      "Training Progress: 100%|██████████| 500/500 [00:01<00:00, 433.20episode/s, Episode Reward=-8] \n"
     ]
    },
    {
     "name": "stdout",
     "output_type": "stream",
     "text": [
      "Train value: -3.29, Test value: -3.22, Epsilon: 0.0\n"
     ]
    },
    {
     "name": "stderr",
     "output_type": "stream",
     "text": [
      "Training Progress: 100%|██████████| 500/500 [00:01<00:00, 437.08episode/s, Episode Reward=-6] \n"
     ]
    },
    {
     "name": "stdout",
     "output_type": "stream",
     "text": [
      "Train value: -3.224, Test value: -3.22, Epsilon: -0.0\n"
     ]
    },
    {
     "name": "stderr",
     "output_type": "stream",
     "text": [
      "Training Progress: 100%|██████████| 500/500 [00:01<00:00, 311.42episode/s, Episode Reward=0]  \n"
     ]
    },
    {
     "name": "stdout",
     "output_type": "stream",
     "text": [
      "Train value: -3.234, Test value: -3.6, Epsilon: 0.0\n"
     ]
    },
    {
     "name": "stderr",
     "output_type": "stream",
     "text": [
      "Training Progress: 100%|██████████| 500/500 [00:01<00:00, 405.51episode/s, Episode Reward=-10]\n"
     ]
    },
    {
     "name": "stdout",
     "output_type": "stream",
     "text": [
      "Train value: -3.02, Test value: -3.22, Epsilon: -0.0\n"
     ]
    },
    {
     "name": "stderr",
     "output_type": "stream",
     "text": [
      "Training Progress: 100%|██████████| 500/500 [00:01<00:00, 435.90episode/s, Episode Reward=-5] \n"
     ]
    },
    {
     "name": "stdout",
     "output_type": "stream",
     "text": [
      "Train value: -3.198, Test value: -4.16, Epsilon: 0.0\n"
     ]
    },
    {
     "name": "stderr",
     "output_type": "stream",
     "text": [
      "Training Progress: 100%|██████████| 500/500 [00:01<00:00, 441.37episode/s, Episode Reward=2]  \n"
     ]
    },
    {
     "name": "stdout",
     "output_type": "stream",
     "text": [
      "Train value: -2.868, Test value: -3.24, Epsilon: -0.0\n"
     ]
    }
   ],
   "source": [
    "# ejecutar el agente con los mejores parametros\n",
    "\n",
    "alpha = 0.96276\n",
    "epsilon = 0.75616\n",
    "gamma = 0.88364\n",
    "action_bins = 83\n",
    "x_bins = 10\n",
    "vel_bins = 13\n",
    "\n",
    "env = ContinuousMountainCarEnvExtended(render_mode='rgb_array')\n",
    "model = Car(env, x_bins, vel_bins, action_bins)\n",
    "agent = MountainCarAgent(model, alpha, gamma)\n",
    "\n",
    "for t in range(20):\n",
    "    train_value = agent.train(500, epsilon)\n",
    "    test_value = agent.test(50)\n",
    "    epsilon *= (10-t)/10\n",
    "    print(f\"Train value: {train_value}, Test value: {test_value}, Epsilon: {epsilon}\")"
   ]
  },
  {
   "cell_type": "code",
   "execution_count": 20,
   "metadata": {},
   "outputs": [],
   "source": [
    "# Guardar el modelo entrenado\n",
    "import pickle\n",
    "with open('mountain_car_agent.pkl', 'wb') as f:\n",
    "    pickle.dump({\n",
    "        'agent': agent,\n",
    "        'parameters': {\n",
    "            'alpha': alpha,\n",
    "            'epsilon': epsilon,\n",
    "            'gamma': gamma,\n",
    "            'action_bins': action_bins,\n",
    "            'x_bins': x_bins,\n",
    "            'vel_bins': vel_bins\n",
    "        }\n",
    "    }, f)"
   ]
  },
  {
   "cell_type": "code",
   "execution_count": null,
   "metadata": {},
   "outputs": [],
   "source": [
    "with open('mountain_car_agent.pkl', 'rb') as f:\n",
    "    loaded_agent = pickle.load(f)\n",
    "\n",
    "    test_value = loaded_agent['agent'].test(500)\n",
    "    print(f\"Test value: {test_value}\")\n"
   ]
  }
 ],
 "metadata": {
  "kernelspec": {
   "display_name": "ai-project-yycSt0xa-py3.12",
   "language": "python",
   "name": "python3"
  },
  "language_info": {
   "codemirror_mode": {
    "name": "ipython",
    "version": 3
   },
   "file_extension": ".py",
   "mimetype": "text/x-python",
   "name": "python",
   "nbconvert_exporter": "python",
   "pygments_lexer": "ipython3",
   "version": "3.12.7"
  },
  "orig_nbformat": 4
 },
 "nbformat": 4,
 "nbformat_minor": 2
}
