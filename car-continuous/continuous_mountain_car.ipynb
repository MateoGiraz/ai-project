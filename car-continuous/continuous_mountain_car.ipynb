{
 "cells": [
  {
   "cell_type": "markdown",
   "metadata": {},
   "source": [
    "Esta notebook contiene bloques de código útiles para realizar Q-learning en el entorno \"Continuous Mountain Car\""
   ]
  },
  {
   "cell_type": "code",
   "execution_count": 6,
   "metadata": {},
   "outputs": [],
   "source": [
    "from tqdm import tqdm\n",
    "import numpy as np\n",
    "import wandb\n",
    "import gym\n",
    "from car_model import Car\n",
    "from mountain_car_agent import MountainCarAgent"
   ]
  },
  {
   "cell_type": "code",
   "execution_count": 7,
   "metadata": {},
   "outputs": [],
   "source": [
    "from continuous_mountain_car_env_extended import ContinuousMountainCarEnvExtended\n",
    "\n",
    "# Cambiar render_mode a rgb_array para entrenar/testear\n",
    "env = ContinuousMountainCarEnvExtended(render_mode='rgb_array')"
   ]
  },
  {
   "cell_type": "code",
   "execution_count": 8,
   "metadata": {},
   "outputs": [],
   "source": [
    "x_bins = 20  # Number of bins for position\n",
    "vel_bins = 20  # Number of bins for velocity\n",
    "action_bins = 5  # Number of discrete actions to sample from\n",
    "model = Car(env, x_bins, vel_bins, action_bins)"
   ]
  },
  {
   "cell_type": "code",
   "execution_count": 9,
   "metadata": {},
   "outputs": [],
   "source": [
    "alpha = 0.1  # Learning rate\n",
    "gamma = 0.99  # Discount factor\n",
    "agent = MountainCarAgent(model, alpha, gamma)"
   ]
  },
  {
   "cell_type": "code",
   "execution_count": 10,
   "metadata": {},
   "outputs": [
    {
     "name": "stderr",
     "output_type": "stream",
     "text": [
      "Training Progress: 100%|██████████| 1000/1000 [00:03<00:00, 256.01episode/s, Episode Reward=-50]"
     ]
    },
    {
     "name": "stdout",
     "output_type": "stream",
     "text": [
      "Average training reward over 1000 episodes: -156.562\n"
     ]
    },
    {
     "name": "stderr",
     "output_type": "stream",
     "text": [
      "\n"
     ]
    }
   ],
   "source": [
    "# Train the agent\n",
    "num_training_episodes = 1000\n",
    "epsilon = 0.2\n",
    "average_training_rewards = agent.train(num_training_episodes, epsilon)\n",
    "print(f\"Average training reward over {num_training_episodes} episodes: {average_training_rewards}\")"
   ]
  },
  {
   "cell_type": "code",
   "execution_count": 11,
   "metadata": {},
   "outputs": [
    {
     "name": "stdout",
     "output_type": "stream",
     "text": [
      "Average evaluation reward over 100 episodes: -17.84\n"
     ]
    }
   ],
   "source": [
    "# Evaluate the agent\n",
    "num_evaluation_episodes = 100\n",
    "average_evaluation_rewards = agent.test(num_evaluation_episodes)\n",
    "print(f\"Average evaluation reward over {num_evaluation_episodes} episodes: {average_evaluation_rewards}\")"
   ]
  },
  {
   "cell_type": "markdown",
   "metadata": {},
   "source": [
    "Obtener el estado a partir de la observación"
   ]
  },
  {
   "cell_type": "code",
   "execution_count": 13,
   "metadata": {},
   "outputs": [
    {
     "data": {
      "text/html": [
       "Finishing last run (ID:nbezauf5) before initializing another..."
      ],
      "text/plain": [
       "<IPython.core.display.HTML object>"
      ]
     },
     "metadata": {},
     "output_type": "display_data"
    },
    {
     "data": {
      "text/html": [
       "\n",
       "    <style>\n",
       "        .wandb-row {\n",
       "            display: flex;\n",
       "            flex-direction: row;\n",
       "            flex-wrap: wrap;\n",
       "            justify-content: flex-start;\n",
       "            width: 100%;\n",
       "        }\n",
       "        .wandb-col {\n",
       "            display: flex;\n",
       "            flex-direction: column;\n",
       "            flex-basis: 100%;\n",
       "            flex: 1;\n",
       "            padding: 10px;\n",
       "        }\n",
       "    </style>\n",
       "<div class=\"wandb-row\"><div class=\"wandb-col\"><h3>Run history:</h3><br/><table class=\"wandb\"><tr><td>evalValue</td><td>▇▆▁▆▅███▂▇</td></tr><tr><td>t</td><td>▁▂▃▃▄▅▆▆▇█</td></tr><tr><td>trainValue</td><td>▁▅▁▃▃█████</td></tr></table><br/></div><div class=\"wandb-col\"><h3>Run summary:</h3><br/><table class=\"wandb\"><tr><td>evalValue</td><td>-43.66667</td></tr><tr><td>t</td><td>9</td></tr><tr><td>trainValue</td><td>-41.29</td></tr></table><br/></div></div>"
      ],
      "text/plain": [
       "<IPython.core.display.HTML object>"
      ]
     },
     "metadata": {},
     "output_type": "display_data"
    },
    {
     "data": {
      "text/html": [
       " View run <strong style=\"color:#cdcd00\">worldly-sunset-71</strong> at: <a href='https://wandb.ai/mateogiraz27-ort/mountain_car/runs/nbezauf5' target=\"_blank\">https://wandb.ai/mateogiraz27-ort/mountain_car/runs/nbezauf5</a><br/> View project at: <a href='https://wandb.ai/mateogiraz27-ort/mountain_car' target=\"_blank\">https://wandb.ai/mateogiraz27-ort/mountain_car</a><br/>Synced 5 W&B file(s), 0 media file(s), 0 artifact file(s) and 0 other file(s)"
      ],
      "text/plain": [
       "<IPython.core.display.HTML object>"
      ]
     },
     "metadata": {},
     "output_type": "display_data"
    },
    {
     "data": {
      "text/html": [
       "Find logs at: <code>./wandb/run-20241208_145627-nbezauf5/logs</code>"
      ],
      "text/plain": [
       "<IPython.core.display.HTML object>"
      ]
     },
     "metadata": {},
     "output_type": "display_data"
    },
    {
     "data": {
      "text/html": [
       "Successfully finished last run (ID:nbezauf5). Initializing new run:<br/>"
      ],
      "text/plain": [
       "<IPython.core.display.HTML object>"
      ]
     },
     "metadata": {},
     "output_type": "display_data"
    },
    {
     "data": {
      "text/html": [
       "Tracking run with wandb version 0.18.7"
      ],
      "text/plain": [
       "<IPython.core.display.HTML object>"
      ]
     },
     "metadata": {},
     "output_type": "display_data"
    },
    {
     "data": {
      "text/html": [
       "Run data is saved locally in <code>/Users/mateogiraz/Documents/MountainCarContinuous (1)/car-continuous/wandb/run-20241208_150004-lbshyfwr</code>"
      ],
      "text/plain": [
       "<IPython.core.display.HTML object>"
      ]
     },
     "metadata": {},
     "output_type": "display_data"
    },
    {
     "data": {
      "text/html": [
       "Syncing run <strong><a href='https://wandb.ai/mateogiraz27-ort/mountain_car/runs/lbshyfwr' target=\"_blank\">devout-cloud-72</a></strong> to <a href='https://wandb.ai/mateogiraz27-ort/mountain_car' target=\"_blank\">Weights & Biases</a> (<a href='https://wandb.me/developer-guide' target=\"_blank\">docs</a>)<br/>"
      ],
      "text/plain": [
       "<IPython.core.display.HTML object>"
      ]
     },
     "metadata": {},
     "output_type": "display_data"
    },
    {
     "data": {
      "text/html": [
       " View project at <a href='https://wandb.ai/mateogiraz27-ort/mountain_car' target=\"_blank\">https://wandb.ai/mateogiraz27-ort/mountain_car</a>"
      ],
      "text/plain": [
       "<IPython.core.display.HTML object>"
      ]
     },
     "metadata": {},
     "output_type": "display_data"
    },
    {
     "data": {
      "text/html": [
       " View run at <a href='https://wandb.ai/mateogiraz27-ort/mountain_car/runs/lbshyfwr' target=\"_blank\">https://wandb.ai/mateogiraz27-ort/mountain_car/runs/lbshyfwr</a>"
      ],
      "text/plain": [
       "<IPython.core.display.HTML object>"
      ]
     },
     "metadata": {},
     "output_type": "display_data"
    },
    {
     "name": "stderr",
     "output_type": "stream",
     "text": [
      "Training Progress: 100%|██████████| 100/100 [00:00<00:00, 323.24episode/s, Episode Reward=-18]\n",
      "Training Progress: 100%|██████████| 100/100 [00:00<00:00, 376.62episode/s, Episode Reward=-46]\n",
      "Training Progress: 100%|██████████| 100/100 [00:00<00:00, 362.24episode/s, Episode Reward=-45]\n",
      "Training Progress: 100%|██████████| 100/100 [00:00<00:00, 371.80episode/s, Episode Reward=-55]\n",
      "Training Progress: 100%|██████████| 100/100 [00:00<00:00, 366.42episode/s, Episode Reward=-43]\n",
      "Training Progress: 100%|██████████| 100/100 [00:00<00:00, 369.30episode/s, Episode Reward=-44]\n",
      "Training Progress: 100%|██████████| 100/100 [00:00<00:00, 373.83episode/s, Episode Reward=-34]\n",
      "Training Progress: 100%|██████████| 100/100 [00:00<00:00, 365.40episode/s, Episode Reward=-42]\n",
      "Training Progress: 100%|██████████| 100/100 [00:00<00:00, 368.09episode/s, Episode Reward=-35]\n",
      "Training Progress: 100%|██████████| 100/100 [00:00<00:00, 374.09episode/s, Episode Reward=-39]\n"
     ]
    }
   ],
   "source": [
    "wandb.init(project=\"mountain_car\",\n",
    "           config={\n",
    "               'x_bins': x_bins,\n",
    "               'vel_bins': vel_bins,\n",
    "               'action_bins': action_bins,\n",
    "               'alpha': alpha,\n",
    "               'gamma': gamma,\n",
    "               'epsilon': epsilon,\n",
    "           })\n",
    "    \n",
    "epsilon_initial = epsilon\n",
    "for t in range(10):\n",
    "    train_value = agent.train(100, epsilon_initial)\n",
    "    eval_value = agent.test(30)\n",
    "    wandb.log({'trainValue': train_value, 'evalValue': eval_value, \"t\": t})\n",
    "    epsilon_initial *= 0.9  # Decay epsilon over iterations"
   ]
  },
  {
   "cell_type": "code",
   "execution_count": null,
   "metadata": {},
   "outputs": [
    {
     "name": "stderr",
     "output_type": "stream",
     "text": [
      "\u001b[34m\u001b[1mwandb\u001b[0m: \u001b[33mWARNING\u001b[0m Calling wandb.login() after wandb.init() has no effect.\n",
      "\u001b[34m\u001b[1mwandb\u001b[0m: Agent Starting Run: bcpophdk with config:\n",
      "\u001b[34m\u001b[1mwandb\u001b[0m: \taction_bins: 19\n",
      "\u001b[34m\u001b[1mwandb\u001b[0m: \talpha: 0.9128818928657194\n",
      "\u001b[34m\u001b[1mwandb\u001b[0m: \tepsilon: 0.7157859208816209\n",
      "\u001b[34m\u001b[1mwandb\u001b[0m: \tgamma: 0.9164145668338208\n",
      "\u001b[34m\u001b[1mwandb\u001b[0m: \tvel_bins: 67\n",
      "\u001b[34m\u001b[1mwandb\u001b[0m: \tx_bins: 87\n",
      "Training Progress: 100%|██████████| 250/250 [00:01<00:00, 128.12episode/s, Episode Reward=-87]  \n",
      "Exception in thread Thread-54 (_run_job):\n",
      "Traceback (most recent call last):\n",
      "  File \"/Users/mateogiraz/Library/Caches/pypoetry/virtualenvs/ai-project-yycSt0xa-py3.12/lib/python3.12/site-packages/wandb/agents/pyagent.py\", line 306, in _run_job\n",
      "    self._function()\n",
      "  File \"/var/folders/63/3wsl80595ml9n1q7mqrh7r0h0000gn/T/ipykernel_74574/256021629.py\", line 16, in sweep\n",
      "AttributeError: 'MountainCarAgent' object has no attribute 'play'\n",
      "\n",
      "During handling of the above exception, another exception occurred:\n",
      "\n",
      "Traceback (most recent call last):\n",
      "  File \"/opt/anaconda3/lib/python3.12/threading.py\", line 1075, in _bootstrap_inner\n",
      "    self.run()\n",
      "  File \"/Users/mateogiraz/Library/Caches/pypoetry/virtualenvs/ai-project-yycSt0xa-py3.12/lib/python3.12/site-packages/ipykernel/ipkernel.py\", line 766, in run_closure\n",
      "    _threading_Thread_run(self)\n",
      "  File \"/opt/anaconda3/lib/python3.12/threading.py\", line 1012, in run\n",
      "    self._target(*self._args, **self._kwargs)\n",
      "  File \"/Users/mateogiraz/Library/Caches/pypoetry/virtualenvs/ai-project-yycSt0xa-py3.12/lib/python3.12/site-packages/wandb/agents/pyagent.py\", line 311, in _run_job\n",
      "    wandb.finish(exit_code=1)\n",
      "  File \"/Users/mateogiraz/Library/Caches/pypoetry/virtualenvs/ai-project-yycSt0xa-py3.12/lib/python3.12/site-packages/wandb/sdk/wandb_run.py\", line 4151, in finish\n",
      "    wandb.run.finish(exit_code=exit_code, quiet=quiet)\n",
      "  File \"/Users/mateogiraz/Library/Caches/pypoetry/virtualenvs/ai-project-yycSt0xa-py3.12/lib/python3.12/site-packages/wandb/sdk/wandb_run.py\", line 451, in wrapper\n",
      "    return func(self, *args, **kwargs)\n",
      "           ^^^^^^^^^^^^^^^^^^^^^^^^^^^\n",
      "  File \"/Users/mateogiraz/Library/Caches/pypoetry/virtualenvs/ai-project-yycSt0xa-py3.12/lib/python3.12/site-packages/wandb/sdk/wandb_run.py\", line 393, in wrapper\n",
      "    return func(self, *args, **kwargs)\n",
      "           ^^^^^^^^^^^^^^^^^^^^^^^^^^^\n",
      "  File \"/Users/mateogiraz/Library/Caches/pypoetry/virtualenvs/ai-project-yycSt0xa-py3.12/lib/python3.12/site-packages/wandb/sdk/wandb_run.py\", line 2149, in finish\n",
      "    return self._finish(exit_code)\n",
      "           ^^^^^^^^^^^^^^^^^^^^^^^\n",
      "  File \"/Users/mateogiraz/Library/Caches/pypoetry/virtualenvs/ai-project-yycSt0xa-py3.12/lib/python3.12/site-packages/wandb/sdk/wandb_run.py\", line 2156, in _finish\n",
      "    with telemetry.context(run=self) as tel:\n",
      "         ^^^^^^^^^^^^^^^^^^^^^^^^^^^\n",
      "  File \"/Users/mateogiraz/Library/Caches/pypoetry/virtualenvs/ai-project-yycSt0xa-py3.12/lib/python3.12/site-packages/wandb/sdk/lib/telemetry.py\", line 42, in __exit__\n",
      "    self._run._telemetry_callback(self._obj)\n",
      "  File \"/Users/mateogiraz/Library/Caches/pypoetry/virtualenvs/ai-project-yycSt0xa-py3.12/lib/python3.12/site-packages/wandb/sdk/wandb_run.py\", line 801, in _telemetry_callback\n",
      "    self._telemetry_flush()\n",
      "  File \"/Users/mateogiraz/Library/Caches/pypoetry/virtualenvs/ai-project-yycSt0xa-py3.12/lib/python3.12/site-packages/wandb/sdk/wandb_run.py\", line 814, in _telemetry_flush\n",
      "    self._backend.interface._publish_telemetry(self._telemetry_obj)\n",
      "  File \"/Users/mateogiraz/Library/Caches/pypoetry/virtualenvs/ai-project-yycSt0xa-py3.12/lib/python3.12/site-packages/wandb/sdk/interface/interface_shared.py\", line 101, in _publish_telemetry\n",
      "    self._publish(rec)\n",
      "  File \"/Users/mateogiraz/Library/Caches/pypoetry/virtualenvs/ai-project-yycSt0xa-py3.12/lib/python3.12/site-packages/wandb/sdk/interface/interface_sock.py\", line 51, in _publish\n",
      "    self._sock_client.send_record_publish(record)\n",
      "  File \"/Users/mateogiraz/Library/Caches/pypoetry/virtualenvs/ai-project-yycSt0xa-py3.12/lib/python3.12/site-packages/wandb/sdk/lib/sock_client.py\", line 222, in send_record_publish\n",
      "    self.send_server_request(server_req)\n",
      "  File \"/Users/mateogiraz/Library/Caches/pypoetry/virtualenvs/ai-project-yycSt0xa-py3.12/lib/python3.12/site-packages/wandb/sdk/lib/sock_client.py\", line 154, in send_server_request\n",
      "    self._send_message(msg)\n",
      "  File \"/Users/mateogiraz/Library/Caches/pypoetry/virtualenvs/ai-project-yycSt0xa-py3.12/lib/python3.12/site-packages/wandb/sdk/lib/sock_client.py\", line 151, in _send_message\n",
      "    self._sendall_with_error_handle(header + data)\n",
      "  File \"/Users/mateogiraz/Library/Caches/pypoetry/virtualenvs/ai-project-yycSt0xa-py3.12/lib/python3.12/site-packages/wandb/sdk/lib/sock_client.py\", line 130, in _sendall_with_error_handle\n",
      "    sent = self._sock.send(data)\n",
      "           ^^^^^^^^^^^^^^^^^^^^^\n",
      "BrokenPipeError: [Errno 32] Broken pipe\n",
      "\u001b[34m\u001b[1mwandb\u001b[0m: Agent Starting Run: i3b1ed5o with config:\n",
      "\u001b[34m\u001b[1mwandb\u001b[0m: \taction_bins: 5\n",
      "\u001b[34m\u001b[1mwandb\u001b[0m: \talpha: 0.635677586330035\n",
      "\u001b[34m\u001b[1mwandb\u001b[0m: \tepsilon: 0.6914002351315002\n",
      "\u001b[34m\u001b[1mwandb\u001b[0m: \tgamma: 0.7187125668783717\n",
      "\u001b[34m\u001b[1mwandb\u001b[0m: \tvel_bins: 44\n",
      "\u001b[34m\u001b[1mwandb\u001b[0m: \tx_bins: 84\n",
      "Training Progress: 100%|██████████| 250/250 [00:01<00:00, 137.72episode/s, Episode Reward=-157]\n",
      "Exception in thread Thread-55 (_run_job):\n",
      "Traceback (most recent call last):\n",
      "  File \"/Users/mateogiraz/Library/Caches/pypoetry/virtualenvs/ai-project-yycSt0xa-py3.12/lib/python3.12/site-packages/wandb/agents/pyagent.py\", line 306, in _run_job\n",
      "    self._function()\n",
      "  File \"/var/folders/63/3wsl80595ml9n1q7mqrh7r0h0000gn/T/ipykernel_74574/256021629.py\", line 16, in sweep\n",
      "AttributeError: 'MountainCarAgent' object has no attribute 'play'\n",
      "\n",
      "During handling of the above exception, another exception occurred:\n",
      "\n",
      "Traceback (most recent call last):\n",
      "  File \"/opt/anaconda3/lib/python3.12/threading.py\", line 1075, in _bootstrap_inner\n",
      "    self.run()\n",
      "  File \"/Users/mateogiraz/Library/Caches/pypoetry/virtualenvs/ai-project-yycSt0xa-py3.12/lib/python3.12/site-packages/ipykernel/ipkernel.py\", line 766, in run_closure\n",
      "    _threading_Thread_run(self)\n",
      "  File \"/opt/anaconda3/lib/python3.12/threading.py\", line 1012, in run\n",
      "    self._target(*self._args, **self._kwargs)\n",
      "  File \"/Users/mateogiraz/Library/Caches/pypoetry/virtualenvs/ai-project-yycSt0xa-py3.12/lib/python3.12/site-packages/wandb/agents/pyagent.py\", line 311, in _run_job\n",
      "    wandb.finish(exit_code=1)\n",
      "  File \"/Users/mateogiraz/Library/Caches/pypoetry/virtualenvs/ai-project-yycSt0xa-py3.12/lib/python3.12/site-packages/wandb/sdk/wandb_run.py\", line 4151, in finish\n",
      "    wandb.run.finish(exit_code=exit_code, quiet=quiet)\n",
      "  File \"/Users/mateogiraz/Library/Caches/pypoetry/virtualenvs/ai-project-yycSt0xa-py3.12/lib/python3.12/site-packages/wandb/sdk/wandb_run.py\", line 451, in wrapper\n",
      "    return func(self, *args, **kwargs)\n",
      "           ^^^^^^^^^^^^^^^^^^^^^^^^^^^\n",
      "  File \"/Users/mateogiraz/Library/Caches/pypoetry/virtualenvs/ai-project-yycSt0xa-py3.12/lib/python3.12/site-packages/wandb/sdk/wandb_run.py\", line 393, in wrapper\n",
      "    return func(self, *args, **kwargs)\n",
      "           ^^^^^^^^^^^^^^^^^^^^^^^^^^^\n",
      "  File \"/Users/mateogiraz/Library/Caches/pypoetry/virtualenvs/ai-project-yycSt0xa-py3.12/lib/python3.12/site-packages/wandb/sdk/wandb_run.py\", line 2149, in finish\n",
      "    return self._finish(exit_code)\n",
      "           ^^^^^^^^^^^^^^^^^^^^^^^\n",
      "  File \"/Users/mateogiraz/Library/Caches/pypoetry/virtualenvs/ai-project-yycSt0xa-py3.12/lib/python3.12/site-packages/wandb/sdk/wandb_run.py\", line 2156, in _finish\n",
      "    with telemetry.context(run=self) as tel:\n",
      "         ^^^^^^^^^^^^^^^^^^^^^^^^^^^\n",
      "  File \"/Users/mateogiraz/Library/Caches/pypoetry/virtualenvs/ai-project-yycSt0xa-py3.12/lib/python3.12/site-packages/wandb/sdk/lib/telemetry.py\", line 42, in __exit__\n",
      "    self._run._telemetry_callback(self._obj)\n",
      "  File \"/Users/mateogiraz/Library/Caches/pypoetry/virtualenvs/ai-project-yycSt0xa-py3.12/lib/python3.12/site-packages/wandb/sdk/wandb_run.py\", line 801, in _telemetry_callback\n",
      "    self._telemetry_flush()\n",
      "  File \"/Users/mateogiraz/Library/Caches/pypoetry/virtualenvs/ai-project-yycSt0xa-py3.12/lib/python3.12/site-packages/wandb/sdk/wandb_run.py\", line 814, in _telemetry_flush\n",
      "    self._backend.interface._publish_telemetry(self._telemetry_obj)\n",
      "  File \"/Users/mateogiraz/Library/Caches/pypoetry/virtualenvs/ai-project-yycSt0xa-py3.12/lib/python3.12/site-packages/wandb/sdk/interface/interface_shared.py\", line 101, in _publish_telemetry\n",
      "    self._publish(rec)\n",
      "  File \"/Users/mateogiraz/Library/Caches/pypoetry/virtualenvs/ai-project-yycSt0xa-py3.12/lib/python3.12/site-packages/wandb/sdk/interface/interface_sock.py\", line 51, in _publish\n",
      "    self._sock_client.send_record_publish(record)\n",
      "  File \"/Users/mateogiraz/Library/Caches/pypoetry/virtualenvs/ai-project-yycSt0xa-py3.12/lib/python3.12/site-packages/wandb/sdk/lib/sock_client.py\", line 222, in send_record_publish\n",
      "    self.send_server_request(server_req)\n",
      "  File \"/Users/mateogiraz/Library/Caches/pypoetry/virtualenvs/ai-project-yycSt0xa-py3.12/lib/python3.12/site-packages/wandb/sdk/lib/sock_client.py\", line 154, in send_server_request\n",
      "    self._send_message(msg)\n",
      "  File \"/Users/mateogiraz/Library/Caches/pypoetry/virtualenvs/ai-project-yycSt0xa-py3.12/lib/python3.12/site-packages/wandb/sdk/lib/sock_client.py\", line 151, in _send_message\n",
      "    self._sendall_with_error_handle(header + data)\n",
      "  File \"/Users/mateogiraz/Library/Caches/pypoetry/virtualenvs/ai-project-yycSt0xa-py3.12/lib/python3.12/site-packages/wandb/sdk/lib/sock_client.py\", line 130, in _sendall_with_error_handle\n",
      "    sent = self._sock.send(data)\n",
      "           ^^^^^^^^^^^^^^^^^^^^^\n",
      "BrokenPipeError: [Errno 32] Broken pipe\n",
      "\u001b[34m\u001b[1mwandb\u001b[0m: Agent Starting Run: qwttemka with config:\n",
      "\u001b[34m\u001b[1mwandb\u001b[0m: \taction_bins: 10\n",
      "\u001b[34m\u001b[1mwandb\u001b[0m: \talpha: 0.9738468986610334\n",
      "\u001b[34m\u001b[1mwandb\u001b[0m: \tepsilon: 0.7768085140635838\n",
      "\u001b[34m\u001b[1mwandb\u001b[0m: \tgamma: 0.9327876108342762\n",
      "\u001b[34m\u001b[1mwandb\u001b[0m: \tvel_bins: 21\n",
      "\u001b[34m\u001b[1mwandb\u001b[0m: \tx_bins: 69\n",
      "Training Progress: 100%|██████████| 250/250 [00:01<00:00, 130.40episode/s, Episode Reward=-148]\n",
      "Exception in thread Thread-56 (_run_job):\n",
      "Traceback (most recent call last):\n",
      "  File \"/Users/mateogiraz/Library/Caches/pypoetry/virtualenvs/ai-project-yycSt0xa-py3.12/lib/python3.12/site-packages/wandb/agents/pyagent.py\", line 306, in _run_job\n",
      "    self._function()\n",
      "  File \"/var/folders/63/3wsl80595ml9n1q7mqrh7r0h0000gn/T/ipykernel_74574/256021629.py\", line 16, in sweep\n",
      "AttributeError: 'MountainCarAgent' object has no attribute 'play'\n",
      "\n",
      "During handling of the above exception, another exception occurred:\n",
      "\n",
      "Traceback (most recent call last):\n",
      "  File \"/opt/anaconda3/lib/python3.12/threading.py\", line 1075, in _bootstrap_inner\n",
      "    self.run()\n",
      "  File \"/Users/mateogiraz/Library/Caches/pypoetry/virtualenvs/ai-project-yycSt0xa-py3.12/lib/python3.12/site-packages/ipykernel/ipkernel.py\", line 766, in run_closure\n",
      "    _threading_Thread_run(self)\n",
      "  File \"/opt/anaconda3/lib/python3.12/threading.py\", line 1012, in run\n",
      "    self._target(*self._args, **self._kwargs)\n",
      "  File \"/Users/mateogiraz/Library/Caches/pypoetry/virtualenvs/ai-project-yycSt0xa-py3.12/lib/python3.12/site-packages/wandb/agents/pyagent.py\", line 311, in _run_job\n",
      "    wandb.finish(exit_code=1)\n",
      "  File \"/Users/mateogiraz/Library/Caches/pypoetry/virtualenvs/ai-project-yycSt0xa-py3.12/lib/python3.12/site-packages/wandb/sdk/wandb_run.py\", line 4151, in finish\n",
      "    wandb.run.finish(exit_code=exit_code, quiet=quiet)\n",
      "  File \"/Users/mateogiraz/Library/Caches/pypoetry/virtualenvs/ai-project-yycSt0xa-py3.12/lib/python3.12/site-packages/wandb/sdk/wandb_run.py\", line 451, in wrapper\n",
      "    return func(self, *args, **kwargs)\n",
      "           ^^^^^^^^^^^^^^^^^^^^^^^^^^^\n",
      "  File \"/Users/mateogiraz/Library/Caches/pypoetry/virtualenvs/ai-project-yycSt0xa-py3.12/lib/python3.12/site-packages/wandb/sdk/wandb_run.py\", line 393, in wrapper\n",
      "    return func(self, *args, **kwargs)\n",
      "           ^^^^^^^^^^^^^^^^^^^^^^^^^^^\n",
      "  File \"/Users/mateogiraz/Library/Caches/pypoetry/virtualenvs/ai-project-yycSt0xa-py3.12/lib/python3.12/site-packages/wandb/sdk/wandb_run.py\", line 2149, in finish\n",
      "    return self._finish(exit_code)\n",
      "           ^^^^^^^^^^^^^^^^^^^^^^^\n",
      "  File \"/Users/mateogiraz/Library/Caches/pypoetry/virtualenvs/ai-project-yycSt0xa-py3.12/lib/python3.12/site-packages/wandb/sdk/wandb_run.py\", line 2156, in _finish\n",
      "    with telemetry.context(run=self) as tel:\n",
      "         ^^^^^^^^^^^^^^^^^^^^^^^^^^^\n",
      "  File \"/Users/mateogiraz/Library/Caches/pypoetry/virtualenvs/ai-project-yycSt0xa-py3.12/lib/python3.12/site-packages/wandb/sdk/lib/telemetry.py\", line 42, in __exit__\n",
      "    self._run._telemetry_callback(self._obj)\n",
      "  File \"/Users/mateogiraz/Library/Caches/pypoetry/virtualenvs/ai-project-yycSt0xa-py3.12/lib/python3.12/site-packages/wandb/sdk/wandb_run.py\", line 801, in _telemetry_callback\n",
      "    self._telemetry_flush()\n",
      "  File \"/Users/mateogiraz/Library/Caches/pypoetry/virtualenvs/ai-project-yycSt0xa-py3.12/lib/python3.12/site-packages/wandb/sdk/wandb_run.py\", line 814, in _telemetry_flush\n",
      "    self._backend.interface._publish_telemetry(self._telemetry_obj)\n",
      "  File \"/Users/mateogiraz/Library/Caches/pypoetry/virtualenvs/ai-project-yycSt0xa-py3.12/lib/python3.12/site-packages/wandb/sdk/interface/interface_shared.py\", line 101, in _publish_telemetry\n",
      "    self._publish(rec)\n",
      "  File \"/Users/mateogiraz/Library/Caches/pypoetry/virtualenvs/ai-project-yycSt0xa-py3.12/lib/python3.12/site-packages/wandb/sdk/interface/interface_sock.py\", line 51, in _publish\n",
      "    self._sock_client.send_record_publish(record)\n",
      "  File \"/Users/mateogiraz/Library/Caches/pypoetry/virtualenvs/ai-project-yycSt0xa-py3.12/lib/python3.12/site-packages/wandb/sdk/lib/sock_client.py\", line 222, in send_record_publish\n",
      "    self.send_server_request(server_req)\n",
      "  File \"/Users/mateogiraz/Library/Caches/pypoetry/virtualenvs/ai-project-yycSt0xa-py3.12/lib/python3.12/site-packages/wandb/sdk/lib/sock_client.py\", line 154, in send_server_request\n",
      "    self._send_message(msg)\n",
      "  File \"/Users/mateogiraz/Library/Caches/pypoetry/virtualenvs/ai-project-yycSt0xa-py3.12/lib/python3.12/site-packages/wandb/sdk/lib/sock_client.py\", line 151, in _send_message\n",
      "    self._sendall_with_error_handle(header + data)\n",
      "  File \"/Users/mateogiraz/Library/Caches/pypoetry/virtualenvs/ai-project-yycSt0xa-py3.12/lib/python3.12/site-packages/wandb/sdk/lib/sock_client.py\", line 130, in _sendall_with_error_handle\n",
      "    sent = self._sock.send(data)\n",
      "           ^^^^^^^^^^^^^^^^^^^^^\n",
      "BrokenPipeError: [Errno 32] Broken pipe\n",
      "\u001b[34m\u001b[1mwandb\u001b[0m: Ctrl + C detected. Stopping sweep.\n"
     ]
    }
   ],
   "source": [
    "import wandb\n",
    "from car_model import Car\n",
    "from mountain_car_agent import MountainCarAgent\n",
    "from tqdm import tqdm\n",
    "from continuous_mountain_car_env_extended import ContinuousMountainCarEnvExtended\n",
    "\n",
    "def sweep():\n",
    "    env = ContinuousMountainCarEnvExtended(render_mode='rgb_array')\n",
    "    wandb.init()\n",
    "    config = wandb.config\n",
    "\n",
    "    model = Car(env, config.x_bins, config.vel_bins, config.action_bins)\n",
    "    agent = MountainCarAgent(model, config.alpha, config.gamma)\n",
    "\n",
    "    for t in range(10):\n",
    "        trainValue = agent.train(250, config.epsilon)\n",
    "        playValue = agent.test(100)\n",
    "        wandb.log({\"trainValue\": trainValue, \"playValue\": playValue, \"t\" : t})\n",
    "        config.epsilon *= 0.9\n",
    "\n",
    "sweep_config = {\n",
    "        'name': 'sweep-parameter-importance',\n",
    "        'method': 'bayes',\n",
    "        'metric': {\n",
    "            'name': 'playValue',\n",
    "            'goal': 'maximize'\n",
    "        },\n",
    "        'parameters': {\n",
    "            'alpha': {\n",
    "                'distribution': 'uniform',\n",
    "                'min': 0.5,\n",
    "                'max': 0.99\n",
    "            },\n",
    "            'epsilon': {\n",
    "                'distribution': 'uniform',\n",
    "                'min': 0.6,\n",
    "                'max': 0.99\n",
    "            },\n",
    "            'gamma': {\n",
    "                'distribution': 'uniform',\n",
    "                'min': 0.5,\n",
    "                'max': 0.99\n",
    "            },\n",
    "            'action_bins': {\n",
    "                'distribution': 'int_uniform',\n",
    "                'max': 20,\n",
    "                'min': 3\n",
    "            },\n",
    "            'vel_bins': {\n",
    "                'distribution': 'int_uniform',\n",
    "                'max': 100,\n",
    "                'min': 10\n",
    "            },\n",
    "            'x_bins': {\n",
    "                'distribution': 'int_uniform',\n",
    "                'max': 100,\n",
    "                'min': 10\n",
    "            }\n",
    "        }\n",
    "    }\n",
    "entity = \"mateogiraz27-ort\"\n",
    "project = \"mountain_car\"\n",
    "#sweep_id = wandb.sweep(sweep_config, entity=entity, project=project)\n",
    "\n",
    "sweep_id = \"eyuf2hhn\"\n",
    "wandb.agent(sweep_id, function=sweep, count=100, entity=entity, project=project)\n"
   ]
  },
  {
   "cell_type": "code",
   "execution_count": null,
   "metadata": {},
   "outputs": [],
   "source": []
  }
 ],
 "metadata": {
  "kernelspec": {
   "display_name": "ai-project-yycSt0xa-py3.12",
   "language": "python",
   "name": "python3"
  },
  "language_info": {
   "codemirror_mode": {
    "name": "ipython",
    "version": 3
   },
   "file_extension": ".py",
   "mimetype": "text/x-python",
   "name": "python",
   "nbconvert_exporter": "python",
   "pygments_lexer": "ipython3",
   "version": "3.12.7"
  },
  "orig_nbformat": 4
 },
 "nbformat": 4,
 "nbformat_minor": 2
}
