{
 "cells": [
  {
   "cell_type": "markdown",
   "metadata": {},
   "source": [
    "Esta notebook contiene bloques de código útiles para el juego The Three Musketeers"
   ]
  },
  {
   "cell_type": "markdown",
   "metadata": {},
   "source": [
    "Juego original: https://www.onlinesologames.com/three-musketeers"
   ]
  },
  {
   "cell_type": "code",
   "execution_count": 1,
   "metadata": {},
   "outputs": [],
   "source": [
    "from three_musketeers_env import ThreeMusketeersEnv\n",
    "from captain_pete import CaptainPete\n",
    "from play import play_multiple_games, plot_results, play_vs_other_agent"
   ]
  },
  {
   "cell_type": "markdown",
   "metadata": {},
   "source": [
    "Configuracion\n"
   ]
  },
  {
   "cell_type": "code",
   "execution_count": 5,
   "metadata": {},
   "outputs": [],
   "source": [
    "num_games_value = 100           #Número de juegos a jugar\n",
    "grid_size_value = 5             #Tamaño del tablero\n",
    "\n",
    "max_depth_value=3               #Profundidad máxima de la búsqueda\n",
    "\n",
    "alignment_weight_value=10       #Peso de la alineación de las piezas\n",
    "trap_weight_value=20            #Peso de caer en las trampas\n",
    "moves_weight_value=10           #Peso de la cantidad de movimientos posibles"
   ]
  },
  {
   "cell_type": "code",
   "execution_count": 3,
   "metadata": {},
   "outputs": [],
   "source": [
    "#No cambiar\n",
    "env = ThreeMusketeersEnv(grid_size_value, render_mode='rgb_array')\n",
    "self_player = 1"
   ]
  },
  {
   "cell_type": "markdown",
   "metadata": {},
   "source": [
    "Minimax vs Captain Pete"
   ]
  },
  {
   "cell_type": "code",
   "execution_count": 5,
   "metadata": {},
   "outputs": [
    {
     "name": "stderr",
     "output_type": "stream",
     "text": [
      "100%|██████████| 100/100 [00:31<00:00,  3.22it/s]\n"
     ]
    },
    {
     "data": {
      "image/png": "[encoded data removed]",
      "text/plain": [
       "<Figure size 800x500 with 1 Axes>"
      ]
     },
     "metadata": {},
     "output_type": "display_data"
    }
   ],
   "source": [
    "from mini_max_agent import MiniMaxAgent\n",
    "\n",
    "agent1 = MiniMaxAgent(self_player,\n",
    "                      max_depth_value, \n",
    "                      alignment_weight_value, \n",
    "                      trap_weight_value, \n",
    "                      moves_weight_value)\n",
    "\n",
    "agent, pete_men = play_multiple_games(env, agent1, agent2=CaptainPete(2), num_games=num_games_value)\n",
    "plot_results(agent, pete_men)"
   ]
  },
  {
   "cell_type": "markdown",
   "metadata": {},
   "source": [
    "ExpectiMax vs Captain Pete"
   ]
  },
  {
   "cell_type": "code",
   "execution_count": null,
   "metadata": {},
   "outputs": [],
   "source": [
    "from expecti_max_agent import ExpectiMaxAgent\n",
    "\n",
    "agent1 = ExpectiMaxAgent(self_player,\n",
    "                        max_depth_value, \n",
    "                        alignment_weight_value, \n",
    "                        trap_weight_value, \n",
    "                        moves_weight_value)\n",
    "\n",
    "agent, pete_men = play_multiple_games(env, agent1, agent2=CaptainPete(2), num_games=num_games_value)\n",
    "plot_results(agent, pete_men)"
   ]
  },
  {
   "cell_type": "code",
   "execution_count": 6,
   "metadata": {},
   "outputs": [
    {
     "name": "stdout",
     "output_type": "stream",
     "text": [
      "Create sweep with ID: tunqpvvk\n",
      "Sweep URL: https://wandb.ai/mateogiraz27-ort/three-musketeers/sweeps/tunqpvvk\n"
     ]
    }
   ],
   "source": [
    "import wandb\n",
    "from three_musketeers_env import ThreeMusketeersEnv\n",
    "from mini_max_agent import MiniMaxAgent\n",
    "from expecti_max_agent import ExpectiMaxAgent\n",
    "from captain_pete import CaptainPete\n",
    "from play import play_multiple_games, plot_results\n",
    "\n",
    "def sweep_minimax():\n",
    "    wandb.init()\n",
    "    config = wandb.config\n",
    "\n",
    "    env = ThreeMusketeersEnv(grid_size=5, render_mode='rgb_array')\n",
    "    self_player = 1\n",
    "\n",
    "    agent1 = MiniMaxAgent(self_player,\n",
    "                          config.max_depth, \n",
    "                          config.alignment_weight, \n",
    "                          config.trap_weight, \n",
    "                          config.moves_weight)\n",
    "\n",
    "    agent_wins, pete_wins = play_multiple_games(env, agent1, agent2=CaptainPete(2), num_games=num_games_value)\n",
    "    \n",
    "    win_rate = agent_wins / num_games_value\n",
    "    wandb.log({\"win_rate\": win_rate, \"agent_wins\": agent_wins, \"pete_wins\": pete_wins})\n",
    "\n",
    "def sweep_expectimax():\n",
    "    wandb.init()\n",
    "    config = wandb.config\n",
    "\n",
    "    env = ThreeMusketeersEnv(grid_size=5, render_mode='rgb_array')\n",
    "    self_player = 1\n",
    "\n",
    "    agent1 = ExpectiMaxAgent(self_player,\n",
    "                             config.max_depth, \n",
    "                             config.alignment_weight, \n",
    "                             config.trap_weight, \n",
    "                             config.moves_weight)\n",
    "\n",
    "    agent_wins, pete_wins = play_multiple_games(env, agent1, agent2=CaptainPete(2), num_games=num_games_value)\n",
    "    \n",
    "    win_rate = agent_wins / num_games_value \n",
    "    wandb.log({\"win_rate\": win_rate, \"agent_wins\": agent_wins, \"pete_wins\": pete_wins})\n",
    "\n",
    "minimax_sweep_config = {\n",
    "    'name': 'minimax-sweep',\n",
    "    'method': 'bayes',\n",
    "    'metric': {\n",
    "        'name': 'win_rate',\n",
    "        'goal': 'maximize'\n",
    "    },\n",
    "    'parameters': {\n",
    "        'max_depth': {\n",
    "            'distribution': 'int_uniform',\n",
    "            'min': 2,\n",
    "            'max': 5\n",
    "        },\n",
    "        'alignment_weight': {\n",
    "            'distribution': 'uniform',\n",
    "            'min': 5,\n",
    "            'max': 20\n",
    "        },\n",
    "        'trap_weight': {\n",
    "            'distribution': 'uniform',\n",
    "            'min': 10,\n",
    "            'max': 30\n",
    "        },\n",
    "        'moves_weight': {\n",
    "            'distribution': 'uniform',\n",
    "            'min': 5,\n",
    "            'max': 15\n",
    "        }\n",
    "    }\n",
    "}\n",
    "\n",
    "# Sweep configuration for ExpectiMaxAgent\n",
    "expectimax_sweep_config = {\n",
    "    'name': 'expectimax-sweep',\n",
    "    'method': 'bayes',\n",
    "    'metric': {\n",
    "        'name': 'win_rate',\n",
    "        'goal': 'maximize'\n",
    "    },\n",
    "    'parameters': {\n",
    "        'max_depth': {\n",
    "            'distribution': 'int_uniform',\n",
    "            'min': 2,\n",
    "            'max': 5\n",
    "        },\n",
    "        'alignment_weight': {\n",
    "            'distribution': 'uniform',\n",
    "            'min': 5,\n",
    "            'max': 20\n",
    "        },\n",
    "        'trap_weight': {\n",
    "            'distribution': 'uniform',\n",
    "            'min': 10,\n",
    "            'max': 30\n",
    "        },\n",
    "        'moves_weight': {\n",
    "            'distribution': 'uniform',\n",
    "            'min': 5,\n",
    "            'max': 15\n",
    "        }\n",
    "    }\n",
    "}\n",
    "\n",
    "# Initialize the sweeps\n",
    "entity = \"mateogiraz27-ort\"\n",
    "project = \"three-musketeers\"\n",
    "#minimax_sweep_id = wandb.sweep(minimax_sweep_config, entity=entity, project=project)\n",
    "expectimax_sweep_id = wandb.sweep(expectimax_sweep_config, entity=entity, project=project)\n"
   ]
  },
  {
   "cell_type": "code",
   "execution_count": 12,
   "metadata": {},
   "outputs": [
    {
     "name": "stderr",
     "output_type": "stream",
     "text": [
      "\u001b[34m\u001b[1mwandb\u001b[0m: Agent Starting Run: a8a18tft with config:\n",
      "\u001b[34m\u001b[1mwandb\u001b[0m: \talignment_weight: 17.2205754471154\n",
      "\u001b[34m\u001b[1mwandb\u001b[0m: \tmax_depth: 3\n",
      "\u001b[34m\u001b[1mwandb\u001b[0m: \tmoves_weight: 6.323688901802033\n",
      "\u001b[34m\u001b[1mwandb\u001b[0m: \ttrap_weight: 24.79078778406748\n"
     ]
    },
    {
     "name": "stdout",
     "output_type": "stream",
     "text": [
      "\u001b[1;34mwandb\u001b[0m: 🚀 View run \u001b[33mvisionary-sweep-2\u001b[0m at: \u001b[34mhttps://wandb.ai/mateogiraz27-ort/three-musketeers/runs/xmiv3fel\u001b[0m\n",
      "\u001b[1;34mwandb\u001b[0m: Find logs at: \u001b[1;35mwandb/run-20241214_094214-xmiv3fel/logs\u001b[0m\n"
     ]
    },
    {
     "data": {
      "text/html": [
       "Tracking run with wandb version 0.19.1"
      ],
      "text/plain": [
       "<IPython.core.display.HTML object>"
      ]
     },
     "metadata": {},
     "output_type": "display_data"
    },
    {
     "data": {
      "text/html": [
       "Run data is saved locally in <code>/Users/mateogiraz/Documents/MountainCarContinuous (1)/three-musketeers/wandb/run-20241214_094300-a8a18tft</code>"
      ],
      "text/plain": [
       "<IPython.core.display.HTML object>"
      ]
     },
     "metadata": {},
     "output_type": "display_data"
    },
    {
     "data": {
      "text/html": [
       "Syncing run <strong><a href='https://wandb.ai/mateogiraz27-ort/three-musketeers/runs/a8a18tft' target=\"_blank\">amber-sweep-1</a></strong> to <a href='https://wandb.ai/mateogiraz27-ort/three-musketeers' target=\"_blank\">Weights & Biases</a> (<a href='https://wandb.me/developer-guide' target=\"_blank\">docs</a>)<br>Sweep page: <a href='https://wandb.ai/mateogiraz27-ort/three-musketeers/sweeps/txk212na' target=\"_blank\">https://wandb.ai/mateogiraz27-ort/three-musketeers/sweeps/txk212na</a>"
      ],
      "text/plain": [
       "<IPython.core.display.HTML object>"
      ]
     },
     "metadata": {},
     "output_type": "display_data"
    },
    {
     "data": {
      "text/html": [
       " View project at <a href='https://wandb.ai/mateogiraz27-ort/three-musketeers' target=\"_blank\">https://wandb.ai/mateogiraz27-ort/three-musketeers</a>"
      ],
      "text/plain": [
       "<IPython.core.display.HTML object>"
      ]
     },
     "metadata": {},
     "output_type": "display_data"
    },
    {
     "data": {
      "text/html": [
       " View sweep at <a href='https://wandb.ai/mateogiraz27-ort/three-musketeers/sweeps/txk212na' target=\"_blank\">https://wandb.ai/mateogiraz27-ort/three-musketeers/sweeps/txk212na</a>"
      ],
      "text/plain": [
       "<IPython.core.display.HTML object>"
      ]
     },
     "metadata": {},
     "output_type": "display_data"
    },
    {
     "data": {
      "text/html": [
       " View run at <a href='https://wandb.ai/mateogiraz27-ort/three-musketeers/runs/a8a18tft' target=\"_blank\">https://wandb.ai/mateogiraz27-ort/three-musketeers/runs/a8a18tft</a>"
      ],
      "text/plain": [
       "<IPython.core.display.HTML object>"
      ]
     },
     "metadata": {},
     "output_type": "display_data"
    },
    {
     "name": "stderr",
     "output_type": "stream",
     "text": [
      "100%|██████████| 100/100 [00:29<00:00,  3.41it/s]\n"
     ]
    },
    {
     "data": {
      "text/html": [],
      "text/plain": [
       "<IPython.core.display.HTML object>"
      ]
     },
     "metadata": {},
     "output_type": "display_data"
    },
    {
     "data": {
      "text/html": [
       "<br>    <style><br>        .wandb-row {<br>            display: flex;<br>            flex-direction: row;<br>            flex-wrap: wrap;<br>            justify-content: flex-start;<br>            width: 100%;<br>        }<br>        .wandb-col {<br>            display: flex;<br>            flex-direction: column;<br>            flex-basis: 100%;<br>            flex: 1;<br>            padding: 10px;<br>        }<br>    </style><br><div class=\"wandb-row\"><div class=\"wandb-col\"><h3>Run history:</h3><br/><table class=\"wandb\"><tr><td>agent_wins</td><td>▁</td></tr><tr><td>pete_wins</td><td>▁</td></tr><tr><td>win_rate</td><td>▁</td></tr></table><br/></div><div class=\"wandb-col\"><h3>Run summary:</h3><br/><table class=\"wandb\"><tr><td>agent_wins</td><td>92</td></tr><tr><td>pete_wins</td><td>8</td></tr><tr><td>win_rate</td><td>0.92</td></tr></table><br/></div></div>"
      ],
      "text/plain": [
       "<IPython.core.display.HTML object>"
      ]
     },
     "metadata": {},
     "output_type": "display_data"
    },
    {
     "data": {
      "text/html": [
       " View run <strong style=\"color:#cdcd00\">amber-sweep-1</strong> at: <a href='https://wandb.ai/mateogiraz27-ort/three-musketeers/runs/a8a18tft' target=\"_blank\">https://wandb.ai/mateogiraz27-ort/three-musketeers/runs/a8a18tft</a><br> View project at: <a href='https://wandb.ai/mateogiraz27-ort/three-musketeers' target=\"_blank\">https://wandb.ai/mateogiraz27-ort/three-musketeers</a><br>Synced 5 W&B file(s), 0 media file(s), 0 artifact file(s) and 0 other file(s)"
      ],
      "text/plain": [
       "<IPython.core.display.HTML object>"
      ]
     },
     "metadata": {},
     "output_type": "display_data"
    },
    {
     "data": {
      "text/html": [
       "Find logs at: <code>./wandb/run-20241214_094300-a8a18tft/logs</code>"
      ],
      "text/plain": [
       "<IPython.core.display.HTML object>"
      ]
     },
     "metadata": {},
     "output_type": "display_data"
    },
    {
     "name": "stderr",
     "output_type": "stream",
     "text": [
      "\u001b[34m\u001b[1mwandb\u001b[0m: Agent Starting Run: hqw592jp with config:\n",
      "\u001b[34m\u001b[1mwandb\u001b[0m: \talignment_weight: 14.098288099388013\n",
      "\u001b[34m\u001b[1mwandb\u001b[0m: \tmax_depth: 4\n",
      "\u001b[34m\u001b[1mwandb\u001b[0m: \tmoves_weight: 8.184343377472027\n",
      "\u001b[34m\u001b[1mwandb\u001b[0m: \ttrap_weight: 18.62520170122726\n"
     ]
    },
    {
     "data": {
      "text/html": [
       "Tracking run with wandb version 0.19.1"
      ],
      "text/plain": [
       "<IPython.core.display.HTML object>"
      ]
     },
     "metadata": {},
     "output_type": "display_data"
    },
    {
     "data": {
      "text/html": [
       "Run data is saved locally in <code>/Users/mateogiraz/Documents/MountainCarContinuous (1)/three-musketeers/wandb/run-20241214_094338-hqw592jp</code>"
      ],
      "text/plain": [
       "<IPython.core.display.HTML object>"
      ]
     },
     "metadata": {},
     "output_type": "display_data"
    },
    {
     "data": {
      "text/html": [
       "Syncing run <strong><a href='https://wandb.ai/mateogiraz27-ort/three-musketeers/runs/hqw592jp' target=\"_blank\">curious-sweep-2</a></strong> to <a href='https://wandb.ai/mateogiraz27-ort/three-musketeers' target=\"_blank\">Weights & Biases</a> (<a href='https://wandb.me/developer-guide' target=\"_blank\">docs</a>)<br>Sweep page: <a href='https://wandb.ai/mateogiraz27-ort/three-musketeers/sweeps/txk212na' target=\"_blank\">https://wandb.ai/mateogiraz27-ort/three-musketeers/sweeps/txk212na</a>"
      ],
      "text/plain": [
       "<IPython.core.display.HTML object>"
      ]
     },
     "metadata": {},
     "output_type": "display_data"
    },
    {
     "data": {
      "text/html": [
       " View project at <a href='https://wandb.ai/mateogiraz27-ort/three-musketeers' target=\"_blank\">https://wandb.ai/mateogiraz27-ort/three-musketeers</a>"
      ],
      "text/plain": [
       "<IPython.core.display.HTML object>"
      ]
     },
     "metadata": {},
     "output_type": "display_data"
    },
    {
     "data": {
      "text/html": [
       " View sweep at <a href='https://wandb.ai/mateogiraz27-ort/three-musketeers/sweeps/txk212na' target=\"_blank\">https://wandb.ai/mateogiraz27-ort/three-musketeers/sweeps/txk212na</a>"
      ],
      "text/plain": [
       "<IPython.core.display.HTML object>"
      ]
     },
     "metadata": {},
     "output_type": "display_data"
    },
    {
     "data": {
      "text/html": [
       " View run at <a href='https://wandb.ai/mateogiraz27-ort/three-musketeers/runs/hqw592jp' target=\"_blank\">https://wandb.ai/mateogiraz27-ort/three-musketeers/runs/hqw592jp</a>"
      ],
      "text/plain": [
       "<IPython.core.display.HTML object>"
      ]
     },
     "metadata": {},
     "output_type": "display_data"
    },
    {
     "name": "stderr",
     "output_type": "stream",
     "text": [
      "100%|██████████| 100/100 [00:43<00:00,  2.32it/s]\n"
     ]
    },
    {
     "data": {
      "text/html": [],
      "text/plain": [
       "<IPython.core.display.HTML object>"
      ]
     },
     "metadata": {},
     "output_type": "display_data"
    },
    {
     "data": {
      "text/html": [
       "<br>    <style><br>        .wandb-row {<br>            display: flex;<br>            flex-direction: row;<br>            flex-wrap: wrap;<br>            justify-content: flex-start;<br>            width: 100%;<br>        }<br>        .wandb-col {<br>            display: flex;<br>            flex-direction: column;<br>            flex-basis: 100%;<br>            flex: 1;<br>            padding: 10px;<br>        }<br>    </style><br><div class=\"wandb-row\"><div class=\"wandb-col\"><h3>Run history:</h3><br/><table class=\"wandb\"><tr><td>agent_wins</td><td>▁</td></tr><tr><td>pete_wins</td><td>▁</td></tr><tr><td>win_rate</td><td>▁</td></tr></table><br/></div><div class=\"wandb-col\"><h3>Run summary:</h3><br/><table class=\"wandb\"><tr><td>agent_wins</td><td>92</td></tr><tr><td>pete_wins</td><td>8</td></tr><tr><td>win_rate</td><td>0.92</td></tr></table><br/></div></div>"
      ],
      "text/plain": [
       "<IPython.core.display.HTML object>"
      ]
     },
     "metadata": {},
     "output_type": "display_data"
    },
    {
     "data": {
      "text/html": [
       " View run <strong style=\"color:#cdcd00\">curious-sweep-2</strong> at: <a href='https://wandb.ai/mateogiraz27-ort/three-musketeers/runs/hqw592jp' target=\"_blank\">https://wandb.ai/mateogiraz27-ort/three-musketeers/runs/hqw592jp</a><br> View project at: <a href='https://wandb.ai/mateogiraz27-ort/three-musketeers' target=\"_blank\">https://wandb.ai/mateogiraz27-ort/three-musketeers</a><br>Synced 5 W&B file(s), 0 media file(s), 0 artifact file(s) and 0 other file(s)"
      ],
      "text/plain": [
       "<IPython.core.display.HTML object>"
      ]
     },
     "metadata": {},
     "output_type": "display_data"
    },
    {
     "data": {
      "text/html": [
       "Find logs at: <code>./wandb/run-20241214_094338-hqw592jp/logs</code>"
      ],
      "text/plain": [
       "<IPython.core.display.HTML object>"
      ]
     },
     "metadata": {},
     "output_type": "display_data"
    },
    {
     "name": "stderr",
     "output_type": "stream",
     "text": [
      "\u001b[34m\u001b[1mwandb\u001b[0m: Agent Starting Run: pb3gl5fp with config:\n",
      "\u001b[34m\u001b[1mwandb\u001b[0m: \talignment_weight: 19.204091676154913\n",
      "\u001b[34m\u001b[1mwandb\u001b[0m: \tmax_depth: 3\n",
      "\u001b[34m\u001b[1mwandb\u001b[0m: \tmoves_weight: 7.348122539873704\n",
      "\u001b[34m\u001b[1mwandb\u001b[0m: \ttrap_weight: 28.55509716125849\n"
     ]
    },
    {
     "data": {
      "text/html": [
       "Tracking run with wandb version 0.19.1"
      ],
      "text/plain": [
       "<IPython.core.display.HTML object>"
      ]
     },
     "metadata": {},
     "output_type": "display_data"
    },
    {
     "data": {
      "text/html": [
       "Run data is saved locally in <code>/Users/mateogiraz/Documents/MountainCarContinuous (1)/three-musketeers/wandb/run-20241214_094426-pb3gl5fp</code>"
      ],
      "text/plain": [
       "<IPython.core.display.HTML object>"
      ]
     },
     "metadata": {},
     "output_type": "display_data"
    },
    {
     "data": {
      "text/html": [
       "Syncing run <strong><a href='https://wandb.ai/mateogiraz27-ort/three-musketeers/runs/pb3gl5fp' target=\"_blank\">trim-sweep-3</a></strong> to <a href='https://wandb.ai/mateogiraz27-ort/three-musketeers' target=\"_blank\">Weights & Biases</a> (<a href='https://wandb.me/developer-guide' target=\"_blank\">docs</a>)<br>Sweep page: <a href='https://wandb.ai/mateogiraz27-ort/three-musketeers/sweeps/txk212na' target=\"_blank\">https://wandb.ai/mateogiraz27-ort/three-musketeers/sweeps/txk212na</a>"
      ],
      "text/plain": [
       "<IPython.core.display.HTML object>"
      ]
     },
     "metadata": {},
     "output_type": "display_data"
    },
    {
     "data": {
      "text/html": [
       " View project at <a href='https://wandb.ai/mateogiraz27-ort/three-musketeers' target=\"_blank\">https://wandb.ai/mateogiraz27-ort/three-musketeers</a>"
      ],
      "text/plain": [
       "<IPython.core.display.HTML object>"
      ]
     },
     "metadata": {},
     "output_type": "display_data"
    },
    {
     "data": {
      "text/html": [
       " View sweep at <a href='https://wandb.ai/mateogiraz27-ort/three-musketeers/sweeps/txk212na' target=\"_blank\">https://wandb.ai/mateogiraz27-ort/three-musketeers/sweeps/txk212na</a>"
      ],
      "text/plain": [
       "<IPython.core.display.HTML object>"
      ]
     },
     "metadata": {},
     "output_type": "display_data"
    },
    {
     "data": {
      "text/html": [
       " View run at <a href='https://wandb.ai/mateogiraz27-ort/three-musketeers/runs/pb3gl5fp' target=\"_blank\">https://wandb.ai/mateogiraz27-ort/three-musketeers/runs/pb3gl5fp</a>"
      ],
      "text/plain": [
       "<IPython.core.display.HTML object>"
      ]
     },
     "metadata": {},
     "output_type": "display_data"
    },
    {
     "name": "stderr",
     "output_type": "stream",
     "text": [
      "100%|██████████| 100/100 [00:29<00:00,  3.38it/s]\n"
     ]
    },
    {
     "data": {
      "text/html": [],
      "text/plain": [
       "<IPython.core.display.HTML object>"
      ]
     },
     "metadata": {},
     "output_type": "display_data"
    },
    {
     "data": {
      "text/html": [
       "<br>    <style><br>        .wandb-row {<br>            display: flex;<br>            flex-direction: row;<br>            flex-wrap: wrap;<br>            justify-content: flex-start;<br>            width: 100%;<br>        }<br>        .wandb-col {<br>            display: flex;<br>            flex-direction: column;<br>            flex-basis: 100%;<br>            flex: 1;<br>            padding: 10px;<br>        }<br>    </style><br><div class=\"wandb-row\"><div class=\"wandb-col\"><h3>Run history:</h3><br/><table class=\"wandb\"><tr><td>agent_wins</td><td>▁</td></tr><tr><td>pete_wins</td><td>▁</td></tr><tr><td>win_rate</td><td>▁</td></tr></table><br/></div><div class=\"wandb-col\"><h3>Run summary:</h3><br/><table class=\"wandb\"><tr><td>agent_wins</td><td>91</td></tr><tr><td>pete_wins</td><td>9</td></tr><tr><td>win_rate</td><td>0.91</td></tr></table><br/></div></div>"
      ],
      "text/plain": [
       "<IPython.core.display.HTML object>"
      ]
     },
     "metadata": {},
     "output_type": "display_data"
    },
    {
     "data": {
      "text/html": [
       " View run <strong style=\"color:#cdcd00\">trim-sweep-3</strong> at: <a href='https://wandb.ai/mateogiraz27-ort/three-musketeers/runs/pb3gl5fp' target=\"_blank\">https://wandb.ai/mateogiraz27-ort/three-musketeers/runs/pb3gl5fp</a><br> View project at: <a href='https://wandb.ai/mateogiraz27-ort/three-musketeers' target=\"_blank\">https://wandb.ai/mateogiraz27-ort/three-musketeers</a><br>Synced 5 W&B file(s), 0 media file(s), 0 artifact file(s) and 0 other file(s)"
      ],
      "text/plain": [
       "<IPython.core.display.HTML object>"
      ]
     },
     "metadata": {},
     "output_type": "display_data"
    },
    {
     "data": {
      "text/html": [
       "Find logs at: <code>./wandb/run-20241214_094426-pb3gl5fp/logs</code>"
      ],
      "text/plain": [
       "<IPython.core.display.HTML object>"
      ]
     },
     "metadata": {},
     "output_type": "display_data"
    },
    {
     "name": "stderr",
     "output_type": "stream",
     "text": [
      "\u001b[34m\u001b[1mwandb\u001b[0m: Agent Starting Run: miitepcj with config:\n",
      "\u001b[34m\u001b[1mwandb\u001b[0m: \talignment_weight: 8.660113592637694\n",
      "\u001b[34m\u001b[1mwandb\u001b[0m: \tmax_depth: 2\n",
      "\u001b[34m\u001b[1mwandb\u001b[0m: \tmoves_weight: 6.829308352128624\n",
      "\u001b[34m\u001b[1mwandb\u001b[0m: \ttrap_weight: 10.32878065519408\n"
     ]
    },
    {
     "data": {
      "text/html": [
       "Tracking run with wandb version 0.19.1"
      ],
      "text/plain": [
       "<IPython.core.display.HTML object>"
      ]
     },
     "metadata": {},
     "output_type": "display_data"
    },
    {
     "data": {
      "text/html": [
       "Run data is saved locally in <code>/Users/mateogiraz/Documents/MountainCarContinuous (1)/three-musketeers/wandb/run-20241214_094503-miitepcj</code>"
      ],
      "text/plain": [
       "<IPython.core.display.HTML object>"
      ]
     },
     "metadata": {},
     "output_type": "display_data"
    },
    {
     "data": {
      "text/html": [
       "Syncing run <strong><a href='https://wandb.ai/mateogiraz27-ort/three-musketeers/runs/miitepcj' target=\"_blank\">electric-sweep-4</a></strong> to <a href='https://wandb.ai/mateogiraz27-ort/three-musketeers' target=\"_blank\">Weights & Biases</a> (<a href='https://wandb.me/developer-guide' target=\"_blank\">docs</a>)<br>Sweep page: <a href='https://wandb.ai/mateogiraz27-ort/three-musketeers/sweeps/txk212na' target=\"_blank\">https://wandb.ai/mateogiraz27-ort/three-musketeers/sweeps/txk212na</a>"
      ],
      "text/plain": [
       "<IPython.core.display.HTML object>"
      ]
     },
     "metadata": {},
     "output_type": "display_data"
    },
    {
     "data": {
      "text/html": [
       " View project at <a href='https://wandb.ai/mateogiraz27-ort/three-musketeers' target=\"_blank\">https://wandb.ai/mateogiraz27-ort/three-musketeers</a>"
      ],
      "text/plain": [
       "<IPython.core.display.HTML object>"
      ]
     },
     "metadata": {},
     "output_type": "display_data"
    },
    {
     "data": {
      "text/html": [
       " View sweep at <a href='https://wandb.ai/mateogiraz27-ort/three-musketeers/sweeps/txk212na' target=\"_blank\">https://wandb.ai/mateogiraz27-ort/three-musketeers/sweeps/txk212na</a>"
      ],
      "text/plain": [
       "<IPython.core.display.HTML object>"
      ]
     },
     "metadata": {},
     "output_type": "display_data"
    },
    {
     "data": {
      "text/html": [
       " View run at <a href='https://wandb.ai/mateogiraz27-ort/three-musketeers/runs/miitepcj' target=\"_blank\">https://wandb.ai/mateogiraz27-ort/three-musketeers/runs/miitepcj</a>"
      ],
      "text/plain": [
       "<IPython.core.display.HTML object>"
      ]
     },
     "metadata": {},
     "output_type": "display_data"
    },
    {
     "name": "stderr",
     "output_type": "stream",
     "text": [
      "100%|██████████| 100/100 [00:23<00:00,  4.22it/s]\n"
     ]
    },
    {
     "data": {
      "text/html": [],
      "text/plain": [
       "<IPython.core.display.HTML object>"
      ]
     },
     "metadata": {},
     "output_type": "display_data"
    },
    {
     "data": {
      "text/html": [
       "<br>    <style><br>        .wandb-row {<br>            display: flex;<br>            flex-direction: row;<br>            flex-wrap: wrap;<br>            justify-content: flex-start;<br>            width: 100%;<br>        }<br>        .wandb-col {<br>            display: flex;<br>            flex-direction: column;<br>            flex-basis: 100%;<br>            flex: 1;<br>            padding: 10px;<br>        }<br>    </style><br><div class=\"wandb-row\"><div class=\"wandb-col\"><h3>Run history:</h3><br/><table class=\"wandb\"><tr><td>agent_wins</td><td>▁</td></tr><tr><td>pete_wins</td><td>▁</td></tr><tr><td>win_rate</td><td>▁</td></tr></table><br/></div><div class=\"wandb-col\"><h3>Run summary:</h3><br/><table class=\"wandb\"><tr><td>agent_wins</td><td>94</td></tr><tr><td>pete_wins</td><td>6</td></tr><tr><td>win_rate</td><td>0.94</td></tr></table><br/></div></div>"
      ],
      "text/plain": [
       "<IPython.core.display.HTML object>"
      ]
     },
     "metadata": {},
     "output_type": "display_data"
    },
    {
     "data": {
      "text/html": [
       " View run <strong style=\"color:#cdcd00\">electric-sweep-4</strong> at: <a href='https://wandb.ai/mateogiraz27-ort/three-musketeers/runs/miitepcj' target=\"_blank\">https://wandb.ai/mateogiraz27-ort/three-musketeers/runs/miitepcj</a><br> View project at: <a href='https://wandb.ai/mateogiraz27-ort/three-musketeers' target=\"_blank\">https://wandb.ai/mateogiraz27-ort/three-musketeers</a><br>Synced 5 W&B file(s), 0 media file(s), 0 artifact file(s) and 0 other file(s)"
      ],
      "text/plain": [
       "<IPython.core.display.HTML object>"
      ]
     },
     "metadata": {},
     "output_type": "display_data"
    },
    {
     "data": {
      "text/html": [
       "Find logs at: <code>./wandb/run-20241214_094503-miitepcj/logs</code>"
      ],
      "text/plain": [
       "<IPython.core.display.HTML object>"
      ]
     },
     "metadata": {},
     "output_type": "display_data"
    },
    {
     "name": "stderr",
     "output_type": "stream",
     "text": [
      "\u001b[34m\u001b[1mwandb\u001b[0m: Agent Starting Run: 8snsdxgp with config:\n",
      "\u001b[34m\u001b[1mwandb\u001b[0m: \talignment_weight: 7.619868139070423\n",
      "\u001b[34m\u001b[1mwandb\u001b[0m: \tmax_depth: 2\n",
      "\u001b[34m\u001b[1mwandb\u001b[0m: \tmoves_weight: 6.395628220145734\n",
      "\u001b[34m\u001b[1mwandb\u001b[0m: \ttrap_weight: 10.114869918024356\n"
     ]
    },
    {
     "data": {
      "text/html": [
       "Tracking run with wandb version 0.19.1"
      ],
      "text/plain": [
       "<IPython.core.display.HTML object>"
      ]
     },
     "metadata": {},
     "output_type": "display_data"
    },
    {
     "data": {
      "text/html": [
       "Run data is saved locally in <code>/Users/mateogiraz/Documents/MountainCarContinuous (1)/three-musketeers/wandb/run-20241214_094535-8snsdxgp</code>"
      ],
      "text/plain": [
       "<IPython.core.display.HTML object>"
      ]
     },
     "metadata": {},
     "output_type": "display_data"
    },
    {
     "data": {
      "text/html": [
       "Syncing run <strong><a href='https://wandb.ai/mateogiraz27-ort/three-musketeers/runs/8snsdxgp' target=\"_blank\">fresh-sweep-5</a></strong> to <a href='https://wandb.ai/mateogiraz27-ort/three-musketeers' target=\"_blank\">Weights & Biases</a> (<a href='https://wandb.me/developer-guide' target=\"_blank\">docs</a>)<br>Sweep page: <a href='https://wandb.ai/mateogiraz27-ort/three-musketeers/sweeps/txk212na' target=\"_blank\">https://wandb.ai/mateogiraz27-ort/three-musketeers/sweeps/txk212na</a>"
      ],
      "text/plain": [
       "<IPython.core.display.HTML object>"
      ]
     },
     "metadata": {},
     "output_type": "display_data"
    },
    {
     "data": {
      "text/html": [
       " View project at <a href='https://wandb.ai/mateogiraz27-ort/three-musketeers' target=\"_blank\">https://wandb.ai/mateogiraz27-ort/three-musketeers</a>"
      ],
      "text/plain": [
       "<IPython.core.display.HTML object>"
      ]
     },
     "metadata": {},
     "output_type": "display_data"
    },
    {
     "data": {
      "text/html": [
       " View sweep at <a href='https://wandb.ai/mateogiraz27-ort/three-musketeers/sweeps/txk212na' target=\"_blank\">https://wandb.ai/mateogiraz27-ort/three-musketeers/sweeps/txk212na</a>"
      ],
      "text/plain": [
       "<IPython.core.display.HTML object>"
      ]
     },
     "metadata": {},
     "output_type": "display_data"
    },
    {
     "data": {
      "text/html": [
       " View run at <a href='https://wandb.ai/mateogiraz27-ort/three-musketeers/runs/8snsdxgp' target=\"_blank\">https://wandb.ai/mateogiraz27-ort/three-musketeers/runs/8snsdxgp</a>"
      ],
      "text/plain": [
       "<IPython.core.display.HTML object>"
      ]
     },
     "metadata": {},
     "output_type": "display_data"
    },
    {
     "name": "stderr",
     "output_type": "stream",
     "text": [
      "100%|██████████| 100/100 [00:24<00:00,  4.05it/s]\n"
     ]
    },
    {
     "data": {
      "text/html": [],
      "text/plain": [
       "<IPython.core.display.HTML object>"
      ]
     },
     "metadata": {},
     "output_type": "display_data"
    },
    {
     "data": {
      "text/html": [
       "<br>    <style><br>        .wandb-row {<br>            display: flex;<br>            flex-direction: row;<br>            flex-wrap: wrap;<br>            justify-content: flex-start;<br>            width: 100%;<br>        }<br>        .wandb-col {<br>            display: flex;<br>            flex-direction: column;<br>            flex-basis: 100%;<br>            flex: 1;<br>            padding: 10px;<br>        }<br>    </style><br><div class=\"wandb-row\"><div class=\"wandb-col\"><h3>Run history:</h3><br/><table class=\"wandb\"><tr><td>agent_wins</td><td>▁</td></tr><tr><td>pete_wins</td><td>▁</td></tr><tr><td>win_rate</td><td>▁</td></tr></table><br/></div><div class=\"wandb-col\"><h3>Run summary:</h3><br/><table class=\"wandb\"><tr><td>agent_wins</td><td>93</td></tr><tr><td>pete_wins</td><td>7</td></tr><tr><td>win_rate</td><td>0.93</td></tr></table><br/></div></div>"
      ],
      "text/plain": [
       "<IPython.core.display.HTML object>"
      ]
     },
     "metadata": {},
     "output_type": "display_data"
    },
    {
     "data": {
      "text/html": [
       " View run <strong style=\"color:#cdcd00\">fresh-sweep-5</strong> at: <a href='https://wandb.ai/mateogiraz27-ort/three-musketeers/runs/8snsdxgp' target=\"_blank\">https://wandb.ai/mateogiraz27-ort/three-musketeers/runs/8snsdxgp</a><br> View project at: <a href='https://wandb.ai/mateogiraz27-ort/three-musketeers' target=\"_blank\">https://wandb.ai/mateogiraz27-ort/three-musketeers</a><br>Synced 5 W&B file(s), 0 media file(s), 0 artifact file(s) and 0 other file(s)"
      ],
      "text/plain": [
       "<IPython.core.display.HTML object>"
      ]
     },
     "metadata": {},
     "output_type": "display_data"
    },
    {
     "data": {
      "text/html": [
       "Find logs at: <code>./wandb/run-20241214_094535-8snsdxgp/logs</code>"
      ],
      "text/plain": [
       "<IPython.core.display.HTML object>"
      ]
     },
     "metadata": {},
     "output_type": "display_data"
    },
    {
     "name": "stderr",
     "output_type": "stream",
     "text": [
      "\u001b[34m\u001b[1mwandb\u001b[0m: Agent Starting Run: eyf1g3zr with config:\n",
      "\u001b[34m\u001b[1mwandb\u001b[0m: \talignment_weight: 8.616528306080355\n",
      "\u001b[34m\u001b[1mwandb\u001b[0m: \tmax_depth: 2\n",
      "\u001b[34m\u001b[1mwandb\u001b[0m: \tmoves_weight: 7.198915983002322\n",
      "\u001b[34m\u001b[1mwandb\u001b[0m: \ttrap_weight: 11.002056025587644\n"
     ]
    },
    {
     "data": {
      "text/html": [
       "Tracking run with wandb version 0.19.1"
      ],
      "text/plain": [
       "<IPython.core.display.HTML object>"
      ]
     },
     "metadata": {},
     "output_type": "display_data"
    },
    {
     "data": {
      "text/html": [
       "Run data is saved locally in <code>/Users/mateogiraz/Documents/MountainCarContinuous (1)/three-musketeers/wandb/run-20241214_094607-eyf1g3zr</code>"
      ],
      "text/plain": [
       "<IPython.core.display.HTML object>"
      ]
     },
     "metadata": {},
     "output_type": "display_data"
    },
    {
     "data": {
      "text/html": [
       "Syncing run <strong><a href='https://wandb.ai/mateogiraz27-ort/three-musketeers/runs/eyf1g3zr' target=\"_blank\">lilac-sweep-6</a></strong> to <a href='https://wandb.ai/mateogiraz27-ort/three-musketeers' target=\"_blank\">Weights & Biases</a> (<a href='https://wandb.me/developer-guide' target=\"_blank\">docs</a>)<br>Sweep page: <a href='https://wandb.ai/mateogiraz27-ort/three-musketeers/sweeps/txk212na' target=\"_blank\">https://wandb.ai/mateogiraz27-ort/three-musketeers/sweeps/txk212na</a>"
      ],
      "text/plain": [
       "<IPython.core.display.HTML object>"
      ]
     },
     "metadata": {},
     "output_type": "display_data"
    },
    {
     "data": {
      "text/html": [
       " View project at <a href='https://wandb.ai/mateogiraz27-ort/three-musketeers' target=\"_blank\">https://wandb.ai/mateogiraz27-ort/three-musketeers</a>"
      ],
      "text/plain": [
       "<IPython.core.display.HTML object>"
      ]
     },
     "metadata": {},
     "output_type": "display_data"
    },
    {
     "data": {
      "text/html": [
       " View sweep at <a href='https://wandb.ai/mateogiraz27-ort/three-musketeers/sweeps/txk212na' target=\"_blank\">https://wandb.ai/mateogiraz27-ort/three-musketeers/sweeps/txk212na</a>"
      ],
      "text/plain": [
       "<IPython.core.display.HTML object>"
      ]
     },
     "metadata": {},
     "output_type": "display_data"
    },
    {
     "data": {
      "text/html": [
       " View run at <a href='https://wandb.ai/mateogiraz27-ort/three-musketeers/runs/eyf1g3zr' target=\"_blank\">https://wandb.ai/mateogiraz27-ort/three-musketeers/runs/eyf1g3zr</a>"
      ],
      "text/plain": [
       "<IPython.core.display.HTML object>"
      ]
     },
     "metadata": {},
     "output_type": "display_data"
    },
    {
     "name": "stderr",
     "output_type": "stream",
     "text": [
      "100%|██████████| 100/100 [00:26<00:00,  3.72it/s]\n"
     ]
    },
    {
     "data": {
      "text/html": [],
      "text/plain": [
       "<IPython.core.display.HTML object>"
      ]
     },
     "metadata": {},
     "output_type": "display_data"
    },
    {
     "data": {
      "text/html": [
       "<br>    <style><br>        .wandb-row {<br>            display: flex;<br>            flex-direction: row;<br>            flex-wrap: wrap;<br>            justify-content: flex-start;<br>            width: 100%;<br>        }<br>        .wandb-col {<br>            display: flex;<br>            flex-direction: column;<br>            flex-basis: 100%;<br>            flex: 1;<br>            padding: 10px;<br>        }<br>    </style><br><div class=\"wandb-row\"><div class=\"wandb-col\"><h3>Run history:</h3><br/><table class=\"wandb\"><tr><td>agent_wins</td><td>▁</td></tr><tr><td>pete_wins</td><td>▁</td></tr><tr><td>win_rate</td><td>▁</td></tr></table><br/></div><div class=\"wandb-col\"><h3>Run summary:</h3><br/><table class=\"wandb\"><tr><td>agent_wins</td><td>93</td></tr><tr><td>pete_wins</td><td>7</td></tr><tr><td>win_rate</td><td>0.93</td></tr></table><br/></div></div>"
      ],
      "text/plain": [
       "<IPython.core.display.HTML object>"
      ]
     },
     "metadata": {},
     "output_type": "display_data"
    },
    {
     "data": {
      "text/html": [
       " View run <strong style=\"color:#cdcd00\">lilac-sweep-6</strong> at: <a href='https://wandb.ai/mateogiraz27-ort/three-musketeers/runs/eyf1g3zr' target=\"_blank\">https://wandb.ai/mateogiraz27-ort/three-musketeers/runs/eyf1g3zr</a><br> View project at: <a href='https://wandb.ai/mateogiraz27-ort/three-musketeers' target=\"_blank\">https://wandb.ai/mateogiraz27-ort/three-musketeers</a><br>Synced 5 W&B file(s), 0 media file(s), 0 artifact file(s) and 0 other file(s)"
      ],
      "text/plain": [
       "<IPython.core.display.HTML object>"
      ]
     },
     "metadata": {},
     "output_type": "display_data"
    },
    {
     "data": {
      "text/html": [
       "Find logs at: <code>./wandb/run-20241214_094607-eyf1g3zr/logs</code>"
      ],
      "text/plain": [
       "<IPython.core.display.HTML object>"
      ]
     },
     "metadata": {},
     "output_type": "display_data"
    },
    {
     "name": "stderr",
     "output_type": "stream",
     "text": [
      "\u001b[34m\u001b[1mwandb\u001b[0m: Agent Starting Run: lg6x6qzb with config:\n",
      "\u001b[34m\u001b[1mwandb\u001b[0m: \talignment_weight: 6.441647575366055\n",
      "\u001b[34m\u001b[1mwandb\u001b[0m: \tmax_depth: 5\n",
      "\u001b[34m\u001b[1mwandb\u001b[0m: \tmoves_weight: 11.382687913692076\n",
      "\u001b[34m\u001b[1mwandb\u001b[0m: \ttrap_weight: 12.880285601414943\n"
     ]
    },
    {
     "data": {
      "text/html": [
       "Tracking run with wandb version 0.19.1"
      ],
      "text/plain": [
       "<IPython.core.display.HTML object>"
      ]
     },
     "metadata": {},
     "output_type": "display_data"
    },
    {
     "data": {
      "text/html": [
       "Run data is saved locally in <code>/Users/mateogiraz/Documents/MountainCarContinuous (1)/three-musketeers/wandb/run-20241214_094639-lg6x6qzb</code>"
      ],
      "text/plain": [
       "<IPython.core.display.HTML object>"
      ]
     },
     "metadata": {},
     "output_type": "display_data"
    },
    {
     "data": {
      "text/html": [
       "Syncing run <strong><a href='https://wandb.ai/mateogiraz27-ort/three-musketeers/runs/lg6x6qzb' target=\"_blank\">copper-sweep-7</a></strong> to <a href='https://wandb.ai/mateogiraz27-ort/three-musketeers' target=\"_blank\">Weights & Biases</a> (<a href='https://wandb.me/developer-guide' target=\"_blank\">docs</a>)<br>Sweep page: <a href='https://wandb.ai/mateogiraz27-ort/three-musketeers/sweeps/txk212na' target=\"_blank\">https://wandb.ai/mateogiraz27-ort/three-musketeers/sweeps/txk212na</a>"
      ],
      "text/plain": [
       "<IPython.core.display.HTML object>"
      ]
     },
     "metadata": {},
     "output_type": "display_data"
    },
    {
     "data": {
      "text/html": [
       " View project at <a href='https://wandb.ai/mateogiraz27-ort/three-musketeers' target=\"_blank\">https://wandb.ai/mateogiraz27-ort/three-musketeers</a>"
      ],
      "text/plain": [
       "<IPython.core.display.HTML object>"
      ]
     },
     "metadata": {},
     "output_type": "display_data"
    },
    {
     "data": {
      "text/html": [
       " View sweep at <a href='https://wandb.ai/mateogiraz27-ort/three-musketeers/sweeps/txk212na' target=\"_blank\">https://wandb.ai/mateogiraz27-ort/three-musketeers/sweeps/txk212na</a>"
      ],
      "text/plain": [
       "<IPython.core.display.HTML object>"
      ]
     },
     "metadata": {},
     "output_type": "display_data"
    },
    {
     "data": {
      "text/html": [
       " View run at <a href='https://wandb.ai/mateogiraz27-ort/three-musketeers/runs/lg6x6qzb' target=\"_blank\">https://wandb.ai/mateogiraz27-ort/three-musketeers/runs/lg6x6qzb</a>"
      ],
      "text/plain": [
       "<IPython.core.display.HTML object>"
      ]
     },
     "metadata": {},
     "output_type": "display_data"
    },
    {
     "name": "stderr",
     "output_type": "stream",
     "text": [
      "100%|██████████| 100/100 [01:07<00:00,  1.47it/s]\n"
     ]
    },
    {
     "data": {
      "text/html": [],
      "text/plain": [
       "<IPython.core.display.HTML object>"
      ]
     },
     "metadata": {},
     "output_type": "display_data"
    },
    {
     "data": {
      "text/html": [
       "<br>    <style><br>        .wandb-row {<br>            display: flex;<br>            flex-direction: row;<br>            flex-wrap: wrap;<br>            justify-content: flex-start;<br>            width: 100%;<br>        }<br>        .wandb-col {<br>            display: flex;<br>            flex-direction: column;<br>            flex-basis: 100%;<br>            flex: 1;<br>            padding: 10px;<br>        }<br>    </style><br><div class=\"wandb-row\"><div class=\"wandb-col\"><h3>Run history:</h3><br/><table class=\"wandb\"><tr><td>agent_wins</td><td>▁</td></tr><tr><td>pete_wins</td><td>▁</td></tr><tr><td>win_rate</td><td>▁</td></tr></table><br/></div><div class=\"wandb-col\"><h3>Run summary:</h3><br/><table class=\"wandb\"><tr><td>agent_wins</td><td>95</td></tr><tr><td>pete_wins</td><td>5</td></tr><tr><td>win_rate</td><td>0.95</td></tr></table><br/></div></div>"
      ],
      "text/plain": [
       "<IPython.core.display.HTML object>"
      ]
     },
     "metadata": {},
     "output_type": "display_data"
    },
    {
     "data": {
      "text/html": [
       " View run <strong style=\"color:#cdcd00\">copper-sweep-7</strong> at: <a href='https://wandb.ai/mateogiraz27-ort/three-musketeers/runs/lg6x6qzb' target=\"_blank\">https://wandb.ai/mateogiraz27-ort/three-musketeers/runs/lg6x6qzb</a><br> View project at: <a href='https://wandb.ai/mateogiraz27-ort/three-musketeers' target=\"_blank\">https://wandb.ai/mateogiraz27-ort/three-musketeers</a><br>Synced 5 W&B file(s), 0 media file(s), 0 artifact file(s) and 0 other file(s)"
      ],
      "text/plain": [
       "<IPython.core.display.HTML object>"
      ]
     },
     "metadata": {},
     "output_type": "display_data"
    },
    {
     "data": {
      "text/html": [
       "Find logs at: <code>./wandb/run-20241214_094639-lg6x6qzb/logs</code>"
      ],
      "text/plain": [
       "<IPython.core.display.HTML object>"
      ]
     },
     "metadata": {},
     "output_type": "display_data"
    },
    {
     "name": "stderr",
     "output_type": "stream",
     "text": [
      "\u001b[34m\u001b[1mwandb\u001b[0m: Agent Starting Run: ypi3ecle with config:\n",
      "\u001b[34m\u001b[1mwandb\u001b[0m: \talignment_weight: 13.52983801435287\n",
      "\u001b[34m\u001b[1mwandb\u001b[0m: \tmax_depth: 4\n",
      "\u001b[34m\u001b[1mwandb\u001b[0m: \tmoves_weight: 7.018045560518531\n",
      "\u001b[34m\u001b[1mwandb\u001b[0m: \ttrap_weight: 29.282380161900516\n"
     ]
    },
    {
     "data": {
      "text/html": [
       "Tracking run with wandb version 0.19.1"
      ],
      "text/plain": [
       "<IPython.core.display.HTML object>"
      ]
     },
     "metadata": {},
     "output_type": "display_data"
    },
    {
     "data": {
      "text/html": [
       "Run data is saved locally in <code>/Users/mateogiraz/Documents/MountainCarContinuous (1)/three-musketeers/wandb/run-20241214_094753-ypi3ecle</code>"
      ],
      "text/plain": [
       "<IPython.core.display.HTML object>"
      ]
     },
     "metadata": {},
     "output_type": "display_data"
    },
    {
     "data": {
      "text/html": [
       "Syncing run <strong><a href='https://wandb.ai/mateogiraz27-ort/three-musketeers/runs/ypi3ecle' target=\"_blank\">wandering-sweep-8</a></strong> to <a href='https://wandb.ai/mateogiraz27-ort/three-musketeers' target=\"_blank\">Weights & Biases</a> (<a href='https://wandb.me/developer-guide' target=\"_blank\">docs</a>)<br>Sweep page: <a href='https://wandb.ai/mateogiraz27-ort/three-musketeers/sweeps/txk212na' target=\"_blank\">https://wandb.ai/mateogiraz27-ort/three-musketeers/sweeps/txk212na</a>"
      ],
      "text/plain": [
       "<IPython.core.display.HTML object>"
      ]
     },
     "metadata": {},
     "output_type": "display_data"
    },
    {
     "data": {
      "text/html": [
       " View project at <a href='https://wandb.ai/mateogiraz27-ort/three-musketeers' target=\"_blank\">https://wandb.ai/mateogiraz27-ort/three-musketeers</a>"
      ],
      "text/plain": [
       "<IPython.core.display.HTML object>"
      ]
     },
     "metadata": {},
     "output_type": "display_data"
    },
    {
     "data": {
      "text/html": [
       " View sweep at <a href='https://wandb.ai/mateogiraz27-ort/three-musketeers/sweeps/txk212na' target=\"_blank\">https://wandb.ai/mateogiraz27-ort/three-musketeers/sweeps/txk212na</a>"
      ],
      "text/plain": [
       "<IPython.core.display.HTML object>"
      ]
     },
     "metadata": {},
     "output_type": "display_data"
    },
    {
     "data": {
      "text/html": [
       " View run at <a href='https://wandb.ai/mateogiraz27-ort/three-musketeers/runs/ypi3ecle' target=\"_blank\">https://wandb.ai/mateogiraz27-ort/three-musketeers/runs/ypi3ecle</a>"
      ],
      "text/plain": [
       "<IPython.core.display.HTML object>"
      ]
     },
     "metadata": {},
     "output_type": "display_data"
    },
    {
     "name": "stderr",
     "output_type": "stream",
     "text": [
      "100%|██████████| 100/100 [00:41<00:00,  2.40it/s]\n"
     ]
    },
    {
     "data": {
      "text/html": [],
      "text/plain": [
       "<IPython.core.display.HTML object>"
      ]
     },
     "metadata": {},
     "output_type": "display_data"
    },
    {
     "data": {
      "text/html": [
       "<br>    <style><br>        .wandb-row {<br>            display: flex;<br>            flex-direction: row;<br>            flex-wrap: wrap;<br>            justify-content: flex-start;<br>            width: 100%;<br>        }<br>        .wandb-col {<br>            display: flex;<br>            flex-direction: column;<br>            flex-basis: 100%;<br>            flex: 1;<br>            padding: 10px;<br>        }<br>    </style><br><div class=\"wandb-row\"><div class=\"wandb-col\"><h3>Run history:</h3><br/><table class=\"wandb\"><tr><td>agent_wins</td><td>▁</td></tr><tr><td>pete_wins</td><td>▁</td></tr><tr><td>win_rate</td><td>▁</td></tr></table><br/></div><div class=\"wandb-col\"><h3>Run summary:</h3><br/><table class=\"wandb\"><tr><td>agent_wins</td><td>94</td></tr><tr><td>pete_wins</td><td>6</td></tr><tr><td>win_rate</td><td>0.94</td></tr></table><br/></div></div>"
      ],
      "text/plain": [
       "<IPython.core.display.HTML object>"
      ]
     },
     "metadata": {},
     "output_type": "display_data"
    },
    {
     "data": {
      "text/html": [
       " View run <strong style=\"color:#cdcd00\">wandering-sweep-8</strong> at: <a href='https://wandb.ai/mateogiraz27-ort/three-musketeers/runs/ypi3ecle' target=\"_blank\">https://wandb.ai/mateogiraz27-ort/three-musketeers/runs/ypi3ecle</a><br> View project at: <a href='https://wandb.ai/mateogiraz27-ort/three-musketeers' target=\"_blank\">https://wandb.ai/mateogiraz27-ort/three-musketeers</a><br>Synced 5 W&B file(s), 0 media file(s), 0 artifact file(s) and 0 other file(s)"
      ],
      "text/plain": [
       "<IPython.core.display.HTML object>"
      ]
     },
     "metadata": {},
     "output_type": "display_data"
    },
    {
     "data": {
      "text/html": [
       "Find logs at: <code>./wandb/run-20241214_094753-ypi3ecle/logs</code>"
      ],
      "text/plain": [
       "<IPython.core.display.HTML object>"
      ]
     },
     "metadata": {},
     "output_type": "display_data"
    },
    {
     "name": "stderr",
     "output_type": "stream",
     "text": [
      "\u001b[34m\u001b[1mwandb\u001b[0m: Agent Starting Run: 3im9m8j0 with config:\n",
      "\u001b[34m\u001b[1mwandb\u001b[0m: \talignment_weight: 9.874484211753996\n",
      "\u001b[34m\u001b[1mwandb\u001b[0m: \tmax_depth: 5\n",
      "\u001b[34m\u001b[1mwandb\u001b[0m: \tmoves_weight: 11.262894586076111\n",
      "\u001b[34m\u001b[1mwandb\u001b[0m: \ttrap_weight: 20.555598897337006\n"
     ]
    },
    {
     "data": {
      "text/html": [
       "Tracking run with wandb version 0.19.1"
      ],
      "text/plain": [
       "<IPython.core.display.HTML object>"
      ]
     },
     "metadata": {},
     "output_type": "display_data"
    },
    {
     "data": {
      "text/html": [
       "Run data is saved locally in <code>/Users/mateogiraz/Documents/MountainCarContinuous (1)/three-musketeers/wandb/run-20241214_094841-3im9m8j0</code>"
      ],
      "text/plain": [
       "<IPython.core.display.HTML object>"
      ]
     },
     "metadata": {},
     "output_type": "display_data"
    },
    {
     "data": {
      "text/html": [
       "Syncing run <strong><a href='https://wandb.ai/mateogiraz27-ort/three-musketeers/runs/3im9m8j0' target=\"_blank\">desert-sweep-9</a></strong> to <a href='https://wandb.ai/mateogiraz27-ort/three-musketeers' target=\"_blank\">Weights & Biases</a> (<a href='https://wandb.me/developer-guide' target=\"_blank\">docs</a>)<br>Sweep page: <a href='https://wandb.ai/mateogiraz27-ort/three-musketeers/sweeps/txk212na' target=\"_blank\">https://wandb.ai/mateogiraz27-ort/three-musketeers/sweeps/txk212na</a>"
      ],
      "text/plain": [
       "<IPython.core.display.HTML object>"
      ]
     },
     "metadata": {},
     "output_type": "display_data"
    },
    {
     "data": {
      "text/html": [
       " View project at <a href='https://wandb.ai/mateogiraz27-ort/three-musketeers' target=\"_blank\">https://wandb.ai/mateogiraz27-ort/three-musketeers</a>"
      ],
      "text/plain": [
       "<IPython.core.display.HTML object>"
      ]
     },
     "metadata": {},
     "output_type": "display_data"
    },
    {
     "data": {
      "text/html": [
       " View sweep at <a href='https://wandb.ai/mateogiraz27-ort/three-musketeers/sweeps/txk212na' target=\"_blank\">https://wandb.ai/mateogiraz27-ort/three-musketeers/sweeps/txk212na</a>"
      ],
      "text/plain": [
       "<IPython.core.display.HTML object>"
      ]
     },
     "metadata": {},
     "output_type": "display_data"
    },
    {
     "data": {
      "text/html": [
       " View run at <a href='https://wandb.ai/mateogiraz27-ort/three-musketeers/runs/3im9m8j0' target=\"_blank\">https://wandb.ai/mateogiraz27-ort/three-musketeers/runs/3im9m8j0</a>"
      ],
      "text/plain": [
       "<IPython.core.display.HTML object>"
      ]
     },
     "metadata": {},
     "output_type": "display_data"
    },
    {
     "name": "stderr",
     "output_type": "stream",
     "text": [
      "100%|██████████| 100/100 [01:03<00:00,  1.57it/s]\n"
     ]
    },
    {
     "data": {
      "text/html": [],
      "text/plain": [
       "<IPython.core.display.HTML object>"
      ]
     },
     "metadata": {},
     "output_type": "display_data"
    },
    {
     "data": {
      "text/html": [
       "<br>    <style><br>        .wandb-row {<br>            display: flex;<br>            flex-direction: row;<br>            flex-wrap: wrap;<br>            justify-content: flex-start;<br>            width: 100%;<br>        }<br>        .wandb-col {<br>            display: flex;<br>            flex-direction: column;<br>            flex-basis: 100%;<br>            flex: 1;<br>            padding: 10px;<br>        }<br>    </style><br><div class=\"wandb-row\"><div class=\"wandb-col\"><h3>Run history:</h3><br/><table class=\"wandb\"><tr><td>agent_wins</td><td>▁</td></tr><tr><td>pete_wins</td><td>▁</td></tr><tr><td>win_rate</td><td>▁</td></tr></table><br/></div><div class=\"wandb-col\"><h3>Run summary:</h3><br/><table class=\"wandb\"><tr><td>agent_wins</td><td>87</td></tr><tr><td>pete_wins</td><td>13</td></tr><tr><td>win_rate</td><td>0.87</td></tr></table><br/></div></div>"
      ],
      "text/plain": [
       "<IPython.core.display.HTML object>"
      ]
     },
     "metadata": {},
     "output_type": "display_data"
    },
    {
     "data": {
      "text/html": [
       " View run <strong style=\"color:#cdcd00\">desert-sweep-9</strong> at: <a href='https://wandb.ai/mateogiraz27-ort/three-musketeers/runs/3im9m8j0' target=\"_blank\">https://wandb.ai/mateogiraz27-ort/three-musketeers/runs/3im9m8j0</a><br> View project at: <a href='https://wandb.ai/mateogiraz27-ort/three-musketeers' target=\"_blank\">https://wandb.ai/mateogiraz27-ort/three-musketeers</a><br>Synced 5 W&B file(s), 0 media file(s), 0 artifact file(s) and 0 other file(s)"
      ],
      "text/plain": [
       "<IPython.core.display.HTML object>"
      ]
     },
     "metadata": {},
     "output_type": "display_data"
    },
    {
     "data": {
      "text/html": [
       "Find logs at: <code>./wandb/run-20241214_094841-3im9m8j0/logs</code>"
      ],
      "text/plain": [
       "<IPython.core.display.HTML object>"
      ]
     },
     "metadata": {},
     "output_type": "display_data"
    },
    {
     "name": "stderr",
     "output_type": "stream",
     "text": [
      "\u001b[34m\u001b[1mwandb\u001b[0m: Agent Starting Run: nik6tknb with config:\n",
      "\u001b[34m\u001b[1mwandb\u001b[0m: \talignment_weight: 5.925473932932624\n",
      "\u001b[34m\u001b[1mwandb\u001b[0m: \tmax_depth: 5\n",
      "\u001b[34m\u001b[1mwandb\u001b[0m: \tmoves_weight: 12.685384984436116\n",
      "\u001b[34m\u001b[1mwandb\u001b[0m: \ttrap_weight: 11.935579629875065\n"
     ]
    },
    {
     "data": {
      "text/html": [
       "Tracking run with wandb version 0.19.1"
      ],
      "text/plain": [
       "<IPython.core.display.HTML object>"
      ]
     },
     "metadata": {},
     "output_type": "display_data"
    },
    {
     "data": {
      "text/html": [
       "Run data is saved locally in <code>/Users/mateogiraz/Documents/MountainCarContinuous (1)/three-musketeers/wandb/run-20241214_094949-nik6tknb</code>"
      ],
      "text/plain": [
       "<IPython.core.display.HTML object>"
      ]
     },
     "metadata": {},
     "output_type": "display_data"
    },
    {
     "data": {
      "text/html": [
       "Syncing run <strong><a href='https://wandb.ai/mateogiraz27-ort/three-musketeers/runs/nik6tknb' target=\"_blank\">fluent-sweep-10</a></strong> to <a href='https://wandb.ai/mateogiraz27-ort/three-musketeers' target=\"_blank\">Weights & Biases</a> (<a href='https://wandb.me/developer-guide' target=\"_blank\">docs</a>)<br>Sweep page: <a href='https://wandb.ai/mateogiraz27-ort/three-musketeers/sweeps/txk212na' target=\"_blank\">https://wandb.ai/mateogiraz27-ort/three-musketeers/sweeps/txk212na</a>"
      ],
      "text/plain": [
       "<IPython.core.display.HTML object>"
      ]
     },
     "metadata": {},
     "output_type": "display_data"
    },
    {
     "data": {
      "text/html": [
       " View project at <a href='https://wandb.ai/mateogiraz27-ort/three-musketeers' target=\"_blank\">https://wandb.ai/mateogiraz27-ort/three-musketeers</a>"
      ],
      "text/plain": [
       "<IPython.core.display.HTML object>"
      ]
     },
     "metadata": {},
     "output_type": "display_data"
    },
    {
     "data": {
      "text/html": [
       " View sweep at <a href='https://wandb.ai/mateogiraz27-ort/three-musketeers/sweeps/txk212na' target=\"_blank\">https://wandb.ai/mateogiraz27-ort/three-musketeers/sweeps/txk212na</a>"
      ],
      "text/plain": [
       "<IPython.core.display.HTML object>"
      ]
     },
     "metadata": {},
     "output_type": "display_data"
    },
    {
     "data": {
      "text/html": [
       " View run at <a href='https://wandb.ai/mateogiraz27-ort/three-musketeers/runs/nik6tknb' target=\"_blank\">https://wandb.ai/mateogiraz27-ort/three-musketeers/runs/nik6tknb</a>"
      ],
      "text/plain": [
       "<IPython.core.display.HTML object>"
      ]
     },
     "metadata": {},
     "output_type": "display_data"
    },
    {
     "name": "stderr",
     "output_type": "stream",
     "text": [
      "100%|██████████| 100/100 [01:03<00:00,  1.59it/s]\n"
     ]
    },
    {
     "data": {
      "text/html": [],
      "text/plain": [
       "<IPython.core.display.HTML object>"
      ]
     },
     "metadata": {},
     "output_type": "display_data"
    },
    {
     "data": {
      "text/html": [
       "<br>    <style><br>        .wandb-row {<br>            display: flex;<br>            flex-direction: row;<br>            flex-wrap: wrap;<br>            justify-content: flex-start;<br>            width: 100%;<br>        }<br>        .wandb-col {<br>            display: flex;<br>            flex-direction: column;<br>            flex-basis: 100%;<br>            flex: 1;<br>            padding: 10px;<br>        }<br>    </style><br><div class=\"wandb-row\"><div class=\"wandb-col\"><h3>Run history:</h3><br/><table class=\"wandb\"><tr><td>agent_wins</td><td>▁</td></tr><tr><td>pete_wins</td><td>▁</td></tr><tr><td>win_rate</td><td>▁</td></tr></table><br/></div><div class=\"wandb-col\"><h3>Run summary:</h3><br/><table class=\"wandb\"><tr><td>agent_wins</td><td>93</td></tr><tr><td>pete_wins</td><td>7</td></tr><tr><td>win_rate</td><td>0.93</td></tr></table><br/></div></div>"
      ],
      "text/plain": [
       "<IPython.core.display.HTML object>"
      ]
     },
     "metadata": {},
     "output_type": "display_data"
    },
    {
     "data": {
      "text/html": [
       " View run <strong style=\"color:#cdcd00\">fluent-sweep-10</strong> at: <a href='https://wandb.ai/mateogiraz27-ort/three-musketeers/runs/nik6tknb' target=\"_blank\">https://wandb.ai/mateogiraz27-ort/three-musketeers/runs/nik6tknb</a><br> View project at: <a href='https://wandb.ai/mateogiraz27-ort/three-musketeers' target=\"_blank\">https://wandb.ai/mateogiraz27-ort/three-musketeers</a><br>Synced 5 W&B file(s), 0 media file(s), 0 artifact file(s) and 0 other file(s)"
      ],
      "text/plain": [
       "<IPython.core.display.HTML object>"
      ]
     },
     "metadata": {},
     "output_type": "display_data"
    },
    {
     "data": {
      "text/html": [
       "Find logs at: <code>./wandb/run-20241214_094949-nik6tknb/logs</code>"
      ],
      "text/plain": [
       "<IPython.core.display.HTML object>"
      ]
     },
     "metadata": {},
     "output_type": "display_data"
    },
    {
     "name": "stderr",
     "output_type": "stream",
     "text": [
      "\u001b[34m\u001b[1mwandb\u001b[0m: Agent Starting Run: xc7gu31v with config:\n",
      "\u001b[34m\u001b[1mwandb\u001b[0m: \talignment_weight: 8.375786648672936\n",
      "\u001b[34m\u001b[1mwandb\u001b[0m: \tmax_depth: 3\n",
      "\u001b[34m\u001b[1mwandb\u001b[0m: \tmoves_weight: 7.32098351543661\n",
      "\u001b[34m\u001b[1mwandb\u001b[0m: \ttrap_weight: 10.261170341391136\n"
     ]
    },
    {
     "data": {
      "text/html": [
       "Tracking run with wandb version 0.19.1"
      ],
      "text/plain": [
       "<IPython.core.display.HTML object>"
      ]
     },
     "metadata": {},
     "output_type": "display_data"
    },
    {
     "data": {
      "text/html": [
       "Run data is saved locally in <code>/Users/mateogiraz/Documents/MountainCarContinuous (1)/three-musketeers/wandb/run-20241214_095058-xc7gu31v</code>"
      ],
      "text/plain": [
       "<IPython.core.display.HTML object>"
      ]
     },
     "metadata": {},
     "output_type": "display_data"
    },
    {
     "data": {
      "text/html": [
       "Syncing run <strong><a href='https://wandb.ai/mateogiraz27-ort/three-musketeers/runs/xc7gu31v' target=\"_blank\">helpful-sweep-11</a></strong> to <a href='https://wandb.ai/mateogiraz27-ort/three-musketeers' target=\"_blank\">Weights & Biases</a> (<a href='https://wandb.me/developer-guide' target=\"_blank\">docs</a>)<br>Sweep page: <a href='https://wandb.ai/mateogiraz27-ort/three-musketeers/sweeps/txk212na' target=\"_blank\">https://wandb.ai/mateogiraz27-ort/three-musketeers/sweeps/txk212na</a>"
      ],
      "text/plain": [
       "<IPython.core.display.HTML object>"
      ]
     },
     "metadata": {},
     "output_type": "display_data"
    },
    {
     "data": {
      "text/html": [
       " View project at <a href='https://wandb.ai/mateogiraz27-ort/three-musketeers' target=\"_blank\">https://wandb.ai/mateogiraz27-ort/three-musketeers</a>"
      ],
      "text/plain": [
       "<IPython.core.display.HTML object>"
      ]
     },
     "metadata": {},
     "output_type": "display_data"
    },
    {
     "data": {
      "text/html": [
       " View sweep at <a href='https://wandb.ai/mateogiraz27-ort/three-musketeers/sweeps/txk212na' target=\"_blank\">https://wandb.ai/mateogiraz27-ort/three-musketeers/sweeps/txk212na</a>"
      ],
      "text/plain": [
       "<IPython.core.display.HTML object>"
      ]
     },
     "metadata": {},
     "output_type": "display_data"
    },
    {
     "data": {
      "text/html": [
       " View run at <a href='https://wandb.ai/mateogiraz27-ort/three-musketeers/runs/xc7gu31v' target=\"_blank\">https://wandb.ai/mateogiraz27-ort/three-musketeers/runs/xc7gu31v</a>"
      ],
      "text/plain": [
       "<IPython.core.display.HTML object>"
      ]
     },
     "metadata": {},
     "output_type": "display_data"
    },
    {
     "name": "stderr",
     "output_type": "stream",
     "text": [
      "100%|██████████| 100/100 [00:30<00:00,  3.30it/s]\n"
     ]
    },
    {
     "data": {
      "text/html": [],
      "text/plain": [
       "<IPython.core.display.HTML object>"
      ]
     },
     "metadata": {},
     "output_type": "display_data"
    },
    {
     "data": {
      "text/html": [
       "<br>    <style><br>        .wandb-row {<br>            display: flex;<br>            flex-direction: row;<br>            flex-wrap: wrap;<br>            justify-content: flex-start;<br>            width: 100%;<br>        }<br>        .wandb-col {<br>            display: flex;<br>            flex-direction: column;<br>            flex-basis: 100%;<br>            flex: 1;<br>            padding: 10px;<br>        }<br>    </style><br><div class=\"wandb-row\"><div class=\"wandb-col\"><h3>Run history:</h3><br/><table class=\"wandb\"><tr><td>agent_wins</td><td>▁</td></tr><tr><td>pete_wins</td><td>▁</td></tr><tr><td>win_rate</td><td>▁</td></tr></table><br/></div><div class=\"wandb-col\"><h3>Run summary:</h3><br/><table class=\"wandb\"><tr><td>agent_wins</td><td>99</td></tr><tr><td>pete_wins</td><td>1</td></tr><tr><td>win_rate</td><td>0.99</td></tr></table><br/></div></div>"
      ],
      "text/plain": [
       "<IPython.core.display.HTML object>"
      ]
     },
     "metadata": {},
     "output_type": "display_data"
    },
    {
     "data": {
      "text/html": [
       " View run <strong style=\"color:#cdcd00\">helpful-sweep-11</strong> at: <a href='https://wandb.ai/mateogiraz27-ort/three-musketeers/runs/xc7gu31v' target=\"_blank\">https://wandb.ai/mateogiraz27-ort/three-musketeers/runs/xc7gu31v</a><br> View project at: <a href='https://wandb.ai/mateogiraz27-ort/three-musketeers' target=\"_blank\">https://wandb.ai/mateogiraz27-ort/three-musketeers</a><br>Synced 5 W&B file(s), 0 media file(s), 0 artifact file(s) and 0 other file(s)"
      ],
      "text/plain": [
       "<IPython.core.display.HTML object>"
      ]
     },
     "metadata": {},
     "output_type": "display_data"
    },
    {
     "data": {
      "text/html": [
       "Find logs at: <code>./wandb/run-20241214_095058-xc7gu31v/logs</code>"
      ],
      "text/plain": [
       "<IPython.core.display.HTML object>"
      ]
     },
     "metadata": {},
     "output_type": "display_data"
    },
    {
     "name": "stderr",
     "output_type": "stream",
     "text": [
      "\u001b[34m\u001b[1mwandb\u001b[0m: Agent Starting Run: 1x5anuna with config:\n",
      "\u001b[34m\u001b[1mwandb\u001b[0m: \talignment_weight: 8.328713747854048\n",
      "\u001b[34m\u001b[1mwandb\u001b[0m: \tmax_depth: 3\n",
      "\u001b[34m\u001b[1mwandb\u001b[0m: \tmoves_weight: 7.672732682616647\n",
      "\u001b[34m\u001b[1mwandb\u001b[0m: \ttrap_weight: 10.351407926318808\n"
     ]
    },
    {
     "data": {
      "text/html": [
       "Tracking run with wandb version 0.19.1"
      ],
      "text/plain": [
       "<IPython.core.display.HTML object>"
      ]
     },
     "metadata": {},
     "output_type": "display_data"
    },
    {
     "data": {
      "text/html": [
       "Run data is saved locally in <code>/Users/mateogiraz/Documents/MountainCarContinuous (1)/three-musketeers/wandb/run-20241214_095135-1x5anuna</code>"
      ],
      "text/plain": [
       "<IPython.core.display.HTML object>"
      ]
     },
     "metadata": {},
     "output_type": "display_data"
    },
    {
     "data": {
      "text/html": [
       "Syncing run <strong><a href='https://wandb.ai/mateogiraz27-ort/three-musketeers/runs/1x5anuna' target=\"_blank\">revived-sweep-12</a></strong> to <a href='https://wandb.ai/mateogiraz27-ort/three-musketeers' target=\"_blank\">Weights & Biases</a> (<a href='https://wandb.me/developer-guide' target=\"_blank\">docs</a>)<br>Sweep page: <a href='https://wandb.ai/mateogiraz27-ort/three-musketeers/sweeps/txk212na' target=\"_blank\">https://wandb.ai/mateogiraz27-ort/three-musketeers/sweeps/txk212na</a>"
      ],
      "text/plain": [
       "<IPython.core.display.HTML object>"
      ]
     },
     "metadata": {},
     "output_type": "display_data"
    },
    {
     "data": {
      "text/html": [
       " View project at <a href='https://wandb.ai/mateogiraz27-ort/three-musketeers' target=\"_blank\">https://wandb.ai/mateogiraz27-ort/three-musketeers</a>"
      ],
      "text/plain": [
       "<IPython.core.display.HTML object>"
      ]
     },
     "metadata": {},
     "output_type": "display_data"
    },
    {
     "data": {
      "text/html": [
       " View sweep at <a href='https://wandb.ai/mateogiraz27-ort/three-musketeers/sweeps/txk212na' target=\"_blank\">https://wandb.ai/mateogiraz27-ort/three-musketeers/sweeps/txk212na</a>"
      ],
      "text/plain": [
       "<IPython.core.display.HTML object>"
      ]
     },
     "metadata": {},
     "output_type": "display_data"
    },
    {
     "data": {
      "text/html": [
       " View run at <a href='https://wandb.ai/mateogiraz27-ort/three-musketeers/runs/1x5anuna' target=\"_blank\">https://wandb.ai/mateogiraz27-ort/three-musketeers/runs/1x5anuna</a>"
      ],
      "text/plain": [
       "<IPython.core.display.HTML object>"
      ]
     },
     "metadata": {},
     "output_type": "display_data"
    },
    {
     "name": "stderr",
     "output_type": "stream",
     "text": [
      "100%|██████████| 100/100 [00:28<00:00,  3.45it/s]\n"
     ]
    },
    {
     "data": {
      "text/html": [],
      "text/plain": [
       "<IPython.core.display.HTML object>"
      ]
     },
     "metadata": {},
     "output_type": "display_data"
    },
    {
     "data": {
      "text/html": [
       "<br>    <style><br>        .wandb-row {<br>            display: flex;<br>            flex-direction: row;<br>            flex-wrap: wrap;<br>            justify-content: flex-start;<br>            width: 100%;<br>        }<br>        .wandb-col {<br>            display: flex;<br>            flex-direction: column;<br>            flex-basis: 100%;<br>            flex: 1;<br>            padding: 10px;<br>        }<br>    </style><br><div class=\"wandb-row\"><div class=\"wandb-col\"><h3>Run history:</h3><br/><table class=\"wandb\"><tr><td>agent_wins</td><td>▁</td></tr><tr><td>pete_wins</td><td>▁</td></tr><tr><td>win_rate</td><td>▁</td></tr></table><br/></div><div class=\"wandb-col\"><h3>Run summary:</h3><br/><table class=\"wandb\"><tr><td>agent_wins</td><td>91</td></tr><tr><td>pete_wins</td><td>9</td></tr><tr><td>win_rate</td><td>0.91</td></tr></table><br/></div></div>"
      ],
      "text/plain": [
       "<IPython.core.display.HTML object>"
      ]
     },
     "metadata": {},
     "output_type": "display_data"
    },
    {
     "data": {
      "text/html": [
       " View run <strong style=\"color:#cdcd00\">revived-sweep-12</strong> at: <a href='https://wandb.ai/mateogiraz27-ort/three-musketeers/runs/1x5anuna' target=\"_blank\">https://wandb.ai/mateogiraz27-ort/three-musketeers/runs/1x5anuna</a><br> View project at: <a href='https://wandb.ai/mateogiraz27-ort/three-musketeers' target=\"_blank\">https://wandb.ai/mateogiraz27-ort/three-musketeers</a><br>Synced 5 W&B file(s), 0 media file(s), 0 artifact file(s) and 0 other file(s)"
      ],
      "text/plain": [
       "<IPython.core.display.HTML object>"
      ]
     },
     "metadata": {},
     "output_type": "display_data"
    },
    {
     "data": {
      "text/html": [
       "Find logs at: <code>./wandb/run-20241214_095135-1x5anuna/logs</code>"
      ],
      "text/plain": [
       "<IPython.core.display.HTML object>"
      ]
     },
     "metadata": {},
     "output_type": "display_data"
    },
    {
     "name": "stderr",
     "output_type": "stream",
     "text": [
      "\u001b[34m\u001b[1mwandb\u001b[0m: Sweep Agent: Waiting for job.\n",
      "\u001b[34m\u001b[1mwandb\u001b[0m: Job received.\n",
      "\u001b[34m\u001b[1mwandb\u001b[0m: Agent Starting Run: 4wi0g1uq with config:\n",
      "\u001b[34m\u001b[1mwandb\u001b[0m: \talignment_weight: 11.113211646791374\n",
      "\u001b[34m\u001b[1mwandb\u001b[0m: \tmax_depth: 2\n",
      "\u001b[34m\u001b[1mwandb\u001b[0m: \tmoves_weight: 8.147889502468841\n",
      "\u001b[34m\u001b[1mwandb\u001b[0m: \ttrap_weight: 11.119821021042863\n"
     ]
    },
    {
     "data": {
      "text/html": [
       "Tracking run with wandb version 0.19.1"
      ],
      "text/plain": [
       "<IPython.core.display.HTML object>"
      ]
     },
     "metadata": {},
     "output_type": "display_data"
    },
    {
     "data": {
      "text/html": [
       "Run data is saved locally in <code>/Users/mateogiraz/Documents/MountainCarContinuous (1)/three-musketeers/wandb/run-20241214_095218-4wi0g1uq</code>"
      ],
      "text/plain": [
       "<IPython.core.display.HTML object>"
      ]
     },
     "metadata": {},
     "output_type": "display_data"
    },
    {
     "data": {
      "text/html": [
       "Syncing run <strong><a href='https://wandb.ai/mateogiraz27-ort/three-musketeers/runs/4wi0g1uq' target=\"_blank\">revived-sweep-13</a></strong> to <a href='https://wandb.ai/mateogiraz27-ort/three-musketeers' target=\"_blank\">Weights & Biases</a> (<a href='https://wandb.me/developer-guide' target=\"_blank\">docs</a>)<br>Sweep page: <a href='https://wandb.ai/mateogiraz27-ort/three-musketeers/sweeps/txk212na' target=\"_blank\">https://wandb.ai/mateogiraz27-ort/three-musketeers/sweeps/txk212na</a>"
      ],
      "text/plain": [
       "<IPython.core.display.HTML object>"
      ]
     },
     "metadata": {},
     "output_type": "display_data"
    },
    {
     "data": {
      "text/html": [
       " View project at <a href='https://wandb.ai/mateogiraz27-ort/three-musketeers' target=\"_blank\">https://wandb.ai/mateogiraz27-ort/three-musketeers</a>"
      ],
      "text/plain": [
       "<IPython.core.display.HTML object>"
      ]
     },
     "metadata": {},
     "output_type": "display_data"
    },
    {
     "data": {
      "text/html": [
       " View sweep at <a href='https://wandb.ai/mateogiraz27-ort/three-musketeers/sweeps/txk212na' target=\"_blank\">https://wandb.ai/mateogiraz27-ort/three-musketeers/sweeps/txk212na</a>"
      ],
      "text/plain": [
       "<IPython.core.display.HTML object>"
      ]
     },
     "metadata": {},
     "output_type": "display_data"
    },
    {
     "data": {
      "text/html": [
       " View run at <a href='https://wandb.ai/mateogiraz27-ort/three-musketeers/runs/4wi0g1uq' target=\"_blank\">https://wandb.ai/mateogiraz27-ort/three-musketeers/runs/4wi0g1uq</a>"
      ],
      "text/plain": [
       "<IPython.core.display.HTML object>"
      ]
     },
     "metadata": {},
     "output_type": "display_data"
    },
    {
     "name": "stderr",
     "output_type": "stream",
     "text": [
      "100%|██████████| 100/100 [00:25<00:00,  3.86it/s]\n"
     ]
    },
    {
     "data": {
      "text/html": [],
      "text/plain": [
       "<IPython.core.display.HTML object>"
      ]
     },
     "metadata": {},
     "output_type": "display_data"
    },
    {
     "data": {
      "text/html": [
       "<br>    <style><br>        .wandb-row {<br>            display: flex;<br>            flex-direction: row;<br>            flex-wrap: wrap;<br>            justify-content: flex-start;<br>            width: 100%;<br>        }<br>        .wandb-col {<br>            display: flex;<br>            flex-direction: column;<br>            flex-basis: 100%;<br>            flex: 1;<br>            padding: 10px;<br>        }<br>    </style><br><div class=\"wandb-row\"><div class=\"wandb-col\"><h3>Run history:</h3><br/><table class=\"wandb\"><tr><td>agent_wins</td><td>▁</td></tr><tr><td>pete_wins</td><td>▁</td></tr><tr><td>win_rate</td><td>▁</td></tr></table><br/></div><div class=\"wandb-col\"><h3>Run summary:</h3><br/><table class=\"wandb\"><tr><td>agent_wins</td><td>93</td></tr><tr><td>pete_wins</td><td>7</td></tr><tr><td>win_rate</td><td>0.93</td></tr></table><br/></div></div>"
      ],
      "text/plain": [
       "<IPython.core.display.HTML object>"
      ]
     },
     "metadata": {},
     "output_type": "display_data"
    },
    {
     "data": {
      "text/html": [
       " View run <strong style=\"color:#cdcd00\">revived-sweep-13</strong> at: <a href='https://wandb.ai/mateogiraz27-ort/three-musketeers/runs/4wi0g1uq' target=\"_blank\">https://wandb.ai/mateogiraz27-ort/three-musketeers/runs/4wi0g1uq</a><br> View project at: <a href='https://wandb.ai/mateogiraz27-ort/three-musketeers' target=\"_blank\">https://wandb.ai/mateogiraz27-ort/three-musketeers</a><br>Synced 5 W&B file(s), 0 media file(s), 0 artifact file(s) and 0 other file(s)"
      ],
      "text/plain": [
       "<IPython.core.display.HTML object>"
      ]
     },
     "metadata": {},
     "output_type": "display_data"
    },
    {
     "data": {
      "text/html": [
       "Find logs at: <code>./wandb/run-20241214_095218-4wi0g1uq/logs</code>"
      ],
      "text/plain": [
       "<IPython.core.display.HTML object>"
      ]
     },
     "metadata": {},
     "output_type": "display_data"
    },
    {
     "name": "stderr",
     "output_type": "stream",
     "text": [
      "\u001b[34m\u001b[1mwandb\u001b[0m: Agent Starting Run: 42e7n3mi with config:\n",
      "\u001b[34m\u001b[1mwandb\u001b[0m: \talignment_weight: 7.753879001926771\n",
      "\u001b[34m\u001b[1mwandb\u001b[0m: \tmax_depth: 3\n",
      "\u001b[34m\u001b[1mwandb\u001b[0m: \tmoves_weight: 10.92911558380263\n",
      "\u001b[34m\u001b[1mwandb\u001b[0m: \ttrap_weight: 25.631363269632683\n"
     ]
    },
    {
     "data": {
      "text/html": [
       "Tracking run with wandb version 0.19.1"
      ],
      "text/plain": [
       "<IPython.core.display.HTML object>"
      ]
     },
     "metadata": {},
     "output_type": "display_data"
    },
    {
     "data": {
      "text/html": [
       "Run data is saved locally in <code>/Users/mateogiraz/Documents/MountainCarContinuous (1)/three-musketeers/wandb/run-20241214_095250-42e7n3mi</code>"
      ],
      "text/plain": [
       "<IPython.core.display.HTML object>"
      ]
     },
     "metadata": {},
     "output_type": "display_data"
    },
    {
     "data": {
      "text/html": [
       "Syncing run <strong><a href='https://wandb.ai/mateogiraz27-ort/three-musketeers/runs/42e7n3mi' target=\"_blank\">fragrant-sweep-14</a></strong> to <a href='https://wandb.ai/mateogiraz27-ort/three-musketeers' target=\"_blank\">Weights & Biases</a> (<a href='https://wandb.me/developer-guide' target=\"_blank\">docs</a>)<br>Sweep page: <a href='https://wandb.ai/mateogiraz27-ort/three-musketeers/sweeps/txk212na' target=\"_blank\">https://wandb.ai/mateogiraz27-ort/three-musketeers/sweeps/txk212na</a>"
      ],
      "text/plain": [
       "<IPython.core.display.HTML object>"
      ]
     },
     "metadata": {},
     "output_type": "display_data"
    },
    {
     "data": {
      "text/html": [
       " View project at <a href='https://wandb.ai/mateogiraz27-ort/three-musketeers' target=\"_blank\">https://wandb.ai/mateogiraz27-ort/three-musketeers</a>"
      ],
      "text/plain": [
       "<IPython.core.display.HTML object>"
      ]
     },
     "metadata": {},
     "output_type": "display_data"
    },
    {
     "data": {
      "text/html": [
       " View sweep at <a href='https://wandb.ai/mateogiraz27-ort/three-musketeers/sweeps/txk212na' target=\"_blank\">https://wandb.ai/mateogiraz27-ort/three-musketeers/sweeps/txk212na</a>"
      ],
      "text/plain": [
       "<IPython.core.display.HTML object>"
      ]
     },
     "metadata": {},
     "output_type": "display_data"
    },
    {
     "data": {
      "text/html": [
       " View run at <a href='https://wandb.ai/mateogiraz27-ort/three-musketeers/runs/42e7n3mi' target=\"_blank\">https://wandb.ai/mateogiraz27-ort/three-musketeers/runs/42e7n3mi</a>"
      ],
      "text/plain": [
       "<IPython.core.display.HTML object>"
      ]
     },
     "metadata": {},
     "output_type": "display_data"
    },
    {
     "name": "stderr",
     "output_type": "stream",
     "text": [
      "100%|██████████| 100/100 [00:30<00:00,  3.28it/s]\n"
     ]
    },
    {
     "data": {
      "text/html": [],
      "text/plain": [
       "<IPython.core.display.HTML object>"
      ]
     },
     "metadata": {},
     "output_type": "display_data"
    },
    {
     "data": {
      "text/html": [
       "<br>    <style><br>        .wandb-row {<br>            display: flex;<br>            flex-direction: row;<br>            flex-wrap: wrap;<br>            justify-content: flex-start;<br>            width: 100%;<br>        }<br>        .wandb-col {<br>            display: flex;<br>            flex-direction: column;<br>            flex-basis: 100%;<br>            flex: 1;<br>            padding: 10px;<br>        }<br>    </style><br><div class=\"wandb-row\"><div class=\"wandb-col\"><h3>Run history:</h3><br/><table class=\"wandb\"><tr><td>agent_wins</td><td>▁</td></tr><tr><td>pete_wins</td><td>▁</td></tr><tr><td>win_rate</td><td>▁</td></tr></table><br/></div><div class=\"wandb-col\"><h3>Run summary:</h3><br/><table class=\"wandb\"><tr><td>agent_wins</td><td>84</td></tr><tr><td>pete_wins</td><td>16</td></tr><tr><td>win_rate</td><td>0.84</td></tr></table><br/></div></div>"
      ],
      "text/plain": [
       "<IPython.core.display.HTML object>"
      ]
     },
     "metadata": {},
     "output_type": "display_data"
    },
    {
     "data": {
      "text/html": [
       " View run <strong style=\"color:#cdcd00\">fragrant-sweep-14</strong> at: <a href='https://wandb.ai/mateogiraz27-ort/three-musketeers/runs/42e7n3mi' target=\"_blank\">https://wandb.ai/mateogiraz27-ort/three-musketeers/runs/42e7n3mi</a><br> View project at: <a href='https://wandb.ai/mateogiraz27-ort/three-musketeers' target=\"_blank\">https://wandb.ai/mateogiraz27-ort/three-musketeers</a><br>Synced 5 W&B file(s), 0 media file(s), 0 artifact file(s) and 0 other file(s)"
      ],
      "text/plain": [
       "<IPython.core.display.HTML object>"
      ]
     },
     "metadata": {},
     "output_type": "display_data"
    },
    {
     "data": {
      "text/html": [
       "Find logs at: <code>./wandb/run-20241214_095250-42e7n3mi/logs</code>"
      ],
      "text/plain": [
       "<IPython.core.display.HTML object>"
      ]
     },
     "metadata": {},
     "output_type": "display_data"
    },
    {
     "name": "stderr",
     "output_type": "stream",
     "text": [
      "\u001b[34m\u001b[1mwandb\u001b[0m: Agent Starting Run: kygj9caw with config:\n",
      "\u001b[34m\u001b[1mwandb\u001b[0m: \talignment_weight: 7.231247223864964\n",
      "\u001b[34m\u001b[1mwandb\u001b[0m: \tmax_depth: 3\n",
      "\u001b[34m\u001b[1mwandb\u001b[0m: \tmoves_weight: 12.631087516850448\n",
      "\u001b[34m\u001b[1mwandb\u001b[0m: \ttrap_weight: 10.73853928935272\n"
     ]
    },
    {
     "data": {
      "text/html": [
       "Tracking run with wandb version 0.19.1"
      ],
      "text/plain": [
       "<IPython.core.display.HTML object>"
      ]
     },
     "metadata": {},
     "output_type": "display_data"
    },
    {
     "data": {
      "text/html": [
       "Run data is saved locally in <code>/Users/mateogiraz/Documents/MountainCarContinuous (1)/three-musketeers/wandb/run-20241214_095327-kygj9caw</code>"
      ],
      "text/plain": [
       "<IPython.core.display.HTML object>"
      ]
     },
     "metadata": {},
     "output_type": "display_data"
    },
    {
     "data": {
      "text/html": [
       "Syncing run <strong><a href='https://wandb.ai/mateogiraz27-ort/three-musketeers/runs/kygj9caw' target=\"_blank\">splendid-sweep-15</a></strong> to <a href='https://wandb.ai/mateogiraz27-ort/three-musketeers' target=\"_blank\">Weights & Biases</a> (<a href='https://wandb.me/developer-guide' target=\"_blank\">docs</a>)<br>Sweep page: <a href='https://wandb.ai/mateogiraz27-ort/three-musketeers/sweeps/txk212na' target=\"_blank\">https://wandb.ai/mateogiraz27-ort/three-musketeers/sweeps/txk212na</a>"
      ],
      "text/plain": [
       "<IPython.core.display.HTML object>"
      ]
     },
     "metadata": {},
     "output_type": "display_data"
    },
    {
     "data": {
      "text/html": [
       " View project at <a href='https://wandb.ai/mateogiraz27-ort/three-musketeers' target=\"_blank\">https://wandb.ai/mateogiraz27-ort/three-musketeers</a>"
      ],
      "text/plain": [
       "<IPython.core.display.HTML object>"
      ]
     },
     "metadata": {},
     "output_type": "display_data"
    },
    {
     "data": {
      "text/html": [
       " View sweep at <a href='https://wandb.ai/mateogiraz27-ort/three-musketeers/sweeps/txk212na' target=\"_blank\">https://wandb.ai/mateogiraz27-ort/three-musketeers/sweeps/txk212na</a>"
      ],
      "text/plain": [
       "<IPython.core.display.HTML object>"
      ]
     },
     "metadata": {},
     "output_type": "display_data"
    },
    {
     "data": {
      "text/html": [
       " View run at <a href='https://wandb.ai/mateogiraz27-ort/three-musketeers/runs/kygj9caw' target=\"_blank\">https://wandb.ai/mateogiraz27-ort/three-musketeers/runs/kygj9caw</a>"
      ],
      "text/plain": [
       "<IPython.core.display.HTML object>"
      ]
     },
     "metadata": {},
     "output_type": "display_data"
    },
    {
     "name": "stderr",
     "output_type": "stream",
     "text": [
      "100%|██████████| 100/100 [00:26<00:00,  3.74it/s]\n"
     ]
    },
    {
     "data": {
      "text/html": [],
      "text/plain": [
       "<IPython.core.display.HTML object>"
      ]
     },
     "metadata": {},
     "output_type": "display_data"
    },
    {
     "data": {
      "text/html": [
       "<br>    <style><br>        .wandb-row {<br>            display: flex;<br>            flex-direction: row;<br>            flex-wrap: wrap;<br>            justify-content: flex-start;<br>            width: 100%;<br>        }<br>        .wandb-col {<br>            display: flex;<br>            flex-direction: column;<br>            flex-basis: 100%;<br>            flex: 1;<br>            padding: 10px;<br>        }<br>    </style><br><div class=\"wandb-row\"><div class=\"wandb-col\"><h3>Run history:</h3><br/><table class=\"wandb\"><tr><td>agent_wins</td><td>▁</td></tr><tr><td>pete_wins</td><td>▁</td></tr><tr><td>win_rate</td><td>▁</td></tr></table><br/></div><div class=\"wandb-col\"><h3>Run summary:</h3><br/><table class=\"wandb\"><tr><td>agent_wins</td><td>92</td></tr><tr><td>pete_wins</td><td>8</td></tr><tr><td>win_rate</td><td>0.92</td></tr></table><br/></div></div>"
      ],
      "text/plain": [
       "<IPython.core.display.HTML object>"
      ]
     },
     "metadata": {},
     "output_type": "display_data"
    },
    {
     "data": {
      "text/html": [
       " View run <strong style=\"color:#cdcd00\">splendid-sweep-15</strong> at: <a href='https://wandb.ai/mateogiraz27-ort/three-musketeers/runs/kygj9caw' target=\"_blank\">https://wandb.ai/mateogiraz27-ort/three-musketeers/runs/kygj9caw</a><br> View project at: <a href='https://wandb.ai/mateogiraz27-ort/three-musketeers' target=\"_blank\">https://wandb.ai/mateogiraz27-ort/three-musketeers</a><br>Synced 5 W&B file(s), 0 media file(s), 0 artifact file(s) and 0 other file(s)"
      ],
      "text/plain": [
       "<IPython.core.display.HTML object>"
      ]
     },
     "metadata": {},
     "output_type": "display_data"
    },
    {
     "data": {
      "text/html": [
       "Find logs at: <code>./wandb/run-20241214_095327-kygj9caw/logs</code>"
      ],
      "text/plain": [
       "<IPython.core.display.HTML object>"
      ]
     },
     "metadata": {},
     "output_type": "display_data"
    },
    {
     "name": "stderr",
     "output_type": "stream",
     "text": [
      "\u001b[34m\u001b[1mwandb\u001b[0m: Agent Starting Run: g7cfsdbg with config:\n",
      "\u001b[34m\u001b[1mwandb\u001b[0m: \talignment_weight: 18.8384435023527\n",
      "\u001b[34m\u001b[1mwandb\u001b[0m: \tmax_depth: 3\n",
      "\u001b[34m\u001b[1mwandb\u001b[0m: \tmoves_weight: 7.760931326488309\n",
      "\u001b[34m\u001b[1mwandb\u001b[0m: \ttrap_weight: 27.435938169488963\n"
     ]
    },
    {
     "data": {
      "text/html": [
       "Tracking run with wandb version 0.19.1"
      ],
      "text/plain": [
       "<IPython.core.display.HTML object>"
      ]
     },
     "metadata": {},
     "output_type": "display_data"
    },
    {
     "data": {
      "text/html": [
       "Run data is saved locally in <code>/Users/mateogiraz/Documents/MountainCarContinuous (1)/three-musketeers/wandb/run-20241214_095359-g7cfsdbg</code>"
      ],
      "text/plain": [
       "<IPython.core.display.HTML object>"
      ]
     },
     "metadata": {},
     "output_type": "display_data"
    },
    {
     "data": {
      "text/html": [
       "Syncing run <strong><a href='https://wandb.ai/mateogiraz27-ort/three-musketeers/runs/g7cfsdbg' target=\"_blank\">ancient-sweep-16</a></strong> to <a href='https://wandb.ai/mateogiraz27-ort/three-musketeers' target=\"_blank\">Weights & Biases</a> (<a href='https://wandb.me/developer-guide' target=\"_blank\">docs</a>)<br>Sweep page: <a href='https://wandb.ai/mateogiraz27-ort/three-musketeers/sweeps/txk212na' target=\"_blank\">https://wandb.ai/mateogiraz27-ort/three-musketeers/sweeps/txk212na</a>"
      ],
      "text/plain": [
       "<IPython.core.display.HTML object>"
      ]
     },
     "metadata": {},
     "output_type": "display_data"
    },
    {
     "data": {
      "text/html": [
       " View project at <a href='https://wandb.ai/mateogiraz27-ort/three-musketeers' target=\"_blank\">https://wandb.ai/mateogiraz27-ort/three-musketeers</a>"
      ],
      "text/plain": [
       "<IPython.core.display.HTML object>"
      ]
     },
     "metadata": {},
     "output_type": "display_data"
    },
    {
     "data": {
      "text/html": [
       " View sweep at <a href='https://wandb.ai/mateogiraz27-ort/three-musketeers/sweeps/txk212na' target=\"_blank\">https://wandb.ai/mateogiraz27-ort/three-musketeers/sweeps/txk212na</a>"
      ],
      "text/plain": [
       "<IPython.core.display.HTML object>"
      ]
     },
     "metadata": {},
     "output_type": "display_data"
    },
    {
     "data": {
      "text/html": [
       " View run at <a href='https://wandb.ai/mateogiraz27-ort/three-musketeers/runs/g7cfsdbg' target=\"_blank\">https://wandb.ai/mateogiraz27-ort/three-musketeers/runs/g7cfsdbg</a>"
      ],
      "text/plain": [
       "<IPython.core.display.HTML object>"
      ]
     },
     "metadata": {},
     "output_type": "display_data"
    },
    {
     "name": "stderr",
     "output_type": "stream",
     "text": [
      "100%|██████████| 100/100 [00:28<00:00,  3.48it/s]\n"
     ]
    },
    {
     "data": {
      "text/html": [],
      "text/plain": [
       "<IPython.core.display.HTML object>"
      ]
     },
     "metadata": {},
     "output_type": "display_data"
    },
    {
     "data": {
      "text/html": [
       "<br>    <style><br>        .wandb-row {<br>            display: flex;<br>            flex-direction: row;<br>            flex-wrap: wrap;<br>            justify-content: flex-start;<br>            width: 100%;<br>        }<br>        .wandb-col {<br>            display: flex;<br>            flex-direction: column;<br>            flex-basis: 100%;<br>            flex: 1;<br>            padding: 10px;<br>        }<br>    </style><br><div class=\"wandb-row\"><div class=\"wandb-col\"><h3>Run history:</h3><br/><table class=\"wandb\"><tr><td>agent_wins</td><td>▁</td></tr><tr><td>pete_wins</td><td>▁</td></tr><tr><td>win_rate</td><td>▁</td></tr></table><br/></div><div class=\"wandb-col\"><h3>Run summary:</h3><br/><table class=\"wandb\"><tr><td>agent_wins</td><td>90</td></tr><tr><td>pete_wins</td><td>10</td></tr><tr><td>win_rate</td><td>0.9</td></tr></table><br/></div></div>"
      ],
      "text/plain": [
       "<IPython.core.display.HTML object>"
      ]
     },
     "metadata": {},
     "output_type": "display_data"
    },
    {
     "data": {
      "text/html": [
       " View run <strong style=\"color:#cdcd00\">ancient-sweep-16</strong> at: <a href='https://wandb.ai/mateogiraz27-ort/three-musketeers/runs/g7cfsdbg' target=\"_blank\">https://wandb.ai/mateogiraz27-ort/three-musketeers/runs/g7cfsdbg</a><br> View project at: <a href='https://wandb.ai/mateogiraz27-ort/three-musketeers' target=\"_blank\">https://wandb.ai/mateogiraz27-ort/three-musketeers</a><br>Synced 5 W&B file(s), 0 media file(s), 0 artifact file(s) and 0 other file(s)"
      ],
      "text/plain": [
       "<IPython.core.display.HTML object>"
      ]
     },
     "metadata": {},
     "output_type": "display_data"
    },
    {
     "data": {
      "text/html": [
       "Find logs at: <code>./wandb/run-20241214_095359-g7cfsdbg/logs</code>"
      ],
      "text/plain": [
       "<IPython.core.display.HTML object>"
      ]
     },
     "metadata": {},
     "output_type": "display_data"
    },
    {
     "name": "stderr",
     "output_type": "stream",
     "text": [
      "\u001b[34m\u001b[1mwandb\u001b[0m: Sweep Agent: Waiting for job.\n",
      "\u001b[34m\u001b[1mwandb\u001b[0m: Job received.\n",
      "\u001b[34m\u001b[1mwandb\u001b[0m: Agent Starting Run: hljxpjxe with config:\n",
      "\u001b[34m\u001b[1mwandb\u001b[0m: \talignment_weight: 14.716921207325854\n",
      "\u001b[34m\u001b[1mwandb\u001b[0m: \tmax_depth: 4\n",
      "\u001b[34m\u001b[1mwandb\u001b[0m: \tmoves_weight: 7.4668615959528895\n",
      "\u001b[34m\u001b[1mwandb\u001b[0m: \ttrap_weight: 13.11212081856379\n"
     ]
    },
    {
     "data": {
      "text/html": [
       "Tracking run with wandb version 0.19.1"
      ],
      "text/plain": [
       "<IPython.core.display.HTML object>"
      ]
     },
     "metadata": {},
     "output_type": "display_data"
    },
    {
     "data": {
      "text/html": [
       "Run data is saved locally in <code>/Users/mateogiraz/Documents/MountainCarContinuous (1)/three-musketeers/wandb/run-20241214_095441-hljxpjxe</code>"
      ],
      "text/plain": [
       "<IPython.core.display.HTML object>"
      ]
     },
     "metadata": {},
     "output_type": "display_data"
    },
    {
     "data": {
      "text/html": [
       "Syncing run <strong><a href='https://wandb.ai/mateogiraz27-ort/three-musketeers/runs/hljxpjxe' target=\"_blank\">genial-sweep-17</a></strong> to <a href='https://wandb.ai/mateogiraz27-ort/three-musketeers' target=\"_blank\">Weights & Biases</a> (<a href='https://wandb.me/developer-guide' target=\"_blank\">docs</a>)<br>Sweep page: <a href='https://wandb.ai/mateogiraz27-ort/three-musketeers/sweeps/txk212na' target=\"_blank\">https://wandb.ai/mateogiraz27-ort/three-musketeers/sweeps/txk212na</a>"
      ],
      "text/plain": [
       "<IPython.core.display.HTML object>"
      ]
     },
     "metadata": {},
     "output_type": "display_data"
    },
    {
     "data": {
      "text/html": [
       " View project at <a href='https://wandb.ai/mateogiraz27-ort/three-musketeers' target=\"_blank\">https://wandb.ai/mateogiraz27-ort/three-musketeers</a>"
      ],
      "text/plain": [
       "<IPython.core.display.HTML object>"
      ]
     },
     "metadata": {},
     "output_type": "display_data"
    },
    {
     "data": {
      "text/html": [
       " View sweep at <a href='https://wandb.ai/mateogiraz27-ort/three-musketeers/sweeps/txk212na' target=\"_blank\">https://wandb.ai/mateogiraz27-ort/three-musketeers/sweeps/txk212na</a>"
      ],
      "text/plain": [
       "<IPython.core.display.HTML object>"
      ]
     },
     "metadata": {},
     "output_type": "display_data"
    },
    {
     "data": {
      "text/html": [
       " View run at <a href='https://wandb.ai/mateogiraz27-ort/three-musketeers/runs/hljxpjxe' target=\"_blank\">https://wandb.ai/mateogiraz27-ort/three-musketeers/runs/hljxpjxe</a>"
      ],
      "text/plain": [
       "<IPython.core.display.HTML object>"
      ]
     },
     "metadata": {},
     "output_type": "display_data"
    },
    {
     "name": "stderr",
     "output_type": "stream",
     "text": [
      "100%|██████████| 100/100 [00:40<00:00,  2.48it/s]\n"
     ]
    },
    {
     "data": {
      "text/html": [],
      "text/plain": [
       "<IPython.core.display.HTML object>"
      ]
     },
     "metadata": {},
     "output_type": "display_data"
    },
    {
     "data": {
      "text/html": [
       "<br>    <style><br>        .wandb-row {<br>            display: flex;<br>            flex-direction: row;<br>            flex-wrap: wrap;<br>            justify-content: flex-start;<br>            width: 100%;<br>        }<br>        .wandb-col {<br>            display: flex;<br>            flex-direction: column;<br>            flex-basis: 100%;<br>            flex: 1;<br>            padding: 10px;<br>        }<br>    </style><br><div class=\"wandb-row\"><div class=\"wandb-col\"><h3>Run history:</h3><br/><table class=\"wandb\"><tr><td>agent_wins</td><td>▁</td></tr><tr><td>pete_wins</td><td>▁</td></tr><tr><td>win_rate</td><td>▁</td></tr></table><br/></div><div class=\"wandb-col\"><h3>Run summary:</h3><br/><table class=\"wandb\"><tr><td>agent_wins</td><td>90</td></tr><tr><td>pete_wins</td><td>10</td></tr><tr><td>win_rate</td><td>0.9</td></tr></table><br/></div></div>"
      ],
      "text/plain": [
       "<IPython.core.display.HTML object>"
      ]
     },
     "metadata": {},
     "output_type": "display_data"
    },
    {
     "data": {
      "text/html": [
       " View run <strong style=\"color:#cdcd00\">genial-sweep-17</strong> at: <a href='https://wandb.ai/mateogiraz27-ort/three-musketeers/runs/hljxpjxe' target=\"_blank\">https://wandb.ai/mateogiraz27-ort/three-musketeers/runs/hljxpjxe</a><br> View project at: <a href='https://wandb.ai/mateogiraz27-ort/three-musketeers' target=\"_blank\">https://wandb.ai/mateogiraz27-ort/three-musketeers</a><br>Synced 5 W&B file(s), 0 media file(s), 0 artifact file(s) and 0 other file(s)"
      ],
      "text/plain": [
       "<IPython.core.display.HTML object>"
      ]
     },
     "metadata": {},
     "output_type": "display_data"
    },
    {
     "data": {
      "text/html": [
       "Find logs at: <code>./wandb/run-20241214_095441-hljxpjxe/logs</code>"
      ],
      "text/plain": [
       "<IPython.core.display.HTML object>"
      ]
     },
     "metadata": {},
     "output_type": "display_data"
    },
    {
     "name": "stderr",
     "output_type": "stream",
     "text": [
      "\u001b[34m\u001b[1mwandb\u001b[0m: Agent Starting Run: lfcrzm0p with config:\n",
      "\u001b[34m\u001b[1mwandb\u001b[0m: \talignment_weight: 14.75555912102156\n",
      "\u001b[34m\u001b[1mwandb\u001b[0m: \tmax_depth: 2\n",
      "\u001b[34m\u001b[1mwandb\u001b[0m: \tmoves_weight: 14.427603668801952\n",
      "\u001b[34m\u001b[1mwandb\u001b[0m: \ttrap_weight: 11.82273351243128\n"
     ]
    },
    {
     "data": {
      "text/html": [
       "Tracking run with wandb version 0.19.1"
      ],
      "text/plain": [
       "<IPython.core.display.HTML object>"
      ]
     },
     "metadata": {},
     "output_type": "display_data"
    },
    {
     "data": {
      "text/html": [
       "Run data is saved locally in <code>/Users/mateogiraz/Documents/MountainCarContinuous (1)/three-musketeers/wandb/run-20241214_095529-lfcrzm0p</code>"
      ],
      "text/plain": [
       "<IPython.core.display.HTML object>"
      ]
     },
     "metadata": {},
     "output_type": "display_data"
    },
    {
     "data": {
      "text/html": [
       "Syncing run <strong><a href='https://wandb.ai/mateogiraz27-ort/three-musketeers/runs/lfcrzm0p' target=\"_blank\">rose-sweep-18</a></strong> to <a href='https://wandb.ai/mateogiraz27-ort/three-musketeers' target=\"_blank\">Weights & Biases</a> (<a href='https://wandb.me/developer-guide' target=\"_blank\">docs</a>)<br>Sweep page: <a href='https://wandb.ai/mateogiraz27-ort/three-musketeers/sweeps/txk212na' target=\"_blank\">https://wandb.ai/mateogiraz27-ort/three-musketeers/sweeps/txk212na</a>"
      ],
      "text/plain": [
       "<IPython.core.display.HTML object>"
      ]
     },
     "metadata": {},
     "output_type": "display_data"
    },
    {
     "data": {
      "text/html": [
       " View project at <a href='https://wandb.ai/mateogiraz27-ort/three-musketeers' target=\"_blank\">https://wandb.ai/mateogiraz27-ort/three-musketeers</a>"
      ],
      "text/plain": [
       "<IPython.core.display.HTML object>"
      ]
     },
     "metadata": {},
     "output_type": "display_data"
    },
    {
     "data": {
      "text/html": [
       " View sweep at <a href='https://wandb.ai/mateogiraz27-ort/three-musketeers/sweeps/txk212na' target=\"_blank\">https://wandb.ai/mateogiraz27-ort/three-musketeers/sweeps/txk212na</a>"
      ],
      "text/plain": [
       "<IPython.core.display.HTML object>"
      ]
     },
     "metadata": {},
     "output_type": "display_data"
    },
    {
     "data": {
      "text/html": [
       " View run at <a href='https://wandb.ai/mateogiraz27-ort/three-musketeers/runs/lfcrzm0p' target=\"_blank\">https://wandb.ai/mateogiraz27-ort/three-musketeers/runs/lfcrzm0p</a>"
      ],
      "text/plain": [
       "<IPython.core.display.HTML object>"
      ]
     },
     "metadata": {},
     "output_type": "display_data"
    },
    {
     "name": "stderr",
     "output_type": "stream",
     "text": [
      "100%|██████████| 100/100 [00:15<00:00,  6.42it/s]\n"
     ]
    },
    {
     "data": {
      "text/html": [],
      "text/plain": [
       "<IPython.core.display.HTML object>"
      ]
     },
     "metadata": {},
     "output_type": "display_data"
    },
    {
     "data": {
      "text/html": [
       "<br>    <style><br>        .wandb-row {<br>            display: flex;<br>            flex-direction: row;<br>            flex-wrap: wrap;<br>            justify-content: flex-start;<br>            width: 100%;<br>        }<br>        .wandb-col {<br>            display: flex;<br>            flex-direction: column;<br>            flex-basis: 100%;<br>            flex: 1;<br>            padding: 10px;<br>        }<br>    </style><br><div class=\"wandb-row\"><div class=\"wandb-col\"><h3>Run history:</h3><br/><table class=\"wandb\"><tr><td>agent_wins</td><td>▁</td></tr><tr><td>pete_wins</td><td>▁</td></tr><tr><td>win_rate</td><td>▁</td></tr></table><br/></div><div class=\"wandb-col\"><h3>Run summary:</h3><br/><table class=\"wandb\"><tr><td>agent_wins</td><td>58</td></tr><tr><td>pete_wins</td><td>42</td></tr><tr><td>win_rate</td><td>0.58</td></tr></table><br/></div></div>"
      ],
      "text/plain": [
       "<IPython.core.display.HTML object>"
      ]
     },
     "metadata": {},
     "output_type": "display_data"
    },
    {
     "data": {
      "text/html": [
       " View run <strong style=\"color:#cdcd00\">rose-sweep-18</strong> at: <a href='https://wandb.ai/mateogiraz27-ort/three-musketeers/runs/lfcrzm0p' target=\"_blank\">https://wandb.ai/mateogiraz27-ort/three-musketeers/runs/lfcrzm0p</a><br> View project at: <a href='https://wandb.ai/mateogiraz27-ort/three-musketeers' target=\"_blank\">https://wandb.ai/mateogiraz27-ort/three-musketeers</a><br>Synced 5 W&B file(s), 0 media file(s), 0 artifact file(s) and 0 other file(s)"
      ],
      "text/plain": [
       "<IPython.core.display.HTML object>"
      ]
     },
     "metadata": {},
     "output_type": "display_data"
    },
    {
     "data": {
      "text/html": [
       "Find logs at: <code>./wandb/run-20241214_095529-lfcrzm0p/logs</code>"
      ],
      "text/plain": [
       "<IPython.core.display.HTML object>"
      ]
     },
     "metadata": {},
     "output_type": "display_data"
    },
    {
     "name": "stderr",
     "output_type": "stream",
     "text": [
      "\u001b[34m\u001b[1mwandb\u001b[0m: Agent Starting Run: 42rm7xcq with config:\n",
      "\u001b[34m\u001b[1mwandb\u001b[0m: \talignment_weight: 15.71363591821706\n",
      "\u001b[34m\u001b[1mwandb\u001b[0m: \tmax_depth: 5\n",
      "\u001b[34m\u001b[1mwandb\u001b[0m: \tmoves_weight: 7.885375037063625\n",
      "\u001b[34m\u001b[1mwandb\u001b[0m: \ttrap_weight: 29.74533135637512\n"
     ]
    },
    {
     "data": {
      "text/html": [
       "Tracking run with wandb version 0.19.1"
      ],
      "text/plain": [
       "<IPython.core.display.HTML object>"
      ]
     },
     "metadata": {},
     "output_type": "display_data"
    },
    {
     "data": {
      "text/html": [
       "Run data is saved locally in <code>/Users/mateogiraz/Documents/MountainCarContinuous (1)/three-musketeers/wandb/run-20241214_095551-42rm7xcq</code>"
      ],
      "text/plain": [
       "<IPython.core.display.HTML object>"
      ]
     },
     "metadata": {},
     "output_type": "display_data"
    },
    {
     "data": {
      "text/html": [
       "Syncing run <strong><a href='https://wandb.ai/mateogiraz27-ort/three-musketeers/runs/42rm7xcq' target=\"_blank\">young-sweep-19</a></strong> to <a href='https://wandb.ai/mateogiraz27-ort/three-musketeers' target=\"_blank\">Weights & Biases</a> (<a href='https://wandb.me/developer-guide' target=\"_blank\">docs</a>)<br>Sweep page: <a href='https://wandb.ai/mateogiraz27-ort/three-musketeers/sweeps/txk212na' target=\"_blank\">https://wandb.ai/mateogiraz27-ort/three-musketeers/sweeps/txk212na</a>"
      ],
      "text/plain": [
       "<IPython.core.display.HTML object>"
      ]
     },
     "metadata": {},
     "output_type": "display_data"
    },
    {
     "data": {
      "text/html": [
       " View project at <a href='https://wandb.ai/mateogiraz27-ort/three-musketeers' target=\"_blank\">https://wandb.ai/mateogiraz27-ort/three-musketeers</a>"
      ],
      "text/plain": [
       "<IPython.core.display.HTML object>"
      ]
     },
     "metadata": {},
     "output_type": "display_data"
    },
    {
     "data": {
      "text/html": [
       " View sweep at <a href='https://wandb.ai/mateogiraz27-ort/three-musketeers/sweeps/txk212na' target=\"_blank\">https://wandb.ai/mateogiraz27-ort/three-musketeers/sweeps/txk212na</a>"
      ],
      "text/plain": [
       "<IPython.core.display.HTML object>"
      ]
     },
     "metadata": {},
     "output_type": "display_data"
    },
    {
     "data": {
      "text/html": [
       " View run at <a href='https://wandb.ai/mateogiraz27-ort/three-musketeers/runs/42rm7xcq' target=\"_blank\">https://wandb.ai/mateogiraz27-ort/three-musketeers/runs/42rm7xcq</a>"
      ],
      "text/plain": [
       "<IPython.core.display.HTML object>"
      ]
     },
     "metadata": {},
     "output_type": "display_data"
    },
    {
     "name": "stderr",
     "output_type": "stream",
     "text": [
      "100%|██████████| 100/100 [01:06<00:00,  1.51it/s]\n"
     ]
    },
    {
     "data": {
      "text/html": [],
      "text/plain": [
       "<IPython.core.display.HTML object>"
      ]
     },
     "metadata": {},
     "output_type": "display_data"
    },
    {
     "data": {
      "text/html": [
       "<br>    <style><br>        .wandb-row {<br>            display: flex;<br>            flex-direction: row;<br>            flex-wrap: wrap;<br>            justify-content: flex-start;<br>            width: 100%;<br>        }<br>        .wandb-col {<br>            display: flex;<br>            flex-direction: column;<br>            flex-basis: 100%;<br>            flex: 1;<br>            padding: 10px;<br>        }<br>    </style><br><div class=\"wandb-row\"><div class=\"wandb-col\"><h3>Run history:</h3><br/><table class=\"wandb\"><tr><td>agent_wins</td><td>▁</td></tr><tr><td>pete_wins</td><td>▁</td></tr><tr><td>win_rate</td><td>▁</td></tr></table><br/></div><div class=\"wandb-col\"><h3>Run summary:</h3><br/><table class=\"wandb\"><tr><td>agent_wins</td><td>89</td></tr><tr><td>pete_wins</td><td>11</td></tr><tr><td>win_rate</td><td>0.89</td></tr></table><br/></div></div>"
      ],
      "text/plain": [
       "<IPython.core.display.HTML object>"
      ]
     },
     "metadata": {},
     "output_type": "display_data"
    },
    {
     "data": {
      "text/html": [
       " View run <strong style=\"color:#cdcd00\">young-sweep-19</strong> at: <a href='https://wandb.ai/mateogiraz27-ort/three-musketeers/runs/42rm7xcq' target=\"_blank\">https://wandb.ai/mateogiraz27-ort/three-musketeers/runs/42rm7xcq</a><br> View project at: <a href='https://wandb.ai/mateogiraz27-ort/three-musketeers' target=\"_blank\">https://wandb.ai/mateogiraz27-ort/three-musketeers</a><br>Synced 5 W&B file(s), 0 media file(s), 0 artifact file(s) and 0 other file(s)"
      ],
      "text/plain": [
       "<IPython.core.display.HTML object>"
      ]
     },
     "metadata": {},
     "output_type": "display_data"
    },
    {
     "data": {
      "text/html": [
       "Find logs at: <code>./wandb/run-20241214_095551-42rm7xcq/logs</code>"
      ],
      "text/plain": [
       "<IPython.core.display.HTML object>"
      ]
     },
     "metadata": {},
     "output_type": "display_data"
    },
    {
     "name": "stderr",
     "output_type": "stream",
     "text": [
      "\u001b[34m\u001b[1mwandb\u001b[0m: Agent Starting Run: nozzgdzw with config:\n",
      "\u001b[34m\u001b[1mwandb\u001b[0m: \talignment_weight: 10.34352426706394\n",
      "\u001b[34m\u001b[1mwandb\u001b[0m: \tmax_depth: 3\n",
      "\u001b[34m\u001b[1mwandb\u001b[0m: \tmoves_weight: 9.142505116050136\n",
      "\u001b[34m\u001b[1mwandb\u001b[0m: \ttrap_weight: 18.89562899469799\n"
     ]
    },
    {
     "data": {
      "text/html": [
       "Tracking run with wandb version 0.19.1"
      ],
      "text/plain": [
       "<IPython.core.display.HTML object>"
      ]
     },
     "metadata": {},
     "output_type": "display_data"
    },
    {
     "data": {
      "text/html": [
       "Run data is saved locally in <code>/Users/mateogiraz/Documents/MountainCarContinuous (1)/three-musketeers/wandb/run-20241214_095704-nozzgdzw</code>"
      ],
      "text/plain": [
       "<IPython.core.display.HTML object>"
      ]
     },
     "metadata": {},
     "output_type": "display_data"
    },
    {
     "data": {
      "text/html": [
       "Syncing run <strong><a href='https://wandb.ai/mateogiraz27-ort/three-musketeers/runs/nozzgdzw' target=\"_blank\">true-sweep-20</a></strong> to <a href='https://wandb.ai/mateogiraz27-ort/three-musketeers' target=\"_blank\">Weights & Biases</a> (<a href='https://wandb.me/developer-guide' target=\"_blank\">docs</a>)<br>Sweep page: <a href='https://wandb.ai/mateogiraz27-ort/three-musketeers/sweeps/txk212na' target=\"_blank\">https://wandb.ai/mateogiraz27-ort/three-musketeers/sweeps/txk212na</a>"
      ],
      "text/plain": [
       "<IPython.core.display.HTML object>"
      ]
     },
     "metadata": {},
     "output_type": "display_data"
    },
    {
     "data": {
      "text/html": [
       " View project at <a href='https://wandb.ai/mateogiraz27-ort/three-musketeers' target=\"_blank\">https://wandb.ai/mateogiraz27-ort/three-musketeers</a>"
      ],
      "text/plain": [
       "<IPython.core.display.HTML object>"
      ]
     },
     "metadata": {},
     "output_type": "display_data"
    },
    {
     "data": {
      "text/html": [
       " View sweep at <a href='https://wandb.ai/mateogiraz27-ort/three-musketeers/sweeps/txk212na' target=\"_blank\">https://wandb.ai/mateogiraz27-ort/three-musketeers/sweeps/txk212na</a>"
      ],
      "text/plain": [
       "<IPython.core.display.HTML object>"
      ]
     },
     "metadata": {},
     "output_type": "display_data"
    },
    {
     "data": {
      "text/html": [
       " View run at <a href='https://wandb.ai/mateogiraz27-ort/three-musketeers/runs/nozzgdzw' target=\"_blank\">https://wandb.ai/mateogiraz27-ort/three-musketeers/runs/nozzgdzw</a>"
      ],
      "text/plain": [
       "<IPython.core.display.HTML object>"
      ]
     },
     "metadata": {},
     "output_type": "display_data"
    },
    {
     "name": "stderr",
     "output_type": "stream",
     "text": [
      "100%|██████████| 100/100 [00:28<00:00,  3.47it/s]\n"
     ]
    },
    {
     "data": {
      "text/html": [],
      "text/plain": [
       "<IPython.core.display.HTML object>"
      ]
     },
     "metadata": {},
     "output_type": "display_data"
    },
    {
     "data": {
      "text/html": [
       "<br>    <style><br>        .wandb-row {<br>            display: flex;<br>            flex-direction: row;<br>            flex-wrap: wrap;<br>            justify-content: flex-start;<br>            width: 100%;<br>        }<br>        .wandb-col {<br>            display: flex;<br>            flex-direction: column;<br>            flex-basis: 100%;<br>            flex: 1;<br>            padding: 10px;<br>        }<br>    </style><br><div class=\"wandb-row\"><div class=\"wandb-col\"><h3>Run history:</h3><br/><table class=\"wandb\"><tr><td>agent_wins</td><td>▁</td></tr><tr><td>pete_wins</td><td>▁</td></tr><tr><td>win_rate</td><td>▁</td></tr></table><br/></div><div class=\"wandb-col\"><h3>Run summary:</h3><br/><table class=\"wandb\"><tr><td>agent_wins</td><td>90</td></tr><tr><td>pete_wins</td><td>10</td></tr><tr><td>win_rate</td><td>0.9</td></tr></table><br/></div></div>"
      ],
      "text/plain": [
       "<IPython.core.display.HTML object>"
      ]
     },
     "metadata": {},
     "output_type": "display_data"
    },
    {
     "data": {
      "text/html": [
       " View run <strong style=\"color:#cdcd00\">true-sweep-20</strong> at: <a href='https://wandb.ai/mateogiraz27-ort/three-musketeers/runs/nozzgdzw' target=\"_blank\">https://wandb.ai/mateogiraz27-ort/three-musketeers/runs/nozzgdzw</a><br> View project at: <a href='https://wandb.ai/mateogiraz27-ort/three-musketeers' target=\"_blank\">https://wandb.ai/mateogiraz27-ort/three-musketeers</a><br>Synced 5 W&B file(s), 0 media file(s), 0 artifact file(s) and 0 other file(s)"
      ],
      "text/plain": [
       "<IPython.core.display.HTML object>"
      ]
     },
     "metadata": {},
     "output_type": "display_data"
    },
    {
     "data": {
      "text/html": [
       "Find logs at: <code>./wandb/run-20241214_095704-nozzgdzw/logs</code>"
      ],
      "text/plain": [
       "<IPython.core.display.HTML object>"
      ]
     },
     "metadata": {},
     "output_type": "display_data"
    },
    {
     "name": "stderr",
     "output_type": "stream",
     "text": [
      "\u001b[34m\u001b[1mwandb\u001b[0m: Agent Starting Run: aduj3q8p with config:\n",
      "\u001b[34m\u001b[1mwandb\u001b[0m: \talignment_weight: 9.816267425229846\n",
      "\u001b[34m\u001b[1mwandb\u001b[0m: \tmax_depth: 4\n",
      "\u001b[34m\u001b[1mwandb\u001b[0m: \tmoves_weight: 12.613105337050232\n",
      "\u001b[34m\u001b[1mwandb\u001b[0m: \ttrap_weight: 10.7925240218341\n"
     ]
    },
    {
     "data": {
      "text/html": [
       "Tracking run with wandb version 0.19.1"
      ],
      "text/plain": [
       "<IPython.core.display.HTML object>"
      ]
     },
     "metadata": {},
     "output_type": "display_data"
    },
    {
     "data": {
      "text/html": [
       "Run data is saved locally in <code>/Users/mateogiraz/Documents/MountainCarContinuous (1)/three-musketeers/wandb/run-20241214_095742-aduj3q8p</code>"
      ],
      "text/plain": [
       "<IPython.core.display.HTML object>"
      ]
     },
     "metadata": {},
     "output_type": "display_data"
    },
    {
     "data": {
      "text/html": [
       "Syncing run <strong><a href='https://wandb.ai/mateogiraz27-ort/three-musketeers/runs/aduj3q8p' target=\"_blank\">wise-sweep-21</a></strong> to <a href='https://wandb.ai/mateogiraz27-ort/three-musketeers' target=\"_blank\">Weights & Biases</a> (<a href='https://wandb.me/developer-guide' target=\"_blank\">docs</a>)<br>Sweep page: <a href='https://wandb.ai/mateogiraz27-ort/three-musketeers/sweeps/txk212na' target=\"_blank\">https://wandb.ai/mateogiraz27-ort/three-musketeers/sweeps/txk212na</a>"
      ],
      "text/plain": [
       "<IPython.core.display.HTML object>"
      ]
     },
     "metadata": {},
     "output_type": "display_data"
    },
    {
     "data": {
      "text/html": [
       " View project at <a href='https://wandb.ai/mateogiraz27-ort/three-musketeers' target=\"_blank\">https://wandb.ai/mateogiraz27-ort/three-musketeers</a>"
      ],
      "text/plain": [
       "<IPython.core.display.HTML object>"
      ]
     },
     "metadata": {},
     "output_type": "display_data"
    },
    {
     "data": {
      "text/html": [
       " View sweep at <a href='https://wandb.ai/mateogiraz27-ort/three-musketeers/sweeps/txk212na' target=\"_blank\">https://wandb.ai/mateogiraz27-ort/three-musketeers/sweeps/txk212na</a>"
      ],
      "text/plain": [
       "<IPython.core.display.HTML object>"
      ]
     },
     "metadata": {},
     "output_type": "display_data"
    },
    {
     "data": {
      "text/html": [
       " View run at <a href='https://wandb.ai/mateogiraz27-ort/three-musketeers/runs/aduj3q8p' target=\"_blank\">https://wandb.ai/mateogiraz27-ort/three-musketeers/runs/aduj3q8p</a>"
      ],
      "text/plain": [
       "<IPython.core.display.HTML object>"
      ]
     },
     "metadata": {},
     "output_type": "display_data"
    },
    {
     "name": "stderr",
     "output_type": "stream",
     "text": [
      "100%|██████████| 100/100 [00:37<00:00,  2.67it/s]\n"
     ]
    },
    {
     "data": {
      "text/html": [],
      "text/plain": [
       "<IPython.core.display.HTML object>"
      ]
     },
     "metadata": {},
     "output_type": "display_data"
    },
    {
     "data": {
      "text/html": [
       "<br>    <style><br>        .wandb-row {<br>            display: flex;<br>            flex-direction: row;<br>            flex-wrap: wrap;<br>            justify-content: flex-start;<br>            width: 100%;<br>        }<br>        .wandb-col {<br>            display: flex;<br>            flex-direction: column;<br>            flex-basis: 100%;<br>            flex: 1;<br>            padding: 10px;<br>        }<br>    </style><br><div class=\"wandb-row\"><div class=\"wandb-col\"><h3>Run history:</h3><br/><table class=\"wandb\"><tr><td>agent_wins</td><td>▁</td></tr><tr><td>pete_wins</td><td>▁</td></tr><tr><td>win_rate</td><td>▁</td></tr></table><br/></div><div class=\"wandb-col\"><h3>Run summary:</h3><br/><table class=\"wandb\"><tr><td>agent_wins</td><td>91</td></tr><tr><td>pete_wins</td><td>9</td></tr><tr><td>win_rate</td><td>0.91</td></tr></table><br/></div></div>"
      ],
      "text/plain": [
       "<IPython.core.display.HTML object>"
      ]
     },
     "metadata": {},
     "output_type": "display_data"
    },
    {
     "data": {
      "text/html": [
       " View run <strong style=\"color:#cdcd00\">wise-sweep-21</strong> at: <a href='https://wandb.ai/mateogiraz27-ort/three-musketeers/runs/aduj3q8p' target=\"_blank\">https://wandb.ai/mateogiraz27-ort/three-musketeers/runs/aduj3q8p</a><br> View project at: <a href='https://wandb.ai/mateogiraz27-ort/three-musketeers' target=\"_blank\">https://wandb.ai/mateogiraz27-ort/three-musketeers</a><br>Synced 5 W&B file(s), 0 media file(s), 0 artifact file(s) and 0 other file(s)"
      ],
      "text/plain": [
       "<IPython.core.display.HTML object>"
      ]
     },
     "metadata": {},
     "output_type": "display_data"
    },
    {
     "data": {
      "text/html": [
       "Find logs at: <code>./wandb/run-20241214_095742-aduj3q8p/logs</code>"
      ],
      "text/plain": [
       "<IPython.core.display.HTML object>"
      ]
     },
     "metadata": {},
     "output_type": "display_data"
    },
    {
     "name": "stderr",
     "output_type": "stream",
     "text": [
      "\u001b[34m\u001b[1mwandb\u001b[0m: Agent Starting Run: g2v2dm8k with config:\n",
      "\u001b[34m\u001b[1mwandb\u001b[0m: \talignment_weight: 12.41551092472799\n",
      "\u001b[34m\u001b[1mwandb\u001b[0m: \tmax_depth: 2\n",
      "\u001b[34m\u001b[1mwandb\u001b[0m: \tmoves_weight: 9.87975947853838\n",
      "\u001b[34m\u001b[1mwandb\u001b[0m: \ttrap_weight: 17.372478486556243\n"
     ]
    },
    {
     "data": {
      "text/html": [
       "Tracking run with wandb version 0.19.1"
      ],
      "text/plain": [
       "<IPython.core.display.HTML object>"
      ]
     },
     "metadata": {},
     "output_type": "display_data"
    },
    {
     "data": {
      "text/html": [
       "Run data is saved locally in <code>/Users/mateogiraz/Documents/MountainCarContinuous (1)/three-musketeers/wandb/run-20241214_095824-g2v2dm8k</code>"
      ],
      "text/plain": [
       "<IPython.core.display.HTML object>"
      ]
     },
     "metadata": {},
     "output_type": "display_data"
    },
    {
     "data": {
      "text/html": [
       "Syncing run <strong><a href='https://wandb.ai/mateogiraz27-ort/three-musketeers/runs/g2v2dm8k' target=\"_blank\">dauntless-sweep-22</a></strong> to <a href='https://wandb.ai/mateogiraz27-ort/three-musketeers' target=\"_blank\">Weights & Biases</a> (<a href='https://wandb.me/developer-guide' target=\"_blank\">docs</a>)<br>Sweep page: <a href='https://wandb.ai/mateogiraz27-ort/three-musketeers/sweeps/txk212na' target=\"_blank\">https://wandb.ai/mateogiraz27-ort/three-musketeers/sweeps/txk212na</a>"
      ],
      "text/plain": [
       "<IPython.core.display.HTML object>"
      ]
     },
     "metadata": {},
     "output_type": "display_data"
    },
    {
     "data": {
      "text/html": [
       " View project at <a href='https://wandb.ai/mateogiraz27-ort/three-musketeers' target=\"_blank\">https://wandb.ai/mateogiraz27-ort/three-musketeers</a>"
      ],
      "text/plain": [
       "<IPython.core.display.HTML object>"
      ]
     },
     "metadata": {},
     "output_type": "display_data"
    },
    {
     "data": {
      "text/html": [
       " View sweep at <a href='https://wandb.ai/mateogiraz27-ort/three-musketeers/sweeps/txk212na' target=\"_blank\">https://wandb.ai/mateogiraz27-ort/three-musketeers/sweeps/txk212na</a>"
      ],
      "text/plain": [
       "<IPython.core.display.HTML object>"
      ]
     },
     "metadata": {},
     "output_type": "display_data"
    },
    {
     "data": {
      "text/html": [
       " View run at <a href='https://wandb.ai/mateogiraz27-ort/three-musketeers/runs/g2v2dm8k' target=\"_blank\">https://wandb.ai/mateogiraz27-ort/three-musketeers/runs/g2v2dm8k</a>"
      ],
      "text/plain": [
       "<IPython.core.display.HTML object>"
      ]
     },
     "metadata": {},
     "output_type": "display_data"
    },
    {
     "name": "stderr",
     "output_type": "stream",
     "text": [
      "100%|██████████| 100/100 [00:23<00:00,  4.20it/s]\n"
     ]
    },
    {
     "data": {
      "text/html": [],
      "text/plain": [
       "<IPython.core.display.HTML object>"
      ]
     },
     "metadata": {},
     "output_type": "display_data"
    },
    {
     "data": {
      "text/html": [
       "<br>    <style><br>        .wandb-row {<br>            display: flex;<br>            flex-direction: row;<br>            flex-wrap: wrap;<br>            justify-content: flex-start;<br>            width: 100%;<br>        }<br>        .wandb-col {<br>            display: flex;<br>            flex-direction: column;<br>            flex-basis: 100%;<br>            flex: 1;<br>            padding: 10px;<br>        }<br>    </style><br><div class=\"wandb-row\"><div class=\"wandb-col\"><h3>Run history:</h3><br/><table class=\"wandb\"><tr><td>agent_wins</td><td>▁</td></tr><tr><td>pete_wins</td><td>▁</td></tr><tr><td>win_rate</td><td>▁</td></tr></table><br/></div><div class=\"wandb-col\"><h3>Run summary:</h3><br/><table class=\"wandb\"><tr><td>agent_wins</td><td>90</td></tr><tr><td>pete_wins</td><td>10</td></tr><tr><td>win_rate</td><td>0.9</td></tr></table><br/></div></div>"
      ],
      "text/plain": [
       "<IPython.core.display.HTML object>"
      ]
     },
     "metadata": {},
     "output_type": "display_data"
    },
    {
     "data": {
      "text/html": [
       " View run <strong style=\"color:#cdcd00\">dauntless-sweep-22</strong> at: <a href='https://wandb.ai/mateogiraz27-ort/three-musketeers/runs/g2v2dm8k' target=\"_blank\">https://wandb.ai/mateogiraz27-ort/three-musketeers/runs/g2v2dm8k</a><br> View project at: <a href='https://wandb.ai/mateogiraz27-ort/three-musketeers' target=\"_blank\">https://wandb.ai/mateogiraz27-ort/three-musketeers</a><br>Synced 5 W&B file(s), 0 media file(s), 0 artifact file(s) and 0 other file(s)"
      ],
      "text/plain": [
       "<IPython.core.display.HTML object>"
      ]
     },
     "metadata": {},
     "output_type": "display_data"
    },
    {
     "data": {
      "text/html": [
       "Find logs at: <code>./wandb/run-20241214_095824-g2v2dm8k/logs</code>"
      ],
      "text/plain": [
       "<IPython.core.display.HTML object>"
      ]
     },
     "metadata": {},
     "output_type": "display_data"
    },
    {
     "name": "stderr",
     "output_type": "stream",
     "text": [
      "\u001b[34m\u001b[1mwandb\u001b[0m: Sweep Agent: Waiting for job.\n",
      "\u001b[34m\u001b[1mwandb\u001b[0m: Job received.\n",
      "\u001b[34m\u001b[1mwandb\u001b[0m: Agent Starting Run: dp47wdey with config:\n",
      "\u001b[34m\u001b[1mwandb\u001b[0m: \talignment_weight: 17.25745411960019\n",
      "\u001b[34m\u001b[1mwandb\u001b[0m: \tmax_depth: 4\n",
      "\u001b[34m\u001b[1mwandb\u001b[0m: \tmoves_weight: 6.444456755398048\n",
      "\u001b[34m\u001b[1mwandb\u001b[0m: \ttrap_weight: 15.731151616199776\n"
     ]
    },
    {
     "data": {
      "text/html": [
       "Tracking run with wandb version 0.19.1"
      ],
      "text/plain": [
       "<IPython.core.display.HTML object>"
      ]
     },
     "metadata": {},
     "output_type": "display_data"
    },
    {
     "data": {
      "text/html": [
       "Run data is saved locally in <code>/Users/mateogiraz/Documents/MountainCarContinuous (1)/three-musketeers/wandb/run-20241214_095902-dp47wdey</code>"
      ],
      "text/plain": [
       "<IPython.core.display.HTML object>"
      ]
     },
     "metadata": {},
     "output_type": "display_data"
    },
    {
     "data": {
      "text/html": [
       "Syncing run <strong><a href='https://wandb.ai/mateogiraz27-ort/three-musketeers/runs/dp47wdey' target=\"_blank\">fragrant-sweep-23</a></strong> to <a href='https://wandb.ai/mateogiraz27-ort/three-musketeers' target=\"_blank\">Weights & Biases</a> (<a href='https://wandb.me/developer-guide' target=\"_blank\">docs</a>)<br>Sweep page: <a href='https://wandb.ai/mateogiraz27-ort/three-musketeers/sweeps/txk212na' target=\"_blank\">https://wandb.ai/mateogiraz27-ort/three-musketeers/sweeps/txk212na</a>"
      ],
      "text/plain": [
       "<IPython.core.display.HTML object>"
      ]
     },
     "metadata": {},
     "output_type": "display_data"
    },
    {
     "data": {
      "text/html": [
       " View project at <a href='https://wandb.ai/mateogiraz27-ort/three-musketeers' target=\"_blank\">https://wandb.ai/mateogiraz27-ort/three-musketeers</a>"
      ],
      "text/plain": [
       "<IPython.core.display.HTML object>"
      ]
     },
     "metadata": {},
     "output_type": "display_data"
    },
    {
     "data": {
      "text/html": [
       " View sweep at <a href='https://wandb.ai/mateogiraz27-ort/three-musketeers/sweeps/txk212na' target=\"_blank\">https://wandb.ai/mateogiraz27-ort/three-musketeers/sweeps/txk212na</a>"
      ],
      "text/plain": [
       "<IPython.core.display.HTML object>"
      ]
     },
     "metadata": {},
     "output_type": "display_data"
    },
    {
     "data": {
      "text/html": [
       " View run at <a href='https://wandb.ai/mateogiraz27-ort/three-musketeers/runs/dp47wdey' target=\"_blank\">https://wandb.ai/mateogiraz27-ort/three-musketeers/runs/dp47wdey</a>"
      ],
      "text/plain": [
       "<IPython.core.display.HTML object>"
      ]
     },
     "metadata": {},
     "output_type": "display_data"
    },
    {
     "name": "stderr",
     "output_type": "stream",
     "text": [
      "100%|██████████| 100/100 [00:40<00:00,  2.49it/s]\n"
     ]
    },
    {
     "data": {
      "text/html": [],
      "text/plain": [
       "<IPython.core.display.HTML object>"
      ]
     },
     "metadata": {},
     "output_type": "display_data"
    },
    {
     "data": {
      "text/html": [
       "<br>    <style><br>        .wandb-row {<br>            display: flex;<br>            flex-direction: row;<br>            flex-wrap: wrap;<br>            justify-content: flex-start;<br>            width: 100%;<br>        }<br>        .wandb-col {<br>            display: flex;<br>            flex-direction: column;<br>            flex-basis: 100%;<br>            flex: 1;<br>            padding: 10px;<br>        }<br>    </style><br><div class=\"wandb-row\"><div class=\"wandb-col\"><h3>Run history:</h3><br/><table class=\"wandb\"><tr><td>agent_wins</td><td>▁</td></tr><tr><td>pete_wins</td><td>▁</td></tr><tr><td>win_rate</td><td>▁</td></tr></table><br/></div><div class=\"wandb-col\"><h3>Run summary:</h3><br/><table class=\"wandb\"><tr><td>agent_wins</td><td>94</td></tr><tr><td>pete_wins</td><td>6</td></tr><tr><td>win_rate</td><td>0.94</td></tr></table><br/></div></div>"
      ],
      "text/plain": [
       "<IPython.core.display.HTML object>"
      ]
     },
     "metadata": {},
     "output_type": "display_data"
    },
    {
     "data": {
      "text/html": [
       " View run <strong style=\"color:#cdcd00\">fragrant-sweep-23</strong> at: <a href='https://wandb.ai/mateogiraz27-ort/three-musketeers/runs/dp47wdey' target=\"_blank\">https://wandb.ai/mateogiraz27-ort/three-musketeers/runs/dp47wdey</a><br> View project at: <a href='https://wandb.ai/mateogiraz27-ort/three-musketeers' target=\"_blank\">https://wandb.ai/mateogiraz27-ort/three-musketeers</a><br>Synced 5 W&B file(s), 0 media file(s), 0 artifact file(s) and 0 other file(s)"
      ],
      "text/plain": [
       "<IPython.core.display.HTML object>"
      ]
     },
     "metadata": {},
     "output_type": "display_data"
    },
    {
     "data": {
      "text/html": [
       "Find logs at: <code>./wandb/run-20241214_095902-dp47wdey/logs</code>"
      ],
      "text/plain": [
       "<IPython.core.display.HTML object>"
      ]
     },
     "metadata": {},
     "output_type": "display_data"
    },
    {
     "name": "stderr",
     "output_type": "stream",
     "text": [
      "\u001b[34m\u001b[1mwandb\u001b[0m: Agent Starting Run: mm6vnf4p with config:\n",
      "\u001b[34m\u001b[1mwandb\u001b[0m: \talignment_weight: 8.27994432188721\n",
      "\u001b[34m\u001b[1mwandb\u001b[0m: \tmax_depth: 3\n",
      "\u001b[34m\u001b[1mwandb\u001b[0m: \tmoves_weight: 7.3159365540591565\n",
      "\u001b[34m\u001b[1mwandb\u001b[0m: \ttrap_weight: 27.427135266670668\n"
     ]
    },
    {
     "data": {
      "text/html": [
       "Tracking run with wandb version 0.19.1"
      ],
      "text/plain": [
       "<IPython.core.display.HTML object>"
      ]
     },
     "metadata": {},
     "output_type": "display_data"
    },
    {
     "data": {
      "text/html": [
       "Run data is saved locally in <code>/Users/mateogiraz/Documents/MountainCarContinuous (1)/three-musketeers/wandb/run-20241214_095950-mm6vnf4p</code>"
      ],
      "text/plain": [
       "<IPython.core.display.HTML object>"
      ]
     },
     "metadata": {},
     "output_type": "display_data"
    },
    {
     "data": {
      "text/html": [
       "Syncing run <strong><a href='https://wandb.ai/mateogiraz27-ort/three-musketeers/runs/mm6vnf4p' target=\"_blank\">youthful-sweep-24</a></strong> to <a href='https://wandb.ai/mateogiraz27-ort/three-musketeers' target=\"_blank\">Weights & Biases</a> (<a href='https://wandb.me/developer-guide' target=\"_blank\">docs</a>)<br>Sweep page: <a href='https://wandb.ai/mateogiraz27-ort/three-musketeers/sweeps/txk212na' target=\"_blank\">https://wandb.ai/mateogiraz27-ort/three-musketeers/sweeps/txk212na</a>"
      ],
      "text/plain": [
       "<IPython.core.display.HTML object>"
      ]
     },
     "metadata": {},
     "output_type": "display_data"
    },
    {
     "data": {
      "text/html": [
       " View project at <a href='https://wandb.ai/mateogiraz27-ort/three-musketeers' target=\"_blank\">https://wandb.ai/mateogiraz27-ort/three-musketeers</a>"
      ],
      "text/plain": [
       "<IPython.core.display.HTML object>"
      ]
     },
     "metadata": {},
     "output_type": "display_data"
    },
    {
     "data": {
      "text/html": [
       " View sweep at <a href='https://wandb.ai/mateogiraz27-ort/three-musketeers/sweeps/txk212na' target=\"_blank\">https://wandb.ai/mateogiraz27-ort/three-musketeers/sweeps/txk212na</a>"
      ],
      "text/plain": [
       "<IPython.core.display.HTML object>"
      ]
     },
     "metadata": {},
     "output_type": "display_data"
    },
    {
     "data": {
      "text/html": [
       " View run at <a href='https://wandb.ai/mateogiraz27-ort/three-musketeers/runs/mm6vnf4p' target=\"_blank\">https://wandb.ai/mateogiraz27-ort/three-musketeers/runs/mm6vnf4p</a>"
      ],
      "text/plain": [
       "<IPython.core.display.HTML object>"
      ]
     },
     "metadata": {},
     "output_type": "display_data"
    },
    {
     "name": "stderr",
     "output_type": "stream",
     "text": [
      "100%|██████████| 100/100 [00:25<00:00,  3.89it/s]\n"
     ]
    },
    {
     "data": {
      "text/html": [],
      "text/plain": [
       "<IPython.core.display.HTML object>"
      ]
     },
     "metadata": {},
     "output_type": "display_data"
    },
    {
     "data": {
      "text/html": [
       "<br>    <style><br>        .wandb-row {<br>            display: flex;<br>            flex-direction: row;<br>            flex-wrap: wrap;<br>            justify-content: flex-start;<br>            width: 100%;<br>        }<br>        .wandb-col {<br>            display: flex;<br>            flex-direction: column;<br>            flex-basis: 100%;<br>            flex: 1;<br>            padding: 10px;<br>        }<br>    </style><br><div class=\"wandb-row\"><div class=\"wandb-col\"><h3>Run history:</h3><br/><table class=\"wandb\"><tr><td>agent_wins</td><td>▁</td></tr><tr><td>pete_wins</td><td>▁</td></tr><tr><td>win_rate</td><td>▁</td></tr></table><br/></div><div class=\"wandb-col\"><h3>Run summary:</h3><br/><table class=\"wandb\"><tr><td>agent_wins</td><td>91</td></tr><tr><td>pete_wins</td><td>9</td></tr><tr><td>win_rate</td><td>0.91</td></tr></table><br/></div></div>"
      ],
      "text/plain": [
       "<IPython.core.display.HTML object>"
      ]
     },
     "metadata": {},
     "output_type": "display_data"
    },
    {
     "data": {
      "text/html": [
       " View run <strong style=\"color:#cdcd00\">youthful-sweep-24</strong> at: <a href='https://wandb.ai/mateogiraz27-ort/three-musketeers/runs/mm6vnf4p' target=\"_blank\">https://wandb.ai/mateogiraz27-ort/three-musketeers/runs/mm6vnf4p</a><br> View project at: <a href='https://wandb.ai/mateogiraz27-ort/three-musketeers' target=\"_blank\">https://wandb.ai/mateogiraz27-ort/three-musketeers</a><br>Synced 5 W&B file(s), 0 media file(s), 0 artifact file(s) and 0 other file(s)"
      ],
      "text/plain": [
       "<IPython.core.display.HTML object>"
      ]
     },
     "metadata": {},
     "output_type": "display_data"
    },
    {
     "data": {
      "text/html": [
       "Find logs at: <code>./wandb/run-20241214_095950-mm6vnf4p/logs</code>"
      ],
      "text/plain": [
       "<IPython.core.display.HTML object>"
      ]
     },
     "metadata": {},
     "output_type": "display_data"
    },
    {
     "name": "stderr",
     "output_type": "stream",
     "text": [
      "\u001b[34m\u001b[1mwandb\u001b[0m: Agent Starting Run: j2vrxos8 with config:\n",
      "\u001b[34m\u001b[1mwandb\u001b[0m: \talignment_weight: 9.160960766864756\n",
      "\u001b[34m\u001b[1mwandb\u001b[0m: \tmax_depth: 2\n",
      "\u001b[34m\u001b[1mwandb\u001b[0m: \tmoves_weight: 5.708887595557761\n",
      "\u001b[34m\u001b[1mwandb\u001b[0m: \ttrap_weight: 20.946768386793764\n"
     ]
    },
    {
     "data": {
      "text/html": [
       "Tracking run with wandb version 0.19.1"
      ],
      "text/plain": [
       "<IPython.core.display.HTML object>"
      ]
     },
     "metadata": {},
     "output_type": "display_data"
    },
    {
     "data": {
      "text/html": [
       "Run data is saved locally in <code>/Users/mateogiraz/Documents/MountainCarContinuous (1)/three-musketeers/wandb/run-20241214_100022-j2vrxos8</code>"
      ],
      "text/plain": [
       "<IPython.core.display.HTML object>"
      ]
     },
     "metadata": {},
     "output_type": "display_data"
    },
    {
     "data": {
      "text/html": [
       "Syncing run <strong><a href='https://wandb.ai/mateogiraz27-ort/three-musketeers/runs/j2vrxos8' target=\"_blank\">prime-sweep-25</a></strong> to <a href='https://wandb.ai/mateogiraz27-ort/three-musketeers' target=\"_blank\">Weights & Biases</a> (<a href='https://wandb.me/developer-guide' target=\"_blank\">docs</a>)<br>Sweep page: <a href='https://wandb.ai/mateogiraz27-ort/three-musketeers/sweeps/txk212na' target=\"_blank\">https://wandb.ai/mateogiraz27-ort/three-musketeers/sweeps/txk212na</a>"
      ],
      "text/plain": [
       "<IPython.core.display.HTML object>"
      ]
     },
     "metadata": {},
     "output_type": "display_data"
    },
    {
     "data": {
      "text/html": [
       " View project at <a href='https://wandb.ai/mateogiraz27-ort/three-musketeers' target=\"_blank\">https://wandb.ai/mateogiraz27-ort/three-musketeers</a>"
      ],
      "text/plain": [
       "<IPython.core.display.HTML object>"
      ]
     },
     "metadata": {},
     "output_type": "display_data"
    },
    {
     "data": {
      "text/html": [
       " View sweep at <a href='https://wandb.ai/mateogiraz27-ort/three-musketeers/sweeps/txk212na' target=\"_blank\">https://wandb.ai/mateogiraz27-ort/three-musketeers/sweeps/txk212na</a>"
      ],
      "text/plain": [
       "<IPython.core.display.HTML object>"
      ]
     },
     "metadata": {},
     "output_type": "display_data"
    },
    {
     "data": {
      "text/html": [
       " View run at <a href='https://wandb.ai/mateogiraz27-ort/three-musketeers/runs/j2vrxos8' target=\"_blank\">https://wandb.ai/mateogiraz27-ort/three-musketeers/runs/j2vrxos8</a>"
      ],
      "text/plain": [
       "<IPython.core.display.HTML object>"
      ]
     },
     "metadata": {},
     "output_type": "display_data"
    },
    {
     "name": "stderr",
     "output_type": "stream",
     "text": [
      "100%|██████████| 100/100 [00:26<00:00,  3.75it/s]\n"
     ]
    },
    {
     "data": {
      "text/html": [],
      "text/plain": [
       "<IPython.core.display.HTML object>"
      ]
     },
     "metadata": {},
     "output_type": "display_data"
    },
    {
     "data": {
      "text/html": [
       "<br>    <style><br>        .wandb-row {<br>            display: flex;<br>            flex-direction: row;<br>            flex-wrap: wrap;<br>            justify-content: flex-start;<br>            width: 100%;<br>        }<br>        .wandb-col {<br>            display: flex;<br>            flex-direction: column;<br>            flex-basis: 100%;<br>            flex: 1;<br>            padding: 10px;<br>        }<br>    </style><br><div class=\"wandb-row\"><div class=\"wandb-col\"><h3>Run history:</h3><br/><table class=\"wandb\"><tr><td>agent_wins</td><td>▁</td></tr><tr><td>pete_wins</td><td>▁</td></tr><tr><td>win_rate</td><td>▁</td></tr></table><br/></div><div class=\"wandb-col\"><h3>Run summary:</h3><br/><table class=\"wandb\"><tr><td>agent_wins</td><td>90</td></tr><tr><td>pete_wins</td><td>10</td></tr><tr><td>win_rate</td><td>0.9</td></tr></table><br/></div></div>"
      ],
      "text/plain": [
       "<IPython.core.display.HTML object>"
      ]
     },
     "metadata": {},
     "output_type": "display_data"
    },
    {
     "data": {
      "text/html": [
       " View run <strong style=\"color:#cdcd00\">prime-sweep-25</strong> at: <a href='https://wandb.ai/mateogiraz27-ort/three-musketeers/runs/j2vrxos8' target=\"_blank\">https://wandb.ai/mateogiraz27-ort/three-musketeers/runs/j2vrxos8</a><br> View project at: <a href='https://wandb.ai/mateogiraz27-ort/three-musketeers' target=\"_blank\">https://wandb.ai/mateogiraz27-ort/three-musketeers</a><br>Synced 5 W&B file(s), 0 media file(s), 0 artifact file(s) and 0 other file(s)"
      ],
      "text/plain": [
       "<IPython.core.display.HTML object>"
      ]
     },
     "metadata": {},
     "output_type": "display_data"
    },
    {
     "data": {
      "text/html": [
       "Find logs at: <code>./wandb/run-20241214_100022-j2vrxos8/logs</code>"
      ],
      "text/plain": [
       "<IPython.core.display.HTML object>"
      ]
     },
     "metadata": {},
     "output_type": "display_data"
    },
    {
     "name": "stderr",
     "output_type": "stream",
     "text": [
      "\u001b[34m\u001b[1mwandb\u001b[0m: Agent Starting Run: 6nlr1brg with config:\n",
      "\u001b[34m\u001b[1mwandb\u001b[0m: \talignment_weight: 15.941511468108606\n",
      "\u001b[34m\u001b[1mwandb\u001b[0m: \tmax_depth: 3\n",
      "\u001b[34m\u001b[1mwandb\u001b[0m: \tmoves_weight: 10.077602566362629\n",
      "\u001b[34m\u001b[1mwandb\u001b[0m: \ttrap_weight: 21.467995282728\n"
     ]
    },
    {
     "data": {
      "text/html": [
       "Tracking run with wandb version 0.19.1"
      ],
      "text/plain": [
       "<IPython.core.display.HTML object>"
      ]
     },
     "metadata": {},
     "output_type": "display_data"
    },
    {
     "data": {
      "text/html": [
       "Run data is saved locally in <code>/Users/mateogiraz/Documents/MountainCarContinuous (1)/three-musketeers/wandb/run-20241214_100054-6nlr1brg</code>"
      ],
      "text/plain": [
       "<IPython.core.display.HTML object>"
      ]
     },
     "metadata": {},
     "output_type": "display_data"
    },
    {
     "data": {
      "text/html": [
       "Syncing run <strong><a href='https://wandb.ai/mateogiraz27-ort/three-musketeers/runs/6nlr1brg' target=\"_blank\">chocolate-sweep-26</a></strong> to <a href='https://wandb.ai/mateogiraz27-ort/three-musketeers' target=\"_blank\">Weights & Biases</a> (<a href='https://wandb.me/developer-guide' target=\"_blank\">docs</a>)<br>Sweep page: <a href='https://wandb.ai/mateogiraz27-ort/three-musketeers/sweeps/txk212na' target=\"_blank\">https://wandb.ai/mateogiraz27-ort/three-musketeers/sweeps/txk212na</a>"
      ],
      "text/plain": [
       "<IPython.core.display.HTML object>"
      ]
     },
     "metadata": {},
     "output_type": "display_data"
    },
    {
     "data": {
      "text/html": [
       " View project at <a href='https://wandb.ai/mateogiraz27-ort/three-musketeers' target=\"_blank\">https://wandb.ai/mateogiraz27-ort/three-musketeers</a>"
      ],
      "text/plain": [
       "<IPython.core.display.HTML object>"
      ]
     },
     "metadata": {},
     "output_type": "display_data"
    },
    {
     "data": {
      "text/html": [
       " View sweep at <a href='https://wandb.ai/mateogiraz27-ort/three-musketeers/sweeps/txk212na' target=\"_blank\">https://wandb.ai/mateogiraz27-ort/three-musketeers/sweeps/txk212na</a>"
      ],
      "text/plain": [
       "<IPython.core.display.HTML object>"
      ]
     },
     "metadata": {},
     "output_type": "display_data"
    },
    {
     "data": {
      "text/html": [
       " View run at <a href='https://wandb.ai/mateogiraz27-ort/three-musketeers/runs/6nlr1brg' target=\"_blank\">https://wandb.ai/mateogiraz27-ort/three-musketeers/runs/6nlr1brg</a>"
      ],
      "text/plain": [
       "<IPython.core.display.HTML object>"
      ]
     },
     "metadata": {},
     "output_type": "display_data"
    },
    {
     "name": "stderr",
     "output_type": "stream",
     "text": [
      "100%|██████████| 100/100 [00:27<00:00,  3.66it/s]\n"
     ]
    },
    {
     "data": {
      "text/html": [],
      "text/plain": [
       "<IPython.core.display.HTML object>"
      ]
     },
     "metadata": {},
     "output_type": "display_data"
    },
    {
     "data": {
      "text/html": [
       "<br>    <style><br>        .wandb-row {<br>            display: flex;<br>            flex-direction: row;<br>            flex-wrap: wrap;<br>            justify-content: flex-start;<br>            width: 100%;<br>        }<br>        .wandb-col {<br>            display: flex;<br>            flex-direction: column;<br>            flex-basis: 100%;<br>            flex: 1;<br>            padding: 10px;<br>        }<br>    </style><br><div class=\"wandb-row\"><div class=\"wandb-col\"><h3>Run history:</h3><br/><table class=\"wandb\"><tr><td>agent_wins</td><td>▁</td></tr><tr><td>pete_wins</td><td>▁</td></tr><tr><td>win_rate</td><td>▁</td></tr></table><br/></div><div class=\"wandb-col\"><h3>Run summary:</h3><br/><table class=\"wandb\"><tr><td>agent_wins</td><td>89</td></tr><tr><td>pete_wins</td><td>11</td></tr><tr><td>win_rate</td><td>0.89</td></tr></table><br/></div></div>"
      ],
      "text/plain": [
       "<IPython.core.display.HTML object>"
      ]
     },
     "metadata": {},
     "output_type": "display_data"
    },
    {
     "data": {
      "text/html": [
       " View run <strong style=\"color:#cdcd00\">chocolate-sweep-26</strong> at: <a href='https://wandb.ai/mateogiraz27-ort/three-musketeers/runs/6nlr1brg' target=\"_blank\">https://wandb.ai/mateogiraz27-ort/three-musketeers/runs/6nlr1brg</a><br> View project at: <a href='https://wandb.ai/mateogiraz27-ort/three-musketeers' target=\"_blank\">https://wandb.ai/mateogiraz27-ort/three-musketeers</a><br>Synced 5 W&B file(s), 0 media file(s), 0 artifact file(s) and 0 other file(s)"
      ],
      "text/plain": [
       "<IPython.core.display.HTML object>"
      ]
     },
     "metadata": {},
     "output_type": "display_data"
    },
    {
     "data": {
      "text/html": [
       "Find logs at: <code>./wandb/run-20241214_100054-6nlr1brg/logs</code>"
      ],
      "text/plain": [
       "<IPython.core.display.HTML object>"
      ]
     },
     "metadata": {},
     "output_type": "display_data"
    },
    {
     "name": "stderr",
     "output_type": "stream",
     "text": [
      "\u001b[34m\u001b[1mwandb\u001b[0m: Agent Starting Run: wwhxnpm4 with config:\n",
      "\u001b[34m\u001b[1mwandb\u001b[0m: \talignment_weight: 19.89528404228527\n",
      "\u001b[34m\u001b[1mwandb\u001b[0m: \tmax_depth: 3\n",
      "\u001b[34m\u001b[1mwandb\u001b[0m: \tmoves_weight: 12.717720024157806\n",
      "\u001b[34m\u001b[1mwandb\u001b[0m: \ttrap_weight: 24.58990608254132\n"
     ]
    },
    {
     "data": {
      "text/html": [
       "Tracking run with wandb version 0.19.1"
      ],
      "text/plain": [
       "<IPython.core.display.HTML object>"
      ]
     },
     "metadata": {},
     "output_type": "display_data"
    },
    {
     "data": {
      "text/html": [
       "Run data is saved locally in <code>/Users/mateogiraz/Documents/MountainCarContinuous (1)/three-musketeers/wandb/run-20241214_100127-wwhxnpm4</code>"
      ],
      "text/plain": [
       "<IPython.core.display.HTML object>"
      ]
     },
     "metadata": {},
     "output_type": "display_data"
    },
    {
     "data": {
      "text/html": [
       "Syncing run <strong><a href='https://wandb.ai/mateogiraz27-ort/three-musketeers/runs/wwhxnpm4' target=\"_blank\">confused-sweep-27</a></strong> to <a href='https://wandb.ai/mateogiraz27-ort/three-musketeers' target=\"_blank\">Weights & Biases</a> (<a href='https://wandb.me/developer-guide' target=\"_blank\">docs</a>)<br>Sweep page: <a href='https://wandb.ai/mateogiraz27-ort/three-musketeers/sweeps/txk212na' target=\"_blank\">https://wandb.ai/mateogiraz27-ort/three-musketeers/sweeps/txk212na</a>"
      ],
      "text/plain": [
       "<IPython.core.display.HTML object>"
      ]
     },
     "metadata": {},
     "output_type": "display_data"
    },
    {
     "data": {
      "text/html": [
       " View project at <a href='https://wandb.ai/mateogiraz27-ort/three-musketeers' target=\"_blank\">https://wandb.ai/mateogiraz27-ort/three-musketeers</a>"
      ],
      "text/plain": [
       "<IPython.core.display.HTML object>"
      ]
     },
     "metadata": {},
     "output_type": "display_data"
    },
    {
     "data": {
      "text/html": [
       " View sweep at <a href='https://wandb.ai/mateogiraz27-ort/three-musketeers/sweeps/txk212na' target=\"_blank\">https://wandb.ai/mateogiraz27-ort/three-musketeers/sweeps/txk212na</a>"
      ],
      "text/plain": [
       "<IPython.core.display.HTML object>"
      ]
     },
     "metadata": {},
     "output_type": "display_data"
    },
    {
     "data": {
      "text/html": [
       " View run at <a href='https://wandb.ai/mateogiraz27-ort/three-musketeers/runs/wwhxnpm4' target=\"_blank\">https://wandb.ai/mateogiraz27-ort/three-musketeers/runs/wwhxnpm4</a>"
      ],
      "text/plain": [
       "<IPython.core.display.HTML object>"
      ]
     },
     "metadata": {},
     "output_type": "display_data"
    },
    {
     "name": "stderr",
     "output_type": "stream",
     "text": [
      "100%|██████████| 100/100 [00:28<00:00,  3.48it/s]\n"
     ]
    },
    {
     "data": {
      "text/html": [],
      "text/plain": [
       "<IPython.core.display.HTML object>"
      ]
     },
     "metadata": {},
     "output_type": "display_data"
    },
    {
     "data": {
      "text/html": [
       "<br>    <style><br>        .wandb-row {<br>            display: flex;<br>            flex-direction: row;<br>            flex-wrap: wrap;<br>            justify-content: flex-start;<br>            width: 100%;<br>        }<br>        .wandb-col {<br>            display: flex;<br>            flex-direction: column;<br>            flex-basis: 100%;<br>            flex: 1;<br>            padding: 10px;<br>        }<br>    </style><br><div class=\"wandb-row\"><div class=\"wandb-col\"><h3>Run history:</h3><br/><table class=\"wandb\"><tr><td>agent_wins</td><td>▁</td></tr><tr><td>pete_wins</td><td>▁</td></tr><tr><td>win_rate</td><td>▁</td></tr></table><br/></div><div class=\"wandb-col\"><h3>Run summary:</h3><br/><table class=\"wandb\"><tr><td>agent_wins</td><td>87</td></tr><tr><td>pete_wins</td><td>13</td></tr><tr><td>win_rate</td><td>0.87</td></tr></table><br/></div></div>"
      ],
      "text/plain": [
       "<IPython.core.display.HTML object>"
      ]
     },
     "metadata": {},
     "output_type": "display_data"
    },
    {
     "data": {
      "text/html": [
       " View run <strong style=\"color:#cdcd00\">confused-sweep-27</strong> at: <a href='https://wandb.ai/mateogiraz27-ort/three-musketeers/runs/wwhxnpm4' target=\"_blank\">https://wandb.ai/mateogiraz27-ort/three-musketeers/runs/wwhxnpm4</a><br> View project at: <a href='https://wandb.ai/mateogiraz27-ort/three-musketeers' target=\"_blank\">https://wandb.ai/mateogiraz27-ort/three-musketeers</a><br>Synced 5 W&B file(s), 0 media file(s), 0 artifact file(s) and 0 other file(s)"
      ],
      "text/plain": [
       "<IPython.core.display.HTML object>"
      ]
     },
     "metadata": {},
     "output_type": "display_data"
    },
    {
     "data": {
      "text/html": [
       "Find logs at: <code>./wandb/run-20241214_100127-wwhxnpm4/logs</code>"
      ],
      "text/plain": [
       "<IPython.core.display.HTML object>"
      ]
     },
     "metadata": {},
     "output_type": "display_data"
    },
    {
     "name": "stderr",
     "output_type": "stream",
     "text": [
      "\u001b[34m\u001b[1mwandb\u001b[0m: Sweep Agent: Waiting for job.\n",
      "\u001b[34m\u001b[1mwandb\u001b[0m: Job received.\n",
      "\u001b[34m\u001b[1mwandb\u001b[0m: Agent Starting Run: eyi94wij with config:\n",
      "\u001b[34m\u001b[1mwandb\u001b[0m: \talignment_weight: 15.290134178470606\n",
      "\u001b[34m\u001b[1mwandb\u001b[0m: \tmax_depth: 2\n",
      "\u001b[34m\u001b[1mwandb\u001b[0m: \tmoves_weight: 10.989530721290182\n",
      "\u001b[34m\u001b[1mwandb\u001b[0m: \ttrap_weight: 18.9323625012337\n"
     ]
    },
    {
     "data": {
      "text/html": [
       "Tracking run with wandb version 0.19.1"
      ],
      "text/plain": [
       "<IPython.core.display.HTML object>"
      ]
     },
     "metadata": {},
     "output_type": "display_data"
    },
    {
     "data": {
      "text/html": [
       "Run data is saved locally in <code>/Users/mateogiraz/Documents/MountainCarContinuous (1)/three-musketeers/wandb/run-20241214_100209-eyi94wij</code>"
      ],
      "text/plain": [
       "<IPython.core.display.HTML object>"
      ]
     },
     "metadata": {},
     "output_type": "display_data"
    },
    {
     "data": {
      "text/html": [
       "Syncing run <strong><a href='https://wandb.ai/mateogiraz27-ort/three-musketeers/runs/eyi94wij' target=\"_blank\">divine-sweep-28</a></strong> to <a href='https://wandb.ai/mateogiraz27-ort/three-musketeers' target=\"_blank\">Weights & Biases</a> (<a href='https://wandb.me/developer-guide' target=\"_blank\">docs</a>)<br>Sweep page: <a href='https://wandb.ai/mateogiraz27-ort/three-musketeers/sweeps/txk212na' target=\"_blank\">https://wandb.ai/mateogiraz27-ort/three-musketeers/sweeps/txk212na</a>"
      ],
      "text/plain": [
       "<IPython.core.display.HTML object>"
      ]
     },
     "metadata": {},
     "output_type": "display_data"
    },
    {
     "data": {
      "text/html": [
       " View project at <a href='https://wandb.ai/mateogiraz27-ort/three-musketeers' target=\"_blank\">https://wandb.ai/mateogiraz27-ort/three-musketeers</a>"
      ],
      "text/plain": [
       "<IPython.core.display.HTML object>"
      ]
     },
     "metadata": {},
     "output_type": "display_data"
    },
    {
     "data": {
      "text/html": [
       " View sweep at <a href='https://wandb.ai/mateogiraz27-ort/three-musketeers/sweeps/txk212na' target=\"_blank\">https://wandb.ai/mateogiraz27-ort/three-musketeers/sweeps/txk212na</a>"
      ],
      "text/plain": [
       "<IPython.core.display.HTML object>"
      ]
     },
     "metadata": {},
     "output_type": "display_data"
    },
    {
     "data": {
      "text/html": [
       " View run at <a href='https://wandb.ai/mateogiraz27-ort/three-musketeers/runs/eyi94wij' target=\"_blank\">https://wandb.ai/mateogiraz27-ort/three-musketeers/runs/eyi94wij</a>"
      ],
      "text/plain": [
       "<IPython.core.display.HTML object>"
      ]
     },
     "metadata": {},
     "output_type": "display_data"
    },
    {
     "name": "stderr",
     "output_type": "stream",
     "text": [
      "100%|██████████| 100/100 [00:26<00:00,  3.72it/s]\n"
     ]
    },
    {
     "data": {
      "text/html": [],
      "text/plain": [
       "<IPython.core.display.HTML object>"
      ]
     },
     "metadata": {},
     "output_type": "display_data"
    },
    {
     "data": {
      "text/html": [
       "<br>    <style><br>        .wandb-row {<br>            display: flex;<br>            flex-direction: row;<br>            flex-wrap: wrap;<br>            justify-content: flex-start;<br>            width: 100%;<br>        }<br>        .wandb-col {<br>            display: flex;<br>            flex-direction: column;<br>            flex-basis: 100%;<br>            flex: 1;<br>            padding: 10px;<br>        }<br>    </style><br><div class=\"wandb-row\"><div class=\"wandb-col\"><h3>Run history:</h3><br/><table class=\"wandb\"><tr><td>agent_wins</td><td>▁</td></tr><tr><td>pete_wins</td><td>▁</td></tr><tr><td>win_rate</td><td>▁</td></tr></table><br/></div><div class=\"wandb-col\"><h3>Run summary:</h3><br/><table class=\"wandb\"><tr><td>agent_wins</td><td>89</td></tr><tr><td>pete_wins</td><td>11</td></tr><tr><td>win_rate</td><td>0.89</td></tr></table><br/></div></div>"
      ],
      "text/plain": [
       "<IPython.core.display.HTML object>"
      ]
     },
     "metadata": {},
     "output_type": "display_data"
    },
    {
     "data": {
      "text/html": [
       " View run <strong style=\"color:#cdcd00\">divine-sweep-28</strong> at: <a href='https://wandb.ai/mateogiraz27-ort/three-musketeers/runs/eyi94wij' target=\"_blank\">https://wandb.ai/mateogiraz27-ort/three-musketeers/runs/eyi94wij</a><br> View project at: <a href='https://wandb.ai/mateogiraz27-ort/three-musketeers' target=\"_blank\">https://wandb.ai/mateogiraz27-ort/three-musketeers</a><br>Synced 5 W&B file(s), 0 media file(s), 0 artifact file(s) and 0 other file(s)"
      ],
      "text/plain": [
       "<IPython.core.display.HTML object>"
      ]
     },
     "metadata": {},
     "output_type": "display_data"
    },
    {
     "data": {
      "text/html": [
       "Find logs at: <code>./wandb/run-20241214_100209-eyi94wij/logs</code>"
      ],
      "text/plain": [
       "<IPython.core.display.HTML object>"
      ]
     },
     "metadata": {},
     "output_type": "display_data"
    },
    {
     "name": "stderr",
     "output_type": "stream",
     "text": [
      "\u001b[34m\u001b[1mwandb\u001b[0m: Agent Starting Run: 0nuwbwpd with config:\n",
      "\u001b[34m\u001b[1mwandb\u001b[0m: \talignment_weight: 16.81365210013582\n",
      "\u001b[34m\u001b[1mwandb\u001b[0m: \tmax_depth: 2\n",
      "\u001b[34m\u001b[1mwandb\u001b[0m: \tmoves_weight: 8.300630135366434\n",
      "\u001b[34m\u001b[1mwandb\u001b[0m: \ttrap_weight: 10.28616017949594\n"
     ]
    },
    {
     "data": {
      "text/html": [
       "Tracking run with wandb version 0.19.1"
      ],
      "text/plain": [
       "<IPython.core.display.HTML object>"
      ]
     },
     "metadata": {},
     "output_type": "display_data"
    },
    {
     "data": {
      "text/html": [
       "Run data is saved locally in <code>/Users/mateogiraz/Documents/MountainCarContinuous (1)/three-musketeers/wandb/run-20241214_100242-0nuwbwpd</code>"
      ],
      "text/plain": [
       "<IPython.core.display.HTML object>"
      ]
     },
     "metadata": {},
     "output_type": "display_data"
    },
    {
     "data": {
      "text/html": [
       "Syncing run <strong><a href='https://wandb.ai/mateogiraz27-ort/three-musketeers/runs/0nuwbwpd' target=\"_blank\">noble-sweep-29</a></strong> to <a href='https://wandb.ai/mateogiraz27-ort/three-musketeers' target=\"_blank\">Weights & Biases</a> (<a href='https://wandb.me/developer-guide' target=\"_blank\">docs</a>)<br>Sweep page: <a href='https://wandb.ai/mateogiraz27-ort/three-musketeers/sweeps/txk212na' target=\"_blank\">https://wandb.ai/mateogiraz27-ort/three-musketeers/sweeps/txk212na</a>"
      ],
      "text/plain": [
       "<IPython.core.display.HTML object>"
      ]
     },
     "metadata": {},
     "output_type": "display_data"
    },
    {
     "data": {
      "text/html": [
       " View project at <a href='https://wandb.ai/mateogiraz27-ort/three-musketeers' target=\"_blank\">https://wandb.ai/mateogiraz27-ort/three-musketeers</a>"
      ],
      "text/plain": [
       "<IPython.core.display.HTML object>"
      ]
     },
     "metadata": {},
     "output_type": "display_data"
    },
    {
     "data": {
      "text/html": [
       " View sweep at <a href='https://wandb.ai/mateogiraz27-ort/three-musketeers/sweeps/txk212na' target=\"_blank\">https://wandb.ai/mateogiraz27-ort/three-musketeers/sweeps/txk212na</a>"
      ],
      "text/plain": [
       "<IPython.core.display.HTML object>"
      ]
     },
     "metadata": {},
     "output_type": "display_data"
    },
    {
     "data": {
      "text/html": [
       " View run at <a href='https://wandb.ai/mateogiraz27-ort/three-musketeers/runs/0nuwbwpd' target=\"_blank\">https://wandb.ai/mateogiraz27-ort/three-musketeers/runs/0nuwbwpd</a>"
      ],
      "text/plain": [
       "<IPython.core.display.HTML object>"
      ]
     },
     "metadata": {},
     "output_type": "display_data"
    },
    {
     "name": "stderr",
     "output_type": "stream",
     "text": [
      "100%|██████████| 100/100 [00:24<00:00,  4.08it/s]\n"
     ]
    },
    {
     "data": {
      "text/html": [],
      "text/plain": [
       "<IPython.core.display.HTML object>"
      ]
     },
     "metadata": {},
     "output_type": "display_data"
    },
    {
     "data": {
      "text/html": [
       "<br>    <style><br>        .wandb-row {<br>            display: flex;<br>            flex-direction: row;<br>            flex-wrap: wrap;<br>            justify-content: flex-start;<br>            width: 100%;<br>        }<br>        .wandb-col {<br>            display: flex;<br>            flex-direction: column;<br>            flex-basis: 100%;<br>            flex: 1;<br>            padding: 10px;<br>        }<br>    </style><br><div class=\"wandb-row\"><div class=\"wandb-col\"><h3>Run history:</h3><br/><table class=\"wandb\"><tr><td>agent_wins</td><td>▁</td></tr><tr><td>pete_wins</td><td>▁</td></tr><tr><td>win_rate</td><td>▁</td></tr></table><br/></div><div class=\"wandb-col\"><h3>Run summary:</h3><br/><table class=\"wandb\"><tr><td>agent_wins</td><td>89</td></tr><tr><td>pete_wins</td><td>11</td></tr><tr><td>win_rate</td><td>0.89</td></tr></table><br/></div></div>"
      ],
      "text/plain": [
       "<IPython.core.display.HTML object>"
      ]
     },
     "metadata": {},
     "output_type": "display_data"
    },
    {
     "data": {
      "text/html": [
       " View run <strong style=\"color:#cdcd00\">noble-sweep-29</strong> at: <a href='https://wandb.ai/mateogiraz27-ort/three-musketeers/runs/0nuwbwpd' target=\"_blank\">https://wandb.ai/mateogiraz27-ort/three-musketeers/runs/0nuwbwpd</a><br> View project at: <a href='https://wandb.ai/mateogiraz27-ort/three-musketeers' target=\"_blank\">https://wandb.ai/mateogiraz27-ort/three-musketeers</a><br>Synced 5 W&B file(s), 0 media file(s), 0 artifact file(s) and 0 other file(s)"
      ],
      "text/plain": [
       "<IPython.core.display.HTML object>"
      ]
     },
     "metadata": {},
     "output_type": "display_data"
    },
    {
     "data": {
      "text/html": [
       "Find logs at: <code>./wandb/run-20241214_100242-0nuwbwpd/logs</code>"
      ],
      "text/plain": [
       "<IPython.core.display.HTML object>"
      ]
     },
     "metadata": {},
     "output_type": "display_data"
    },
    {
     "name": "stderr",
     "output_type": "stream",
     "text": [
      "\u001b[34m\u001b[1mwandb\u001b[0m: Agent Starting Run: gkcas63r with config:\n",
      "\u001b[34m\u001b[1mwandb\u001b[0m: \talignment_weight: 15.18696429836768\n",
      "\u001b[34m\u001b[1mwandb\u001b[0m: \tmax_depth: 5\n",
      "\u001b[34m\u001b[1mwandb\u001b[0m: \tmoves_weight: 10.289425179852444\n",
      "\u001b[34m\u001b[1mwandb\u001b[0m: \ttrap_weight: 27.242459521002548\n"
     ]
    },
    {
     "data": {
      "text/html": [
       "Tracking run with wandb version 0.19.1"
      ],
      "text/plain": [
       "<IPython.core.display.HTML object>"
      ]
     },
     "metadata": {},
     "output_type": "display_data"
    },
    {
     "data": {
      "text/html": [
       "Run data is saved locally in <code>/Users/mateogiraz/Documents/MountainCarContinuous (1)/three-musketeers/wandb/run-20241214_100314-gkcas63r</code>"
      ],
      "text/plain": [
       "<IPython.core.display.HTML object>"
      ]
     },
     "metadata": {},
     "output_type": "display_data"
    },
    {
     "data": {
      "text/html": [
       "Syncing run <strong><a href='https://wandb.ai/mateogiraz27-ort/three-musketeers/runs/gkcas63r' target=\"_blank\">fiery-sweep-30</a></strong> to <a href='https://wandb.ai/mateogiraz27-ort/three-musketeers' target=\"_blank\">Weights & Biases</a> (<a href='https://wandb.me/developer-guide' target=\"_blank\">docs</a>)<br>Sweep page: <a href='https://wandb.ai/mateogiraz27-ort/three-musketeers/sweeps/txk212na' target=\"_blank\">https://wandb.ai/mateogiraz27-ort/three-musketeers/sweeps/txk212na</a>"
      ],
      "text/plain": [
       "<IPython.core.display.HTML object>"
      ]
     },
     "metadata": {},
     "output_type": "display_data"
    },
    {
     "data": {
      "text/html": [
       " View project at <a href='https://wandb.ai/mateogiraz27-ort/three-musketeers' target=\"_blank\">https://wandb.ai/mateogiraz27-ort/three-musketeers</a>"
      ],
      "text/plain": [
       "<IPython.core.display.HTML object>"
      ]
     },
     "metadata": {},
     "output_type": "display_data"
    },
    {
     "data": {
      "text/html": [
       " View sweep at <a href='https://wandb.ai/mateogiraz27-ort/three-musketeers/sweeps/txk212na' target=\"_blank\">https://wandb.ai/mateogiraz27-ort/three-musketeers/sweeps/txk212na</a>"
      ],
      "text/plain": [
       "<IPython.core.display.HTML object>"
      ]
     },
     "metadata": {},
     "output_type": "display_data"
    },
    {
     "data": {
      "text/html": [
       " View run at <a href='https://wandb.ai/mateogiraz27-ort/three-musketeers/runs/gkcas63r' target=\"_blank\">https://wandb.ai/mateogiraz27-ort/three-musketeers/runs/gkcas63r</a>"
      ],
      "text/plain": [
       "<IPython.core.display.HTML object>"
      ]
     },
     "metadata": {},
     "output_type": "display_data"
    },
    {
     "name": "stderr",
     "output_type": "stream",
     "text": [
      "100%|██████████| 100/100 [01:14<00:00,  1.33it/s]\n"
     ]
    },
    {
     "data": {
      "text/html": [],
      "text/plain": [
       "<IPython.core.display.HTML object>"
      ]
     },
     "metadata": {},
     "output_type": "display_data"
    },
    {
     "data": {
      "text/html": [
       "<br>    <style><br>        .wandb-row {<br>            display: flex;<br>            flex-direction: row;<br>            flex-wrap: wrap;<br>            justify-content: flex-start;<br>            width: 100%;<br>        }<br>        .wandb-col {<br>            display: flex;<br>            flex-direction: column;<br>            flex-basis: 100%;<br>            flex: 1;<br>            padding: 10px;<br>        }<br>    </style><br><div class=\"wandb-row\"><div class=\"wandb-col\"><h3>Run history:</h3><br/><table class=\"wandb\"><tr><td>agent_wins</td><td>▁</td></tr><tr><td>pete_wins</td><td>▁</td></tr><tr><td>win_rate</td><td>▁</td></tr></table><br/></div><div class=\"wandb-col\"><h3>Run summary:</h3><br/><table class=\"wandb\"><tr><td>agent_wins</td><td>88</td></tr><tr><td>pete_wins</td><td>12</td></tr><tr><td>win_rate</td><td>0.88</td></tr></table><br/></div></div>"
      ],
      "text/plain": [
       "<IPython.core.display.HTML object>"
      ]
     },
     "metadata": {},
     "output_type": "display_data"
    },
    {
     "data": {
      "text/html": [
       " View run <strong style=\"color:#cdcd00\">fiery-sweep-30</strong> at: <a href='https://wandb.ai/mateogiraz27-ort/three-musketeers/runs/gkcas63r' target=\"_blank\">https://wandb.ai/mateogiraz27-ort/three-musketeers/runs/gkcas63r</a><br> View project at: <a href='https://wandb.ai/mateogiraz27-ort/three-musketeers' target=\"_blank\">https://wandb.ai/mateogiraz27-ort/three-musketeers</a><br>Synced 5 W&B file(s), 0 media file(s), 0 artifact file(s) and 0 other file(s)"
      ],
      "text/plain": [
       "<IPython.core.display.HTML object>"
      ]
     },
     "metadata": {},
     "output_type": "display_data"
    },
    {
     "data": {
      "text/html": [
       "Find logs at: <code>./wandb/run-20241214_100314-gkcas63r/logs</code>"
      ],
      "text/plain": [
       "<IPython.core.display.HTML object>"
      ]
     },
     "metadata": {},
     "output_type": "display_data"
    },
    {
     "name": "stderr",
     "output_type": "stream",
     "text": [
      "\u001b[34m\u001b[1mwandb\u001b[0m: Agent Starting Run: czj9ygpu with config:\n",
      "\u001b[34m\u001b[1mwandb\u001b[0m: \talignment_weight: 6.150219411952946\n",
      "\u001b[34m\u001b[1mwandb\u001b[0m: \tmax_depth: 4\n",
      "\u001b[34m\u001b[1mwandb\u001b[0m: \tmoves_weight: 14.40708732876027\n",
      "\u001b[34m\u001b[1mwandb\u001b[0m: \ttrap_weight: 28.029605577391216\n"
     ]
    },
    {
     "data": {
      "text/html": [
       "Tracking run with wandb version 0.19.1"
      ],
      "text/plain": [
       "<IPython.core.display.HTML object>"
      ]
     },
     "metadata": {},
     "output_type": "display_data"
    },
    {
     "data": {
      "text/html": [
       "Run data is saved locally in <code>/Users/mateogiraz/Documents/MountainCarContinuous (1)/three-musketeers/wandb/run-20241214_100433-czj9ygpu</code>"
      ],
      "text/plain": [
       "<IPython.core.display.HTML object>"
      ]
     },
     "metadata": {},
     "output_type": "display_data"
    },
    {
     "data": {
      "text/html": [
       "Syncing run <strong><a href='https://wandb.ai/mateogiraz27-ort/three-musketeers/runs/czj9ygpu' target=\"_blank\">northern-sweep-31</a></strong> to <a href='https://wandb.ai/mateogiraz27-ort/three-musketeers' target=\"_blank\">Weights & Biases</a> (<a href='https://wandb.me/developer-guide' target=\"_blank\">docs</a>)<br>Sweep page: <a href='https://wandb.ai/mateogiraz27-ort/three-musketeers/sweeps/txk212na' target=\"_blank\">https://wandb.ai/mateogiraz27-ort/three-musketeers/sweeps/txk212na</a>"
      ],
      "text/plain": [
       "<IPython.core.display.HTML object>"
      ]
     },
     "metadata": {},
     "output_type": "display_data"
    },
    {
     "data": {
      "text/html": [
       " View project at <a href='https://wandb.ai/mateogiraz27-ort/three-musketeers' target=\"_blank\">https://wandb.ai/mateogiraz27-ort/three-musketeers</a>"
      ],
      "text/plain": [
       "<IPython.core.display.HTML object>"
      ]
     },
     "metadata": {},
     "output_type": "display_data"
    },
    {
     "data": {
      "text/html": [
       " View sweep at <a href='https://wandb.ai/mateogiraz27-ort/three-musketeers/sweeps/txk212na' target=\"_blank\">https://wandb.ai/mateogiraz27-ort/three-musketeers/sweeps/txk212na</a>"
      ],
      "text/plain": [
       "<IPython.core.display.HTML object>"
      ]
     },
     "metadata": {},
     "output_type": "display_data"
    },
    {
     "data": {
      "text/html": [
       " View run at <a href='https://wandb.ai/mateogiraz27-ort/three-musketeers/runs/czj9ygpu' target=\"_blank\">https://wandb.ai/mateogiraz27-ort/three-musketeers/runs/czj9ygpu</a>"
      ],
      "text/plain": [
       "<IPython.core.display.HTML object>"
      ]
     },
     "metadata": {},
     "output_type": "display_data"
    },
    {
     "name": "stderr",
     "output_type": "stream",
     "text": [
      "100%|██████████| 100/100 [00:36<00:00,  2.75it/s]\n"
     ]
    },
    {
     "data": {
      "text/html": [],
      "text/plain": [
       "<IPython.core.display.HTML object>"
      ]
     },
     "metadata": {},
     "output_type": "display_data"
    },
    {
     "data": {
      "text/html": [
       "<br>    <style><br>        .wandb-row {<br>            display: flex;<br>            flex-direction: row;<br>            flex-wrap: wrap;<br>            justify-content: flex-start;<br>            width: 100%;<br>        }<br>        .wandb-col {<br>            display: flex;<br>            flex-direction: column;<br>            flex-basis: 100%;<br>            flex: 1;<br>            padding: 10px;<br>        }<br>    </style><br><div class=\"wandb-row\"><div class=\"wandb-col\"><h3>Run history:</h3><br/><table class=\"wandb\"><tr><td>agent_wins</td><td>▁</td></tr><tr><td>pete_wins</td><td>▁</td></tr><tr><td>win_rate</td><td>▁</td></tr></table><br/></div><div class=\"wandb-col\"><h3>Run summary:</h3><br/><table class=\"wandb\"><tr><td>agent_wins</td><td>77</td></tr><tr><td>pete_wins</td><td>23</td></tr><tr><td>win_rate</td><td>0.77</td></tr></table><br/></div></div>"
      ],
      "text/plain": [
       "<IPython.core.display.HTML object>"
      ]
     },
     "metadata": {},
     "output_type": "display_data"
    },
    {
     "data": {
      "text/html": [
       " View run <strong style=\"color:#cdcd00\">northern-sweep-31</strong> at: <a href='https://wandb.ai/mateogiraz27-ort/three-musketeers/runs/czj9ygpu' target=\"_blank\">https://wandb.ai/mateogiraz27-ort/three-musketeers/runs/czj9ygpu</a><br> View project at: <a href='https://wandb.ai/mateogiraz27-ort/three-musketeers' target=\"_blank\">https://wandb.ai/mateogiraz27-ort/three-musketeers</a><br>Synced 5 W&B file(s), 0 media file(s), 0 artifact file(s) and 0 other file(s)"
      ],
      "text/plain": [
       "<IPython.core.display.HTML object>"
      ]
     },
     "metadata": {},
     "output_type": "display_data"
    },
    {
     "data": {
      "text/html": [
       "Find logs at: <code>./wandb/run-20241214_100433-czj9ygpu/logs</code>"
      ],
      "text/plain": [
       "<IPython.core.display.HTML object>"
      ]
     },
     "metadata": {},
     "output_type": "display_data"
    },
    {
     "name": "stderr",
     "output_type": "stream",
     "text": [
      "\u001b[34m\u001b[1mwandb\u001b[0m: Agent Starting Run: md0syooo with config:\n",
      "\u001b[34m\u001b[1mwandb\u001b[0m: \talignment_weight: 8.511494134937323\n",
      "\u001b[34m\u001b[1mwandb\u001b[0m: \tmax_depth: 5\n",
      "\u001b[34m\u001b[1mwandb\u001b[0m: \tmoves_weight: 9.294173265513988\n",
      "\u001b[34m\u001b[1mwandb\u001b[0m: \ttrap_weight: 16.010398252383343\n"
     ]
    },
    {
     "data": {
      "text/html": [
       "Tracking run with wandb version 0.19.1"
      ],
      "text/plain": [
       "<IPython.core.display.HTML object>"
      ]
     },
     "metadata": {},
     "output_type": "display_data"
    },
    {
     "data": {
      "text/html": [
       "Run data is saved locally in <code>/Users/mateogiraz/Documents/MountainCarContinuous (1)/three-musketeers/wandb/run-20241214_100516-md0syooo</code>"
      ],
      "text/plain": [
       "<IPython.core.display.HTML object>"
      ]
     },
     "metadata": {},
     "output_type": "display_data"
    },
    {
     "data": {
      "text/html": [
       "Syncing run <strong><a href='https://wandb.ai/mateogiraz27-ort/three-musketeers/runs/md0syooo' target=\"_blank\">solar-sweep-32</a></strong> to <a href='https://wandb.ai/mateogiraz27-ort/three-musketeers' target=\"_blank\">Weights & Biases</a> (<a href='https://wandb.me/developer-guide' target=\"_blank\">docs</a>)<br>Sweep page: <a href='https://wandb.ai/mateogiraz27-ort/three-musketeers/sweeps/txk212na' target=\"_blank\">https://wandb.ai/mateogiraz27-ort/three-musketeers/sweeps/txk212na</a>"
      ],
      "text/plain": [
       "<IPython.core.display.HTML object>"
      ]
     },
     "metadata": {},
     "output_type": "display_data"
    },
    {
     "data": {
      "text/html": [
       " View project at <a href='https://wandb.ai/mateogiraz27-ort/three-musketeers' target=\"_blank\">https://wandb.ai/mateogiraz27-ort/three-musketeers</a>"
      ],
      "text/plain": [
       "<IPython.core.display.HTML object>"
      ]
     },
     "metadata": {},
     "output_type": "display_data"
    },
    {
     "data": {
      "text/html": [
       " View sweep at <a href='https://wandb.ai/mateogiraz27-ort/three-musketeers/sweeps/txk212na' target=\"_blank\">https://wandb.ai/mateogiraz27-ort/three-musketeers/sweeps/txk212na</a>"
      ],
      "text/plain": [
       "<IPython.core.display.HTML object>"
      ]
     },
     "metadata": {},
     "output_type": "display_data"
    },
    {
     "data": {
      "text/html": [
       " View run at <a href='https://wandb.ai/mateogiraz27-ort/three-musketeers/runs/md0syooo' target=\"_blank\">https://wandb.ai/mateogiraz27-ort/three-musketeers/runs/md0syooo</a>"
      ],
      "text/plain": [
       "<IPython.core.display.HTML object>"
      ]
     },
     "metadata": {},
     "output_type": "display_data"
    },
    {
     "name": "stderr",
     "output_type": "stream",
     "text": [
      "100%|██████████| 100/100 [01:02<00:00,  1.60it/s]\n"
     ]
    },
    {
     "data": {
      "text/html": [],
      "text/plain": [
       "<IPython.core.display.HTML object>"
      ]
     },
     "metadata": {},
     "output_type": "display_data"
    },
    {
     "data": {
      "text/html": [
       "<br>    <style><br>        .wandb-row {<br>            display: flex;<br>            flex-direction: row;<br>            flex-wrap: wrap;<br>            justify-content: flex-start;<br>            width: 100%;<br>        }<br>        .wandb-col {<br>            display: flex;<br>            flex-direction: column;<br>            flex-basis: 100%;<br>            flex: 1;<br>            padding: 10px;<br>        }<br>    </style><br><div class=\"wandb-row\"><div class=\"wandb-col\"><h3>Run history:</h3><br/><table class=\"wandb\"><tr><td>agent_wins</td><td>▁</td></tr><tr><td>pete_wins</td><td>▁</td></tr><tr><td>win_rate</td><td>▁</td></tr></table><br/></div><div class=\"wandb-col\"><h3>Run summary:</h3><br/><table class=\"wandb\"><tr><td>agent_wins</td><td>92</td></tr><tr><td>pete_wins</td><td>8</td></tr><tr><td>win_rate</td><td>0.92</td></tr></table><br/></div></div>"
      ],
      "text/plain": [
       "<IPython.core.display.HTML object>"
      ]
     },
     "metadata": {},
     "output_type": "display_data"
    },
    {
     "data": {
      "text/html": [
       " View run <strong style=\"color:#cdcd00\">solar-sweep-32</strong> at: <a href='https://wandb.ai/mateogiraz27-ort/three-musketeers/runs/md0syooo' target=\"_blank\">https://wandb.ai/mateogiraz27-ort/three-musketeers/runs/md0syooo</a><br> View project at: <a href='https://wandb.ai/mateogiraz27-ort/three-musketeers' target=\"_blank\">https://wandb.ai/mateogiraz27-ort/three-musketeers</a><br>Synced 5 W&B file(s), 0 media file(s), 0 artifact file(s) and 0 other file(s)"
      ],
      "text/plain": [
       "<IPython.core.display.HTML object>"
      ]
     },
     "metadata": {},
     "output_type": "display_data"
    },
    {
     "data": {
      "text/html": [
       "Find logs at: <code>./wandb/run-20241214_100516-md0syooo/logs</code>"
      ],
      "text/plain": [
       "<IPython.core.display.HTML object>"
      ]
     },
     "metadata": {},
     "output_type": "display_data"
    },
    {
     "name": "stderr",
     "output_type": "stream",
     "text": [
      "\u001b[34m\u001b[1mwandb\u001b[0m: Agent Starting Run: iajdtjhm with config:\n",
      "\u001b[34m\u001b[1mwandb\u001b[0m: \talignment_weight: 17.78101334207957\n",
      "\u001b[34m\u001b[1mwandb\u001b[0m: \tmax_depth: 4\n",
      "\u001b[34m\u001b[1mwandb\u001b[0m: \tmoves_weight: 8.421549958784455\n",
      "\u001b[34m\u001b[1mwandb\u001b[0m: \ttrap_weight: 22.396698450502804\n"
     ]
    },
    {
     "data": {
      "text/html": [
       "Tracking run with wandb version 0.19.1"
      ],
      "text/plain": [
       "<IPython.core.display.HTML object>"
      ]
     },
     "metadata": {},
     "output_type": "display_data"
    },
    {
     "data": {
      "text/html": [
       "Run data is saved locally in <code>/Users/mateogiraz/Documents/MountainCarContinuous (1)/three-musketeers/wandb/run-20241214_100625-iajdtjhm</code>"
      ],
      "text/plain": [
       "<IPython.core.display.HTML object>"
      ]
     },
     "metadata": {},
     "output_type": "display_data"
    },
    {
     "data": {
      "text/html": [
       "Syncing run <strong><a href='https://wandb.ai/mateogiraz27-ort/three-musketeers/runs/iajdtjhm' target=\"_blank\">warm-sweep-33</a></strong> to <a href='https://wandb.ai/mateogiraz27-ort/three-musketeers' target=\"_blank\">Weights & Biases</a> (<a href='https://wandb.me/developer-guide' target=\"_blank\">docs</a>)<br>Sweep page: <a href='https://wandb.ai/mateogiraz27-ort/three-musketeers/sweeps/txk212na' target=\"_blank\">https://wandb.ai/mateogiraz27-ort/three-musketeers/sweeps/txk212na</a>"
      ],
      "text/plain": [
       "<IPython.core.display.HTML object>"
      ]
     },
     "metadata": {},
     "output_type": "display_data"
    },
    {
     "data": {
      "text/html": [
       " View project at <a href='https://wandb.ai/mateogiraz27-ort/three-musketeers' target=\"_blank\">https://wandb.ai/mateogiraz27-ort/three-musketeers</a>"
      ],
      "text/plain": [
       "<IPython.core.display.HTML object>"
      ]
     },
     "metadata": {},
     "output_type": "display_data"
    },
    {
     "data": {
      "text/html": [
       " View sweep at <a href='https://wandb.ai/mateogiraz27-ort/three-musketeers/sweeps/txk212na' target=\"_blank\">https://wandb.ai/mateogiraz27-ort/three-musketeers/sweeps/txk212na</a>"
      ],
      "text/plain": [
       "<IPython.core.display.HTML object>"
      ]
     },
     "metadata": {},
     "output_type": "display_data"
    },
    {
     "data": {
      "text/html": [
       " View run at <a href='https://wandb.ai/mateogiraz27-ort/three-musketeers/runs/iajdtjhm' target=\"_blank\">https://wandb.ai/mateogiraz27-ort/three-musketeers/runs/iajdtjhm</a>"
      ],
      "text/plain": [
       "<IPython.core.display.HTML object>"
      ]
     },
     "metadata": {},
     "output_type": "display_data"
    },
    {
     "name": "stderr",
     "output_type": "stream",
     "text": [
      "100%|██████████| 100/100 [00:39<00:00,  2.56it/s]\n"
     ]
    },
    {
     "data": {
      "text/html": [],
      "text/plain": [
       "<IPython.core.display.HTML object>"
      ]
     },
     "metadata": {},
     "output_type": "display_data"
    },
    {
     "data": {
      "text/html": [
       "<br>    <style><br>        .wandb-row {<br>            display: flex;<br>            flex-direction: row;<br>            flex-wrap: wrap;<br>            justify-content: flex-start;<br>            width: 100%;<br>        }<br>        .wandb-col {<br>            display: flex;<br>            flex-direction: column;<br>            flex-basis: 100%;<br>            flex: 1;<br>            padding: 10px;<br>        }<br>    </style><br><div class=\"wandb-row\"><div class=\"wandb-col\"><h3>Run history:</h3><br/><table class=\"wandb\"><tr><td>agent_wins</td><td>▁</td></tr><tr><td>pete_wins</td><td>▁</td></tr><tr><td>win_rate</td><td>▁</td></tr></table><br/></div><div class=\"wandb-col\"><h3>Run summary:</h3><br/><table class=\"wandb\"><tr><td>agent_wins</td><td>89</td></tr><tr><td>pete_wins</td><td>11</td></tr><tr><td>win_rate</td><td>0.89</td></tr></table><br/></div></div>"
      ],
      "text/plain": [
       "<IPython.core.display.HTML object>"
      ]
     },
     "metadata": {},
     "output_type": "display_data"
    },
    {
     "data": {
      "text/html": [
       " View run <strong style=\"color:#cdcd00\">warm-sweep-33</strong> at: <a href='https://wandb.ai/mateogiraz27-ort/three-musketeers/runs/iajdtjhm' target=\"_blank\">https://wandb.ai/mateogiraz27-ort/three-musketeers/runs/iajdtjhm</a><br> View project at: <a href='https://wandb.ai/mateogiraz27-ort/three-musketeers' target=\"_blank\">https://wandb.ai/mateogiraz27-ort/three-musketeers</a><br>Synced 5 W&B file(s), 0 media file(s), 0 artifact file(s) and 0 other file(s)"
      ],
      "text/plain": [
       "<IPython.core.display.HTML object>"
      ]
     },
     "metadata": {},
     "output_type": "display_data"
    },
    {
     "data": {
      "text/html": [
       "Find logs at: <code>./wandb/run-20241214_100625-iajdtjhm/logs</code>"
      ],
      "text/plain": [
       "<IPython.core.display.HTML object>"
      ]
     },
     "metadata": {},
     "output_type": "display_data"
    },
    {
     "name": "stderr",
     "output_type": "stream",
     "text": [
      "\u001b[34m\u001b[1mwandb\u001b[0m: Sweep Agent: Waiting for job.\n",
      "\u001b[34m\u001b[1mwandb\u001b[0m: Job received.\n",
      "\u001b[34m\u001b[1mwandb\u001b[0m: Agent Starting Run: an7z6llg with config:\n",
      "\u001b[34m\u001b[1mwandb\u001b[0m: \talignment_weight: 16.219510071854444\n",
      "\u001b[34m\u001b[1mwandb\u001b[0m: \tmax_depth: 2\n",
      "\u001b[34m\u001b[1mwandb\u001b[0m: \tmoves_weight: 10.838426142462634\n",
      "\u001b[34m\u001b[1mwandb\u001b[0m: \ttrap_weight: 29.986509578223316\n"
     ]
    },
    {
     "data": {
      "text/html": [
       "Tracking run with wandb version 0.19.1"
      ],
      "text/plain": [
       "<IPython.core.display.HTML object>"
      ]
     },
     "metadata": {},
     "output_type": "display_data"
    },
    {
     "data": {
      "text/html": [
       "Run data is saved locally in <code>/Users/mateogiraz/Documents/MountainCarContinuous (1)/three-musketeers/wandb/run-20241214_100717-an7z6llg</code>"
      ],
      "text/plain": [
       "<IPython.core.display.HTML object>"
      ]
     },
     "metadata": {},
     "output_type": "display_data"
    },
    {
     "data": {
      "text/html": [
       "Syncing run <strong><a href='https://wandb.ai/mateogiraz27-ort/three-musketeers/runs/an7z6llg' target=\"_blank\">smooth-sweep-34</a></strong> to <a href='https://wandb.ai/mateogiraz27-ort/three-musketeers' target=\"_blank\">Weights & Biases</a> (<a href='https://wandb.me/developer-guide' target=\"_blank\">docs</a>)<br>Sweep page: <a href='https://wandb.ai/mateogiraz27-ort/three-musketeers/sweeps/txk212na' target=\"_blank\">https://wandb.ai/mateogiraz27-ort/three-musketeers/sweeps/txk212na</a>"
      ],
      "text/plain": [
       "<IPython.core.display.HTML object>"
      ]
     },
     "metadata": {},
     "output_type": "display_data"
    },
    {
     "data": {
      "text/html": [
       " View project at <a href='https://wandb.ai/mateogiraz27-ort/three-musketeers' target=\"_blank\">https://wandb.ai/mateogiraz27-ort/three-musketeers</a>"
      ],
      "text/plain": [
       "<IPython.core.display.HTML object>"
      ]
     },
     "metadata": {},
     "output_type": "display_data"
    },
    {
     "data": {
      "text/html": [
       " View sweep at <a href='https://wandb.ai/mateogiraz27-ort/three-musketeers/sweeps/txk212na' target=\"_blank\">https://wandb.ai/mateogiraz27-ort/three-musketeers/sweeps/txk212na</a>"
      ],
      "text/plain": [
       "<IPython.core.display.HTML object>"
      ]
     },
     "metadata": {},
     "output_type": "display_data"
    },
    {
     "data": {
      "text/html": [
       " View run at <a href='https://wandb.ai/mateogiraz27-ort/three-musketeers/runs/an7z6llg' target=\"_blank\">https://wandb.ai/mateogiraz27-ort/three-musketeers/runs/an7z6llg</a>"
      ],
      "text/plain": [
       "<IPython.core.display.HTML object>"
      ]
     },
     "metadata": {},
     "output_type": "display_data"
    },
    {
     "name": "stderr",
     "output_type": "stream",
     "text": [
      "100%|██████████| 100/100 [00:24<00:00,  4.13it/s]\n"
     ]
    },
    {
     "data": {
      "text/html": [],
      "text/plain": [
       "<IPython.core.display.HTML object>"
      ]
     },
     "metadata": {},
     "output_type": "display_data"
    },
    {
     "data": {
      "text/html": [
       "<br>    <style><br>        .wandb-row {<br>            display: flex;<br>            flex-direction: row;<br>            flex-wrap: wrap;<br>            justify-content: flex-start;<br>            width: 100%;<br>        }<br>        .wandb-col {<br>            display: flex;<br>            flex-direction: column;<br>            flex-basis: 100%;<br>            flex: 1;<br>            padding: 10px;<br>        }<br>    </style><br><div class=\"wandb-row\"><div class=\"wandb-col\"><h3>Run history:</h3><br/><table class=\"wandb\"><tr><td>agent_wins</td><td>▁</td></tr><tr><td>pete_wins</td><td>▁</td></tr><tr><td>win_rate</td><td>▁</td></tr></table><br/></div><div class=\"wandb-col\"><h3>Run summary:</h3><br/><table class=\"wandb\"><tr><td>agent_wins</td><td>91</td></tr><tr><td>pete_wins</td><td>9</td></tr><tr><td>win_rate</td><td>0.91</td></tr></table><br/></div></div>"
      ],
      "text/plain": [
       "<IPython.core.display.HTML object>"
      ]
     },
     "metadata": {},
     "output_type": "display_data"
    },
    {
     "data": {
      "text/html": [
       " View run <strong style=\"color:#cdcd00\">smooth-sweep-34</strong> at: <a href='https://wandb.ai/mateogiraz27-ort/three-musketeers/runs/an7z6llg' target=\"_blank\">https://wandb.ai/mateogiraz27-ort/three-musketeers/runs/an7z6llg</a><br> View project at: <a href='https://wandb.ai/mateogiraz27-ort/three-musketeers' target=\"_blank\">https://wandb.ai/mateogiraz27-ort/three-musketeers</a><br>Synced 5 W&B file(s), 0 media file(s), 0 artifact file(s) and 0 other file(s)"
      ],
      "text/plain": [
       "<IPython.core.display.HTML object>"
      ]
     },
     "metadata": {},
     "output_type": "display_data"
    },
    {
     "data": {
      "text/html": [
       "Find logs at: <code>./wandb/run-20241214_100717-an7z6llg/logs</code>"
      ],
      "text/plain": [
       "<IPython.core.display.HTML object>"
      ]
     },
     "metadata": {},
     "output_type": "display_data"
    },
    {
     "name": "stderr",
     "output_type": "stream",
     "text": [
      "\u001b[34m\u001b[1mwandb\u001b[0m: Agent Starting Run: jdqbpwe4 with config:\n",
      "\u001b[34m\u001b[1mwandb\u001b[0m: \talignment_weight: 15.10877060983295\n",
      "\u001b[34m\u001b[1mwandb\u001b[0m: \tmax_depth: 4\n",
      "\u001b[34m\u001b[1mwandb\u001b[0m: \tmoves_weight: 14.780583183343056\n",
      "\u001b[34m\u001b[1mwandb\u001b[0m: \ttrap_weight: 24.534135961821903\n"
     ]
    },
    {
     "data": {
      "text/html": [
       "Tracking run with wandb version 0.19.1"
      ],
      "text/plain": [
       "<IPython.core.display.HTML object>"
      ]
     },
     "metadata": {},
     "output_type": "display_data"
    },
    {
     "data": {
      "text/html": [
       "Run data is saved locally in <code>/Users/mateogiraz/Documents/MountainCarContinuous (1)/three-musketeers/wandb/run-20241214_100749-jdqbpwe4</code>"
      ],
      "text/plain": [
       "<IPython.core.display.HTML object>"
      ]
     },
     "metadata": {},
     "output_type": "display_data"
    },
    {
     "data": {
      "text/html": [
       "Syncing run <strong><a href='https://wandb.ai/mateogiraz27-ort/three-musketeers/runs/jdqbpwe4' target=\"_blank\">twilight-sweep-35</a></strong> to <a href='https://wandb.ai/mateogiraz27-ort/three-musketeers' target=\"_blank\">Weights & Biases</a> (<a href='https://wandb.me/developer-guide' target=\"_blank\">docs</a>)<br>Sweep page: <a href='https://wandb.ai/mateogiraz27-ort/three-musketeers/sweeps/txk212na' target=\"_blank\">https://wandb.ai/mateogiraz27-ort/three-musketeers/sweeps/txk212na</a>"
      ],
      "text/plain": [
       "<IPython.core.display.HTML object>"
      ]
     },
     "metadata": {},
     "output_type": "display_data"
    },
    {
     "data": {
      "text/html": [
       " View project at <a href='https://wandb.ai/mateogiraz27-ort/three-musketeers' target=\"_blank\">https://wandb.ai/mateogiraz27-ort/three-musketeers</a>"
      ],
      "text/plain": [
       "<IPython.core.display.HTML object>"
      ]
     },
     "metadata": {},
     "output_type": "display_data"
    },
    {
     "data": {
      "text/html": [
       " View sweep at <a href='https://wandb.ai/mateogiraz27-ort/three-musketeers/sweeps/txk212na' target=\"_blank\">https://wandb.ai/mateogiraz27-ort/three-musketeers/sweeps/txk212na</a>"
      ],
      "text/plain": [
       "<IPython.core.display.HTML object>"
      ]
     },
     "metadata": {},
     "output_type": "display_data"
    },
    {
     "data": {
      "text/html": [
       " View run at <a href='https://wandb.ai/mateogiraz27-ort/three-musketeers/runs/jdqbpwe4' target=\"_blank\">https://wandb.ai/mateogiraz27-ort/three-musketeers/runs/jdqbpwe4</a>"
      ],
      "text/plain": [
       "<IPython.core.display.HTML object>"
      ]
     },
     "metadata": {},
     "output_type": "display_data"
    },
    {
     "name": "stderr",
     "output_type": "stream",
     "text": [
      "100%|██████████| 100/100 [00:38<00:00,  2.58it/s]\n"
     ]
    },
    {
     "data": {
      "text/html": [],
      "text/plain": [
       "<IPython.core.display.HTML object>"
      ]
     },
     "metadata": {},
     "output_type": "display_data"
    },
    {
     "data": {
      "text/html": [
       "<br>    <style><br>        .wandb-row {<br>            display: flex;<br>            flex-direction: row;<br>            flex-wrap: wrap;<br>            justify-content: flex-start;<br>            width: 100%;<br>        }<br>        .wandb-col {<br>            display: flex;<br>            flex-direction: column;<br>            flex-basis: 100%;<br>            flex: 1;<br>            padding: 10px;<br>        }<br>    </style><br><div class=\"wandb-row\"><div class=\"wandb-col\"><h3>Run history:</h3><br/><table class=\"wandb\"><tr><td>agent_wins</td><td>▁</td></tr><tr><td>pete_wins</td><td>▁</td></tr><tr><td>win_rate</td><td>▁</td></tr></table><br/></div><div class=\"wandb-col\"><h3>Run summary:</h3><br/><table class=\"wandb\"><tr><td>agent_wins</td><td>84</td></tr><tr><td>pete_wins</td><td>16</td></tr><tr><td>win_rate</td><td>0.84</td></tr></table><br/></div></div>"
      ],
      "text/plain": [
       "<IPython.core.display.HTML object>"
      ]
     },
     "metadata": {},
     "output_type": "display_data"
    },
    {
     "data": {
      "text/html": [
       " View run <strong style=\"color:#cdcd00\">twilight-sweep-35</strong> at: <a href='https://wandb.ai/mateogiraz27-ort/three-musketeers/runs/jdqbpwe4' target=\"_blank\">https://wandb.ai/mateogiraz27-ort/three-musketeers/runs/jdqbpwe4</a><br> View project at: <a href='https://wandb.ai/mateogiraz27-ort/three-musketeers' target=\"_blank\">https://wandb.ai/mateogiraz27-ort/three-musketeers</a><br>Synced 5 W&B file(s), 0 media file(s), 0 artifact file(s) and 0 other file(s)"
      ],
      "text/plain": [
       "<IPython.core.display.HTML object>"
      ]
     },
     "metadata": {},
     "output_type": "display_data"
    },
    {
     "data": {
      "text/html": [
       "Find logs at: <code>./wandb/run-20241214_100749-jdqbpwe4/logs</code>"
      ],
      "text/plain": [
       "<IPython.core.display.HTML object>"
      ]
     },
     "metadata": {},
     "output_type": "display_data"
    },
    {
     "name": "stderr",
     "output_type": "stream",
     "text": [
      "\u001b[34m\u001b[1mwandb\u001b[0m: Sweep Agent: Waiting for job.\n",
      "\u001b[34m\u001b[1mwandb\u001b[0m: Job received.\n",
      "\u001b[34m\u001b[1mwandb\u001b[0m: Agent Starting Run: aftdcfpj with config:\n",
      "\u001b[34m\u001b[1mwandb\u001b[0m: \talignment_weight: 5.712271449586014\n",
      "\u001b[34m\u001b[1mwandb\u001b[0m: \tmax_depth: 2\n",
      "\u001b[34m\u001b[1mwandb\u001b[0m: \tmoves_weight: 13.321416062825696\n",
      "\u001b[34m\u001b[1mwandb\u001b[0m: \ttrap_weight: 24.637745354328946\n"
     ]
    },
    {
     "data": {
      "text/html": [
       "Tracking run with wandb version 0.19.1"
      ],
      "text/plain": [
       "<IPython.core.display.HTML object>"
      ]
     },
     "metadata": {},
     "output_type": "display_data"
    },
    {
     "data": {
      "text/html": [
       "Run data is saved locally in <code>/Users/mateogiraz/Documents/MountainCarContinuous (1)/three-musketeers/wandb/run-20241214_100842-aftdcfpj</code>"
      ],
      "text/plain": [
       "<IPython.core.display.HTML object>"
      ]
     },
     "metadata": {},
     "output_type": "display_data"
    },
    {
     "data": {
      "text/html": [
       "Syncing run <strong><a href='https://wandb.ai/mateogiraz27-ort/three-musketeers/runs/aftdcfpj' target=\"_blank\">mild-sweep-36</a></strong> to <a href='https://wandb.ai/mateogiraz27-ort/three-musketeers' target=\"_blank\">Weights & Biases</a> (<a href='https://wandb.me/developer-guide' target=\"_blank\">docs</a>)<br>Sweep page: <a href='https://wandb.ai/mateogiraz27-ort/three-musketeers/sweeps/txk212na' target=\"_blank\">https://wandb.ai/mateogiraz27-ort/three-musketeers/sweeps/txk212na</a>"
      ],
      "text/plain": [
       "<IPython.core.display.HTML object>"
      ]
     },
     "metadata": {},
     "output_type": "display_data"
    },
    {
     "data": {
      "text/html": [
       " View project at <a href='https://wandb.ai/mateogiraz27-ort/three-musketeers' target=\"_blank\">https://wandb.ai/mateogiraz27-ort/three-musketeers</a>"
      ],
      "text/plain": [
       "<IPython.core.display.HTML object>"
      ]
     },
     "metadata": {},
     "output_type": "display_data"
    },
    {
     "data": {
      "text/html": [
       " View sweep at <a href='https://wandb.ai/mateogiraz27-ort/three-musketeers/sweeps/txk212na' target=\"_blank\">https://wandb.ai/mateogiraz27-ort/three-musketeers/sweeps/txk212na</a>"
      ],
      "text/plain": [
       "<IPython.core.display.HTML object>"
      ]
     },
     "metadata": {},
     "output_type": "display_data"
    },
    {
     "data": {
      "text/html": [
       " View run at <a href='https://wandb.ai/mateogiraz27-ort/three-musketeers/runs/aftdcfpj' target=\"_blank\">https://wandb.ai/mateogiraz27-ort/three-musketeers/runs/aftdcfpj</a>"
      ],
      "text/plain": [
       "<IPython.core.display.HTML object>"
      ]
     },
     "metadata": {},
     "output_type": "display_data"
    },
    {
     "name": "stderr",
     "output_type": "stream",
     "text": [
      "100%|██████████| 100/100 [00:17<00:00,  5.70it/s]\n"
     ]
    },
    {
     "data": {
      "text/html": [],
      "text/plain": [
       "<IPython.core.display.HTML object>"
      ]
     },
     "metadata": {},
     "output_type": "display_data"
    },
    {
     "data": {
      "text/html": [
       "<br>    <style><br>        .wandb-row {<br>            display: flex;<br>            flex-direction: row;<br>            flex-wrap: wrap;<br>            justify-content: flex-start;<br>            width: 100%;<br>        }<br>        .wandb-col {<br>            display: flex;<br>            flex-direction: column;<br>            flex-basis: 100%;<br>            flex: 1;<br>            padding: 10px;<br>        }<br>    </style><br><div class=\"wandb-row\"><div class=\"wandb-col\"><h3>Run history:</h3><br/><table class=\"wandb\"><tr><td>agent_wins</td><td>▁</td></tr><tr><td>pete_wins</td><td>▁</td></tr><tr><td>win_rate</td><td>▁</td></tr></table><br/></div><div class=\"wandb-col\"><h3>Run summary:</h3><br/><table class=\"wandb\"><tr><td>agent_wins</td><td>64</td></tr><tr><td>pete_wins</td><td>36</td></tr><tr><td>win_rate</td><td>0.64</td></tr></table><br/></div></div>"
      ],
      "text/plain": [
       "<IPython.core.display.HTML object>"
      ]
     },
     "metadata": {},
     "output_type": "display_data"
    },
    {
     "data": {
      "text/html": [
       " View run <strong style=\"color:#cdcd00\">mild-sweep-36</strong> at: <a href='https://wandb.ai/mateogiraz27-ort/three-musketeers/runs/aftdcfpj' target=\"_blank\">https://wandb.ai/mateogiraz27-ort/three-musketeers/runs/aftdcfpj</a><br> View project at: <a href='https://wandb.ai/mateogiraz27-ort/three-musketeers' target=\"_blank\">https://wandb.ai/mateogiraz27-ort/three-musketeers</a><br>Synced 5 W&B file(s), 0 media file(s), 0 artifact file(s) and 0 other file(s)"
      ],
      "text/plain": [
       "<IPython.core.display.HTML object>"
      ]
     },
     "metadata": {},
     "output_type": "display_data"
    },
    {
     "data": {
      "text/html": [
       "Find logs at: <code>./wandb/run-20241214_100842-aftdcfpj/logs</code>"
      ],
      "text/plain": [
       "<IPython.core.display.HTML object>"
      ]
     },
     "metadata": {},
     "output_type": "display_data"
    },
    {
     "name": "stderr",
     "output_type": "stream",
     "text": [
      "\u001b[34m\u001b[1mwandb\u001b[0m: Agent Starting Run: 7c59a3p8 with config:\n",
      "\u001b[34m\u001b[1mwandb\u001b[0m: \talignment_weight: 12.172418519850275\n",
      "\u001b[34m\u001b[1mwandb\u001b[0m: \tmax_depth: 5\n",
      "\u001b[34m\u001b[1mwandb\u001b[0m: \tmoves_weight: 7.266914118725259\n",
      "\u001b[34m\u001b[1mwandb\u001b[0m: \ttrap_weight: 23.479502457010145\n"
     ]
    },
    {
     "data": {
      "text/html": [
       "Tracking run with wandb version 0.19.1"
      ],
      "text/plain": [
       "<IPython.core.display.HTML object>"
      ]
     },
     "metadata": {},
     "output_type": "display_data"
    },
    {
     "data": {
      "text/html": [
       "Run data is saved locally in <code>/Users/mateogiraz/Documents/MountainCarContinuous (1)/three-musketeers/wandb/run-20241214_100904-7c59a3p8</code>"
      ],
      "text/plain": [
       "<IPython.core.display.HTML object>"
      ]
     },
     "metadata": {},
     "output_type": "display_data"
    },
    {
     "data": {
      "text/html": [
       "Syncing run <strong><a href='https://wandb.ai/mateogiraz27-ort/three-musketeers/runs/7c59a3p8' target=\"_blank\">atomic-sweep-37</a></strong> to <a href='https://wandb.ai/mateogiraz27-ort/three-musketeers' target=\"_blank\">Weights & Biases</a> (<a href='https://wandb.me/developer-guide' target=\"_blank\">docs</a>)<br>Sweep page: <a href='https://wandb.ai/mateogiraz27-ort/three-musketeers/sweeps/txk212na' target=\"_blank\">https://wandb.ai/mateogiraz27-ort/three-musketeers/sweeps/txk212na</a>"
      ],
      "text/plain": [
       "<IPython.core.display.HTML object>"
      ]
     },
     "metadata": {},
     "output_type": "display_data"
    },
    {
     "data": {
      "text/html": [
       " View project at <a href='https://wandb.ai/mateogiraz27-ort/three-musketeers' target=\"_blank\">https://wandb.ai/mateogiraz27-ort/three-musketeers</a>"
      ],
      "text/plain": [
       "<IPython.core.display.HTML object>"
      ]
     },
     "metadata": {},
     "output_type": "display_data"
    },
    {
     "data": {
      "text/html": [
       " View sweep at <a href='https://wandb.ai/mateogiraz27-ort/three-musketeers/sweeps/txk212na' target=\"_blank\">https://wandb.ai/mateogiraz27-ort/three-musketeers/sweeps/txk212na</a>"
      ],
      "text/plain": [
       "<IPython.core.display.HTML object>"
      ]
     },
     "metadata": {},
     "output_type": "display_data"
    },
    {
     "data": {
      "text/html": [
       " View run at <a href='https://wandb.ai/mateogiraz27-ort/three-musketeers/runs/7c59a3p8' target=\"_blank\">https://wandb.ai/mateogiraz27-ort/three-musketeers/runs/7c59a3p8</a>"
      ],
      "text/plain": [
       "<IPython.core.display.HTML object>"
      ]
     },
     "metadata": {},
     "output_type": "display_data"
    },
    {
     "name": "stderr",
     "output_type": "stream",
     "text": [
      "100%|██████████| 100/100 [01:04<00:00,  1.54it/s]\n"
     ]
    },
    {
     "data": {
      "text/html": [],
      "text/plain": [
       "<IPython.core.display.HTML object>"
      ]
     },
     "metadata": {},
     "output_type": "display_data"
    },
    {
     "data": {
      "text/html": [
       "<br>    <style><br>        .wandb-row {<br>            display: flex;<br>            flex-direction: row;<br>            flex-wrap: wrap;<br>            justify-content: flex-start;<br>            width: 100%;<br>        }<br>        .wandb-col {<br>            display: flex;<br>            flex-direction: column;<br>            flex-basis: 100%;<br>            flex: 1;<br>            padding: 10px;<br>        }<br>    </style><br><div class=\"wandb-row\"><div class=\"wandb-col\"><h3>Run history:</h3><br/><table class=\"wandb\"><tr><td>agent_wins</td><td>▁</td></tr><tr><td>pete_wins</td><td>▁</td></tr><tr><td>win_rate</td><td>▁</td></tr></table><br/></div><div class=\"wandb-col\"><h3>Run summary:</h3><br/><table class=\"wandb\"><tr><td>agent_wins</td><td>96</td></tr><tr><td>pete_wins</td><td>4</td></tr><tr><td>win_rate</td><td>0.96</td></tr></table><br/></div></div>"
      ],
      "text/plain": [
       "<IPython.core.display.HTML object>"
      ]
     },
     "metadata": {},
     "output_type": "display_data"
    },
    {
     "data": {
      "text/html": [
       " View run <strong style=\"color:#cdcd00\">atomic-sweep-37</strong> at: <a href='https://wandb.ai/mateogiraz27-ort/three-musketeers/runs/7c59a3p8' target=\"_blank\">https://wandb.ai/mateogiraz27-ort/three-musketeers/runs/7c59a3p8</a><br> View project at: <a href='https://wandb.ai/mateogiraz27-ort/three-musketeers' target=\"_blank\">https://wandb.ai/mateogiraz27-ort/three-musketeers</a><br>Synced 5 W&B file(s), 0 media file(s), 0 artifact file(s) and 0 other file(s)"
      ],
      "text/plain": [
       "<IPython.core.display.HTML object>"
      ]
     },
     "metadata": {},
     "output_type": "display_data"
    },
    {
     "data": {
      "text/html": [
       "Find logs at: <code>./wandb/run-20241214_100904-7c59a3p8/logs</code>"
      ],
      "text/plain": [
       "<IPython.core.display.HTML object>"
      ]
     },
     "metadata": {},
     "output_type": "display_data"
    },
    {
     "name": "stderr",
     "output_type": "stream",
     "text": [
      "\u001b[34m\u001b[1mwandb\u001b[0m: Sweep Agent: Waiting for job.\n",
      "\u001b[34m\u001b[1mwandb\u001b[0m: Job received.\n",
      "\u001b[34m\u001b[1mwandb\u001b[0m: Agent Starting Run: gmmxefrj with config:\n",
      "\u001b[34m\u001b[1mwandb\u001b[0m: \talignment_weight: 6.7334882871606005\n",
      "\u001b[34m\u001b[1mwandb\u001b[0m: \tmax_depth: 5\n",
      "\u001b[34m\u001b[1mwandb\u001b[0m: \tmoves_weight: 9.793872895670484\n",
      "\u001b[34m\u001b[1mwandb\u001b[0m: \ttrap_weight: 28.043422252251464\n"
     ]
    },
    {
     "data": {
      "text/html": [
       "Tracking run with wandb version 0.19.1"
      ],
      "text/plain": [
       "<IPython.core.display.HTML object>"
      ]
     },
     "metadata": {},
     "output_type": "display_data"
    },
    {
     "data": {
      "text/html": [
       "Run data is saved locally in <code>/Users/mateogiraz/Documents/MountainCarContinuous (1)/three-musketeers/wandb/run-20241214_101023-gmmxefrj</code>"
      ],
      "text/plain": [
       "<IPython.core.display.HTML object>"
      ]
     },
     "metadata": {},
     "output_type": "display_data"
    },
    {
     "data": {
      "text/html": [
       "Syncing run <strong><a href='https://wandb.ai/mateogiraz27-ort/three-musketeers/runs/gmmxefrj' target=\"_blank\">rare-sweep-38</a></strong> to <a href='https://wandb.ai/mateogiraz27-ort/three-musketeers' target=\"_blank\">Weights & Biases</a> (<a href='https://wandb.me/developer-guide' target=\"_blank\">docs</a>)<br>Sweep page: <a href='https://wandb.ai/mateogiraz27-ort/three-musketeers/sweeps/txk212na' target=\"_blank\">https://wandb.ai/mateogiraz27-ort/three-musketeers/sweeps/txk212na</a>"
      ],
      "text/plain": [
       "<IPython.core.display.HTML object>"
      ]
     },
     "metadata": {},
     "output_type": "display_data"
    },
    {
     "data": {
      "text/html": [
       " View project at <a href='https://wandb.ai/mateogiraz27-ort/three-musketeers' target=\"_blank\">https://wandb.ai/mateogiraz27-ort/three-musketeers</a>"
      ],
      "text/plain": [
       "<IPython.core.display.HTML object>"
      ]
     },
     "metadata": {},
     "output_type": "display_data"
    },
    {
     "data": {
      "text/html": [
       " View sweep at <a href='https://wandb.ai/mateogiraz27-ort/three-musketeers/sweeps/txk212na' target=\"_blank\">https://wandb.ai/mateogiraz27-ort/three-musketeers/sweeps/txk212na</a>"
      ],
      "text/plain": [
       "<IPython.core.display.HTML object>"
      ]
     },
     "metadata": {},
     "output_type": "display_data"
    },
    {
     "data": {
      "text/html": [
       " View run at <a href='https://wandb.ai/mateogiraz27-ort/three-musketeers/runs/gmmxefrj' target=\"_blank\">https://wandb.ai/mateogiraz27-ort/three-musketeers/runs/gmmxefrj</a>"
      ],
      "text/plain": [
       "<IPython.core.display.HTML object>"
      ]
     },
     "metadata": {},
     "output_type": "display_data"
    },
    {
     "name": "stderr",
     "output_type": "stream",
     "text": [
      "100%|██████████| 100/100 [01:06<00:00,  1.49it/s]\n"
     ]
    },
    {
     "data": {
      "text/html": [],
      "text/plain": [
       "<IPython.core.display.HTML object>"
      ]
     },
     "metadata": {},
     "output_type": "display_data"
    },
    {
     "data": {
      "text/html": [
       "<br>    <style><br>        .wandb-row {<br>            display: flex;<br>            flex-direction: row;<br>            flex-wrap: wrap;<br>            justify-content: flex-start;<br>            width: 100%;<br>        }<br>        .wandb-col {<br>            display: flex;<br>            flex-direction: column;<br>            flex-basis: 100%;<br>            flex: 1;<br>            padding: 10px;<br>        }<br>    </style><br><div class=\"wandb-row\"><div class=\"wandb-col\"><h3>Run history:</h3><br/><table class=\"wandb\"><tr><td>agent_wins</td><td>▁</td></tr><tr><td>pete_wins</td><td>▁</td></tr><tr><td>win_rate</td><td>▁</td></tr></table><br/></div><div class=\"wandb-col\"><h3>Run summary:</h3><br/><table class=\"wandb\"><tr><td>agent_wins</td><td>87</td></tr><tr><td>pete_wins</td><td>13</td></tr><tr><td>win_rate</td><td>0.87</td></tr></table><br/></div></div>"
      ],
      "text/plain": [
       "<IPython.core.display.HTML object>"
      ]
     },
     "metadata": {},
     "output_type": "display_data"
    },
    {
     "data": {
      "text/html": [
       " View run <strong style=\"color:#cdcd00\">rare-sweep-38</strong> at: <a href='https://wandb.ai/mateogiraz27-ort/three-musketeers/runs/gmmxefrj' target=\"_blank\">https://wandb.ai/mateogiraz27-ort/three-musketeers/runs/gmmxefrj</a><br> View project at: <a href='https://wandb.ai/mateogiraz27-ort/three-musketeers' target=\"_blank\">https://wandb.ai/mateogiraz27-ort/three-musketeers</a><br>Synced 5 W&B file(s), 0 media file(s), 0 artifact file(s) and 0 other file(s)"
      ],
      "text/plain": [
       "<IPython.core.display.HTML object>"
      ]
     },
     "metadata": {},
     "output_type": "display_data"
    },
    {
     "data": {
      "text/html": [
       "Find logs at: <code>./wandb/run-20241214_101023-gmmxefrj/logs</code>"
      ],
      "text/plain": [
       "<IPython.core.display.HTML object>"
      ]
     },
     "metadata": {},
     "output_type": "display_data"
    },
    {
     "name": "stderr",
     "output_type": "stream",
     "text": [
      "\u001b[34m\u001b[1mwandb\u001b[0m: Agent Starting Run: o1r62xv5 with config:\n",
      "\u001b[34m\u001b[1mwandb\u001b[0m: \talignment_weight: 14.306933829709578\n",
      "\u001b[34m\u001b[1mwandb\u001b[0m: \tmax_depth: 2\n",
      "\u001b[34m\u001b[1mwandb\u001b[0m: \tmoves_weight: 13.122624705960153\n",
      "\u001b[34m\u001b[1mwandb\u001b[0m: \ttrap_weight: 28.427181096008887\n"
     ]
    },
    {
     "data": {
      "text/html": [
       "Tracking run with wandb version 0.19.1"
      ],
      "text/plain": [
       "<IPython.core.display.HTML object>"
      ]
     },
     "metadata": {},
     "output_type": "display_data"
    },
    {
     "data": {
      "text/html": [
       "Run data is saved locally in <code>/Users/mateogiraz/Documents/MountainCarContinuous (1)/three-musketeers/wandb/run-20241214_101137-o1r62xv5</code>"
      ],
      "text/plain": [
       "<IPython.core.display.HTML object>"
      ]
     },
     "metadata": {},
     "output_type": "display_data"
    },
    {
     "data": {
      "text/html": [
       "Syncing run <strong><a href='https://wandb.ai/mateogiraz27-ort/three-musketeers/runs/o1r62xv5' target=\"_blank\">exalted-sweep-39</a></strong> to <a href='https://wandb.ai/mateogiraz27-ort/three-musketeers' target=\"_blank\">Weights & Biases</a> (<a href='https://wandb.me/developer-guide' target=\"_blank\">docs</a>)<br>Sweep page: <a href='https://wandb.ai/mateogiraz27-ort/three-musketeers/sweeps/txk212na' target=\"_blank\">https://wandb.ai/mateogiraz27-ort/three-musketeers/sweeps/txk212na</a>"
      ],
      "text/plain": [
       "<IPython.core.display.HTML object>"
      ]
     },
     "metadata": {},
     "output_type": "display_data"
    },
    {
     "data": {
      "text/html": [
       " View project at <a href='https://wandb.ai/mateogiraz27-ort/three-musketeers' target=\"_blank\">https://wandb.ai/mateogiraz27-ort/three-musketeers</a>"
      ],
      "text/plain": [
       "<IPython.core.display.HTML object>"
      ]
     },
     "metadata": {},
     "output_type": "display_data"
    },
    {
     "data": {
      "text/html": [
       " View sweep at <a href='https://wandb.ai/mateogiraz27-ort/three-musketeers/sweeps/txk212na' target=\"_blank\">https://wandb.ai/mateogiraz27-ort/three-musketeers/sweeps/txk212na</a>"
      ],
      "text/plain": [
       "<IPython.core.display.HTML object>"
      ]
     },
     "metadata": {},
     "output_type": "display_data"
    },
    {
     "data": {
      "text/html": [
       " View run at <a href='https://wandb.ai/mateogiraz27-ort/three-musketeers/runs/o1r62xv5' target=\"_blank\">https://wandb.ai/mateogiraz27-ort/three-musketeers/runs/o1r62xv5</a>"
      ],
      "text/plain": [
       "<IPython.core.display.HTML object>"
      ]
     },
     "metadata": {},
     "output_type": "display_data"
    },
    {
     "name": "stderr",
     "output_type": "stream",
     "text": [
      "100%|██████████| 100/100 [00:16<00:00,  5.90it/s]\n"
     ]
    },
    {
     "data": {
      "text/html": [],
      "text/plain": [
       "<IPython.core.display.HTML object>"
      ]
     },
     "metadata": {},
     "output_type": "display_data"
    },
    {
     "data": {
      "text/html": [
       "<br>    <style><br>        .wandb-row {<br>            display: flex;<br>            flex-direction: row;<br>            flex-wrap: wrap;<br>            justify-content: flex-start;<br>            width: 100%;<br>        }<br>        .wandb-col {<br>            display: flex;<br>            flex-direction: column;<br>            flex-basis: 100%;<br>            flex: 1;<br>            padding: 10px;<br>        }<br>    </style><br><div class=\"wandb-row\"><div class=\"wandb-col\"><h3>Run history:</h3><br/><table class=\"wandb\"><tr><td>agent_wins</td><td>▁</td></tr><tr><td>pete_wins</td><td>▁</td></tr><tr><td>win_rate</td><td>▁</td></tr></table><br/></div><div class=\"wandb-col\"><h3>Run summary:</h3><br/><table class=\"wandb\"><tr><td>agent_wins</td><td>76</td></tr><tr><td>pete_wins</td><td>24</td></tr><tr><td>win_rate</td><td>0.76</td></tr></table><br/></div></div>"
      ],
      "text/plain": [
       "<IPython.core.display.HTML object>"
      ]
     },
     "metadata": {},
     "output_type": "display_data"
    },
    {
     "data": {
      "text/html": [
       " View run <strong style=\"color:#cdcd00\">exalted-sweep-39</strong> at: <a href='https://wandb.ai/mateogiraz27-ort/three-musketeers/runs/o1r62xv5' target=\"_blank\">https://wandb.ai/mateogiraz27-ort/three-musketeers/runs/o1r62xv5</a><br> View project at: <a href='https://wandb.ai/mateogiraz27-ort/three-musketeers' target=\"_blank\">https://wandb.ai/mateogiraz27-ort/three-musketeers</a><br>Synced 5 W&B file(s), 0 media file(s), 0 artifact file(s) and 0 other file(s)"
      ],
      "text/plain": [
       "<IPython.core.display.HTML object>"
      ]
     },
     "metadata": {},
     "output_type": "display_data"
    },
    {
     "data": {
      "text/html": [
       "Find logs at: <code>./wandb/run-20241214_101137-o1r62xv5/logs</code>"
      ],
      "text/plain": [
       "<IPython.core.display.HTML object>"
      ]
     },
     "metadata": {},
     "output_type": "display_data"
    },
    {
     "name": "stderr",
     "output_type": "stream",
     "text": [
      "\u001b[34m\u001b[1mwandb\u001b[0m: Agent Starting Run: mkr76woo with config:\n",
      "\u001b[34m\u001b[1mwandb\u001b[0m: \talignment_weight: 18.71126734049056\n",
      "\u001b[34m\u001b[1mwandb\u001b[0m: \tmax_depth: 4\n",
      "\u001b[34m\u001b[1mwandb\u001b[0m: \tmoves_weight: 10.48211815159485\n",
      "\u001b[34m\u001b[1mwandb\u001b[0m: \ttrap_weight: 25.851392361110463\n"
     ]
    },
    {
     "data": {
      "text/html": [
       "Tracking run with wandb version 0.19.1"
      ],
      "text/plain": [
       "<IPython.core.display.HTML object>"
      ]
     },
     "metadata": {},
     "output_type": "display_data"
    },
    {
     "data": {
      "text/html": [
       "Run data is saved locally in <code>/Users/mateogiraz/Documents/MountainCarContinuous (1)/three-musketeers/wandb/run-20241214_101159-mkr76woo</code>"
      ],
      "text/plain": [
       "<IPython.core.display.HTML object>"
      ]
     },
     "metadata": {},
     "output_type": "display_data"
    },
    {
     "data": {
      "text/html": [
       "Syncing run <strong><a href='https://wandb.ai/mateogiraz27-ort/three-musketeers/runs/mkr76woo' target=\"_blank\">floral-sweep-40</a></strong> to <a href='https://wandb.ai/mateogiraz27-ort/three-musketeers' target=\"_blank\">Weights & Biases</a> (<a href='https://wandb.me/developer-guide' target=\"_blank\">docs</a>)<br>Sweep page: <a href='https://wandb.ai/mateogiraz27-ort/three-musketeers/sweeps/txk212na' target=\"_blank\">https://wandb.ai/mateogiraz27-ort/three-musketeers/sweeps/txk212na</a>"
      ],
      "text/plain": [
       "<IPython.core.display.HTML object>"
      ]
     },
     "metadata": {},
     "output_type": "display_data"
    },
    {
     "data": {
      "text/html": [
       " View project at <a href='https://wandb.ai/mateogiraz27-ort/three-musketeers' target=\"_blank\">https://wandb.ai/mateogiraz27-ort/three-musketeers</a>"
      ],
      "text/plain": [
       "<IPython.core.display.HTML object>"
      ]
     },
     "metadata": {},
     "output_type": "display_data"
    },
    {
     "data": {
      "text/html": [
       " View sweep at <a href='https://wandb.ai/mateogiraz27-ort/three-musketeers/sweeps/txk212na' target=\"_blank\">https://wandb.ai/mateogiraz27-ort/three-musketeers/sweeps/txk212na</a>"
      ],
      "text/plain": [
       "<IPython.core.display.HTML object>"
      ]
     },
     "metadata": {},
     "output_type": "display_data"
    },
    {
     "data": {
      "text/html": [
       " View run at <a href='https://wandb.ai/mateogiraz27-ort/three-musketeers/runs/mkr76woo' target=\"_blank\">https://wandb.ai/mateogiraz27-ort/three-musketeers/runs/mkr76woo</a>"
      ],
      "text/plain": [
       "<IPython.core.display.HTML object>"
      ]
     },
     "metadata": {},
     "output_type": "display_data"
    },
    {
     "name": "stderr",
     "output_type": "stream",
     "text": [
      "100%|██████████| 100/100 [00:43<00:00,  2.29it/s]\n"
     ]
    },
    {
     "data": {
      "text/html": [],
      "text/plain": [
       "<IPython.core.display.HTML object>"
      ]
     },
     "metadata": {},
     "output_type": "display_data"
    },
    {
     "data": {
      "text/html": [
       "<br>    <style><br>        .wandb-row {<br>            display: flex;<br>            flex-direction: row;<br>            flex-wrap: wrap;<br>            justify-content: flex-start;<br>            width: 100%;<br>        }<br>        .wandb-col {<br>            display: flex;<br>            flex-direction: column;<br>            flex-basis: 100%;<br>            flex: 1;<br>            padding: 10px;<br>        }<br>    </style><br><div class=\"wandb-row\"><div class=\"wandb-col\"><h3>Run history:</h3><br/><table class=\"wandb\"><tr><td>agent_wins</td><td>▁</td></tr><tr><td>pete_wins</td><td>▁</td></tr><tr><td>win_rate</td><td>▁</td></tr></table><br/></div><div class=\"wandb-col\"><h3>Run summary:</h3><br/><table class=\"wandb\"><tr><td>agent_wins</td><td>87</td></tr><tr><td>pete_wins</td><td>13</td></tr><tr><td>win_rate</td><td>0.87</td></tr></table><br/></div></div>"
      ],
      "text/plain": [
       "<IPython.core.display.HTML object>"
      ]
     },
     "metadata": {},
     "output_type": "display_data"
    },
    {
     "data": {
      "text/html": [
       " View run <strong style=\"color:#cdcd00\">floral-sweep-40</strong> at: <a href='https://wandb.ai/mateogiraz27-ort/three-musketeers/runs/mkr76woo' target=\"_blank\">https://wandb.ai/mateogiraz27-ort/three-musketeers/runs/mkr76woo</a><br> View project at: <a href='https://wandb.ai/mateogiraz27-ort/three-musketeers' target=\"_blank\">https://wandb.ai/mateogiraz27-ort/three-musketeers</a><br>Synced 5 W&B file(s), 0 media file(s), 0 artifact file(s) and 0 other file(s)"
      ],
      "text/plain": [
       "<IPython.core.display.HTML object>"
      ]
     },
     "metadata": {},
     "output_type": "display_data"
    },
    {
     "data": {
      "text/html": [
       "Find logs at: <code>./wandb/run-20241214_101159-mkr76woo/logs</code>"
      ],
      "text/plain": [
       "<IPython.core.display.HTML object>"
      ]
     },
     "metadata": {},
     "output_type": "display_data"
    },
    {
     "name": "stderr",
     "output_type": "stream",
     "text": [
      "\u001b[34m\u001b[1mwandb\u001b[0m: Sweep Agent: Waiting for job.\n",
      "\u001b[34m\u001b[1mwandb\u001b[0m: Job received.\n",
      "\u001b[34m\u001b[1mwandb\u001b[0m: Agent Starting Run: 0am2jdaq with config:\n",
      "\u001b[34m\u001b[1mwandb\u001b[0m: \talignment_weight: 17.101661955970613\n",
      "\u001b[34m\u001b[1mwandb\u001b[0m: \tmax_depth: 2\n",
      "\u001b[34m\u001b[1mwandb\u001b[0m: \tmoves_weight: 5.4310010765092045\n",
      "\u001b[34m\u001b[1mwandb\u001b[0m: \ttrap_weight: 17.52472310466323\n"
     ]
    },
    {
     "data": {
      "text/html": [
       "Tracking run with wandb version 0.19.1"
      ],
      "text/plain": [
       "<IPython.core.display.HTML object>"
      ]
     },
     "metadata": {},
     "output_type": "display_data"
    },
    {
     "data": {
      "text/html": [
       "Run data is saved locally in <code>/Users/mateogiraz/Documents/MountainCarContinuous (1)/three-musketeers/wandb/run-20241214_101257-0am2jdaq</code>"
      ],
      "text/plain": [
       "<IPython.core.display.HTML object>"
      ]
     },
     "metadata": {},
     "output_type": "display_data"
    },
    {
     "data": {
      "text/html": [
       "Syncing run <strong><a href='https://wandb.ai/mateogiraz27-ort/three-musketeers/runs/0am2jdaq' target=\"_blank\">rose-sweep-41</a></strong> to <a href='https://wandb.ai/mateogiraz27-ort/three-musketeers' target=\"_blank\">Weights & Biases</a> (<a href='https://wandb.me/developer-guide' target=\"_blank\">docs</a>)<br>Sweep page: <a href='https://wandb.ai/mateogiraz27-ort/three-musketeers/sweeps/txk212na' target=\"_blank\">https://wandb.ai/mateogiraz27-ort/three-musketeers/sweeps/txk212na</a>"
      ],
      "text/plain": [
       "<IPython.core.display.HTML object>"
      ]
     },
     "metadata": {},
     "output_type": "display_data"
    },
    {
     "data": {
      "text/html": [
       " View project at <a href='https://wandb.ai/mateogiraz27-ort/three-musketeers' target=\"_blank\">https://wandb.ai/mateogiraz27-ort/three-musketeers</a>"
      ],
      "text/plain": [
       "<IPython.core.display.HTML object>"
      ]
     },
     "metadata": {},
     "output_type": "display_data"
    },
    {
     "data": {
      "text/html": [
       " View sweep at <a href='https://wandb.ai/mateogiraz27-ort/three-musketeers/sweeps/txk212na' target=\"_blank\">https://wandb.ai/mateogiraz27-ort/three-musketeers/sweeps/txk212na</a>"
      ],
      "text/plain": [
       "<IPython.core.display.HTML object>"
      ]
     },
     "metadata": {},
     "output_type": "display_data"
    },
    {
     "data": {
      "text/html": [
       " View run at <a href='https://wandb.ai/mateogiraz27-ort/three-musketeers/runs/0am2jdaq' target=\"_blank\">https://wandb.ai/mateogiraz27-ort/three-musketeers/runs/0am2jdaq</a>"
      ],
      "text/plain": [
       "<IPython.core.display.HTML object>"
      ]
     },
     "metadata": {},
     "output_type": "display_data"
    },
    {
     "name": "stderr",
     "output_type": "stream",
     "text": [
      "100%|██████████| 100/100 [00:24<00:00,  4.04it/s]\n"
     ]
    },
    {
     "data": {
      "text/html": [],
      "text/plain": [
       "<IPython.core.display.HTML object>"
      ]
     },
     "metadata": {},
     "output_type": "display_data"
    },
    {
     "data": {
      "text/html": [
       "<br>    <style><br>        .wandb-row {<br>            display: flex;<br>            flex-direction: row;<br>            flex-wrap: wrap;<br>            justify-content: flex-start;<br>            width: 100%;<br>        }<br>        .wandb-col {<br>            display: flex;<br>            flex-direction: column;<br>            flex-basis: 100%;<br>            flex: 1;<br>            padding: 10px;<br>        }<br>    </style><br><div class=\"wandb-row\"><div class=\"wandb-col\"><h3>Run history:</h3><br/><table class=\"wandb\"><tr><td>agent_wins</td><td>▁</td></tr><tr><td>pete_wins</td><td>▁</td></tr><tr><td>win_rate</td><td>▁</td></tr></table><br/></div><div class=\"wandb-col\"><h3>Run summary:</h3><br/><table class=\"wandb\"><tr><td>agent_wins</td><td>87</td></tr><tr><td>pete_wins</td><td>13</td></tr><tr><td>win_rate</td><td>0.87</td></tr></table><br/></div></div>"
      ],
      "text/plain": [
       "<IPython.core.display.HTML object>"
      ]
     },
     "metadata": {},
     "output_type": "display_data"
    },
    {
     "data": {
      "text/html": [
       " View run <strong style=\"color:#cdcd00\">rose-sweep-41</strong> at: <a href='https://wandb.ai/mateogiraz27-ort/three-musketeers/runs/0am2jdaq' target=\"_blank\">https://wandb.ai/mateogiraz27-ort/three-musketeers/runs/0am2jdaq</a><br> View project at: <a href='https://wandb.ai/mateogiraz27-ort/three-musketeers' target=\"_blank\">https://wandb.ai/mateogiraz27-ort/three-musketeers</a><br>Synced 5 W&B file(s), 0 media file(s), 0 artifact file(s) and 0 other file(s)"
      ],
      "text/plain": [
       "<IPython.core.display.HTML object>"
      ]
     },
     "metadata": {},
     "output_type": "display_data"
    },
    {
     "data": {
      "text/html": [
       "Find logs at: <code>./wandb/run-20241214_101257-0am2jdaq/logs</code>"
      ],
      "text/plain": [
       "<IPython.core.display.HTML object>"
      ]
     },
     "metadata": {},
     "output_type": "display_data"
    },
    {
     "name": "stderr",
     "output_type": "stream",
     "text": [
      "\u001b[34m\u001b[1mwandb\u001b[0m: Agent Starting Run: fwzcf5py with config:\n",
      "\u001b[34m\u001b[1mwandb\u001b[0m: \talignment_weight: 18.399966312903196\n",
      "\u001b[34m\u001b[1mwandb\u001b[0m: \tmax_depth: 3\n",
      "\u001b[34m\u001b[1mwandb\u001b[0m: \tmoves_weight: 13.640339642639695\n",
      "\u001b[34m\u001b[1mwandb\u001b[0m: \ttrap_weight: 11.413271512429322\n"
     ]
    },
    {
     "data": {
      "text/html": [
       "Tracking run with wandb version 0.19.1"
      ],
      "text/plain": [
       "<IPython.core.display.HTML object>"
      ]
     },
     "metadata": {},
     "output_type": "display_data"
    },
    {
     "data": {
      "text/html": [
       "Run data is saved locally in <code>/Users/mateogiraz/Documents/MountainCarContinuous (1)/three-musketeers/wandb/run-20241214_101330-fwzcf5py</code>"
      ],
      "text/plain": [
       "<IPython.core.display.HTML object>"
      ]
     },
     "metadata": {},
     "output_type": "display_data"
    },
    {
     "data": {
      "text/html": [
       "Syncing run <strong><a href='https://wandb.ai/mateogiraz27-ort/three-musketeers/runs/fwzcf5py' target=\"_blank\">solar-sweep-42</a></strong> to <a href='https://wandb.ai/mateogiraz27-ort/three-musketeers' target=\"_blank\">Weights & Biases</a> (<a href='https://wandb.me/developer-guide' target=\"_blank\">docs</a>)<br>Sweep page: <a href='https://wandb.ai/mateogiraz27-ort/three-musketeers/sweeps/txk212na' target=\"_blank\">https://wandb.ai/mateogiraz27-ort/three-musketeers/sweeps/txk212na</a>"
      ],
      "text/plain": [
       "<IPython.core.display.HTML object>"
      ]
     },
     "metadata": {},
     "output_type": "display_data"
    },
    {
     "data": {
      "text/html": [
       " View project at <a href='https://wandb.ai/mateogiraz27-ort/three-musketeers' target=\"_blank\">https://wandb.ai/mateogiraz27-ort/three-musketeers</a>"
      ],
      "text/plain": [
       "<IPython.core.display.HTML object>"
      ]
     },
     "metadata": {},
     "output_type": "display_data"
    },
    {
     "data": {
      "text/html": [
       " View sweep at <a href='https://wandb.ai/mateogiraz27-ort/three-musketeers/sweeps/txk212na' target=\"_blank\">https://wandb.ai/mateogiraz27-ort/three-musketeers/sweeps/txk212na</a>"
      ],
      "text/plain": [
       "<IPython.core.display.HTML object>"
      ]
     },
     "metadata": {},
     "output_type": "display_data"
    },
    {
     "data": {
      "text/html": [
       " View run at <a href='https://wandb.ai/mateogiraz27-ort/three-musketeers/runs/fwzcf5py' target=\"_blank\">https://wandb.ai/mateogiraz27-ort/three-musketeers/runs/fwzcf5py</a>"
      ],
      "text/plain": [
       "<IPython.core.display.HTML object>"
      ]
     },
     "metadata": {},
     "output_type": "display_data"
    },
    {
     "name": "stderr",
     "output_type": "stream",
     "text": [
      "100%|██████████| 100/100 [00:27<00:00,  3.60it/s]\n"
     ]
    },
    {
     "data": {
      "text/html": [],
      "text/plain": [
       "<IPython.core.display.HTML object>"
      ]
     },
     "metadata": {},
     "output_type": "display_data"
    },
    {
     "data": {
      "text/html": [
       "<br>    <style><br>        .wandb-row {<br>            display: flex;<br>            flex-direction: row;<br>            flex-wrap: wrap;<br>            justify-content: flex-start;<br>            width: 100%;<br>        }<br>        .wandb-col {<br>            display: flex;<br>            flex-direction: column;<br>            flex-basis: 100%;<br>            flex: 1;<br>            padding: 10px;<br>        }<br>    </style><br><div class=\"wandb-row\"><div class=\"wandb-col\"><h3>Run history:</h3><br/><table class=\"wandb\"><tr><td>agent_wins</td><td>▁</td></tr><tr><td>pete_wins</td><td>▁</td></tr><tr><td>win_rate</td><td>▁</td></tr></table><br/></div><div class=\"wandb-col\"><h3>Run summary:</h3><br/><table class=\"wandb\"><tr><td>agent_wins</td><td>89</td></tr><tr><td>pete_wins</td><td>11</td></tr><tr><td>win_rate</td><td>0.89</td></tr></table><br/></div></div>"
      ],
      "text/plain": [
       "<IPython.core.display.HTML object>"
      ]
     },
     "metadata": {},
     "output_type": "display_data"
    },
    {
     "data": {
      "text/html": [
       " View run <strong style=\"color:#cdcd00\">solar-sweep-42</strong> at: <a href='https://wandb.ai/mateogiraz27-ort/three-musketeers/runs/fwzcf5py' target=\"_blank\">https://wandb.ai/mateogiraz27-ort/three-musketeers/runs/fwzcf5py</a><br> View project at: <a href='https://wandb.ai/mateogiraz27-ort/three-musketeers' target=\"_blank\">https://wandb.ai/mateogiraz27-ort/three-musketeers</a><br>Synced 5 W&B file(s), 0 media file(s), 0 artifact file(s) and 0 other file(s)"
      ],
      "text/plain": [
       "<IPython.core.display.HTML object>"
      ]
     },
     "metadata": {},
     "output_type": "display_data"
    },
    {
     "data": {
      "text/html": [
       "Find logs at: <code>./wandb/run-20241214_101330-fwzcf5py/logs</code>"
      ],
      "text/plain": [
       "<IPython.core.display.HTML object>"
      ]
     },
     "metadata": {},
     "output_type": "display_data"
    },
    {
     "name": "stderr",
     "output_type": "stream",
     "text": [
      "\u001b[34m\u001b[1mwandb\u001b[0m: Agent Starting Run: 8p9jevf5 with config:\n",
      "\u001b[34m\u001b[1mwandb\u001b[0m: \talignment_weight: 11.40525473445132\n",
      "\u001b[34m\u001b[1mwandb\u001b[0m: \tmax_depth: 5\n",
      "\u001b[34m\u001b[1mwandb\u001b[0m: \tmoves_weight: 14.77972371449103\n",
      "\u001b[34m\u001b[1mwandb\u001b[0m: \ttrap_weight: 11.27497053714511\n"
     ]
    },
    {
     "data": {
      "text/html": [
       "Tracking run with wandb version 0.19.1"
      ],
      "text/plain": [
       "<IPython.core.display.HTML object>"
      ]
     },
     "metadata": {},
     "output_type": "display_data"
    },
    {
     "data": {
      "text/html": [
       "Run data is saved locally in <code>/Users/mateogiraz/Documents/MountainCarContinuous (1)/three-musketeers/wandb/run-20241214_101402-8p9jevf5</code>"
      ],
      "text/plain": [
       "<IPython.core.display.HTML object>"
      ]
     },
     "metadata": {},
     "output_type": "display_data"
    },
    {
     "data": {
      "text/html": [
       "Syncing run <strong><a href='https://wandb.ai/mateogiraz27-ort/three-musketeers/runs/8p9jevf5' target=\"_blank\">amber-sweep-43</a></strong> to <a href='https://wandb.ai/mateogiraz27-ort/three-musketeers' target=\"_blank\">Weights & Biases</a> (<a href='https://wandb.me/developer-guide' target=\"_blank\">docs</a>)<br>Sweep page: <a href='https://wandb.ai/mateogiraz27-ort/three-musketeers/sweeps/txk212na' target=\"_blank\">https://wandb.ai/mateogiraz27-ort/three-musketeers/sweeps/txk212na</a>"
      ],
      "text/plain": [
       "<IPython.core.display.HTML object>"
      ]
     },
     "metadata": {},
     "output_type": "display_data"
    },
    {
     "data": {
      "text/html": [
       " View project at <a href='https://wandb.ai/mateogiraz27-ort/three-musketeers' target=\"_blank\">https://wandb.ai/mateogiraz27-ort/three-musketeers</a>"
      ],
      "text/plain": [
       "<IPython.core.display.HTML object>"
      ]
     },
     "metadata": {},
     "output_type": "display_data"
    },
    {
     "data": {
      "text/html": [
       " View sweep at <a href='https://wandb.ai/mateogiraz27-ort/three-musketeers/sweeps/txk212na' target=\"_blank\">https://wandb.ai/mateogiraz27-ort/three-musketeers/sweeps/txk212na</a>"
      ],
      "text/plain": [
       "<IPython.core.display.HTML object>"
      ]
     },
     "metadata": {},
     "output_type": "display_data"
    },
    {
     "data": {
      "text/html": [
       " View run at <a href='https://wandb.ai/mateogiraz27-ort/three-musketeers/runs/8p9jevf5' target=\"_blank\">https://wandb.ai/mateogiraz27-ort/three-musketeers/runs/8p9jevf5</a>"
      ],
      "text/plain": [
       "<IPython.core.display.HTML object>"
      ]
     },
     "metadata": {},
     "output_type": "display_data"
    },
    {
     "name": "stderr",
     "output_type": "stream",
     "text": [
      "100%|██████████| 100/100 [01:09<00:00,  1.44it/s]\n"
     ]
    },
    {
     "data": {
      "text/html": [],
      "text/plain": [
       "<IPython.core.display.HTML object>"
      ]
     },
     "metadata": {},
     "output_type": "display_data"
    },
    {
     "data": {
      "text/html": [
       "<br>    <style><br>        .wandb-row {<br>            display: flex;<br>            flex-direction: row;<br>            flex-wrap: wrap;<br>            justify-content: flex-start;<br>            width: 100%;<br>        }<br>        .wandb-col {<br>            display: flex;<br>            flex-direction: column;<br>            flex-basis: 100%;<br>            flex: 1;<br>            padding: 10px;<br>        }<br>    </style><br><div class=\"wandb-row\"><div class=\"wandb-col\"><h3>Run history:</h3><br/><table class=\"wandb\"><tr><td>agent_wins</td><td>▁</td></tr><tr><td>pete_wins</td><td>▁</td></tr><tr><td>win_rate</td><td>▁</td></tr></table><br/></div><div class=\"wandb-col\"><h3>Run summary:</h3><br/><table class=\"wandb\"><tr><td>agent_wins</td><td>88</td></tr><tr><td>pete_wins</td><td>12</td></tr><tr><td>win_rate</td><td>0.88</td></tr></table><br/></div></div>"
      ],
      "text/plain": [
       "<IPython.core.display.HTML object>"
      ]
     },
     "metadata": {},
     "output_type": "display_data"
    },
    {
     "data": {
      "text/html": [
       " View run <strong style=\"color:#cdcd00\">amber-sweep-43</strong> at: <a href='https://wandb.ai/mateogiraz27-ort/three-musketeers/runs/8p9jevf5' target=\"_blank\">https://wandb.ai/mateogiraz27-ort/three-musketeers/runs/8p9jevf5</a><br> View project at: <a href='https://wandb.ai/mateogiraz27-ort/three-musketeers' target=\"_blank\">https://wandb.ai/mateogiraz27-ort/three-musketeers</a><br>Synced 5 W&B file(s), 0 media file(s), 0 artifact file(s) and 0 other file(s)"
      ],
      "text/plain": [
       "<IPython.core.display.HTML object>"
      ]
     },
     "metadata": {},
     "output_type": "display_data"
    },
    {
     "data": {
      "text/html": [
       "Find logs at: <code>./wandb/run-20241214_101402-8p9jevf5/logs</code>"
      ],
      "text/plain": [
       "<IPython.core.display.HTML object>"
      ]
     },
     "metadata": {},
     "output_type": "display_data"
    },
    {
     "name": "stderr",
     "output_type": "stream",
     "text": [
      "\u001b[34m\u001b[1mwandb\u001b[0m: Agent Starting Run: 0sclirtq with config:\n",
      "\u001b[34m\u001b[1mwandb\u001b[0m: \talignment_weight: 13.85423871287825\n",
      "\u001b[34m\u001b[1mwandb\u001b[0m: \tmax_depth: 3\n",
      "\u001b[34m\u001b[1mwandb\u001b[0m: \tmoves_weight: 13.729457170507116\n",
      "\u001b[34m\u001b[1mwandb\u001b[0m: \ttrap_weight: 19.339981693620775\n"
     ]
    },
    {
     "data": {
      "text/html": [
       "Tracking run with wandb version 0.19.1"
      ],
      "text/plain": [
       "<IPython.core.display.HTML object>"
      ]
     },
     "metadata": {},
     "output_type": "display_data"
    },
    {
     "data": {
      "text/html": [
       "Run data is saved locally in <code>/Users/mateogiraz/Documents/MountainCarContinuous (1)/three-musketeers/wandb/run-20241214_101516-0sclirtq</code>"
      ],
      "text/plain": [
       "<IPython.core.display.HTML object>"
      ]
     },
     "metadata": {},
     "output_type": "display_data"
    },
    {
     "data": {
      "text/html": [
       "Syncing run <strong><a href='https://wandb.ai/mateogiraz27-ort/three-musketeers/runs/0sclirtq' target=\"_blank\">hopeful-sweep-44</a></strong> to <a href='https://wandb.ai/mateogiraz27-ort/three-musketeers' target=\"_blank\">Weights & Biases</a> (<a href='https://wandb.me/developer-guide' target=\"_blank\">docs</a>)<br>Sweep page: <a href='https://wandb.ai/mateogiraz27-ort/three-musketeers/sweeps/txk212na' target=\"_blank\">https://wandb.ai/mateogiraz27-ort/three-musketeers/sweeps/txk212na</a>"
      ],
      "text/plain": [
       "<IPython.core.display.HTML object>"
      ]
     },
     "metadata": {},
     "output_type": "display_data"
    },
    {
     "data": {
      "text/html": [
       " View project at <a href='https://wandb.ai/mateogiraz27-ort/three-musketeers' target=\"_blank\">https://wandb.ai/mateogiraz27-ort/three-musketeers</a>"
      ],
      "text/plain": [
       "<IPython.core.display.HTML object>"
      ]
     },
     "metadata": {},
     "output_type": "display_data"
    },
    {
     "data": {
      "text/html": [
       " View sweep at <a href='https://wandb.ai/mateogiraz27-ort/three-musketeers/sweeps/txk212na' target=\"_blank\">https://wandb.ai/mateogiraz27-ort/three-musketeers/sweeps/txk212na</a>"
      ],
      "text/plain": [
       "<IPython.core.display.HTML object>"
      ]
     },
     "metadata": {},
     "output_type": "display_data"
    },
    {
     "data": {
      "text/html": [
       " View run at <a href='https://wandb.ai/mateogiraz27-ort/three-musketeers/runs/0sclirtq' target=\"_blank\">https://wandb.ai/mateogiraz27-ort/three-musketeers/runs/0sclirtq</a>"
      ],
      "text/plain": [
       "<IPython.core.display.HTML object>"
      ]
     },
     "metadata": {},
     "output_type": "display_data"
    },
    {
     "name": "stderr",
     "output_type": "stream",
     "text": [
      "100%|██████████| 100/100 [00:32<00:00,  3.09it/s]\n"
     ]
    },
    {
     "data": {
      "text/html": [],
      "text/plain": [
       "<IPython.core.display.HTML object>"
      ]
     },
     "metadata": {},
     "output_type": "display_data"
    },
    {
     "data": {
      "text/html": [
       "<br>    <style><br>        .wandb-row {<br>            display: flex;<br>            flex-direction: row;<br>            flex-wrap: wrap;<br>            justify-content: flex-start;<br>            width: 100%;<br>        }<br>        .wandb-col {<br>            display: flex;<br>            flex-direction: column;<br>            flex-basis: 100%;<br>            flex: 1;<br>            padding: 10px;<br>        }<br>    </style><br><div class=\"wandb-row\"><div class=\"wandb-col\"><h3>Run history:</h3><br/><table class=\"wandb\"><tr><td>agent_wins</td><td>▁</td></tr><tr><td>pete_wins</td><td>▁</td></tr><tr><td>win_rate</td><td>▁</td></tr></table><br/></div><div class=\"wandb-col\"><h3>Run summary:</h3><br/><table class=\"wandb\"><tr><td>agent_wins</td><td>86</td></tr><tr><td>pete_wins</td><td>14</td></tr><tr><td>win_rate</td><td>0.86</td></tr></table><br/></div></div>"
      ],
      "text/plain": [
       "<IPython.core.display.HTML object>"
      ]
     },
     "metadata": {},
     "output_type": "display_data"
    },
    {
     "data": {
      "text/html": [
       " View run <strong style=\"color:#cdcd00\">hopeful-sweep-44</strong> at: <a href='https://wandb.ai/mateogiraz27-ort/three-musketeers/runs/0sclirtq' target=\"_blank\">https://wandb.ai/mateogiraz27-ort/three-musketeers/runs/0sclirtq</a><br> View project at: <a href='https://wandb.ai/mateogiraz27-ort/three-musketeers' target=\"_blank\">https://wandb.ai/mateogiraz27-ort/three-musketeers</a><br>Synced 5 W&B file(s), 0 media file(s), 0 artifact file(s) and 0 other file(s)"
      ],
      "text/plain": [
       "<IPython.core.display.HTML object>"
      ]
     },
     "metadata": {},
     "output_type": "display_data"
    },
    {
     "data": {
      "text/html": [
       "Find logs at: <code>./wandb/run-20241214_101516-0sclirtq/logs</code>"
      ],
      "text/plain": [
       "<IPython.core.display.HTML object>"
      ]
     },
     "metadata": {},
     "output_type": "display_data"
    },
    {
     "name": "stderr",
     "output_type": "stream",
     "text": [
      "\u001b[34m\u001b[1mwandb\u001b[0m: Agent Starting Run: 6xckr1hb with config:\n",
      "\u001b[34m\u001b[1mwandb\u001b[0m: \talignment_weight: 8.636855036866129\n",
      "\u001b[34m\u001b[1mwandb\u001b[0m: \tmax_depth: 4\n",
      "\u001b[34m\u001b[1mwandb\u001b[0m: \tmoves_weight: 14.956795983234771\n",
      "\u001b[34m\u001b[1mwandb\u001b[0m: \ttrap_weight: 25.42481247996054\n"
     ]
    },
    {
     "data": {
      "text/html": [
       "Tracking run with wandb version 0.19.1"
      ],
      "text/plain": [
       "<IPython.core.display.HTML object>"
      ]
     },
     "metadata": {},
     "output_type": "display_data"
    },
    {
     "data": {
      "text/html": [
       "Run data is saved locally in <code>/Users/mateogiraz/Documents/MountainCarContinuous (1)/three-musketeers/wandb/run-20241214_101553-6xckr1hb</code>"
      ],
      "text/plain": [
       "<IPython.core.display.HTML object>"
      ]
     },
     "metadata": {},
     "output_type": "display_data"
    },
    {
     "data": {
      "text/html": [
       "Syncing run <strong><a href='https://wandb.ai/mateogiraz27-ort/three-musketeers/runs/6xckr1hb' target=\"_blank\">dauntless-sweep-45</a></strong> to <a href='https://wandb.ai/mateogiraz27-ort/three-musketeers' target=\"_blank\">Weights & Biases</a> (<a href='https://wandb.me/developer-guide' target=\"_blank\">docs</a>)<br>Sweep page: <a href='https://wandb.ai/mateogiraz27-ort/three-musketeers/sweeps/txk212na' target=\"_blank\">https://wandb.ai/mateogiraz27-ort/three-musketeers/sweeps/txk212na</a>"
      ],
      "text/plain": [
       "<IPython.core.display.HTML object>"
      ]
     },
     "metadata": {},
     "output_type": "display_data"
    },
    {
     "data": {
      "text/html": [
       " View project at <a href='https://wandb.ai/mateogiraz27-ort/three-musketeers' target=\"_blank\">https://wandb.ai/mateogiraz27-ort/three-musketeers</a>"
      ],
      "text/plain": [
       "<IPython.core.display.HTML object>"
      ]
     },
     "metadata": {},
     "output_type": "display_data"
    },
    {
     "data": {
      "text/html": [
       " View sweep at <a href='https://wandb.ai/mateogiraz27-ort/three-musketeers/sweeps/txk212na' target=\"_blank\">https://wandb.ai/mateogiraz27-ort/three-musketeers/sweeps/txk212na</a>"
      ],
      "text/plain": [
       "<IPython.core.display.HTML object>"
      ]
     },
     "metadata": {},
     "output_type": "display_data"
    },
    {
     "data": {
      "text/html": [
       " View run at <a href='https://wandb.ai/mateogiraz27-ort/three-musketeers/runs/6xckr1hb' target=\"_blank\">https://wandb.ai/mateogiraz27-ort/three-musketeers/runs/6xckr1hb</a>"
      ],
      "text/plain": [
       "<IPython.core.display.HTML object>"
      ]
     },
     "metadata": {},
     "output_type": "display_data"
    },
    {
     "name": "stderr",
     "output_type": "stream",
     "text": [
      "100%|██████████| 100/100 [00:35<00:00,  2.84it/s]\n"
     ]
    },
    {
     "data": {
      "text/html": [],
      "text/plain": [
       "<IPython.core.display.HTML object>"
      ]
     },
     "metadata": {},
     "output_type": "display_data"
    },
    {
     "data": {
      "text/html": [
       "<br>    <style><br>        .wandb-row {<br>            display: flex;<br>            flex-direction: row;<br>            flex-wrap: wrap;<br>            justify-content: flex-start;<br>            width: 100%;<br>        }<br>        .wandb-col {<br>            display: flex;<br>            flex-direction: column;<br>            flex-basis: 100%;<br>            flex: 1;<br>            padding: 10px;<br>        }<br>    </style><br><div class=\"wandb-row\"><div class=\"wandb-col\"><h3>Run history:</h3><br/><table class=\"wandb\"><tr><td>agent_wins</td><td>▁</td></tr><tr><td>pete_wins</td><td>▁</td></tr><tr><td>win_rate</td><td>▁</td></tr></table><br/></div><div class=\"wandb-col\"><h3>Run summary:</h3><br/><table class=\"wandb\"><tr><td>agent_wins</td><td>75</td></tr><tr><td>pete_wins</td><td>25</td></tr><tr><td>win_rate</td><td>0.75</td></tr></table><br/></div></div>"
      ],
      "text/plain": [
       "<IPython.core.display.HTML object>"
      ]
     },
     "metadata": {},
     "output_type": "display_data"
    },
    {
     "data": {
      "text/html": [
       " View run <strong style=\"color:#cdcd00\">dauntless-sweep-45</strong> at: <a href='https://wandb.ai/mateogiraz27-ort/three-musketeers/runs/6xckr1hb' target=\"_blank\">https://wandb.ai/mateogiraz27-ort/three-musketeers/runs/6xckr1hb</a><br> View project at: <a href='https://wandb.ai/mateogiraz27-ort/three-musketeers' target=\"_blank\">https://wandb.ai/mateogiraz27-ort/three-musketeers</a><br>Synced 5 W&B file(s), 0 media file(s), 0 artifact file(s) and 0 other file(s)"
      ],
      "text/plain": [
       "<IPython.core.display.HTML object>"
      ]
     },
     "metadata": {},
     "output_type": "display_data"
    },
    {
     "data": {
      "text/html": [
       "Find logs at: <code>./wandb/run-20241214_101553-6xckr1hb/logs</code>"
      ],
      "text/plain": [
       "<IPython.core.display.HTML object>"
      ]
     },
     "metadata": {},
     "output_type": "display_data"
    },
    {
     "name": "stderr",
     "output_type": "stream",
     "text": [
      "\u001b[34m\u001b[1mwandb\u001b[0m: Agent Starting Run: 4m7xudx7 with config:\n",
      "\u001b[34m\u001b[1mwandb\u001b[0m: \talignment_weight: 10.122152602110242\n",
      "\u001b[34m\u001b[1mwandb\u001b[0m: \tmax_depth: 4\n",
      "\u001b[34m\u001b[1mwandb\u001b[0m: \tmoves_weight: 6.344858263950793\n",
      "\u001b[34m\u001b[1mwandb\u001b[0m: \ttrap_weight: 10.440765524132228\n"
     ]
    },
    {
     "data": {
      "text/html": [
       "Tracking run with wandb version 0.19.1"
      ],
      "text/plain": [
       "<IPython.core.display.HTML object>"
      ]
     },
     "metadata": {},
     "output_type": "display_data"
    },
    {
     "data": {
      "text/html": [
       "Run data is saved locally in <code>/Users/mateogiraz/Documents/MountainCarContinuous (1)/three-musketeers/wandb/run-20241214_101636-4m7xudx7</code>"
      ],
      "text/plain": [
       "<IPython.core.display.HTML object>"
      ]
     },
     "metadata": {},
     "output_type": "display_data"
    },
    {
     "data": {
      "text/html": [
       "Syncing run <strong><a href='https://wandb.ai/mateogiraz27-ort/three-musketeers/runs/4m7xudx7' target=\"_blank\">charmed-sweep-46</a></strong> to <a href='https://wandb.ai/mateogiraz27-ort/three-musketeers' target=\"_blank\">Weights & Biases</a> (<a href='https://wandb.me/developer-guide' target=\"_blank\">docs</a>)<br>Sweep page: <a href='https://wandb.ai/mateogiraz27-ort/three-musketeers/sweeps/txk212na' target=\"_blank\">https://wandb.ai/mateogiraz27-ort/three-musketeers/sweeps/txk212na</a>"
      ],
      "text/plain": [
       "<IPython.core.display.HTML object>"
      ]
     },
     "metadata": {},
     "output_type": "display_data"
    },
    {
     "data": {
      "text/html": [
       " View project at <a href='https://wandb.ai/mateogiraz27-ort/three-musketeers' target=\"_blank\">https://wandb.ai/mateogiraz27-ort/three-musketeers</a>"
      ],
      "text/plain": [
       "<IPython.core.display.HTML object>"
      ]
     },
     "metadata": {},
     "output_type": "display_data"
    },
    {
     "data": {
      "text/html": [
       " View sweep at <a href='https://wandb.ai/mateogiraz27-ort/three-musketeers/sweeps/txk212na' target=\"_blank\">https://wandb.ai/mateogiraz27-ort/three-musketeers/sweeps/txk212na</a>"
      ],
      "text/plain": [
       "<IPython.core.display.HTML object>"
      ]
     },
     "metadata": {},
     "output_type": "display_data"
    },
    {
     "data": {
      "text/html": [
       " View run at <a href='https://wandb.ai/mateogiraz27-ort/three-musketeers/runs/4m7xudx7' target=\"_blank\">https://wandb.ai/mateogiraz27-ort/three-musketeers/runs/4m7xudx7</a>"
      ],
      "text/plain": [
       "<IPython.core.display.HTML object>"
      ]
     },
     "metadata": {},
     "output_type": "display_data"
    },
    {
     "name": "stderr",
     "output_type": "stream",
     "text": [
      "100%|██████████| 100/100 [00:40<00:00,  2.49it/s]\n"
     ]
    },
    {
     "data": {
      "text/html": [],
      "text/plain": [
       "<IPython.core.display.HTML object>"
      ]
     },
     "metadata": {},
     "output_type": "display_data"
    },
    {
     "data": {
      "text/html": [
       "<br>    <style><br>        .wandb-row {<br>            display: flex;<br>            flex-direction: row;<br>            flex-wrap: wrap;<br>            justify-content: flex-start;<br>            width: 100%;<br>        }<br>        .wandb-col {<br>            display: flex;<br>            flex-direction: column;<br>            flex-basis: 100%;<br>            flex: 1;<br>            padding: 10px;<br>        }<br>    </style><br><div class=\"wandb-row\"><div class=\"wandb-col\"><h3>Run history:</h3><br/><table class=\"wandb\"><tr><td>agent_wins</td><td>▁</td></tr><tr><td>pete_wins</td><td>▁</td></tr><tr><td>win_rate</td><td>▁</td></tr></table><br/></div><div class=\"wandb-col\"><h3>Run summary:</h3><br/><table class=\"wandb\"><tr><td>agent_wins</td><td>92</td></tr><tr><td>pete_wins</td><td>8</td></tr><tr><td>win_rate</td><td>0.92</td></tr></table><br/></div></div>"
      ],
      "text/plain": [
       "<IPython.core.display.HTML object>"
      ]
     },
     "metadata": {},
     "output_type": "display_data"
    },
    {
     "data": {
      "text/html": [
       " View run <strong style=\"color:#cdcd00\">charmed-sweep-46</strong> at: <a href='https://wandb.ai/mateogiraz27-ort/three-musketeers/runs/4m7xudx7' target=\"_blank\">https://wandb.ai/mateogiraz27-ort/three-musketeers/runs/4m7xudx7</a><br> View project at: <a href='https://wandb.ai/mateogiraz27-ort/three-musketeers' target=\"_blank\">https://wandb.ai/mateogiraz27-ort/three-musketeers</a><br>Synced 5 W&B file(s), 0 media file(s), 0 artifact file(s) and 0 other file(s)"
      ],
      "text/plain": [
       "<IPython.core.display.HTML object>"
      ]
     },
     "metadata": {},
     "output_type": "display_data"
    },
    {
     "data": {
      "text/html": [
       "Find logs at: <code>./wandb/run-20241214_101636-4m7xudx7/logs</code>"
      ],
      "text/plain": [
       "<IPython.core.display.HTML object>"
      ]
     },
     "metadata": {},
     "output_type": "display_data"
    },
    {
     "name": "stderr",
     "output_type": "stream",
     "text": [
      "\u001b[34m\u001b[1mwandb\u001b[0m: Agent Starting Run: yoww4nfe with config:\n",
      "\u001b[34m\u001b[1mwandb\u001b[0m: \talignment_weight: 8.995268857857068\n",
      "\u001b[34m\u001b[1mwandb\u001b[0m: \tmax_depth: 3\n",
      "\u001b[34m\u001b[1mwandb\u001b[0m: \tmoves_weight: 5.687956320755994\n",
      "\u001b[34m\u001b[1mwandb\u001b[0m: \ttrap_weight: 10.759820739352984\n"
     ]
    },
    {
     "data": {
      "text/html": [
       "Tracking run with wandb version 0.19.1"
      ],
      "text/plain": [
       "<IPython.core.display.HTML object>"
      ]
     },
     "metadata": {},
     "output_type": "display_data"
    },
    {
     "data": {
      "text/html": [
       "Run data is saved locally in <code>/Users/mateogiraz/Documents/MountainCarContinuous (1)/three-musketeers/wandb/run-20241214_101724-yoww4nfe</code>"
      ],
      "text/plain": [
       "<IPython.core.display.HTML object>"
      ]
     },
     "metadata": {},
     "output_type": "display_data"
    },
    {
     "data": {
      "text/html": [
       "Syncing run <strong><a href='https://wandb.ai/mateogiraz27-ort/three-musketeers/runs/yoww4nfe' target=\"_blank\">zesty-sweep-47</a></strong> to <a href='https://wandb.ai/mateogiraz27-ort/three-musketeers' target=\"_blank\">Weights & Biases</a> (<a href='https://wandb.me/developer-guide' target=\"_blank\">docs</a>)<br>Sweep page: <a href='https://wandb.ai/mateogiraz27-ort/three-musketeers/sweeps/txk212na' target=\"_blank\">https://wandb.ai/mateogiraz27-ort/three-musketeers/sweeps/txk212na</a>"
      ],
      "text/plain": [
       "<IPython.core.display.HTML object>"
      ]
     },
     "metadata": {},
     "output_type": "display_data"
    },
    {
     "data": {
      "text/html": [
       " View project at <a href='https://wandb.ai/mateogiraz27-ort/three-musketeers' target=\"_blank\">https://wandb.ai/mateogiraz27-ort/three-musketeers</a>"
      ],
      "text/plain": [
       "<IPython.core.display.HTML object>"
      ]
     },
     "metadata": {},
     "output_type": "display_data"
    },
    {
     "data": {
      "text/html": [
       " View sweep at <a href='https://wandb.ai/mateogiraz27-ort/three-musketeers/sweeps/txk212na' target=\"_blank\">https://wandb.ai/mateogiraz27-ort/three-musketeers/sweeps/txk212na</a>"
      ],
      "text/plain": [
       "<IPython.core.display.HTML object>"
      ]
     },
     "metadata": {},
     "output_type": "display_data"
    },
    {
     "data": {
      "text/html": [
       " View run at <a href='https://wandb.ai/mateogiraz27-ort/three-musketeers/runs/yoww4nfe' target=\"_blank\">https://wandb.ai/mateogiraz27-ort/three-musketeers/runs/yoww4nfe</a>"
      ],
      "text/plain": [
       "<IPython.core.display.HTML object>"
      ]
     },
     "metadata": {},
     "output_type": "display_data"
    },
    {
     "name": "stderr",
     "output_type": "stream",
     "text": [
      "100%|██████████| 100/100 [00:29<00:00,  3.39it/s]\n"
     ]
    },
    {
     "data": {
      "text/html": [],
      "text/plain": [
       "<IPython.core.display.HTML object>"
      ]
     },
     "metadata": {},
     "output_type": "display_data"
    },
    {
     "data": {
      "text/html": [
       "<br>    <style><br>        .wandb-row {<br>            display: flex;<br>            flex-direction: row;<br>            flex-wrap: wrap;<br>            justify-content: flex-start;<br>            width: 100%;<br>        }<br>        .wandb-col {<br>            display: flex;<br>            flex-direction: column;<br>            flex-basis: 100%;<br>            flex: 1;<br>            padding: 10px;<br>        }<br>    </style><br><div class=\"wandb-row\"><div class=\"wandb-col\"><h3>Run history:</h3><br/><table class=\"wandb\"><tr><td>agent_wins</td><td>▁</td></tr><tr><td>pete_wins</td><td>▁</td></tr><tr><td>win_rate</td><td>▁</td></tr></table><br/></div><div class=\"wandb-col\"><h3>Run summary:</h3><br/><table class=\"wandb\"><tr><td>agent_wins</td><td>89</td></tr><tr><td>pete_wins</td><td>11</td></tr><tr><td>win_rate</td><td>0.89</td></tr></table><br/></div></div>"
      ],
      "text/plain": [
       "<IPython.core.display.HTML object>"
      ]
     },
     "metadata": {},
     "output_type": "display_data"
    },
    {
     "data": {
      "text/html": [
       " View run <strong style=\"color:#cdcd00\">zesty-sweep-47</strong> at: <a href='https://wandb.ai/mateogiraz27-ort/three-musketeers/runs/yoww4nfe' target=\"_blank\">https://wandb.ai/mateogiraz27-ort/three-musketeers/runs/yoww4nfe</a><br> View project at: <a href='https://wandb.ai/mateogiraz27-ort/three-musketeers' target=\"_blank\">https://wandb.ai/mateogiraz27-ort/three-musketeers</a><br>Synced 5 W&B file(s), 0 media file(s), 0 artifact file(s) and 0 other file(s)"
      ],
      "text/plain": [
       "<IPython.core.display.HTML object>"
      ]
     },
     "metadata": {},
     "output_type": "display_data"
    },
    {
     "data": {
      "text/html": [
       "Find logs at: <code>./wandb/run-20241214_101724-yoww4nfe/logs</code>"
      ],
      "text/plain": [
       "<IPython.core.display.HTML object>"
      ]
     },
     "metadata": {},
     "output_type": "display_data"
    },
    {
     "name": "stderr",
     "output_type": "stream",
     "text": [
      "\u001b[34m\u001b[1mwandb\u001b[0m: Agent Starting Run: y96ri47c with config:\n",
      "\u001b[34m\u001b[1mwandb\u001b[0m: \talignment_weight: 6.343561430253643\n",
      "\u001b[34m\u001b[1mwandb\u001b[0m: \tmax_depth: 5\n",
      "\u001b[34m\u001b[1mwandb\u001b[0m: \tmoves_weight: 12.891331714450622\n",
      "\u001b[34m\u001b[1mwandb\u001b[0m: \ttrap_weight: 20.547737228691247\n"
     ]
    },
    {
     "data": {
      "text/html": [
       "Tracking run with wandb version 0.19.1"
      ],
      "text/plain": [
       "<IPython.core.display.HTML object>"
      ]
     },
     "metadata": {},
     "output_type": "display_data"
    },
    {
     "data": {
      "text/html": [
       "Run data is saved locally in <code>/Users/mateogiraz/Documents/MountainCarContinuous (1)/three-musketeers/wandb/run-20241214_101802-y96ri47c</code>"
      ],
      "text/plain": [
       "<IPython.core.display.HTML object>"
      ]
     },
     "metadata": {},
     "output_type": "display_data"
    },
    {
     "data": {
      "text/html": [
       "Syncing run <strong><a href='https://wandb.ai/mateogiraz27-ort/three-musketeers/runs/y96ri47c' target=\"_blank\">northern-sweep-48</a></strong> to <a href='https://wandb.ai/mateogiraz27-ort/three-musketeers' target=\"_blank\">Weights & Biases</a> (<a href='https://wandb.me/developer-guide' target=\"_blank\">docs</a>)<br>Sweep page: <a href='https://wandb.ai/mateogiraz27-ort/three-musketeers/sweeps/txk212na' target=\"_blank\">https://wandb.ai/mateogiraz27-ort/three-musketeers/sweeps/txk212na</a>"
      ],
      "text/plain": [
       "<IPython.core.display.HTML object>"
      ]
     },
     "metadata": {},
     "output_type": "display_data"
    },
    {
     "data": {
      "text/html": [
       " View project at <a href='https://wandb.ai/mateogiraz27-ort/three-musketeers' target=\"_blank\">https://wandb.ai/mateogiraz27-ort/three-musketeers</a>"
      ],
      "text/plain": [
       "<IPython.core.display.HTML object>"
      ]
     },
     "metadata": {},
     "output_type": "display_data"
    },
    {
     "data": {
      "text/html": [
       " View sweep at <a href='https://wandb.ai/mateogiraz27-ort/three-musketeers/sweeps/txk212na' target=\"_blank\">https://wandb.ai/mateogiraz27-ort/three-musketeers/sweeps/txk212na</a>"
      ],
      "text/plain": [
       "<IPython.core.display.HTML object>"
      ]
     },
     "metadata": {},
     "output_type": "display_data"
    },
    {
     "data": {
      "text/html": [
       " View run at <a href='https://wandb.ai/mateogiraz27-ort/three-musketeers/runs/y96ri47c' target=\"_blank\">https://wandb.ai/mateogiraz27-ort/three-musketeers/runs/y96ri47c</a>"
      ],
      "text/plain": [
       "<IPython.core.display.HTML object>"
      ]
     },
     "metadata": {},
     "output_type": "display_data"
    },
    {
     "name": "stderr",
     "output_type": "stream",
     "text": [
      "100%|██████████| 100/100 [01:04<00:00,  1.54it/s]\n"
     ]
    },
    {
     "data": {
      "text/html": [],
      "text/plain": [
       "<IPython.core.display.HTML object>"
      ]
     },
     "metadata": {},
     "output_type": "display_data"
    },
    {
     "data": {
      "text/html": [
       "<br>    <style><br>        .wandb-row {<br>            display: flex;<br>            flex-direction: row;<br>            flex-wrap: wrap;<br>            justify-content: flex-start;<br>            width: 100%;<br>        }<br>        .wandb-col {<br>            display: flex;<br>            flex-direction: column;<br>            flex-basis: 100%;<br>            flex: 1;<br>            padding: 10px;<br>        }<br>    </style><br><div class=\"wandb-row\"><div class=\"wandb-col\"><h3>Run history:</h3><br/><table class=\"wandb\"><tr><td>agent_wins</td><td>▁</td></tr><tr><td>pete_wins</td><td>▁</td></tr><tr><td>win_rate</td><td>▁</td></tr></table><br/></div><div class=\"wandb-col\"><h3>Run summary:</h3><br/><table class=\"wandb\"><tr><td>agent_wins</td><td>92</td></tr><tr><td>pete_wins</td><td>8</td></tr><tr><td>win_rate</td><td>0.92</td></tr></table><br/></div></div>"
      ],
      "text/plain": [
       "<IPython.core.display.HTML object>"
      ]
     },
     "metadata": {},
     "output_type": "display_data"
    },
    {
     "data": {
      "text/html": [
       " View run <strong style=\"color:#cdcd00\">northern-sweep-48</strong> at: <a href='https://wandb.ai/mateogiraz27-ort/three-musketeers/runs/y96ri47c' target=\"_blank\">https://wandb.ai/mateogiraz27-ort/three-musketeers/runs/y96ri47c</a><br> View project at: <a href='https://wandb.ai/mateogiraz27-ort/three-musketeers' target=\"_blank\">https://wandb.ai/mateogiraz27-ort/three-musketeers</a><br>Synced 5 W&B file(s), 0 media file(s), 0 artifact file(s) and 0 other file(s)"
      ],
      "text/plain": [
       "<IPython.core.display.HTML object>"
      ]
     },
     "metadata": {},
     "output_type": "display_data"
    },
    {
     "data": {
      "text/html": [
       "Find logs at: <code>./wandb/run-20241214_101802-y96ri47c/logs</code>"
      ],
      "text/plain": [
       "<IPython.core.display.HTML object>"
      ]
     },
     "metadata": {},
     "output_type": "display_data"
    },
    {
     "name": "stderr",
     "output_type": "stream",
     "text": [
      "\u001b[34m\u001b[1mwandb\u001b[0m: Sweep Agent: Waiting for job.\n",
      "\u001b[34m\u001b[1mwandb\u001b[0m: Job received.\n",
      "\u001b[34m\u001b[1mwandb\u001b[0m: Agent Starting Run: gqwuz8w6 with config:\n",
      "\u001b[34m\u001b[1mwandb\u001b[0m: \talignment_weight: 5.213084302861303\n",
      "\u001b[34m\u001b[1mwandb\u001b[0m: \tmax_depth: 4\n",
      "\u001b[34m\u001b[1mwandb\u001b[0m: \tmoves_weight: 9.88116575747655\n",
      "\u001b[34m\u001b[1mwandb\u001b[0m: \ttrap_weight: 11.713358184740732\n"
     ]
    },
    {
     "data": {
      "text/html": [
       "Tracking run with wandb version 0.19.1"
      ],
      "text/plain": [
       "<IPython.core.display.HTML object>"
      ]
     },
     "metadata": {},
     "output_type": "display_data"
    },
    {
     "data": {
      "text/html": [
       "Run data is saved locally in <code>/Users/mateogiraz/Documents/MountainCarContinuous (1)/three-musketeers/wandb/run-20241214_101920-gqwuz8w6</code>"
      ],
      "text/plain": [
       "<IPython.core.display.HTML object>"
      ]
     },
     "metadata": {},
     "output_type": "display_data"
    },
    {
     "data": {
      "text/html": [
       "Syncing run <strong><a href='https://wandb.ai/mateogiraz27-ort/three-musketeers/runs/gqwuz8w6' target=\"_blank\">spring-sweep-49</a></strong> to <a href='https://wandb.ai/mateogiraz27-ort/three-musketeers' target=\"_blank\">Weights & Biases</a> (<a href='https://wandb.me/developer-guide' target=\"_blank\">docs</a>)<br>Sweep page: <a href='https://wandb.ai/mateogiraz27-ort/three-musketeers/sweeps/txk212na' target=\"_blank\">https://wandb.ai/mateogiraz27-ort/three-musketeers/sweeps/txk212na</a>"
      ],
      "text/plain": [
       "<IPython.core.display.HTML object>"
      ]
     },
     "metadata": {},
     "output_type": "display_data"
    },
    {
     "data": {
      "text/html": [
       " View project at <a href='https://wandb.ai/mateogiraz27-ort/three-musketeers' target=\"_blank\">https://wandb.ai/mateogiraz27-ort/three-musketeers</a>"
      ],
      "text/plain": [
       "<IPython.core.display.HTML object>"
      ]
     },
     "metadata": {},
     "output_type": "display_data"
    },
    {
     "data": {
      "text/html": [
       " View sweep at <a href='https://wandb.ai/mateogiraz27-ort/three-musketeers/sweeps/txk212na' target=\"_blank\">https://wandb.ai/mateogiraz27-ort/three-musketeers/sweeps/txk212na</a>"
      ],
      "text/plain": [
       "<IPython.core.display.HTML object>"
      ]
     },
     "metadata": {},
     "output_type": "display_data"
    },
    {
     "data": {
      "text/html": [
       " View run at <a href='https://wandb.ai/mateogiraz27-ort/three-musketeers/runs/gqwuz8w6' target=\"_blank\">https://wandb.ai/mateogiraz27-ort/three-musketeers/runs/gqwuz8w6</a>"
      ],
      "text/plain": [
       "<IPython.core.display.HTML object>"
      ]
     },
     "metadata": {},
     "output_type": "display_data"
    },
    {
     "name": "stderr",
     "output_type": "stream",
     "text": [
      "100%|██████████| 100/100 [00:38<00:00,  2.57it/s]\n"
     ]
    },
    {
     "data": {
      "text/html": [],
      "text/plain": [
       "<IPython.core.display.HTML object>"
      ]
     },
     "metadata": {},
     "output_type": "display_data"
    },
    {
     "data": {
      "text/html": [
       "<br>    <style><br>        .wandb-row {<br>            display: flex;<br>            flex-direction: row;<br>            flex-wrap: wrap;<br>            justify-content: flex-start;<br>            width: 100%;<br>        }<br>        .wandb-col {<br>            display: flex;<br>            flex-direction: column;<br>            flex-basis: 100%;<br>            flex: 1;<br>            padding: 10px;<br>        }<br>    </style><br><div class=\"wandb-row\"><div class=\"wandb-col\"><h3>Run history:</h3><br/><table class=\"wandb\"><tr><td>agent_wins</td><td>▁</td></tr><tr><td>pete_wins</td><td>▁</td></tr><tr><td>win_rate</td><td>▁</td></tr></table><br/></div><div class=\"wandb-col\"><h3>Run summary:</h3><br/><table class=\"wandb\"><tr><td>agent_wins</td><td>92</td></tr><tr><td>pete_wins</td><td>8</td></tr><tr><td>win_rate</td><td>0.92</td></tr></table><br/></div></div>"
      ],
      "text/plain": [
       "<IPython.core.display.HTML object>"
      ]
     },
     "metadata": {},
     "output_type": "display_data"
    },
    {
     "data": {
      "text/html": [
       " View run <strong style=\"color:#cdcd00\">spring-sweep-49</strong> at: <a href='https://wandb.ai/mateogiraz27-ort/three-musketeers/runs/gqwuz8w6' target=\"_blank\">https://wandb.ai/mateogiraz27-ort/three-musketeers/runs/gqwuz8w6</a><br> View project at: <a href='https://wandb.ai/mateogiraz27-ort/three-musketeers' target=\"_blank\">https://wandb.ai/mateogiraz27-ort/three-musketeers</a><br>Synced 5 W&B file(s), 0 media file(s), 0 artifact file(s) and 0 other file(s)"
      ],
      "text/plain": [
       "<IPython.core.display.HTML object>"
      ]
     },
     "metadata": {},
     "output_type": "display_data"
    },
    {
     "data": {
      "text/html": [
       "Find logs at: <code>./wandb/run-20241214_101920-gqwuz8w6/logs</code>"
      ],
      "text/plain": [
       "<IPython.core.display.HTML object>"
      ]
     },
     "metadata": {},
     "output_type": "display_data"
    },
    {
     "name": "stderr",
     "output_type": "stream",
     "text": [
      "\u001b[34m\u001b[1mwandb\u001b[0m: Agent Starting Run: 42luean2 with config:\n",
      "\u001b[34m\u001b[1mwandb\u001b[0m: \talignment_weight: 15.651135529142609\n",
      "\u001b[34m\u001b[1mwandb\u001b[0m: \tmax_depth: 5\n",
      "\u001b[34m\u001b[1mwandb\u001b[0m: \tmoves_weight: 12.074958452944273\n",
      "\u001b[34m\u001b[1mwandb\u001b[0m: \ttrap_weight: 29.88093614475666\n"
     ]
    },
    {
     "data": {
      "text/html": [
       "Tracking run with wandb version 0.19.1"
      ],
      "text/plain": [
       "<IPython.core.display.HTML object>"
      ]
     },
     "metadata": {},
     "output_type": "display_data"
    },
    {
     "data": {
      "text/html": [
       "Run data is saved locally in <code>/Users/mateogiraz/Documents/MountainCarContinuous (1)/three-musketeers/wandb/run-20241214_102005-42luean2</code>"
      ],
      "text/plain": [
       "<IPython.core.display.HTML object>"
      ]
     },
     "metadata": {},
     "output_type": "display_data"
    },
    {
     "data": {
      "text/html": [
       "Syncing run <strong><a href='https://wandb.ai/mateogiraz27-ort/three-musketeers/runs/42luean2' target=\"_blank\">smooth-sweep-50</a></strong> to <a href='https://wandb.ai/mateogiraz27-ort/three-musketeers' target=\"_blank\">Weights & Biases</a> (<a href='https://wandb.me/developer-guide' target=\"_blank\">docs</a>)<br>Sweep page: <a href='https://wandb.ai/mateogiraz27-ort/three-musketeers/sweeps/txk212na' target=\"_blank\">https://wandb.ai/mateogiraz27-ort/three-musketeers/sweeps/txk212na</a>"
      ],
      "text/plain": [
       "<IPython.core.display.HTML object>"
      ]
     },
     "metadata": {},
     "output_type": "display_data"
    },
    {
     "data": {
      "text/html": [
       " View project at <a href='https://wandb.ai/mateogiraz27-ort/three-musketeers' target=\"_blank\">https://wandb.ai/mateogiraz27-ort/three-musketeers</a>"
      ],
      "text/plain": [
       "<IPython.core.display.HTML object>"
      ]
     },
     "metadata": {},
     "output_type": "display_data"
    },
    {
     "data": {
      "text/html": [
       " View sweep at <a href='https://wandb.ai/mateogiraz27-ort/three-musketeers/sweeps/txk212na' target=\"_blank\">https://wandb.ai/mateogiraz27-ort/three-musketeers/sweeps/txk212na</a>"
      ],
      "text/plain": [
       "<IPython.core.display.HTML object>"
      ]
     },
     "metadata": {},
     "output_type": "display_data"
    },
    {
     "data": {
      "text/html": [
       " View run at <a href='https://wandb.ai/mateogiraz27-ort/three-musketeers/runs/42luean2' target=\"_blank\">https://wandb.ai/mateogiraz27-ort/three-musketeers/runs/42luean2</a>"
      ],
      "text/plain": [
       "<IPython.core.display.HTML object>"
      ]
     },
     "metadata": {},
     "output_type": "display_data"
    },
    {
     "name": "stderr",
     "output_type": "stream",
     "text": [
      "100%|██████████| 100/100 [01:06<00:00,  1.51it/s]\n"
     ]
    },
    {
     "data": {
      "text/html": [],
      "text/plain": [
       "<IPython.core.display.HTML object>"
      ]
     },
     "metadata": {},
     "output_type": "display_data"
    },
    {
     "data": {
      "text/html": [
       "<br>    <style><br>        .wandb-row {<br>            display: flex;<br>            flex-direction: row;<br>            flex-wrap: wrap;<br>            justify-content: flex-start;<br>            width: 100%;<br>        }<br>        .wandb-col {<br>            display: flex;<br>            flex-direction: column;<br>            flex-basis: 100%;<br>            flex: 1;<br>            padding: 10px;<br>        }<br>    </style><br><div class=\"wandb-row\"><div class=\"wandb-col\"><h3>Run history:</h3><br/><table class=\"wandb\"><tr><td>agent_wins</td><td>▁</td></tr><tr><td>pete_wins</td><td>▁</td></tr><tr><td>win_rate</td><td>▁</td></tr></table><br/></div><div class=\"wandb-col\"><h3>Run summary:</h3><br/><table class=\"wandb\"><tr><td>agent_wins</td><td>88</td></tr><tr><td>pete_wins</td><td>12</td></tr><tr><td>win_rate</td><td>0.88</td></tr></table><br/></div></div>"
      ],
      "text/plain": [
       "<IPython.core.display.HTML object>"
      ]
     },
     "metadata": {},
     "output_type": "display_data"
    },
    {
     "data": {
      "text/html": [
       " View run <strong style=\"color:#cdcd00\">smooth-sweep-50</strong> at: <a href='https://wandb.ai/mateogiraz27-ort/three-musketeers/runs/42luean2' target=\"_blank\">https://wandb.ai/mateogiraz27-ort/three-musketeers/runs/42luean2</a><br> View project at: <a href='https://wandb.ai/mateogiraz27-ort/three-musketeers' target=\"_blank\">https://wandb.ai/mateogiraz27-ort/three-musketeers</a><br>Synced 5 W&B file(s), 0 media file(s), 0 artifact file(s) and 0 other file(s)"
      ],
      "text/plain": [
       "<IPython.core.display.HTML object>"
      ]
     },
     "metadata": {},
     "output_type": "display_data"
    },
    {
     "data": {
      "text/html": [
       "Find logs at: <code>./wandb/run-20241214_102005-42luean2/logs</code>"
      ],
      "text/plain": [
       "<IPython.core.display.HTML object>"
      ]
     },
     "metadata": {},
     "output_type": "display_data"
    },
    {
     "name": "stderr",
     "output_type": "stream",
     "text": [
      "\u001b[34m\u001b[1mwandb\u001b[0m: Agent Starting Run: 3ln3ic7s with config:\n",
      "\u001b[34m\u001b[1mwandb\u001b[0m: \talignment_weight: 12.165368554625513\n",
      "\u001b[34m\u001b[1mwandb\u001b[0m: \tmax_depth: 4\n",
      "\u001b[34m\u001b[1mwandb\u001b[0m: \tmoves_weight: 10.791095274499368\n",
      "\u001b[34m\u001b[1mwandb\u001b[0m: \ttrap_weight: 15.62744253893296\n"
     ]
    },
    {
     "data": {
      "text/html": [
       "Tracking run with wandb version 0.19.1"
      ],
      "text/plain": [
       "<IPython.core.display.HTML object>"
      ]
     },
     "metadata": {},
     "output_type": "display_data"
    },
    {
     "data": {
      "text/html": [
       "Run data is saved locally in <code>/Users/mateogiraz/Documents/MountainCarContinuous (1)/three-musketeers/wandb/run-20241214_102119-3ln3ic7s</code>"
      ],
      "text/plain": [
       "<IPython.core.display.HTML object>"
      ]
     },
     "metadata": {},
     "output_type": "display_data"
    },
    {
     "data": {
      "text/html": [
       "Syncing run <strong><a href='https://wandb.ai/mateogiraz27-ort/three-musketeers/runs/3ln3ic7s' target=\"_blank\">robust-sweep-51</a></strong> to <a href='https://wandb.ai/mateogiraz27-ort/three-musketeers' target=\"_blank\">Weights & Biases</a> (<a href='https://wandb.me/developer-guide' target=\"_blank\">docs</a>)<br>Sweep page: <a href='https://wandb.ai/mateogiraz27-ort/three-musketeers/sweeps/txk212na' target=\"_blank\">https://wandb.ai/mateogiraz27-ort/three-musketeers/sweeps/txk212na</a>"
      ],
      "text/plain": [
       "<IPython.core.display.HTML object>"
      ]
     },
     "metadata": {},
     "output_type": "display_data"
    },
    {
     "data": {
      "text/html": [
       " View project at <a href='https://wandb.ai/mateogiraz27-ort/three-musketeers' target=\"_blank\">https://wandb.ai/mateogiraz27-ort/three-musketeers</a>"
      ],
      "text/plain": [
       "<IPython.core.display.HTML object>"
      ]
     },
     "metadata": {},
     "output_type": "display_data"
    },
    {
     "data": {
      "text/html": [
       " View sweep at <a href='https://wandb.ai/mateogiraz27-ort/three-musketeers/sweeps/txk212na' target=\"_blank\">https://wandb.ai/mateogiraz27-ort/three-musketeers/sweeps/txk212na</a>"
      ],
      "text/plain": [
       "<IPython.core.display.HTML object>"
      ]
     },
     "metadata": {},
     "output_type": "display_data"
    },
    {
     "data": {
      "text/html": [
       " View run at <a href='https://wandb.ai/mateogiraz27-ort/three-musketeers/runs/3ln3ic7s' target=\"_blank\">https://wandb.ai/mateogiraz27-ort/three-musketeers/runs/3ln3ic7s</a>"
      ],
      "text/plain": [
       "<IPython.core.display.HTML object>"
      ]
     },
     "metadata": {},
     "output_type": "display_data"
    },
    {
     "name": "stderr",
     "output_type": "stream",
     "text": [
      "100%|██████████| 100/100 [00:41<00:00,  2.42it/s]\n"
     ]
    },
    {
     "data": {
      "text/html": [],
      "text/plain": [
       "<IPython.core.display.HTML object>"
      ]
     },
     "metadata": {},
     "output_type": "display_data"
    },
    {
     "data": {
      "text/html": [
       "<br>    <style><br>        .wandb-row {<br>            display: flex;<br>            flex-direction: row;<br>            flex-wrap: wrap;<br>            justify-content: flex-start;<br>            width: 100%;<br>        }<br>        .wandb-col {<br>            display: flex;<br>            flex-direction: column;<br>            flex-basis: 100%;<br>            flex: 1;<br>            padding: 10px;<br>        }<br>    </style><br><div class=\"wandb-row\"><div class=\"wandb-col\"><h3>Run history:</h3><br/><table class=\"wandb\"><tr><td>agent_wins</td><td>▁</td></tr><tr><td>pete_wins</td><td>▁</td></tr><tr><td>win_rate</td><td>▁</td></tr></table><br/></div><div class=\"wandb-col\"><h3>Run summary:</h3><br/><table class=\"wandb\"><tr><td>agent_wins</td><td>94</td></tr><tr><td>pete_wins</td><td>6</td></tr><tr><td>win_rate</td><td>0.94</td></tr></table><br/></div></div>"
      ],
      "text/plain": [
       "<IPython.core.display.HTML object>"
      ]
     },
     "metadata": {},
     "output_type": "display_data"
    },
    {
     "data": {
      "text/html": [
       " View run <strong style=\"color:#cdcd00\">robust-sweep-51</strong> at: <a href='https://wandb.ai/mateogiraz27-ort/three-musketeers/runs/3ln3ic7s' target=\"_blank\">https://wandb.ai/mateogiraz27-ort/three-musketeers/runs/3ln3ic7s</a><br> View project at: <a href='https://wandb.ai/mateogiraz27-ort/three-musketeers' target=\"_blank\">https://wandb.ai/mateogiraz27-ort/three-musketeers</a><br>Synced 5 W&B file(s), 0 media file(s), 0 artifact file(s) and 0 other file(s)"
      ],
      "text/plain": [
       "<IPython.core.display.HTML object>"
      ]
     },
     "metadata": {},
     "output_type": "display_data"
    },
    {
     "data": {
      "text/html": [
       "Find logs at: <code>./wandb/run-20241214_102119-3ln3ic7s/logs</code>"
      ],
      "text/plain": [
       "<IPython.core.display.HTML object>"
      ]
     },
     "metadata": {},
     "output_type": "display_data"
    },
    {
     "name": "stderr",
     "output_type": "stream",
     "text": [
      "\u001b[34m\u001b[1mwandb\u001b[0m: Agent Starting Run: ty95vc65 with config:\n",
      "\u001b[34m\u001b[1mwandb\u001b[0m: \talignment_weight: 17.12353222484356\n",
      "\u001b[34m\u001b[1mwandb\u001b[0m: \tmax_depth: 3\n",
      "\u001b[34m\u001b[1mwandb\u001b[0m: \tmoves_weight: 14.040078101655444\n",
      "\u001b[34m\u001b[1mwandb\u001b[0m: \ttrap_weight: 19.760874030336527\n"
     ]
    },
    {
     "data": {
      "text/html": [
       "Tracking run with wandb version 0.19.1"
      ],
      "text/plain": [
       "<IPython.core.display.HTML object>"
      ]
     },
     "metadata": {},
     "output_type": "display_data"
    },
    {
     "data": {
      "text/html": [
       "Run data is saved locally in <code>/Users/mateogiraz/Documents/MountainCarContinuous (1)/three-musketeers/wandb/run-20241214_102207-ty95vc65</code>"
      ],
      "text/plain": [
       "<IPython.core.display.HTML object>"
      ]
     },
     "metadata": {},
     "output_type": "display_data"
    },
    {
     "data": {
      "text/html": [
       "Syncing run <strong><a href='https://wandb.ai/mateogiraz27-ort/three-musketeers/runs/ty95vc65' target=\"_blank\">winter-sweep-52</a></strong> to <a href='https://wandb.ai/mateogiraz27-ort/three-musketeers' target=\"_blank\">Weights & Biases</a> (<a href='https://wandb.me/developer-guide' target=\"_blank\">docs</a>)<br>Sweep page: <a href='https://wandb.ai/mateogiraz27-ort/three-musketeers/sweeps/txk212na' target=\"_blank\">https://wandb.ai/mateogiraz27-ort/three-musketeers/sweeps/txk212na</a>"
      ],
      "text/plain": [
       "<IPython.core.display.HTML object>"
      ]
     },
     "metadata": {},
     "output_type": "display_data"
    },
    {
     "data": {
      "text/html": [
       " View project at <a href='https://wandb.ai/mateogiraz27-ort/three-musketeers' target=\"_blank\">https://wandb.ai/mateogiraz27-ort/three-musketeers</a>"
      ],
      "text/plain": [
       "<IPython.core.display.HTML object>"
      ]
     },
     "metadata": {},
     "output_type": "display_data"
    },
    {
     "data": {
      "text/html": [
       " View sweep at <a href='https://wandb.ai/mateogiraz27-ort/three-musketeers/sweeps/txk212na' target=\"_blank\">https://wandb.ai/mateogiraz27-ort/three-musketeers/sweeps/txk212na</a>"
      ],
      "text/plain": [
       "<IPython.core.display.HTML object>"
      ]
     },
     "metadata": {},
     "output_type": "display_data"
    },
    {
     "data": {
      "text/html": [
       " View run at <a href='https://wandb.ai/mateogiraz27-ort/three-musketeers/runs/ty95vc65' target=\"_blank\">https://wandb.ai/mateogiraz27-ort/three-musketeers/runs/ty95vc65</a>"
      ],
      "text/plain": [
       "<IPython.core.display.HTML object>"
      ]
     },
     "metadata": {},
     "output_type": "display_data"
    },
    {
     "name": "stderr",
     "output_type": "stream",
     "text": [
      "100%|██████████| 100/100 [00:26<00:00,  3.73it/s]\n"
     ]
    },
    {
     "data": {
      "text/html": [],
      "text/plain": [
       "<IPython.core.display.HTML object>"
      ]
     },
     "metadata": {},
     "output_type": "display_data"
    },
    {
     "data": {
      "text/html": [
       "<br>    <style><br>        .wandb-row {<br>            display: flex;<br>            flex-direction: row;<br>            flex-wrap: wrap;<br>            justify-content: flex-start;<br>            width: 100%;<br>        }<br>        .wandb-col {<br>            display: flex;<br>            flex-direction: column;<br>            flex-basis: 100%;<br>            flex: 1;<br>            padding: 10px;<br>        }<br>    </style><br><div class=\"wandb-row\"><div class=\"wandb-col\"><h3>Run history:</h3><br/><table class=\"wandb\"><tr><td>agent_wins</td><td>▁</td></tr><tr><td>pete_wins</td><td>▁</td></tr><tr><td>win_rate</td><td>▁</td></tr></table><br/></div><div class=\"wandb-col\"><h3>Run summary:</h3><br/><table class=\"wandb\"><tr><td>agent_wins</td><td>92</td></tr><tr><td>pete_wins</td><td>8</td></tr><tr><td>win_rate</td><td>0.92</td></tr></table><br/></div></div>"
      ],
      "text/plain": [
       "<IPython.core.display.HTML object>"
      ]
     },
     "metadata": {},
     "output_type": "display_data"
    },
    {
     "data": {
      "text/html": [
       " View run <strong style=\"color:#cdcd00\">winter-sweep-52</strong> at: <a href='https://wandb.ai/mateogiraz27-ort/three-musketeers/runs/ty95vc65' target=\"_blank\">https://wandb.ai/mateogiraz27-ort/three-musketeers/runs/ty95vc65</a><br> View project at: <a href='https://wandb.ai/mateogiraz27-ort/three-musketeers' target=\"_blank\">https://wandb.ai/mateogiraz27-ort/three-musketeers</a><br>Synced 5 W&B file(s), 0 media file(s), 0 artifact file(s) and 0 other file(s)"
      ],
      "text/plain": [
       "<IPython.core.display.HTML object>"
      ]
     },
     "metadata": {},
     "output_type": "display_data"
    },
    {
     "data": {
      "text/html": [
       "Find logs at: <code>./wandb/run-20241214_102207-ty95vc65/logs</code>"
      ],
      "text/plain": [
       "<IPython.core.display.HTML object>"
      ]
     },
     "metadata": {},
     "output_type": "display_data"
    },
    {
     "name": "stderr",
     "output_type": "stream",
     "text": [
      "\u001b[34m\u001b[1mwandb\u001b[0m: Agent Starting Run: iitxws78 with config:\n",
      "\u001b[34m\u001b[1mwandb\u001b[0m: \talignment_weight: 16.78431962000012\n",
      "\u001b[34m\u001b[1mwandb\u001b[0m: \tmax_depth: 4\n",
      "\u001b[34m\u001b[1mwandb\u001b[0m: \tmoves_weight: 14.00107626479393\n",
      "\u001b[34m\u001b[1mwandb\u001b[0m: \ttrap_weight: 25.01156890624899\n"
     ]
    },
    {
     "data": {
      "text/html": [
       "Tracking run with wandb version 0.19.1"
      ],
      "text/plain": [
       "<IPython.core.display.HTML object>"
      ]
     },
     "metadata": {},
     "output_type": "display_data"
    },
    {
     "data": {
      "text/html": [
       "Run data is saved locally in <code>/Users/mateogiraz/Documents/MountainCarContinuous (1)/three-musketeers/wandb/run-20241214_102239-iitxws78</code>"
      ],
      "text/plain": [
       "<IPython.core.display.HTML object>"
      ]
     },
     "metadata": {},
     "output_type": "display_data"
    },
    {
     "data": {
      "text/html": [
       "Syncing run <strong><a href='https://wandb.ai/mateogiraz27-ort/three-musketeers/runs/iitxws78' target=\"_blank\">colorful-sweep-53</a></strong> to <a href='https://wandb.ai/mateogiraz27-ort/three-musketeers' target=\"_blank\">Weights & Biases</a> (<a href='https://wandb.me/developer-guide' target=\"_blank\">docs</a>)<br>Sweep page: <a href='https://wandb.ai/mateogiraz27-ort/three-musketeers/sweeps/txk212na' target=\"_blank\">https://wandb.ai/mateogiraz27-ort/three-musketeers/sweeps/txk212na</a>"
      ],
      "text/plain": [
       "<IPython.core.display.HTML object>"
      ]
     },
     "metadata": {},
     "output_type": "display_data"
    },
    {
     "data": {
      "text/html": [
       " View project at <a href='https://wandb.ai/mateogiraz27-ort/three-musketeers' target=\"_blank\">https://wandb.ai/mateogiraz27-ort/three-musketeers</a>"
      ],
      "text/plain": [
       "<IPython.core.display.HTML object>"
      ]
     },
     "metadata": {},
     "output_type": "display_data"
    },
    {
     "data": {
      "text/html": [
       " View sweep at <a href='https://wandb.ai/mateogiraz27-ort/three-musketeers/sweeps/txk212na' target=\"_blank\">https://wandb.ai/mateogiraz27-ort/three-musketeers/sweeps/txk212na</a>"
      ],
      "text/plain": [
       "<IPython.core.display.HTML object>"
      ]
     },
     "metadata": {},
     "output_type": "display_data"
    },
    {
     "data": {
      "text/html": [
       " View run at <a href='https://wandb.ai/mateogiraz27-ort/three-musketeers/runs/iitxws78' target=\"_blank\">https://wandb.ai/mateogiraz27-ort/three-musketeers/runs/iitxws78</a>"
      ],
      "text/plain": [
       "<IPython.core.display.HTML object>"
      ]
     },
     "metadata": {},
     "output_type": "display_data"
    },
    {
     "name": "stderr",
     "output_type": "stream",
     "text": [
      "100%|██████████| 100/100 [00:38<00:00,  2.58it/s]\n"
     ]
    },
    {
     "data": {
      "text/html": [],
      "text/plain": [
       "<IPython.core.display.HTML object>"
      ]
     },
     "metadata": {},
     "output_type": "display_data"
    },
    {
     "data": {
      "text/html": [
       "<br>    <style><br>        .wandb-row {<br>            display: flex;<br>            flex-direction: row;<br>            flex-wrap: wrap;<br>            justify-content: flex-start;<br>            width: 100%;<br>        }<br>        .wandb-col {<br>            display: flex;<br>            flex-direction: column;<br>            flex-basis: 100%;<br>            flex: 1;<br>            padding: 10px;<br>        }<br>    </style><br><div class=\"wandb-row\"><div class=\"wandb-col\"><h3>Run history:</h3><br/><table class=\"wandb\"><tr><td>agent_wins</td><td>▁</td></tr><tr><td>pete_wins</td><td>▁</td></tr><tr><td>win_rate</td><td>▁</td></tr></table><br/></div><div class=\"wandb-col\"><h3>Run summary:</h3><br/><table class=\"wandb\"><tr><td>agent_wins</td><td>91</td></tr><tr><td>pete_wins</td><td>9</td></tr><tr><td>win_rate</td><td>0.91</td></tr></table><br/></div></div>"
      ],
      "text/plain": [
       "<IPython.core.display.HTML object>"
      ]
     },
     "metadata": {},
     "output_type": "display_data"
    },
    {
     "data": {
      "text/html": [
       " View run <strong style=\"color:#cdcd00\">colorful-sweep-53</strong> at: <a href='https://wandb.ai/mateogiraz27-ort/three-musketeers/runs/iitxws78' target=\"_blank\">https://wandb.ai/mateogiraz27-ort/three-musketeers/runs/iitxws78</a><br> View project at: <a href='https://wandb.ai/mateogiraz27-ort/three-musketeers' target=\"_blank\">https://wandb.ai/mateogiraz27-ort/three-musketeers</a><br>Synced 5 W&B file(s), 0 media file(s), 0 artifact file(s) and 0 other file(s)"
      ],
      "text/plain": [
       "<IPython.core.display.HTML object>"
      ]
     },
     "metadata": {},
     "output_type": "display_data"
    },
    {
     "data": {
      "text/html": [
       "Find logs at: <code>./wandb/run-20241214_102239-iitxws78/logs</code>"
      ],
      "text/plain": [
       "<IPython.core.display.HTML object>"
      ]
     },
     "metadata": {},
     "output_type": "display_data"
    },
    {
     "name": "stderr",
     "output_type": "stream",
     "text": [
      "\u001b[34m\u001b[1mwandb\u001b[0m: Sweep Agent: Waiting for job.\n",
      "\u001b[34m\u001b[1mwandb\u001b[0m: Job received.\n",
      "\u001b[34m\u001b[1mwandb\u001b[0m: Agent Starting Run: 1xpzmp5j with config:\n",
      "\u001b[34m\u001b[1mwandb\u001b[0m: \talignment_weight: 17.58056046076043\n",
      "\u001b[34m\u001b[1mwandb\u001b[0m: \tmax_depth: 4\n",
      "\u001b[34m\u001b[1mwandb\u001b[0m: \tmoves_weight: 11.035209276988432\n",
      "\u001b[34m\u001b[1mwandb\u001b[0m: \ttrap_weight: 14.06539784649533\n"
     ]
    },
    {
     "data": {
      "text/html": [
       "Tracking run with wandb version 0.19.1"
      ],
      "text/plain": [
       "<IPython.core.display.HTML object>"
      ]
     },
     "metadata": {},
     "output_type": "display_data"
    },
    {
     "data": {
      "text/html": [
       "Run data is saved locally in <code>/Users/mateogiraz/Documents/MountainCarContinuous (1)/three-musketeers/wandb/run-20241214_102332-1xpzmp5j</code>"
      ],
      "text/plain": [
       "<IPython.core.display.HTML object>"
      ]
     },
     "metadata": {},
     "output_type": "display_data"
    },
    {
     "data": {
      "text/html": [
       "Syncing run <strong><a href='https://wandb.ai/mateogiraz27-ort/three-musketeers/runs/1xpzmp5j' target=\"_blank\">quiet-sweep-54</a></strong> to <a href='https://wandb.ai/mateogiraz27-ort/three-musketeers' target=\"_blank\">Weights & Biases</a> (<a href='https://wandb.me/developer-guide' target=\"_blank\">docs</a>)<br>Sweep page: <a href='https://wandb.ai/mateogiraz27-ort/three-musketeers/sweeps/txk212na' target=\"_blank\">https://wandb.ai/mateogiraz27-ort/three-musketeers/sweeps/txk212na</a>"
      ],
      "text/plain": [
       "<IPython.core.display.HTML object>"
      ]
     },
     "metadata": {},
     "output_type": "display_data"
    },
    {
     "data": {
      "text/html": [
       " View project at <a href='https://wandb.ai/mateogiraz27-ort/three-musketeers' target=\"_blank\">https://wandb.ai/mateogiraz27-ort/three-musketeers</a>"
      ],
      "text/plain": [
       "<IPython.core.display.HTML object>"
      ]
     },
     "metadata": {},
     "output_type": "display_data"
    },
    {
     "data": {
      "text/html": [
       " View sweep at <a href='https://wandb.ai/mateogiraz27-ort/three-musketeers/sweeps/txk212na' target=\"_blank\">https://wandb.ai/mateogiraz27-ort/three-musketeers/sweeps/txk212na</a>"
      ],
      "text/plain": [
       "<IPython.core.display.HTML object>"
      ]
     },
     "metadata": {},
     "output_type": "display_data"
    },
    {
     "data": {
      "text/html": [
       " View run at <a href='https://wandb.ai/mateogiraz27-ort/three-musketeers/runs/1xpzmp5j' target=\"_blank\">https://wandb.ai/mateogiraz27-ort/three-musketeers/runs/1xpzmp5j</a>"
      ],
      "text/plain": [
       "<IPython.core.display.HTML object>"
      ]
     },
     "metadata": {},
     "output_type": "display_data"
    },
    {
     "name": "stderr",
     "output_type": "stream",
     "text": [
      "100%|██████████| 100/100 [00:40<00:00,  2.45it/s]\n"
     ]
    },
    {
     "data": {
      "text/html": [],
      "text/plain": [
       "<IPython.core.display.HTML object>"
      ]
     },
     "metadata": {},
     "output_type": "display_data"
    },
    {
     "data": {
      "text/html": [
       "<br>    <style><br>        .wandb-row {<br>            display: flex;<br>            flex-direction: row;<br>            flex-wrap: wrap;<br>            justify-content: flex-start;<br>            width: 100%;<br>        }<br>        .wandb-col {<br>            display: flex;<br>            flex-direction: column;<br>            flex-basis: 100%;<br>            flex: 1;<br>            padding: 10px;<br>        }<br>    </style><br><div class=\"wandb-row\"><div class=\"wandb-col\"><h3>Run history:</h3><br/><table class=\"wandb\"><tr><td>agent_wins</td><td>▁</td></tr><tr><td>pete_wins</td><td>▁</td></tr><tr><td>win_rate</td><td>▁</td></tr></table><br/></div><div class=\"wandb-col\"><h3>Run summary:</h3><br/><table class=\"wandb\"><tr><td>agent_wins</td><td>93</td></tr><tr><td>pete_wins</td><td>7</td></tr><tr><td>win_rate</td><td>0.93</td></tr></table><br/></div></div>"
      ],
      "text/plain": [
       "<IPython.core.display.HTML object>"
      ]
     },
     "metadata": {},
     "output_type": "display_data"
    },
    {
     "data": {
      "text/html": [
       " View run <strong style=\"color:#cdcd00\">quiet-sweep-54</strong> at: <a href='https://wandb.ai/mateogiraz27-ort/three-musketeers/runs/1xpzmp5j' target=\"_blank\">https://wandb.ai/mateogiraz27-ort/three-musketeers/runs/1xpzmp5j</a><br> View project at: <a href='https://wandb.ai/mateogiraz27-ort/three-musketeers' target=\"_blank\">https://wandb.ai/mateogiraz27-ort/three-musketeers</a><br>Synced 5 W&B file(s), 0 media file(s), 0 artifact file(s) and 0 other file(s)"
      ],
      "text/plain": [
       "<IPython.core.display.HTML object>"
      ]
     },
     "metadata": {},
     "output_type": "display_data"
    },
    {
     "data": {
      "text/html": [
       "Find logs at: <code>./wandb/run-20241214_102332-1xpzmp5j/logs</code>"
      ],
      "text/plain": [
       "<IPython.core.display.HTML object>"
      ]
     },
     "metadata": {},
     "output_type": "display_data"
    },
    {
     "name": "stderr",
     "output_type": "stream",
     "text": [
      "\u001b[34m\u001b[1mwandb\u001b[0m: Agent Starting Run: vwn2rf9i with config:\n",
      "\u001b[34m\u001b[1mwandb\u001b[0m: \talignment_weight: 10.904254387193422\n",
      "\u001b[34m\u001b[1mwandb\u001b[0m: \tmax_depth: 3\n",
      "\u001b[34m\u001b[1mwandb\u001b[0m: \tmoves_weight: 13.274513159168452\n",
      "\u001b[34m\u001b[1mwandb\u001b[0m: \ttrap_weight: 28.894425887601344\n"
     ]
    },
    {
     "data": {
      "text/html": [
       "Tracking run with wandb version 0.19.1"
      ],
      "text/plain": [
       "<IPython.core.display.HTML object>"
      ]
     },
     "metadata": {},
     "output_type": "display_data"
    },
    {
     "data": {
      "text/html": [
       "Run data is saved locally in <code>/Users/mateogiraz/Documents/MountainCarContinuous (1)/three-musketeers/wandb/run-20241214_102421-vwn2rf9i</code>"
      ],
      "text/plain": [
       "<IPython.core.display.HTML object>"
      ]
     },
     "metadata": {},
     "output_type": "display_data"
    },
    {
     "data": {
      "text/html": [
       "Syncing run <strong><a href='https://wandb.ai/mateogiraz27-ort/three-musketeers/runs/vwn2rf9i' target=\"_blank\">lilac-sweep-55</a></strong> to <a href='https://wandb.ai/mateogiraz27-ort/three-musketeers' target=\"_blank\">Weights & Biases</a> (<a href='https://wandb.me/developer-guide' target=\"_blank\">docs</a>)<br>Sweep page: <a href='https://wandb.ai/mateogiraz27-ort/three-musketeers/sweeps/txk212na' target=\"_blank\">https://wandb.ai/mateogiraz27-ort/three-musketeers/sweeps/txk212na</a>"
      ],
      "text/plain": [
       "<IPython.core.display.HTML object>"
      ]
     },
     "metadata": {},
     "output_type": "display_data"
    },
    {
     "data": {
      "text/html": [
       " View project at <a href='https://wandb.ai/mateogiraz27-ort/three-musketeers' target=\"_blank\">https://wandb.ai/mateogiraz27-ort/three-musketeers</a>"
      ],
      "text/plain": [
       "<IPython.core.display.HTML object>"
      ]
     },
     "metadata": {},
     "output_type": "display_data"
    },
    {
     "data": {
      "text/html": [
       " View sweep at <a href='https://wandb.ai/mateogiraz27-ort/three-musketeers/sweeps/txk212na' target=\"_blank\">https://wandb.ai/mateogiraz27-ort/three-musketeers/sweeps/txk212na</a>"
      ],
      "text/plain": [
       "<IPython.core.display.HTML object>"
      ]
     },
     "metadata": {},
     "output_type": "display_data"
    },
    {
     "data": {
      "text/html": [
       " View run at <a href='https://wandb.ai/mateogiraz27-ort/three-musketeers/runs/vwn2rf9i' target=\"_blank\">https://wandb.ai/mateogiraz27-ort/three-musketeers/runs/vwn2rf9i</a>"
      ],
      "text/plain": [
       "<IPython.core.display.HTML object>"
      ]
     },
     "metadata": {},
     "output_type": "display_data"
    },
    {
     "name": "stderr",
     "output_type": "stream",
     "text": [
      "100%|██████████| 100/100 [00:28<00:00,  3.47it/s]\n"
     ]
    },
    {
     "data": {
      "text/html": [],
      "text/plain": [
       "<IPython.core.display.HTML object>"
      ]
     },
     "metadata": {},
     "output_type": "display_data"
    },
    {
     "data": {
      "text/html": [
       "<br>    <style><br>        .wandb-row {<br>            display: flex;<br>            flex-direction: row;<br>            flex-wrap: wrap;<br>            justify-content: flex-start;<br>            width: 100%;<br>        }<br>        .wandb-col {<br>            display: flex;<br>            flex-direction: column;<br>            flex-basis: 100%;<br>            flex: 1;<br>            padding: 10px;<br>        }<br>    </style><br><div class=\"wandb-row\"><div class=\"wandb-col\"><h3>Run history:</h3><br/><table class=\"wandb\"><tr><td>agent_wins</td><td>▁</td></tr><tr><td>pete_wins</td><td>▁</td></tr><tr><td>win_rate</td><td>▁</td></tr></table><br/></div><div class=\"wandb-col\"><h3>Run summary:</h3><br/><table class=\"wandb\"><tr><td>agent_wins</td><td>89</td></tr><tr><td>pete_wins</td><td>11</td></tr><tr><td>win_rate</td><td>0.89</td></tr></table><br/></div></div>"
      ],
      "text/plain": [
       "<IPython.core.display.HTML object>"
      ]
     },
     "metadata": {},
     "output_type": "display_data"
    },
    {
     "data": {
      "text/html": [
       " View run <strong style=\"color:#cdcd00\">lilac-sweep-55</strong> at: <a href='https://wandb.ai/mateogiraz27-ort/three-musketeers/runs/vwn2rf9i' target=\"_blank\">https://wandb.ai/mateogiraz27-ort/three-musketeers/runs/vwn2rf9i</a><br> View project at: <a href='https://wandb.ai/mateogiraz27-ort/three-musketeers' target=\"_blank\">https://wandb.ai/mateogiraz27-ort/three-musketeers</a><br>Synced 5 W&B file(s), 0 media file(s), 0 artifact file(s) and 0 other file(s)"
      ],
      "text/plain": [
       "<IPython.core.display.HTML object>"
      ]
     },
     "metadata": {},
     "output_type": "display_data"
    },
    {
     "data": {
      "text/html": [
       "Find logs at: <code>./wandb/run-20241214_102421-vwn2rf9i/logs</code>"
      ],
      "text/plain": [
       "<IPython.core.display.HTML object>"
      ]
     },
     "metadata": {},
     "output_type": "display_data"
    },
    {
     "name": "stderr",
     "output_type": "stream",
     "text": [
      "\u001b[34m\u001b[1mwandb\u001b[0m: Agent Starting Run: wdhyhkoc with config:\n",
      "\u001b[34m\u001b[1mwandb\u001b[0m: \talignment_weight: 5.653314399869627\n",
      "\u001b[34m\u001b[1mwandb\u001b[0m: \tmax_depth: 4\n",
      "\u001b[34m\u001b[1mwandb\u001b[0m: \tmoves_weight: 7.391208445820836\n",
      "\u001b[34m\u001b[1mwandb\u001b[0m: \ttrap_weight: 22.356752210500694\n"
     ]
    },
    {
     "data": {
      "text/html": [
       "Tracking run with wandb version 0.19.1"
      ],
      "text/plain": [
       "<IPython.core.display.HTML object>"
      ]
     },
     "metadata": {},
     "output_type": "display_data"
    },
    {
     "data": {
      "text/html": [
       "Run data is saved locally in <code>/Users/mateogiraz/Documents/MountainCarContinuous (1)/three-musketeers/wandb/run-20241214_102459-wdhyhkoc</code>"
      ],
      "text/plain": [
       "<IPython.core.display.HTML object>"
      ]
     },
     "metadata": {},
     "output_type": "display_data"
    },
    {
     "data": {
      "text/html": [
       "Syncing run <strong><a href='https://wandb.ai/mateogiraz27-ort/three-musketeers/runs/wdhyhkoc' target=\"_blank\">likely-sweep-56</a></strong> to <a href='https://wandb.ai/mateogiraz27-ort/three-musketeers' target=\"_blank\">Weights & Biases</a> (<a href='https://wandb.me/developer-guide' target=\"_blank\">docs</a>)<br>Sweep page: <a href='https://wandb.ai/mateogiraz27-ort/three-musketeers/sweeps/txk212na' target=\"_blank\">https://wandb.ai/mateogiraz27-ort/three-musketeers/sweeps/txk212na</a>"
      ],
      "text/plain": [
       "<IPython.core.display.HTML object>"
      ]
     },
     "metadata": {},
     "output_type": "display_data"
    },
    {
     "data": {
      "text/html": [
       " View project at <a href='https://wandb.ai/mateogiraz27-ort/three-musketeers' target=\"_blank\">https://wandb.ai/mateogiraz27-ort/three-musketeers</a>"
      ],
      "text/plain": [
       "<IPython.core.display.HTML object>"
      ]
     },
     "metadata": {},
     "output_type": "display_data"
    },
    {
     "data": {
      "text/html": [
       " View sweep at <a href='https://wandb.ai/mateogiraz27-ort/three-musketeers/sweeps/txk212na' target=\"_blank\">https://wandb.ai/mateogiraz27-ort/three-musketeers/sweeps/txk212na</a>"
      ],
      "text/plain": [
       "<IPython.core.display.HTML object>"
      ]
     },
     "metadata": {},
     "output_type": "display_data"
    },
    {
     "data": {
      "text/html": [
       " View run at <a href='https://wandb.ai/mateogiraz27-ort/three-musketeers/runs/wdhyhkoc' target=\"_blank\">https://wandb.ai/mateogiraz27-ort/three-musketeers/runs/wdhyhkoc</a>"
      ],
      "text/plain": [
       "<IPython.core.display.HTML object>"
      ]
     },
     "metadata": {},
     "output_type": "display_data"
    },
    {
     "name": "stderr",
     "output_type": "stream",
     "text": [
      "100%|██████████| 100/100 [00:38<00:00,  2.61it/s]\n"
     ]
    },
    {
     "data": {
      "text/html": [],
      "text/plain": [
       "<IPython.core.display.HTML object>"
      ]
     },
     "metadata": {},
     "output_type": "display_data"
    },
    {
     "data": {
      "text/html": [
       "<br>    <style><br>        .wandb-row {<br>            display: flex;<br>            flex-direction: row;<br>            flex-wrap: wrap;<br>            justify-content: flex-start;<br>            width: 100%;<br>        }<br>        .wandb-col {<br>            display: flex;<br>            flex-direction: column;<br>            flex-basis: 100%;<br>            flex: 1;<br>            padding: 10px;<br>        }<br>    </style><br><div class=\"wandb-row\"><div class=\"wandb-col\"><h3>Run history:</h3><br/><table class=\"wandb\"><tr><td>agent_wins</td><td>▁</td></tr><tr><td>pete_wins</td><td>▁</td></tr><tr><td>win_rate</td><td>▁</td></tr></table><br/></div><div class=\"wandb-col\"><h3>Run summary:</h3><br/><table class=\"wandb\"><tr><td>agent_wins</td><td>92</td></tr><tr><td>pete_wins</td><td>8</td></tr><tr><td>win_rate</td><td>0.92</td></tr></table><br/></div></div>"
      ],
      "text/plain": [
       "<IPython.core.display.HTML object>"
      ]
     },
     "metadata": {},
     "output_type": "display_data"
    },
    {
     "data": {
      "text/html": [
       " View run <strong style=\"color:#cdcd00\">likely-sweep-56</strong> at: <a href='https://wandb.ai/mateogiraz27-ort/three-musketeers/runs/wdhyhkoc' target=\"_blank\">https://wandb.ai/mateogiraz27-ort/three-musketeers/runs/wdhyhkoc</a><br> View project at: <a href='https://wandb.ai/mateogiraz27-ort/three-musketeers' target=\"_blank\">https://wandb.ai/mateogiraz27-ort/three-musketeers</a><br>Synced 5 W&B file(s), 0 media file(s), 0 artifact file(s) and 0 other file(s)"
      ],
      "text/plain": [
       "<IPython.core.display.HTML object>"
      ]
     },
     "metadata": {},
     "output_type": "display_data"
    },
    {
     "data": {
      "text/html": [
       "Find logs at: <code>./wandb/run-20241214_102459-wdhyhkoc/logs</code>"
      ],
      "text/plain": [
       "<IPython.core.display.HTML object>"
      ]
     },
     "metadata": {},
     "output_type": "display_data"
    },
    {
     "name": "stderr",
     "output_type": "stream",
     "text": [
      "\u001b[34m\u001b[1mwandb\u001b[0m: Sweep Agent: Waiting for job.\n",
      "\u001b[34m\u001b[1mwandb\u001b[0m: Job received.\n",
      "\u001b[34m\u001b[1mwandb\u001b[0m: Agent Starting Run: lzjqla0s with config:\n",
      "\u001b[34m\u001b[1mwandb\u001b[0m: \talignment_weight: 18.129366714967837\n",
      "\u001b[34m\u001b[1mwandb\u001b[0m: \tmax_depth: 5\n",
      "\u001b[34m\u001b[1mwandb\u001b[0m: \tmoves_weight: 6.684846508848029\n",
      "\u001b[34m\u001b[1mwandb\u001b[0m: \ttrap_weight: 16.994356537457346\n"
     ]
    },
    {
     "data": {
      "text/html": [
       "Tracking run with wandb version 0.19.1"
      ],
      "text/plain": [
       "<IPython.core.display.HTML object>"
      ]
     },
     "metadata": {},
     "output_type": "display_data"
    },
    {
     "data": {
      "text/html": [
       "Run data is saved locally in <code>/Users/mateogiraz/Documents/MountainCarContinuous (1)/three-musketeers/wandb/run-20241214_102551-lzjqla0s</code>"
      ],
      "text/plain": [
       "<IPython.core.display.HTML object>"
      ]
     },
     "metadata": {},
     "output_type": "display_data"
    },
    {
     "data": {
      "text/html": [
       "Syncing run <strong><a href='https://wandb.ai/mateogiraz27-ort/three-musketeers/runs/lzjqla0s' target=\"_blank\">stoic-sweep-57</a></strong> to <a href='https://wandb.ai/mateogiraz27-ort/three-musketeers' target=\"_blank\">Weights & Biases</a> (<a href='https://wandb.me/developer-guide' target=\"_blank\">docs</a>)<br>Sweep page: <a href='https://wandb.ai/mateogiraz27-ort/three-musketeers/sweeps/txk212na' target=\"_blank\">https://wandb.ai/mateogiraz27-ort/three-musketeers/sweeps/txk212na</a>"
      ],
      "text/plain": [
       "<IPython.core.display.HTML object>"
      ]
     },
     "metadata": {},
     "output_type": "display_data"
    },
    {
     "data": {
      "text/html": [
       " View project at <a href='https://wandb.ai/mateogiraz27-ort/three-musketeers' target=\"_blank\">https://wandb.ai/mateogiraz27-ort/three-musketeers</a>"
      ],
      "text/plain": [
       "<IPython.core.display.HTML object>"
      ]
     },
     "metadata": {},
     "output_type": "display_data"
    },
    {
     "data": {
      "text/html": [
       " View sweep at <a href='https://wandb.ai/mateogiraz27-ort/three-musketeers/sweeps/txk212na' target=\"_blank\">https://wandb.ai/mateogiraz27-ort/three-musketeers/sweeps/txk212na</a>"
      ],
      "text/plain": [
       "<IPython.core.display.HTML object>"
      ]
     },
     "metadata": {},
     "output_type": "display_data"
    },
    {
     "data": {
      "text/html": [
       " View run at <a href='https://wandb.ai/mateogiraz27-ort/three-musketeers/runs/lzjqla0s' target=\"_blank\">https://wandb.ai/mateogiraz27-ort/three-musketeers/runs/lzjqla0s</a>"
      ],
      "text/plain": [
       "<IPython.core.display.HTML object>"
      ]
     },
     "metadata": {},
     "output_type": "display_data"
    },
    {
     "name": "stderr",
     "output_type": "stream",
     "text": [
      "100%|██████████| 100/100 [01:04<00:00,  1.55it/s]\n"
     ]
    },
    {
     "data": {
      "text/html": [],
      "text/plain": [
       "<IPython.core.display.HTML object>"
      ]
     },
     "metadata": {},
     "output_type": "display_data"
    },
    {
     "data": {
      "text/html": [
       "<br>    <style><br>        .wandb-row {<br>            display: flex;<br>            flex-direction: row;<br>            flex-wrap: wrap;<br>            justify-content: flex-start;<br>            width: 100%;<br>        }<br>        .wandb-col {<br>            display: flex;<br>            flex-direction: column;<br>            flex-basis: 100%;<br>            flex: 1;<br>            padding: 10px;<br>        }<br>    </style><br><div class=\"wandb-row\"><div class=\"wandb-col\"><h3>Run history:</h3><br/><table class=\"wandb\"><tr><td>agent_wins</td><td>▁</td></tr><tr><td>pete_wins</td><td>▁</td></tr><tr><td>win_rate</td><td>▁</td></tr></table><br/></div><div class=\"wandb-col\"><h3>Run summary:</h3><br/><table class=\"wandb\"><tr><td>agent_wins</td><td>87</td></tr><tr><td>pete_wins</td><td>13</td></tr><tr><td>win_rate</td><td>0.87</td></tr></table><br/></div></div>"
      ],
      "text/plain": [
       "<IPython.core.display.HTML object>"
      ]
     },
     "metadata": {},
     "output_type": "display_data"
    },
    {
     "data": {
      "text/html": [
       " View run <strong style=\"color:#cdcd00\">stoic-sweep-57</strong> at: <a href='https://wandb.ai/mateogiraz27-ort/three-musketeers/runs/lzjqla0s' target=\"_blank\">https://wandb.ai/mateogiraz27-ort/three-musketeers/runs/lzjqla0s</a><br> View project at: <a href='https://wandb.ai/mateogiraz27-ort/three-musketeers' target=\"_blank\">https://wandb.ai/mateogiraz27-ort/three-musketeers</a><br>Synced 5 W&B file(s), 0 media file(s), 0 artifact file(s) and 0 other file(s)"
      ],
      "text/plain": [
       "<IPython.core.display.HTML object>"
      ]
     },
     "metadata": {},
     "output_type": "display_data"
    },
    {
     "data": {
      "text/html": [
       "Find logs at: <code>./wandb/run-20241214_102551-lzjqla0s/logs</code>"
      ],
      "text/plain": [
       "<IPython.core.display.HTML object>"
      ]
     },
     "metadata": {},
     "output_type": "display_data"
    },
    {
     "name": "stderr",
     "output_type": "stream",
     "text": [
      "\u001b[34m\u001b[1mwandb\u001b[0m: Sweep Agent: Waiting for job.\n",
      "\u001b[34m\u001b[1mwandb\u001b[0m: Job received.\n",
      "\u001b[34m\u001b[1mwandb\u001b[0m: Agent Starting Run: dqv4ka56 with config:\n",
      "\u001b[34m\u001b[1mwandb\u001b[0m: \talignment_weight: 8.31674624816149\n",
      "\u001b[34m\u001b[1mwandb\u001b[0m: \tmax_depth: 2\n",
      "\u001b[34m\u001b[1mwandb\u001b[0m: \tmoves_weight: 6.92143521024307\n",
      "\u001b[34m\u001b[1mwandb\u001b[0m: \ttrap_weight: 16.27915184878909\n"
     ]
    },
    {
     "data": {
      "text/html": [
       "Tracking run with wandb version 0.19.1"
      ],
      "text/plain": [
       "<IPython.core.display.HTML object>"
      ]
     },
     "metadata": {},
     "output_type": "display_data"
    },
    {
     "data": {
      "text/html": [
       "Run data is saved locally in <code>/Users/mateogiraz/Documents/MountainCarContinuous (1)/three-musketeers/wandb/run-20241214_102710-dqv4ka56</code>"
      ],
      "text/plain": [
       "<IPython.core.display.HTML object>"
      ]
     },
     "metadata": {},
     "output_type": "display_data"
    },
    {
     "data": {
      "text/html": [
       "Syncing run <strong><a href='https://wandb.ai/mateogiraz27-ort/three-musketeers/runs/dqv4ka56' target=\"_blank\">sunny-sweep-58</a></strong> to <a href='https://wandb.ai/mateogiraz27-ort/three-musketeers' target=\"_blank\">Weights & Biases</a> (<a href='https://wandb.me/developer-guide' target=\"_blank\">docs</a>)<br>Sweep page: <a href='https://wandb.ai/mateogiraz27-ort/three-musketeers/sweeps/txk212na' target=\"_blank\">https://wandb.ai/mateogiraz27-ort/three-musketeers/sweeps/txk212na</a>"
      ],
      "text/plain": [
       "<IPython.core.display.HTML object>"
      ]
     },
     "metadata": {},
     "output_type": "display_data"
    },
    {
     "data": {
      "text/html": [
       " View project at <a href='https://wandb.ai/mateogiraz27-ort/three-musketeers' target=\"_blank\">https://wandb.ai/mateogiraz27-ort/three-musketeers</a>"
      ],
      "text/plain": [
       "<IPython.core.display.HTML object>"
      ]
     },
     "metadata": {},
     "output_type": "display_data"
    },
    {
     "data": {
      "text/html": [
       " View sweep at <a href='https://wandb.ai/mateogiraz27-ort/three-musketeers/sweeps/txk212na' target=\"_blank\">https://wandb.ai/mateogiraz27-ort/three-musketeers/sweeps/txk212na</a>"
      ],
      "text/plain": [
       "<IPython.core.display.HTML object>"
      ]
     },
     "metadata": {},
     "output_type": "display_data"
    },
    {
     "data": {
      "text/html": [
       " View run at <a href='https://wandb.ai/mateogiraz27-ort/three-musketeers/runs/dqv4ka56' target=\"_blank\">https://wandb.ai/mateogiraz27-ort/three-musketeers/runs/dqv4ka56</a>"
      ],
      "text/plain": [
       "<IPython.core.display.HTML object>"
      ]
     },
     "metadata": {},
     "output_type": "display_data"
    },
    {
     "name": "stderr",
     "output_type": "stream",
     "text": [
      "100%|██████████| 100/100 [00:23<00:00,  4.31it/s]\n"
     ]
    },
    {
     "data": {
      "text/html": [],
      "text/plain": [
       "<IPython.core.display.HTML object>"
      ]
     },
     "metadata": {},
     "output_type": "display_data"
    },
    {
     "data": {
      "text/html": [
       "<br>    <style><br>        .wandb-row {<br>            display: flex;<br>            flex-direction: row;<br>            flex-wrap: wrap;<br>            justify-content: flex-start;<br>            width: 100%;<br>        }<br>        .wandb-col {<br>            display: flex;<br>            flex-direction: column;<br>            flex-basis: 100%;<br>            flex: 1;<br>            padding: 10px;<br>        }<br>    </style><br><div class=\"wandb-row\"><div class=\"wandb-col\"><h3>Run history:</h3><br/><table class=\"wandb\"><tr><td>agent_wins</td><td>▁</td></tr><tr><td>pete_wins</td><td>▁</td></tr><tr><td>win_rate</td><td>▁</td></tr></table><br/></div><div class=\"wandb-col\"><h3>Run summary:</h3><br/><table class=\"wandb\"><tr><td>agent_wins</td><td>88</td></tr><tr><td>pete_wins</td><td>12</td></tr><tr><td>win_rate</td><td>0.88</td></tr></table><br/></div></div>"
      ],
      "text/plain": [
       "<IPython.core.display.HTML object>"
      ]
     },
     "metadata": {},
     "output_type": "display_data"
    },
    {
     "data": {
      "text/html": [
       " View run <strong style=\"color:#cdcd00\">sunny-sweep-58</strong> at: <a href='https://wandb.ai/mateogiraz27-ort/three-musketeers/runs/dqv4ka56' target=\"_blank\">https://wandb.ai/mateogiraz27-ort/three-musketeers/runs/dqv4ka56</a><br> View project at: <a href='https://wandb.ai/mateogiraz27-ort/three-musketeers' target=\"_blank\">https://wandb.ai/mateogiraz27-ort/three-musketeers</a><br>Synced 5 W&B file(s), 0 media file(s), 0 artifact file(s) and 0 other file(s)"
      ],
      "text/plain": [
       "<IPython.core.display.HTML object>"
      ]
     },
     "metadata": {},
     "output_type": "display_data"
    },
    {
     "data": {
      "text/html": [
       "Find logs at: <code>./wandb/run-20241214_102710-dqv4ka56/logs</code>"
      ],
      "text/plain": [
       "<IPython.core.display.HTML object>"
      ]
     },
     "metadata": {},
     "output_type": "display_data"
    },
    {
     "name": "stderr",
     "output_type": "stream",
     "text": [
      "\u001b[34m\u001b[1mwandb\u001b[0m: Agent Starting Run: x8bl7stu with config:\n",
      "\u001b[34m\u001b[1mwandb\u001b[0m: \talignment_weight: 8.561614984403043\n",
      "\u001b[34m\u001b[1mwandb\u001b[0m: \tmax_depth: 5\n",
      "\u001b[34m\u001b[1mwandb\u001b[0m: \tmoves_weight: 7.059072755010215\n",
      "\u001b[34m\u001b[1mwandb\u001b[0m: \ttrap_weight: 21.862045976730876\n"
     ]
    },
    {
     "data": {
      "text/html": [
       "Tracking run with wandb version 0.19.1"
      ],
      "text/plain": [
       "<IPython.core.display.HTML object>"
      ]
     },
     "metadata": {},
     "output_type": "display_data"
    },
    {
     "data": {
      "text/html": [
       "Run data is saved locally in <code>/Users/mateogiraz/Documents/MountainCarContinuous (1)/three-musketeers/wandb/run-20241214_102738-x8bl7stu</code>"
      ],
      "text/plain": [
       "<IPython.core.display.HTML object>"
      ]
     },
     "metadata": {},
     "output_type": "display_data"
    },
    {
     "data": {
      "text/html": [
       "Syncing run <strong><a href='https://wandb.ai/mateogiraz27-ort/three-musketeers/runs/x8bl7stu' target=\"_blank\">faithful-sweep-59</a></strong> to <a href='https://wandb.ai/mateogiraz27-ort/three-musketeers' target=\"_blank\">Weights & Biases</a> (<a href='https://wandb.me/developer-guide' target=\"_blank\">docs</a>)<br>Sweep page: <a href='https://wandb.ai/mateogiraz27-ort/three-musketeers/sweeps/txk212na' target=\"_blank\">https://wandb.ai/mateogiraz27-ort/three-musketeers/sweeps/txk212na</a>"
      ],
      "text/plain": [
       "<IPython.core.display.HTML object>"
      ]
     },
     "metadata": {},
     "output_type": "display_data"
    },
    {
     "data": {
      "text/html": [
       " View project at <a href='https://wandb.ai/mateogiraz27-ort/three-musketeers' target=\"_blank\">https://wandb.ai/mateogiraz27-ort/three-musketeers</a>"
      ],
      "text/plain": [
       "<IPython.core.display.HTML object>"
      ]
     },
     "metadata": {},
     "output_type": "display_data"
    },
    {
     "data": {
      "text/html": [
       " View sweep at <a href='https://wandb.ai/mateogiraz27-ort/three-musketeers/sweeps/txk212na' target=\"_blank\">https://wandb.ai/mateogiraz27-ort/three-musketeers/sweeps/txk212na</a>"
      ],
      "text/plain": [
       "<IPython.core.display.HTML object>"
      ]
     },
     "metadata": {},
     "output_type": "display_data"
    },
    {
     "data": {
      "text/html": [
       " View run at <a href='https://wandb.ai/mateogiraz27-ort/three-musketeers/runs/x8bl7stu' target=\"_blank\">https://wandb.ai/mateogiraz27-ort/three-musketeers/runs/x8bl7stu</a>"
      ],
      "text/plain": [
       "<IPython.core.display.HTML object>"
      ]
     },
     "metadata": {},
     "output_type": "display_data"
    },
    {
     "name": "stderr",
     "output_type": "stream",
     "text": [
      "100%|██████████| 100/100 [01:04<00:00,  1.56it/s]\n"
     ]
    },
    {
     "data": {
      "text/html": [],
      "text/plain": [
       "<IPython.core.display.HTML object>"
      ]
     },
     "metadata": {},
     "output_type": "display_data"
    },
    {
     "data": {
      "text/html": [
       "<br>    <style><br>        .wandb-row {<br>            display: flex;<br>            flex-direction: row;<br>            flex-wrap: wrap;<br>            justify-content: flex-start;<br>            width: 100%;<br>        }<br>        .wandb-col {<br>            display: flex;<br>            flex-direction: column;<br>            flex-basis: 100%;<br>            flex: 1;<br>            padding: 10px;<br>        }<br>    </style><br><div class=\"wandb-row\"><div class=\"wandb-col\"><h3>Run history:</h3><br/><table class=\"wandb\"><tr><td>agent_wins</td><td>▁</td></tr><tr><td>pete_wins</td><td>▁</td></tr><tr><td>win_rate</td><td>▁</td></tr></table><br/></div><div class=\"wandb-col\"><h3>Run summary:</h3><br/><table class=\"wandb\"><tr><td>agent_wins</td><td>90</td></tr><tr><td>pete_wins</td><td>10</td></tr><tr><td>win_rate</td><td>0.9</td></tr></table><br/></div></div>"
      ],
      "text/plain": [
       "<IPython.core.display.HTML object>"
      ]
     },
     "metadata": {},
     "output_type": "display_data"
    },
    {
     "data": {
      "text/html": [
       " View run <strong style=\"color:#cdcd00\">faithful-sweep-59</strong> at: <a href='https://wandb.ai/mateogiraz27-ort/three-musketeers/runs/x8bl7stu' target=\"_blank\">https://wandb.ai/mateogiraz27-ort/three-musketeers/runs/x8bl7stu</a><br> View project at: <a href='https://wandb.ai/mateogiraz27-ort/three-musketeers' target=\"_blank\">https://wandb.ai/mateogiraz27-ort/three-musketeers</a><br>Synced 5 W&B file(s), 0 media file(s), 0 artifact file(s) and 0 other file(s)"
      ],
      "text/plain": [
       "<IPython.core.display.HTML object>"
      ]
     },
     "metadata": {},
     "output_type": "display_data"
    },
    {
     "data": {
      "text/html": [
       "Find logs at: <code>./wandb/run-20241214_102738-x8bl7stu/logs</code>"
      ],
      "text/plain": [
       "<IPython.core.display.HTML object>"
      ]
     },
     "metadata": {},
     "output_type": "display_data"
    },
    {
     "name": "stderr",
     "output_type": "stream",
     "text": [
      "\u001b[34m\u001b[1mwandb\u001b[0m: Sweep Agent: Waiting for job.\n",
      "\u001b[34m\u001b[1mwandb\u001b[0m: Job received.\n",
      "\u001b[34m\u001b[1mwandb\u001b[0m: Agent Starting Run: l1sph6xw with config:\n",
      "\u001b[34m\u001b[1mwandb\u001b[0m: \talignment_weight: 5.809712187873533\n",
      "\u001b[34m\u001b[1mwandb\u001b[0m: \tmax_depth: 3\n",
      "\u001b[34m\u001b[1mwandb\u001b[0m: \tmoves_weight: 9.780746864506796\n",
      "\u001b[34m\u001b[1mwandb\u001b[0m: \ttrap_weight: 13.575477362157985\n"
     ]
    },
    {
     "data": {
      "text/html": [
       "Tracking run with wandb version 0.19.1"
      ],
      "text/plain": [
       "<IPython.core.display.HTML object>"
      ]
     },
     "metadata": {},
     "output_type": "display_data"
    },
    {
     "data": {
      "text/html": [
       "Run data is saved locally in <code>/Users/mateogiraz/Documents/MountainCarContinuous (1)/three-musketeers/wandb/run-20241214_102856-l1sph6xw</code>"
      ],
      "text/plain": [
       "<IPython.core.display.HTML object>"
      ]
     },
     "metadata": {},
     "output_type": "display_data"
    },
    {
     "data": {
      "text/html": [
       "Syncing run <strong><a href='https://wandb.ai/mateogiraz27-ort/three-musketeers/runs/l1sph6xw' target=\"_blank\">upbeat-sweep-60</a></strong> to <a href='https://wandb.ai/mateogiraz27-ort/three-musketeers' target=\"_blank\">Weights & Biases</a> (<a href='https://wandb.me/developer-guide' target=\"_blank\">docs</a>)<br>Sweep page: <a href='https://wandb.ai/mateogiraz27-ort/three-musketeers/sweeps/txk212na' target=\"_blank\">https://wandb.ai/mateogiraz27-ort/three-musketeers/sweeps/txk212na</a>"
      ],
      "text/plain": [
       "<IPython.core.display.HTML object>"
      ]
     },
     "metadata": {},
     "output_type": "display_data"
    },
    {
     "data": {
      "text/html": [
       " View project at <a href='https://wandb.ai/mateogiraz27-ort/three-musketeers' target=\"_blank\">https://wandb.ai/mateogiraz27-ort/three-musketeers</a>"
      ],
      "text/plain": [
       "<IPython.core.display.HTML object>"
      ]
     },
     "metadata": {},
     "output_type": "display_data"
    },
    {
     "data": {
      "text/html": [
       " View sweep at <a href='https://wandb.ai/mateogiraz27-ort/three-musketeers/sweeps/txk212na' target=\"_blank\">https://wandb.ai/mateogiraz27-ort/three-musketeers/sweeps/txk212na</a>"
      ],
      "text/plain": [
       "<IPython.core.display.HTML object>"
      ]
     },
     "metadata": {},
     "output_type": "display_data"
    },
    {
     "data": {
      "text/html": [
       " View run at <a href='https://wandb.ai/mateogiraz27-ort/three-musketeers/runs/l1sph6xw' target=\"_blank\">https://wandb.ai/mateogiraz27-ort/three-musketeers/runs/l1sph6xw</a>"
      ],
      "text/plain": [
       "<IPython.core.display.HTML object>"
      ]
     },
     "metadata": {},
     "output_type": "display_data"
    },
    {
     "name": "stderr",
     "output_type": "stream",
     "text": [
      "100%|██████████| 100/100 [00:24<00:00,  4.07it/s]\n"
     ]
    },
    {
     "data": {
      "text/html": [],
      "text/plain": [
       "<IPython.core.display.HTML object>"
      ]
     },
     "metadata": {},
     "output_type": "display_data"
    },
    {
     "data": {
      "text/html": [
       "<br>    <style><br>        .wandb-row {<br>            display: flex;<br>            flex-direction: row;<br>            flex-wrap: wrap;<br>            justify-content: flex-start;<br>            width: 100%;<br>        }<br>        .wandb-col {<br>            display: flex;<br>            flex-direction: column;<br>            flex-basis: 100%;<br>            flex: 1;<br>            padding: 10px;<br>        }<br>    </style><br><div class=\"wandb-row\"><div class=\"wandb-col\"><h3>Run history:</h3><br/><table class=\"wandb\"><tr><td>agent_wins</td><td>▁</td></tr><tr><td>pete_wins</td><td>▁</td></tr><tr><td>win_rate</td><td>▁</td></tr></table><br/></div><div class=\"wandb-col\"><h3>Run summary:</h3><br/><table class=\"wandb\"><tr><td>agent_wins</td><td>94</td></tr><tr><td>pete_wins</td><td>6</td></tr><tr><td>win_rate</td><td>0.94</td></tr></table><br/></div></div>"
      ],
      "text/plain": [
       "<IPython.core.display.HTML object>"
      ]
     },
     "metadata": {},
     "output_type": "display_data"
    },
    {
     "data": {
      "text/html": [
       " View run <strong style=\"color:#cdcd00\">upbeat-sweep-60</strong> at: <a href='https://wandb.ai/mateogiraz27-ort/three-musketeers/runs/l1sph6xw' target=\"_blank\">https://wandb.ai/mateogiraz27-ort/three-musketeers/runs/l1sph6xw</a><br> View project at: <a href='https://wandb.ai/mateogiraz27-ort/three-musketeers' target=\"_blank\">https://wandb.ai/mateogiraz27-ort/three-musketeers</a><br>Synced 5 W&B file(s), 0 media file(s), 0 artifact file(s) and 0 other file(s)"
      ],
      "text/plain": [
       "<IPython.core.display.HTML object>"
      ]
     },
     "metadata": {},
     "output_type": "display_data"
    },
    {
     "data": {
      "text/html": [
       "Find logs at: <code>./wandb/run-20241214_102856-l1sph6xw/logs</code>"
      ],
      "text/plain": [
       "<IPython.core.display.HTML object>"
      ]
     },
     "metadata": {},
     "output_type": "display_data"
    },
    {
     "name": "stderr",
     "output_type": "stream",
     "text": [
      "\u001b[34m\u001b[1mwandb\u001b[0m: Agent Starting Run: slw2pidk with config:\n",
      "\u001b[34m\u001b[1mwandb\u001b[0m: \talignment_weight: 16.96669114842535\n",
      "\u001b[34m\u001b[1mwandb\u001b[0m: \tmax_depth: 3\n",
      "\u001b[34m\u001b[1mwandb\u001b[0m: \tmoves_weight: 13.570864010954509\n",
      "\u001b[34m\u001b[1mwandb\u001b[0m: \ttrap_weight: 18.01466618018848\n"
     ]
    },
    {
     "data": {
      "text/html": [
       "Tracking run with wandb version 0.19.1"
      ],
      "text/plain": [
       "<IPython.core.display.HTML object>"
      ]
     },
     "metadata": {},
     "output_type": "display_data"
    },
    {
     "data": {
      "text/html": [
       "Run data is saved locally in <code>/Users/mateogiraz/Documents/MountainCarContinuous (1)/three-musketeers/wandb/run-20241214_102929-slw2pidk</code>"
      ],
      "text/plain": [
       "<IPython.core.display.HTML object>"
      ]
     },
     "metadata": {},
     "output_type": "display_data"
    },
    {
     "data": {
      "text/html": [
       "Syncing run <strong><a href='https://wandb.ai/mateogiraz27-ort/three-musketeers/runs/slw2pidk' target=\"_blank\">youthful-sweep-61</a></strong> to <a href='https://wandb.ai/mateogiraz27-ort/three-musketeers' target=\"_blank\">Weights & Biases</a> (<a href='https://wandb.me/developer-guide' target=\"_blank\">docs</a>)<br>Sweep page: <a href='https://wandb.ai/mateogiraz27-ort/three-musketeers/sweeps/txk212na' target=\"_blank\">https://wandb.ai/mateogiraz27-ort/three-musketeers/sweeps/txk212na</a>"
      ],
      "text/plain": [
       "<IPython.core.display.HTML object>"
      ]
     },
     "metadata": {},
     "output_type": "display_data"
    },
    {
     "data": {
      "text/html": [
       " View project at <a href='https://wandb.ai/mateogiraz27-ort/three-musketeers' target=\"_blank\">https://wandb.ai/mateogiraz27-ort/three-musketeers</a>"
      ],
      "text/plain": [
       "<IPython.core.display.HTML object>"
      ]
     },
     "metadata": {},
     "output_type": "display_data"
    },
    {
     "data": {
      "text/html": [
       " View sweep at <a href='https://wandb.ai/mateogiraz27-ort/three-musketeers/sweeps/txk212na' target=\"_blank\">https://wandb.ai/mateogiraz27-ort/three-musketeers/sweeps/txk212na</a>"
      ],
      "text/plain": [
       "<IPython.core.display.HTML object>"
      ]
     },
     "metadata": {},
     "output_type": "display_data"
    },
    {
     "data": {
      "text/html": [
       " View run at <a href='https://wandb.ai/mateogiraz27-ort/three-musketeers/runs/slw2pidk' target=\"_blank\">https://wandb.ai/mateogiraz27-ort/three-musketeers/runs/slw2pidk</a>"
      ],
      "text/plain": [
       "<IPython.core.display.HTML object>"
      ]
     },
     "metadata": {},
     "output_type": "display_data"
    },
    {
     "name": "stderr",
     "output_type": "stream",
     "text": [
      "100%|██████████| 100/100 [00:28<00:00,  3.57it/s]\n"
     ]
    },
    {
     "data": {
      "text/html": [],
      "text/plain": [
       "<IPython.core.display.HTML object>"
      ]
     },
     "metadata": {},
     "output_type": "display_data"
    },
    {
     "data": {
      "text/html": [
       "<br>    <style><br>        .wandb-row {<br>            display: flex;<br>            flex-direction: row;<br>            flex-wrap: wrap;<br>            justify-content: flex-start;<br>            width: 100%;<br>        }<br>        .wandb-col {<br>            display: flex;<br>            flex-direction: column;<br>            flex-basis: 100%;<br>            flex: 1;<br>            padding: 10px;<br>        }<br>    </style><br><div class=\"wandb-row\"><div class=\"wandb-col\"><h3>Run history:</h3><br/><table class=\"wandb\"><tr><td>agent_wins</td><td>▁</td></tr><tr><td>pete_wins</td><td>▁</td></tr><tr><td>win_rate</td><td>▁</td></tr></table><br/></div><div class=\"wandb-col\"><h3>Run summary:</h3><br/><table class=\"wandb\"><tr><td>agent_wins</td><td>89</td></tr><tr><td>pete_wins</td><td>11</td></tr><tr><td>win_rate</td><td>0.89</td></tr></table><br/></div></div>"
      ],
      "text/plain": [
       "<IPython.core.display.HTML object>"
      ]
     },
     "metadata": {},
     "output_type": "display_data"
    },
    {
     "data": {
      "text/html": [
       " View run <strong style=\"color:#cdcd00\">youthful-sweep-61</strong> at: <a href='https://wandb.ai/mateogiraz27-ort/three-musketeers/runs/slw2pidk' target=\"_blank\">https://wandb.ai/mateogiraz27-ort/three-musketeers/runs/slw2pidk</a><br> View project at: <a href='https://wandb.ai/mateogiraz27-ort/three-musketeers' target=\"_blank\">https://wandb.ai/mateogiraz27-ort/three-musketeers</a><br>Synced 5 W&B file(s), 0 media file(s), 0 artifact file(s) and 0 other file(s)"
      ],
      "text/plain": [
       "<IPython.core.display.HTML object>"
      ]
     },
     "metadata": {},
     "output_type": "display_data"
    },
    {
     "data": {
      "text/html": [
       "Find logs at: <code>./wandb/run-20241214_102929-slw2pidk/logs</code>"
      ],
      "text/plain": [
       "<IPython.core.display.HTML object>"
      ]
     },
     "metadata": {},
     "output_type": "display_data"
    },
    {
     "name": "stderr",
     "output_type": "stream",
     "text": [
      "\u001b[34m\u001b[1mwandb\u001b[0m: Agent Starting Run: zowpi9sg with config:\n",
      "\u001b[34m\u001b[1mwandb\u001b[0m: \talignment_weight: 15.262248031383535\n",
      "\u001b[34m\u001b[1mwandb\u001b[0m: \tmax_depth: 4\n",
      "\u001b[34m\u001b[1mwandb\u001b[0m: \tmoves_weight: 11.234041451947796\n",
      "\u001b[34m\u001b[1mwandb\u001b[0m: \ttrap_weight: 28.24084338832269\n"
     ]
    },
    {
     "data": {
      "text/html": [
       "Tracking run with wandb version 0.19.1"
      ],
      "text/plain": [
       "<IPython.core.display.HTML object>"
      ]
     },
     "metadata": {},
     "output_type": "display_data"
    },
    {
     "data": {
      "text/html": [
       "Run data is saved locally in <code>/Users/mateogiraz/Documents/MountainCarContinuous (1)/three-musketeers/wandb/run-20241214_103001-zowpi9sg</code>"
      ],
      "text/plain": [
       "<IPython.core.display.HTML object>"
      ]
     },
     "metadata": {},
     "output_type": "display_data"
    },
    {
     "data": {
      "text/html": [
       "Syncing run <strong><a href='https://wandb.ai/mateogiraz27-ort/three-musketeers/runs/zowpi9sg' target=\"_blank\">iconic-sweep-62</a></strong> to <a href='https://wandb.ai/mateogiraz27-ort/three-musketeers' target=\"_blank\">Weights & Biases</a> (<a href='https://wandb.me/developer-guide' target=\"_blank\">docs</a>)<br>Sweep page: <a href='https://wandb.ai/mateogiraz27-ort/three-musketeers/sweeps/txk212na' target=\"_blank\">https://wandb.ai/mateogiraz27-ort/three-musketeers/sweeps/txk212na</a>"
      ],
      "text/plain": [
       "<IPython.core.display.HTML object>"
      ]
     },
     "metadata": {},
     "output_type": "display_data"
    },
    {
     "data": {
      "text/html": [
       " View project at <a href='https://wandb.ai/mateogiraz27-ort/three-musketeers' target=\"_blank\">https://wandb.ai/mateogiraz27-ort/three-musketeers</a>"
      ],
      "text/plain": [
       "<IPython.core.display.HTML object>"
      ]
     },
     "metadata": {},
     "output_type": "display_data"
    },
    {
     "data": {
      "text/html": [
       " View sweep at <a href='https://wandb.ai/mateogiraz27-ort/three-musketeers/sweeps/txk212na' target=\"_blank\">https://wandb.ai/mateogiraz27-ort/three-musketeers/sweeps/txk212na</a>"
      ],
      "text/plain": [
       "<IPython.core.display.HTML object>"
      ]
     },
     "metadata": {},
     "output_type": "display_data"
    },
    {
     "data": {
      "text/html": [
       " View run at <a href='https://wandb.ai/mateogiraz27-ort/three-musketeers/runs/zowpi9sg' target=\"_blank\">https://wandb.ai/mateogiraz27-ort/three-musketeers/runs/zowpi9sg</a>"
      ],
      "text/plain": [
       "<IPython.core.display.HTML object>"
      ]
     },
     "metadata": {},
     "output_type": "display_data"
    },
    {
     "name": "stderr",
     "output_type": "stream",
     "text": [
      "100%|██████████| 100/100 [00:38<00:00,  2.59it/s]\n"
     ]
    },
    {
     "data": {
      "text/html": [],
      "text/plain": [
       "<IPython.core.display.HTML object>"
      ]
     },
     "metadata": {},
     "output_type": "display_data"
    },
    {
     "data": {
      "text/html": [
       "<br>    <style><br>        .wandb-row {<br>            display: flex;<br>            flex-direction: row;<br>            flex-wrap: wrap;<br>            justify-content: flex-start;<br>            width: 100%;<br>        }<br>        .wandb-col {<br>            display: flex;<br>            flex-direction: column;<br>            flex-basis: 100%;<br>            flex: 1;<br>            padding: 10px;<br>        }<br>    </style><br><div class=\"wandb-row\"><div class=\"wandb-col\"><h3>Run history:</h3><br/><table class=\"wandb\"><tr><td>agent_wins</td><td>▁</td></tr><tr><td>pete_wins</td><td>▁</td></tr><tr><td>win_rate</td><td>▁</td></tr></table><br/></div><div class=\"wandb-col\"><h3>Run summary:</h3><br/><table class=\"wandb\"><tr><td>agent_wins</td><td>92</td></tr><tr><td>pete_wins</td><td>8</td></tr><tr><td>win_rate</td><td>0.92</td></tr></table><br/></div></div>"
      ],
      "text/plain": [
       "<IPython.core.display.HTML object>"
      ]
     },
     "metadata": {},
     "output_type": "display_data"
    },
    {
     "data": {
      "text/html": [
       " View run <strong style=\"color:#cdcd00\">iconic-sweep-62</strong> at: <a href='https://wandb.ai/mateogiraz27-ort/three-musketeers/runs/zowpi9sg' target=\"_blank\">https://wandb.ai/mateogiraz27-ort/three-musketeers/runs/zowpi9sg</a><br> View project at: <a href='https://wandb.ai/mateogiraz27-ort/three-musketeers' target=\"_blank\">https://wandb.ai/mateogiraz27-ort/three-musketeers</a><br>Synced 5 W&B file(s), 0 media file(s), 0 artifact file(s) and 0 other file(s)"
      ],
      "text/plain": [
       "<IPython.core.display.HTML object>"
      ]
     },
     "metadata": {},
     "output_type": "display_data"
    },
    {
     "data": {
      "text/html": [
       "Find logs at: <code>./wandb/run-20241214_103001-zowpi9sg/logs</code>"
      ],
      "text/plain": [
       "<IPython.core.display.HTML object>"
      ]
     },
     "metadata": {},
     "output_type": "display_data"
    },
    {
     "name": "stderr",
     "output_type": "stream",
     "text": [
      "\u001b[34m\u001b[1mwandb\u001b[0m: Sweep Agent: Waiting for job.\n",
      "\u001b[34m\u001b[1mwandb\u001b[0m: Job received.\n",
      "\u001b[34m\u001b[1mwandb\u001b[0m: Agent Starting Run: iv6iz7p2 with config:\n",
      "\u001b[34m\u001b[1mwandb\u001b[0m: \talignment_weight: 10.772162623303847\n",
      "\u001b[34m\u001b[1mwandb\u001b[0m: \tmax_depth: 3\n",
      "\u001b[34m\u001b[1mwandb\u001b[0m: \tmoves_weight: 11.268480938845324\n",
      "\u001b[34m\u001b[1mwandb\u001b[0m: \ttrap_weight: 17.9209459483345\n"
     ]
    },
    {
     "data": {
      "text/html": [
       "Tracking run with wandb version 0.19.1"
      ],
      "text/plain": [
       "<IPython.core.display.HTML object>"
      ]
     },
     "metadata": {},
     "output_type": "display_data"
    },
    {
     "data": {
      "text/html": [
       "Run data is saved locally in <code>/Users/mateogiraz/Documents/MountainCarContinuous (1)/three-musketeers/wandb/run-20241214_103054-iv6iz7p2</code>"
      ],
      "text/plain": [
       "<IPython.core.display.HTML object>"
      ]
     },
     "metadata": {},
     "output_type": "display_data"
    },
    {
     "data": {
      "text/html": [
       "Syncing run <strong><a href='https://wandb.ai/mateogiraz27-ort/three-musketeers/runs/iv6iz7p2' target=\"_blank\">hopeful-sweep-63</a></strong> to <a href='https://wandb.ai/mateogiraz27-ort/three-musketeers' target=\"_blank\">Weights & Biases</a> (<a href='https://wandb.me/developer-guide' target=\"_blank\">docs</a>)<br>Sweep page: <a href='https://wandb.ai/mateogiraz27-ort/three-musketeers/sweeps/txk212na' target=\"_blank\">https://wandb.ai/mateogiraz27-ort/three-musketeers/sweeps/txk212na</a>"
      ],
      "text/plain": [
       "<IPython.core.display.HTML object>"
      ]
     },
     "metadata": {},
     "output_type": "display_data"
    },
    {
     "data": {
      "text/html": [
       " View project at <a href='https://wandb.ai/mateogiraz27-ort/three-musketeers' target=\"_blank\">https://wandb.ai/mateogiraz27-ort/three-musketeers</a>"
      ],
      "text/plain": [
       "<IPython.core.display.HTML object>"
      ]
     },
     "metadata": {},
     "output_type": "display_data"
    },
    {
     "data": {
      "text/html": [
       " View sweep at <a href='https://wandb.ai/mateogiraz27-ort/three-musketeers/sweeps/txk212na' target=\"_blank\">https://wandb.ai/mateogiraz27-ort/three-musketeers/sweeps/txk212na</a>"
      ],
      "text/plain": [
       "<IPython.core.display.HTML object>"
      ]
     },
     "metadata": {},
     "output_type": "display_data"
    },
    {
     "data": {
      "text/html": [
       " View run at <a href='https://wandb.ai/mateogiraz27-ort/three-musketeers/runs/iv6iz7p2' target=\"_blank\">https://wandb.ai/mateogiraz27-ort/three-musketeers/runs/iv6iz7p2</a>"
      ],
      "text/plain": [
       "<IPython.core.display.HTML object>"
      ]
     },
     "metadata": {},
     "output_type": "display_data"
    },
    {
     "name": "stderr",
     "output_type": "stream",
     "text": [
      "100%|██████████| 100/100 [00:28<00:00,  3.54it/s]\n"
     ]
    },
    {
     "data": {
      "text/html": [],
      "text/plain": [
       "<IPython.core.display.HTML object>"
      ]
     },
     "metadata": {},
     "output_type": "display_data"
    },
    {
     "data": {
      "text/html": [
       "<br>    <style><br>        .wandb-row {<br>            display: flex;<br>            flex-direction: row;<br>            flex-wrap: wrap;<br>            justify-content: flex-start;<br>            width: 100%;<br>        }<br>        .wandb-col {<br>            display: flex;<br>            flex-direction: column;<br>            flex-basis: 100%;<br>            flex: 1;<br>            padding: 10px;<br>        }<br>    </style><br><div class=\"wandb-row\"><div class=\"wandb-col\"><h3>Run history:</h3><br/><table class=\"wandb\"><tr><td>agent_wins</td><td>▁</td></tr><tr><td>pete_wins</td><td>▁</td></tr><tr><td>win_rate</td><td>▁</td></tr></table><br/></div><div class=\"wandb-col\"><h3>Run summary:</h3><br/><table class=\"wandb\"><tr><td>agent_wins</td><td>89</td></tr><tr><td>pete_wins</td><td>11</td></tr><tr><td>win_rate</td><td>0.89</td></tr></table><br/></div></div>"
      ],
      "text/plain": [
       "<IPython.core.display.HTML object>"
      ]
     },
     "metadata": {},
     "output_type": "display_data"
    },
    {
     "data": {
      "text/html": [
       " View run <strong style=\"color:#cdcd00\">hopeful-sweep-63</strong> at: <a href='https://wandb.ai/mateogiraz27-ort/three-musketeers/runs/iv6iz7p2' target=\"_blank\">https://wandb.ai/mateogiraz27-ort/three-musketeers/runs/iv6iz7p2</a><br> View project at: <a href='https://wandb.ai/mateogiraz27-ort/three-musketeers' target=\"_blank\">https://wandb.ai/mateogiraz27-ort/three-musketeers</a><br>Synced 5 W&B file(s), 0 media file(s), 0 artifact file(s) and 0 other file(s)"
      ],
      "text/plain": [
       "<IPython.core.display.HTML object>"
      ]
     },
     "metadata": {},
     "output_type": "display_data"
    },
    {
     "data": {
      "text/html": [
       "Find logs at: <code>./wandb/run-20241214_103054-iv6iz7p2/logs</code>"
      ],
      "text/plain": [
       "<IPython.core.display.HTML object>"
      ]
     },
     "metadata": {},
     "output_type": "display_data"
    },
    {
     "name": "stderr",
     "output_type": "stream",
     "text": [
      "\u001b[34m\u001b[1mwandb\u001b[0m: Agent Starting Run: exyv24me with config:\n",
      "\u001b[34m\u001b[1mwandb\u001b[0m: \talignment_weight: 17.37596674624811\n",
      "\u001b[34m\u001b[1mwandb\u001b[0m: \tmax_depth: 5\n",
      "\u001b[34m\u001b[1mwandb\u001b[0m: \tmoves_weight: 13.387287287483444\n",
      "\u001b[34m\u001b[1mwandb\u001b[0m: \ttrap_weight: 29.428972445215734\n"
     ]
    },
    {
     "data": {
      "text/html": [
       "Tracking run with wandb version 0.19.1"
      ],
      "text/plain": [
       "<IPython.core.display.HTML object>"
      ]
     },
     "metadata": {},
     "output_type": "display_data"
    },
    {
     "data": {
      "text/html": [
       "Run data is saved locally in <code>/Users/mateogiraz/Documents/MountainCarContinuous (1)/three-musketeers/wandb/run-20241214_103127-exyv24me</code>"
      ],
      "text/plain": [
       "<IPython.core.display.HTML object>"
      ]
     },
     "metadata": {},
     "output_type": "display_data"
    },
    {
     "data": {
      "text/html": [
       "Syncing run <strong><a href='https://wandb.ai/mateogiraz27-ort/three-musketeers/runs/exyv24me' target=\"_blank\">jumping-sweep-64</a></strong> to <a href='https://wandb.ai/mateogiraz27-ort/three-musketeers' target=\"_blank\">Weights & Biases</a> (<a href='https://wandb.me/developer-guide' target=\"_blank\">docs</a>)<br>Sweep page: <a href='https://wandb.ai/mateogiraz27-ort/three-musketeers/sweeps/txk212na' target=\"_blank\">https://wandb.ai/mateogiraz27-ort/three-musketeers/sweeps/txk212na</a>"
      ],
      "text/plain": [
       "<IPython.core.display.HTML object>"
      ]
     },
     "metadata": {},
     "output_type": "display_data"
    },
    {
     "data": {
      "text/html": [
       " View project at <a href='https://wandb.ai/mateogiraz27-ort/three-musketeers' target=\"_blank\">https://wandb.ai/mateogiraz27-ort/three-musketeers</a>"
      ],
      "text/plain": [
       "<IPython.core.display.HTML object>"
      ]
     },
     "metadata": {},
     "output_type": "display_data"
    },
    {
     "data": {
      "text/html": [
       " View sweep at <a href='https://wandb.ai/mateogiraz27-ort/three-musketeers/sweeps/txk212na' target=\"_blank\">https://wandb.ai/mateogiraz27-ort/three-musketeers/sweeps/txk212na</a>"
      ],
      "text/plain": [
       "<IPython.core.display.HTML object>"
      ]
     },
     "metadata": {},
     "output_type": "display_data"
    },
    {
     "data": {
      "text/html": [
       " View run at <a href='https://wandb.ai/mateogiraz27-ort/three-musketeers/runs/exyv24me' target=\"_blank\">https://wandb.ai/mateogiraz27-ort/three-musketeers/runs/exyv24me</a>"
      ],
      "text/plain": [
       "<IPython.core.display.HTML object>"
      ]
     },
     "metadata": {},
     "output_type": "display_data"
    },
    {
     "name": "stderr",
     "output_type": "stream",
     "text": [
      "100%|██████████| 100/100 [01:06<00:00,  1.50it/s]\n"
     ]
    },
    {
     "data": {
      "text/html": [],
      "text/plain": [
       "<IPython.core.display.HTML object>"
      ]
     },
     "metadata": {},
     "output_type": "display_data"
    },
    {
     "data": {
      "text/html": [
       "<br>    <style><br>        .wandb-row {<br>            display: flex;<br>            flex-direction: row;<br>            flex-wrap: wrap;<br>            justify-content: flex-start;<br>            width: 100%;<br>        }<br>        .wandb-col {<br>            display: flex;<br>            flex-direction: column;<br>            flex-basis: 100%;<br>            flex: 1;<br>            padding: 10px;<br>        }<br>    </style><br><div class=\"wandb-row\"><div class=\"wandb-col\"><h3>Run history:</h3><br/><table class=\"wandb\"><tr><td>agent_wins</td><td>▁</td></tr><tr><td>pete_wins</td><td>▁</td></tr><tr><td>win_rate</td><td>▁</td></tr></table><br/></div><div class=\"wandb-col\"><h3>Run summary:</h3><br/><table class=\"wandb\"><tr><td>agent_wins</td><td>85</td></tr><tr><td>pete_wins</td><td>15</td></tr><tr><td>win_rate</td><td>0.85</td></tr></table><br/></div></div>"
      ],
      "text/plain": [
       "<IPython.core.display.HTML object>"
      ]
     },
     "metadata": {},
     "output_type": "display_data"
    },
    {
     "data": {
      "text/html": [
       " View run <strong style=\"color:#cdcd00\">jumping-sweep-64</strong> at: <a href='https://wandb.ai/mateogiraz27-ort/three-musketeers/runs/exyv24me' target=\"_blank\">https://wandb.ai/mateogiraz27-ort/three-musketeers/runs/exyv24me</a><br> View project at: <a href='https://wandb.ai/mateogiraz27-ort/three-musketeers' target=\"_blank\">https://wandb.ai/mateogiraz27-ort/three-musketeers</a><br>Synced 5 W&B file(s), 0 media file(s), 0 artifact file(s) and 0 other file(s)"
      ],
      "text/plain": [
       "<IPython.core.display.HTML object>"
      ]
     },
     "metadata": {},
     "output_type": "display_data"
    },
    {
     "data": {
      "text/html": [
       "Find logs at: <code>./wandb/run-20241214_103127-exyv24me/logs</code>"
      ],
      "text/plain": [
       "<IPython.core.display.HTML object>"
      ]
     },
     "metadata": {},
     "output_type": "display_data"
    },
    {
     "name": "stderr",
     "output_type": "stream",
     "text": [
      "\u001b[34m\u001b[1mwandb\u001b[0m: Agent Starting Run: yz5jaxqm with config:\n",
      "\u001b[34m\u001b[1mwandb\u001b[0m: \talignment_weight: 14.519230996821076\n",
      "\u001b[34m\u001b[1mwandb\u001b[0m: \tmax_depth: 3\n",
      "\u001b[34m\u001b[1mwandb\u001b[0m: \tmoves_weight: 8.165920570699143\n",
      "\u001b[34m\u001b[1mwandb\u001b[0m: \ttrap_weight: 19.586668411565427\n"
     ]
    },
    {
     "data": {
      "text/html": [
       "Tracking run with wandb version 0.19.1"
      ],
      "text/plain": [
       "<IPython.core.display.HTML object>"
      ]
     },
     "metadata": {},
     "output_type": "display_data"
    },
    {
     "data": {
      "text/html": [
       "Run data is saved locally in <code>/Users/mateogiraz/Documents/MountainCarContinuous (1)/three-musketeers/wandb/run-20241214_103242-yz5jaxqm</code>"
      ],
      "text/plain": [
       "<IPython.core.display.HTML object>"
      ]
     },
     "metadata": {},
     "output_type": "display_data"
    },
    {
     "data": {
      "text/html": [
       "Syncing run <strong><a href='https://wandb.ai/mateogiraz27-ort/three-musketeers/runs/yz5jaxqm' target=\"_blank\">bright-sweep-65</a></strong> to <a href='https://wandb.ai/mateogiraz27-ort/three-musketeers' target=\"_blank\">Weights & Biases</a> (<a href='https://wandb.me/developer-guide' target=\"_blank\">docs</a>)<br>Sweep page: <a href='https://wandb.ai/mateogiraz27-ort/three-musketeers/sweeps/txk212na' target=\"_blank\">https://wandb.ai/mateogiraz27-ort/three-musketeers/sweeps/txk212na</a>"
      ],
      "text/plain": [
       "<IPython.core.display.HTML object>"
      ]
     },
     "metadata": {},
     "output_type": "display_data"
    },
    {
     "data": {
      "text/html": [
       " View project at <a href='https://wandb.ai/mateogiraz27-ort/three-musketeers' target=\"_blank\">https://wandb.ai/mateogiraz27-ort/three-musketeers</a>"
      ],
      "text/plain": [
       "<IPython.core.display.HTML object>"
      ]
     },
     "metadata": {},
     "output_type": "display_data"
    },
    {
     "data": {
      "text/html": [
       " View sweep at <a href='https://wandb.ai/mateogiraz27-ort/three-musketeers/sweeps/txk212na' target=\"_blank\">https://wandb.ai/mateogiraz27-ort/three-musketeers/sweeps/txk212na</a>"
      ],
      "text/plain": [
       "<IPython.core.display.HTML object>"
      ]
     },
     "metadata": {},
     "output_type": "display_data"
    },
    {
     "data": {
      "text/html": [
       " View run at <a href='https://wandb.ai/mateogiraz27-ort/three-musketeers/runs/yz5jaxqm' target=\"_blank\">https://wandb.ai/mateogiraz27-ort/three-musketeers/runs/yz5jaxqm</a>"
      ],
      "text/plain": [
       "<IPython.core.display.HTML object>"
      ]
     },
     "metadata": {},
     "output_type": "display_data"
    },
    {
     "name": "stderr",
     "output_type": "stream",
     "text": [
      "100%|██████████| 100/100 [00:26<00:00,  3.74it/s]\n"
     ]
    },
    {
     "data": {
      "text/html": [],
      "text/plain": [
       "<IPython.core.display.HTML object>"
      ]
     },
     "metadata": {},
     "output_type": "display_data"
    },
    {
     "data": {
      "text/html": [
       "<br>    <style><br>        .wandb-row {<br>            display: flex;<br>            flex-direction: row;<br>            flex-wrap: wrap;<br>            justify-content: flex-start;<br>            width: 100%;<br>        }<br>        .wandb-col {<br>            display: flex;<br>            flex-direction: column;<br>            flex-basis: 100%;<br>            flex: 1;<br>            padding: 10px;<br>        }<br>    </style><br><div class=\"wandb-row\"><div class=\"wandb-col\"><h3>Run history:</h3><br/><table class=\"wandb\"><tr><td>agent_wins</td><td>▁</td></tr><tr><td>pete_wins</td><td>▁</td></tr><tr><td>win_rate</td><td>▁</td></tr></table><br/></div><div class=\"wandb-col\"><h3>Run summary:</h3><br/><table class=\"wandb\"><tr><td>agent_wins</td><td>91</td></tr><tr><td>pete_wins</td><td>9</td></tr><tr><td>win_rate</td><td>0.91</td></tr></table><br/></div></div>"
      ],
      "text/plain": [
       "<IPython.core.display.HTML object>"
      ]
     },
     "metadata": {},
     "output_type": "display_data"
    },
    {
     "data": {
      "text/html": [
       " View run <strong style=\"color:#cdcd00\">bright-sweep-65</strong> at: <a href='https://wandb.ai/mateogiraz27-ort/three-musketeers/runs/yz5jaxqm' target=\"_blank\">https://wandb.ai/mateogiraz27-ort/three-musketeers/runs/yz5jaxqm</a><br> View project at: <a href='https://wandb.ai/mateogiraz27-ort/three-musketeers' target=\"_blank\">https://wandb.ai/mateogiraz27-ort/three-musketeers</a><br>Synced 5 W&B file(s), 0 media file(s), 0 artifact file(s) and 0 other file(s)"
      ],
      "text/plain": [
       "<IPython.core.display.HTML object>"
      ]
     },
     "metadata": {},
     "output_type": "display_data"
    },
    {
     "data": {
      "text/html": [
       "Find logs at: <code>./wandb/run-20241214_103242-yz5jaxqm/logs</code>"
      ],
      "text/plain": [
       "<IPython.core.display.HTML object>"
      ]
     },
     "metadata": {},
     "output_type": "display_data"
    },
    {
     "name": "stderr",
     "output_type": "stream",
     "text": [
      "\u001b[34m\u001b[1mwandb\u001b[0m: Agent Starting Run: x0oosoih with config:\n",
      "\u001b[34m\u001b[1mwandb\u001b[0m: \talignment_weight: 6.3386407974867875\n",
      "\u001b[34m\u001b[1mwandb\u001b[0m: \tmax_depth: 3\n",
      "\u001b[34m\u001b[1mwandb\u001b[0m: \tmoves_weight: 9.8608160393761\n",
      "\u001b[34m\u001b[1mwandb\u001b[0m: \ttrap_weight: 18.74920140701345\n"
     ]
    },
    {
     "data": {
      "text/html": [
       "Tracking run with wandb version 0.19.1"
      ],
      "text/plain": [
       "<IPython.core.display.HTML object>"
      ]
     },
     "metadata": {},
     "output_type": "display_data"
    },
    {
     "data": {
      "text/html": [
       "Run data is saved locally in <code>/Users/mateogiraz/Documents/MountainCarContinuous (1)/three-musketeers/wandb/run-20241214_103314-x0oosoih</code>"
      ],
      "text/plain": [
       "<IPython.core.display.HTML object>"
      ]
     },
     "metadata": {},
     "output_type": "display_data"
    },
    {
     "data": {
      "text/html": [
       "Syncing run <strong><a href='https://wandb.ai/mateogiraz27-ort/three-musketeers/runs/x0oosoih' target=\"_blank\">robust-sweep-66</a></strong> to <a href='https://wandb.ai/mateogiraz27-ort/three-musketeers' target=\"_blank\">Weights & Biases</a> (<a href='https://wandb.me/developer-guide' target=\"_blank\">docs</a>)<br>Sweep page: <a href='https://wandb.ai/mateogiraz27-ort/three-musketeers/sweeps/txk212na' target=\"_blank\">https://wandb.ai/mateogiraz27-ort/three-musketeers/sweeps/txk212na</a>"
      ],
      "text/plain": [
       "<IPython.core.display.HTML object>"
      ]
     },
     "metadata": {},
     "output_type": "display_data"
    },
    {
     "data": {
      "text/html": [
       " View project at <a href='https://wandb.ai/mateogiraz27-ort/three-musketeers' target=\"_blank\">https://wandb.ai/mateogiraz27-ort/three-musketeers</a>"
      ],
      "text/plain": [
       "<IPython.core.display.HTML object>"
      ]
     },
     "metadata": {},
     "output_type": "display_data"
    },
    {
     "data": {
      "text/html": [
       " View sweep at <a href='https://wandb.ai/mateogiraz27-ort/three-musketeers/sweeps/txk212na' target=\"_blank\">https://wandb.ai/mateogiraz27-ort/three-musketeers/sweeps/txk212na</a>"
      ],
      "text/plain": [
       "<IPython.core.display.HTML object>"
      ]
     },
     "metadata": {},
     "output_type": "display_data"
    },
    {
     "data": {
      "text/html": [
       " View run at <a href='https://wandb.ai/mateogiraz27-ort/three-musketeers/runs/x0oosoih' target=\"_blank\">https://wandb.ai/mateogiraz27-ort/three-musketeers/runs/x0oosoih</a>"
      ],
      "text/plain": [
       "<IPython.core.display.HTML object>"
      ]
     },
     "metadata": {},
     "output_type": "display_data"
    },
    {
     "name": "stderr",
     "output_type": "stream",
     "text": [
      "100%|██████████| 100/100 [00:32<00:00,  3.09it/s]\n"
     ]
    },
    {
     "data": {
      "text/html": [],
      "text/plain": [
       "<IPython.core.display.HTML object>"
      ]
     },
     "metadata": {},
     "output_type": "display_data"
    },
    {
     "data": {
      "text/html": [
       "<br>    <style><br>        .wandb-row {<br>            display: flex;<br>            flex-direction: row;<br>            flex-wrap: wrap;<br>            justify-content: flex-start;<br>            width: 100%;<br>        }<br>        .wandb-col {<br>            display: flex;<br>            flex-direction: column;<br>            flex-basis: 100%;<br>            flex: 1;<br>            padding: 10px;<br>        }<br>    </style><br><div class=\"wandb-row\"><div class=\"wandb-col\"><h3>Run history:</h3><br/><table class=\"wandb\"><tr><td>agent_wins</td><td>▁</td></tr><tr><td>pete_wins</td><td>▁</td></tr><tr><td>win_rate</td><td>▁</td></tr></table><br/></div><div class=\"wandb-col\"><h3>Run summary:</h3><br/><table class=\"wandb\"><tr><td>agent_wins</td><td>91</td></tr><tr><td>pete_wins</td><td>9</td></tr><tr><td>win_rate</td><td>0.91</td></tr></table><br/></div></div>"
      ],
      "text/plain": [
       "<IPython.core.display.HTML object>"
      ]
     },
     "metadata": {},
     "output_type": "display_data"
    },
    {
     "data": {
      "text/html": [
       " View run <strong style=\"color:#cdcd00\">robust-sweep-66</strong> at: <a href='https://wandb.ai/mateogiraz27-ort/three-musketeers/runs/x0oosoih' target=\"_blank\">https://wandb.ai/mateogiraz27-ort/three-musketeers/runs/x0oosoih</a><br> View project at: <a href='https://wandb.ai/mateogiraz27-ort/three-musketeers' target=\"_blank\">https://wandb.ai/mateogiraz27-ort/three-musketeers</a><br>Synced 5 W&B file(s), 0 media file(s), 0 artifact file(s) and 0 other file(s)"
      ],
      "text/plain": [
       "<IPython.core.display.HTML object>"
      ]
     },
     "metadata": {},
     "output_type": "display_data"
    },
    {
     "data": {
      "text/html": [
       "Find logs at: <code>./wandb/run-20241214_103314-x0oosoih/logs</code>"
      ],
      "text/plain": [
       "<IPython.core.display.HTML object>"
      ]
     },
     "metadata": {},
     "output_type": "display_data"
    },
    {
     "name": "stderr",
     "output_type": "stream",
     "text": [
      "\u001b[34m\u001b[1mwandb\u001b[0m: Agent Starting Run: jlbxtl4b with config:\n",
      "\u001b[34m\u001b[1mwandb\u001b[0m: \talignment_weight: 17.430786364036244\n",
      "\u001b[34m\u001b[1mwandb\u001b[0m: \tmax_depth: 4\n",
      "\u001b[34m\u001b[1mwandb\u001b[0m: \tmoves_weight: 12.400787156532171\n",
      "\u001b[34m\u001b[1mwandb\u001b[0m: \ttrap_weight: 28.556885584814975\n"
     ]
    },
    {
     "data": {
      "text/html": [
       "Tracking run with wandb version 0.19.1"
      ],
      "text/plain": [
       "<IPython.core.display.HTML object>"
      ]
     },
     "metadata": {},
     "output_type": "display_data"
    },
    {
     "data": {
      "text/html": [
       "Run data is saved locally in <code>/Users/mateogiraz/Documents/MountainCarContinuous (1)/three-musketeers/wandb/run-20241214_103352-jlbxtl4b</code>"
      ],
      "text/plain": [
       "<IPython.core.display.HTML object>"
      ]
     },
     "metadata": {},
     "output_type": "display_data"
    },
    {
     "data": {
      "text/html": [
       "Syncing run <strong><a href='https://wandb.ai/mateogiraz27-ort/three-musketeers/runs/jlbxtl4b' target=\"_blank\">fresh-sweep-67</a></strong> to <a href='https://wandb.ai/mateogiraz27-ort/three-musketeers' target=\"_blank\">Weights & Biases</a> (<a href='https://wandb.me/developer-guide' target=\"_blank\">docs</a>)<br>Sweep page: <a href='https://wandb.ai/mateogiraz27-ort/three-musketeers/sweeps/txk212na' target=\"_blank\">https://wandb.ai/mateogiraz27-ort/three-musketeers/sweeps/txk212na</a>"
      ],
      "text/plain": [
       "<IPython.core.display.HTML object>"
      ]
     },
     "metadata": {},
     "output_type": "display_data"
    },
    {
     "data": {
      "text/html": [
       " View project at <a href='https://wandb.ai/mateogiraz27-ort/three-musketeers' target=\"_blank\">https://wandb.ai/mateogiraz27-ort/three-musketeers</a>"
      ],
      "text/plain": [
       "<IPython.core.display.HTML object>"
      ]
     },
     "metadata": {},
     "output_type": "display_data"
    },
    {
     "data": {
      "text/html": [
       " View sweep at <a href='https://wandb.ai/mateogiraz27-ort/three-musketeers/sweeps/txk212na' target=\"_blank\">https://wandb.ai/mateogiraz27-ort/three-musketeers/sweeps/txk212na</a>"
      ],
      "text/plain": [
       "<IPython.core.display.HTML object>"
      ]
     },
     "metadata": {},
     "output_type": "display_data"
    },
    {
     "data": {
      "text/html": [
       " View run at <a href='https://wandb.ai/mateogiraz27-ort/three-musketeers/runs/jlbxtl4b' target=\"_blank\">https://wandb.ai/mateogiraz27-ort/three-musketeers/runs/jlbxtl4b</a>"
      ],
      "text/plain": [
       "<IPython.core.display.HTML object>"
      ]
     },
     "metadata": {},
     "output_type": "display_data"
    },
    {
     "name": "stderr",
     "output_type": "stream",
     "text": [
      "100%|██████████| 100/100 [00:40<00:00,  2.48it/s]\n"
     ]
    },
    {
     "data": {
      "text/html": [],
      "text/plain": [
       "<IPython.core.display.HTML object>"
      ]
     },
     "metadata": {},
     "output_type": "display_data"
    },
    {
     "data": {
      "text/html": [
       "<br>    <style><br>        .wandb-row {<br>            display: flex;<br>            flex-direction: row;<br>            flex-wrap: wrap;<br>            justify-content: flex-start;<br>            width: 100%;<br>        }<br>        .wandb-col {<br>            display: flex;<br>            flex-direction: column;<br>            flex-basis: 100%;<br>            flex: 1;<br>            padding: 10px;<br>        }<br>    </style><br><div class=\"wandb-row\"><div class=\"wandb-col\"><h3>Run history:</h3><br/><table class=\"wandb\"><tr><td>agent_wins</td><td>▁</td></tr><tr><td>pete_wins</td><td>▁</td></tr><tr><td>win_rate</td><td>▁</td></tr></table><br/></div><div class=\"wandb-col\"><h3>Run summary:</h3><br/><table class=\"wandb\"><tr><td>agent_wins</td><td>86</td></tr><tr><td>pete_wins</td><td>14</td></tr><tr><td>win_rate</td><td>0.86</td></tr></table><br/></div></div>"
      ],
      "text/plain": [
       "<IPython.core.display.HTML object>"
      ]
     },
     "metadata": {},
     "output_type": "display_data"
    },
    {
     "data": {
      "text/html": [
       " View run <strong style=\"color:#cdcd00\">fresh-sweep-67</strong> at: <a href='https://wandb.ai/mateogiraz27-ort/three-musketeers/runs/jlbxtl4b' target=\"_blank\">https://wandb.ai/mateogiraz27-ort/three-musketeers/runs/jlbxtl4b</a><br> View project at: <a href='https://wandb.ai/mateogiraz27-ort/three-musketeers' target=\"_blank\">https://wandb.ai/mateogiraz27-ort/three-musketeers</a><br>Synced 5 W&B file(s), 0 media file(s), 0 artifact file(s) and 0 other file(s)"
      ],
      "text/plain": [
       "<IPython.core.display.HTML object>"
      ]
     },
     "metadata": {},
     "output_type": "display_data"
    },
    {
     "data": {
      "text/html": [
       "Find logs at: <code>./wandb/run-20241214_103352-jlbxtl4b/logs</code>"
      ],
      "text/plain": [
       "<IPython.core.display.HTML object>"
      ]
     },
     "metadata": {},
     "output_type": "display_data"
    },
    {
     "name": "stderr",
     "output_type": "stream",
     "text": [
      "\u001b[34m\u001b[1mwandb\u001b[0m: Agent Starting Run: 2l7168y5 with config:\n",
      "\u001b[34m\u001b[1mwandb\u001b[0m: \talignment_weight: 6.845622279504129\n",
      "\u001b[34m\u001b[1mwandb\u001b[0m: \tmax_depth: 2\n",
      "\u001b[34m\u001b[1mwandb\u001b[0m: \tmoves_weight: 10.053027322595446\n",
      "\u001b[34m\u001b[1mwandb\u001b[0m: \ttrap_weight: 12.789311675150834\n"
     ]
    },
    {
     "data": {
      "text/html": [
       "Tracking run with wandb version 0.19.1"
      ],
      "text/plain": [
       "<IPython.core.display.HTML object>"
      ]
     },
     "metadata": {},
     "output_type": "display_data"
    },
    {
     "data": {
      "text/html": [
       "Run data is saved locally in <code>/Users/mateogiraz/Documents/MountainCarContinuous (1)/three-musketeers/wandb/run-20241214_103440-2l7168y5</code>"
      ],
      "text/plain": [
       "<IPython.core.display.HTML object>"
      ]
     },
     "metadata": {},
     "output_type": "display_data"
    },
    {
     "data": {
      "text/html": [
       "Syncing run <strong><a href='https://wandb.ai/mateogiraz27-ort/three-musketeers/runs/2l7168y5' target=\"_blank\">atomic-sweep-68</a></strong> to <a href='https://wandb.ai/mateogiraz27-ort/three-musketeers' target=\"_blank\">Weights & Biases</a> (<a href='https://wandb.me/developer-guide' target=\"_blank\">docs</a>)<br>Sweep page: <a href='https://wandb.ai/mateogiraz27-ort/three-musketeers/sweeps/txk212na' target=\"_blank\">https://wandb.ai/mateogiraz27-ort/three-musketeers/sweeps/txk212na</a>"
      ],
      "text/plain": [
       "<IPython.core.display.HTML object>"
      ]
     },
     "metadata": {},
     "output_type": "display_data"
    },
    {
     "data": {
      "text/html": [
       " View project at <a href='https://wandb.ai/mateogiraz27-ort/three-musketeers' target=\"_blank\">https://wandb.ai/mateogiraz27-ort/three-musketeers</a>"
      ],
      "text/plain": [
       "<IPython.core.display.HTML object>"
      ]
     },
     "metadata": {},
     "output_type": "display_data"
    },
    {
     "data": {
      "text/html": [
       " View sweep at <a href='https://wandb.ai/mateogiraz27-ort/three-musketeers/sweeps/txk212na' target=\"_blank\">https://wandb.ai/mateogiraz27-ort/three-musketeers/sweeps/txk212na</a>"
      ],
      "text/plain": [
       "<IPython.core.display.HTML object>"
      ]
     },
     "metadata": {},
     "output_type": "display_data"
    },
    {
     "data": {
      "text/html": [
       " View run at <a href='https://wandb.ai/mateogiraz27-ort/three-musketeers/runs/2l7168y5' target=\"_blank\">https://wandb.ai/mateogiraz27-ort/three-musketeers/runs/2l7168y5</a>"
      ],
      "text/plain": [
       "<IPython.core.display.HTML object>"
      ]
     },
     "metadata": {},
     "output_type": "display_data"
    },
    {
     "name": "stderr",
     "output_type": "stream",
     "text": [
      "100%|██████████| 100/100 [00:24<00:00,  4.13it/s]\n"
     ]
    },
    {
     "data": {
      "text/html": [],
      "text/plain": [
       "<IPython.core.display.HTML object>"
      ]
     },
     "metadata": {},
     "output_type": "display_data"
    },
    {
     "data": {
      "text/html": [
       "<br>    <style><br>        .wandb-row {<br>            display: flex;<br>            flex-direction: row;<br>            flex-wrap: wrap;<br>            justify-content: flex-start;<br>            width: 100%;<br>        }<br>        .wandb-col {<br>            display: flex;<br>            flex-direction: column;<br>            flex-basis: 100%;<br>            flex: 1;<br>            padding: 10px;<br>        }<br>    </style><br><div class=\"wandb-row\"><div class=\"wandb-col\"><h3>Run history:</h3><br/><table class=\"wandb\"><tr><td>agent_wins</td><td>▁</td></tr><tr><td>pete_wins</td><td>▁</td></tr><tr><td>win_rate</td><td>▁</td></tr></table><br/></div><div class=\"wandb-col\"><h3>Run summary:</h3><br/><table class=\"wandb\"><tr><td>agent_wins</td><td>92</td></tr><tr><td>pete_wins</td><td>8</td></tr><tr><td>win_rate</td><td>0.92</td></tr></table><br/></div></div>"
      ],
      "text/plain": [
       "<IPython.core.display.HTML object>"
      ]
     },
     "metadata": {},
     "output_type": "display_data"
    },
    {
     "data": {
      "text/html": [
       " View run <strong style=\"color:#cdcd00\">atomic-sweep-68</strong> at: <a href='https://wandb.ai/mateogiraz27-ort/three-musketeers/runs/2l7168y5' target=\"_blank\">https://wandb.ai/mateogiraz27-ort/three-musketeers/runs/2l7168y5</a><br> View project at: <a href='https://wandb.ai/mateogiraz27-ort/three-musketeers' target=\"_blank\">https://wandb.ai/mateogiraz27-ort/three-musketeers</a><br>Synced 5 W&B file(s), 0 media file(s), 0 artifact file(s) and 0 other file(s)"
      ],
      "text/plain": [
       "<IPython.core.display.HTML object>"
      ]
     },
     "metadata": {},
     "output_type": "display_data"
    },
    {
     "data": {
      "text/html": [
       "Find logs at: <code>./wandb/run-20241214_103440-2l7168y5/logs</code>"
      ],
      "text/plain": [
       "<IPython.core.display.HTML object>"
      ]
     },
     "metadata": {},
     "output_type": "display_data"
    },
    {
     "name": "stderr",
     "output_type": "stream",
     "text": [
      "\u001b[34m\u001b[1mwandb\u001b[0m: Sweep Agent: Waiting for job.\n",
      "\u001b[34m\u001b[1mwandb\u001b[0m: Job received.\n",
      "\u001b[34m\u001b[1mwandb\u001b[0m: Agent Starting Run: zsyrwbtp with config:\n",
      "\u001b[34m\u001b[1mwandb\u001b[0m: \talignment_weight: 6.001239522351817\n",
      "\u001b[34m\u001b[1mwandb\u001b[0m: \tmax_depth: 4\n",
      "\u001b[34m\u001b[1mwandb\u001b[0m: \tmoves_weight: 14.355020992727782\n",
      "\u001b[34m\u001b[1mwandb\u001b[0m: \ttrap_weight: 11.782789606458127\n"
     ]
    },
    {
     "data": {
      "text/html": [
       "Tracking run with wandb version 0.19.1"
      ],
      "text/plain": [
       "<IPython.core.display.HTML object>"
      ]
     },
     "metadata": {},
     "output_type": "display_data"
    },
    {
     "data": {
      "text/html": [
       "Run data is saved locally in <code>/Users/mateogiraz/Documents/MountainCarContinuous (1)/three-musketeers/wandb/run-20241214_103518-zsyrwbtp</code>"
      ],
      "text/plain": [
       "<IPython.core.display.HTML object>"
      ]
     },
     "metadata": {},
     "output_type": "display_data"
    },
    {
     "data": {
      "text/html": [
       "Syncing run <strong><a href='https://wandb.ai/mateogiraz27-ort/three-musketeers/runs/zsyrwbtp' target=\"_blank\">cerulean-sweep-69</a></strong> to <a href='https://wandb.ai/mateogiraz27-ort/three-musketeers' target=\"_blank\">Weights & Biases</a> (<a href='https://wandb.me/developer-guide' target=\"_blank\">docs</a>)<br>Sweep page: <a href='https://wandb.ai/mateogiraz27-ort/three-musketeers/sweeps/txk212na' target=\"_blank\">https://wandb.ai/mateogiraz27-ort/three-musketeers/sweeps/txk212na</a>"
      ],
      "text/plain": [
       "<IPython.core.display.HTML object>"
      ]
     },
     "metadata": {},
     "output_type": "display_data"
    },
    {
     "data": {
      "text/html": [
       " View project at <a href='https://wandb.ai/mateogiraz27-ort/three-musketeers' target=\"_blank\">https://wandb.ai/mateogiraz27-ort/three-musketeers</a>"
      ],
      "text/plain": [
       "<IPython.core.display.HTML object>"
      ]
     },
     "metadata": {},
     "output_type": "display_data"
    },
    {
     "data": {
      "text/html": [
       " View sweep at <a href='https://wandb.ai/mateogiraz27-ort/three-musketeers/sweeps/txk212na' target=\"_blank\">https://wandb.ai/mateogiraz27-ort/three-musketeers/sweeps/txk212na</a>"
      ],
      "text/plain": [
       "<IPython.core.display.HTML object>"
      ]
     },
     "metadata": {},
     "output_type": "display_data"
    },
    {
     "data": {
      "text/html": [
       " View run at <a href='https://wandb.ai/mateogiraz27-ort/three-musketeers/runs/zsyrwbtp' target=\"_blank\">https://wandb.ai/mateogiraz27-ort/three-musketeers/runs/zsyrwbtp</a>"
      ],
      "text/plain": [
       "<IPython.core.display.HTML object>"
      ]
     },
     "metadata": {},
     "output_type": "display_data"
    },
    {
     "name": "stderr",
     "output_type": "stream",
     "text": [
      "100%|██████████| 100/100 [00:36<00:00,  2.74it/s]\n"
     ]
    },
    {
     "data": {
      "text/html": [],
      "text/plain": [
       "<IPython.core.display.HTML object>"
      ]
     },
     "metadata": {},
     "output_type": "display_data"
    },
    {
     "data": {
      "text/html": [
       "<br>    <style><br>        .wandb-row {<br>            display: flex;<br>            flex-direction: row;<br>            flex-wrap: wrap;<br>            justify-content: flex-start;<br>            width: 100%;<br>        }<br>        .wandb-col {<br>            display: flex;<br>            flex-direction: column;<br>            flex-basis: 100%;<br>            flex: 1;<br>            padding: 10px;<br>        }<br>    </style><br><div class=\"wandb-row\"><div class=\"wandb-col\"><h3>Run history:</h3><br/><table class=\"wandb\"><tr><td>agent_wins</td><td>▁</td></tr><tr><td>pete_wins</td><td>▁</td></tr><tr><td>win_rate</td><td>▁</td></tr></table><br/></div><div class=\"wandb-col\"><h3>Run summary:</h3><br/><table class=\"wandb\"><tr><td>agent_wins</td><td>82</td></tr><tr><td>pete_wins</td><td>18</td></tr><tr><td>win_rate</td><td>0.82</td></tr></table><br/></div></div>"
      ],
      "text/plain": [
       "<IPython.core.display.HTML object>"
      ]
     },
     "metadata": {},
     "output_type": "display_data"
    },
    {
     "data": {
      "text/html": [
       " View run <strong style=\"color:#cdcd00\">cerulean-sweep-69</strong> at: <a href='https://wandb.ai/mateogiraz27-ort/three-musketeers/runs/zsyrwbtp' target=\"_blank\">https://wandb.ai/mateogiraz27-ort/three-musketeers/runs/zsyrwbtp</a><br> View project at: <a href='https://wandb.ai/mateogiraz27-ort/three-musketeers' target=\"_blank\">https://wandb.ai/mateogiraz27-ort/three-musketeers</a><br>Synced 5 W&B file(s), 0 media file(s), 0 artifact file(s) and 0 other file(s)"
      ],
      "text/plain": [
       "<IPython.core.display.HTML object>"
      ]
     },
     "metadata": {},
     "output_type": "display_data"
    },
    {
     "data": {
      "text/html": [
       "Find logs at: <code>./wandb/run-20241214_103518-zsyrwbtp/logs</code>"
      ],
      "text/plain": [
       "<IPython.core.display.HTML object>"
      ]
     },
     "metadata": {},
     "output_type": "display_data"
    },
    {
     "name": "stderr",
     "output_type": "stream",
     "text": [
      "\u001b[34m\u001b[1mwandb\u001b[0m: Agent Starting Run: bg3ik525 with config:\n",
      "\u001b[34m\u001b[1mwandb\u001b[0m: \talignment_weight: 16.27001805351209\n",
      "\u001b[34m\u001b[1mwandb\u001b[0m: \tmax_depth: 4\n",
      "\u001b[34m\u001b[1mwandb\u001b[0m: \tmoves_weight: 7.745489941278664\n",
      "\u001b[34m\u001b[1mwandb\u001b[0m: \ttrap_weight: 19.951337401967\n"
     ]
    },
    {
     "data": {
      "text/html": [
       "Tracking run with wandb version 0.19.1"
      ],
      "text/plain": [
       "<IPython.core.display.HTML object>"
      ]
     },
     "metadata": {},
     "output_type": "display_data"
    },
    {
     "data": {
      "text/html": [
       "Run data is saved locally in <code>/Users/mateogiraz/Documents/MountainCarContinuous (1)/three-musketeers/wandb/run-20241214_103601-bg3ik525</code>"
      ],
      "text/plain": [
       "<IPython.core.display.HTML object>"
      ]
     },
     "metadata": {},
     "output_type": "display_data"
    },
    {
     "data": {
      "text/html": [
       "Syncing run <strong><a href='https://wandb.ai/mateogiraz27-ort/three-musketeers/runs/bg3ik525' target=\"_blank\">snowy-sweep-70</a></strong> to <a href='https://wandb.ai/mateogiraz27-ort/three-musketeers' target=\"_blank\">Weights & Biases</a> (<a href='https://wandb.me/developer-guide' target=\"_blank\">docs</a>)<br>Sweep page: <a href='https://wandb.ai/mateogiraz27-ort/three-musketeers/sweeps/txk212na' target=\"_blank\">https://wandb.ai/mateogiraz27-ort/three-musketeers/sweeps/txk212na</a>"
      ],
      "text/plain": [
       "<IPython.core.display.HTML object>"
      ]
     },
     "metadata": {},
     "output_type": "display_data"
    },
    {
     "data": {
      "text/html": [
       " View project at <a href='https://wandb.ai/mateogiraz27-ort/three-musketeers' target=\"_blank\">https://wandb.ai/mateogiraz27-ort/three-musketeers</a>"
      ],
      "text/plain": [
       "<IPython.core.display.HTML object>"
      ]
     },
     "metadata": {},
     "output_type": "display_data"
    },
    {
     "data": {
      "text/html": [
       " View sweep at <a href='https://wandb.ai/mateogiraz27-ort/three-musketeers/sweeps/txk212na' target=\"_blank\">https://wandb.ai/mateogiraz27-ort/three-musketeers/sweeps/txk212na</a>"
      ],
      "text/plain": [
       "<IPython.core.display.HTML object>"
      ]
     },
     "metadata": {},
     "output_type": "display_data"
    },
    {
     "data": {
      "text/html": [
       " View run at <a href='https://wandb.ai/mateogiraz27-ort/three-musketeers/runs/bg3ik525' target=\"_blank\">https://wandb.ai/mateogiraz27-ort/three-musketeers/runs/bg3ik525</a>"
      ],
      "text/plain": [
       "<IPython.core.display.HTML object>"
      ]
     },
     "metadata": {},
     "output_type": "display_data"
    },
    {
     "name": "stderr",
     "output_type": "stream",
     "text": [
      "100%|██████████| 100/100 [00:38<00:00,  2.63it/s]\n"
     ]
    },
    {
     "data": {
      "text/html": [],
      "text/plain": [
       "<IPython.core.display.HTML object>"
      ]
     },
     "metadata": {},
     "output_type": "display_data"
    },
    {
     "data": {
      "text/html": [
       "<br>    <style><br>        .wandb-row {<br>            display: flex;<br>            flex-direction: row;<br>            flex-wrap: wrap;<br>            justify-content: flex-start;<br>            width: 100%;<br>        }<br>        .wandb-col {<br>            display: flex;<br>            flex-direction: column;<br>            flex-basis: 100%;<br>            flex: 1;<br>            padding: 10px;<br>        }<br>    </style><br><div class=\"wandb-row\"><div class=\"wandb-col\"><h3>Run history:</h3><br/><table class=\"wandb\"><tr><td>agent_wins</td><td>▁</td></tr><tr><td>pete_wins</td><td>▁</td></tr><tr><td>win_rate</td><td>▁</td></tr></table><br/></div><div class=\"wandb-col\"><h3>Run summary:</h3><br/><table class=\"wandb\"><tr><td>agent_wins</td><td>90</td></tr><tr><td>pete_wins</td><td>10</td></tr><tr><td>win_rate</td><td>0.9</td></tr></table><br/></div></div>"
      ],
      "text/plain": [
       "<IPython.core.display.HTML object>"
      ]
     },
     "metadata": {},
     "output_type": "display_data"
    },
    {
     "data": {
      "text/html": [
       " View run <strong style=\"color:#cdcd00\">snowy-sweep-70</strong> at: <a href='https://wandb.ai/mateogiraz27-ort/three-musketeers/runs/bg3ik525' target=\"_blank\">https://wandb.ai/mateogiraz27-ort/three-musketeers/runs/bg3ik525</a><br> View project at: <a href='https://wandb.ai/mateogiraz27-ort/three-musketeers' target=\"_blank\">https://wandb.ai/mateogiraz27-ort/three-musketeers</a><br>Synced 5 W&B file(s), 0 media file(s), 0 artifact file(s) and 0 other file(s)"
      ],
      "text/plain": [
       "<IPython.core.display.HTML object>"
      ]
     },
     "metadata": {},
     "output_type": "display_data"
    },
    {
     "data": {
      "text/html": [
       "Find logs at: <code>./wandb/run-20241214_103601-bg3ik525/logs</code>"
      ],
      "text/plain": [
       "<IPython.core.display.HTML object>"
      ]
     },
     "metadata": {},
     "output_type": "display_data"
    },
    {
     "name": "stderr",
     "output_type": "stream",
     "text": [
      "\u001b[34m\u001b[1mwandb\u001b[0m: Agent Starting Run: crcwm9wi with config:\n",
      "\u001b[34m\u001b[1mwandb\u001b[0m: \talignment_weight: 18.11831001144173\n",
      "\u001b[34m\u001b[1mwandb\u001b[0m: \tmax_depth: 5\n",
      "\u001b[34m\u001b[1mwandb\u001b[0m: \tmoves_weight: 11.647211887257605\n",
      "\u001b[34m\u001b[1mwandb\u001b[0m: \ttrap_weight: 15.35528793371448\n"
     ]
    },
    {
     "data": {
      "text/html": [
       "Tracking run with wandb version 0.19.1"
      ],
      "text/plain": [
       "<IPython.core.display.HTML object>"
      ]
     },
     "metadata": {},
     "output_type": "display_data"
    },
    {
     "data": {
      "text/html": [
       "Run data is saved locally in <code>/Users/mateogiraz/Documents/MountainCarContinuous (1)/three-musketeers/wandb/run-20241214_103643-crcwm9wi</code>"
      ],
      "text/plain": [
       "<IPython.core.display.HTML object>"
      ]
     },
     "metadata": {},
     "output_type": "display_data"
    },
    {
     "data": {
      "text/html": [
       "Syncing run <strong><a href='https://wandb.ai/mateogiraz27-ort/three-musketeers/runs/crcwm9wi' target=\"_blank\">avid-sweep-71</a></strong> to <a href='https://wandb.ai/mateogiraz27-ort/three-musketeers' target=\"_blank\">Weights & Biases</a> (<a href='https://wandb.me/developer-guide' target=\"_blank\">docs</a>)<br>Sweep page: <a href='https://wandb.ai/mateogiraz27-ort/three-musketeers/sweeps/txk212na' target=\"_blank\">https://wandb.ai/mateogiraz27-ort/three-musketeers/sweeps/txk212na</a>"
      ],
      "text/plain": [
       "<IPython.core.display.HTML object>"
      ]
     },
     "metadata": {},
     "output_type": "display_data"
    },
    {
     "data": {
      "text/html": [
       " View project at <a href='https://wandb.ai/mateogiraz27-ort/three-musketeers' target=\"_blank\">https://wandb.ai/mateogiraz27-ort/three-musketeers</a>"
      ],
      "text/plain": [
       "<IPython.core.display.HTML object>"
      ]
     },
     "metadata": {},
     "output_type": "display_data"
    },
    {
     "data": {
      "text/html": [
       " View sweep at <a href='https://wandb.ai/mateogiraz27-ort/three-musketeers/sweeps/txk212na' target=\"_blank\">https://wandb.ai/mateogiraz27-ort/three-musketeers/sweeps/txk212na</a>"
      ],
      "text/plain": [
       "<IPython.core.display.HTML object>"
      ]
     },
     "metadata": {},
     "output_type": "display_data"
    },
    {
     "data": {
      "text/html": [
       " View run at <a href='https://wandb.ai/mateogiraz27-ort/three-musketeers/runs/crcwm9wi' target=\"_blank\">https://wandb.ai/mateogiraz27-ort/three-musketeers/runs/crcwm9wi</a>"
      ],
      "text/plain": [
       "<IPython.core.display.HTML object>"
      ]
     },
     "metadata": {},
     "output_type": "display_data"
    },
    {
     "name": "stderr",
     "output_type": "stream",
     "text": [
      "100%|██████████| 100/100 [01:02<00:00,  1.59it/s]\n"
     ]
    },
    {
     "data": {
      "text/html": [],
      "text/plain": [
       "<IPython.core.display.HTML object>"
      ]
     },
     "metadata": {},
     "output_type": "display_data"
    },
    {
     "data": {
      "text/html": [
       "<br>    <style><br>        .wandb-row {<br>            display: flex;<br>            flex-direction: row;<br>            flex-wrap: wrap;<br>            justify-content: flex-start;<br>            width: 100%;<br>        }<br>        .wandb-col {<br>            display: flex;<br>            flex-direction: column;<br>            flex-basis: 100%;<br>            flex: 1;<br>            padding: 10px;<br>        }<br>    </style><br><div class=\"wandb-row\"><div class=\"wandb-col\"><h3>Run history:</h3><br/><table class=\"wandb\"><tr><td>agent_wins</td><td>▁</td></tr><tr><td>pete_wins</td><td>▁</td></tr><tr><td>win_rate</td><td>▁</td></tr></table><br/></div><div class=\"wandb-col\"><h3>Run summary:</h3><br/><table class=\"wandb\"><tr><td>agent_wins</td><td>90</td></tr><tr><td>pete_wins</td><td>10</td></tr><tr><td>win_rate</td><td>0.9</td></tr></table><br/></div></div>"
      ],
      "text/plain": [
       "<IPython.core.display.HTML object>"
      ]
     },
     "metadata": {},
     "output_type": "display_data"
    },
    {
     "data": {
      "text/html": [
       " View run <strong style=\"color:#cdcd00\">avid-sweep-71</strong> at: <a href='https://wandb.ai/mateogiraz27-ort/three-musketeers/runs/crcwm9wi' target=\"_blank\">https://wandb.ai/mateogiraz27-ort/three-musketeers/runs/crcwm9wi</a><br> View project at: <a href='https://wandb.ai/mateogiraz27-ort/three-musketeers' target=\"_blank\">https://wandb.ai/mateogiraz27-ort/three-musketeers</a><br>Synced 5 W&B file(s), 0 media file(s), 0 artifact file(s) and 0 other file(s)"
      ],
      "text/plain": [
       "<IPython.core.display.HTML object>"
      ]
     },
     "metadata": {},
     "output_type": "display_data"
    },
    {
     "data": {
      "text/html": [
       "Find logs at: <code>./wandb/run-20241214_103643-crcwm9wi/logs</code>"
      ],
      "text/plain": [
       "<IPython.core.display.HTML object>"
      ]
     },
     "metadata": {},
     "output_type": "display_data"
    },
    {
     "name": "stderr",
     "output_type": "stream",
     "text": [
      "\u001b[34m\u001b[1mwandb\u001b[0m: Agent Starting Run: 6qcbn6zt with config:\n",
      "\u001b[34m\u001b[1mwandb\u001b[0m: \talignment_weight: 18.94236072042515\n",
      "\u001b[34m\u001b[1mwandb\u001b[0m: \tmax_depth: 3\n",
      "\u001b[34m\u001b[1mwandb\u001b[0m: \tmoves_weight: 13.65529214658972\n",
      "\u001b[34m\u001b[1mwandb\u001b[0m: \ttrap_weight: 11.307522935527352\n"
     ]
    },
    {
     "data": {
      "text/html": [
       "Tracking run with wandb version 0.19.1"
      ],
      "text/plain": [
       "<IPython.core.display.HTML object>"
      ]
     },
     "metadata": {},
     "output_type": "display_data"
    },
    {
     "data": {
      "text/html": [
       "Run data is saved locally in <code>/Users/mateogiraz/Documents/MountainCarContinuous (1)/three-musketeers/wandb/run-20241214_103753-6qcbn6zt</code>"
      ],
      "text/plain": [
       "<IPython.core.display.HTML object>"
      ]
     },
     "metadata": {},
     "output_type": "display_data"
    },
    {
     "data": {
      "text/html": [
       "Syncing run <strong><a href='https://wandb.ai/mateogiraz27-ort/three-musketeers/runs/6qcbn6zt' target=\"_blank\">stoic-sweep-72</a></strong> to <a href='https://wandb.ai/mateogiraz27-ort/three-musketeers' target=\"_blank\">Weights & Biases</a> (<a href='https://wandb.me/developer-guide' target=\"_blank\">docs</a>)<br>Sweep page: <a href='https://wandb.ai/mateogiraz27-ort/three-musketeers/sweeps/txk212na' target=\"_blank\">https://wandb.ai/mateogiraz27-ort/three-musketeers/sweeps/txk212na</a>"
      ],
      "text/plain": [
       "<IPython.core.display.HTML object>"
      ]
     },
     "metadata": {},
     "output_type": "display_data"
    },
    {
     "data": {
      "text/html": [
       " View project at <a href='https://wandb.ai/mateogiraz27-ort/three-musketeers' target=\"_blank\">https://wandb.ai/mateogiraz27-ort/three-musketeers</a>"
      ],
      "text/plain": [
       "<IPython.core.display.HTML object>"
      ]
     },
     "metadata": {},
     "output_type": "display_data"
    },
    {
     "data": {
      "text/html": [
       " View sweep at <a href='https://wandb.ai/mateogiraz27-ort/three-musketeers/sweeps/txk212na' target=\"_blank\">https://wandb.ai/mateogiraz27-ort/three-musketeers/sweeps/txk212na</a>"
      ],
      "text/plain": [
       "<IPython.core.display.HTML object>"
      ]
     },
     "metadata": {},
     "output_type": "display_data"
    },
    {
     "data": {
      "text/html": [
       " View run at <a href='https://wandb.ai/mateogiraz27-ort/three-musketeers/runs/6qcbn6zt' target=\"_blank\">https://wandb.ai/mateogiraz27-ort/three-musketeers/runs/6qcbn6zt</a>"
      ],
      "text/plain": [
       "<IPython.core.display.HTML object>"
      ]
     },
     "metadata": {},
     "output_type": "display_data"
    },
    {
     "name": "stderr",
     "output_type": "stream",
     "text": [
      "100%|██████████| 100/100 [00:28<00:00,  3.48it/s]\n"
     ]
    },
    {
     "data": {
      "text/html": [],
      "text/plain": [
       "<IPython.core.display.HTML object>"
      ]
     },
     "metadata": {},
     "output_type": "display_data"
    },
    {
     "data": {
      "text/html": [
       "<br>    <style><br>        .wandb-row {<br>            display: flex;<br>            flex-direction: row;<br>            flex-wrap: wrap;<br>            justify-content: flex-start;<br>            width: 100%;<br>        }<br>        .wandb-col {<br>            display: flex;<br>            flex-direction: column;<br>            flex-basis: 100%;<br>            flex: 1;<br>            padding: 10px;<br>        }<br>    </style><br><div class=\"wandb-row\"><div class=\"wandb-col\"><h3>Run history:</h3><br/><table class=\"wandb\"><tr><td>agent_wins</td><td>▁</td></tr><tr><td>pete_wins</td><td>▁</td></tr><tr><td>win_rate</td><td>▁</td></tr></table><br/></div><div class=\"wandb-col\"><h3>Run summary:</h3><br/><table class=\"wandb\"><tr><td>agent_wins</td><td>89</td></tr><tr><td>pete_wins</td><td>11</td></tr><tr><td>win_rate</td><td>0.89</td></tr></table><br/></div></div>"
      ],
      "text/plain": [
       "<IPython.core.display.HTML object>"
      ]
     },
     "metadata": {},
     "output_type": "display_data"
    },
    {
     "data": {
      "text/html": [
       " View run <strong style=\"color:#cdcd00\">stoic-sweep-72</strong> at: <a href='https://wandb.ai/mateogiraz27-ort/three-musketeers/runs/6qcbn6zt' target=\"_blank\">https://wandb.ai/mateogiraz27-ort/three-musketeers/runs/6qcbn6zt</a><br> View project at: <a href='https://wandb.ai/mateogiraz27-ort/three-musketeers' target=\"_blank\">https://wandb.ai/mateogiraz27-ort/three-musketeers</a><br>Synced 5 W&B file(s), 0 media file(s), 0 artifact file(s) and 0 other file(s)"
      ],
      "text/plain": [
       "<IPython.core.display.HTML object>"
      ]
     },
     "metadata": {},
     "output_type": "display_data"
    },
    {
     "data": {
      "text/html": [
       "Find logs at: <code>./wandb/run-20241214_103753-6qcbn6zt/logs</code>"
      ],
      "text/plain": [
       "<IPython.core.display.HTML object>"
      ]
     },
     "metadata": {},
     "output_type": "display_data"
    },
    {
     "name": "stderr",
     "output_type": "stream",
     "text": [
      "\u001b[34m\u001b[1mwandb\u001b[0m: Sweep Agent: Waiting for job.\n",
      "\u001b[34m\u001b[1mwandb\u001b[0m: Job received.\n",
      "\u001b[34m\u001b[1mwandb\u001b[0m: Agent Starting Run: nji53rzw with config:\n",
      "\u001b[34m\u001b[1mwandb\u001b[0m: \talignment_weight: 10.105332221678813\n",
      "\u001b[34m\u001b[1mwandb\u001b[0m: \tmax_depth: 5\n",
      "\u001b[34m\u001b[1mwandb\u001b[0m: \tmoves_weight: 7.459178548945539\n",
      "\u001b[34m\u001b[1mwandb\u001b[0m: \ttrap_weight: 26.08528913470838\n"
     ]
    },
    {
     "data": {
      "text/html": [
       "Tracking run with wandb version 0.19.1"
      ],
      "text/plain": [
       "<IPython.core.display.HTML object>"
      ]
     },
     "metadata": {},
     "output_type": "display_data"
    },
    {
     "data": {
      "text/html": [
       "Run data is saved locally in <code>/Users/mateogiraz/Documents/MountainCarContinuous (1)/three-musketeers/wandb/run-20241214_103835-nji53rzw</code>"
      ],
      "text/plain": [
       "<IPython.core.display.HTML object>"
      ]
     },
     "metadata": {},
     "output_type": "display_data"
    },
    {
     "data": {
      "text/html": [
       "Syncing run <strong><a href='https://wandb.ai/mateogiraz27-ort/three-musketeers/runs/nji53rzw' target=\"_blank\">peach-sweep-73</a></strong> to <a href='https://wandb.ai/mateogiraz27-ort/three-musketeers' target=\"_blank\">Weights & Biases</a> (<a href='https://wandb.me/developer-guide' target=\"_blank\">docs</a>)<br>Sweep page: <a href='https://wandb.ai/mateogiraz27-ort/three-musketeers/sweeps/txk212na' target=\"_blank\">https://wandb.ai/mateogiraz27-ort/three-musketeers/sweeps/txk212na</a>"
      ],
      "text/plain": [
       "<IPython.core.display.HTML object>"
      ]
     },
     "metadata": {},
     "output_type": "display_data"
    },
    {
     "data": {
      "text/html": [
       " View project at <a href='https://wandb.ai/mateogiraz27-ort/three-musketeers' target=\"_blank\">https://wandb.ai/mateogiraz27-ort/three-musketeers</a>"
      ],
      "text/plain": [
       "<IPython.core.display.HTML object>"
      ]
     },
     "metadata": {},
     "output_type": "display_data"
    },
    {
     "data": {
      "text/html": [
       " View sweep at <a href='https://wandb.ai/mateogiraz27-ort/three-musketeers/sweeps/txk212na' target=\"_blank\">https://wandb.ai/mateogiraz27-ort/three-musketeers/sweeps/txk212na</a>"
      ],
      "text/plain": [
       "<IPython.core.display.HTML object>"
      ]
     },
     "metadata": {},
     "output_type": "display_data"
    },
    {
     "data": {
      "text/html": [
       " View run at <a href='https://wandb.ai/mateogiraz27-ort/three-musketeers/runs/nji53rzw' target=\"_blank\">https://wandb.ai/mateogiraz27-ort/three-musketeers/runs/nji53rzw</a>"
      ],
      "text/plain": [
       "<IPython.core.display.HTML object>"
      ]
     },
     "metadata": {},
     "output_type": "display_data"
    },
    {
     "name": "stderr",
     "output_type": "stream",
     "text": [
      "100%|██████████| 100/100 [01:04<00:00,  1.55it/s]\n"
     ]
    },
    {
     "data": {
      "text/html": [],
      "text/plain": [
       "<IPython.core.display.HTML object>"
      ]
     },
     "metadata": {},
     "output_type": "display_data"
    },
    {
     "data": {
      "text/html": [
       "<br>    <style><br>        .wandb-row {<br>            display: flex;<br>            flex-direction: row;<br>            flex-wrap: wrap;<br>            justify-content: flex-start;<br>            width: 100%;<br>        }<br>        .wandb-col {<br>            display: flex;<br>            flex-direction: column;<br>            flex-basis: 100%;<br>            flex: 1;<br>            padding: 10px;<br>        }<br>    </style><br><div class=\"wandb-row\"><div class=\"wandb-col\"><h3>Run history:</h3><br/><table class=\"wandb\"><tr><td>agent_wins</td><td>▁</td></tr><tr><td>pete_wins</td><td>▁</td></tr><tr><td>win_rate</td><td>▁</td></tr></table><br/></div><div class=\"wandb-col\"><h3>Run summary:</h3><br/><table class=\"wandb\"><tr><td>agent_wins</td><td>90</td></tr><tr><td>pete_wins</td><td>10</td></tr><tr><td>win_rate</td><td>0.9</td></tr></table><br/></div></div>"
      ],
      "text/plain": [
       "<IPython.core.display.HTML object>"
      ]
     },
     "metadata": {},
     "output_type": "display_data"
    },
    {
     "data": {
      "text/html": [
       " View run <strong style=\"color:#cdcd00\">peach-sweep-73</strong> at: <a href='https://wandb.ai/mateogiraz27-ort/three-musketeers/runs/nji53rzw' target=\"_blank\">https://wandb.ai/mateogiraz27-ort/three-musketeers/runs/nji53rzw</a><br> View project at: <a href='https://wandb.ai/mateogiraz27-ort/three-musketeers' target=\"_blank\">https://wandb.ai/mateogiraz27-ort/three-musketeers</a><br>Synced 5 W&B file(s), 0 media file(s), 0 artifact file(s) and 0 other file(s)"
      ],
      "text/plain": [
       "<IPython.core.display.HTML object>"
      ]
     },
     "metadata": {},
     "output_type": "display_data"
    },
    {
     "data": {
      "text/html": [
       "Find logs at: <code>./wandb/run-20241214_103835-nji53rzw/logs</code>"
      ],
      "text/plain": [
       "<IPython.core.display.HTML object>"
      ]
     },
     "metadata": {},
     "output_type": "display_data"
    },
    {
     "name": "stderr",
     "output_type": "stream",
     "text": [
      "\u001b[34m\u001b[1mwandb\u001b[0m: Agent Starting Run: nkyret36 with config:\n",
      "\u001b[34m\u001b[1mwandb\u001b[0m: \talignment_weight: 6.445482482204185\n",
      "\u001b[34m\u001b[1mwandb\u001b[0m: \tmax_depth: 3\n",
      "\u001b[34m\u001b[1mwandb\u001b[0m: \tmoves_weight: 5.632038256650751\n",
      "\u001b[34m\u001b[1mwandb\u001b[0m: \ttrap_weight: 24.105299006071235\n"
     ]
    },
    {
     "data": {
      "text/html": [
       "Tracking run with wandb version 0.19.1"
      ],
      "text/plain": [
       "<IPython.core.display.HTML object>"
      ]
     },
     "metadata": {},
     "output_type": "display_data"
    },
    {
     "data": {
      "text/html": [
       "Run data is saved locally in <code>/Users/mateogiraz/Documents/MountainCarContinuous (1)/three-musketeers/wandb/run-20241214_103944-nkyret36</code>"
      ],
      "text/plain": [
       "<IPython.core.display.HTML object>"
      ]
     },
     "metadata": {},
     "output_type": "display_data"
    },
    {
     "data": {
      "text/html": [
       "Syncing run <strong><a href='https://wandb.ai/mateogiraz27-ort/three-musketeers/runs/nkyret36' target=\"_blank\">cool-sweep-74</a></strong> to <a href='https://wandb.ai/mateogiraz27-ort/three-musketeers' target=\"_blank\">Weights & Biases</a> (<a href='https://wandb.me/developer-guide' target=\"_blank\">docs</a>)<br>Sweep page: <a href='https://wandb.ai/mateogiraz27-ort/three-musketeers/sweeps/txk212na' target=\"_blank\">https://wandb.ai/mateogiraz27-ort/three-musketeers/sweeps/txk212na</a>"
      ],
      "text/plain": [
       "<IPython.core.display.HTML object>"
      ]
     },
     "metadata": {},
     "output_type": "display_data"
    },
    {
     "data": {
      "text/html": [
       " View project at <a href='https://wandb.ai/mateogiraz27-ort/three-musketeers' target=\"_blank\">https://wandb.ai/mateogiraz27-ort/three-musketeers</a>"
      ],
      "text/plain": [
       "<IPython.core.display.HTML object>"
      ]
     },
     "metadata": {},
     "output_type": "display_data"
    },
    {
     "data": {
      "text/html": [
       " View sweep at <a href='https://wandb.ai/mateogiraz27-ort/three-musketeers/sweeps/txk212na' target=\"_blank\">https://wandb.ai/mateogiraz27-ort/three-musketeers/sweeps/txk212na</a>"
      ],
      "text/plain": [
       "<IPython.core.display.HTML object>"
      ]
     },
     "metadata": {},
     "output_type": "display_data"
    },
    {
     "data": {
      "text/html": [
       " View run at <a href='https://wandb.ai/mateogiraz27-ort/three-musketeers/runs/nkyret36' target=\"_blank\">https://wandb.ai/mateogiraz27-ort/three-musketeers/runs/nkyret36</a>"
      ],
      "text/plain": [
       "<IPython.core.display.HTML object>"
      ]
     },
     "metadata": {},
     "output_type": "display_data"
    },
    {
     "name": "stderr",
     "output_type": "stream",
     "text": [
      "100%|██████████| 100/100 [00:27<00:00,  3.66it/s]\n"
     ]
    },
    {
     "data": {
      "text/html": [],
      "text/plain": [
       "<IPython.core.display.HTML object>"
      ]
     },
     "metadata": {},
     "output_type": "display_data"
    },
    {
     "data": {
      "text/html": [
       "<br>    <style><br>        .wandb-row {<br>            display: flex;<br>            flex-direction: row;<br>            flex-wrap: wrap;<br>            justify-content: flex-start;<br>            width: 100%;<br>        }<br>        .wandb-col {<br>            display: flex;<br>            flex-direction: column;<br>            flex-basis: 100%;<br>            flex: 1;<br>            padding: 10px;<br>        }<br>    </style><br><div class=\"wandb-row\"><div class=\"wandb-col\"><h3>Run history:</h3><br/><table class=\"wandb\"><tr><td>agent_wins</td><td>▁</td></tr><tr><td>pete_wins</td><td>▁</td></tr><tr><td>win_rate</td><td>▁</td></tr></table><br/></div><div class=\"wandb-col\"><h3>Run summary:</h3><br/><table class=\"wandb\"><tr><td>agent_wins</td><td>86</td></tr><tr><td>pete_wins</td><td>14</td></tr><tr><td>win_rate</td><td>0.86</td></tr></table><br/></div></div>"
      ],
      "text/plain": [
       "<IPython.core.display.HTML object>"
      ]
     },
     "metadata": {},
     "output_type": "display_data"
    },
    {
     "data": {
      "text/html": [
       " View run <strong style=\"color:#cdcd00\">cool-sweep-74</strong> at: <a href='https://wandb.ai/mateogiraz27-ort/three-musketeers/runs/nkyret36' target=\"_blank\">https://wandb.ai/mateogiraz27-ort/three-musketeers/runs/nkyret36</a><br> View project at: <a href='https://wandb.ai/mateogiraz27-ort/three-musketeers' target=\"_blank\">https://wandb.ai/mateogiraz27-ort/three-musketeers</a><br>Synced 5 W&B file(s), 0 media file(s), 0 artifact file(s) and 0 other file(s)"
      ],
      "text/plain": [
       "<IPython.core.display.HTML object>"
      ]
     },
     "metadata": {},
     "output_type": "display_data"
    },
    {
     "data": {
      "text/html": [
       "Find logs at: <code>./wandb/run-20241214_103944-nkyret36/logs</code>"
      ],
      "text/plain": [
       "<IPython.core.display.HTML object>"
      ]
     },
     "metadata": {},
     "output_type": "display_data"
    },
    {
     "name": "stderr",
     "output_type": "stream",
     "text": [
      "\u001b[34m\u001b[1mwandb\u001b[0m: Agent Starting Run: ioytjt6m with config:\n",
      "\u001b[34m\u001b[1mwandb\u001b[0m: \talignment_weight: 14.049879075373928\n",
      "\u001b[34m\u001b[1mwandb\u001b[0m: \tmax_depth: 4\n",
      "\u001b[34m\u001b[1mwandb\u001b[0m: \tmoves_weight: 7.148260245964454\n",
      "\u001b[34m\u001b[1mwandb\u001b[0m: \ttrap_weight: 10.861007784938131\n"
     ]
    },
    {
     "data": {
      "text/html": [
       "Tracking run with wandb version 0.19.1"
      ],
      "text/plain": [
       "<IPython.core.display.HTML object>"
      ]
     },
     "metadata": {},
     "output_type": "display_data"
    },
    {
     "data": {
      "text/html": [
       "Run data is saved locally in <code>/Users/mateogiraz/Documents/MountainCarContinuous (1)/three-musketeers/wandb/run-20241214_104018-ioytjt6m</code>"
      ],
      "text/plain": [
       "<IPython.core.display.HTML object>"
      ]
     },
     "metadata": {},
     "output_type": "display_data"
    },
    {
     "data": {
      "text/html": [
       "Syncing run <strong><a href='https://wandb.ai/mateogiraz27-ort/three-musketeers/runs/ioytjt6m' target=\"_blank\">volcanic-sweep-75</a></strong> to <a href='https://wandb.ai/mateogiraz27-ort/three-musketeers' target=\"_blank\">Weights & Biases</a> (<a href='https://wandb.me/developer-guide' target=\"_blank\">docs</a>)<br>Sweep page: <a href='https://wandb.ai/mateogiraz27-ort/three-musketeers/sweeps/txk212na' target=\"_blank\">https://wandb.ai/mateogiraz27-ort/three-musketeers/sweeps/txk212na</a>"
      ],
      "text/plain": [
       "<IPython.core.display.HTML object>"
      ]
     },
     "metadata": {},
     "output_type": "display_data"
    },
    {
     "data": {
      "text/html": [
       " View project at <a href='https://wandb.ai/mateogiraz27-ort/three-musketeers' target=\"_blank\">https://wandb.ai/mateogiraz27-ort/three-musketeers</a>"
      ],
      "text/plain": [
       "<IPython.core.display.HTML object>"
      ]
     },
     "metadata": {},
     "output_type": "display_data"
    },
    {
     "data": {
      "text/html": [
       " View sweep at <a href='https://wandb.ai/mateogiraz27-ort/three-musketeers/sweeps/txk212na' target=\"_blank\">https://wandb.ai/mateogiraz27-ort/three-musketeers/sweeps/txk212na</a>"
      ],
      "text/plain": [
       "<IPython.core.display.HTML object>"
      ]
     },
     "metadata": {},
     "output_type": "display_data"
    },
    {
     "data": {
      "text/html": [
       " View run at <a href='https://wandb.ai/mateogiraz27-ort/three-musketeers/runs/ioytjt6m' target=\"_blank\">https://wandb.ai/mateogiraz27-ort/three-musketeers/runs/ioytjt6m</a>"
      ],
      "text/plain": [
       "<IPython.core.display.HTML object>"
      ]
     },
     "metadata": {},
     "output_type": "display_data"
    },
    {
     "name": "stderr",
     "output_type": "stream",
     "text": [
      "100%|██████████| 100/100 [00:42<00:00,  2.38it/s]\n"
     ]
    },
    {
     "data": {
      "text/html": [],
      "text/plain": [
       "<IPython.core.display.HTML object>"
      ]
     },
     "metadata": {},
     "output_type": "display_data"
    },
    {
     "data": {
      "text/html": [
       "<br>    <style><br>        .wandb-row {<br>            display: flex;<br>            flex-direction: row;<br>            flex-wrap: wrap;<br>            justify-content: flex-start;<br>            width: 100%;<br>        }<br>        .wandb-col {<br>            display: flex;<br>            flex-direction: column;<br>            flex-basis: 100%;<br>            flex: 1;<br>            padding: 10px;<br>        }<br>    </style><br><div class=\"wandb-row\"><div class=\"wandb-col\"><h3>Run history:</h3><br/><table class=\"wandb\"><tr><td>agent_wins</td><td>▁</td></tr><tr><td>pete_wins</td><td>▁</td></tr><tr><td>win_rate</td><td>▁</td></tr></table><br/></div><div class=\"wandb-col\"><h3>Run summary:</h3><br/><table class=\"wandb\"><tr><td>agent_wins</td><td>91</td></tr><tr><td>pete_wins</td><td>9</td></tr><tr><td>win_rate</td><td>0.91</td></tr></table><br/></div></div>"
      ],
      "text/plain": [
       "<IPython.core.display.HTML object>"
      ]
     },
     "metadata": {},
     "output_type": "display_data"
    },
    {
     "data": {
      "text/html": [
       " View run <strong style=\"color:#cdcd00\">volcanic-sweep-75</strong> at: <a href='https://wandb.ai/mateogiraz27-ort/three-musketeers/runs/ioytjt6m' target=\"_blank\">https://wandb.ai/mateogiraz27-ort/three-musketeers/runs/ioytjt6m</a><br> View project at: <a href='https://wandb.ai/mateogiraz27-ort/three-musketeers' target=\"_blank\">https://wandb.ai/mateogiraz27-ort/three-musketeers</a><br>Synced 5 W&B file(s), 0 media file(s), 0 artifact file(s) and 0 other file(s)"
      ],
      "text/plain": [
       "<IPython.core.display.HTML object>"
      ]
     },
     "metadata": {},
     "output_type": "display_data"
    },
    {
     "data": {
      "text/html": [
       "Find logs at: <code>./wandb/run-20241214_104018-ioytjt6m/logs</code>"
      ],
      "text/plain": [
       "<IPython.core.display.HTML object>"
      ]
     },
     "metadata": {},
     "output_type": "display_data"
    },
    {
     "name": "stderr",
     "output_type": "stream",
     "text": [
      "\u001b[34m\u001b[1mwandb\u001b[0m: Agent Starting Run: nqlyuy7r with config:\n",
      "\u001b[34m\u001b[1mwandb\u001b[0m: \talignment_weight: 15.82835651569426\n",
      "\u001b[34m\u001b[1mwandb\u001b[0m: \tmax_depth: 3\n",
      "\u001b[34m\u001b[1mwandb\u001b[0m: \tmoves_weight: 11.7079960838402\n",
      "\u001b[34m\u001b[1mwandb\u001b[0m: \ttrap_weight: 26.78779826759161\n"
     ]
    },
    {
     "data": {
      "text/html": [
       "Tracking run with wandb version 0.19.1"
      ],
      "text/plain": [
       "<IPython.core.display.HTML object>"
      ]
     },
     "metadata": {},
     "output_type": "display_data"
    },
    {
     "data": {
      "text/html": [
       "Run data is saved locally in <code>/Users/mateogiraz/Documents/MountainCarContinuous (1)/three-musketeers/wandb/run-20241214_104106-nqlyuy7r</code>"
      ],
      "text/plain": [
       "<IPython.core.display.HTML object>"
      ]
     },
     "metadata": {},
     "output_type": "display_data"
    },
    {
     "data": {
      "text/html": [
       "Syncing run <strong><a href='https://wandb.ai/mateogiraz27-ort/three-musketeers/runs/nqlyuy7r' target=\"_blank\">lemon-sweep-76</a></strong> to <a href='https://wandb.ai/mateogiraz27-ort/three-musketeers' target=\"_blank\">Weights & Biases</a> (<a href='https://wandb.me/developer-guide' target=\"_blank\">docs</a>)<br>Sweep page: <a href='https://wandb.ai/mateogiraz27-ort/three-musketeers/sweeps/txk212na' target=\"_blank\">https://wandb.ai/mateogiraz27-ort/three-musketeers/sweeps/txk212na</a>"
      ],
      "text/plain": [
       "<IPython.core.display.HTML object>"
      ]
     },
     "metadata": {},
     "output_type": "display_data"
    },
    {
     "data": {
      "text/html": [
       " View project at <a href='https://wandb.ai/mateogiraz27-ort/three-musketeers' target=\"_blank\">https://wandb.ai/mateogiraz27-ort/three-musketeers</a>"
      ],
      "text/plain": [
       "<IPython.core.display.HTML object>"
      ]
     },
     "metadata": {},
     "output_type": "display_data"
    },
    {
     "data": {
      "text/html": [
       " View sweep at <a href='https://wandb.ai/mateogiraz27-ort/three-musketeers/sweeps/txk212na' target=\"_blank\">https://wandb.ai/mateogiraz27-ort/three-musketeers/sweeps/txk212na</a>"
      ],
      "text/plain": [
       "<IPython.core.display.HTML object>"
      ]
     },
     "metadata": {},
     "output_type": "display_data"
    },
    {
     "data": {
      "text/html": [
       " View run at <a href='https://wandb.ai/mateogiraz27-ort/three-musketeers/runs/nqlyuy7r' target=\"_blank\">https://wandb.ai/mateogiraz27-ort/three-musketeers/runs/nqlyuy7r</a>"
      ],
      "text/plain": [
       "<IPython.core.display.HTML object>"
      ]
     },
     "metadata": {},
     "output_type": "display_data"
    },
    {
     "name": "stderr",
     "output_type": "stream",
     "text": [
      "100%|██████████| 100/100 [00:34<00:00,  2.87it/s]\n"
     ]
    },
    {
     "data": {
      "text/html": [],
      "text/plain": [
       "<IPython.core.display.HTML object>"
      ]
     },
     "metadata": {},
     "output_type": "display_data"
    },
    {
     "data": {
      "text/html": [
       "<br>    <style><br>        .wandb-row {<br>            display: flex;<br>            flex-direction: row;<br>            flex-wrap: wrap;<br>            justify-content: flex-start;<br>            width: 100%;<br>        }<br>        .wandb-col {<br>            display: flex;<br>            flex-direction: column;<br>            flex-basis: 100%;<br>            flex: 1;<br>            padding: 10px;<br>        }<br>    </style><br><div class=\"wandb-row\"><div class=\"wandb-col\"><h3>Run history:</h3><br/><table class=\"wandb\"><tr><td>agent_wins</td><td>▁</td></tr><tr><td>pete_wins</td><td>▁</td></tr><tr><td>win_rate</td><td>▁</td></tr></table><br/></div><div class=\"wandb-col\"><h3>Run summary:</h3><br/><table class=\"wandb\"><tr><td>agent_wins</td><td>90</td></tr><tr><td>pete_wins</td><td>10</td></tr><tr><td>win_rate</td><td>0.9</td></tr></table><br/></div></div>"
      ],
      "text/plain": [
       "<IPython.core.display.HTML object>"
      ]
     },
     "metadata": {},
     "output_type": "display_data"
    },
    {
     "data": {
      "text/html": [
       " View run <strong style=\"color:#cdcd00\">lemon-sweep-76</strong> at: <a href='https://wandb.ai/mateogiraz27-ort/three-musketeers/runs/nqlyuy7r' target=\"_blank\">https://wandb.ai/mateogiraz27-ort/three-musketeers/runs/nqlyuy7r</a><br> View project at: <a href='https://wandb.ai/mateogiraz27-ort/three-musketeers' target=\"_blank\">https://wandb.ai/mateogiraz27-ort/three-musketeers</a><br>Synced 5 W&B file(s), 0 media file(s), 0 artifact file(s) and 0 other file(s)"
      ],
      "text/plain": [
       "<IPython.core.display.HTML object>"
      ]
     },
     "metadata": {},
     "output_type": "display_data"
    },
    {
     "data": {
      "text/html": [
       "Find logs at: <code>./wandb/run-20241214_104106-nqlyuy7r/logs</code>"
      ],
      "text/plain": [
       "<IPython.core.display.HTML object>"
      ]
     },
     "metadata": {},
     "output_type": "display_data"
    },
    {
     "name": "stderr",
     "output_type": "stream",
     "text": [
      "\u001b[34m\u001b[1mwandb\u001b[0m: Agent Starting Run: p5jetowv with config:\n",
      "\u001b[34m\u001b[1mwandb\u001b[0m: \talignment_weight: 15.426692499522076\n",
      "\u001b[34m\u001b[1mwandb\u001b[0m: \tmax_depth: 2\n",
      "\u001b[34m\u001b[1mwandb\u001b[0m: \tmoves_weight: 13.176644219673662\n",
      "\u001b[34m\u001b[1mwandb\u001b[0m: \ttrap_weight: 20.12296380927272\n"
     ]
    },
    {
     "data": {
      "text/html": [
       "Tracking run with wandb version 0.19.1"
      ],
      "text/plain": [
       "<IPython.core.display.HTML object>"
      ]
     },
     "metadata": {},
     "output_type": "display_data"
    },
    {
     "data": {
      "text/html": [
       "Run data is saved locally in <code>/Users/mateogiraz/Documents/MountainCarContinuous (1)/three-musketeers/wandb/run-20241214_104149-p5jetowv</code>"
      ],
      "text/plain": [
       "<IPython.core.display.HTML object>"
      ]
     },
     "metadata": {},
     "output_type": "display_data"
    },
    {
     "data": {
      "text/html": [
       "Syncing run <strong><a href='https://wandb.ai/mateogiraz27-ort/three-musketeers/runs/p5jetowv' target=\"_blank\">bright-sweep-77</a></strong> to <a href='https://wandb.ai/mateogiraz27-ort/three-musketeers' target=\"_blank\">Weights & Biases</a> (<a href='https://wandb.me/developer-guide' target=\"_blank\">docs</a>)<br>Sweep page: <a href='https://wandb.ai/mateogiraz27-ort/three-musketeers/sweeps/txk212na' target=\"_blank\">https://wandb.ai/mateogiraz27-ort/three-musketeers/sweeps/txk212na</a>"
      ],
      "text/plain": [
       "<IPython.core.display.HTML object>"
      ]
     },
     "metadata": {},
     "output_type": "display_data"
    },
    {
     "data": {
      "text/html": [
       " View project at <a href='https://wandb.ai/mateogiraz27-ort/three-musketeers' target=\"_blank\">https://wandb.ai/mateogiraz27-ort/three-musketeers</a>"
      ],
      "text/plain": [
       "<IPython.core.display.HTML object>"
      ]
     },
     "metadata": {},
     "output_type": "display_data"
    },
    {
     "data": {
      "text/html": [
       " View sweep at <a href='https://wandb.ai/mateogiraz27-ort/three-musketeers/sweeps/txk212na' target=\"_blank\">https://wandb.ai/mateogiraz27-ort/three-musketeers/sweeps/txk212na</a>"
      ],
      "text/plain": [
       "<IPython.core.display.HTML object>"
      ]
     },
     "metadata": {},
     "output_type": "display_data"
    },
    {
     "data": {
      "text/html": [
       " View run at <a href='https://wandb.ai/mateogiraz27-ort/three-musketeers/runs/p5jetowv' target=\"_blank\">https://wandb.ai/mateogiraz27-ort/three-musketeers/runs/p5jetowv</a>"
      ],
      "text/plain": [
       "<IPython.core.display.HTML object>"
      ]
     },
     "metadata": {},
     "output_type": "display_data"
    },
    {
     "name": "stderr",
     "output_type": "stream",
     "text": [
      "100%|██████████| 100/100 [00:17<00:00,  5.75it/s]\n"
     ]
    },
    {
     "data": {
      "text/html": [],
      "text/plain": [
       "<IPython.core.display.HTML object>"
      ]
     },
     "metadata": {},
     "output_type": "display_data"
    },
    {
     "data": {
      "text/html": [
       "<br>    <style><br>        .wandb-row {<br>            display: flex;<br>            flex-direction: row;<br>            flex-wrap: wrap;<br>            justify-content: flex-start;<br>            width: 100%;<br>        }<br>        .wandb-col {<br>            display: flex;<br>            flex-direction: column;<br>            flex-basis: 100%;<br>            flex: 1;<br>            padding: 10px;<br>        }<br>    </style><br><div class=\"wandb-row\"><div class=\"wandb-col\"><h3>Run history:</h3><br/><table class=\"wandb\"><tr><td>agent_wins</td><td>▁</td></tr><tr><td>pete_wins</td><td>▁</td></tr><tr><td>win_rate</td><td>▁</td></tr></table><br/></div><div class=\"wandb-col\"><h3>Run summary:</h3><br/><table class=\"wandb\"><tr><td>agent_wins</td><td>70</td></tr><tr><td>pete_wins</td><td>30</td></tr><tr><td>win_rate</td><td>0.7</td></tr></table><br/></div></div>"
      ],
      "text/plain": [
       "<IPython.core.display.HTML object>"
      ]
     },
     "metadata": {},
     "output_type": "display_data"
    },
    {
     "data": {
      "text/html": [
       " View run <strong style=\"color:#cdcd00\">bright-sweep-77</strong> at: <a href='https://wandb.ai/mateogiraz27-ort/three-musketeers/runs/p5jetowv' target=\"_blank\">https://wandb.ai/mateogiraz27-ort/three-musketeers/runs/p5jetowv</a><br> View project at: <a href='https://wandb.ai/mateogiraz27-ort/three-musketeers' target=\"_blank\">https://wandb.ai/mateogiraz27-ort/three-musketeers</a><br>Synced 5 W&B file(s), 0 media file(s), 0 artifact file(s) and 0 other file(s)"
      ],
      "text/plain": [
       "<IPython.core.display.HTML object>"
      ]
     },
     "metadata": {},
     "output_type": "display_data"
    },
    {
     "data": {
      "text/html": [
       "Find logs at: <code>./wandb/run-20241214_104149-p5jetowv/logs</code>"
      ],
      "text/plain": [
       "<IPython.core.display.HTML object>"
      ]
     },
     "metadata": {},
     "output_type": "display_data"
    },
    {
     "name": "stderr",
     "output_type": "stream",
     "text": [
      "\u001b[34m\u001b[1mwandb\u001b[0m: Agent Starting Run: bu2snuy9 with config:\n",
      "\u001b[34m\u001b[1mwandb\u001b[0m: \talignment_weight: 15.306462733172111\n",
      "\u001b[34m\u001b[1mwandb\u001b[0m: \tmax_depth: 4\n",
      "\u001b[34m\u001b[1mwandb\u001b[0m: \tmoves_weight: 12.548483778027611\n",
      "\u001b[34m\u001b[1mwandb\u001b[0m: \ttrap_weight: 27.71392277476859\n"
     ]
    },
    {
     "data": {
      "text/html": [
       "Tracking run with wandb version 0.19.1"
      ],
      "text/plain": [
       "<IPython.core.display.HTML object>"
      ]
     },
     "metadata": {},
     "output_type": "display_data"
    },
    {
     "data": {
      "text/html": [
       "Run data is saved locally in <code>/Users/mateogiraz/Documents/MountainCarContinuous (1)/three-musketeers/wandb/run-20241214_104210-bu2snuy9</code>"
      ],
      "text/plain": [
       "<IPython.core.display.HTML object>"
      ]
     },
     "metadata": {},
     "output_type": "display_data"
    },
    {
     "data": {
      "text/html": [
       "Syncing run <strong><a href='https://wandb.ai/mateogiraz27-ort/three-musketeers/runs/bu2snuy9' target=\"_blank\">revived-sweep-78</a></strong> to <a href='https://wandb.ai/mateogiraz27-ort/three-musketeers' target=\"_blank\">Weights & Biases</a> (<a href='https://wandb.me/developer-guide' target=\"_blank\">docs</a>)<br>Sweep page: <a href='https://wandb.ai/mateogiraz27-ort/three-musketeers/sweeps/txk212na' target=\"_blank\">https://wandb.ai/mateogiraz27-ort/three-musketeers/sweeps/txk212na</a>"
      ],
      "text/plain": [
       "<IPython.core.display.HTML object>"
      ]
     },
     "metadata": {},
     "output_type": "display_data"
    },
    {
     "data": {
      "text/html": [
       " View project at <a href='https://wandb.ai/mateogiraz27-ort/three-musketeers' target=\"_blank\">https://wandb.ai/mateogiraz27-ort/three-musketeers</a>"
      ],
      "text/plain": [
       "<IPython.core.display.HTML object>"
      ]
     },
     "metadata": {},
     "output_type": "display_data"
    },
    {
     "data": {
      "text/html": [
       " View sweep at <a href='https://wandb.ai/mateogiraz27-ort/three-musketeers/sweeps/txk212na' target=\"_blank\">https://wandb.ai/mateogiraz27-ort/three-musketeers/sweeps/txk212na</a>"
      ],
      "text/plain": [
       "<IPython.core.display.HTML object>"
      ]
     },
     "metadata": {},
     "output_type": "display_data"
    },
    {
     "data": {
      "text/html": [
       " View run at <a href='https://wandb.ai/mateogiraz27-ort/three-musketeers/runs/bu2snuy9' target=\"_blank\">https://wandb.ai/mateogiraz27-ort/three-musketeers/runs/bu2snuy9</a>"
      ],
      "text/plain": [
       "<IPython.core.display.HTML object>"
      ]
     },
     "metadata": {},
     "output_type": "display_data"
    },
    {
     "name": "stderr",
     "output_type": "stream",
     "text": [
      "100%|██████████| 100/100 [00:37<00:00,  2.70it/s]\n"
     ]
    },
    {
     "data": {
      "text/html": [],
      "text/plain": [
       "<IPython.core.display.HTML object>"
      ]
     },
     "metadata": {},
     "output_type": "display_data"
    },
    {
     "data": {
      "text/html": [
       "<br>    <style><br>        .wandb-row {<br>            display: flex;<br>            flex-direction: row;<br>            flex-wrap: wrap;<br>            justify-content: flex-start;<br>            width: 100%;<br>        }<br>        .wandb-col {<br>            display: flex;<br>            flex-direction: column;<br>            flex-basis: 100%;<br>            flex: 1;<br>            padding: 10px;<br>        }<br>    </style><br><div class=\"wandb-row\"><div class=\"wandb-col\"><h3>Run history:</h3><br/><table class=\"wandb\"><tr><td>agent_wins</td><td>▁</td></tr><tr><td>pete_wins</td><td>▁</td></tr><tr><td>win_rate</td><td>▁</td></tr></table><br/></div><div class=\"wandb-col\"><h3>Run summary:</h3><br/><table class=\"wandb\"><tr><td>agent_wins</td><td>89</td></tr><tr><td>pete_wins</td><td>11</td></tr><tr><td>win_rate</td><td>0.89</td></tr></table><br/></div></div>"
      ],
      "text/plain": [
       "<IPython.core.display.HTML object>"
      ]
     },
     "metadata": {},
     "output_type": "display_data"
    },
    {
     "data": {
      "text/html": [
       " View run <strong style=\"color:#cdcd00\">revived-sweep-78</strong> at: <a href='https://wandb.ai/mateogiraz27-ort/three-musketeers/runs/bu2snuy9' target=\"_blank\">https://wandb.ai/mateogiraz27-ort/three-musketeers/runs/bu2snuy9</a><br> View project at: <a href='https://wandb.ai/mateogiraz27-ort/three-musketeers' target=\"_blank\">https://wandb.ai/mateogiraz27-ort/three-musketeers</a><br>Synced 5 W&B file(s), 0 media file(s), 0 artifact file(s) and 0 other file(s)"
      ],
      "text/plain": [
       "<IPython.core.display.HTML object>"
      ]
     },
     "metadata": {},
     "output_type": "display_data"
    },
    {
     "data": {
      "text/html": [
       "Find logs at: <code>./wandb/run-20241214_104210-bu2snuy9/logs</code>"
      ],
      "text/plain": [
       "<IPython.core.display.HTML object>"
      ]
     },
     "metadata": {},
     "output_type": "display_data"
    },
    {
     "name": "stderr",
     "output_type": "stream",
     "text": [
      "\u001b[34m\u001b[1mwandb\u001b[0m: Agent Starting Run: hhkjwh9v with config:\n",
      "\u001b[34m\u001b[1mwandb\u001b[0m: \talignment_weight: 13.752986774798234\n",
      "\u001b[34m\u001b[1mwandb\u001b[0m: \tmax_depth: 5\n",
      "\u001b[34m\u001b[1mwandb\u001b[0m: \tmoves_weight: 13.276825728846614\n",
      "\u001b[34m\u001b[1mwandb\u001b[0m: \ttrap_weight: 14.538203745179848\n"
     ]
    },
    {
     "data": {
      "text/html": [
       "Tracking run with wandb version 0.19.1"
      ],
      "text/plain": [
       "<IPython.core.display.HTML object>"
      ]
     },
     "metadata": {},
     "output_type": "display_data"
    },
    {
     "data": {
      "text/html": [
       "Run data is saved locally in <code>/Users/mateogiraz/Documents/MountainCarContinuous (1)/three-musketeers/wandb/run-20241214_104253-hhkjwh9v</code>"
      ],
      "text/plain": [
       "<IPython.core.display.HTML object>"
      ]
     },
     "metadata": {},
     "output_type": "display_data"
    },
    {
     "data": {
      "text/html": [
       "Syncing run <strong><a href='https://wandb.ai/mateogiraz27-ort/three-musketeers/runs/hhkjwh9v' target=\"_blank\">true-sweep-79</a></strong> to <a href='https://wandb.ai/mateogiraz27-ort/three-musketeers' target=\"_blank\">Weights & Biases</a> (<a href='https://wandb.me/developer-guide' target=\"_blank\">docs</a>)<br>Sweep page: <a href='https://wandb.ai/mateogiraz27-ort/three-musketeers/sweeps/txk212na' target=\"_blank\">https://wandb.ai/mateogiraz27-ort/three-musketeers/sweeps/txk212na</a>"
      ],
      "text/plain": [
       "<IPython.core.display.HTML object>"
      ]
     },
     "metadata": {},
     "output_type": "display_data"
    },
    {
     "data": {
      "text/html": [
       " View project at <a href='https://wandb.ai/mateogiraz27-ort/three-musketeers' target=\"_blank\">https://wandb.ai/mateogiraz27-ort/three-musketeers</a>"
      ],
      "text/plain": [
       "<IPython.core.display.HTML object>"
      ]
     },
     "metadata": {},
     "output_type": "display_data"
    },
    {
     "data": {
      "text/html": [
       " View sweep at <a href='https://wandb.ai/mateogiraz27-ort/three-musketeers/sweeps/txk212na' target=\"_blank\">https://wandb.ai/mateogiraz27-ort/three-musketeers/sweeps/txk212na</a>"
      ],
      "text/plain": [
       "<IPython.core.display.HTML object>"
      ]
     },
     "metadata": {},
     "output_type": "display_data"
    },
    {
     "data": {
      "text/html": [
       " View run at <a href='https://wandb.ai/mateogiraz27-ort/three-musketeers/runs/hhkjwh9v' target=\"_blank\">https://wandb.ai/mateogiraz27-ort/three-musketeers/runs/hhkjwh9v</a>"
      ],
      "text/plain": [
       "<IPython.core.display.HTML object>"
      ]
     },
     "metadata": {},
     "output_type": "display_data"
    },
    {
     "name": "stderr",
     "output_type": "stream",
     "text": [
      "100%|██████████| 100/100 [01:05<00:00,  1.53it/s]\n"
     ]
    },
    {
     "data": {
      "text/html": [],
      "text/plain": [
       "<IPython.core.display.HTML object>"
      ]
     },
     "metadata": {},
     "output_type": "display_data"
    },
    {
     "data": {
      "text/html": [
       "<br>    <style><br>        .wandb-row {<br>            display: flex;<br>            flex-direction: row;<br>            flex-wrap: wrap;<br>            justify-content: flex-start;<br>            width: 100%;<br>        }<br>        .wandb-col {<br>            display: flex;<br>            flex-direction: column;<br>            flex-basis: 100%;<br>            flex: 1;<br>            padding: 10px;<br>        }<br>    </style><br><div class=\"wandb-row\"><div class=\"wandb-col\"><h3>Run history:</h3><br/><table class=\"wandb\"><tr><td>agent_wins</td><td>▁</td></tr><tr><td>pete_wins</td><td>▁</td></tr><tr><td>win_rate</td><td>▁</td></tr></table><br/></div><div class=\"wandb-col\"><h3>Run summary:</h3><br/><table class=\"wandb\"><tr><td>agent_wins</td><td>93</td></tr><tr><td>pete_wins</td><td>7</td></tr><tr><td>win_rate</td><td>0.93</td></tr></table><br/></div></div>"
      ],
      "text/plain": [
       "<IPython.core.display.HTML object>"
      ]
     },
     "metadata": {},
     "output_type": "display_data"
    },
    {
     "data": {
      "text/html": [
       " View run <strong style=\"color:#cdcd00\">true-sweep-79</strong> at: <a href='https://wandb.ai/mateogiraz27-ort/three-musketeers/runs/hhkjwh9v' target=\"_blank\">https://wandb.ai/mateogiraz27-ort/three-musketeers/runs/hhkjwh9v</a><br> View project at: <a href='https://wandb.ai/mateogiraz27-ort/three-musketeers' target=\"_blank\">https://wandb.ai/mateogiraz27-ort/three-musketeers</a><br>Synced 5 W&B file(s), 0 media file(s), 0 artifact file(s) and 0 other file(s)"
      ],
      "text/plain": [
       "<IPython.core.display.HTML object>"
      ]
     },
     "metadata": {},
     "output_type": "display_data"
    },
    {
     "data": {
      "text/html": [
       "Find logs at: <code>./wandb/run-20241214_104253-hhkjwh9v/logs</code>"
      ],
      "text/plain": [
       "<IPython.core.display.HTML object>"
      ]
     },
     "metadata": {},
     "output_type": "display_data"
    },
    {
     "name": "stderr",
     "output_type": "stream",
     "text": [
      "\u001b[34m\u001b[1mwandb\u001b[0m: Sweep Agent: Waiting for job.\n",
      "\u001b[34m\u001b[1mwandb\u001b[0m: Job received.\n",
      "\u001b[34m\u001b[1mwandb\u001b[0m: Agent Starting Run: r9xiz07y with config:\n",
      "\u001b[34m\u001b[1mwandb\u001b[0m: \talignment_weight: 7.0095903153529235\n",
      "\u001b[34m\u001b[1mwandb\u001b[0m: \tmax_depth: 5\n",
      "\u001b[34m\u001b[1mwandb\u001b[0m: \tmoves_weight: 13.965317804424416\n",
      "\u001b[34m\u001b[1mwandb\u001b[0m: \ttrap_weight: 20.50913073739882\n"
     ]
    },
    {
     "data": {
      "text/html": [
       "Tracking run with wandb version 0.19.1"
      ],
      "text/plain": [
       "<IPython.core.display.HTML object>"
      ]
     },
     "metadata": {},
     "output_type": "display_data"
    },
    {
     "data": {
      "text/html": [
       "Run data is saved locally in <code>/Users/mateogiraz/Documents/MountainCarContinuous (1)/three-musketeers/wandb/run-20241214_104412-r9xiz07y</code>"
      ],
      "text/plain": [
       "<IPython.core.display.HTML object>"
      ]
     },
     "metadata": {},
     "output_type": "display_data"
    },
    {
     "data": {
      "text/html": [
       "Syncing run <strong><a href='https://wandb.ai/mateogiraz27-ort/three-musketeers/runs/r9xiz07y' target=\"_blank\">exalted-sweep-80</a></strong> to <a href='https://wandb.ai/mateogiraz27-ort/three-musketeers' target=\"_blank\">Weights & Biases</a> (<a href='https://wandb.me/developer-guide' target=\"_blank\">docs</a>)<br>Sweep page: <a href='https://wandb.ai/mateogiraz27-ort/three-musketeers/sweeps/txk212na' target=\"_blank\">https://wandb.ai/mateogiraz27-ort/three-musketeers/sweeps/txk212na</a>"
      ],
      "text/plain": [
       "<IPython.core.display.HTML object>"
      ]
     },
     "metadata": {},
     "output_type": "display_data"
    },
    {
     "data": {
      "text/html": [
       " View project at <a href='https://wandb.ai/mateogiraz27-ort/three-musketeers' target=\"_blank\">https://wandb.ai/mateogiraz27-ort/three-musketeers</a>"
      ],
      "text/plain": [
       "<IPython.core.display.HTML object>"
      ]
     },
     "metadata": {},
     "output_type": "display_data"
    },
    {
     "data": {
      "text/html": [
       " View sweep at <a href='https://wandb.ai/mateogiraz27-ort/three-musketeers/sweeps/txk212na' target=\"_blank\">https://wandb.ai/mateogiraz27-ort/three-musketeers/sweeps/txk212na</a>"
      ],
      "text/plain": [
       "<IPython.core.display.HTML object>"
      ]
     },
     "metadata": {},
     "output_type": "display_data"
    },
    {
     "data": {
      "text/html": [
       " View run at <a href='https://wandb.ai/mateogiraz27-ort/three-musketeers/runs/r9xiz07y' target=\"_blank\">https://wandb.ai/mateogiraz27-ort/three-musketeers/runs/r9xiz07y</a>"
      ],
      "text/plain": [
       "<IPython.core.display.HTML object>"
      ]
     },
     "metadata": {},
     "output_type": "display_data"
    },
    {
     "name": "stderr",
     "output_type": "stream",
     "text": [
      "100%|██████████| 100/100 [01:06<00:00,  1.51it/s]\n"
     ]
    },
    {
     "data": {
      "text/html": [],
      "text/plain": [
       "<IPython.core.display.HTML object>"
      ]
     },
     "metadata": {},
     "output_type": "display_data"
    },
    {
     "data": {
      "text/html": [
       "<br>    <style><br>        .wandb-row {<br>            display: flex;<br>            flex-direction: row;<br>            flex-wrap: wrap;<br>            justify-content: flex-start;<br>            width: 100%;<br>        }<br>        .wandb-col {<br>            display: flex;<br>            flex-direction: column;<br>            flex-basis: 100%;<br>            flex: 1;<br>            padding: 10px;<br>        }<br>    </style><br><div class=\"wandb-row\"><div class=\"wandb-col\"><h3>Run history:</h3><br/><table class=\"wandb\"><tr><td>agent_wins</td><td>▁</td></tr><tr><td>pete_wins</td><td>▁</td></tr><tr><td>win_rate</td><td>▁</td></tr></table><br/></div><div class=\"wandb-col\"><h3>Run summary:</h3><br/><table class=\"wandb\"><tr><td>agent_wins</td><td>90</td></tr><tr><td>pete_wins</td><td>10</td></tr><tr><td>win_rate</td><td>0.9</td></tr></table><br/></div></div>"
      ],
      "text/plain": [
       "<IPython.core.display.HTML object>"
      ]
     },
     "metadata": {},
     "output_type": "display_data"
    },
    {
     "data": {
      "text/html": [
       " View run <strong style=\"color:#cdcd00\">exalted-sweep-80</strong> at: <a href='https://wandb.ai/mateogiraz27-ort/three-musketeers/runs/r9xiz07y' target=\"_blank\">https://wandb.ai/mateogiraz27-ort/three-musketeers/runs/r9xiz07y</a><br> View project at: <a href='https://wandb.ai/mateogiraz27-ort/three-musketeers' target=\"_blank\">https://wandb.ai/mateogiraz27-ort/three-musketeers</a><br>Synced 5 W&B file(s), 0 media file(s), 0 artifact file(s) and 0 other file(s)"
      ],
      "text/plain": [
       "<IPython.core.display.HTML object>"
      ]
     },
     "metadata": {},
     "output_type": "display_data"
    },
    {
     "data": {
      "text/html": [
       "Find logs at: <code>./wandb/run-20241214_104412-r9xiz07y/logs</code>"
      ],
      "text/plain": [
       "<IPython.core.display.HTML object>"
      ]
     },
     "metadata": {},
     "output_type": "display_data"
    },
    {
     "name": "stderr",
     "output_type": "stream",
     "text": [
      "\u001b[34m\u001b[1mwandb\u001b[0m: Agent Starting Run: y69y5chr with config:\n",
      "\u001b[34m\u001b[1mwandb\u001b[0m: \talignment_weight: 18.94985405925575\n",
      "\u001b[34m\u001b[1mwandb\u001b[0m: \tmax_depth: 4\n",
      "\u001b[34m\u001b[1mwandb\u001b[0m: \tmoves_weight: 11.56643618299707\n",
      "\u001b[34m\u001b[1mwandb\u001b[0m: \ttrap_weight: 18.545072703898747\n"
     ]
    },
    {
     "data": {
      "text/html": [
       "Tracking run with wandb version 0.19.1"
      ],
      "text/plain": [
       "<IPython.core.display.HTML object>"
      ]
     },
     "metadata": {},
     "output_type": "display_data"
    },
    {
     "data": {
      "text/html": [
       "Run data is saved locally in <code>/Users/mateogiraz/Documents/MountainCarContinuous (1)/three-musketeers/wandb/run-20241214_104527-y69y5chr</code>"
      ],
      "text/plain": [
       "<IPython.core.display.HTML object>"
      ]
     },
     "metadata": {},
     "output_type": "display_data"
    },
    {
     "data": {
      "text/html": [
       "Syncing run <strong><a href='https://wandb.ai/mateogiraz27-ort/three-musketeers/runs/y69y5chr' target=\"_blank\">sweet-sweep-81</a></strong> to <a href='https://wandb.ai/mateogiraz27-ort/three-musketeers' target=\"_blank\">Weights & Biases</a> (<a href='https://wandb.me/developer-guide' target=\"_blank\">docs</a>)<br>Sweep page: <a href='https://wandb.ai/mateogiraz27-ort/three-musketeers/sweeps/txk212na' target=\"_blank\">https://wandb.ai/mateogiraz27-ort/three-musketeers/sweeps/txk212na</a>"
      ],
      "text/plain": [
       "<IPython.core.display.HTML object>"
      ]
     },
     "metadata": {},
     "output_type": "display_data"
    },
    {
     "data": {
      "text/html": [
       " View project at <a href='https://wandb.ai/mateogiraz27-ort/three-musketeers' target=\"_blank\">https://wandb.ai/mateogiraz27-ort/three-musketeers</a>"
      ],
      "text/plain": [
       "<IPython.core.display.HTML object>"
      ]
     },
     "metadata": {},
     "output_type": "display_data"
    },
    {
     "data": {
      "text/html": [
       " View sweep at <a href='https://wandb.ai/mateogiraz27-ort/three-musketeers/sweeps/txk212na' target=\"_blank\">https://wandb.ai/mateogiraz27-ort/three-musketeers/sweeps/txk212na</a>"
      ],
      "text/plain": [
       "<IPython.core.display.HTML object>"
      ]
     },
     "metadata": {},
     "output_type": "display_data"
    },
    {
     "data": {
      "text/html": [
       " View run at <a href='https://wandb.ai/mateogiraz27-ort/three-musketeers/runs/y69y5chr' target=\"_blank\">https://wandb.ai/mateogiraz27-ort/three-musketeers/runs/y69y5chr</a>"
      ],
      "text/plain": [
       "<IPython.core.display.HTML object>"
      ]
     },
     "metadata": {},
     "output_type": "display_data"
    },
    {
     "name": "stderr",
     "output_type": "stream",
     "text": [
      "100%|██████████| 100/100 [00:41<00:00,  2.38it/s]\n"
     ]
    },
    {
     "data": {
      "text/html": [],
      "text/plain": [
       "<IPython.core.display.HTML object>"
      ]
     },
     "metadata": {},
     "output_type": "display_data"
    },
    {
     "data": {
      "text/html": [
       "<br>    <style><br>        .wandb-row {<br>            display: flex;<br>            flex-direction: row;<br>            flex-wrap: wrap;<br>            justify-content: flex-start;<br>            width: 100%;<br>        }<br>        .wandb-col {<br>            display: flex;<br>            flex-direction: column;<br>            flex-basis: 100%;<br>            flex: 1;<br>            padding: 10px;<br>        }<br>    </style><br><div class=\"wandb-row\"><div class=\"wandb-col\"><h3>Run history:</h3><br/><table class=\"wandb\"><tr><td>agent_wins</td><td>▁</td></tr><tr><td>pete_wins</td><td>▁</td></tr><tr><td>win_rate</td><td>▁</td></tr></table><br/></div><div class=\"wandb-col\"><h3>Run summary:</h3><br/><table class=\"wandb\"><tr><td>agent_wins</td><td>96</td></tr><tr><td>pete_wins</td><td>4</td></tr><tr><td>win_rate</td><td>0.96</td></tr></table><br/></div></div>"
      ],
      "text/plain": [
       "<IPython.core.display.HTML object>"
      ]
     },
     "metadata": {},
     "output_type": "display_data"
    },
    {
     "data": {
      "text/html": [
       " View run <strong style=\"color:#cdcd00\">sweet-sweep-81</strong> at: <a href='https://wandb.ai/mateogiraz27-ort/three-musketeers/runs/y69y5chr' target=\"_blank\">https://wandb.ai/mateogiraz27-ort/three-musketeers/runs/y69y5chr</a><br> View project at: <a href='https://wandb.ai/mateogiraz27-ort/three-musketeers' target=\"_blank\">https://wandb.ai/mateogiraz27-ort/three-musketeers</a><br>Synced 5 W&B file(s), 0 media file(s), 0 artifact file(s) and 0 other file(s)"
      ],
      "text/plain": [
       "<IPython.core.display.HTML object>"
      ]
     },
     "metadata": {},
     "output_type": "display_data"
    },
    {
     "data": {
      "text/html": [
       "Find logs at: <code>./wandb/run-20241214_104527-y69y5chr/logs</code>"
      ],
      "text/plain": [
       "<IPython.core.display.HTML object>"
      ]
     },
     "metadata": {},
     "output_type": "display_data"
    },
    {
     "name": "stderr",
     "output_type": "stream",
     "text": [
      "\u001b[34m\u001b[1mwandb\u001b[0m: Agent Starting Run: od9xh7ft with config:\n",
      "\u001b[34m\u001b[1mwandb\u001b[0m: \talignment_weight: 15.608849264940224\n",
      "\u001b[34m\u001b[1mwandb\u001b[0m: \tmax_depth: 2\n",
      "\u001b[34m\u001b[1mwandb\u001b[0m: \tmoves_weight: 10.017924300958809\n",
      "\u001b[34m\u001b[1mwandb\u001b[0m: \ttrap_weight: 13.122945053137228\n"
     ]
    },
    {
     "data": {
      "text/html": [
       "Tracking run with wandb version 0.19.1"
      ],
      "text/plain": [
       "<IPython.core.display.HTML object>"
      ]
     },
     "metadata": {},
     "output_type": "display_data"
    },
    {
     "data": {
      "text/html": [
       "Run data is saved locally in <code>/Users/mateogiraz/Documents/MountainCarContinuous (1)/three-musketeers/wandb/run-20241214_104615-od9xh7ft</code>"
      ],
      "text/plain": [
       "<IPython.core.display.HTML object>"
      ]
     },
     "metadata": {},
     "output_type": "display_data"
    },
    {
     "data": {
      "text/html": [
       "Syncing run <strong><a href='https://wandb.ai/mateogiraz27-ort/three-musketeers/runs/od9xh7ft' target=\"_blank\">rich-sweep-82</a></strong> to <a href='https://wandb.ai/mateogiraz27-ort/three-musketeers' target=\"_blank\">Weights & Biases</a> (<a href='https://wandb.me/developer-guide' target=\"_blank\">docs</a>)<br>Sweep page: <a href='https://wandb.ai/mateogiraz27-ort/three-musketeers/sweeps/txk212na' target=\"_blank\">https://wandb.ai/mateogiraz27-ort/three-musketeers/sweeps/txk212na</a>"
      ],
      "text/plain": [
       "<IPython.core.display.HTML object>"
      ]
     },
     "metadata": {},
     "output_type": "display_data"
    },
    {
     "data": {
      "text/html": [
       " View project at <a href='https://wandb.ai/mateogiraz27-ort/three-musketeers' target=\"_blank\">https://wandb.ai/mateogiraz27-ort/three-musketeers</a>"
      ],
      "text/plain": [
       "<IPython.core.display.HTML object>"
      ]
     },
     "metadata": {},
     "output_type": "display_data"
    },
    {
     "data": {
      "text/html": [
       " View sweep at <a href='https://wandb.ai/mateogiraz27-ort/three-musketeers/sweeps/txk212na' target=\"_blank\">https://wandb.ai/mateogiraz27-ort/three-musketeers/sweeps/txk212na</a>"
      ],
      "text/plain": [
       "<IPython.core.display.HTML object>"
      ]
     },
     "metadata": {},
     "output_type": "display_data"
    },
    {
     "data": {
      "text/html": [
       " View run at <a href='https://wandb.ai/mateogiraz27-ort/three-musketeers/runs/od9xh7ft' target=\"_blank\">https://wandb.ai/mateogiraz27-ort/three-musketeers/runs/od9xh7ft</a>"
      ],
      "text/plain": [
       "<IPython.core.display.HTML object>"
      ]
     },
     "metadata": {},
     "output_type": "display_data"
    },
    {
     "name": "stderr",
     "output_type": "stream",
     "text": [
      "100%|██████████| 100/100 [00:24<00:00,  4.02it/s]\n"
     ]
    },
    {
     "data": {
      "text/html": [],
      "text/plain": [
       "<IPython.core.display.HTML object>"
      ]
     },
     "metadata": {},
     "output_type": "display_data"
    },
    {
     "data": {
      "text/html": [
       "<br>    <style><br>        .wandb-row {<br>            display: flex;<br>            flex-direction: row;<br>            flex-wrap: wrap;<br>            justify-content: flex-start;<br>            width: 100%;<br>        }<br>        .wandb-col {<br>            display: flex;<br>            flex-direction: column;<br>            flex-basis: 100%;<br>            flex: 1;<br>            padding: 10px;<br>        }<br>    </style><br><div class=\"wandb-row\"><div class=\"wandb-col\"><h3>Run history:</h3><br/><table class=\"wandb\"><tr><td>agent_wins</td><td>▁</td></tr><tr><td>pete_wins</td><td>▁</td></tr><tr><td>win_rate</td><td>▁</td></tr></table><br/></div><div class=\"wandb-col\"><h3>Run summary:</h3><br/><table class=\"wandb\"><tr><td>agent_wins</td><td>84</td></tr><tr><td>pete_wins</td><td>16</td></tr><tr><td>win_rate</td><td>0.84</td></tr></table><br/></div></div>"
      ],
      "text/plain": [
       "<IPython.core.display.HTML object>"
      ]
     },
     "metadata": {},
     "output_type": "display_data"
    },
    {
     "data": {
      "text/html": [
       " View run <strong style=\"color:#cdcd00\">rich-sweep-82</strong> at: <a href='https://wandb.ai/mateogiraz27-ort/three-musketeers/runs/od9xh7ft' target=\"_blank\">https://wandb.ai/mateogiraz27-ort/three-musketeers/runs/od9xh7ft</a><br> View project at: <a href='https://wandb.ai/mateogiraz27-ort/three-musketeers' target=\"_blank\">https://wandb.ai/mateogiraz27-ort/three-musketeers</a><br>Synced 5 W&B file(s), 0 media file(s), 0 artifact file(s) and 0 other file(s)"
      ],
      "text/plain": [
       "<IPython.core.display.HTML object>"
      ]
     },
     "metadata": {},
     "output_type": "display_data"
    },
    {
     "data": {
      "text/html": [
       "Find logs at: <code>./wandb/run-20241214_104615-od9xh7ft/logs</code>"
      ],
      "text/plain": [
       "<IPython.core.display.HTML object>"
      ]
     },
     "metadata": {},
     "output_type": "display_data"
    },
    {
     "name": "stderr",
     "output_type": "stream",
     "text": [
      "\u001b[34m\u001b[1mwandb\u001b[0m: Agent Starting Run: kx0cevt9 with config:\n",
      "\u001b[34m\u001b[1mwandb\u001b[0m: \talignment_weight: 7.705631778869043\n",
      "\u001b[34m\u001b[1mwandb\u001b[0m: \tmax_depth: 3\n",
      "\u001b[34m\u001b[1mwandb\u001b[0m: \tmoves_weight: 6.679420860306063\n",
      "\u001b[34m\u001b[1mwandb\u001b[0m: \ttrap_weight: 26.403599425355488\n"
     ]
    },
    {
     "data": {
      "text/html": [
       "Tracking run with wandb version 0.19.1"
      ],
      "text/plain": [
       "<IPython.core.display.HTML object>"
      ]
     },
     "metadata": {},
     "output_type": "display_data"
    },
    {
     "data": {
      "text/html": [
       "Run data is saved locally in <code>/Users/mateogiraz/Documents/MountainCarContinuous (1)/three-musketeers/wandb/run-20241214_104647-kx0cevt9</code>"
      ],
      "text/plain": [
       "<IPython.core.display.HTML object>"
      ]
     },
     "metadata": {},
     "output_type": "display_data"
    },
    {
     "data": {
      "text/html": [
       "Syncing run <strong><a href='https://wandb.ai/mateogiraz27-ort/three-musketeers/runs/kx0cevt9' target=\"_blank\">glad-sweep-83</a></strong> to <a href='https://wandb.ai/mateogiraz27-ort/three-musketeers' target=\"_blank\">Weights & Biases</a> (<a href='https://wandb.me/developer-guide' target=\"_blank\">docs</a>)<br>Sweep page: <a href='https://wandb.ai/mateogiraz27-ort/three-musketeers/sweeps/txk212na' target=\"_blank\">https://wandb.ai/mateogiraz27-ort/three-musketeers/sweeps/txk212na</a>"
      ],
      "text/plain": [
       "<IPython.core.display.HTML object>"
      ]
     },
     "metadata": {},
     "output_type": "display_data"
    },
    {
     "data": {
      "text/html": [
       " View project at <a href='https://wandb.ai/mateogiraz27-ort/three-musketeers' target=\"_blank\">https://wandb.ai/mateogiraz27-ort/three-musketeers</a>"
      ],
      "text/plain": [
       "<IPython.core.display.HTML object>"
      ]
     },
     "metadata": {},
     "output_type": "display_data"
    },
    {
     "data": {
      "text/html": [
       " View sweep at <a href='https://wandb.ai/mateogiraz27-ort/three-musketeers/sweeps/txk212na' target=\"_blank\">https://wandb.ai/mateogiraz27-ort/three-musketeers/sweeps/txk212na</a>"
      ],
      "text/plain": [
       "<IPython.core.display.HTML object>"
      ]
     },
     "metadata": {},
     "output_type": "display_data"
    },
    {
     "data": {
      "text/html": [
       " View run at <a href='https://wandb.ai/mateogiraz27-ort/three-musketeers/runs/kx0cevt9' target=\"_blank\">https://wandb.ai/mateogiraz27-ort/three-musketeers/runs/kx0cevt9</a>"
      ],
      "text/plain": [
       "<IPython.core.display.HTML object>"
      ]
     },
     "metadata": {},
     "output_type": "display_data"
    },
    {
     "name": "stderr",
     "output_type": "stream",
     "text": [
      "100%|██████████| 100/100 [00:31<00:00,  3.17it/s]\n"
     ]
    },
    {
     "data": {
      "text/html": [],
      "text/plain": [
       "<IPython.core.display.HTML object>"
      ]
     },
     "metadata": {},
     "output_type": "display_data"
    },
    {
     "data": {
      "text/html": [
       "<br>    <style><br>        .wandb-row {<br>            display: flex;<br>            flex-direction: row;<br>            flex-wrap: wrap;<br>            justify-content: flex-start;<br>            width: 100%;<br>        }<br>        .wandb-col {<br>            display: flex;<br>            flex-direction: column;<br>            flex-basis: 100%;<br>            flex: 1;<br>            padding: 10px;<br>        }<br>    </style><br><div class=\"wandb-row\"><div class=\"wandb-col\"><h3>Run history:</h3><br/><table class=\"wandb\"><tr><td>agent_wins</td><td>▁</td></tr><tr><td>pete_wins</td><td>▁</td></tr><tr><td>win_rate</td><td>▁</td></tr></table><br/></div><div class=\"wandb-col\"><h3>Run summary:</h3><br/><table class=\"wandb\"><tr><td>agent_wins</td><td>90</td></tr><tr><td>pete_wins</td><td>10</td></tr><tr><td>win_rate</td><td>0.9</td></tr></table><br/></div></div>"
      ],
      "text/plain": [
       "<IPython.core.display.HTML object>"
      ]
     },
     "metadata": {},
     "output_type": "display_data"
    },
    {
     "data": {
      "text/html": [
       " View run <strong style=\"color:#cdcd00\">glad-sweep-83</strong> at: <a href='https://wandb.ai/mateogiraz27-ort/three-musketeers/runs/kx0cevt9' target=\"_blank\">https://wandb.ai/mateogiraz27-ort/three-musketeers/runs/kx0cevt9</a><br> View project at: <a href='https://wandb.ai/mateogiraz27-ort/three-musketeers' target=\"_blank\">https://wandb.ai/mateogiraz27-ort/three-musketeers</a><br>Synced 5 W&B file(s), 0 media file(s), 0 artifact file(s) and 0 other file(s)"
      ],
      "text/plain": [
       "<IPython.core.display.HTML object>"
      ]
     },
     "metadata": {},
     "output_type": "display_data"
    },
    {
     "data": {
      "text/html": [
       "Find logs at: <code>./wandb/run-20241214_104647-kx0cevt9/logs</code>"
      ],
      "text/plain": [
       "<IPython.core.display.HTML object>"
      ]
     },
     "metadata": {},
     "output_type": "display_data"
    },
    {
     "name": "stderr",
     "output_type": "stream",
     "text": [
      "\u001b[34m\u001b[1mwandb\u001b[0m: Agent Starting Run: gpizyjj3 with config:\n",
      "\u001b[34m\u001b[1mwandb\u001b[0m: \talignment_weight: 7.875251361799389\n",
      "\u001b[34m\u001b[1mwandb\u001b[0m: \tmax_depth: 3\n",
      "\u001b[34m\u001b[1mwandb\u001b[0m: \tmoves_weight: 10.16322563041096\n",
      "\u001b[34m\u001b[1mwandb\u001b[0m: \ttrap_weight: 16.56520773515877\n"
     ]
    },
    {
     "data": {
      "text/html": [
       "Tracking run with wandb version 0.19.1"
      ],
      "text/plain": [
       "<IPython.core.display.HTML object>"
      ]
     },
     "metadata": {},
     "output_type": "display_data"
    },
    {
     "data": {
      "text/html": [
       "Run data is saved locally in <code>/Users/mateogiraz/Documents/MountainCarContinuous (1)/three-musketeers/wandb/run-20241214_104725-gpizyjj3</code>"
      ],
      "text/plain": [
       "<IPython.core.display.HTML object>"
      ]
     },
     "metadata": {},
     "output_type": "display_data"
    },
    {
     "data": {
      "text/html": [
       "Syncing run <strong><a href='https://wandb.ai/mateogiraz27-ort/three-musketeers/runs/gpizyjj3' target=\"_blank\">solar-sweep-84</a></strong> to <a href='https://wandb.ai/mateogiraz27-ort/three-musketeers' target=\"_blank\">Weights & Biases</a> (<a href='https://wandb.me/developer-guide' target=\"_blank\">docs</a>)<br>Sweep page: <a href='https://wandb.ai/mateogiraz27-ort/three-musketeers/sweeps/txk212na' target=\"_blank\">https://wandb.ai/mateogiraz27-ort/three-musketeers/sweeps/txk212na</a>"
      ],
      "text/plain": [
       "<IPython.core.display.HTML object>"
      ]
     },
     "metadata": {},
     "output_type": "display_data"
    },
    {
     "data": {
      "text/html": [
       " View project at <a href='https://wandb.ai/mateogiraz27-ort/three-musketeers' target=\"_blank\">https://wandb.ai/mateogiraz27-ort/three-musketeers</a>"
      ],
      "text/plain": [
       "<IPython.core.display.HTML object>"
      ]
     },
     "metadata": {},
     "output_type": "display_data"
    },
    {
     "data": {
      "text/html": [
       " View sweep at <a href='https://wandb.ai/mateogiraz27-ort/three-musketeers/sweeps/txk212na' target=\"_blank\">https://wandb.ai/mateogiraz27-ort/three-musketeers/sweeps/txk212na</a>"
      ],
      "text/plain": [
       "<IPython.core.display.HTML object>"
      ]
     },
     "metadata": {},
     "output_type": "display_data"
    },
    {
     "data": {
      "text/html": [
       " View run at <a href='https://wandb.ai/mateogiraz27-ort/three-musketeers/runs/gpizyjj3' target=\"_blank\">https://wandb.ai/mateogiraz27-ort/three-musketeers/runs/gpizyjj3</a>"
      ],
      "text/plain": [
       "<IPython.core.display.HTML object>"
      ]
     },
     "metadata": {},
     "output_type": "display_data"
    },
    {
     "name": "stderr",
     "output_type": "stream",
     "text": [
      "100%|██████████| 100/100 [00:33<00:00,  2.97it/s]\n"
     ]
    },
    {
     "data": {
      "text/html": [],
      "text/plain": [
       "<IPython.core.display.HTML object>"
      ]
     },
     "metadata": {},
     "output_type": "display_data"
    },
    {
     "data": {
      "text/html": [
       "<br>    <style><br>        .wandb-row {<br>            display: flex;<br>            flex-direction: row;<br>            flex-wrap: wrap;<br>            justify-content: flex-start;<br>            width: 100%;<br>        }<br>        .wandb-col {<br>            display: flex;<br>            flex-direction: column;<br>            flex-basis: 100%;<br>            flex: 1;<br>            padding: 10px;<br>        }<br>    </style><br><div class=\"wandb-row\"><div class=\"wandb-col\"><h3>Run history:</h3><br/><table class=\"wandb\"><tr><td>agent_wins</td><td>▁</td></tr><tr><td>pete_wins</td><td>▁</td></tr><tr><td>win_rate</td><td>▁</td></tr></table><br/></div><div class=\"wandb-col\"><h3>Run summary:</h3><br/><table class=\"wandb\"><tr><td>agent_wins</td><td>92</td></tr><tr><td>pete_wins</td><td>8</td></tr><tr><td>win_rate</td><td>0.92</td></tr></table><br/></div></div>"
      ],
      "text/plain": [
       "<IPython.core.display.HTML object>"
      ]
     },
     "metadata": {},
     "output_type": "display_data"
    },
    {
     "data": {
      "text/html": [
       " View run <strong style=\"color:#cdcd00\">solar-sweep-84</strong> at: <a href='https://wandb.ai/mateogiraz27-ort/three-musketeers/runs/gpizyjj3' target=\"_blank\">https://wandb.ai/mateogiraz27-ort/three-musketeers/runs/gpizyjj3</a><br> View project at: <a href='https://wandb.ai/mateogiraz27-ort/three-musketeers' target=\"_blank\">https://wandb.ai/mateogiraz27-ort/three-musketeers</a><br>Synced 5 W&B file(s), 0 media file(s), 0 artifact file(s) and 0 other file(s)"
      ],
      "text/plain": [
       "<IPython.core.display.HTML object>"
      ]
     },
     "metadata": {},
     "output_type": "display_data"
    },
    {
     "data": {
      "text/html": [
       "Find logs at: <code>./wandb/run-20241214_104725-gpizyjj3/logs</code>"
      ],
      "text/plain": [
       "<IPython.core.display.HTML object>"
      ]
     },
     "metadata": {},
     "output_type": "display_data"
    },
    {
     "name": "stderr",
     "output_type": "stream",
     "text": [
      "\u001b[34m\u001b[1mwandb\u001b[0m: Sweep Agent: Waiting for job.\n",
      "\u001b[34m\u001b[1mwandb\u001b[0m: Job received.\n",
      "\u001b[34m\u001b[1mwandb\u001b[0m: Agent Starting Run: cofue67g with config:\n",
      "\u001b[34m\u001b[1mwandb\u001b[0m: \talignment_weight: 12.557323609440132\n",
      "\u001b[34m\u001b[1mwandb\u001b[0m: \tmax_depth: 4\n",
      "\u001b[34m\u001b[1mwandb\u001b[0m: \tmoves_weight: 14.651790673911048\n",
      "\u001b[34m\u001b[1mwandb\u001b[0m: \ttrap_weight: 16.864394342116952\n"
     ]
    },
    {
     "data": {
      "text/html": [
       "Tracking run with wandb version 0.19.1"
      ],
      "text/plain": [
       "<IPython.core.display.HTML object>"
      ]
     },
     "metadata": {},
     "output_type": "display_data"
    },
    {
     "data": {
      "text/html": [
       "Run data is saved locally in <code>/Users/mateogiraz/Documents/MountainCarContinuous (1)/three-musketeers/wandb/run-20241214_104812-cofue67g</code>"
      ],
      "text/plain": [
       "<IPython.core.display.HTML object>"
      ]
     },
     "metadata": {},
     "output_type": "display_data"
    },
    {
     "data": {
      "text/html": [
       "Syncing run <strong><a href='https://wandb.ai/mateogiraz27-ort/three-musketeers/runs/cofue67g' target=\"_blank\">serene-sweep-85</a></strong> to <a href='https://wandb.ai/mateogiraz27-ort/three-musketeers' target=\"_blank\">Weights & Biases</a> (<a href='https://wandb.me/developer-guide' target=\"_blank\">docs</a>)<br>Sweep page: <a href='https://wandb.ai/mateogiraz27-ort/three-musketeers/sweeps/txk212na' target=\"_blank\">https://wandb.ai/mateogiraz27-ort/three-musketeers/sweeps/txk212na</a>"
      ],
      "text/plain": [
       "<IPython.core.display.HTML object>"
      ]
     },
     "metadata": {},
     "output_type": "display_data"
    },
    {
     "data": {
      "text/html": [
       " View project at <a href='https://wandb.ai/mateogiraz27-ort/three-musketeers' target=\"_blank\">https://wandb.ai/mateogiraz27-ort/three-musketeers</a>"
      ],
      "text/plain": [
       "<IPython.core.display.HTML object>"
      ]
     },
     "metadata": {},
     "output_type": "display_data"
    },
    {
     "data": {
      "text/html": [
       " View sweep at <a href='https://wandb.ai/mateogiraz27-ort/three-musketeers/sweeps/txk212na' target=\"_blank\">https://wandb.ai/mateogiraz27-ort/three-musketeers/sweeps/txk212na</a>"
      ],
      "text/plain": [
       "<IPython.core.display.HTML object>"
      ]
     },
     "metadata": {},
     "output_type": "display_data"
    },
    {
     "data": {
      "text/html": [
       " View run at <a href='https://wandb.ai/mateogiraz27-ort/three-musketeers/runs/cofue67g' target=\"_blank\">https://wandb.ai/mateogiraz27-ort/three-musketeers/runs/cofue67g</a>"
      ],
      "text/plain": [
       "<IPython.core.display.HTML object>"
      ]
     },
     "metadata": {},
     "output_type": "display_data"
    },
    {
     "name": "stderr",
     "output_type": "stream",
     "text": [
      "100%|██████████| 100/100 [00:36<00:00,  2.70it/s]\n"
     ]
    },
    {
     "data": {
      "text/html": [],
      "text/plain": [
       "<IPython.core.display.HTML object>"
      ]
     },
     "metadata": {},
     "output_type": "display_data"
    },
    {
     "data": {
      "text/html": [
       "<br>    <style><br>        .wandb-row {<br>            display: flex;<br>            flex-direction: row;<br>            flex-wrap: wrap;<br>            justify-content: flex-start;<br>            width: 100%;<br>        }<br>        .wandb-col {<br>            display: flex;<br>            flex-direction: column;<br>            flex-basis: 100%;<br>            flex: 1;<br>            padding: 10px;<br>        }<br>    </style><br><div class=\"wandb-row\"><div class=\"wandb-col\"><h3>Run history:</h3><br/><table class=\"wandb\"><tr><td>agent_wins</td><td>▁</td></tr><tr><td>pete_wins</td><td>▁</td></tr><tr><td>win_rate</td><td>▁</td></tr></table><br/></div><div class=\"wandb-col\"><h3>Run summary:</h3><br/><table class=\"wandb\"><tr><td>agent_wins</td><td>81</td></tr><tr><td>pete_wins</td><td>19</td></tr><tr><td>win_rate</td><td>0.81</td></tr></table><br/></div></div>"
      ],
      "text/plain": [
       "<IPython.core.display.HTML object>"
      ]
     },
     "metadata": {},
     "output_type": "display_data"
    },
    {
     "data": {
      "text/html": [
       " View run <strong style=\"color:#cdcd00\">serene-sweep-85</strong> at: <a href='https://wandb.ai/mateogiraz27-ort/three-musketeers/runs/cofue67g' target=\"_blank\">https://wandb.ai/mateogiraz27-ort/three-musketeers/runs/cofue67g</a><br> View project at: <a href='https://wandb.ai/mateogiraz27-ort/three-musketeers' target=\"_blank\">https://wandb.ai/mateogiraz27-ort/three-musketeers</a><br>Synced 5 W&B file(s), 0 media file(s), 0 artifact file(s) and 0 other file(s)"
      ],
      "text/plain": [
       "<IPython.core.display.HTML object>"
      ]
     },
     "metadata": {},
     "output_type": "display_data"
    },
    {
     "data": {
      "text/html": [
       "Find logs at: <code>./wandb/run-20241214_104812-cofue67g/logs</code>"
      ],
      "text/plain": [
       "<IPython.core.display.HTML object>"
      ]
     },
     "metadata": {},
     "output_type": "display_data"
    },
    {
     "name": "stderr",
     "output_type": "stream",
     "text": [
      "\u001b[34m\u001b[1mwandb\u001b[0m: Agent Starting Run: 87m9a6gs with config:\n",
      "\u001b[34m\u001b[1mwandb\u001b[0m: \talignment_weight: 19.094753079677545\n",
      "\u001b[34m\u001b[1mwandb\u001b[0m: \tmax_depth: 2\n",
      "\u001b[34m\u001b[1mwandb\u001b[0m: \tmoves_weight: 9.434503588108257\n",
      "\u001b[34m\u001b[1mwandb\u001b[0m: \ttrap_weight: 21.784496175908895\n"
     ]
    },
    {
     "data": {
      "text/html": [
       "Tracking run with wandb version 0.19.1"
      ],
      "text/plain": [
       "<IPython.core.display.HTML object>"
      ]
     },
     "metadata": {},
     "output_type": "display_data"
    },
    {
     "data": {
      "text/html": [
       "Run data is saved locally in <code>/Users/mateogiraz/Documents/MountainCarContinuous (1)/three-musketeers/wandb/run-20241214_104855-87m9a6gs</code>"
      ],
      "text/plain": [
       "<IPython.core.display.HTML object>"
      ]
     },
     "metadata": {},
     "output_type": "display_data"
    },
    {
     "data": {
      "text/html": [
       "Syncing run <strong><a href='https://wandb.ai/mateogiraz27-ort/three-musketeers/runs/87m9a6gs' target=\"_blank\">daily-sweep-86</a></strong> to <a href='https://wandb.ai/mateogiraz27-ort/three-musketeers' target=\"_blank\">Weights & Biases</a> (<a href='https://wandb.me/developer-guide' target=\"_blank\">docs</a>)<br>Sweep page: <a href='https://wandb.ai/mateogiraz27-ort/three-musketeers/sweeps/txk212na' target=\"_blank\">https://wandb.ai/mateogiraz27-ort/three-musketeers/sweeps/txk212na</a>"
      ],
      "text/plain": [
       "<IPython.core.display.HTML object>"
      ]
     },
     "metadata": {},
     "output_type": "display_data"
    },
    {
     "data": {
      "text/html": [
       " View project at <a href='https://wandb.ai/mateogiraz27-ort/three-musketeers' target=\"_blank\">https://wandb.ai/mateogiraz27-ort/three-musketeers</a>"
      ],
      "text/plain": [
       "<IPython.core.display.HTML object>"
      ]
     },
     "metadata": {},
     "output_type": "display_data"
    },
    {
     "data": {
      "text/html": [
       " View sweep at <a href='https://wandb.ai/mateogiraz27-ort/three-musketeers/sweeps/txk212na' target=\"_blank\">https://wandb.ai/mateogiraz27-ort/three-musketeers/sweeps/txk212na</a>"
      ],
      "text/plain": [
       "<IPython.core.display.HTML object>"
      ]
     },
     "metadata": {},
     "output_type": "display_data"
    },
    {
     "data": {
      "text/html": [
       " View run at <a href='https://wandb.ai/mateogiraz27-ort/three-musketeers/runs/87m9a6gs' target=\"_blank\">https://wandb.ai/mateogiraz27-ort/three-musketeers/runs/87m9a6gs</a>"
      ],
      "text/plain": [
       "<IPython.core.display.HTML object>"
      ]
     },
     "metadata": {},
     "output_type": "display_data"
    },
    {
     "name": "stderr",
     "output_type": "stream",
     "text": [
      "100%|██████████| 100/100 [00:33<00:00,  3.02it/s]\n"
     ]
    },
    {
     "data": {
      "text/html": [],
      "text/plain": [
       "<IPython.core.display.HTML object>"
      ]
     },
     "metadata": {},
     "output_type": "display_data"
    },
    {
     "data": {
      "text/html": [
       "<br>    <style><br>        .wandb-row {<br>            display: flex;<br>            flex-direction: row;<br>            flex-wrap: wrap;<br>            justify-content: flex-start;<br>            width: 100%;<br>        }<br>        .wandb-col {<br>            display: flex;<br>            flex-direction: column;<br>            flex-basis: 100%;<br>            flex: 1;<br>            padding: 10px;<br>        }<br>    </style><br><div class=\"wandb-row\"><div class=\"wandb-col\"><h3>Run history:</h3><br/><table class=\"wandb\"><tr><td>agent_wins</td><td>▁</td></tr><tr><td>pete_wins</td><td>▁</td></tr><tr><td>win_rate</td><td>▁</td></tr></table><br/></div><div class=\"wandb-col\"><h3>Run summary:</h3><br/><table class=\"wandb\"><tr><td>agent_wins</td><td>91</td></tr><tr><td>pete_wins</td><td>9</td></tr><tr><td>win_rate</td><td>0.91</td></tr></table><br/></div></div>"
      ],
      "text/plain": [
       "<IPython.core.display.HTML object>"
      ]
     },
     "metadata": {},
     "output_type": "display_data"
    },
    {
     "data": {
      "text/html": [
       " View run <strong style=\"color:#cdcd00\">daily-sweep-86</strong> at: <a href='https://wandb.ai/mateogiraz27-ort/three-musketeers/runs/87m9a6gs' target=\"_blank\">https://wandb.ai/mateogiraz27-ort/three-musketeers/runs/87m9a6gs</a><br> View project at: <a href='https://wandb.ai/mateogiraz27-ort/three-musketeers' target=\"_blank\">https://wandb.ai/mateogiraz27-ort/three-musketeers</a><br>Synced 5 W&B file(s), 0 media file(s), 0 artifact file(s) and 0 other file(s)"
      ],
      "text/plain": [
       "<IPython.core.display.HTML object>"
      ]
     },
     "metadata": {},
     "output_type": "display_data"
    },
    {
     "data": {
      "text/html": [
       "Find logs at: <code>./wandb/run-20241214_104855-87m9a6gs/logs</code>"
      ],
      "text/plain": [
       "<IPython.core.display.HTML object>"
      ]
     },
     "metadata": {},
     "output_type": "display_data"
    },
    {
     "name": "stderr",
     "output_type": "stream",
     "text": [
      "\u001b[34m\u001b[1mwandb\u001b[0m: Agent Starting Run: scul48ly with config:\n",
      "\u001b[34m\u001b[1mwandb\u001b[0m: \talignment_weight: 13.805772328998072\n",
      "\u001b[34m\u001b[1mwandb\u001b[0m: \tmax_depth: 5\n",
      "\u001b[34m\u001b[1mwandb\u001b[0m: \tmoves_weight: 5.058480543196505\n",
      "\u001b[34m\u001b[1mwandb\u001b[0m: \ttrap_weight: 28.46461744460448\n"
     ]
    },
    {
     "data": {
      "text/html": [
       "Tracking run with wandb version 0.19.1"
      ],
      "text/plain": [
       "<IPython.core.display.HTML object>"
      ]
     },
     "metadata": {},
     "output_type": "display_data"
    },
    {
     "data": {
      "text/html": [
       "Run data is saved locally in <code>/Users/mateogiraz/Documents/MountainCarContinuous (1)/three-musketeers/wandb/run-20241214_104932-scul48ly</code>"
      ],
      "text/plain": [
       "<IPython.core.display.HTML object>"
      ]
     },
     "metadata": {},
     "output_type": "display_data"
    },
    {
     "data": {
      "text/html": [
       "Syncing run <strong><a href='https://wandb.ai/mateogiraz27-ort/three-musketeers/runs/scul48ly' target=\"_blank\">honest-sweep-87</a></strong> to <a href='https://wandb.ai/mateogiraz27-ort/three-musketeers' target=\"_blank\">Weights & Biases</a> (<a href='https://wandb.me/developer-guide' target=\"_blank\">docs</a>)<br>Sweep page: <a href='https://wandb.ai/mateogiraz27-ort/three-musketeers/sweeps/txk212na' target=\"_blank\">https://wandb.ai/mateogiraz27-ort/three-musketeers/sweeps/txk212na</a>"
      ],
      "text/plain": [
       "<IPython.core.display.HTML object>"
      ]
     },
     "metadata": {},
     "output_type": "display_data"
    },
    {
     "data": {
      "text/html": [
       " View project at <a href='https://wandb.ai/mateogiraz27-ort/three-musketeers' target=\"_blank\">https://wandb.ai/mateogiraz27-ort/three-musketeers</a>"
      ],
      "text/plain": [
       "<IPython.core.display.HTML object>"
      ]
     },
     "metadata": {},
     "output_type": "display_data"
    },
    {
     "data": {
      "text/html": [
       " View sweep at <a href='https://wandb.ai/mateogiraz27-ort/three-musketeers/sweeps/txk212na' target=\"_blank\">https://wandb.ai/mateogiraz27-ort/three-musketeers/sweeps/txk212na</a>"
      ],
      "text/plain": [
       "<IPython.core.display.HTML object>"
      ]
     },
     "metadata": {},
     "output_type": "display_data"
    },
    {
     "data": {
      "text/html": [
       " View run at <a href='https://wandb.ai/mateogiraz27-ort/three-musketeers/runs/scul48ly' target=\"_blank\">https://wandb.ai/mateogiraz27-ort/three-musketeers/runs/scul48ly</a>"
      ],
      "text/plain": [
       "<IPython.core.display.HTML object>"
      ]
     },
     "metadata": {},
     "output_type": "display_data"
    },
    {
     "name": "stderr",
     "output_type": "stream",
     "text": [
      "100%|██████████| 100/100 [01:20<00:00,  1.24it/s]\n"
     ]
    },
    {
     "data": {
      "text/html": [],
      "text/plain": [
       "<IPython.core.display.HTML object>"
      ]
     },
     "metadata": {},
     "output_type": "display_data"
    },
    {
     "data": {
      "text/html": [
       "<br>    <style><br>        .wandb-row {<br>            display: flex;<br>            flex-direction: row;<br>            flex-wrap: wrap;<br>            justify-content: flex-start;<br>            width: 100%;<br>        }<br>        .wandb-col {<br>            display: flex;<br>            flex-direction: column;<br>            flex-basis: 100%;<br>            flex: 1;<br>            padding: 10px;<br>        }<br>    </style><br><div class=\"wandb-row\"><div class=\"wandb-col\"><h3>Run history:</h3><br/><table class=\"wandb\"><tr><td>agent_wins</td><td>▁</td></tr><tr><td>pete_wins</td><td>▁</td></tr><tr><td>win_rate</td><td>▁</td></tr></table><br/></div><div class=\"wandb-col\"><h3>Run summary:</h3><br/><table class=\"wandb\"><tr><td>agent_wins</td><td>91</td></tr><tr><td>pete_wins</td><td>9</td></tr><tr><td>win_rate</td><td>0.91</td></tr></table><br/></div></div>"
      ],
      "text/plain": [
       "<IPython.core.display.HTML object>"
      ]
     },
     "metadata": {},
     "output_type": "display_data"
    },
    {
     "data": {
      "text/html": [
       " View run <strong style=\"color:#cdcd00\">honest-sweep-87</strong> at: <a href='https://wandb.ai/mateogiraz27-ort/three-musketeers/runs/scul48ly' target=\"_blank\">https://wandb.ai/mateogiraz27-ort/three-musketeers/runs/scul48ly</a><br> View project at: <a href='https://wandb.ai/mateogiraz27-ort/three-musketeers' target=\"_blank\">https://wandb.ai/mateogiraz27-ort/three-musketeers</a><br>Synced 5 W&B file(s), 0 media file(s), 0 artifact file(s) and 0 other file(s)"
      ],
      "text/plain": [
       "<IPython.core.display.HTML object>"
      ]
     },
     "metadata": {},
     "output_type": "display_data"
    },
    {
     "data": {
      "text/html": [
       "Find logs at: <code>./wandb/run-20241214_104932-scul48ly/logs</code>"
      ],
      "text/plain": [
       "<IPython.core.display.HTML object>"
      ]
     },
     "metadata": {},
     "output_type": "display_data"
    },
    {
     "name": "stderr",
     "output_type": "stream",
     "text": [
      "\u001b[34m\u001b[1mwandb\u001b[0m: Sweep Agent: Waiting for job.\n",
      "\u001b[34m\u001b[1mwandb\u001b[0m: Job received.\n",
      "\u001b[34m\u001b[1mwandb\u001b[0m: Agent Starting Run: nqafznb2 with config:\n",
      "\u001b[34m\u001b[1mwandb\u001b[0m: \talignment_weight: 8.032517377245899\n",
      "\u001b[34m\u001b[1mwandb\u001b[0m: \tmax_depth: 3\n",
      "\u001b[34m\u001b[1mwandb\u001b[0m: \tmoves_weight: 11.301229285926976\n",
      "\u001b[34m\u001b[1mwandb\u001b[0m: \ttrap_weight: 16.638782730252586\n"
     ]
    },
    {
     "data": {
      "text/html": [
       "Tracking run with wandb version 0.19.1"
      ],
      "text/plain": [
       "<IPython.core.display.HTML object>"
      ]
     },
     "metadata": {},
     "output_type": "display_data"
    },
    {
     "data": {
      "text/html": [
       "Run data is saved locally in <code>/Users/mateogiraz/Documents/MountainCarContinuous (1)/three-musketeers/wandb/run-20241214_105106-nqafznb2</code>"
      ],
      "text/plain": [
       "<IPython.core.display.HTML object>"
      ]
     },
     "metadata": {},
     "output_type": "display_data"
    },
    {
     "data": {
      "text/html": [
       "Syncing run <strong><a href='https://wandb.ai/mateogiraz27-ort/three-musketeers/runs/nqafznb2' target=\"_blank\">dark-sweep-88</a></strong> to <a href='https://wandb.ai/mateogiraz27-ort/three-musketeers' target=\"_blank\">Weights & Biases</a> (<a href='https://wandb.me/developer-guide' target=\"_blank\">docs</a>)<br>Sweep page: <a href='https://wandb.ai/mateogiraz27-ort/three-musketeers/sweeps/txk212na' target=\"_blank\">https://wandb.ai/mateogiraz27-ort/three-musketeers/sweeps/txk212na</a>"
      ],
      "text/plain": [
       "<IPython.core.display.HTML object>"
      ]
     },
     "metadata": {},
     "output_type": "display_data"
    },
    {
     "data": {
      "text/html": [
       " View project at <a href='https://wandb.ai/mateogiraz27-ort/three-musketeers' target=\"_blank\">https://wandb.ai/mateogiraz27-ort/three-musketeers</a>"
      ],
      "text/plain": [
       "<IPython.core.display.HTML object>"
      ]
     },
     "metadata": {},
     "output_type": "display_data"
    },
    {
     "data": {
      "text/html": [
       " View sweep at <a href='https://wandb.ai/mateogiraz27-ort/three-musketeers/sweeps/txk212na' target=\"_blank\">https://wandb.ai/mateogiraz27-ort/three-musketeers/sweeps/txk212na</a>"
      ],
      "text/plain": [
       "<IPython.core.display.HTML object>"
      ]
     },
     "metadata": {},
     "output_type": "display_data"
    },
    {
     "data": {
      "text/html": [
       " View run at <a href='https://wandb.ai/mateogiraz27-ort/three-musketeers/runs/nqafznb2' target=\"_blank\">https://wandb.ai/mateogiraz27-ort/three-musketeers/runs/nqafznb2</a>"
      ],
      "text/plain": [
       "<IPython.core.display.HTML object>"
      ]
     },
     "metadata": {},
     "output_type": "display_data"
    },
    {
     "name": "stderr",
     "output_type": "stream",
     "text": [
      "100%|██████████| 100/100 [00:29<00:00,  3.39it/s]\n"
     ]
    },
    {
     "data": {
      "text/html": [],
      "text/plain": [
       "<IPython.core.display.HTML object>"
      ]
     },
     "metadata": {},
     "output_type": "display_data"
    },
    {
     "data": {
      "text/html": [
       "<br>    <style><br>        .wandb-row {<br>            display: flex;<br>            flex-direction: row;<br>            flex-wrap: wrap;<br>            justify-content: flex-start;<br>            width: 100%;<br>        }<br>        .wandb-col {<br>            display: flex;<br>            flex-direction: column;<br>            flex-basis: 100%;<br>            flex: 1;<br>            padding: 10px;<br>        }<br>    </style><br><div class=\"wandb-row\"><div class=\"wandb-col\"><h3>Run history:</h3><br/><table class=\"wandb\"><tr><td>agent_wins</td><td>▁</td></tr><tr><td>pete_wins</td><td>▁</td></tr><tr><td>win_rate</td><td>▁</td></tr></table><br/></div><div class=\"wandb-col\"><h3>Run summary:</h3><br/><table class=\"wandb\"><tr><td>agent_wins</td><td>85</td></tr><tr><td>pete_wins</td><td>15</td></tr><tr><td>win_rate</td><td>0.85</td></tr></table><br/></div></div>"
      ],
      "text/plain": [
       "<IPython.core.display.HTML object>"
      ]
     },
     "metadata": {},
     "output_type": "display_data"
    },
    {
     "data": {
      "text/html": [
       " View run <strong style=\"color:#cdcd00\">dark-sweep-88</strong> at: <a href='https://wandb.ai/mateogiraz27-ort/three-musketeers/runs/nqafznb2' target=\"_blank\">https://wandb.ai/mateogiraz27-ort/three-musketeers/runs/nqafznb2</a><br> View project at: <a href='https://wandb.ai/mateogiraz27-ort/three-musketeers' target=\"_blank\">https://wandb.ai/mateogiraz27-ort/three-musketeers</a><br>Synced 5 W&B file(s), 0 media file(s), 0 artifact file(s) and 0 other file(s)"
      ],
      "text/plain": [
       "<IPython.core.display.HTML object>"
      ]
     },
     "metadata": {},
     "output_type": "display_data"
    },
    {
     "data": {
      "text/html": [
       "Find logs at: <code>./wandb/run-20241214_105106-nqafznb2/logs</code>"
      ],
      "text/plain": [
       "<IPython.core.display.HTML object>"
      ]
     },
     "metadata": {},
     "output_type": "display_data"
    },
    {
     "name": "stderr",
     "output_type": "stream",
     "text": [
      "\u001b[34m\u001b[1mwandb\u001b[0m: Sweep Agent: Waiting for job.\n",
      "\u001b[34m\u001b[1mwandb\u001b[0m: Job received.\n",
      "\u001b[34m\u001b[1mwandb\u001b[0m: Agent Starting Run: 8mrazka1 with config:\n",
      "\u001b[34m\u001b[1mwandb\u001b[0m: \talignment_weight: 12.066250852751685\n",
      "\u001b[34m\u001b[1mwandb\u001b[0m: \tmax_depth: 4\n",
      "\u001b[34m\u001b[1mwandb\u001b[0m: \tmoves_weight: 13.91982825511226\n",
      "\u001b[34m\u001b[1mwandb\u001b[0m: \ttrap_weight: 24.401844582324784\n"
     ]
    },
    {
     "data": {
      "text/html": [
       "Tracking run with wandb version 0.19.1"
      ],
      "text/plain": [
       "<IPython.core.display.HTML object>"
      ]
     },
     "metadata": {},
     "output_type": "display_data"
    },
    {
     "data": {
      "text/html": [
       "Run data is saved locally in <code>/Users/mateogiraz/Documents/MountainCarContinuous (1)/three-musketeers/wandb/run-20241214_105149-8mrazka1</code>"
      ],
      "text/plain": [
       "<IPython.core.display.HTML object>"
      ]
     },
     "metadata": {},
     "output_type": "display_data"
    },
    {
     "data": {
      "text/html": [
       "Syncing run <strong><a href='https://wandb.ai/mateogiraz27-ort/three-musketeers/runs/8mrazka1' target=\"_blank\">glad-sweep-89</a></strong> to <a href='https://wandb.ai/mateogiraz27-ort/three-musketeers' target=\"_blank\">Weights & Biases</a> (<a href='https://wandb.me/developer-guide' target=\"_blank\">docs</a>)<br>Sweep page: <a href='https://wandb.ai/mateogiraz27-ort/three-musketeers/sweeps/txk212na' target=\"_blank\">https://wandb.ai/mateogiraz27-ort/three-musketeers/sweeps/txk212na</a>"
      ],
      "text/plain": [
       "<IPython.core.display.HTML object>"
      ]
     },
     "metadata": {},
     "output_type": "display_data"
    },
    {
     "data": {
      "text/html": [
       " View project at <a href='https://wandb.ai/mateogiraz27-ort/three-musketeers' target=\"_blank\">https://wandb.ai/mateogiraz27-ort/three-musketeers</a>"
      ],
      "text/plain": [
       "<IPython.core.display.HTML object>"
      ]
     },
     "metadata": {},
     "output_type": "display_data"
    },
    {
     "data": {
      "text/html": [
       " View sweep at <a href='https://wandb.ai/mateogiraz27-ort/three-musketeers/sweeps/txk212na' target=\"_blank\">https://wandb.ai/mateogiraz27-ort/three-musketeers/sweeps/txk212na</a>"
      ],
      "text/plain": [
       "<IPython.core.display.HTML object>"
      ]
     },
     "metadata": {},
     "output_type": "display_data"
    },
    {
     "data": {
      "text/html": [
       " View run at <a href='https://wandb.ai/mateogiraz27-ort/three-musketeers/runs/8mrazka1' target=\"_blank\">https://wandb.ai/mateogiraz27-ort/three-musketeers/runs/8mrazka1</a>"
      ],
      "text/plain": [
       "<IPython.core.display.HTML object>"
      ]
     },
     "metadata": {},
     "output_type": "display_data"
    },
    {
     "name": "stderr",
     "output_type": "stream",
     "text": [
      "100%|██████████| 100/100 [00:38<00:00,  2.59it/s]\n"
     ]
    },
    {
     "data": {
      "text/html": [],
      "text/plain": [
       "<IPython.core.display.HTML object>"
      ]
     },
     "metadata": {},
     "output_type": "display_data"
    },
    {
     "data": {
      "text/html": [
       "<br>    <style><br>        .wandb-row {<br>            display: flex;<br>            flex-direction: row;<br>            flex-wrap: wrap;<br>            justify-content: flex-start;<br>            width: 100%;<br>        }<br>        .wandb-col {<br>            display: flex;<br>            flex-direction: column;<br>            flex-basis: 100%;<br>            flex: 1;<br>            padding: 10px;<br>        }<br>    </style><br><div class=\"wandb-row\"><div class=\"wandb-col\"><h3>Run history:</h3><br/><table class=\"wandb\"><tr><td>agent_wins</td><td>▁</td></tr><tr><td>pete_wins</td><td>▁</td></tr><tr><td>win_rate</td><td>▁</td></tr></table><br/></div><div class=\"wandb-col\"><h3>Run summary:</h3><br/><table class=\"wandb\"><tr><td>agent_wins</td><td>83</td></tr><tr><td>pete_wins</td><td>17</td></tr><tr><td>win_rate</td><td>0.83</td></tr></table><br/></div></div>"
      ],
      "text/plain": [
       "<IPython.core.display.HTML object>"
      ]
     },
     "metadata": {},
     "output_type": "display_data"
    },
    {
     "data": {
      "text/html": [
       " View run <strong style=\"color:#cdcd00\">glad-sweep-89</strong> at: <a href='https://wandb.ai/mateogiraz27-ort/three-musketeers/runs/8mrazka1' target=\"_blank\">https://wandb.ai/mateogiraz27-ort/three-musketeers/runs/8mrazka1</a><br> View project at: <a href='https://wandb.ai/mateogiraz27-ort/three-musketeers' target=\"_blank\">https://wandb.ai/mateogiraz27-ort/three-musketeers</a><br>Synced 5 W&B file(s), 0 media file(s), 0 artifact file(s) and 0 other file(s)"
      ],
      "text/plain": [
       "<IPython.core.display.HTML object>"
      ]
     },
     "metadata": {},
     "output_type": "display_data"
    },
    {
     "data": {
      "text/html": [
       "Find logs at: <code>./wandb/run-20241214_105149-8mrazka1/logs</code>"
      ],
      "text/plain": [
       "<IPython.core.display.HTML object>"
      ]
     },
     "metadata": {},
     "output_type": "display_data"
    },
    {
     "name": "stderr",
     "output_type": "stream",
     "text": [
      "\u001b[34m\u001b[1mwandb\u001b[0m: Agent Starting Run: wwjz8l2j with config:\n",
      "\u001b[34m\u001b[1mwandb\u001b[0m: \talignment_weight: 7.861290196395555\n",
      "\u001b[34m\u001b[1mwandb\u001b[0m: \tmax_depth: 5\n",
      "\u001b[34m\u001b[1mwandb\u001b[0m: \tmoves_weight: 11.405411746741384\n",
      "\u001b[34m\u001b[1mwandb\u001b[0m: \ttrap_weight: 15.964763195914756\n"
     ]
    },
    {
     "data": {
      "text/html": [
       "Tracking run with wandb version 0.19.1"
      ],
      "text/plain": [
       "<IPython.core.display.HTML object>"
      ]
     },
     "metadata": {},
     "output_type": "display_data"
    },
    {
     "data": {
      "text/html": [
       "Run data is saved locally in <code>/Users/mateogiraz/Documents/MountainCarContinuous (1)/three-musketeers/wandb/run-20241214_105233-wwjz8l2j</code>"
      ],
      "text/plain": [
       "<IPython.core.display.HTML object>"
      ]
     },
     "metadata": {},
     "output_type": "display_data"
    },
    {
     "data": {
      "text/html": [
       "Syncing run <strong><a href='https://wandb.ai/mateogiraz27-ort/three-musketeers/runs/wwjz8l2j' target=\"_blank\">true-sweep-90</a></strong> to <a href='https://wandb.ai/mateogiraz27-ort/three-musketeers' target=\"_blank\">Weights & Biases</a> (<a href='https://wandb.me/developer-guide' target=\"_blank\">docs</a>)<br>Sweep page: <a href='https://wandb.ai/mateogiraz27-ort/three-musketeers/sweeps/txk212na' target=\"_blank\">https://wandb.ai/mateogiraz27-ort/three-musketeers/sweeps/txk212na</a>"
      ],
      "text/plain": [
       "<IPython.core.display.HTML object>"
      ]
     },
     "metadata": {},
     "output_type": "display_data"
    },
    {
     "data": {
      "text/html": [
       " View project at <a href='https://wandb.ai/mateogiraz27-ort/three-musketeers' target=\"_blank\">https://wandb.ai/mateogiraz27-ort/three-musketeers</a>"
      ],
      "text/plain": [
       "<IPython.core.display.HTML object>"
      ]
     },
     "metadata": {},
     "output_type": "display_data"
    },
    {
     "data": {
      "text/html": [
       " View sweep at <a href='https://wandb.ai/mateogiraz27-ort/three-musketeers/sweeps/txk212na' target=\"_blank\">https://wandb.ai/mateogiraz27-ort/three-musketeers/sweeps/txk212na</a>"
      ],
      "text/plain": [
       "<IPython.core.display.HTML object>"
      ]
     },
     "metadata": {},
     "output_type": "display_data"
    },
    {
     "data": {
      "text/html": [
       " View run at <a href='https://wandb.ai/mateogiraz27-ort/three-musketeers/runs/wwjz8l2j' target=\"_blank\">https://wandb.ai/mateogiraz27-ort/three-musketeers/runs/wwjz8l2j</a>"
      ],
      "text/plain": [
       "<IPython.core.display.HTML object>"
      ]
     },
     "metadata": {},
     "output_type": "display_data"
    },
    {
     "name": "stderr",
     "output_type": "stream",
     "text": [
      "100%|██████████| 100/100 [01:03<00:00,  1.57it/s]\n"
     ]
    },
    {
     "data": {
      "text/html": [],
      "text/plain": [
       "<IPython.core.display.HTML object>"
      ]
     },
     "metadata": {},
     "output_type": "display_data"
    },
    {
     "data": {
      "text/html": [
       "<br>    <style><br>        .wandb-row {<br>            display: flex;<br>            flex-direction: row;<br>            flex-wrap: wrap;<br>            justify-content: flex-start;<br>            width: 100%;<br>        }<br>        .wandb-col {<br>            display: flex;<br>            flex-direction: column;<br>            flex-basis: 100%;<br>            flex: 1;<br>            padding: 10px;<br>        }<br>    </style><br><div class=\"wandb-row\"><div class=\"wandb-col\"><h3>Run history:</h3><br/><table class=\"wandb\"><tr><td>agent_wins</td><td>▁</td></tr><tr><td>pete_wins</td><td>▁</td></tr><tr><td>win_rate</td><td>▁</td></tr></table><br/></div><div class=\"wandb-col\"><h3>Run summary:</h3><br/><table class=\"wandb\"><tr><td>agent_wins</td><td>88</td></tr><tr><td>pete_wins</td><td>12</td></tr><tr><td>win_rate</td><td>0.88</td></tr></table><br/></div></div>"
      ],
      "text/plain": [
       "<IPython.core.display.HTML object>"
      ]
     },
     "metadata": {},
     "output_type": "display_data"
    },
    {
     "data": {
      "text/html": [
       " View run <strong style=\"color:#cdcd00\">true-sweep-90</strong> at: <a href='https://wandb.ai/mateogiraz27-ort/three-musketeers/runs/wwjz8l2j' target=\"_blank\">https://wandb.ai/mateogiraz27-ort/three-musketeers/runs/wwjz8l2j</a><br> View project at: <a href='https://wandb.ai/mateogiraz27-ort/three-musketeers' target=\"_blank\">https://wandb.ai/mateogiraz27-ort/three-musketeers</a><br>Synced 5 W&B file(s), 0 media file(s), 0 artifact file(s) and 0 other file(s)"
      ],
      "text/plain": [
       "<IPython.core.display.HTML object>"
      ]
     },
     "metadata": {},
     "output_type": "display_data"
    },
    {
     "data": {
      "text/html": [
       "Find logs at: <code>./wandb/run-20241214_105233-wwjz8l2j/logs</code>"
      ],
      "text/plain": [
       "<IPython.core.display.HTML object>"
      ]
     },
     "metadata": {},
     "output_type": "display_data"
    },
    {
     "name": "stderr",
     "output_type": "stream",
     "text": [
      "\u001b[34m\u001b[1mwandb\u001b[0m: Agent Starting Run: tli2sqs8 with config:\n",
      "\u001b[34m\u001b[1mwandb\u001b[0m: \talignment_weight: 18.83074467729869\n",
      "\u001b[34m\u001b[1mwandb\u001b[0m: \tmax_depth: 3\n",
      "\u001b[34m\u001b[1mwandb\u001b[0m: \tmoves_weight: 12.541263087646293\n",
      "\u001b[34m\u001b[1mwandb\u001b[0m: \ttrap_weight: 10.86329690664326\n"
     ]
    },
    {
     "data": {
      "text/html": [
       "Tracking run with wandb version 0.19.1"
      ],
      "text/plain": [
       "<IPython.core.display.HTML object>"
      ]
     },
     "metadata": {},
     "output_type": "display_data"
    },
    {
     "data": {
      "text/html": [
       "Run data is saved locally in <code>/Users/mateogiraz/Documents/MountainCarContinuous (1)/three-musketeers/wandb/run-20241214_105342-tli2sqs8</code>"
      ],
      "text/plain": [
       "<IPython.core.display.HTML object>"
      ]
     },
     "metadata": {},
     "output_type": "display_data"
    },
    {
     "data": {
      "text/html": [
       "Syncing run <strong><a href='https://wandb.ai/mateogiraz27-ort/three-musketeers/runs/tli2sqs8' target=\"_blank\">distinctive-sweep-91</a></strong> to <a href='https://wandb.ai/mateogiraz27-ort/three-musketeers' target=\"_blank\">Weights & Biases</a> (<a href='https://wandb.me/developer-guide' target=\"_blank\">docs</a>)<br>Sweep page: <a href='https://wandb.ai/mateogiraz27-ort/three-musketeers/sweeps/txk212na' target=\"_blank\">https://wandb.ai/mateogiraz27-ort/three-musketeers/sweeps/txk212na</a>"
      ],
      "text/plain": [
       "<IPython.core.display.HTML object>"
      ]
     },
     "metadata": {},
     "output_type": "display_data"
    },
    {
     "data": {
      "text/html": [
       " View project at <a href='https://wandb.ai/mateogiraz27-ort/three-musketeers' target=\"_blank\">https://wandb.ai/mateogiraz27-ort/three-musketeers</a>"
      ],
      "text/plain": [
       "<IPython.core.display.HTML object>"
      ]
     },
     "metadata": {},
     "output_type": "display_data"
    },
    {
     "data": {
      "text/html": [
       " View sweep at <a href='https://wandb.ai/mateogiraz27-ort/three-musketeers/sweeps/txk212na' target=\"_blank\">https://wandb.ai/mateogiraz27-ort/three-musketeers/sweeps/txk212na</a>"
      ],
      "text/plain": [
       "<IPython.core.display.HTML object>"
      ]
     },
     "metadata": {},
     "output_type": "display_data"
    },
    {
     "data": {
      "text/html": [
       " View run at <a href='https://wandb.ai/mateogiraz27-ort/three-musketeers/runs/tli2sqs8' target=\"_blank\">https://wandb.ai/mateogiraz27-ort/three-musketeers/runs/tli2sqs8</a>"
      ],
      "text/plain": [
       "<IPython.core.display.HTML object>"
      ]
     },
     "metadata": {},
     "output_type": "display_data"
    },
    {
     "name": "stderr",
     "output_type": "stream",
     "text": [
      "100%|██████████| 100/100 [00:27<00:00,  3.65it/s]\n"
     ]
    },
    {
     "data": {
      "text/html": [],
      "text/plain": [
       "<IPython.core.display.HTML object>"
      ]
     },
     "metadata": {},
     "output_type": "display_data"
    },
    {
     "data": {
      "text/html": [
       "<br>    <style><br>        .wandb-row {<br>            display: flex;<br>            flex-direction: row;<br>            flex-wrap: wrap;<br>            justify-content: flex-start;<br>            width: 100%;<br>        }<br>        .wandb-col {<br>            display: flex;<br>            flex-direction: column;<br>            flex-basis: 100%;<br>            flex: 1;<br>            padding: 10px;<br>        }<br>    </style><br><div class=\"wandb-row\"><div class=\"wandb-col\"><h3>Run history:</h3><br/><table class=\"wandb\"><tr><td>agent_wins</td><td>▁</td></tr><tr><td>pete_wins</td><td>▁</td></tr><tr><td>win_rate</td><td>▁</td></tr></table><br/></div><div class=\"wandb-col\"><h3>Run summary:</h3><br/><table class=\"wandb\"><tr><td>agent_wins</td><td>93</td></tr><tr><td>pete_wins</td><td>7</td></tr><tr><td>win_rate</td><td>0.93</td></tr></table><br/></div></div>"
      ],
      "text/plain": [
       "<IPython.core.display.HTML object>"
      ]
     },
     "metadata": {},
     "output_type": "display_data"
    },
    {
     "data": {
      "text/html": [
       " View run <strong style=\"color:#cdcd00\">distinctive-sweep-91</strong> at: <a href='https://wandb.ai/mateogiraz27-ort/three-musketeers/runs/tli2sqs8' target=\"_blank\">https://wandb.ai/mateogiraz27-ort/three-musketeers/runs/tli2sqs8</a><br> View project at: <a href='https://wandb.ai/mateogiraz27-ort/three-musketeers' target=\"_blank\">https://wandb.ai/mateogiraz27-ort/three-musketeers</a><br>Synced 5 W&B file(s), 0 media file(s), 0 artifact file(s) and 0 other file(s)"
      ],
      "text/plain": [
       "<IPython.core.display.HTML object>"
      ]
     },
     "metadata": {},
     "output_type": "display_data"
    },
    {
     "data": {
      "text/html": [
       "Find logs at: <code>./wandb/run-20241214_105342-tli2sqs8/logs</code>"
      ],
      "text/plain": [
       "<IPython.core.display.HTML object>"
      ]
     },
     "metadata": {},
     "output_type": "display_data"
    },
    {
     "name": "stderr",
     "output_type": "stream",
     "text": [
      "\u001b[34m\u001b[1mwandb\u001b[0m: Agent Starting Run: aa9h9juv with config:\n",
      "\u001b[34m\u001b[1mwandb\u001b[0m: \talignment_weight: 6.6201196871658485\n",
      "\u001b[34m\u001b[1mwandb\u001b[0m: \tmax_depth: 4\n",
      "\u001b[34m\u001b[1mwandb\u001b[0m: \tmoves_weight: 7.708883938925744\n",
      "\u001b[34m\u001b[1mwandb\u001b[0m: \ttrap_weight: 29.600738330088625\n"
     ]
    },
    {
     "data": {
      "text/html": [
       "Tracking run with wandb version 0.19.1"
      ],
      "text/plain": [
       "<IPython.core.display.HTML object>"
      ]
     },
     "metadata": {},
     "output_type": "display_data"
    },
    {
     "data": {
      "text/html": [
       "Run data is saved locally in <code>/Users/mateogiraz/Documents/MountainCarContinuous (1)/three-musketeers/wandb/run-20241214_105414-aa9h9juv</code>"
      ],
      "text/plain": [
       "<IPython.core.display.HTML object>"
      ]
     },
     "metadata": {},
     "output_type": "display_data"
    },
    {
     "data": {
      "text/html": [
       "Syncing run <strong><a href='https://wandb.ai/mateogiraz27-ort/three-musketeers/runs/aa9h9juv' target=\"_blank\">leafy-sweep-92</a></strong> to <a href='https://wandb.ai/mateogiraz27-ort/three-musketeers' target=\"_blank\">Weights & Biases</a> (<a href='https://wandb.me/developer-guide' target=\"_blank\">docs</a>)<br>Sweep page: <a href='https://wandb.ai/mateogiraz27-ort/three-musketeers/sweeps/txk212na' target=\"_blank\">https://wandb.ai/mateogiraz27-ort/three-musketeers/sweeps/txk212na</a>"
      ],
      "text/plain": [
       "<IPython.core.display.HTML object>"
      ]
     },
     "metadata": {},
     "output_type": "display_data"
    },
    {
     "data": {
      "text/html": [
       " View project at <a href='https://wandb.ai/mateogiraz27-ort/three-musketeers' target=\"_blank\">https://wandb.ai/mateogiraz27-ort/three-musketeers</a>"
      ],
      "text/plain": [
       "<IPython.core.display.HTML object>"
      ]
     },
     "metadata": {},
     "output_type": "display_data"
    },
    {
     "data": {
      "text/html": [
       " View sweep at <a href='https://wandb.ai/mateogiraz27-ort/three-musketeers/sweeps/txk212na' target=\"_blank\">https://wandb.ai/mateogiraz27-ort/three-musketeers/sweeps/txk212na</a>"
      ],
      "text/plain": [
       "<IPython.core.display.HTML object>"
      ]
     },
     "metadata": {},
     "output_type": "display_data"
    },
    {
     "data": {
      "text/html": [
       " View run at <a href='https://wandb.ai/mateogiraz27-ort/three-musketeers/runs/aa9h9juv' target=\"_blank\">https://wandb.ai/mateogiraz27-ort/three-musketeers/runs/aa9h9juv</a>"
      ],
      "text/plain": [
       "<IPython.core.display.HTML object>"
      ]
     },
     "metadata": {},
     "output_type": "display_data"
    },
    {
     "name": "stderr",
     "output_type": "stream",
     "text": [
      "100%|██████████| 100/100 [00:40<00:00,  2.48it/s]\n"
     ]
    },
    {
     "data": {
      "text/html": [],
      "text/plain": [
       "<IPython.core.display.HTML object>"
      ]
     },
     "metadata": {},
     "output_type": "display_data"
    },
    {
     "data": {
      "text/html": [
       "<br>    <style><br>        .wandb-row {<br>            display: flex;<br>            flex-direction: row;<br>            flex-wrap: wrap;<br>            justify-content: flex-start;<br>            width: 100%;<br>        }<br>        .wandb-col {<br>            display: flex;<br>            flex-direction: column;<br>            flex-basis: 100%;<br>            flex: 1;<br>            padding: 10px;<br>        }<br>    </style><br><div class=\"wandb-row\"><div class=\"wandb-col\"><h3>Run history:</h3><br/><table class=\"wandb\"><tr><td>agent_wins</td><td>▁</td></tr><tr><td>pete_wins</td><td>▁</td></tr><tr><td>win_rate</td><td>▁</td></tr></table><br/></div><div class=\"wandb-col\"><h3>Run summary:</h3><br/><table class=\"wandb\"><tr><td>agent_wins</td><td>90</td></tr><tr><td>pete_wins</td><td>10</td></tr><tr><td>win_rate</td><td>0.9</td></tr></table><br/></div></div>"
      ],
      "text/plain": [
       "<IPython.core.display.HTML object>"
      ]
     },
     "metadata": {},
     "output_type": "display_data"
    },
    {
     "data": {
      "text/html": [
       " View run <strong style=\"color:#cdcd00\">leafy-sweep-92</strong> at: <a href='https://wandb.ai/mateogiraz27-ort/three-musketeers/runs/aa9h9juv' target=\"_blank\">https://wandb.ai/mateogiraz27-ort/three-musketeers/runs/aa9h9juv</a><br> View project at: <a href='https://wandb.ai/mateogiraz27-ort/three-musketeers' target=\"_blank\">https://wandb.ai/mateogiraz27-ort/three-musketeers</a><br>Synced 5 W&B file(s), 0 media file(s), 0 artifact file(s) and 0 other file(s)"
      ],
      "text/plain": [
       "<IPython.core.display.HTML object>"
      ]
     },
     "metadata": {},
     "output_type": "display_data"
    },
    {
     "data": {
      "text/html": [
       "Find logs at: <code>./wandb/run-20241214_105414-aa9h9juv/logs</code>"
      ],
      "text/plain": [
       "<IPython.core.display.HTML object>"
      ]
     },
     "metadata": {},
     "output_type": "display_data"
    },
    {
     "name": "stderr",
     "output_type": "stream",
     "text": [
      "\u001b[34m\u001b[1mwandb\u001b[0m: Agent Starting Run: 8l4g4bvr with config:\n",
      "\u001b[34m\u001b[1mwandb\u001b[0m: \talignment_weight: 19.968817321395427\n",
      "\u001b[34m\u001b[1mwandb\u001b[0m: \tmax_depth: 2\n",
      "\u001b[34m\u001b[1mwandb\u001b[0m: \tmoves_weight: 14.609380751967947\n",
      "\u001b[34m\u001b[1mwandb\u001b[0m: \ttrap_weight: 21.74043815212633\n"
     ]
    },
    {
     "data": {
      "text/html": [
       "Tracking run with wandb version 0.19.1"
      ],
      "text/plain": [
       "<IPython.core.display.HTML object>"
      ]
     },
     "metadata": {},
     "output_type": "display_data"
    },
    {
     "data": {
      "text/html": [
       "Run data is saved locally in <code>/Users/mateogiraz/Documents/MountainCarContinuous (1)/three-musketeers/wandb/run-20241214_105502-8l4g4bvr</code>"
      ],
      "text/plain": [
       "<IPython.core.display.HTML object>"
      ]
     },
     "metadata": {},
     "output_type": "display_data"
    },
    {
     "data": {
      "text/html": [
       "Syncing run <strong><a href='https://wandb.ai/mateogiraz27-ort/three-musketeers/runs/8l4g4bvr' target=\"_blank\">rare-sweep-93</a></strong> to <a href='https://wandb.ai/mateogiraz27-ort/three-musketeers' target=\"_blank\">Weights & Biases</a> (<a href='https://wandb.me/developer-guide' target=\"_blank\">docs</a>)<br>Sweep page: <a href='https://wandb.ai/mateogiraz27-ort/three-musketeers/sweeps/txk212na' target=\"_blank\">https://wandb.ai/mateogiraz27-ort/three-musketeers/sweeps/txk212na</a>"
      ],
      "text/plain": [
       "<IPython.core.display.HTML object>"
      ]
     },
     "metadata": {},
     "output_type": "display_data"
    },
    {
     "data": {
      "text/html": [
       " View project at <a href='https://wandb.ai/mateogiraz27-ort/three-musketeers' target=\"_blank\">https://wandb.ai/mateogiraz27-ort/three-musketeers</a>"
      ],
      "text/plain": [
       "<IPython.core.display.HTML object>"
      ]
     },
     "metadata": {},
     "output_type": "display_data"
    },
    {
     "data": {
      "text/html": [
       " View sweep at <a href='https://wandb.ai/mateogiraz27-ort/three-musketeers/sweeps/txk212na' target=\"_blank\">https://wandb.ai/mateogiraz27-ort/three-musketeers/sweeps/txk212na</a>"
      ],
      "text/plain": [
       "<IPython.core.display.HTML object>"
      ]
     },
     "metadata": {},
     "output_type": "display_data"
    },
    {
     "data": {
      "text/html": [
       " View run at <a href='https://wandb.ai/mateogiraz27-ort/three-musketeers/runs/8l4g4bvr' target=\"_blank\">https://wandb.ai/mateogiraz27-ort/three-musketeers/runs/8l4g4bvr</a>"
      ],
      "text/plain": [
       "<IPython.core.display.HTML object>"
      ]
     },
     "metadata": {},
     "output_type": "display_data"
    },
    {
     "name": "stderr",
     "output_type": "stream",
     "text": [
      "100%|██████████| 100/100 [00:13<00:00,  7.45it/s]\n"
     ]
    },
    {
     "data": {
      "text/html": [],
      "text/plain": [
       "<IPython.core.display.HTML object>"
      ]
     },
     "metadata": {},
     "output_type": "display_data"
    },
    {
     "data": {
      "text/html": [
       "<br>    <style><br>        .wandb-row {<br>            display: flex;<br>            flex-direction: row;<br>            flex-wrap: wrap;<br>            justify-content: flex-start;<br>            width: 100%;<br>        }<br>        .wandb-col {<br>            display: flex;<br>            flex-direction: column;<br>            flex-basis: 100%;<br>            flex: 1;<br>            padding: 10px;<br>        }<br>    </style><br><div class=\"wandb-row\"><div class=\"wandb-col\"><h3>Run history:</h3><br/><table class=\"wandb\"><tr><td>agent_wins</td><td>▁</td></tr><tr><td>pete_wins</td><td>▁</td></tr><tr><td>win_rate</td><td>▁</td></tr></table><br/></div><div class=\"wandb-col\"><h3>Run summary:</h3><br/><table class=\"wandb\"><tr><td>agent_wins</td><td>52</td></tr><tr><td>pete_wins</td><td>48</td></tr><tr><td>win_rate</td><td>0.52</td></tr></table><br/></div></div>"
      ],
      "text/plain": [
       "<IPython.core.display.HTML object>"
      ]
     },
     "metadata": {},
     "output_type": "display_data"
    },
    {
     "data": {
      "text/html": [
       " View run <strong style=\"color:#cdcd00\">rare-sweep-93</strong> at: <a href='https://wandb.ai/mateogiraz27-ort/three-musketeers/runs/8l4g4bvr' target=\"_blank\">https://wandb.ai/mateogiraz27-ort/three-musketeers/runs/8l4g4bvr</a><br> View project at: <a href='https://wandb.ai/mateogiraz27-ort/three-musketeers' target=\"_blank\">https://wandb.ai/mateogiraz27-ort/three-musketeers</a><br>Synced 5 W&B file(s), 0 media file(s), 0 artifact file(s) and 0 other file(s)"
      ],
      "text/plain": [
       "<IPython.core.display.HTML object>"
      ]
     },
     "metadata": {},
     "output_type": "display_data"
    },
    {
     "data": {
      "text/html": [
       "Find logs at: <code>./wandb/run-20241214_105502-8l4g4bvr/logs</code>"
      ],
      "text/plain": [
       "<IPython.core.display.HTML object>"
      ]
     },
     "metadata": {},
     "output_type": "display_data"
    },
    {
     "name": "stderr",
     "output_type": "stream",
     "text": [
      "\u001b[34m\u001b[1mwandb\u001b[0m: Agent Starting Run: epcetjdt with config:\n",
      "\u001b[34m\u001b[1mwandb\u001b[0m: \talignment_weight: 18.190533129347585\n",
      "\u001b[34m\u001b[1mwandb\u001b[0m: \tmax_depth: 5\n",
      "\u001b[34m\u001b[1mwandb\u001b[0m: \tmoves_weight: 12.72354467364822\n",
      "\u001b[34m\u001b[1mwandb\u001b[0m: \ttrap_weight: 19.99358873979033\n"
     ]
    },
    {
     "data": {
      "text/html": [
       "Tracking run with wandb version 0.19.1"
      ],
      "text/plain": [
       "<IPython.core.display.HTML object>"
      ]
     },
     "metadata": {},
     "output_type": "display_data"
    },
    {
     "data": {
      "text/html": [
       "Run data is saved locally in <code>/Users/mateogiraz/Documents/MountainCarContinuous (1)/three-musketeers/wandb/run-20241214_105524-epcetjdt</code>"
      ],
      "text/plain": [
       "<IPython.core.display.HTML object>"
      ]
     },
     "metadata": {},
     "output_type": "display_data"
    },
    {
     "data": {
      "text/html": [
       "Syncing run <strong><a href='https://wandb.ai/mateogiraz27-ort/three-musketeers/runs/epcetjdt' target=\"_blank\">jolly-sweep-94</a></strong> to <a href='https://wandb.ai/mateogiraz27-ort/three-musketeers' target=\"_blank\">Weights & Biases</a> (<a href='https://wandb.me/developer-guide' target=\"_blank\">docs</a>)<br>Sweep page: <a href='https://wandb.ai/mateogiraz27-ort/three-musketeers/sweeps/txk212na' target=\"_blank\">https://wandb.ai/mateogiraz27-ort/three-musketeers/sweeps/txk212na</a>"
      ],
      "text/plain": [
       "<IPython.core.display.HTML object>"
      ]
     },
     "metadata": {},
     "output_type": "display_data"
    },
    {
     "data": {
      "text/html": [
       " View project at <a href='https://wandb.ai/mateogiraz27-ort/three-musketeers' target=\"_blank\">https://wandb.ai/mateogiraz27-ort/three-musketeers</a>"
      ],
      "text/plain": [
       "<IPython.core.display.HTML object>"
      ]
     },
     "metadata": {},
     "output_type": "display_data"
    },
    {
     "data": {
      "text/html": [
       " View sweep at <a href='https://wandb.ai/mateogiraz27-ort/three-musketeers/sweeps/txk212na' target=\"_blank\">https://wandb.ai/mateogiraz27-ort/three-musketeers/sweeps/txk212na</a>"
      ],
      "text/plain": [
       "<IPython.core.display.HTML object>"
      ]
     },
     "metadata": {},
     "output_type": "display_data"
    },
    {
     "data": {
      "text/html": [
       " View run at <a href='https://wandb.ai/mateogiraz27-ort/three-musketeers/runs/epcetjdt' target=\"_blank\">https://wandb.ai/mateogiraz27-ort/three-musketeers/runs/epcetjdt</a>"
      ],
      "text/plain": [
       "<IPython.core.display.HTML object>"
      ]
     },
     "metadata": {},
     "output_type": "display_data"
    },
    {
     "name": "stderr",
     "output_type": "stream",
     "text": [
      "100%|██████████| 100/100 [01:07<00:00,  1.48it/s]\n"
     ]
    },
    {
     "data": {
      "text/html": [],
      "text/plain": [
       "<IPython.core.display.HTML object>"
      ]
     },
     "metadata": {},
     "output_type": "display_data"
    },
    {
     "data": {
      "text/html": [
       "<br>    <style><br>        .wandb-row {<br>            display: flex;<br>            flex-direction: row;<br>            flex-wrap: wrap;<br>            justify-content: flex-start;<br>            width: 100%;<br>        }<br>        .wandb-col {<br>            display: flex;<br>            flex-direction: column;<br>            flex-basis: 100%;<br>            flex: 1;<br>            padding: 10px;<br>        }<br>    </style><br><div class=\"wandb-row\"><div class=\"wandb-col\"><h3>Run history:</h3><br/><table class=\"wandb\"><tr><td>agent_wins</td><td>▁</td></tr><tr><td>pete_wins</td><td>▁</td></tr><tr><td>win_rate</td><td>▁</td></tr></table><br/></div><div class=\"wandb-col\"><h3>Run summary:</h3><br/><table class=\"wandb\"><tr><td>agent_wins</td><td>89</td></tr><tr><td>pete_wins</td><td>11</td></tr><tr><td>win_rate</td><td>0.89</td></tr></table><br/></div></div>"
      ],
      "text/plain": [
       "<IPython.core.display.HTML object>"
      ]
     },
     "metadata": {},
     "output_type": "display_data"
    },
    {
     "data": {
      "text/html": [
       " View run <strong style=\"color:#cdcd00\">jolly-sweep-94</strong> at: <a href='https://wandb.ai/mateogiraz27-ort/three-musketeers/runs/epcetjdt' target=\"_blank\">https://wandb.ai/mateogiraz27-ort/three-musketeers/runs/epcetjdt</a><br> View project at: <a href='https://wandb.ai/mateogiraz27-ort/three-musketeers' target=\"_blank\">https://wandb.ai/mateogiraz27-ort/three-musketeers</a><br>Synced 5 W&B file(s), 0 media file(s), 0 artifact file(s) and 0 other file(s)"
      ],
      "text/plain": [
       "<IPython.core.display.HTML object>"
      ]
     },
     "metadata": {},
     "output_type": "display_data"
    },
    {
     "data": {
      "text/html": [
       "Find logs at: <code>./wandb/run-20241214_105524-epcetjdt/logs</code>"
      ],
      "text/plain": [
       "<IPython.core.display.HTML object>"
      ]
     },
     "metadata": {},
     "output_type": "display_data"
    },
    {
     "name": "stderr",
     "output_type": "stream",
     "text": [
      "\u001b[34m\u001b[1mwandb\u001b[0m: Agent Starting Run: 33y8a0en with config:\n",
      "\u001b[34m\u001b[1mwandb\u001b[0m: \talignment_weight: 8.781944596101452\n",
      "\u001b[34m\u001b[1mwandb\u001b[0m: \tmax_depth: 4\n",
      "\u001b[34m\u001b[1mwandb\u001b[0m: \tmoves_weight: 6.90120616938624\n",
      "\u001b[34m\u001b[1mwandb\u001b[0m: \ttrap_weight: 10.633501046477516\n"
     ]
    },
    {
     "data": {
      "text/html": [
       "Tracking run with wandb version 0.19.1"
      ],
      "text/plain": [
       "<IPython.core.display.HTML object>"
      ]
     },
     "metadata": {},
     "output_type": "display_data"
    },
    {
     "data": {
      "text/html": [
       "Run data is saved locally in <code>/Users/mateogiraz/Documents/MountainCarContinuous (1)/three-musketeers/wandb/run-20241214_105638-33y8a0en</code>"
      ],
      "text/plain": [
       "<IPython.core.display.HTML object>"
      ]
     },
     "metadata": {},
     "output_type": "display_data"
    },
    {
     "data": {
      "text/html": [
       "Syncing run <strong><a href='https://wandb.ai/mateogiraz27-ort/three-musketeers/runs/33y8a0en' target=\"_blank\">radiant-sweep-95</a></strong> to <a href='https://wandb.ai/mateogiraz27-ort/three-musketeers' target=\"_blank\">Weights & Biases</a> (<a href='https://wandb.me/developer-guide' target=\"_blank\">docs</a>)<br>Sweep page: <a href='https://wandb.ai/mateogiraz27-ort/three-musketeers/sweeps/txk212na' target=\"_blank\">https://wandb.ai/mateogiraz27-ort/three-musketeers/sweeps/txk212na</a>"
      ],
      "text/plain": [
       "<IPython.core.display.HTML object>"
      ]
     },
     "metadata": {},
     "output_type": "display_data"
    },
    {
     "data": {
      "text/html": [
       " View project at <a href='https://wandb.ai/mateogiraz27-ort/three-musketeers' target=\"_blank\">https://wandb.ai/mateogiraz27-ort/three-musketeers</a>"
      ],
      "text/plain": [
       "<IPython.core.display.HTML object>"
      ]
     },
     "metadata": {},
     "output_type": "display_data"
    },
    {
     "data": {
      "text/html": [
       " View sweep at <a href='https://wandb.ai/mateogiraz27-ort/three-musketeers/sweeps/txk212na' target=\"_blank\">https://wandb.ai/mateogiraz27-ort/three-musketeers/sweeps/txk212na</a>"
      ],
      "text/plain": [
       "<IPython.core.display.HTML object>"
      ]
     },
     "metadata": {},
     "output_type": "display_data"
    },
    {
     "data": {
      "text/html": [
       " View run at <a href='https://wandb.ai/mateogiraz27-ort/three-musketeers/runs/33y8a0en' target=\"_blank\">https://wandb.ai/mateogiraz27-ort/three-musketeers/runs/33y8a0en</a>"
      ],
      "text/plain": [
       "<IPython.core.display.HTML object>"
      ]
     },
     "metadata": {},
     "output_type": "display_data"
    },
    {
     "name": "stderr",
     "output_type": "stream",
     "text": [
      "100%|██████████| 100/100 [00:46<00:00,  2.16it/s]\n"
     ]
    },
    {
     "data": {
      "text/html": [],
      "text/plain": [
       "<IPython.core.display.HTML object>"
      ]
     },
     "metadata": {},
     "output_type": "display_data"
    },
    {
     "data": {
      "text/html": [
       "<br>    <style><br>        .wandb-row {<br>            display: flex;<br>            flex-direction: row;<br>            flex-wrap: wrap;<br>            justify-content: flex-start;<br>            width: 100%;<br>        }<br>        .wandb-col {<br>            display: flex;<br>            flex-direction: column;<br>            flex-basis: 100%;<br>            flex: 1;<br>            padding: 10px;<br>        }<br>    </style><br><div class=\"wandb-row\"><div class=\"wandb-col\"><h3>Run history:</h3><br/><table class=\"wandb\"><tr><td>agent_wins</td><td>▁</td></tr><tr><td>pete_wins</td><td>▁</td></tr><tr><td>win_rate</td><td>▁</td></tr></table><br/></div><div class=\"wandb-col\"><h3>Run summary:</h3><br/><table class=\"wandb\"><tr><td>agent_wins</td><td>91</td></tr><tr><td>pete_wins</td><td>9</td></tr><tr><td>win_rate</td><td>0.91</td></tr></table><br/></div></div>"
      ],
      "text/plain": [
       "<IPython.core.display.HTML object>"
      ]
     },
     "metadata": {},
     "output_type": "display_data"
    },
    {
     "data": {
      "text/html": [
       " View run <strong style=\"color:#cdcd00\">radiant-sweep-95</strong> at: <a href='https://wandb.ai/mateogiraz27-ort/three-musketeers/runs/33y8a0en' target=\"_blank\">https://wandb.ai/mateogiraz27-ort/three-musketeers/runs/33y8a0en</a><br> View project at: <a href='https://wandb.ai/mateogiraz27-ort/three-musketeers' target=\"_blank\">https://wandb.ai/mateogiraz27-ort/three-musketeers</a><br>Synced 5 W&B file(s), 0 media file(s), 0 artifact file(s) and 0 other file(s)"
      ],
      "text/plain": [
       "<IPython.core.display.HTML object>"
      ]
     },
     "metadata": {},
     "output_type": "display_data"
    },
    {
     "data": {
      "text/html": [
       "Find logs at: <code>./wandb/run-20241214_105638-33y8a0en/logs</code>"
      ],
      "text/plain": [
       "<IPython.core.display.HTML object>"
      ]
     },
     "metadata": {},
     "output_type": "display_data"
    },
    {
     "name": "stderr",
     "output_type": "stream",
     "text": [
      "\u001b[34m\u001b[1mwandb\u001b[0m: Agent Starting Run: w9oz9sag with config:\n",
      "\u001b[34m\u001b[1mwandb\u001b[0m: \talignment_weight: 17.778320532083207\n",
      "\u001b[34m\u001b[1mwandb\u001b[0m: \tmax_depth: 4\n",
      "\u001b[34m\u001b[1mwandb\u001b[0m: \tmoves_weight: 13.083618740328497\n",
      "\u001b[34m\u001b[1mwandb\u001b[0m: \ttrap_weight: 19.634009698128533\n"
     ]
    },
    {
     "data": {
      "text/html": [
       "Tracking run with wandb version 0.19.1"
      ],
      "text/plain": [
       "<IPython.core.display.HTML object>"
      ]
     },
     "metadata": {},
     "output_type": "display_data"
    },
    {
     "data": {
      "text/html": [
       "Run data is saved locally in <code>/Users/mateogiraz/Documents/MountainCarContinuous (1)/three-musketeers/wandb/run-20241214_105731-w9oz9sag</code>"
      ],
      "text/plain": [
       "<IPython.core.display.HTML object>"
      ]
     },
     "metadata": {},
     "output_type": "display_data"
    },
    {
     "data": {
      "text/html": [
       "Syncing run <strong><a href='https://wandb.ai/mateogiraz27-ort/three-musketeers/runs/w9oz9sag' target=\"_blank\">easy-sweep-96</a></strong> to <a href='https://wandb.ai/mateogiraz27-ort/three-musketeers' target=\"_blank\">Weights & Biases</a> (<a href='https://wandb.me/developer-guide' target=\"_blank\">docs</a>)<br>Sweep page: <a href='https://wandb.ai/mateogiraz27-ort/three-musketeers/sweeps/txk212na' target=\"_blank\">https://wandb.ai/mateogiraz27-ort/three-musketeers/sweeps/txk212na</a>"
      ],
      "text/plain": [
       "<IPython.core.display.HTML object>"
      ]
     },
     "metadata": {},
     "output_type": "display_data"
    },
    {
     "data": {
      "text/html": [
       " View project at <a href='https://wandb.ai/mateogiraz27-ort/three-musketeers' target=\"_blank\">https://wandb.ai/mateogiraz27-ort/three-musketeers</a>"
      ],
      "text/plain": [
       "<IPython.core.display.HTML object>"
      ]
     },
     "metadata": {},
     "output_type": "display_data"
    },
    {
     "data": {
      "text/html": [
       " View sweep at <a href='https://wandb.ai/mateogiraz27-ort/three-musketeers/sweeps/txk212na' target=\"_blank\">https://wandb.ai/mateogiraz27-ort/three-musketeers/sweeps/txk212na</a>"
      ],
      "text/plain": [
       "<IPython.core.display.HTML object>"
      ]
     },
     "metadata": {},
     "output_type": "display_data"
    },
    {
     "data": {
      "text/html": [
       " View run at <a href='https://wandb.ai/mateogiraz27-ort/three-musketeers/runs/w9oz9sag' target=\"_blank\">https://wandb.ai/mateogiraz27-ort/three-musketeers/runs/w9oz9sag</a>"
      ],
      "text/plain": [
       "<IPython.core.display.HTML object>"
      ]
     },
     "metadata": {},
     "output_type": "display_data"
    },
    {
     "name": "stderr",
     "output_type": "stream",
     "text": [
      "100%|██████████| 100/100 [00:41<00:00,  2.40it/s]\n"
     ]
    },
    {
     "data": {
      "text/html": [],
      "text/plain": [
       "<IPython.core.display.HTML object>"
      ]
     },
     "metadata": {},
     "output_type": "display_data"
    },
    {
     "data": {
      "text/html": [
       "<br>    <style><br>        .wandb-row {<br>            display: flex;<br>            flex-direction: row;<br>            flex-wrap: wrap;<br>            justify-content: flex-start;<br>            width: 100%;<br>        }<br>        .wandb-col {<br>            display: flex;<br>            flex-direction: column;<br>            flex-basis: 100%;<br>            flex: 1;<br>            padding: 10px;<br>        }<br>    </style><br><div class=\"wandb-row\"><div class=\"wandb-col\"><h3>Run history:</h3><br/><table class=\"wandb\"><tr><td>agent_wins</td><td>▁</td></tr><tr><td>pete_wins</td><td>▁</td></tr><tr><td>win_rate</td><td>▁</td></tr></table><br/></div><div class=\"wandb-col\"><h3>Run summary:</h3><br/><table class=\"wandb\"><tr><td>agent_wins</td><td>88</td></tr><tr><td>pete_wins</td><td>12</td></tr><tr><td>win_rate</td><td>0.88</td></tr></table><br/></div></div>"
      ],
      "text/plain": [
       "<IPython.core.display.HTML object>"
      ]
     },
     "metadata": {},
     "output_type": "display_data"
    },
    {
     "data": {
      "text/html": [
       " View run <strong style=\"color:#cdcd00\">easy-sweep-96</strong> at: <a href='https://wandb.ai/mateogiraz27-ort/three-musketeers/runs/w9oz9sag' target=\"_blank\">https://wandb.ai/mateogiraz27-ort/three-musketeers/runs/w9oz9sag</a><br> View project at: <a href='https://wandb.ai/mateogiraz27-ort/three-musketeers' target=\"_blank\">https://wandb.ai/mateogiraz27-ort/three-musketeers</a><br>Synced 5 W&B file(s), 0 media file(s), 0 artifact file(s) and 0 other file(s)"
      ],
      "text/plain": [
       "<IPython.core.display.HTML object>"
      ]
     },
     "metadata": {},
     "output_type": "display_data"
    },
    {
     "data": {
      "text/html": [
       "Find logs at: <code>./wandb/run-20241214_105731-w9oz9sag/logs</code>"
      ],
      "text/plain": [
       "<IPython.core.display.HTML object>"
      ]
     },
     "metadata": {},
     "output_type": "display_data"
    },
    {
     "name": "stderr",
     "output_type": "stream",
     "text": [
      "\u001b[34m\u001b[1mwandb\u001b[0m: Agent Starting Run: 4p8p1hks with config:\n",
      "\u001b[34m\u001b[1mwandb\u001b[0m: \talignment_weight: 8.279184389191116\n",
      "\u001b[34m\u001b[1mwandb\u001b[0m: \tmax_depth: 3\n",
      "\u001b[34m\u001b[1mwandb\u001b[0m: \tmoves_weight: 6.718736729103006\n",
      "\u001b[34m\u001b[1mwandb\u001b[0m: \ttrap_weight: 11.00535042315056\n"
     ]
    },
    {
     "data": {
      "text/html": [
       "Tracking run with wandb version 0.19.1"
      ],
      "text/plain": [
       "<IPython.core.display.HTML object>"
      ]
     },
     "metadata": {},
     "output_type": "display_data"
    },
    {
     "data": {
      "text/html": [
       "Run data is saved locally in <code>/Users/mateogiraz/Documents/MountainCarContinuous (1)/three-musketeers/wandb/run-20241214_105819-4p8p1hks</code>"
      ],
      "text/plain": [
       "<IPython.core.display.HTML object>"
      ]
     },
     "metadata": {},
     "output_type": "display_data"
    },
    {
     "data": {
      "text/html": [
       "Syncing run <strong><a href='https://wandb.ai/mateogiraz27-ort/three-musketeers/runs/4p8p1hks' target=\"_blank\">earthy-sweep-97</a></strong> to <a href='https://wandb.ai/mateogiraz27-ort/three-musketeers' target=\"_blank\">Weights & Biases</a> (<a href='https://wandb.me/developer-guide' target=\"_blank\">docs</a>)<br>Sweep page: <a href='https://wandb.ai/mateogiraz27-ort/three-musketeers/sweeps/txk212na' target=\"_blank\">https://wandb.ai/mateogiraz27-ort/three-musketeers/sweeps/txk212na</a>"
      ],
      "text/plain": [
       "<IPython.core.display.HTML object>"
      ]
     },
     "metadata": {},
     "output_type": "display_data"
    },
    {
     "data": {
      "text/html": [
       " View project at <a href='https://wandb.ai/mateogiraz27-ort/three-musketeers' target=\"_blank\">https://wandb.ai/mateogiraz27-ort/three-musketeers</a>"
      ],
      "text/plain": [
       "<IPython.core.display.HTML object>"
      ]
     },
     "metadata": {},
     "output_type": "display_data"
    },
    {
     "data": {
      "text/html": [
       " View sweep at <a href='https://wandb.ai/mateogiraz27-ort/three-musketeers/sweeps/txk212na' target=\"_blank\">https://wandb.ai/mateogiraz27-ort/three-musketeers/sweeps/txk212na</a>"
      ],
      "text/plain": [
       "<IPython.core.display.HTML object>"
      ]
     },
     "metadata": {},
     "output_type": "display_data"
    },
    {
     "data": {
      "text/html": [
       " View run at <a href='https://wandb.ai/mateogiraz27-ort/three-musketeers/runs/4p8p1hks' target=\"_blank\">https://wandb.ai/mateogiraz27-ort/three-musketeers/runs/4p8p1hks</a>"
      ],
      "text/plain": [
       "<IPython.core.display.HTML object>"
      ]
     },
     "metadata": {},
     "output_type": "display_data"
    },
    {
     "name": "stderr",
     "output_type": "stream",
     "text": [
      "100%|██████████| 100/100 [00:29<00:00,  3.43it/s]\n"
     ]
    },
    {
     "data": {
      "text/html": [],
      "text/plain": [
       "<IPython.core.display.HTML object>"
      ]
     },
     "metadata": {},
     "output_type": "display_data"
    },
    {
     "data": {
      "text/html": [
       "<br>    <style><br>        .wandb-row {<br>            display: flex;<br>            flex-direction: row;<br>            flex-wrap: wrap;<br>            justify-content: flex-start;<br>            width: 100%;<br>        }<br>        .wandb-col {<br>            display: flex;<br>            flex-direction: column;<br>            flex-basis: 100%;<br>            flex: 1;<br>            padding: 10px;<br>        }<br>    </style><br><div class=\"wandb-row\"><div class=\"wandb-col\"><h3>Run history:</h3><br/><table class=\"wandb\"><tr><td>agent_wins</td><td>▁</td></tr><tr><td>pete_wins</td><td>▁</td></tr><tr><td>win_rate</td><td>▁</td></tr></table><br/></div><div class=\"wandb-col\"><h3>Run summary:</h3><br/><table class=\"wandb\"><tr><td>agent_wins</td><td>91</td></tr><tr><td>pete_wins</td><td>9</td></tr><tr><td>win_rate</td><td>0.91</td></tr></table><br/></div></div>"
      ],
      "text/plain": [
       "<IPython.core.display.HTML object>"
      ]
     },
     "metadata": {},
     "output_type": "display_data"
    },
    {
     "data": {
      "text/html": [
       " View run <strong style=\"color:#cdcd00\">earthy-sweep-97</strong> at: <a href='https://wandb.ai/mateogiraz27-ort/three-musketeers/runs/4p8p1hks' target=\"_blank\">https://wandb.ai/mateogiraz27-ort/three-musketeers/runs/4p8p1hks</a><br> View project at: <a href='https://wandb.ai/mateogiraz27-ort/three-musketeers' target=\"_blank\">https://wandb.ai/mateogiraz27-ort/three-musketeers</a><br>Synced 5 W&B file(s), 0 media file(s), 0 artifact file(s) and 0 other file(s)"
      ],
      "text/plain": [
       "<IPython.core.display.HTML object>"
      ]
     },
     "metadata": {},
     "output_type": "display_data"
    },
    {
     "data": {
      "text/html": [
       "Find logs at: <code>./wandb/run-20241214_105819-4p8p1hks/logs</code>"
      ],
      "text/plain": [
       "<IPython.core.display.HTML object>"
      ]
     },
     "metadata": {},
     "output_type": "display_data"
    },
    {
     "name": "stderr",
     "output_type": "stream",
     "text": [
      "\u001b[34m\u001b[1mwandb\u001b[0m: Agent Starting Run: i8s0na1r with config:\n",
      "\u001b[34m\u001b[1mwandb\u001b[0m: \talignment_weight: 10.81976866339705\n",
      "\u001b[34m\u001b[1mwandb\u001b[0m: \tmax_depth: 4\n",
      "\u001b[34m\u001b[1mwandb\u001b[0m: \tmoves_weight: 5.093982166153815\n",
      "\u001b[34m\u001b[1mwandb\u001b[0m: \ttrap_weight: 23.978183253433063\n"
     ]
    },
    {
     "data": {
      "text/html": [
       "Tracking run with wandb version 0.19.1"
      ],
      "text/plain": [
       "<IPython.core.display.HTML object>"
      ]
     },
     "metadata": {},
     "output_type": "display_data"
    },
    {
     "data": {
      "text/html": [
       "Run data is saved locally in <code>/Users/mateogiraz/Documents/MountainCarContinuous (1)/three-musketeers/wandb/run-20241214_105856-i8s0na1r</code>"
      ],
      "text/plain": [
       "<IPython.core.display.HTML object>"
      ]
     },
     "metadata": {},
     "output_type": "display_data"
    },
    {
     "data": {
      "text/html": [
       "Syncing run <strong><a href='https://wandb.ai/mateogiraz27-ort/three-musketeers/runs/i8s0na1r' target=\"_blank\">morning-sweep-98</a></strong> to <a href='https://wandb.ai/mateogiraz27-ort/three-musketeers' target=\"_blank\">Weights & Biases</a> (<a href='https://wandb.me/developer-guide' target=\"_blank\">docs</a>)<br>Sweep page: <a href='https://wandb.ai/mateogiraz27-ort/three-musketeers/sweeps/txk212na' target=\"_blank\">https://wandb.ai/mateogiraz27-ort/three-musketeers/sweeps/txk212na</a>"
      ],
      "text/plain": [
       "<IPython.core.display.HTML object>"
      ]
     },
     "metadata": {},
     "output_type": "display_data"
    },
    {
     "data": {
      "text/html": [
       " View project at <a href='https://wandb.ai/mateogiraz27-ort/three-musketeers' target=\"_blank\">https://wandb.ai/mateogiraz27-ort/three-musketeers</a>"
      ],
      "text/plain": [
       "<IPython.core.display.HTML object>"
      ]
     },
     "metadata": {},
     "output_type": "display_data"
    },
    {
     "data": {
      "text/html": [
       " View sweep at <a href='https://wandb.ai/mateogiraz27-ort/three-musketeers/sweeps/txk212na' target=\"_blank\">https://wandb.ai/mateogiraz27-ort/three-musketeers/sweeps/txk212na</a>"
      ],
      "text/plain": [
       "<IPython.core.display.HTML object>"
      ]
     },
     "metadata": {},
     "output_type": "display_data"
    },
    {
     "data": {
      "text/html": [
       " View run at <a href='https://wandb.ai/mateogiraz27-ort/three-musketeers/runs/i8s0na1r' target=\"_blank\">https://wandb.ai/mateogiraz27-ort/three-musketeers/runs/i8s0na1r</a>"
      ],
      "text/plain": [
       "<IPython.core.display.HTML object>"
      ]
     },
     "metadata": {},
     "output_type": "display_data"
    },
    {
     "name": "stderr",
     "output_type": "stream",
     "text": [
      "100%|██████████| 100/100 [00:45<00:00,  2.19it/s]\n"
     ]
    },
    {
     "data": {
      "text/html": [],
      "text/plain": [
       "<IPython.core.display.HTML object>"
      ]
     },
     "metadata": {},
     "output_type": "display_data"
    },
    {
     "data": {
      "text/html": [
       "<br>    <style><br>        .wandb-row {<br>            display: flex;<br>            flex-direction: row;<br>            flex-wrap: wrap;<br>            justify-content: flex-start;<br>            width: 100%;<br>        }<br>        .wandb-col {<br>            display: flex;<br>            flex-direction: column;<br>            flex-basis: 100%;<br>            flex: 1;<br>            padding: 10px;<br>        }<br>    </style><br><div class=\"wandb-row\"><div class=\"wandb-col\"><h3>Run history:</h3><br/><table class=\"wandb\"><tr><td>agent_wins</td><td>▁</td></tr><tr><td>pete_wins</td><td>▁</td></tr><tr><td>win_rate</td><td>▁</td></tr></table><br/></div><div class=\"wandb-col\"><h3>Run summary:</h3><br/><table class=\"wandb\"><tr><td>agent_wins</td><td>91</td></tr><tr><td>pete_wins</td><td>9</td></tr><tr><td>win_rate</td><td>0.91</td></tr></table><br/></div></div>"
      ],
      "text/plain": [
       "<IPython.core.display.HTML object>"
      ]
     },
     "metadata": {},
     "output_type": "display_data"
    },
    {
     "data": {
      "text/html": [
       " View run <strong style=\"color:#cdcd00\">morning-sweep-98</strong> at: <a href='https://wandb.ai/mateogiraz27-ort/three-musketeers/runs/i8s0na1r' target=\"_blank\">https://wandb.ai/mateogiraz27-ort/three-musketeers/runs/i8s0na1r</a><br> View project at: <a href='https://wandb.ai/mateogiraz27-ort/three-musketeers' target=\"_blank\">https://wandb.ai/mateogiraz27-ort/three-musketeers</a><br>Synced 5 W&B file(s), 0 media file(s), 0 artifact file(s) and 0 other file(s)"
      ],
      "text/plain": [
       "<IPython.core.display.HTML object>"
      ]
     },
     "metadata": {},
     "output_type": "display_data"
    },
    {
     "data": {
      "text/html": [
       "Find logs at: <code>./wandb/run-20241214_105856-i8s0na1r/logs</code>"
      ],
      "text/plain": [
       "<IPython.core.display.HTML object>"
      ]
     },
     "metadata": {},
     "output_type": "display_data"
    },
    {
     "name": "stderr",
     "output_type": "stream",
     "text": [
      "\u001b[34m\u001b[1mwandb\u001b[0m: Agent Starting Run: f9yfe6tz with config:\n",
      "\u001b[34m\u001b[1mwandb\u001b[0m: \talignment_weight: 9.952301112836846\n",
      "\u001b[34m\u001b[1mwandb\u001b[0m: \tmax_depth: 2\n",
      "\u001b[34m\u001b[1mwandb\u001b[0m: \tmoves_weight: 5.822676759226839\n",
      "\u001b[34m\u001b[1mwandb\u001b[0m: \ttrap_weight: 20.21294391166035\n"
     ]
    },
    {
     "data": {
      "text/html": [
       "Tracking run with wandb version 0.19.1"
      ],
      "text/plain": [
       "<IPython.core.display.HTML object>"
      ]
     },
     "metadata": {},
     "output_type": "display_data"
    },
    {
     "data": {
      "text/html": [
       "Run data is saved locally in <code>/Users/mateogiraz/Documents/MountainCarContinuous (1)/three-musketeers/wandb/run-20241214_105949-f9yfe6tz</code>"
      ],
      "text/plain": [
       "<IPython.core.display.HTML object>"
      ]
     },
     "metadata": {},
     "output_type": "display_data"
    },
    {
     "data": {
      "text/html": [
       "Syncing run <strong><a href='https://wandb.ai/mateogiraz27-ort/three-musketeers/runs/f9yfe6tz' target=\"_blank\">decent-sweep-99</a></strong> to <a href='https://wandb.ai/mateogiraz27-ort/three-musketeers' target=\"_blank\">Weights & Biases</a> (<a href='https://wandb.me/developer-guide' target=\"_blank\">docs</a>)<br>Sweep page: <a href='https://wandb.ai/mateogiraz27-ort/three-musketeers/sweeps/txk212na' target=\"_blank\">https://wandb.ai/mateogiraz27-ort/three-musketeers/sweeps/txk212na</a>"
      ],
      "text/plain": [
       "<IPython.core.display.HTML object>"
      ]
     },
     "metadata": {},
     "output_type": "display_data"
    },
    {
     "data": {
      "text/html": [
       " View project at <a href='https://wandb.ai/mateogiraz27-ort/three-musketeers' target=\"_blank\">https://wandb.ai/mateogiraz27-ort/three-musketeers</a>"
      ],
      "text/plain": [
       "<IPython.core.display.HTML object>"
      ]
     },
     "metadata": {},
     "output_type": "display_data"
    },
    {
     "data": {
      "text/html": [
       " View sweep at <a href='https://wandb.ai/mateogiraz27-ort/three-musketeers/sweeps/txk212na' target=\"_blank\">https://wandb.ai/mateogiraz27-ort/three-musketeers/sweeps/txk212na</a>"
      ],
      "text/plain": [
       "<IPython.core.display.HTML object>"
      ]
     },
     "metadata": {},
     "output_type": "display_data"
    },
    {
     "data": {
      "text/html": [
       " View run at <a href='https://wandb.ai/mateogiraz27-ort/three-musketeers/runs/f9yfe6tz' target=\"_blank\">https://wandb.ai/mateogiraz27-ort/three-musketeers/runs/f9yfe6tz</a>"
      ],
      "text/plain": [
       "<IPython.core.display.HTML object>"
      ]
     },
     "metadata": {},
     "output_type": "display_data"
    },
    {
     "name": "stderr",
     "output_type": "stream",
     "text": [
      "100%|██████████| 100/100 [00:23<00:00,  4.17it/s]\n"
     ]
    },
    {
     "data": {
      "text/html": [],
      "text/plain": [
       "<IPython.core.display.HTML object>"
      ]
     },
     "metadata": {},
     "output_type": "display_data"
    },
    {
     "data": {
      "text/html": [
       "<br>    <style><br>        .wandb-row {<br>            display: flex;<br>            flex-direction: row;<br>            flex-wrap: wrap;<br>            justify-content: flex-start;<br>            width: 100%;<br>        }<br>        .wandb-col {<br>            display: flex;<br>            flex-direction: column;<br>            flex-basis: 100%;<br>            flex: 1;<br>            padding: 10px;<br>        }<br>    </style><br><div class=\"wandb-row\"><div class=\"wandb-col\"><h3>Run history:</h3><br/><table class=\"wandb\"><tr><td>agent_wins</td><td>▁</td></tr><tr><td>pete_wins</td><td>▁</td></tr><tr><td>win_rate</td><td>▁</td></tr></table><br/></div><div class=\"wandb-col\"><h3>Run summary:</h3><br/><table class=\"wandb\"><tr><td>agent_wins</td><td>97</td></tr><tr><td>pete_wins</td><td>3</td></tr><tr><td>win_rate</td><td>0.97</td></tr></table><br/></div></div>"
      ],
      "text/plain": [
       "<IPython.core.display.HTML object>"
      ]
     },
     "metadata": {},
     "output_type": "display_data"
    },
    {
     "data": {
      "text/html": [
       " View run <strong style=\"color:#cdcd00\">decent-sweep-99</strong> at: <a href='https://wandb.ai/mateogiraz27-ort/three-musketeers/runs/f9yfe6tz' target=\"_blank\">https://wandb.ai/mateogiraz27-ort/three-musketeers/runs/f9yfe6tz</a><br> View project at: <a href='https://wandb.ai/mateogiraz27-ort/three-musketeers' target=\"_blank\">https://wandb.ai/mateogiraz27-ort/three-musketeers</a><br>Synced 5 W&B file(s), 0 media file(s), 0 artifact file(s) and 0 other file(s)"
      ],
      "text/plain": [
       "<IPython.core.display.HTML object>"
      ]
     },
     "metadata": {},
     "output_type": "display_data"
    },
    {
     "data": {
      "text/html": [
       "Find logs at: <code>./wandb/run-20241214_105949-f9yfe6tz/logs</code>"
      ],
      "text/plain": [
       "<IPython.core.display.HTML object>"
      ]
     },
     "metadata": {},
     "output_type": "display_data"
    },
    {
     "name": "stderr",
     "output_type": "stream",
     "text": [
      "\u001b[34m\u001b[1mwandb\u001b[0m: Sweep Agent: Waiting for job.\n",
      "\u001b[34m\u001b[1mwandb\u001b[0m: Job received.\n",
      "\u001b[34m\u001b[1mwandb\u001b[0m: Agent Starting Run: h2z1ldly with config:\n",
      "\u001b[34m\u001b[1mwandb\u001b[0m: \talignment_weight: 9.20646914753494\n",
      "\u001b[34m\u001b[1mwandb\u001b[0m: \tmax_depth: 2\n",
      "\u001b[34m\u001b[1mwandb\u001b[0m: \tmoves_weight: 11.347558393685947\n",
      "\u001b[34m\u001b[1mwandb\u001b[0m: \ttrap_weight: 21.35080208429128\n"
     ]
    },
    {
     "data": {
      "text/html": [
       "Tracking run with wandb version 0.19.1"
      ],
      "text/plain": [
       "<IPython.core.display.HTML object>"
      ]
     },
     "metadata": {},
     "output_type": "display_data"
    },
    {
     "data": {
      "text/html": [
       "Run data is saved locally in <code>/Users/mateogiraz/Documents/MountainCarContinuous (1)/three-musketeers/wandb/run-20241214_110027-h2z1ldly</code>"
      ],
      "text/plain": [
       "<IPython.core.display.HTML object>"
      ]
     },
     "metadata": {},
     "output_type": "display_data"
    },
    {
     "data": {
      "text/html": [
       "Syncing run <strong><a href='https://wandb.ai/mateogiraz27-ort/three-musketeers/runs/h2z1ldly' target=\"_blank\">sunny-sweep-100</a></strong> to <a href='https://wandb.ai/mateogiraz27-ort/three-musketeers' target=\"_blank\">Weights & Biases</a> (<a href='https://wandb.me/developer-guide' target=\"_blank\">docs</a>)<br>Sweep page: <a href='https://wandb.ai/mateogiraz27-ort/three-musketeers/sweeps/txk212na' target=\"_blank\">https://wandb.ai/mateogiraz27-ort/three-musketeers/sweeps/txk212na</a>"
      ],
      "text/plain": [
       "<IPython.core.display.HTML object>"
      ]
     },
     "metadata": {},
     "output_type": "display_data"
    },
    {
     "data": {
      "text/html": [
       " View project at <a href='https://wandb.ai/mateogiraz27-ort/three-musketeers' target=\"_blank\">https://wandb.ai/mateogiraz27-ort/three-musketeers</a>"
      ],
      "text/plain": [
       "<IPython.core.display.HTML object>"
      ]
     },
     "metadata": {},
     "output_type": "display_data"
    },
    {
     "data": {
      "text/html": [
       " View sweep at <a href='https://wandb.ai/mateogiraz27-ort/three-musketeers/sweeps/txk212na' target=\"_blank\">https://wandb.ai/mateogiraz27-ort/three-musketeers/sweeps/txk212na</a>"
      ],
      "text/plain": [
       "<IPython.core.display.HTML object>"
      ]
     },
     "metadata": {},
     "output_type": "display_data"
    },
    {
     "data": {
      "text/html": [
       " View run at <a href='https://wandb.ai/mateogiraz27-ort/three-musketeers/runs/h2z1ldly' target=\"_blank\">https://wandb.ai/mateogiraz27-ort/three-musketeers/runs/h2z1ldly</a>"
      ],
      "text/plain": [
       "<IPython.core.display.HTML object>"
      ]
     },
     "metadata": {},
     "output_type": "display_data"
    },
    {
     "name": "stderr",
     "output_type": "stream",
     "text": [
      "100%|██████████| 100/100 [00:21<00:00,  4.61it/s]\n"
     ]
    },
    {
     "data": {
      "text/html": [],
      "text/plain": [
       "<IPython.core.display.HTML object>"
      ]
     },
     "metadata": {},
     "output_type": "display_data"
    },
    {
     "data": {
      "text/html": [
       "<br>    <style><br>        .wandb-row {<br>            display: flex;<br>            flex-direction: row;<br>            flex-wrap: wrap;<br>            justify-content: flex-start;<br>            width: 100%;<br>        }<br>        .wandb-col {<br>            display: flex;<br>            flex-direction: column;<br>            flex-basis: 100%;<br>            flex: 1;<br>            padding: 10px;<br>        }<br>    </style><br><div class=\"wandb-row\"><div class=\"wandb-col\"><h3>Run history:</h3><br/><table class=\"wandb\"><tr><td>agent_wins</td><td>▁</td></tr><tr><td>pete_wins</td><td>▁</td></tr><tr><td>win_rate</td><td>▁</td></tr></table><br/></div><div class=\"wandb-col\"><h3>Run summary:</h3><br/><table class=\"wandb\"><tr><td>agent_wins</td><td>80</td></tr><tr><td>pete_wins</td><td>20</td></tr><tr><td>win_rate</td><td>0.8</td></tr></table><br/></div></div>"
      ],
      "text/plain": [
       "<IPython.core.display.HTML object>"
      ]
     },
     "metadata": {},
     "output_type": "display_data"
    },
    {
     "data": {
      "text/html": [
       " View run <strong style=\"color:#cdcd00\">sunny-sweep-100</strong> at: <a href='https://wandb.ai/mateogiraz27-ort/three-musketeers/runs/h2z1ldly' target=\"_blank\">https://wandb.ai/mateogiraz27-ort/three-musketeers/runs/h2z1ldly</a><br> View project at: <a href='https://wandb.ai/mateogiraz27-ort/three-musketeers' target=\"_blank\">https://wandb.ai/mateogiraz27-ort/three-musketeers</a><br>Synced 5 W&B file(s), 0 media file(s), 0 artifact file(s) and 0 other file(s)"
      ],
      "text/plain": [
       "<IPython.core.display.HTML object>"
      ]
     },
     "metadata": {},
     "output_type": "display_data"
    },
    {
     "data": {
      "text/html": [
       "Find logs at: <code>./wandb/run-20241214_110027-h2z1ldly/logs</code>"
      ],
      "text/plain": [
       "<IPython.core.display.HTML object>"
      ]
     },
     "metadata": {},
     "output_type": "display_data"
    },
    {
     "name": "stderr",
     "output_type": "stream",
     "text": [
      "\u001b[34m\u001b[1mwandb\u001b[0m: Agent Starting Run: depw8m6p with config:\n",
      "\u001b[34m\u001b[1mwandb\u001b[0m: \talignment_weight: 17.899229512601487\n",
      "\u001b[34m\u001b[1mwandb\u001b[0m: \tmax_depth: 3\n",
      "\u001b[34m\u001b[1mwandb\u001b[0m: \tmoves_weight: 14.191304949197075\n",
      "\u001b[34m\u001b[1mwandb\u001b[0m: \ttrap_weight: 21.50467955117626\n"
     ]
    },
    {
     "data": {
      "text/html": [
       "Tracking run with wandb version 0.19.1"
      ],
      "text/plain": [
       "<IPython.core.display.HTML object>"
      ]
     },
     "metadata": {},
     "output_type": "display_data"
    },
    {
     "data": {
      "text/html": [
       "Run data is saved locally in <code>/Users/mateogiraz/Documents/MountainCarContinuous (1)/three-musketeers/wandb/run-20241214_110054-depw8m6p</code>"
      ],
      "text/plain": [
       "<IPython.core.display.HTML object>"
      ]
     },
     "metadata": {},
     "output_type": "display_data"
    },
    {
     "data": {
      "text/html": [
       "Syncing run <strong><a href='https://wandb.ai/mateogiraz27-ort/three-musketeers/runs/depw8m6p' target=\"_blank\">revived-sweep-101</a></strong> to <a href='https://wandb.ai/mateogiraz27-ort/three-musketeers' target=\"_blank\">Weights & Biases</a> (<a href='https://wandb.me/developer-guide' target=\"_blank\">docs</a>)<br>Sweep page: <a href='https://wandb.ai/mateogiraz27-ort/three-musketeers/sweeps/txk212na' target=\"_blank\">https://wandb.ai/mateogiraz27-ort/three-musketeers/sweeps/txk212na</a>"
      ],
      "text/plain": [
       "<IPython.core.display.HTML object>"
      ]
     },
     "metadata": {},
     "output_type": "display_data"
    },
    {
     "data": {
      "text/html": [
       " View project at <a href='https://wandb.ai/mateogiraz27-ort/three-musketeers' target=\"_blank\">https://wandb.ai/mateogiraz27-ort/three-musketeers</a>"
      ],
      "text/plain": [
       "<IPython.core.display.HTML object>"
      ]
     },
     "metadata": {},
     "output_type": "display_data"
    },
    {
     "data": {
      "text/html": [
       " View sweep at <a href='https://wandb.ai/mateogiraz27-ort/three-musketeers/sweeps/txk212na' target=\"_blank\">https://wandb.ai/mateogiraz27-ort/three-musketeers/sweeps/txk212na</a>"
      ],
      "text/plain": [
       "<IPython.core.display.HTML object>"
      ]
     },
     "metadata": {},
     "output_type": "display_data"
    },
    {
     "data": {
      "text/html": [
       " View run at <a href='https://wandb.ai/mateogiraz27-ort/three-musketeers/runs/depw8m6p' target=\"_blank\">https://wandb.ai/mateogiraz27-ort/three-musketeers/runs/depw8m6p</a>"
      ],
      "text/plain": [
       "<IPython.core.display.HTML object>"
      ]
     },
     "metadata": {},
     "output_type": "display_data"
    },
    {
     "name": "stderr",
     "output_type": "stream",
     "text": [
      "100%|██████████| 100/100 [00:29<00:00,  3.34it/s]\n"
     ]
    },
    {
     "data": {
      "text/html": [],
      "text/plain": [
       "<IPython.core.display.HTML object>"
      ]
     },
     "metadata": {},
     "output_type": "display_data"
    },
    {
     "data": {
      "text/html": [
       "<br>    <style><br>        .wandb-row {<br>            display: flex;<br>            flex-direction: row;<br>            flex-wrap: wrap;<br>            justify-content: flex-start;<br>            width: 100%;<br>        }<br>        .wandb-col {<br>            display: flex;<br>            flex-direction: column;<br>            flex-basis: 100%;<br>            flex: 1;<br>            padding: 10px;<br>        }<br>    </style><br><div class=\"wandb-row\"><div class=\"wandb-col\"><h3>Run history:</h3><br/><table class=\"wandb\"><tr><td>agent_wins</td><td>▁</td></tr><tr><td>pete_wins</td><td>▁</td></tr><tr><td>win_rate</td><td>▁</td></tr></table><br/></div><div class=\"wandb-col\"><h3>Run summary:</h3><br/><table class=\"wandb\"><tr><td>agent_wins</td><td>92</td></tr><tr><td>pete_wins</td><td>8</td></tr><tr><td>win_rate</td><td>0.92</td></tr></table><br/></div></div>"
      ],
      "text/plain": [
       "<IPython.core.display.HTML object>"
      ]
     },
     "metadata": {},
     "output_type": "display_data"
    },
    {
     "data": {
      "text/html": [
       " View run <strong style=\"color:#cdcd00\">revived-sweep-101</strong> at: <a href='https://wandb.ai/mateogiraz27-ort/three-musketeers/runs/depw8m6p' target=\"_blank\">https://wandb.ai/mateogiraz27-ort/three-musketeers/runs/depw8m6p</a><br> View project at: <a href='https://wandb.ai/mateogiraz27-ort/three-musketeers' target=\"_blank\">https://wandb.ai/mateogiraz27-ort/three-musketeers</a><br>Synced 5 W&B file(s), 0 media file(s), 0 artifact file(s) and 0 other file(s)"
      ],
      "text/plain": [
       "<IPython.core.display.HTML object>"
      ]
     },
     "metadata": {},
     "output_type": "display_data"
    },
    {
     "data": {
      "text/html": [
       "Find logs at: <code>./wandb/run-20241214_110054-depw8m6p/logs</code>"
      ],
      "text/plain": [
       "<IPython.core.display.HTML object>"
      ]
     },
     "metadata": {},
     "output_type": "display_data"
    },
    {
     "name": "stderr",
     "output_type": "stream",
     "text": [
      "\u001b[34m\u001b[1mwandb\u001b[0m: Agent Starting Run: nrljx2w2 with config:\n",
      "\u001b[34m\u001b[1mwandb\u001b[0m: \talignment_weight: 12.304238994844404\n",
      "\u001b[34m\u001b[1mwandb\u001b[0m: \tmax_depth: 2\n",
      "\u001b[34m\u001b[1mwandb\u001b[0m: \tmoves_weight: 8.890165152238769\n",
      "\u001b[34m\u001b[1mwandb\u001b[0m: \ttrap_weight: 25.588925143057352\n"
     ]
    },
    {
     "data": {
      "text/html": [
       "Tracking run with wandb version 0.19.1"
      ],
      "text/plain": [
       "<IPython.core.display.HTML object>"
      ]
     },
     "metadata": {},
     "output_type": "display_data"
    },
    {
     "data": {
      "text/html": [
       "Run data is saved locally in <code>/Users/mateogiraz/Documents/MountainCarContinuous (1)/three-musketeers/wandb/run-20241214_110131-nrljx2w2</code>"
      ],
      "text/plain": [
       "<IPython.core.display.HTML object>"
      ]
     },
     "metadata": {},
     "output_type": "display_data"
    },
    {
     "data": {
      "text/html": [
       "Syncing run <strong><a href='https://wandb.ai/mateogiraz27-ort/three-musketeers/runs/nrljx2w2' target=\"_blank\">comfy-sweep-102</a></strong> to <a href='https://wandb.ai/mateogiraz27-ort/three-musketeers' target=\"_blank\">Weights & Biases</a> (<a href='https://wandb.me/developer-guide' target=\"_blank\">docs</a>)<br>Sweep page: <a href='https://wandb.ai/mateogiraz27-ort/three-musketeers/sweeps/txk212na' target=\"_blank\">https://wandb.ai/mateogiraz27-ort/three-musketeers/sweeps/txk212na</a>"
      ],
      "text/plain": [
       "<IPython.core.display.HTML object>"
      ]
     },
     "metadata": {},
     "output_type": "display_data"
    },
    {
     "data": {
      "text/html": [
       " View project at <a href='https://wandb.ai/mateogiraz27-ort/three-musketeers' target=\"_blank\">https://wandb.ai/mateogiraz27-ort/three-musketeers</a>"
      ],
      "text/plain": [
       "<IPython.core.display.HTML object>"
      ]
     },
     "metadata": {},
     "output_type": "display_data"
    },
    {
     "data": {
      "text/html": [
       " View sweep at <a href='https://wandb.ai/mateogiraz27-ort/three-musketeers/sweeps/txk212na' target=\"_blank\">https://wandb.ai/mateogiraz27-ort/three-musketeers/sweeps/txk212na</a>"
      ],
      "text/plain": [
       "<IPython.core.display.HTML object>"
      ]
     },
     "metadata": {},
     "output_type": "display_data"
    },
    {
     "data": {
      "text/html": [
       " View run at <a href='https://wandb.ai/mateogiraz27-ort/three-musketeers/runs/nrljx2w2' target=\"_blank\">https://wandb.ai/mateogiraz27-ort/three-musketeers/runs/nrljx2w2</a>"
      ],
      "text/plain": [
       "<IPython.core.display.HTML object>"
      ]
     },
     "metadata": {},
     "output_type": "display_data"
    },
    {
     "name": "stderr",
     "output_type": "stream",
     "text": [
      "100%|██████████| 100/100 [00:22<00:00,  4.48it/s]\n"
     ]
    },
    {
     "data": {
      "text/html": [],
      "text/plain": [
       "<IPython.core.display.HTML object>"
      ]
     },
     "metadata": {},
     "output_type": "display_data"
    },
    {
     "data": {
      "text/html": [
       "<br>    <style><br>        .wandb-row {<br>            display: flex;<br>            flex-direction: row;<br>            flex-wrap: wrap;<br>            justify-content: flex-start;<br>            width: 100%;<br>        }<br>        .wandb-col {<br>            display: flex;<br>            flex-direction: column;<br>            flex-basis: 100%;<br>            flex: 1;<br>            padding: 10px;<br>        }<br>    </style><br><div class=\"wandb-row\"><div class=\"wandb-col\"><h3>Run history:</h3><br/><table class=\"wandb\"><tr><td>agent_wins</td><td>▁</td></tr><tr><td>pete_wins</td><td>▁</td></tr><tr><td>win_rate</td><td>▁</td></tr></table><br/></div><div class=\"wandb-col\"><h3>Run summary:</h3><br/><table class=\"wandb\"><tr><td>agent_wins</td><td>94</td></tr><tr><td>pete_wins</td><td>6</td></tr><tr><td>win_rate</td><td>0.94</td></tr></table><br/></div></div>"
      ],
      "text/plain": [
       "<IPython.core.display.HTML object>"
      ]
     },
     "metadata": {},
     "output_type": "display_data"
    },
    {
     "data": {
      "text/html": [
       " View run <strong style=\"color:#cdcd00\">comfy-sweep-102</strong> at: <a href='https://wandb.ai/mateogiraz27-ort/three-musketeers/runs/nrljx2w2' target=\"_blank\">https://wandb.ai/mateogiraz27-ort/three-musketeers/runs/nrljx2w2</a><br> View project at: <a href='https://wandb.ai/mateogiraz27-ort/three-musketeers' target=\"_blank\">https://wandb.ai/mateogiraz27-ort/three-musketeers</a><br>Synced 5 W&B file(s), 0 media file(s), 0 artifact file(s) and 0 other file(s)"
      ],
      "text/plain": [
       "<IPython.core.display.HTML object>"
      ]
     },
     "metadata": {},
     "output_type": "display_data"
    },
    {
     "data": {
      "text/html": [
       "Find logs at: <code>./wandb/run-20241214_110131-nrljx2w2/logs</code>"
      ],
      "text/plain": [
       "<IPython.core.display.HTML object>"
      ]
     },
     "metadata": {},
     "output_type": "display_data"
    },
    {
     "name": "stderr",
     "output_type": "stream",
     "text": [
      "\u001b[34m\u001b[1mwandb\u001b[0m: Agent Starting Run: 39wdli5v with config:\n",
      "\u001b[34m\u001b[1mwandb\u001b[0m: \talignment_weight: 6.162190220278825\n",
      "\u001b[34m\u001b[1mwandb\u001b[0m: \tmax_depth: 5\n",
      "\u001b[34m\u001b[1mwandb\u001b[0m: \tmoves_weight: 12.344730334116388\n",
      "\u001b[34m\u001b[1mwandb\u001b[0m: \ttrap_weight: 11.034837781446283\n"
     ]
    },
    {
     "data": {
      "text/html": [
       "Tracking run with wandb version 0.19.1"
      ],
      "text/plain": [
       "<IPython.core.display.HTML object>"
      ]
     },
     "metadata": {},
     "output_type": "display_data"
    },
    {
     "data": {
      "text/html": [
       "Run data is saved locally in <code>/Users/mateogiraz/Documents/MountainCarContinuous (1)/three-musketeers/wandb/run-20241214_110158-39wdli5v</code>"
      ],
      "text/plain": [
       "<IPython.core.display.HTML object>"
      ]
     },
     "metadata": {},
     "output_type": "display_data"
    },
    {
     "data": {
      "text/html": [
       "Syncing run <strong><a href='https://wandb.ai/mateogiraz27-ort/three-musketeers/runs/39wdli5v' target=\"_blank\">devout-sweep-103</a></strong> to <a href='https://wandb.ai/mateogiraz27-ort/three-musketeers' target=\"_blank\">Weights & Biases</a> (<a href='https://wandb.me/developer-guide' target=\"_blank\">docs</a>)<br>Sweep page: <a href='https://wandb.ai/mateogiraz27-ort/three-musketeers/sweeps/txk212na' target=\"_blank\">https://wandb.ai/mateogiraz27-ort/three-musketeers/sweeps/txk212na</a>"
      ],
      "text/plain": [
       "<IPython.core.display.HTML object>"
      ]
     },
     "metadata": {},
     "output_type": "display_data"
    },
    {
     "data": {
      "text/html": [
       " View project at <a href='https://wandb.ai/mateogiraz27-ort/three-musketeers' target=\"_blank\">https://wandb.ai/mateogiraz27-ort/three-musketeers</a>"
      ],
      "text/plain": [
       "<IPython.core.display.HTML object>"
      ]
     },
     "metadata": {},
     "output_type": "display_data"
    },
    {
     "data": {
      "text/html": [
       " View sweep at <a href='https://wandb.ai/mateogiraz27-ort/three-musketeers/sweeps/txk212na' target=\"_blank\">https://wandb.ai/mateogiraz27-ort/three-musketeers/sweeps/txk212na</a>"
      ],
      "text/plain": [
       "<IPython.core.display.HTML object>"
      ]
     },
     "metadata": {},
     "output_type": "display_data"
    },
    {
     "data": {
      "text/html": [
       " View run at <a href='https://wandb.ai/mateogiraz27-ort/three-musketeers/runs/39wdli5v' target=\"_blank\">https://wandb.ai/mateogiraz27-ort/three-musketeers/runs/39wdli5v</a>"
      ],
      "text/plain": [
       "<IPython.core.display.HTML object>"
      ]
     },
     "metadata": {},
     "output_type": "display_data"
    },
    {
     "name": "stderr",
     "output_type": "stream",
     "text": [
      "100%|██████████| 100/100 [01:18<00:00,  1.28it/s]\n"
     ]
    },
    {
     "data": {
      "text/html": [],
      "text/plain": [
       "<IPython.core.display.HTML object>"
      ]
     },
     "metadata": {},
     "output_type": "display_data"
    },
    {
     "data": {
      "text/html": [
       "<br>    <style><br>        .wandb-row {<br>            display: flex;<br>            flex-direction: row;<br>            flex-wrap: wrap;<br>            justify-content: flex-start;<br>            width: 100%;<br>        }<br>        .wandb-col {<br>            display: flex;<br>            flex-direction: column;<br>            flex-basis: 100%;<br>            flex: 1;<br>            padding: 10px;<br>        }<br>    </style><br><div class=\"wandb-row\"><div class=\"wandb-col\"><h3>Run history:</h3><br/><table class=\"wandb\"><tr><td>agent_wins</td><td>▁</td></tr><tr><td>pete_wins</td><td>▁</td></tr><tr><td>win_rate</td><td>▁</td></tr></table><br/></div><div class=\"wandb-col\"><h3>Run summary:</h3><br/><table class=\"wandb\"><tr><td>agent_wins</td><td>86</td></tr><tr><td>pete_wins</td><td>14</td></tr><tr><td>win_rate</td><td>0.86</td></tr></table><br/></div></div>"
      ],
      "text/plain": [
       "<IPython.core.display.HTML object>"
      ]
     },
     "metadata": {},
     "output_type": "display_data"
    },
    {
     "data": {
      "text/html": [
       " View run <strong style=\"color:#cdcd00\">devout-sweep-103</strong> at: <a href='https://wandb.ai/mateogiraz27-ort/three-musketeers/runs/39wdli5v' target=\"_blank\">https://wandb.ai/mateogiraz27-ort/three-musketeers/runs/39wdli5v</a><br> View project at: <a href='https://wandb.ai/mateogiraz27-ort/three-musketeers' target=\"_blank\">https://wandb.ai/mateogiraz27-ort/three-musketeers</a><br>Synced 5 W&B file(s), 0 media file(s), 0 artifact file(s) and 0 other file(s)"
      ],
      "text/plain": [
       "<IPython.core.display.HTML object>"
      ]
     },
     "metadata": {},
     "output_type": "display_data"
    },
    {
     "data": {
      "text/html": [
       "Find logs at: <code>./wandb/run-20241214_110158-39wdli5v/logs</code>"
      ],
      "text/plain": [
       "<IPython.core.display.HTML object>"
      ]
     },
     "metadata": {},
     "output_type": "display_data"
    },
    {
     "name": "stderr",
     "output_type": "stream",
     "text": [
      "\u001b[34m\u001b[1mwandb\u001b[0m: Agent Starting Run: 0zsq4lfe with config:\n",
      "\u001b[34m\u001b[1mwandb\u001b[0m: \talignment_weight: 17.852219816188857\n",
      "\u001b[34m\u001b[1mwandb\u001b[0m: \tmax_depth: 3\n",
      "\u001b[34m\u001b[1mwandb\u001b[0m: \tmoves_weight: 9.245758214179816\n",
      "\u001b[34m\u001b[1mwandb\u001b[0m: \ttrap_weight: 13.422452885909824\n"
     ]
    },
    {
     "data": {
      "text/html": [
       "Tracking run with wandb version 0.19.1"
      ],
      "text/plain": [
       "<IPython.core.display.HTML object>"
      ]
     },
     "metadata": {},
     "output_type": "display_data"
    },
    {
     "data": {
      "text/html": [
       "Run data is saved locally in <code>/Users/mateogiraz/Documents/MountainCarContinuous (1)/three-musketeers/wandb/run-20241214_110323-0zsq4lfe</code>"
      ],
      "text/plain": [
       "<IPython.core.display.HTML object>"
      ]
     },
     "metadata": {},
     "output_type": "display_data"
    },
    {
     "data": {
      "text/html": [
       "Syncing run <strong><a href='https://wandb.ai/mateogiraz27-ort/three-musketeers/runs/0zsq4lfe' target=\"_blank\">rare-sweep-104</a></strong> to <a href='https://wandb.ai/mateogiraz27-ort/three-musketeers' target=\"_blank\">Weights & Biases</a> (<a href='https://wandb.me/developer-guide' target=\"_blank\">docs</a>)<br>Sweep page: <a href='https://wandb.ai/mateogiraz27-ort/three-musketeers/sweeps/txk212na' target=\"_blank\">https://wandb.ai/mateogiraz27-ort/three-musketeers/sweeps/txk212na</a>"
      ],
      "text/plain": [
       "<IPython.core.display.HTML object>"
      ]
     },
     "metadata": {},
     "output_type": "display_data"
    },
    {
     "data": {
      "text/html": [
       " View project at <a href='https://wandb.ai/mateogiraz27-ort/three-musketeers' target=\"_blank\">https://wandb.ai/mateogiraz27-ort/three-musketeers</a>"
      ],
      "text/plain": [
       "<IPython.core.display.HTML object>"
      ]
     },
     "metadata": {},
     "output_type": "display_data"
    },
    {
     "data": {
      "text/html": [
       " View sweep at <a href='https://wandb.ai/mateogiraz27-ort/three-musketeers/sweeps/txk212na' target=\"_blank\">https://wandb.ai/mateogiraz27-ort/three-musketeers/sweeps/txk212na</a>"
      ],
      "text/plain": [
       "<IPython.core.display.HTML object>"
      ]
     },
     "metadata": {},
     "output_type": "display_data"
    },
    {
     "data": {
      "text/html": [
       " View run at <a href='https://wandb.ai/mateogiraz27-ort/three-musketeers/runs/0zsq4lfe' target=\"_blank\">https://wandb.ai/mateogiraz27-ort/three-musketeers/runs/0zsq4lfe</a>"
      ],
      "text/plain": [
       "<IPython.core.display.HTML object>"
      ]
     },
     "metadata": {},
     "output_type": "display_data"
    },
    {
     "name": "stderr",
     "output_type": "stream",
     "text": [
      "100%|██████████| 100/100 [00:30<00:00,  3.28it/s]\n"
     ]
    },
    {
     "data": {
      "text/html": [],
      "text/plain": [
       "<IPython.core.display.HTML object>"
      ]
     },
     "metadata": {},
     "output_type": "display_data"
    },
    {
     "data": {
      "text/html": [
       "<br>    <style><br>        .wandb-row {<br>            display: flex;<br>            flex-direction: row;<br>            flex-wrap: wrap;<br>            justify-content: flex-start;<br>            width: 100%;<br>        }<br>        .wandb-col {<br>            display: flex;<br>            flex-direction: column;<br>            flex-basis: 100%;<br>            flex: 1;<br>            padding: 10px;<br>        }<br>    </style><br><div class=\"wandb-row\"><div class=\"wandb-col\"><h3>Run history:</h3><br/><table class=\"wandb\"><tr><td>agent_wins</td><td>▁</td></tr><tr><td>pete_wins</td><td>▁</td></tr><tr><td>win_rate</td><td>▁</td></tr></table><br/></div><div class=\"wandb-col\"><h3>Run summary:</h3><br/><table class=\"wandb\"><tr><td>agent_wins</td><td>96</td></tr><tr><td>pete_wins</td><td>4</td></tr><tr><td>win_rate</td><td>0.96</td></tr></table><br/></div></div>"
      ],
      "text/plain": [
       "<IPython.core.display.HTML object>"
      ]
     },
     "metadata": {},
     "output_type": "display_data"
    },
    {
     "data": {
      "text/html": [
       " View run <strong style=\"color:#cdcd00\">rare-sweep-104</strong> at: <a href='https://wandb.ai/mateogiraz27-ort/three-musketeers/runs/0zsq4lfe' target=\"_blank\">https://wandb.ai/mateogiraz27-ort/three-musketeers/runs/0zsq4lfe</a><br> View project at: <a href='https://wandb.ai/mateogiraz27-ort/three-musketeers' target=\"_blank\">https://wandb.ai/mateogiraz27-ort/three-musketeers</a><br>Synced 5 W&B file(s), 0 media file(s), 0 artifact file(s) and 0 other file(s)"
      ],
      "text/plain": [
       "<IPython.core.display.HTML object>"
      ]
     },
     "metadata": {},
     "output_type": "display_data"
    },
    {
     "data": {
      "text/html": [
       "Find logs at: <code>./wandb/run-20241214_110323-0zsq4lfe/logs</code>"
      ],
      "text/plain": [
       "<IPython.core.display.HTML object>"
      ]
     },
     "metadata": {},
     "output_type": "display_data"
    },
    {
     "name": "stderr",
     "output_type": "stream",
     "text": [
      "\u001b[34m\u001b[1mwandb\u001b[0m: Agent Starting Run: r81zntu6 with config:\n",
      "\u001b[34m\u001b[1mwandb\u001b[0m: \talignment_weight: 9.244695584417196\n",
      "\u001b[34m\u001b[1mwandb\u001b[0m: \tmax_depth: 5\n",
      "\u001b[34m\u001b[1mwandb\u001b[0m: \tmoves_weight: 7.996419533590534\n",
      "\u001b[34m\u001b[1mwandb\u001b[0m: \ttrap_weight: 10.393244347012695\n"
     ]
    },
    {
     "data": {
      "text/html": [
       "Tracking run with wandb version 0.19.1"
      ],
      "text/plain": [
       "<IPython.core.display.HTML object>"
      ]
     },
     "metadata": {},
     "output_type": "display_data"
    },
    {
     "data": {
      "text/html": [
       "Run data is saved locally in <code>/Users/mateogiraz/Documents/MountainCarContinuous (1)/three-musketeers/wandb/run-20241214_110401-r81zntu6</code>"
      ],
      "text/plain": [
       "<IPython.core.display.HTML object>"
      ]
     },
     "metadata": {},
     "output_type": "display_data"
    },
    {
     "data": {
      "text/html": [
       "Syncing run <strong><a href='https://wandb.ai/mateogiraz27-ort/three-musketeers/runs/r81zntu6' target=\"_blank\">firm-sweep-105</a></strong> to <a href='https://wandb.ai/mateogiraz27-ort/three-musketeers' target=\"_blank\">Weights & Biases</a> (<a href='https://wandb.me/developer-guide' target=\"_blank\">docs</a>)<br>Sweep page: <a href='https://wandb.ai/mateogiraz27-ort/three-musketeers/sweeps/txk212na' target=\"_blank\">https://wandb.ai/mateogiraz27-ort/three-musketeers/sweeps/txk212na</a>"
      ],
      "text/plain": [
       "<IPython.core.display.HTML object>"
      ]
     },
     "metadata": {},
     "output_type": "display_data"
    },
    {
     "data": {
      "text/html": [
       " View project at <a href='https://wandb.ai/mateogiraz27-ort/three-musketeers' target=\"_blank\">https://wandb.ai/mateogiraz27-ort/three-musketeers</a>"
      ],
      "text/plain": [
       "<IPython.core.display.HTML object>"
      ]
     },
     "metadata": {},
     "output_type": "display_data"
    },
    {
     "data": {
      "text/html": [
       " View sweep at <a href='https://wandb.ai/mateogiraz27-ort/three-musketeers/sweeps/txk212na' target=\"_blank\">https://wandb.ai/mateogiraz27-ort/three-musketeers/sweeps/txk212na</a>"
      ],
      "text/plain": [
       "<IPython.core.display.HTML object>"
      ]
     },
     "metadata": {},
     "output_type": "display_data"
    },
    {
     "data": {
      "text/html": [
       " View run at <a href='https://wandb.ai/mateogiraz27-ort/three-musketeers/runs/r81zntu6' target=\"_blank\">https://wandb.ai/mateogiraz27-ort/three-musketeers/runs/r81zntu6</a>"
      ],
      "text/plain": [
       "<IPython.core.display.HTML object>"
      ]
     },
     "metadata": {},
     "output_type": "display_data"
    },
    {
     "name": "stderr",
     "output_type": "stream",
     "text": [
      "100%|██████████| 100/100 [01:11<00:00,  1.40it/s]\n"
     ]
    },
    {
     "data": {
      "text/html": [],
      "text/plain": [
       "<IPython.core.display.HTML object>"
      ]
     },
     "metadata": {},
     "output_type": "display_data"
    },
    {
     "data": {
      "text/html": [
       "<br>    <style><br>        .wandb-row {<br>            display: flex;<br>            flex-direction: row;<br>            flex-wrap: wrap;<br>            justify-content: flex-start;<br>            width: 100%;<br>        }<br>        .wandb-col {<br>            display: flex;<br>            flex-direction: column;<br>            flex-basis: 100%;<br>            flex: 1;<br>            padding: 10px;<br>        }<br>    </style><br><div class=\"wandb-row\"><div class=\"wandb-col\"><h3>Run history:</h3><br/><table class=\"wandb\"><tr><td>agent_wins</td><td>▁</td></tr><tr><td>pete_wins</td><td>▁</td></tr><tr><td>win_rate</td><td>▁</td></tr></table><br/></div><div class=\"wandb-col\"><h3>Run summary:</h3><br/><table class=\"wandb\"><tr><td>agent_wins</td><td>97</td></tr><tr><td>pete_wins</td><td>3</td></tr><tr><td>win_rate</td><td>0.97</td></tr></table><br/></div></div>"
      ],
      "text/plain": [
       "<IPython.core.display.HTML object>"
      ]
     },
     "metadata": {},
     "output_type": "display_data"
    },
    {
     "data": {
      "text/html": [
       " View run <strong style=\"color:#cdcd00\">firm-sweep-105</strong> at: <a href='https://wandb.ai/mateogiraz27-ort/three-musketeers/runs/r81zntu6' target=\"_blank\">https://wandb.ai/mateogiraz27-ort/three-musketeers/runs/r81zntu6</a><br> View project at: <a href='https://wandb.ai/mateogiraz27-ort/three-musketeers' target=\"_blank\">https://wandb.ai/mateogiraz27-ort/three-musketeers</a><br>Synced 5 W&B file(s), 0 media file(s), 0 artifact file(s) and 0 other file(s)"
      ],
      "text/plain": [
       "<IPython.core.display.HTML object>"
      ]
     },
     "metadata": {},
     "output_type": "display_data"
    },
    {
     "data": {
      "text/html": [
       "Find logs at: <code>./wandb/run-20241214_110401-r81zntu6/logs</code>"
      ],
      "text/plain": [
       "<IPython.core.display.HTML object>"
      ]
     },
     "metadata": {},
     "output_type": "display_data"
    },
    {
     "name": "stderr",
     "output_type": "stream",
     "text": [
      "\u001b[34m\u001b[1mwandb\u001b[0m: Agent Starting Run: njt051dz with config:\n",
      "\u001b[34m\u001b[1mwandb\u001b[0m: \talignment_weight: 18.788499875395065\n",
      "\u001b[34m\u001b[1mwandb\u001b[0m: \tmax_depth: 4\n",
      "\u001b[34m\u001b[1mwandb\u001b[0m: \tmoves_weight: 14.442121301524809\n",
      "\u001b[34m\u001b[1mwandb\u001b[0m: \ttrap_weight: 12.298379282787804\n"
     ]
    },
    {
     "data": {
      "text/html": [
       "Tracking run with wandb version 0.19.1"
      ],
      "text/plain": [
       "<IPython.core.display.HTML object>"
      ]
     },
     "metadata": {},
     "output_type": "display_data"
    },
    {
     "data": {
      "text/html": [
       "Run data is saved locally in <code>/Users/mateogiraz/Documents/MountainCarContinuous (1)/three-musketeers/wandb/run-20241214_110520-njt051dz</code>"
      ],
      "text/plain": [
       "<IPython.core.display.HTML object>"
      ]
     },
     "metadata": {},
     "output_type": "display_data"
    },
    {
     "data": {
      "text/html": [
       "Syncing run <strong><a href='https://wandb.ai/mateogiraz27-ort/three-musketeers/runs/njt051dz' target=\"_blank\">generous-sweep-106</a></strong> to <a href='https://wandb.ai/mateogiraz27-ort/three-musketeers' target=\"_blank\">Weights & Biases</a> (<a href='https://wandb.me/developer-guide' target=\"_blank\">docs</a>)<br>Sweep page: <a href='https://wandb.ai/mateogiraz27-ort/three-musketeers/sweeps/txk212na' target=\"_blank\">https://wandb.ai/mateogiraz27-ort/three-musketeers/sweeps/txk212na</a>"
      ],
      "text/plain": [
       "<IPython.core.display.HTML object>"
      ]
     },
     "metadata": {},
     "output_type": "display_data"
    },
    {
     "data": {
      "text/html": [
       " View project at <a href='https://wandb.ai/mateogiraz27-ort/three-musketeers' target=\"_blank\">https://wandb.ai/mateogiraz27-ort/three-musketeers</a>"
      ],
      "text/plain": [
       "<IPython.core.display.HTML object>"
      ]
     },
     "metadata": {},
     "output_type": "display_data"
    },
    {
     "data": {
      "text/html": [
       " View sweep at <a href='https://wandb.ai/mateogiraz27-ort/three-musketeers/sweeps/txk212na' target=\"_blank\">https://wandb.ai/mateogiraz27-ort/three-musketeers/sweeps/txk212na</a>"
      ],
      "text/plain": [
       "<IPython.core.display.HTML object>"
      ]
     },
     "metadata": {},
     "output_type": "display_data"
    },
    {
     "data": {
      "text/html": [
       " View run at <a href='https://wandb.ai/mateogiraz27-ort/three-musketeers/runs/njt051dz' target=\"_blank\">https://wandb.ai/mateogiraz27-ort/three-musketeers/runs/njt051dz</a>"
      ],
      "text/plain": [
       "<IPython.core.display.HTML object>"
      ]
     },
     "metadata": {},
     "output_type": "display_data"
    },
    {
     "name": "stderr",
     "output_type": "stream",
     "text": [
      "100%|██████████| 100/100 [00:34<00:00,  2.90it/s]\n"
     ]
    },
    {
     "data": {
      "text/html": [],
      "text/plain": [
       "<IPython.core.display.HTML object>"
      ]
     },
     "metadata": {},
     "output_type": "display_data"
    },
    {
     "data": {
      "text/html": [
       "<br>    <style><br>        .wandb-row {<br>            display: flex;<br>            flex-direction: row;<br>            flex-wrap: wrap;<br>            justify-content: flex-start;<br>            width: 100%;<br>        }<br>        .wandb-col {<br>            display: flex;<br>            flex-direction: column;<br>            flex-basis: 100%;<br>            flex: 1;<br>            padding: 10px;<br>        }<br>    </style><br><div class=\"wandb-row\"><div class=\"wandb-col\"><h3>Run history:</h3><br/><table class=\"wandb\"><tr><td>agent_wins</td><td>▁</td></tr><tr><td>pete_wins</td><td>▁</td></tr><tr><td>win_rate</td><td>▁</td></tr></table><br/></div><div class=\"wandb-col\"><h3>Run summary:</h3><br/><table class=\"wandb\"><tr><td>agent_wins</td><td>77</td></tr><tr><td>pete_wins</td><td>23</td></tr><tr><td>win_rate</td><td>0.77</td></tr></table><br/></div></div>"
      ],
      "text/plain": [
       "<IPython.core.display.HTML object>"
      ]
     },
     "metadata": {},
     "output_type": "display_data"
    },
    {
     "data": {
      "text/html": [
       " View run <strong style=\"color:#cdcd00\">generous-sweep-106</strong> at: <a href='https://wandb.ai/mateogiraz27-ort/three-musketeers/runs/njt051dz' target=\"_blank\">https://wandb.ai/mateogiraz27-ort/three-musketeers/runs/njt051dz</a><br> View project at: <a href='https://wandb.ai/mateogiraz27-ort/three-musketeers' target=\"_blank\">https://wandb.ai/mateogiraz27-ort/three-musketeers</a><br>Synced 5 W&B file(s), 0 media file(s), 0 artifact file(s) and 0 other file(s)"
      ],
      "text/plain": [
       "<IPython.core.display.HTML object>"
      ]
     },
     "metadata": {},
     "output_type": "display_data"
    },
    {
     "data": {
      "text/html": [
       "Find logs at: <code>./wandb/run-20241214_110520-njt051dz/logs</code>"
      ],
      "text/plain": [
       "<IPython.core.display.HTML object>"
      ]
     },
     "metadata": {},
     "output_type": "display_data"
    },
    {
     "name": "stderr",
     "output_type": "stream",
     "text": [
      "\u001b[34m\u001b[1mwandb\u001b[0m: Agent Starting Run: hg4ldu85 with config:\n",
      "\u001b[34m\u001b[1mwandb\u001b[0m: \talignment_weight: 7.398708754578438\n",
      "\u001b[34m\u001b[1mwandb\u001b[0m: \tmax_depth: 3\n",
      "\u001b[34m\u001b[1mwandb\u001b[0m: \tmoves_weight: 6.277865148382302\n",
      "\u001b[34m\u001b[1mwandb\u001b[0m: \ttrap_weight: 27.969913351257752\n"
     ]
    },
    {
     "data": {
      "text/html": [
       "Tracking run with wandb version 0.19.1"
      ],
      "text/plain": [
       "<IPython.core.display.HTML object>"
      ]
     },
     "metadata": {},
     "output_type": "display_data"
    },
    {
     "data": {
      "text/html": [
       "Run data is saved locally in <code>/Users/mateogiraz/Documents/MountainCarContinuous (1)/three-musketeers/wandb/run-20241214_110602-hg4ldu85</code>"
      ],
      "text/plain": [
       "<IPython.core.display.HTML object>"
      ]
     },
     "metadata": {},
     "output_type": "display_data"
    },
    {
     "data": {
      "text/html": [
       "Syncing run <strong><a href='https://wandb.ai/mateogiraz27-ort/three-musketeers/runs/hg4ldu85' target=\"_blank\">icy-sweep-107</a></strong> to <a href='https://wandb.ai/mateogiraz27-ort/three-musketeers' target=\"_blank\">Weights & Biases</a> (<a href='https://wandb.me/developer-guide' target=\"_blank\">docs</a>)<br>Sweep page: <a href='https://wandb.ai/mateogiraz27-ort/three-musketeers/sweeps/txk212na' target=\"_blank\">https://wandb.ai/mateogiraz27-ort/three-musketeers/sweeps/txk212na</a>"
      ],
      "text/plain": [
       "<IPython.core.display.HTML object>"
      ]
     },
     "metadata": {},
     "output_type": "display_data"
    },
    {
     "data": {
      "text/html": [
       " View project at <a href='https://wandb.ai/mateogiraz27-ort/three-musketeers' target=\"_blank\">https://wandb.ai/mateogiraz27-ort/three-musketeers</a>"
      ],
      "text/plain": [
       "<IPython.core.display.HTML object>"
      ]
     },
     "metadata": {},
     "output_type": "display_data"
    },
    {
     "data": {
      "text/html": [
       " View sweep at <a href='https://wandb.ai/mateogiraz27-ort/three-musketeers/sweeps/txk212na' target=\"_blank\">https://wandb.ai/mateogiraz27-ort/three-musketeers/sweeps/txk212na</a>"
      ],
      "text/plain": [
       "<IPython.core.display.HTML object>"
      ]
     },
     "metadata": {},
     "output_type": "display_data"
    },
    {
     "data": {
      "text/html": [
       " View run at <a href='https://wandb.ai/mateogiraz27-ort/three-musketeers/runs/hg4ldu85' target=\"_blank\">https://wandb.ai/mateogiraz27-ort/three-musketeers/runs/hg4ldu85</a>"
      ],
      "text/plain": [
       "<IPython.core.display.HTML object>"
      ]
     },
     "metadata": {},
     "output_type": "display_data"
    },
    {
     "name": "stderr",
     "output_type": "stream",
     "text": [
      "100%|██████████| 100/100 [00:31<00:00,  3.21it/s]\n"
     ]
    },
    {
     "data": {
      "text/html": [],
      "text/plain": [
       "<IPython.core.display.HTML object>"
      ]
     },
     "metadata": {},
     "output_type": "display_data"
    },
    {
     "data": {
      "text/html": [
       "<br>    <style><br>        .wandb-row {<br>            display: flex;<br>            flex-direction: row;<br>            flex-wrap: wrap;<br>            justify-content: flex-start;<br>            width: 100%;<br>        }<br>        .wandb-col {<br>            display: flex;<br>            flex-direction: column;<br>            flex-basis: 100%;<br>            flex: 1;<br>            padding: 10px;<br>        }<br>    </style><br><div class=\"wandb-row\"><div class=\"wandb-col\"><h3>Run history:</h3><br/><table class=\"wandb\"><tr><td>agent_wins</td><td>▁</td></tr><tr><td>pete_wins</td><td>▁</td></tr><tr><td>win_rate</td><td>▁</td></tr></table><br/></div><div class=\"wandb-col\"><h3>Run summary:</h3><br/><table class=\"wandb\"><tr><td>agent_wins</td><td>94</td></tr><tr><td>pete_wins</td><td>6</td></tr><tr><td>win_rate</td><td>0.94</td></tr></table><br/></div></div>"
      ],
      "text/plain": [
       "<IPython.core.display.HTML object>"
      ]
     },
     "metadata": {},
     "output_type": "display_data"
    },
    {
     "data": {
      "text/html": [
       " View run <strong style=\"color:#cdcd00\">icy-sweep-107</strong> at: <a href='https://wandb.ai/mateogiraz27-ort/three-musketeers/runs/hg4ldu85' target=\"_blank\">https://wandb.ai/mateogiraz27-ort/three-musketeers/runs/hg4ldu85</a><br> View project at: <a href='https://wandb.ai/mateogiraz27-ort/three-musketeers' target=\"_blank\">https://wandb.ai/mateogiraz27-ort/three-musketeers</a><br>Synced 5 W&B file(s), 0 media file(s), 0 artifact file(s) and 0 other file(s)"
      ],
      "text/plain": [
       "<IPython.core.display.HTML object>"
      ]
     },
     "metadata": {},
     "output_type": "display_data"
    },
    {
     "data": {
      "text/html": [
       "Find logs at: <code>./wandb/run-20241214_110602-hg4ldu85/logs</code>"
      ],
      "text/plain": [
       "<IPython.core.display.HTML object>"
      ]
     },
     "metadata": {},
     "output_type": "display_data"
    },
    {
     "name": "stderr",
     "output_type": "stream",
     "text": [
      "\u001b[34m\u001b[1mwandb\u001b[0m: Agent Starting Run: nhknbxz2 with config:\n",
      "\u001b[34m\u001b[1mwandb\u001b[0m: \talignment_weight: 12.299900696669534\n",
      "\u001b[34m\u001b[1mwandb\u001b[0m: \tmax_depth: 5\n",
      "\u001b[34m\u001b[1mwandb\u001b[0m: \tmoves_weight: 11.544069792408807\n",
      "\u001b[34m\u001b[1mwandb\u001b[0m: \ttrap_weight: 24.288774504629593\n"
     ]
    },
    {
     "data": {
      "text/html": [
       "Tracking run with wandb version 0.19.1"
      ],
      "text/plain": [
       "<IPython.core.display.HTML object>"
      ]
     },
     "metadata": {},
     "output_type": "display_data"
    },
    {
     "data": {
      "text/html": [
       "Run data is saved locally in <code>/Users/mateogiraz/Documents/MountainCarContinuous (1)/three-musketeers/wandb/run-20241214_110640-nhknbxz2</code>"
      ],
      "text/plain": [
       "<IPython.core.display.HTML object>"
      ]
     },
     "metadata": {},
     "output_type": "display_data"
    },
    {
     "data": {
      "text/html": [
       "Syncing run <strong><a href='https://wandb.ai/mateogiraz27-ort/three-musketeers/runs/nhknbxz2' target=\"_blank\">resilient-sweep-108</a></strong> to <a href='https://wandb.ai/mateogiraz27-ort/three-musketeers' target=\"_blank\">Weights & Biases</a> (<a href='https://wandb.me/developer-guide' target=\"_blank\">docs</a>)<br>Sweep page: <a href='https://wandb.ai/mateogiraz27-ort/three-musketeers/sweeps/txk212na' target=\"_blank\">https://wandb.ai/mateogiraz27-ort/three-musketeers/sweeps/txk212na</a>"
      ],
      "text/plain": [
       "<IPython.core.display.HTML object>"
      ]
     },
     "metadata": {},
     "output_type": "display_data"
    },
    {
     "data": {
      "text/html": [
       " View project at <a href='https://wandb.ai/mateogiraz27-ort/three-musketeers' target=\"_blank\">https://wandb.ai/mateogiraz27-ort/three-musketeers</a>"
      ],
      "text/plain": [
       "<IPython.core.display.HTML object>"
      ]
     },
     "metadata": {},
     "output_type": "display_data"
    },
    {
     "data": {
      "text/html": [
       " View sweep at <a href='https://wandb.ai/mateogiraz27-ort/three-musketeers/sweeps/txk212na' target=\"_blank\">https://wandb.ai/mateogiraz27-ort/three-musketeers/sweeps/txk212na</a>"
      ],
      "text/plain": [
       "<IPython.core.display.HTML object>"
      ]
     },
     "metadata": {},
     "output_type": "display_data"
    },
    {
     "data": {
      "text/html": [
       " View run at <a href='https://wandb.ai/mateogiraz27-ort/three-musketeers/runs/nhknbxz2' target=\"_blank\">https://wandb.ai/mateogiraz27-ort/three-musketeers/runs/nhknbxz2</a>"
      ],
      "text/plain": [
       "<IPython.core.display.HTML object>"
      ]
     },
     "metadata": {},
     "output_type": "display_data"
    },
    {
     "name": "stderr",
     "output_type": "stream",
     "text": [
      "100%|██████████| 100/100 [01:17<00:00,  1.28it/s]\n"
     ]
    },
    {
     "data": {
      "text/html": [],
      "text/plain": [
       "<IPython.core.display.HTML object>"
      ]
     },
     "metadata": {},
     "output_type": "display_data"
    },
    {
     "data": {
      "text/html": [
       "<br>    <style><br>        .wandb-row {<br>            display: flex;<br>            flex-direction: row;<br>            flex-wrap: wrap;<br>            justify-content: flex-start;<br>            width: 100%;<br>        }<br>        .wandb-col {<br>            display: flex;<br>            flex-direction: column;<br>            flex-basis: 100%;<br>            flex: 1;<br>            padding: 10px;<br>        }<br>    </style><br><div class=\"wandb-row\"><div class=\"wandb-col\"><h3>Run history:</h3><br/><table class=\"wandb\"><tr><td>agent_wins</td><td>▁</td></tr><tr><td>pete_wins</td><td>▁</td></tr><tr><td>win_rate</td><td>▁</td></tr></table><br/></div><div class=\"wandb-col\"><h3>Run summary:</h3><br/><table class=\"wandb\"><tr><td>agent_wins</td><td>88</td></tr><tr><td>pete_wins</td><td>12</td></tr><tr><td>win_rate</td><td>0.88</td></tr></table><br/></div></div>"
      ],
      "text/plain": [
       "<IPython.core.display.HTML object>"
      ]
     },
     "metadata": {},
     "output_type": "display_data"
    },
    {
     "data": {
      "text/html": [
       " View run <strong style=\"color:#cdcd00\">resilient-sweep-108</strong> at: <a href='https://wandb.ai/mateogiraz27-ort/three-musketeers/runs/nhknbxz2' target=\"_blank\">https://wandb.ai/mateogiraz27-ort/three-musketeers/runs/nhknbxz2</a><br> View project at: <a href='https://wandb.ai/mateogiraz27-ort/three-musketeers' target=\"_blank\">https://wandb.ai/mateogiraz27-ort/three-musketeers</a><br>Synced 5 W&B file(s), 0 media file(s), 0 artifact file(s) and 0 other file(s)"
      ],
      "text/plain": [
       "<IPython.core.display.HTML object>"
      ]
     },
     "metadata": {},
     "output_type": "display_data"
    },
    {
     "data": {
      "text/html": [
       "Find logs at: <code>./wandb/run-20241214_110640-nhknbxz2/logs</code>"
      ],
      "text/plain": [
       "<IPython.core.display.HTML object>"
      ]
     },
     "metadata": {},
     "output_type": "display_data"
    },
    {
     "name": "stderr",
     "output_type": "stream",
     "text": [
      "\u001b[34m\u001b[1mwandb\u001b[0m: Agent Starting Run: rt5ggr5s with config:\n",
      "\u001b[34m\u001b[1mwandb\u001b[0m: \talignment_weight: 13.072514507169824\n",
      "\u001b[34m\u001b[1mwandb\u001b[0m: \tmax_depth: 3\n",
      "\u001b[34m\u001b[1mwandb\u001b[0m: \tmoves_weight: 5.390905366620633\n",
      "\u001b[34m\u001b[1mwandb\u001b[0m: \ttrap_weight: 29.16651906753472\n"
     ]
    },
    {
     "data": {
      "text/html": [
       "Tracking run with wandb version 0.19.1"
      ],
      "text/plain": [
       "<IPython.core.display.HTML object>"
      ]
     },
     "metadata": {},
     "output_type": "display_data"
    },
    {
     "data": {
      "text/html": [
       "Run data is saved locally in <code>/Users/mateogiraz/Documents/MountainCarContinuous (1)/three-musketeers/wandb/run-20241214_110804-rt5ggr5s</code>"
      ],
      "text/plain": [
       "<IPython.core.display.HTML object>"
      ]
     },
     "metadata": {},
     "output_type": "display_data"
    },
    {
     "data": {
      "text/html": [
       "Syncing run <strong><a href='https://wandb.ai/mateogiraz27-ort/three-musketeers/runs/rt5ggr5s' target=\"_blank\">smooth-sweep-109</a></strong> to <a href='https://wandb.ai/mateogiraz27-ort/three-musketeers' target=\"_blank\">Weights & Biases</a> (<a href='https://wandb.me/developer-guide' target=\"_blank\">docs</a>)<br>Sweep page: <a href='https://wandb.ai/mateogiraz27-ort/three-musketeers/sweeps/txk212na' target=\"_blank\">https://wandb.ai/mateogiraz27-ort/three-musketeers/sweeps/txk212na</a>"
      ],
      "text/plain": [
       "<IPython.core.display.HTML object>"
      ]
     },
     "metadata": {},
     "output_type": "display_data"
    },
    {
     "data": {
      "text/html": [
       " View project at <a href='https://wandb.ai/mateogiraz27-ort/three-musketeers' target=\"_blank\">https://wandb.ai/mateogiraz27-ort/three-musketeers</a>"
      ],
      "text/plain": [
       "<IPython.core.display.HTML object>"
      ]
     },
     "metadata": {},
     "output_type": "display_data"
    },
    {
     "data": {
      "text/html": [
       " View sweep at <a href='https://wandb.ai/mateogiraz27-ort/three-musketeers/sweeps/txk212na' target=\"_blank\">https://wandb.ai/mateogiraz27-ort/three-musketeers/sweeps/txk212na</a>"
      ],
      "text/plain": [
       "<IPython.core.display.HTML object>"
      ]
     },
     "metadata": {},
     "output_type": "display_data"
    },
    {
     "data": {
      "text/html": [
       " View run at <a href='https://wandb.ai/mateogiraz27-ort/three-musketeers/runs/rt5ggr5s' target=\"_blank\">https://wandb.ai/mateogiraz27-ort/three-musketeers/runs/rt5ggr5s</a>"
      ],
      "text/plain": [
       "<IPython.core.display.HTML object>"
      ]
     },
     "metadata": {},
     "output_type": "display_data"
    },
    {
     "name": "stderr",
     "output_type": "stream",
     "text": [
      "100%|██████████| 100/100 [00:28<00:00,  3.52it/s]\n"
     ]
    },
    {
     "data": {
      "text/html": [],
      "text/plain": [
       "<IPython.core.display.HTML object>"
      ]
     },
     "metadata": {},
     "output_type": "display_data"
    },
    {
     "data": {
      "text/html": [
       "<br>    <style><br>        .wandb-row {<br>            display: flex;<br>            flex-direction: row;<br>            flex-wrap: wrap;<br>            justify-content: flex-start;<br>            width: 100%;<br>        }<br>        .wandb-col {<br>            display: flex;<br>            flex-direction: column;<br>            flex-basis: 100%;<br>            flex: 1;<br>            padding: 10px;<br>        }<br>    </style><br><div class=\"wandb-row\"><div class=\"wandb-col\"><h3>Run history:</h3><br/><table class=\"wandb\"><tr><td>agent_wins</td><td>▁</td></tr><tr><td>pete_wins</td><td>▁</td></tr><tr><td>win_rate</td><td>▁</td></tr></table><br/></div><div class=\"wandb-col\"><h3>Run summary:</h3><br/><table class=\"wandb\"><tr><td>agent_wins</td><td>86</td></tr><tr><td>pete_wins</td><td>14</td></tr><tr><td>win_rate</td><td>0.86</td></tr></table><br/></div></div>"
      ],
      "text/plain": [
       "<IPython.core.display.HTML object>"
      ]
     },
     "metadata": {},
     "output_type": "display_data"
    },
    {
     "data": {
      "text/html": [
       " View run <strong style=\"color:#cdcd00\">smooth-sweep-109</strong> at: <a href='https://wandb.ai/mateogiraz27-ort/three-musketeers/runs/rt5ggr5s' target=\"_blank\">https://wandb.ai/mateogiraz27-ort/three-musketeers/runs/rt5ggr5s</a><br> View project at: <a href='https://wandb.ai/mateogiraz27-ort/three-musketeers' target=\"_blank\">https://wandb.ai/mateogiraz27-ort/three-musketeers</a><br>Synced 5 W&B file(s), 0 media file(s), 0 artifact file(s) and 0 other file(s)"
      ],
      "text/plain": [
       "<IPython.core.display.HTML object>"
      ]
     },
     "metadata": {},
     "output_type": "display_data"
    },
    {
     "data": {
      "text/html": [
       "Find logs at: <code>./wandb/run-20241214_110804-rt5ggr5s/logs</code>"
      ],
      "text/plain": [
       "<IPython.core.display.HTML object>"
      ]
     },
     "metadata": {},
     "output_type": "display_data"
    },
    {
     "name": "stderr",
     "output_type": "stream",
     "text": [
      "\u001b[34m\u001b[1mwandb\u001b[0m: Sweep Agent: Waiting for job.\n",
      "\u001b[34m\u001b[1mwandb\u001b[0m: Job received.\n",
      "\u001b[34m\u001b[1mwandb\u001b[0m: Agent Starting Run: g50qz5b7 with config:\n",
      "\u001b[34m\u001b[1mwandb\u001b[0m: \talignment_weight: 11.58763168641782\n",
      "\u001b[34m\u001b[1mwandb\u001b[0m: \tmax_depth: 4\n",
      "\u001b[34m\u001b[1mwandb\u001b[0m: \tmoves_weight: 5.668007902899342\n",
      "\u001b[34m\u001b[1mwandb\u001b[0m: \ttrap_weight: 12.92740544319134\n"
     ]
    },
    {
     "data": {
      "text/html": [
       "Tracking run with wandb version 0.19.1"
      ],
      "text/plain": [
       "<IPython.core.display.HTML object>"
      ]
     },
     "metadata": {},
     "output_type": "display_data"
    },
    {
     "data": {
      "text/html": [
       "Run data is saved locally in <code>/Users/mateogiraz/Documents/MountainCarContinuous (1)/three-musketeers/wandb/run-20241214_110846-g50qz5b7</code>"
      ],
      "text/plain": [
       "<IPython.core.display.HTML object>"
      ]
     },
     "metadata": {},
     "output_type": "display_data"
    },
    {
     "data": {
      "text/html": [
       "Syncing run <strong><a href='https://wandb.ai/mateogiraz27-ort/three-musketeers/runs/g50qz5b7' target=\"_blank\">dutiful-sweep-110</a></strong> to <a href='https://wandb.ai/mateogiraz27-ort/three-musketeers' target=\"_blank\">Weights & Biases</a> (<a href='https://wandb.me/developer-guide' target=\"_blank\">docs</a>)<br>Sweep page: <a href='https://wandb.ai/mateogiraz27-ort/three-musketeers/sweeps/txk212na' target=\"_blank\">https://wandb.ai/mateogiraz27-ort/three-musketeers/sweeps/txk212na</a>"
      ],
      "text/plain": [
       "<IPython.core.display.HTML object>"
      ]
     },
     "metadata": {},
     "output_type": "display_data"
    },
    {
     "data": {
      "text/html": [
       " View project at <a href='https://wandb.ai/mateogiraz27-ort/three-musketeers' target=\"_blank\">https://wandb.ai/mateogiraz27-ort/three-musketeers</a>"
      ],
      "text/plain": [
       "<IPython.core.display.HTML object>"
      ]
     },
     "metadata": {},
     "output_type": "display_data"
    },
    {
     "data": {
      "text/html": [
       " View sweep at <a href='https://wandb.ai/mateogiraz27-ort/three-musketeers/sweeps/txk212na' target=\"_blank\">https://wandb.ai/mateogiraz27-ort/three-musketeers/sweeps/txk212na</a>"
      ],
      "text/plain": [
       "<IPython.core.display.HTML object>"
      ]
     },
     "metadata": {},
     "output_type": "display_data"
    },
    {
     "data": {
      "text/html": [
       " View run at <a href='https://wandb.ai/mateogiraz27-ort/three-musketeers/runs/g50qz5b7' target=\"_blank\">https://wandb.ai/mateogiraz27-ort/three-musketeers/runs/g50qz5b7</a>"
      ],
      "text/plain": [
       "<IPython.core.display.HTML object>"
      ]
     },
     "metadata": {},
     "output_type": "display_data"
    },
    {
     "name": "stderr",
     "output_type": "stream",
     "text": [
      "100%|██████████| 100/100 [00:42<00:00,  2.33it/s]\n"
     ]
    },
    {
     "data": {
      "text/html": [],
      "text/plain": [
       "<IPython.core.display.HTML object>"
      ]
     },
     "metadata": {},
     "output_type": "display_data"
    },
    {
     "data": {
      "text/html": [
       "<br>    <style><br>        .wandb-row {<br>            display: flex;<br>            flex-direction: row;<br>            flex-wrap: wrap;<br>            justify-content: flex-start;<br>            width: 100%;<br>        }<br>        .wandb-col {<br>            display: flex;<br>            flex-direction: column;<br>            flex-basis: 100%;<br>            flex: 1;<br>            padding: 10px;<br>        }<br>    </style><br><div class=\"wandb-row\"><div class=\"wandb-col\"><h3>Run history:</h3><br/><table class=\"wandb\"><tr><td>agent_wins</td><td>▁</td></tr><tr><td>pete_wins</td><td>▁</td></tr><tr><td>win_rate</td><td>▁</td></tr></table><br/></div><div class=\"wandb-col\"><h3>Run summary:</h3><br/><table class=\"wandb\"><tr><td>agent_wins</td><td>90</td></tr><tr><td>pete_wins</td><td>10</td></tr><tr><td>win_rate</td><td>0.9</td></tr></table><br/></div></div>"
      ],
      "text/plain": [
       "<IPython.core.display.HTML object>"
      ]
     },
     "metadata": {},
     "output_type": "display_data"
    },
    {
     "data": {
      "text/html": [
       " View run <strong style=\"color:#cdcd00\">dutiful-sweep-110</strong> at: <a href='https://wandb.ai/mateogiraz27-ort/three-musketeers/runs/g50qz5b7' target=\"_blank\">https://wandb.ai/mateogiraz27-ort/three-musketeers/runs/g50qz5b7</a><br> View project at: <a href='https://wandb.ai/mateogiraz27-ort/three-musketeers' target=\"_blank\">https://wandb.ai/mateogiraz27-ort/three-musketeers</a><br>Synced 5 W&B file(s), 0 media file(s), 0 artifact file(s) and 0 other file(s)"
      ],
      "text/plain": [
       "<IPython.core.display.HTML object>"
      ]
     },
     "metadata": {},
     "output_type": "display_data"
    },
    {
     "data": {
      "text/html": [
       "Find logs at: <code>./wandb/run-20241214_110846-g50qz5b7/logs</code>"
      ],
      "text/plain": [
       "<IPython.core.display.HTML object>"
      ]
     },
     "metadata": {},
     "output_type": "display_data"
    },
    {
     "name": "stderr",
     "output_type": "stream",
     "text": [
      "\u001b[34m\u001b[1mwandb\u001b[0m: Agent Starting Run: l1rafdd1 with config:\n",
      "\u001b[34m\u001b[1mwandb\u001b[0m: \talignment_weight: 18.445252631965992\n",
      "\u001b[34m\u001b[1mwandb\u001b[0m: \tmax_depth: 4\n",
      "\u001b[34m\u001b[1mwandb\u001b[0m: \tmoves_weight: 10.272084621931354\n",
      "\u001b[34m\u001b[1mwandb\u001b[0m: \ttrap_weight: 29.74362842890063\n"
     ]
    },
    {
     "data": {
      "text/html": [
       "Tracking run with wandb version 0.19.1"
      ],
      "text/plain": [
       "<IPython.core.display.HTML object>"
      ]
     },
     "metadata": {},
     "output_type": "display_data"
    },
    {
     "data": {
      "text/html": [
       "Run data is saved locally in <code>/Users/mateogiraz/Documents/MountainCarContinuous (1)/three-musketeers/wandb/run-20241214_110935-l1rafdd1</code>"
      ],
      "text/plain": [
       "<IPython.core.display.HTML object>"
      ]
     },
     "metadata": {},
     "output_type": "display_data"
    },
    {
     "data": {
      "text/html": [
       "Syncing run <strong><a href='https://wandb.ai/mateogiraz27-ort/three-musketeers/runs/l1rafdd1' target=\"_blank\">silvery-sweep-111</a></strong> to <a href='https://wandb.ai/mateogiraz27-ort/three-musketeers' target=\"_blank\">Weights & Biases</a> (<a href='https://wandb.me/developer-guide' target=\"_blank\">docs</a>)<br>Sweep page: <a href='https://wandb.ai/mateogiraz27-ort/three-musketeers/sweeps/txk212na' target=\"_blank\">https://wandb.ai/mateogiraz27-ort/three-musketeers/sweeps/txk212na</a>"
      ],
      "text/plain": [
       "<IPython.core.display.HTML object>"
      ]
     },
     "metadata": {},
     "output_type": "display_data"
    },
    {
     "data": {
      "text/html": [
       " View project at <a href='https://wandb.ai/mateogiraz27-ort/three-musketeers' target=\"_blank\">https://wandb.ai/mateogiraz27-ort/three-musketeers</a>"
      ],
      "text/plain": [
       "<IPython.core.display.HTML object>"
      ]
     },
     "metadata": {},
     "output_type": "display_data"
    },
    {
     "data": {
      "text/html": [
       " View sweep at <a href='https://wandb.ai/mateogiraz27-ort/three-musketeers/sweeps/txk212na' target=\"_blank\">https://wandb.ai/mateogiraz27-ort/three-musketeers/sweeps/txk212na</a>"
      ],
      "text/plain": [
       "<IPython.core.display.HTML object>"
      ]
     },
     "metadata": {},
     "output_type": "display_data"
    },
    {
     "data": {
      "text/html": [
       " View run at <a href='https://wandb.ai/mateogiraz27-ort/three-musketeers/runs/l1rafdd1' target=\"_blank\">https://wandb.ai/mateogiraz27-ort/three-musketeers/runs/l1rafdd1</a>"
      ],
      "text/plain": [
       "<IPython.core.display.HTML object>"
      ]
     },
     "metadata": {},
     "output_type": "display_data"
    },
    {
     "name": "stderr",
     "output_type": "stream",
     "text": [
      "100%|██████████| 100/100 [00:44<00:00,  2.27it/s]\n"
     ]
    },
    {
     "data": {
      "text/html": [],
      "text/plain": [
       "<IPython.core.display.HTML object>"
      ]
     },
     "metadata": {},
     "output_type": "display_data"
    },
    {
     "data": {
      "text/html": [
       "<br>    <style><br>        .wandb-row {<br>            display: flex;<br>            flex-direction: row;<br>            flex-wrap: wrap;<br>            justify-content: flex-start;<br>            width: 100%;<br>        }<br>        .wandb-col {<br>            display: flex;<br>            flex-direction: column;<br>            flex-basis: 100%;<br>            flex: 1;<br>            padding: 10px;<br>        }<br>    </style><br><div class=\"wandb-row\"><div class=\"wandb-col\"><h3>Run history:</h3><br/><table class=\"wandb\"><tr><td>agent_wins</td><td>▁</td></tr><tr><td>pete_wins</td><td>▁</td></tr><tr><td>win_rate</td><td>▁</td></tr></table><br/></div><div class=\"wandb-col\"><h3>Run summary:</h3><br/><table class=\"wandb\"><tr><td>agent_wins</td><td>89</td></tr><tr><td>pete_wins</td><td>11</td></tr><tr><td>win_rate</td><td>0.89</td></tr></table><br/></div></div>"
      ],
      "text/plain": [
       "<IPython.core.display.HTML object>"
      ]
     },
     "metadata": {},
     "output_type": "display_data"
    },
    {
     "data": {
      "text/html": [
       " View run <strong style=\"color:#cdcd00\">silvery-sweep-111</strong> at: <a href='https://wandb.ai/mateogiraz27-ort/three-musketeers/runs/l1rafdd1' target=\"_blank\">https://wandb.ai/mateogiraz27-ort/three-musketeers/runs/l1rafdd1</a><br> View project at: <a href='https://wandb.ai/mateogiraz27-ort/three-musketeers' target=\"_blank\">https://wandb.ai/mateogiraz27-ort/three-musketeers</a><br>Synced 5 W&B file(s), 0 media file(s), 0 artifact file(s) and 0 other file(s)"
      ],
      "text/plain": [
       "<IPython.core.display.HTML object>"
      ]
     },
     "metadata": {},
     "output_type": "display_data"
    },
    {
     "data": {
      "text/html": [
       "Find logs at: <code>./wandb/run-20241214_110935-l1rafdd1/logs</code>"
      ],
      "text/plain": [
       "<IPython.core.display.HTML object>"
      ]
     },
     "metadata": {},
     "output_type": "display_data"
    },
    {
     "name": "stderr",
     "output_type": "stream",
     "text": [
      "\u001b[34m\u001b[1mwandb\u001b[0m: Sweep Agent: Waiting for job.\n",
      "\u001b[34m\u001b[1mwandb\u001b[0m: Job received.\n",
      "\u001b[34m\u001b[1mwandb\u001b[0m: Agent Starting Run: gkigsjya with config:\n",
      "\u001b[34m\u001b[1mwandb\u001b[0m: \talignment_weight: 19.079262354112945\n",
      "\u001b[34m\u001b[1mwandb\u001b[0m: \tmax_depth: 4\n",
      "\u001b[34m\u001b[1mwandb\u001b[0m: \tmoves_weight: 13.379266722851662\n",
      "\u001b[34m\u001b[1mwandb\u001b[0m: \ttrap_weight: 12.8309511119535\n"
     ]
    },
    {
     "data": {
      "text/html": [
       "Tracking run with wandb version 0.19.1"
      ],
      "text/plain": [
       "<IPython.core.display.HTML object>"
      ]
     },
     "metadata": {},
     "output_type": "display_data"
    },
    {
     "data": {
      "text/html": [
       "Run data is saved locally in <code>/Users/mateogiraz/Documents/MountainCarContinuous (1)/three-musketeers/wandb/run-20241214_111032-gkigsjya</code>"
      ],
      "text/plain": [
       "<IPython.core.display.HTML object>"
      ]
     },
     "metadata": {},
     "output_type": "display_data"
    },
    {
     "data": {
      "text/html": [
       "Syncing run <strong><a href='https://wandb.ai/mateogiraz27-ort/three-musketeers/runs/gkigsjya' target=\"_blank\">rosy-sweep-112</a></strong> to <a href='https://wandb.ai/mateogiraz27-ort/three-musketeers' target=\"_blank\">Weights & Biases</a> (<a href='https://wandb.me/developer-guide' target=\"_blank\">docs</a>)<br>Sweep page: <a href='https://wandb.ai/mateogiraz27-ort/three-musketeers/sweeps/txk212na' target=\"_blank\">https://wandb.ai/mateogiraz27-ort/three-musketeers/sweeps/txk212na</a>"
      ],
      "text/plain": [
       "<IPython.core.display.HTML object>"
      ]
     },
     "metadata": {},
     "output_type": "display_data"
    },
    {
     "data": {
      "text/html": [
       " View project at <a href='https://wandb.ai/mateogiraz27-ort/three-musketeers' target=\"_blank\">https://wandb.ai/mateogiraz27-ort/three-musketeers</a>"
      ],
      "text/plain": [
       "<IPython.core.display.HTML object>"
      ]
     },
     "metadata": {},
     "output_type": "display_data"
    },
    {
     "data": {
      "text/html": [
       " View sweep at <a href='https://wandb.ai/mateogiraz27-ort/three-musketeers/sweeps/txk212na' target=\"_blank\">https://wandb.ai/mateogiraz27-ort/three-musketeers/sweeps/txk212na</a>"
      ],
      "text/plain": [
       "<IPython.core.display.HTML object>"
      ]
     },
     "metadata": {},
     "output_type": "display_data"
    },
    {
     "data": {
      "text/html": [
       " View run at <a href='https://wandb.ai/mateogiraz27-ort/three-musketeers/runs/gkigsjya' target=\"_blank\">https://wandb.ai/mateogiraz27-ort/three-musketeers/runs/gkigsjya</a>"
      ],
      "text/plain": [
       "<IPython.core.display.HTML object>"
      ]
     },
     "metadata": {},
     "output_type": "display_data"
    },
    {
     "name": "stderr",
     "output_type": "stream",
     "text": [
      "100%|██████████| 100/100 [00:42<00:00,  2.36it/s]\n"
     ]
    },
    {
     "data": {
      "text/html": [],
      "text/plain": [
       "<IPython.core.display.HTML object>"
      ]
     },
     "metadata": {},
     "output_type": "display_data"
    },
    {
     "data": {
      "text/html": [
       "<br>    <style><br>        .wandb-row {<br>            display: flex;<br>            flex-direction: row;<br>            flex-wrap: wrap;<br>            justify-content: flex-start;<br>            width: 100%;<br>        }<br>        .wandb-col {<br>            display: flex;<br>            flex-direction: column;<br>            flex-basis: 100%;<br>            flex: 1;<br>            padding: 10px;<br>        }<br>    </style><br><div class=\"wandb-row\"><div class=\"wandb-col\"><h3>Run history:</h3><br/><table class=\"wandb\"><tr><td>agent_wins</td><td>▁</td></tr><tr><td>pete_wins</td><td>▁</td></tr><tr><td>win_rate</td><td>▁</td></tr></table><br/></div><div class=\"wandb-col\"><h3>Run summary:</h3><br/><table class=\"wandb\"><tr><td>agent_wins</td><td>87</td></tr><tr><td>pete_wins</td><td>13</td></tr><tr><td>win_rate</td><td>0.87</td></tr></table><br/></div></div>"
      ],
      "text/plain": [
       "<IPython.core.display.HTML object>"
      ]
     },
     "metadata": {},
     "output_type": "display_data"
    },
    {
     "data": {
      "text/html": [
       " View run <strong style=\"color:#cdcd00\">rosy-sweep-112</strong> at: <a href='https://wandb.ai/mateogiraz27-ort/three-musketeers/runs/gkigsjya' target=\"_blank\">https://wandb.ai/mateogiraz27-ort/three-musketeers/runs/gkigsjya</a><br> View project at: <a href='https://wandb.ai/mateogiraz27-ort/three-musketeers' target=\"_blank\">https://wandb.ai/mateogiraz27-ort/three-musketeers</a><br>Synced 5 W&B file(s), 0 media file(s), 0 artifact file(s) and 0 other file(s)"
      ],
      "text/plain": [
       "<IPython.core.display.HTML object>"
      ]
     },
     "metadata": {},
     "output_type": "display_data"
    },
    {
     "data": {
      "text/html": [
       "Find logs at: <code>./wandb/run-20241214_111032-gkigsjya/logs</code>"
      ],
      "text/plain": [
       "<IPython.core.display.HTML object>"
      ]
     },
     "metadata": {},
     "output_type": "display_data"
    },
    {
     "name": "stderr",
     "output_type": "stream",
     "text": [
      "\u001b[34m\u001b[1mwandb\u001b[0m: Agent Starting Run: p9ljyf1q with config:\n",
      "\u001b[34m\u001b[1mwandb\u001b[0m: \talignment_weight: 16.687820513176113\n",
      "\u001b[34m\u001b[1mwandb\u001b[0m: \tmax_depth: 3\n",
      "\u001b[34m\u001b[1mwandb\u001b[0m: \tmoves_weight: 6.431603991713223\n",
      "\u001b[34m\u001b[1mwandb\u001b[0m: \ttrap_weight: 28.318974533226076\n"
     ]
    },
    {
     "data": {
      "text/html": [
       "Tracking run with wandb version 0.19.1"
      ],
      "text/plain": [
       "<IPython.core.display.HTML object>"
      ]
     },
     "metadata": {},
     "output_type": "display_data"
    },
    {
     "data": {
      "text/html": [
       "Run data is saved locally in <code>/Users/mateogiraz/Documents/MountainCarContinuous (1)/three-musketeers/wandb/run-20241214_111121-p9ljyf1q</code>"
      ],
      "text/plain": [
       "<IPython.core.display.HTML object>"
      ]
     },
     "metadata": {},
     "output_type": "display_data"
    },
    {
     "data": {
      "text/html": [
       "Syncing run <strong><a href='https://wandb.ai/mateogiraz27-ort/three-musketeers/runs/p9ljyf1q' target=\"_blank\">dark-sweep-113</a></strong> to <a href='https://wandb.ai/mateogiraz27-ort/three-musketeers' target=\"_blank\">Weights & Biases</a> (<a href='https://wandb.me/developer-guide' target=\"_blank\">docs</a>)<br>Sweep page: <a href='https://wandb.ai/mateogiraz27-ort/three-musketeers/sweeps/txk212na' target=\"_blank\">https://wandb.ai/mateogiraz27-ort/three-musketeers/sweeps/txk212na</a>"
      ],
      "text/plain": [
       "<IPython.core.display.HTML object>"
      ]
     },
     "metadata": {},
     "output_type": "display_data"
    },
    {
     "data": {
      "text/html": [
       " View project at <a href='https://wandb.ai/mateogiraz27-ort/three-musketeers' target=\"_blank\">https://wandb.ai/mateogiraz27-ort/three-musketeers</a>"
      ],
      "text/plain": [
       "<IPython.core.display.HTML object>"
      ]
     },
     "metadata": {},
     "output_type": "display_data"
    },
    {
     "data": {
      "text/html": [
       " View sweep at <a href='https://wandb.ai/mateogiraz27-ort/three-musketeers/sweeps/txk212na' target=\"_blank\">https://wandb.ai/mateogiraz27-ort/three-musketeers/sweeps/txk212na</a>"
      ],
      "text/plain": [
       "<IPython.core.display.HTML object>"
      ]
     },
     "metadata": {},
     "output_type": "display_data"
    },
    {
     "data": {
      "text/html": [
       " View run at <a href='https://wandb.ai/mateogiraz27-ort/three-musketeers/runs/p9ljyf1q' target=\"_blank\">https://wandb.ai/mateogiraz27-ort/three-musketeers/runs/p9ljyf1q</a>"
      ],
      "text/plain": [
       "<IPython.core.display.HTML object>"
      ]
     },
     "metadata": {},
     "output_type": "display_data"
    },
    {
     "name": "stderr",
     "output_type": "stream",
     "text": [
      "100%|██████████| 100/100 [00:31<00:00,  3.15it/s]\n"
     ]
    },
    {
     "data": {
      "text/html": [],
      "text/plain": [
       "<IPython.core.display.HTML object>"
      ]
     },
     "metadata": {},
     "output_type": "display_data"
    },
    {
     "data": {
      "text/html": [
       "<br>    <style><br>        .wandb-row {<br>            display: flex;<br>            flex-direction: row;<br>            flex-wrap: wrap;<br>            justify-content: flex-start;<br>            width: 100%;<br>        }<br>        .wandb-col {<br>            display: flex;<br>            flex-direction: column;<br>            flex-basis: 100%;<br>            flex: 1;<br>            padding: 10px;<br>        }<br>    </style><br><div class=\"wandb-row\"><div class=\"wandb-col\"><h3>Run history:</h3><br/><table class=\"wandb\"><tr><td>agent_wins</td><td>▁</td></tr><tr><td>pete_wins</td><td>▁</td></tr><tr><td>win_rate</td><td>▁</td></tr></table><br/></div><div class=\"wandb-col\"><h3>Run summary:</h3><br/><table class=\"wandb\"><tr><td>agent_wins</td><td>95</td></tr><tr><td>pete_wins</td><td>5</td></tr><tr><td>win_rate</td><td>0.95</td></tr></table><br/></div></div>"
      ],
      "text/plain": [
       "<IPython.core.display.HTML object>"
      ]
     },
     "metadata": {},
     "output_type": "display_data"
    },
    {
     "data": {
      "text/html": [
       " View run <strong style=\"color:#cdcd00\">dark-sweep-113</strong> at: <a href='https://wandb.ai/mateogiraz27-ort/three-musketeers/runs/p9ljyf1q' target=\"_blank\">https://wandb.ai/mateogiraz27-ort/three-musketeers/runs/p9ljyf1q</a><br> View project at: <a href='https://wandb.ai/mateogiraz27-ort/three-musketeers' target=\"_blank\">https://wandb.ai/mateogiraz27-ort/three-musketeers</a><br>Synced 5 W&B file(s), 0 media file(s), 0 artifact file(s) and 0 other file(s)"
      ],
      "text/plain": [
       "<IPython.core.display.HTML object>"
      ]
     },
     "metadata": {},
     "output_type": "display_data"
    },
    {
     "data": {
      "text/html": [
       "Find logs at: <code>./wandb/run-20241214_111121-p9ljyf1q/logs</code>"
      ],
      "text/plain": [
       "<IPython.core.display.HTML object>"
      ]
     },
     "metadata": {},
     "output_type": "display_data"
    },
    {
     "name": "stderr",
     "output_type": "stream",
     "text": [
      "\u001b[34m\u001b[1mwandb\u001b[0m: Agent Starting Run: fe4ba0tu with config:\n",
      "\u001b[34m\u001b[1mwandb\u001b[0m: \talignment_weight: 18.438663674279507\n",
      "\u001b[34m\u001b[1mwandb\u001b[0m: \tmax_depth: 4\n",
      "\u001b[34m\u001b[1mwandb\u001b[0m: \tmoves_weight: 9.063741171448353\n",
      "\u001b[34m\u001b[1mwandb\u001b[0m: \ttrap_weight: 24.52270122482403\n"
     ]
    },
    {
     "data": {
      "text/html": [
       "Tracking run with wandb version 0.19.1"
      ],
      "text/plain": [
       "<IPython.core.display.HTML object>"
      ]
     },
     "metadata": {},
     "output_type": "display_data"
    },
    {
     "data": {
      "text/html": [
       "Run data is saved locally in <code>/Users/mateogiraz/Documents/MountainCarContinuous (1)/three-musketeers/wandb/run-20241214_111200-fe4ba0tu</code>"
      ],
      "text/plain": [
       "<IPython.core.display.HTML object>"
      ]
     },
     "metadata": {},
     "output_type": "display_data"
    },
    {
     "data": {
      "text/html": [
       "Syncing run <strong><a href='https://wandb.ai/mateogiraz27-ort/three-musketeers/runs/fe4ba0tu' target=\"_blank\">zesty-sweep-114</a></strong> to <a href='https://wandb.ai/mateogiraz27-ort/three-musketeers' target=\"_blank\">Weights & Biases</a> (<a href='https://wandb.me/developer-guide' target=\"_blank\">docs</a>)<br>Sweep page: <a href='https://wandb.ai/mateogiraz27-ort/three-musketeers/sweeps/txk212na' target=\"_blank\">https://wandb.ai/mateogiraz27-ort/three-musketeers/sweeps/txk212na</a>"
      ],
      "text/plain": [
       "<IPython.core.display.HTML object>"
      ]
     },
     "metadata": {},
     "output_type": "display_data"
    },
    {
     "data": {
      "text/html": [
       " View project at <a href='https://wandb.ai/mateogiraz27-ort/three-musketeers' target=\"_blank\">https://wandb.ai/mateogiraz27-ort/three-musketeers</a>"
      ],
      "text/plain": [
       "<IPython.core.display.HTML object>"
      ]
     },
     "metadata": {},
     "output_type": "display_data"
    },
    {
     "data": {
      "text/html": [
       " View sweep at <a href='https://wandb.ai/mateogiraz27-ort/three-musketeers/sweeps/txk212na' target=\"_blank\">https://wandb.ai/mateogiraz27-ort/three-musketeers/sweeps/txk212na</a>"
      ],
      "text/plain": [
       "<IPython.core.display.HTML object>"
      ]
     },
     "metadata": {},
     "output_type": "display_data"
    },
    {
     "data": {
      "text/html": [
       " View run at <a href='https://wandb.ai/mateogiraz27-ort/three-musketeers/runs/fe4ba0tu' target=\"_blank\">https://wandb.ai/mateogiraz27-ort/three-musketeers/runs/fe4ba0tu</a>"
      ],
      "text/plain": [
       "<IPython.core.display.HTML object>"
      ]
     },
     "metadata": {},
     "output_type": "display_data"
    },
    {
     "name": "stderr",
     "output_type": "stream",
     "text": [
      "100%|██████████| 100/100 [00:45<00:00,  2.18it/s]\n"
     ]
    },
    {
     "data": {
      "text/html": [],
      "text/plain": [
       "<IPython.core.display.HTML object>"
      ]
     },
     "metadata": {},
     "output_type": "display_data"
    },
    {
     "data": {
      "text/html": [
       "<br>    <style><br>        .wandb-row {<br>            display: flex;<br>            flex-direction: row;<br>            flex-wrap: wrap;<br>            justify-content: flex-start;<br>            width: 100%;<br>        }<br>        .wandb-col {<br>            display: flex;<br>            flex-direction: column;<br>            flex-basis: 100%;<br>            flex: 1;<br>            padding: 10px;<br>        }<br>    </style><br><div class=\"wandb-row\"><div class=\"wandb-col\"><h3>Run history:</h3><br/><table class=\"wandb\"><tr><td>agent_wins</td><td>▁</td></tr><tr><td>pete_wins</td><td>▁</td></tr><tr><td>win_rate</td><td>▁</td></tr></table><br/></div><div class=\"wandb-col\"><h3>Run summary:</h3><br/><table class=\"wandb\"><tr><td>agent_wins</td><td>90</td></tr><tr><td>pete_wins</td><td>10</td></tr><tr><td>win_rate</td><td>0.9</td></tr></table><br/></div></div>"
      ],
      "text/plain": [
       "<IPython.core.display.HTML object>"
      ]
     },
     "metadata": {},
     "output_type": "display_data"
    },
    {
     "data": {
      "text/html": [
       " View run <strong style=\"color:#cdcd00\">zesty-sweep-114</strong> at: <a href='https://wandb.ai/mateogiraz27-ort/three-musketeers/runs/fe4ba0tu' target=\"_blank\">https://wandb.ai/mateogiraz27-ort/three-musketeers/runs/fe4ba0tu</a><br> View project at: <a href='https://wandb.ai/mateogiraz27-ort/three-musketeers' target=\"_blank\">https://wandb.ai/mateogiraz27-ort/three-musketeers</a><br>Synced 5 W&B file(s), 0 media file(s), 0 artifact file(s) and 0 other file(s)"
      ],
      "text/plain": [
       "<IPython.core.display.HTML object>"
      ]
     },
     "metadata": {},
     "output_type": "display_data"
    },
    {
     "data": {
      "text/html": [
       "Find logs at: <code>./wandb/run-20241214_111200-fe4ba0tu/logs</code>"
      ],
      "text/plain": [
       "<IPython.core.display.HTML object>"
      ]
     },
     "metadata": {},
     "output_type": "display_data"
    },
    {
     "name": "stderr",
     "output_type": "stream",
     "text": [
      "\u001b[34m\u001b[1mwandb\u001b[0m: Agent Starting Run: aqwt9vna with config:\n",
      "\u001b[34m\u001b[1mwandb\u001b[0m: \talignment_weight: 12.639567899805442\n",
      "\u001b[34m\u001b[1mwandb\u001b[0m: \tmax_depth: 3\n",
      "\u001b[34m\u001b[1mwandb\u001b[0m: \tmoves_weight: 5.499881871000963\n",
      "\u001b[34m\u001b[1mwandb\u001b[0m: \ttrap_weight: 18.65887698999543\n"
     ]
    },
    {
     "data": {
      "text/html": [
       "Tracking run with wandb version 0.19.1"
      ],
      "text/plain": [
       "<IPython.core.display.HTML object>"
      ]
     },
     "metadata": {},
     "output_type": "display_data"
    },
    {
     "data": {
      "text/html": [
       "Run data is saved locally in <code>/Users/mateogiraz/Documents/MountainCarContinuous (1)/three-musketeers/wandb/run-20241214_111253-aqwt9vna</code>"
      ],
      "text/plain": [
       "<IPython.core.display.HTML object>"
      ]
     },
     "metadata": {},
     "output_type": "display_data"
    },
    {
     "data": {
      "text/html": [
       "Syncing run <strong><a href='https://wandb.ai/mateogiraz27-ort/three-musketeers/runs/aqwt9vna' target=\"_blank\">silvery-sweep-115</a></strong> to <a href='https://wandb.ai/mateogiraz27-ort/three-musketeers' target=\"_blank\">Weights & Biases</a> (<a href='https://wandb.me/developer-guide' target=\"_blank\">docs</a>)<br>Sweep page: <a href='https://wandb.ai/mateogiraz27-ort/three-musketeers/sweeps/txk212na' target=\"_blank\">https://wandb.ai/mateogiraz27-ort/three-musketeers/sweeps/txk212na</a>"
      ],
      "text/plain": [
       "<IPython.core.display.HTML object>"
      ]
     },
     "metadata": {},
     "output_type": "display_data"
    },
    {
     "data": {
      "text/html": [
       " View project at <a href='https://wandb.ai/mateogiraz27-ort/three-musketeers' target=\"_blank\">https://wandb.ai/mateogiraz27-ort/three-musketeers</a>"
      ],
      "text/plain": [
       "<IPython.core.display.HTML object>"
      ]
     },
     "metadata": {},
     "output_type": "display_data"
    },
    {
     "data": {
      "text/html": [
       " View sweep at <a href='https://wandb.ai/mateogiraz27-ort/three-musketeers/sweeps/txk212na' target=\"_blank\">https://wandb.ai/mateogiraz27-ort/three-musketeers/sweeps/txk212na</a>"
      ],
      "text/plain": [
       "<IPython.core.display.HTML object>"
      ]
     },
     "metadata": {},
     "output_type": "display_data"
    },
    {
     "data": {
      "text/html": [
       " View run at <a href='https://wandb.ai/mateogiraz27-ort/three-musketeers/runs/aqwt9vna' target=\"_blank\">https://wandb.ai/mateogiraz27-ort/three-musketeers/runs/aqwt9vna</a>"
      ],
      "text/plain": [
       "<IPython.core.display.HTML object>"
      ]
     },
     "metadata": {},
     "output_type": "display_data"
    },
    {
     "name": "stderr",
     "output_type": "stream",
     "text": [
      "100%|██████████| 100/100 [00:26<00:00,  3.73it/s]\n"
     ]
    },
    {
     "data": {
      "text/html": [],
      "text/plain": [
       "<IPython.core.display.HTML object>"
      ]
     },
     "metadata": {},
     "output_type": "display_data"
    },
    {
     "data": {
      "text/html": [
       "<br>    <style><br>        .wandb-row {<br>            display: flex;<br>            flex-direction: row;<br>            flex-wrap: wrap;<br>            justify-content: flex-start;<br>            width: 100%;<br>        }<br>        .wandb-col {<br>            display: flex;<br>            flex-direction: column;<br>            flex-basis: 100%;<br>            flex: 1;<br>            padding: 10px;<br>        }<br>    </style><br><div class=\"wandb-row\"><div class=\"wandb-col\"><h3>Run history:</h3><br/><table class=\"wandb\"><tr><td>agent_wins</td><td>▁</td></tr><tr><td>pete_wins</td><td>▁</td></tr><tr><td>win_rate</td><td>▁</td></tr></table><br/></div><div class=\"wandb-col\"><h3>Run summary:</h3><br/><table class=\"wandb\"><tr><td>agent_wins</td><td>88</td></tr><tr><td>pete_wins</td><td>12</td></tr><tr><td>win_rate</td><td>0.88</td></tr></table><br/></div></div>"
      ],
      "text/plain": [
       "<IPython.core.display.HTML object>"
      ]
     },
     "metadata": {},
     "output_type": "display_data"
    },
    {
     "data": {
      "text/html": [
       " View run <strong style=\"color:#cdcd00\">silvery-sweep-115</strong> at: <a href='https://wandb.ai/mateogiraz27-ort/three-musketeers/runs/aqwt9vna' target=\"_blank\">https://wandb.ai/mateogiraz27-ort/three-musketeers/runs/aqwt9vna</a><br> View project at: <a href='https://wandb.ai/mateogiraz27-ort/three-musketeers' target=\"_blank\">https://wandb.ai/mateogiraz27-ort/three-musketeers</a><br>Synced 5 W&B file(s), 0 media file(s), 0 artifact file(s) and 0 other file(s)"
      ],
      "text/plain": [
       "<IPython.core.display.HTML object>"
      ]
     },
     "metadata": {},
     "output_type": "display_data"
    },
    {
     "data": {
      "text/html": [
       "Find logs at: <code>./wandb/run-20241214_111253-aqwt9vna/logs</code>"
      ],
      "text/plain": [
       "<IPython.core.display.HTML object>"
      ]
     },
     "metadata": {},
     "output_type": "display_data"
    },
    {
     "name": "stderr",
     "output_type": "stream",
     "text": [
      "\u001b[34m\u001b[1mwandb\u001b[0m: Agent Starting Run: ioxq957w with config:\n",
      "\u001b[34m\u001b[1mwandb\u001b[0m: \talignment_weight: 9.553178173612864\n",
      "\u001b[34m\u001b[1mwandb\u001b[0m: \tmax_depth: 3\n",
      "\u001b[34m\u001b[1mwandb\u001b[0m: \tmoves_weight: 8.461041415489039\n",
      "\u001b[34m\u001b[1mwandb\u001b[0m: \ttrap_weight: 10.545498362788148\n"
     ]
    },
    {
     "data": {
      "text/html": [
       "Tracking run with wandb version 0.19.1"
      ],
      "text/plain": [
       "<IPython.core.display.HTML object>"
      ]
     },
     "metadata": {},
     "output_type": "display_data"
    },
    {
     "data": {
      "text/html": [
       "Run data is saved locally in <code>/Users/mateogiraz/Documents/MountainCarContinuous (1)/three-musketeers/wandb/run-20241214_111325-ioxq957w</code>"
      ],
      "text/plain": [
       "<IPython.core.display.HTML object>"
      ]
     },
     "metadata": {},
     "output_type": "display_data"
    },
    {
     "data": {
      "text/html": [
       "Syncing run <strong><a href='https://wandb.ai/mateogiraz27-ort/three-musketeers/runs/ioxq957w' target=\"_blank\">dark-sweep-116</a></strong> to <a href='https://wandb.ai/mateogiraz27-ort/three-musketeers' target=\"_blank\">Weights & Biases</a> (<a href='https://wandb.me/developer-guide' target=\"_blank\">docs</a>)<br>Sweep page: <a href='https://wandb.ai/mateogiraz27-ort/three-musketeers/sweeps/txk212na' target=\"_blank\">https://wandb.ai/mateogiraz27-ort/three-musketeers/sweeps/txk212na</a>"
      ],
      "text/plain": [
       "<IPython.core.display.HTML object>"
      ]
     },
     "metadata": {},
     "output_type": "display_data"
    },
    {
     "data": {
      "text/html": [
       " View project at <a href='https://wandb.ai/mateogiraz27-ort/three-musketeers' target=\"_blank\">https://wandb.ai/mateogiraz27-ort/three-musketeers</a>"
      ],
      "text/plain": [
       "<IPython.core.display.HTML object>"
      ]
     },
     "metadata": {},
     "output_type": "display_data"
    },
    {
     "data": {
      "text/html": [
       " View sweep at <a href='https://wandb.ai/mateogiraz27-ort/three-musketeers/sweeps/txk212na' target=\"_blank\">https://wandb.ai/mateogiraz27-ort/three-musketeers/sweeps/txk212na</a>"
      ],
      "text/plain": [
       "<IPython.core.display.HTML object>"
      ]
     },
     "metadata": {},
     "output_type": "display_data"
    },
    {
     "data": {
      "text/html": [
       " View run at <a href='https://wandb.ai/mateogiraz27-ort/three-musketeers/runs/ioxq957w' target=\"_blank\">https://wandb.ai/mateogiraz27-ort/three-musketeers/runs/ioxq957w</a>"
      ],
      "text/plain": [
       "<IPython.core.display.HTML object>"
      ]
     },
     "metadata": {},
     "output_type": "display_data"
    },
    {
     "name": "stderr",
     "output_type": "stream",
     "text": [
      "\u001b[34m\u001b[1mwandb\u001b[0m: Ctrl + C detected. Stopping sweep.\n"
     ]
    }
   ],
   "source": [
    "# Run the minimax sweep\n",
    "wandb.agent(\"txk212na\", function=sweep_minimax)\n"
   ]
  },
  {
   "cell_type": "code",
   "execution_count": 7,
   "metadata": {},
   "outputs": [
    {
     "name": "stderr",
     "output_type": "stream",
     "text": [
      "\u001b[34m\u001b[1mwandb\u001b[0m: Agent Starting Run: zw94tkn1 with config:\n",
      "\u001b[34m\u001b[1mwandb\u001b[0m: \talignment_weight: 15.321723244751654\n",
      "\u001b[34m\u001b[1mwandb\u001b[0m: \tmax_depth: 3\n",
      "\u001b[34m\u001b[1mwandb\u001b[0m: \tmoves_weight: 8.159652618968376\n",
      "\u001b[34m\u001b[1mwandb\u001b[0m: \ttrap_weight: 21.052735186081755\n"
     ]
    },
    {
     "data": {
      "text/html": [
       "Tracking run with wandb version 0.19.1"
      ],
      "text/plain": [
       "<IPython.core.display.HTML object>"
      ]
     },
     "metadata": {},
     "output_type": "display_data"
    },
    {
     "data": {
      "text/html": [
       "Run data is saved locally in <code>/Users/mateogiraz/Documents/MountainCarContinuous (1)/three-musketeers/wandb/run-20241214_113553-zw94tkn1</code>"
      ],
      "text/plain": [
       "<IPython.core.display.HTML object>"
      ]
     },
     "metadata": {},
     "output_type": "display_data"
    },
    {
     "data": {
      "text/html": [
       "Syncing run <strong><a href='https://wandb.ai/mateogiraz27-ort/three-musketeers/runs/zw94tkn1' target=\"_blank\">eternal-sweep-3</a></strong> to <a href='https://wandb.ai/mateogiraz27-ort/three-musketeers' target=\"_blank\">Weights & Biases</a> (<a href='https://wandb.me/developer-guide' target=\"_blank\">docs</a>)<br>Sweep page: <a href='https://wandb.ai/mateogiraz27-ort/three-musketeers/sweeps/btf8pcci' target=\"_blank\">https://wandb.ai/mateogiraz27-ort/three-musketeers/sweeps/btf8pcci</a>"
      ],
      "text/plain": [
       "<IPython.core.display.HTML object>"
      ]
     },
     "metadata": {},
     "output_type": "display_data"
    },
    {
     "data": {
      "text/html": [
       " View project at <a href='https://wandb.ai/mateogiraz27-ort/three-musketeers' target=\"_blank\">https://wandb.ai/mateogiraz27-ort/three-musketeers</a>"
      ],
      "text/plain": [
       "<IPython.core.display.HTML object>"
      ]
     },
     "metadata": {},
     "output_type": "display_data"
    },
    {
     "data": {
      "text/html": [
       " View sweep at <a href='https://wandb.ai/mateogiraz27-ort/three-musketeers/sweeps/btf8pcci' target=\"_blank\">https://wandb.ai/mateogiraz27-ort/three-musketeers/sweeps/btf8pcci</a>"
      ],
      "text/plain": [
       "<IPython.core.display.HTML object>"
      ]
     },
     "metadata": {},
     "output_type": "display_data"
    },
    {
     "data": {
      "text/html": [
       " View run at <a href='https://wandb.ai/mateogiraz27-ort/three-musketeers/runs/zw94tkn1' target=\"_blank\">https://wandb.ai/mateogiraz27-ort/three-musketeers/runs/zw94tkn1</a>"
      ],
      "text/plain": [
       "<IPython.core.display.HTML object>"
      ]
     },
     "metadata": {},
     "output_type": "display_data"
    },
    {
     "name": "stderr",
     "output_type": "stream",
     "text": [
      " 23%|██▎       | 23/100 [00:07<00:25,  3.03it/s]"
     ]
    }
   ],
   "source": [
    "# Run the expectimax sweep\n",
    "wandb.agent(\"btf8pcci\", function=sweep_expectimax)"
   ]
  }
 ],
 "metadata": {
  "kernelspec": {
   "display_name": "Python (Poetry)",
   "language": "python",
   "name": "poetry-env"
  },
  "language_info": {
   "codemirror_mode": {
    "name": "ipython",
    "version": 3
   },
   "file_extension": ".py",
   "mimetype": "text/x-python",
   "name": "python",
   "nbconvert_exporter": "python",
   "pygments_lexer": "ipython3",
   "version": "3.10.15"
  }
 },
 "nbformat": 4,
 "nbformat_minor": 2
}
