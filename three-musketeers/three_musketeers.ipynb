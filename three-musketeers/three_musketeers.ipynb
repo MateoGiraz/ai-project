{
 "cells": [
  {
   "cell_type": "markdown",
   "metadata": {},
   "source": [
    "Esta notebook contiene bloques de código útiles para el juego The Three Musketeers"
   ]
  },
  {
   "cell_type": "markdown",
   "metadata": {},
   "source": [
    "Juego original: https://www.onlinesologames.com/three-musketeers"
   ]
  },
  {
   "cell_type": "code",
   "execution_count": 1,
   "metadata": {},
   "outputs": [],
   "source": [
    "from three_musketeers_env import ThreeMusketeersEnv\n",
    "from captain_pete import CaptainPete\n",
    "from play import play_multiple_games, plot_results, play_vs_other_agent"
   ]
  },
  {
   "cell_type": "code",
   "execution_count": 2,
   "metadata": {},
   "outputs": [],
   "source": [
    "env = ThreeMusketeersEnv(grid_size=5, render_mode='rgb_array')\n",
    "self_player = 1"
   ]
  },
  {
   "cell_type": "markdown",
   "metadata": {},
   "source": [
    "Configuracion\n"
   ]
  },
  {
   "cell_type": "code",
   "execution_count": 3,
   "metadata": {},
   "outputs": [],
   "source": [
    "num_games_value = 100           #Número de juegos a jugar\n",
    "\n",
    "max_depth_value=3               #Profundidad máxima de la búsqueda\n",
    "\n",
    "alignment_weight_value=10       #Peso de la alineación de las piezas\n",
    "trap_weight_value=20            #Peso de caer en las trampas\n",
    "moves_weight_value=10           #Peso de la cantidad de movimientos posibles"
   ]
  },
  {
   "cell_type": "markdown",
   "metadata": {},
   "source": [
    "Minimax vs Captain Pete"
   ]
  },
  {
   "cell_type": "code",
   "execution_count": null,
   "metadata": {},
   "outputs": [],
   "source": [
    "from mini_max_agent import MiniMaxAgent\n",
    "\n",
    "agent1 = MiniMaxAgent(self_player,\n",
    "                      max_depth_value, \n",
    "                      alignment_weight_value, \n",
    "                      trap_weight_value, \n",
    "                      moves_weight_value)\n",
    "\n",
    "agent, pete_men = play_multiple_games(env, agent1, agent2=CaptainPete(2), num_games=num_games_value)\n",
    "plot_results(agent, pete_men)"
   ]
  },
  {
   "cell_type": "markdown",
   "metadata": {},
   "source": [
    "ExpectiMax vs Captain Pete"
   ]
  },
  {
   "cell_type": "code",
   "execution_count": null,
   "metadata": {},
   "outputs": [],
   "source": [
    "from expecti_max_agent import ExpectiMaxAgent\n",
    "\n",
    "agent1 = ExpectiMaxAgent(self_player,\n",
    "                        max_depth_value, \n",
    "                        alignment_weight_value, \n",
    "                        trap_weight_value, \n",
    "                        moves_weight_value)\n",
    "\n",
    "agent, pete_men = play_multiple_games(env, agent1, agent2=CaptainPete(2), num_games=num_games_value)\n",
    "plot_results(agent, pete_men)"
   ]
  }
 ],
 "metadata": {
  "kernelspec": {
   "display_name": ".venv",
   "language": "python",
   "name": "python3"
  },
  "language_info": {
   "codemirror_mode": {
    "name": "ipython",
    "version": 3
   },
   "file_extension": ".py",
   "mimetype": "text/x-python",
   "name": "python",
   "nbconvert_exporter": "python",
   "pygments_lexer": "ipython3",
   "version": "3.10.0"
  }
 },
 "nbformat": 4,
 "nbformat_minor": 2
}
